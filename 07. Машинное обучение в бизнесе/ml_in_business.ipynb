{
 "cells": [
  {
   "cell_type": "markdown",
   "metadata": {},
   "source": [
    "# 07. Машинное обучение в бизнесе"
   ]
  },
  {
   "cell_type": "markdown",
   "metadata": {},
   "source": [
    "# Выбор локации для скважины"
   ]
  },
  {
   "cell_type": "markdown",
   "metadata": {},
   "source": [
    "В рамках исследования, мы предполагаем, что работаем в добывающей компании «ГлавРосГосНефть». Нам необходимо решить, где бурить новую скважину.\n",
    "\n",
    "Нам предоставлены пробы нефти в трёх регионах: в каждом 10 000 месторождений, где измерили качество нефти и объём её запасов. \n",
    "\n",
    "**Цель:** Необходимо построить модель машинного обучения, которая поможет определить регион, где добыча принесёт наибольшую прибыль. Проанализировать возможную прибыль и риски требуется техникой *Bootstrap.*\n",
    "\n",
    "Шаги для выбора локации:\n",
    "\n",
    "- В избранном регионе ищут месторождения, для каждого определяют значения признаков;\n",
    "- Строят модель и оценивают объём запасов;\n",
    "- Выбирают месторождения с самым высокими оценками значений. Количество месторождений зависит от бюджета компании и стоимости разработки одной скважины;\n",
    "- Прибыль равна суммарной прибыли отобранных месторождений.\n",
    "\n",
    "Условия задачи:\n",
    "\n",
    "- Для обучения модели подходит только линейная регрессия (остальные — недостаточно предсказуемые).\n",
    "- При разведке региона исследуют 500 точек, из которых с помощью машинного обучения выбирают 200 лучших для разработки.\n",
    "- Бюджет на разработку скважин в регионе — 10 млрд рублей.\n",
    "- При нынешних ценах один баррель сырья приносит 450 рублей дохода. Доход с каждой единицы продукта составляет 450 тыс. рублей, поскольку объём указан в тысячах баррелей.\n",
    "- После оценки рисков нужно оставить лишь те регионы, в которых вероятность убытков меньше 2.5%. Среди них выбирают регион с наибольшей средней прибылью."
   ]
  },
  {
   "cell_type": "markdown",
   "metadata": {
    "toc": true
   },
   "source": [
    "<h1>Содержание<span class=\"tocSkip\"></span></h1>\n",
    "<div class=\"toc\"><ul class=\"toc-item\"><li><span><a href=\"#Загрузка-и-подготовка-данных\" data-toc-modified-id=\"Загрузка-и-подготовка-данных-1\"><span class=\"toc-item-num\">1&nbsp;&nbsp;</span>Загрузка и подготовка данных</a></span></li><li><span><a href=\"#Обучение-и-проверка-моделей\" data-toc-modified-id=\"Обучение-и-проверка-моделей-2\"><span class=\"toc-item-num\">2&nbsp;&nbsp;</span>Обучение и проверка моделей</a></span><ul class=\"toc-item\"><li><span><a href=\"#Обучение-и-проверка-модели-для-региона-№1\" data-toc-modified-id=\"Обучение-и-проверка-модели-для-региона-№1-2.1\"><span class=\"toc-item-num\">2.1&nbsp;&nbsp;</span>Обучение и проверка модели для региона №1</a></span></li><li><span><a href=\"#Обучение-и-проверка-модели-для-региона-№2\" data-toc-modified-id=\"Обучение-и-проверка-модели-для-региона-№2-2.2\"><span class=\"toc-item-num\">2.2&nbsp;&nbsp;</span>Обучение и проверка модели для региона №2</a></span></li><li><span><a href=\"#Обучение-и-проверка-модели-для-региона-№3\" data-toc-modified-id=\"Обучение-и-проверка-модели-для-региона-№3-2.3\"><span class=\"toc-item-num\">2.3&nbsp;&nbsp;</span>Обучение и проверка модели для региона №3</a></span></li></ul></li><li><span><a href=\"#Подготовка-к-расчёту-прибыли\" data-toc-modified-id=\"Подготовка-к-расчёту-прибыли-3\"><span class=\"toc-item-num\">3&nbsp;&nbsp;</span>Подготовка к расчёту прибыли</a></span></li><li><span><a href=\"#Расчёт-прибыли-и-рисков\" data-toc-modified-id=\"Расчёт-прибыли-и-рисков-4\"><span class=\"toc-item-num\">4&nbsp;&nbsp;</span>Расчёт прибыли и рисков</a></span></li></ul></div>"
   ]
  },
  {
   "cell_type": "code",
   "execution_count": 1,
   "metadata": {},
   "outputs": [],
   "source": [
    "import pandas as pd\n",
    "import numpy as np\n",
    "import matplotlib.pyplot as plt\n",
    "from scipy import stats as st\n",
    "\n",
    "from sklearn.model_selection import train_test_split\n",
    "from sklearn.metrics import mean_squared_error, r2_score, mean_absolute_error\n",
    "from sklearn.linear_model import LinearRegression\n",
    "import warnings"
   ]
  },
  {
   "cell_type": "code",
   "execution_count": 2,
   "metadata": {},
   "outputs": [],
   "source": [
    "warnings.filterwarnings('ignore')\n",
    "state = np.random.RandomState(12345)"
   ]
  },
  {
   "cell_type": "markdown",
   "metadata": {},
   "source": [
    "## Загрузка и подготовка данных"
   ]
  },
  {
   "cell_type": "markdown",
   "metadata": {},
   "source": [
    "Загрузим данные геологоразведки трех регионов."
   ]
  },
  {
   "cell_type": "code",
   "execution_count": 3,
   "metadata": {},
   "outputs": [],
   "source": [
    "df1 = pd.read_csv('geo_data_0.csv')\n",
    "df2 = pd.read_csv('geo_data_1.csv')\n",
    "df3 = pd.read_csv('geo_data_2.csv')"
   ]
  },
  {
   "cell_type": "code",
   "execution_count": 4,
   "metadata": {},
   "outputs": [
    {
     "data": {
      "text/html": [
       "<div>\n",
       "<style scoped>\n",
       "    .dataframe tbody tr th:only-of-type {\n",
       "        vertical-align: middle;\n",
       "    }\n",
       "\n",
       "    .dataframe tbody tr th {\n",
       "        vertical-align: top;\n",
       "    }\n",
       "\n",
       "    .dataframe thead th {\n",
       "        text-align: right;\n",
       "    }\n",
       "</style>\n",
       "<table border=\"1\" class=\"dataframe\">\n",
       "  <thead>\n",
       "    <tr style=\"text-align: right;\">\n",
       "      <th></th>\n",
       "      <th>id</th>\n",
       "      <th>f0</th>\n",
       "      <th>f1</th>\n",
       "      <th>f2</th>\n",
       "      <th>product</th>\n",
       "    </tr>\n",
       "  </thead>\n",
       "  <tbody>\n",
       "    <tr>\n",
       "      <th>0</th>\n",
       "      <td>txEyH</td>\n",
       "      <td>0.705745</td>\n",
       "      <td>-0.497823</td>\n",
       "      <td>1.221170</td>\n",
       "      <td>105.280062</td>\n",
       "    </tr>\n",
       "    <tr>\n",
       "      <th>1</th>\n",
       "      <td>2acmU</td>\n",
       "      <td>1.334711</td>\n",
       "      <td>-0.340164</td>\n",
       "      <td>4.365080</td>\n",
       "      <td>73.037750</td>\n",
       "    </tr>\n",
       "    <tr>\n",
       "      <th>2</th>\n",
       "      <td>409Wp</td>\n",
       "      <td>1.022732</td>\n",
       "      <td>0.151990</td>\n",
       "      <td>1.419926</td>\n",
       "      <td>85.265647</td>\n",
       "    </tr>\n",
       "    <tr>\n",
       "      <th>3</th>\n",
       "      <td>iJLyR</td>\n",
       "      <td>-0.032172</td>\n",
       "      <td>0.139033</td>\n",
       "      <td>2.978566</td>\n",
       "      <td>168.620776</td>\n",
       "    </tr>\n",
       "    <tr>\n",
       "      <th>4</th>\n",
       "      <td>Xdl7t</td>\n",
       "      <td>1.988431</td>\n",
       "      <td>0.155413</td>\n",
       "      <td>4.751769</td>\n",
       "      <td>154.036647</td>\n",
       "    </tr>\n",
       "  </tbody>\n",
       "</table>\n",
       "</div>"
      ],
      "text/plain": [
       "      id        f0        f1        f2     product\n",
       "0  txEyH  0.705745 -0.497823  1.221170  105.280062\n",
       "1  2acmU  1.334711 -0.340164  4.365080   73.037750\n",
       "2  409Wp  1.022732  0.151990  1.419926   85.265647\n",
       "3  iJLyR -0.032172  0.139033  2.978566  168.620776\n",
       "4  Xdl7t  1.988431  0.155413  4.751769  154.036647"
      ]
     },
     "execution_count": 4,
     "metadata": {},
     "output_type": "execute_result"
    }
   ],
   "source": [
    "df1.head()"
   ]
  },
  {
   "cell_type": "markdown",
   "metadata": {},
   "source": [
    "**Признаки:**\n",
    "\n",
    "- `id` — уникальный идентификатор скважины\n",
    "- `f0`, `f1`, `f2` — характеристики скважин\n",
    "\n",
    "**Целевой признак:**\n",
    "\n",
    "- `product` — объём запасов в скважине (тыс. баррелей)"
   ]
  },
  {
   "cell_type": "markdown",
   "metadata": {},
   "source": [
    "Теперь посмотрим на общую информацию о таблице."
   ]
  },
  {
   "cell_type": "code",
   "execution_count": 5,
   "metadata": {},
   "outputs": [
    {
     "name": "stdout",
     "output_type": "stream",
     "text": [
      "<class 'pandas.core.frame.DataFrame'>\n",
      "RangeIndex: 100000 entries, 0 to 99999\n",
      "Data columns (total 5 columns):\n",
      " #   Column   Non-Null Count   Dtype  \n",
      "---  ------   --------------   -----  \n",
      " 0   id       100000 non-null  object \n",
      " 1   f0       100000 non-null  float64\n",
      " 2   f1       100000 non-null  float64\n",
      " 3   f2       100000 non-null  float64\n",
      " 4   product  100000 non-null  float64\n",
      "dtypes: float64(4), object(1)\n",
      "memory usage: 3.8+ MB\n"
     ]
    }
   ],
   "source": [
    "df1.info()"
   ]
  },
  {
   "cell_type": "markdown",
   "metadata": {},
   "source": [
    "Видим, что пропущенных значений нет. Типы значений признаков корректны, преобразование не требуется."
   ]
  },
  {
   "cell_type": "markdown",
   "metadata": {},
   "source": [
    "Далее посмотрим на информацию о втором и третьем регионе."
   ]
  },
  {
   "cell_type": "code",
   "execution_count": 6,
   "metadata": {},
   "outputs": [
    {
     "data": {
      "text/html": [
       "<div>\n",
       "<style scoped>\n",
       "    .dataframe tbody tr th:only-of-type {\n",
       "        vertical-align: middle;\n",
       "    }\n",
       "\n",
       "    .dataframe tbody tr th {\n",
       "        vertical-align: top;\n",
       "    }\n",
       "\n",
       "    .dataframe thead th {\n",
       "        text-align: right;\n",
       "    }\n",
       "</style>\n",
       "<table border=\"1\" class=\"dataframe\">\n",
       "  <thead>\n",
       "    <tr style=\"text-align: right;\">\n",
       "      <th></th>\n",
       "      <th>id</th>\n",
       "      <th>f0</th>\n",
       "      <th>f1</th>\n",
       "      <th>f2</th>\n",
       "      <th>product</th>\n",
       "    </tr>\n",
       "  </thead>\n",
       "  <tbody>\n",
       "    <tr>\n",
       "      <th>0</th>\n",
       "      <td>kBEdx</td>\n",
       "      <td>-15.001348</td>\n",
       "      <td>-8.276000</td>\n",
       "      <td>-0.005876</td>\n",
       "      <td>3.179103</td>\n",
       "    </tr>\n",
       "    <tr>\n",
       "      <th>1</th>\n",
       "      <td>62mP7</td>\n",
       "      <td>14.272088</td>\n",
       "      <td>-3.475083</td>\n",
       "      <td>0.999183</td>\n",
       "      <td>26.953261</td>\n",
       "    </tr>\n",
       "    <tr>\n",
       "      <th>2</th>\n",
       "      <td>vyE1P</td>\n",
       "      <td>6.263187</td>\n",
       "      <td>-5.948386</td>\n",
       "      <td>5.001160</td>\n",
       "      <td>134.766305</td>\n",
       "    </tr>\n",
       "    <tr>\n",
       "      <th>3</th>\n",
       "      <td>KcrkZ</td>\n",
       "      <td>-13.081196</td>\n",
       "      <td>-11.506057</td>\n",
       "      <td>4.999415</td>\n",
       "      <td>137.945408</td>\n",
       "    </tr>\n",
       "    <tr>\n",
       "      <th>4</th>\n",
       "      <td>AHL4O</td>\n",
       "      <td>12.702195</td>\n",
       "      <td>-8.147433</td>\n",
       "      <td>5.004363</td>\n",
       "      <td>134.766305</td>\n",
       "    </tr>\n",
       "  </tbody>\n",
       "</table>\n",
       "</div>"
      ],
      "text/plain": [
       "      id         f0         f1        f2     product\n",
       "0  kBEdx -15.001348  -8.276000 -0.005876    3.179103\n",
       "1  62mP7  14.272088  -3.475083  0.999183   26.953261\n",
       "2  vyE1P   6.263187  -5.948386  5.001160  134.766305\n",
       "3  KcrkZ -13.081196 -11.506057  4.999415  137.945408\n",
       "4  AHL4O  12.702195  -8.147433  5.004363  134.766305"
      ]
     },
     "execution_count": 6,
     "metadata": {},
     "output_type": "execute_result"
    }
   ],
   "source": [
    "# второй регион\n",
    "df2.head()"
   ]
  },
  {
   "cell_type": "code",
   "execution_count": 7,
   "metadata": {},
   "outputs": [
    {
     "name": "stdout",
     "output_type": "stream",
     "text": [
      "<class 'pandas.core.frame.DataFrame'>\n",
      "RangeIndex: 100000 entries, 0 to 99999\n",
      "Data columns (total 5 columns):\n",
      " #   Column   Non-Null Count   Dtype  \n",
      "---  ------   --------------   -----  \n",
      " 0   id       100000 non-null  object \n",
      " 1   f0       100000 non-null  float64\n",
      " 2   f1       100000 non-null  float64\n",
      " 3   f2       100000 non-null  float64\n",
      " 4   product  100000 non-null  float64\n",
      "dtypes: float64(4), object(1)\n",
      "memory usage: 3.8+ MB\n"
     ]
    }
   ],
   "source": [
    "df2.info()"
   ]
  },
  {
   "cell_type": "code",
   "execution_count": 8,
   "metadata": {},
   "outputs": [
    {
     "data": {
      "text/html": [
       "<div>\n",
       "<style scoped>\n",
       "    .dataframe tbody tr th:only-of-type {\n",
       "        vertical-align: middle;\n",
       "    }\n",
       "\n",
       "    .dataframe tbody tr th {\n",
       "        vertical-align: top;\n",
       "    }\n",
       "\n",
       "    .dataframe thead th {\n",
       "        text-align: right;\n",
       "    }\n",
       "</style>\n",
       "<table border=\"1\" class=\"dataframe\">\n",
       "  <thead>\n",
       "    <tr style=\"text-align: right;\">\n",
       "      <th></th>\n",
       "      <th>id</th>\n",
       "      <th>f0</th>\n",
       "      <th>f1</th>\n",
       "      <th>f2</th>\n",
       "      <th>product</th>\n",
       "    </tr>\n",
       "  </thead>\n",
       "  <tbody>\n",
       "    <tr>\n",
       "      <th>0</th>\n",
       "      <td>fwXo0</td>\n",
       "      <td>-1.146987</td>\n",
       "      <td>0.963328</td>\n",
       "      <td>-0.828965</td>\n",
       "      <td>27.758673</td>\n",
       "    </tr>\n",
       "    <tr>\n",
       "      <th>1</th>\n",
       "      <td>WJtFt</td>\n",
       "      <td>0.262778</td>\n",
       "      <td>0.269839</td>\n",
       "      <td>-2.530187</td>\n",
       "      <td>56.069697</td>\n",
       "    </tr>\n",
       "    <tr>\n",
       "      <th>2</th>\n",
       "      <td>ovLUW</td>\n",
       "      <td>0.194587</td>\n",
       "      <td>0.289035</td>\n",
       "      <td>-5.586433</td>\n",
       "      <td>62.871910</td>\n",
       "    </tr>\n",
       "    <tr>\n",
       "      <th>3</th>\n",
       "      <td>q6cA6</td>\n",
       "      <td>2.236060</td>\n",
       "      <td>-0.553760</td>\n",
       "      <td>0.930038</td>\n",
       "      <td>114.572842</td>\n",
       "    </tr>\n",
       "    <tr>\n",
       "      <th>4</th>\n",
       "      <td>WPMUX</td>\n",
       "      <td>-0.515993</td>\n",
       "      <td>1.716266</td>\n",
       "      <td>5.899011</td>\n",
       "      <td>149.600746</td>\n",
       "    </tr>\n",
       "  </tbody>\n",
       "</table>\n",
       "</div>"
      ],
      "text/plain": [
       "      id        f0        f1        f2     product\n",
       "0  fwXo0 -1.146987  0.963328 -0.828965   27.758673\n",
       "1  WJtFt  0.262778  0.269839 -2.530187   56.069697\n",
       "2  ovLUW  0.194587  0.289035 -5.586433   62.871910\n",
       "3  q6cA6  2.236060 -0.553760  0.930038  114.572842\n",
       "4  WPMUX -0.515993  1.716266  5.899011  149.600746"
      ]
     },
     "execution_count": 8,
     "metadata": {},
     "output_type": "execute_result"
    }
   ],
   "source": [
    "# третий регион\n",
    "df3.head()"
   ]
  },
  {
   "cell_type": "code",
   "execution_count": 9,
   "metadata": {},
   "outputs": [
    {
     "name": "stdout",
     "output_type": "stream",
     "text": [
      "<class 'pandas.core.frame.DataFrame'>\n",
      "RangeIndex: 100000 entries, 0 to 99999\n",
      "Data columns (total 5 columns):\n",
      " #   Column   Non-Null Count   Dtype  \n",
      "---  ------   --------------   -----  \n",
      " 0   id       100000 non-null  object \n",
      " 1   f0       100000 non-null  float64\n",
      " 2   f1       100000 non-null  float64\n",
      " 3   f2       100000 non-null  float64\n",
      " 4   product  100000 non-null  float64\n",
      "dtypes: float64(4), object(1)\n",
      "memory usage: 3.8+ MB\n"
     ]
    }
   ],
   "source": [
    "df3.info()"
   ]
  },
  {
   "cell_type": "markdown",
   "metadata": {},
   "source": [
    "**Вывод**\n",
    "\n",
    "Загрузили данные о нефтяных скважинах трех регионов. Определили, что пропусков в данных нет, типы значений признаков не требуют преобразования. Данные готовы к построению моделей."
   ]
  },
  {
   "cell_type": "markdown",
   "metadata": {},
   "source": [
    "## Обучение и проверка моделей"
   ]
  },
  {
   "cell_type": "markdown",
   "metadata": {},
   "source": [
    "Разделим исходные данные на обучающую и валидационную выборки в соотношении 75%:25%. Для этого, сначала отделим целевой признак (`product`) от остальных. Признак, содержащий уникальный идентификатор скважины (`id`), избыточен для обучаемой модели, поэтому уберем его из нашего исследования. Данные действия производим для всех трех регионов."
   ]
  },
  {
   "cell_type": "markdown",
   "metadata": {},
   "source": [
    "### Обучение и проверка модели для региона №1"
   ]
  },
  {
   "cell_type": "markdown",
   "metadata": {},
   "source": [
    "Выделяем целевой признак для первого региона."
   ]
  },
  {
   "cell_type": "code",
   "execution_count": 10,
   "metadata": {},
   "outputs": [],
   "source": [
    "target1 = df1['product']\n",
    "features1 = df1.drop(['id','product'] , axis=1)"
   ]
  },
  {
   "cell_type": "markdown",
   "metadata": {},
   "source": [
    "Делим данные первого региона на тренировочную и валидационную выборки."
   ]
  },
  {
   "cell_type": "code",
   "execution_count": 11,
   "metadata": {},
   "outputs": [],
   "source": [
    "features1_train, features1_valid, target1_train, target1_valid = train_test_split(features1, \n",
    "                                                                              target1, \n",
    "                                                                              test_size=0.25, \n",
    "                                                                              random_state=state)"
   ]
  },
  {
   "cell_type": "markdown",
   "metadata": {},
   "source": [
    "Обучаем модель и предсказываем значения запасов сырья в скважине."
   ]
  },
  {
   "cell_type": "code",
   "execution_count": 12,
   "metadata": {},
   "outputs": [],
   "source": [
    "model1 = LinearRegression()\n",
    "model1.fit(features1_train, target1_train)\n",
    "predicted1_valid = model1.predict(features1_valid)"
   ]
  },
  {
   "cell_type": "markdown",
   "metadata": {},
   "source": [
    "Найдем средний запас предсказанного сырья и оценим качество модели (метрики RMSE, MAE и R2) для региона №1. Посмотрим на распределение запасов нефти в скважинах (на валидационной выборке). Для этого напишем функцию **'print_info'**."
   ]
  },
  {
   "cell_type": "code",
   "execution_count": 13,
   "metadata": {},
   "outputs": [],
   "source": [
    "def print_info(target, predicted, num_reg):\n",
    "    print('Средний запас сырья в регионе №1 (реальный):', target.mean())\n",
    "    print(f'Средний запас предсказанного сырья в регионе №{num_reg}:', predicted.mean())\n",
    "    mse = mean_squared_error(target, predicted)\n",
    "    r2 = r2_score(target, predicted)\n",
    "    mae = mean_absolute_error(target, predicted)\n",
    "    print('RMSE модели:', mse**0.5)\n",
    "    print('MAE:', mae)\n",
    "    print('R2-score:', r2)\n",
    "    plt.figure(figsize=(16, 5))\n",
    "    plt.grid()\n",
    "    plt.hist([pd.Series(predicted), pd.Series(target)], bins=20, label=['Предсказанные значения', 'Реальные значения'])\n",
    "    plt.xlabel('Объем запасов нефти в скважине (тыс. баррелей)')\n",
    "    plt.ylabel('Количество объектов')\n",
    "    plt.title(f'Распределение объемов запасов нефти в скважинах региона №{num_reg}')\n",
    "    plt.legend(loc='upper right')\n",
    "    plt.show()"
   ]
  },
  {
   "cell_type": "code",
   "execution_count": 14,
   "metadata": {},
   "outputs": [
    {
     "name": "stdout",
     "output_type": "stream",
     "text": [
      "Средний запас сырья в регионе №1 (реальный): 92.07859674082927\n",
      "Средний запас предсказанного сырья в регионе №1: 92.59256778438035\n",
      "RMSE модели: 37.5794217150813\n",
      "MAE: 30.919600777151313\n",
      "R2-score: 0.27994321524487786\n"
     ]
    },
    {
     "data": {
      "image/png": "[encoded data removed]",
      "text/plain": [
       "<Figure size 1152x360 with 1 Axes>"
      ]
     },
     "metadata": {
      "needs_background": "light"
     },
     "output_type": "display_data"
    }
   ],
   "source": [
    "print_info(target1_valid, predicted1_valid, 1)"
   ]
  },
  {
   "cell_type": "markdown",
   "metadata": {},
   "source": [
    "**Вывод**\n",
    "\n",
    "Средние запасы нефти по всем скважинам региона модель предсказывает корректно (~92.5). Тем не менее, модель получилась не высокого качества, что подтверждается метрикой **R2-score = 0.28**, и высокими значениями средних ошибок: **RMSE = 37.58** и **MAE = 30.92**. Такие величины ошибок (разброс предсказанных значений от реальных) могут быть связаны с: \n",
    "- ошибочными данными (признаками объектов) в датафрейме;\n",
    "- недостаточным количеством признаков объектов в датафрейме, из-за чего, модель плохо отрабатывает на малых (< 50) и больших (> 125) значениях;\n",
    "- необходимостью применения другой модели машинного обучения."
   ]
  },
  {
   "cell_type": "markdown",
   "metadata": {},
   "source": [
    "### Обучение и проверка модели для региона №2"
   ]
  },
  {
   "cell_type": "code",
   "execution_count": 15,
   "metadata": {},
   "outputs": [],
   "source": [
    "# выделяем целевой признак для второго региона\n",
    "target2 = df2['product']\n",
    "features2 = df2.drop(['id','product'] , axis=1)"
   ]
  },
  {
   "cell_type": "code",
   "execution_count": 16,
   "metadata": {},
   "outputs": [],
   "source": [
    "# делим данные второго региона на тренировочную и валидационную выборки\n",
    "features2_train, features2_valid, target2_train, target2_valid = train_test_split(features2, \n",
    "                                                                              target2, \n",
    "                                                                              test_size=0.25, \n",
    "                                                                              random_state=state)"
   ]
  },
  {
   "cell_type": "code",
   "execution_count": 17,
   "metadata": {},
   "outputs": [],
   "source": [
    "# обучаем модель и предсказываем значения запасов сырья в скважине\n",
    "model2 = LinearRegression()\n",
    "model2.fit(features2_train, target2_train)\n",
    "predicted2_valid = model2.predict(features2_valid)"
   ]
  },
  {
   "cell_type": "markdown",
   "metadata": {},
   "source": [
    "Найдем средний запас предсказанного сырья и оценим качество модели (метрики RMSE, MAE и R2) для региона №2. Посмотрим на распределение запасов нефти в скважинах (на валидационной выборке). "
   ]
  },
  {
   "cell_type": "code",
   "execution_count": 18,
   "metadata": {},
   "outputs": [
    {
     "name": "stdout",
     "output_type": "stream",
     "text": [
      "Средний запас сырья в регионе №1 (реальный): 68.77162424984647\n",
      "Средний запас предсказанного сырья в регионе №2: 68.76995145799754\n",
      "RMSE модели: 0.8897367737680649\n",
      "MAE: 0.7172924802490798\n",
      "R2-score: 0.9996264922748638\n"
     ]
    },
    {
     "data": {
      "image/png": "[encoded data removed]",
      "text/plain": [
       "<Figure size 1152x360 with 1 Axes>"
      ]
     },
     "metadata": {
      "needs_background": "light"
     },
     "output_type": "display_data"
    }
   ],
   "source": [
    "print_info(target2_valid, predicted2_valid, 2)"
   ]
  },
  {
   "cell_type": "markdown",
   "metadata": {},
   "source": [
    "**Вывод**\n",
    "\n",
    "Средние запасы нефти по всем скважинам региона №2 модель также предсказывает корректно (~68.8). В отличие от модели, построенной для региона №1, модель для региона №2 получилась высокого качества, что подтверждается метрикой **R2-score = 0.999**, и низкими значениями средних ошибок: **RMSE = 0.89** и **MAE = 0.72**. \n",
    "\n",
    "Столь низкие значения ошибок заставляют задуматься о корректности данных, с этим вопросом требуется обратиться к коллегам, предоставившим выборку для разъяснений."
   ]
  },
  {
   "cell_type": "markdown",
   "metadata": {},
   "source": [
    "### Обучение и проверка модели для региона №3"
   ]
  },
  {
   "cell_type": "code",
   "execution_count": 19,
   "metadata": {},
   "outputs": [],
   "source": [
    "# выделяем целевой признак для третьего региона\n",
    "target3 = df3['product']\n",
    "features3 = df3.drop(['id','product'] , axis=1)"
   ]
  },
  {
   "cell_type": "code",
   "execution_count": 20,
   "metadata": {},
   "outputs": [],
   "source": [
    "# делим данные третьего региона на тренировочную и валидационную выборки\n",
    "features3_train, features3_valid, target3_train, target3_valid = train_test_split(features3, \n",
    "                                                                              target3, \n",
    "                                                                              test_size=0.25, \n",
    "                                                                              random_state=state)"
   ]
  },
  {
   "cell_type": "code",
   "execution_count": 21,
   "metadata": {},
   "outputs": [],
   "source": [
    "model3 = LinearRegression()\n",
    "model3.fit(features3_train, target3_train)\n",
    "predicted3_valid = model3.predict(features3_valid)"
   ]
  },
  {
   "cell_type": "markdown",
   "metadata": {},
   "source": [
    "Найдем средний запас предсказанного сырья и оценим качество модели (метрики RMSE, MAE и R2) для региона №3. Посмотрим на распределение запасов нефти в скважинах (на валидационной выборке). "
   ]
  },
  {
   "cell_type": "code",
   "execution_count": 22,
   "metadata": {},
   "outputs": [
    {
     "name": "stdout",
     "output_type": "stream",
     "text": [
      "Средний запас сырья в регионе №1 (реальный): 94.74895871720241\n",
      "Средний запас предсказанного сырья в регионе №3: 95.087528122523\n",
      "RMSE модели: 39.958042459521614\n",
      "MAE: 32.796102875544854\n",
      "R2-score: 0.20261508041163934\n"
     ]
    },
    {
     "data": {
      "image/png": "[encoded data removed]",
      "text/plain": [
       "<Figure size 1152x360 with 1 Axes>"
      ]
     },
     "metadata": {
      "needs_background": "light"
     },
     "output_type": "display_data"
    }
   ],
   "source": [
    "print_info(target3_valid, predicted3_valid, 3)"
   ]
  },
  {
   "cell_type": "markdown",
   "metadata": {},
   "source": [
    "**Вывод**\n",
    "\n",
    "Средние запасы нефти по всем скважинам региона модель предсказывает корректно (~95). Тем не менее, модель получилась не высокого качества, что подтверждается метрикой **R2-score = 0.2**, и высокими значениями средних ошибок: **RMSE = 39.96** и **MAE = 32.8**. Причины таких величин ошибок (разброс предсказанных значений от реальных) такие же, как и для региона №1. Модель плохо отрабатывает на малых (< 60) и больших (> 125) значениях."
   ]
  },
  {
   "cell_type": "markdown",
   "metadata": {},
   "source": [
    "## Подготовка к расчёту прибыли"
   ]
  },
  {
   "cell_type": "markdown",
   "metadata": {},
   "source": [
    "По условию известно, что общий бюджет на разработку скважин в регионе (`TOTAL_BUDGET`) составляет 10 млрд. рублей. При разведке региона исследуют 500 точек, из которых с помощью машинного обучения выбирают 200 лучших для разработки (`NUM_OILWELL`)."
   ]
  },
  {
   "cell_type": "code",
   "execution_count": 23,
   "metadata": {},
   "outputs": [],
   "source": [
    "TOTAL_BUDGET = 10000000000\n",
    "NUM_OILWELL = 200"
   ]
  },
  {
   "cell_type": "markdown",
   "metadata": {},
   "source": [
    "Рассчитаем бюджет на разработку одной скважины `budget_per_one_oilwell`:"
   ]
  },
  {
   "cell_type": "code",
   "execution_count": 24,
   "metadata": {},
   "outputs": [
    {
     "data": {
      "text/plain": [
       "50000000.0"
      ]
     },
     "execution_count": 24,
     "metadata": {},
     "output_type": "execute_result"
    }
   ],
   "source": [
    "budget_per_one_oilwell = TOTAL_BUDGET / NUM_OILWELL\n",
    "budget_per_one_oilwell"
   ]
  },
  {
   "cell_type": "markdown",
   "metadata": {},
   "source": [
    "Получили, что **бюджет для разработки одной скважины составляет 50 млн. рублей**. Также нам известно, что доход с каждой единицы продукта составляет 450 тыс. рублей (`REVENUE_PER_UNIT`). Следовательно, мы можем рассчитать достаточный объём сырья для безубыточной разработки новой скважины (`min_amount_oil`)."
   ]
  },
  {
   "cell_type": "code",
   "execution_count": 25,
   "metadata": {},
   "outputs": [
    {
     "data": {
      "text/plain": [
       "111.11111111111111"
      ]
     },
     "execution_count": 25,
     "metadata": {},
     "output_type": "execute_result"
    }
   ],
   "source": [
    "REVENUE_PER_UNIT = 450000\n",
    "min_amount_oil = budget_per_one_oilwell / REVENUE_PER_UNIT\n",
    "min_amount_oil"
   ]
  },
  {
   "cell_type": "markdown",
   "metadata": {},
   "source": [
    "Выяснили, что для того, чтобы вложения в разработку скважины окупились, в ней должно содержаться **не менее 111.11 тысяч баррелей нефти**."
   ]
  },
  {
   "cell_type": "markdown",
   "metadata": {},
   "source": [
    "**Вывод**\n",
    "\n",
    "Во всех трех рассматриваемых регионах присутствует большое количество скважин с объемом сырья в них более 111 тыс. баррелей. Однако, посмотрев на обученные модели для регионов №1 и №3, мы определили, что они дают предсказания целевого признака с значительными ошибками для больших значений (> 125 тыс. баррелей). По этой причине, можем предположить, что для этих регионов риски убыточных вложений инвестиций будут значительно выше, чем для региона №2."
   ]
  },
  {
   "cell_type": "markdown",
   "metadata": {},
   "source": [
    "## Расчёт прибыли и рисков "
   ]
  },
  {
   "cell_type": "markdown",
   "metadata": {},
   "source": [
    "Рассчитаем прибыль от вложения инвестиций в разработку нефтяных скважин для трех регионов. Напишем функцию для расчёта прибыли по выбранным скважинам и предсказаниям модели (**'revenue'**). Данная функция:\n",
    "- выберает скважины с наибольшими значениями предсказаний;\n",
    "- суммирует целевое значение объёма сырья, соответствующее этим предсказаниям;\n",
    "- наконец, рассчитывает прибыль для полученного объёма сырья."
   ]
  },
  {
   "cell_type": "code",
   "execution_count": 26,
   "metadata": {},
   "outputs": [],
   "source": [
    "def revenue(target, predict, count):\n",
    "    probs_sorted = predict.sort_values(ascending=False)\n",
    "    selected = target[probs_sorted.index][:count]\n",
    "    return REVENUE_PER_UNIT * selected.sum()"
   ]
  },
  {
   "cell_type": "markdown",
   "metadata": {},
   "source": [
    "Функция **'oil_production'** необходима для:\n",
    "- расчета возможной средней прибыли от разработки 200 лучших (по предсказанным показателям целевого признака) нефтяных скважин;\n",
    "- нахождения 95%-го доверительного интервала для возможной средней прибыли;\n",
    "- расчета риска убыточных вложений в разработку нефтяных скважин региона."
   ]
  },
  {
   "cell_type": "code",
   "execution_count": 27,
   "metadata": {},
   "outputs": [],
   "source": [
    "def oil_production(model, target, features):\n",
    "    values = []\n",
    "    predict = pd.Series(model.predict(features))\n",
    "    for i in range(1000):\n",
    "        target_subsample = target.sample(500, replace=True, random_state=state)\n",
    "        predict_subsample = predict[target_subsample.index]\n",
    "        values.append(revenue(target_subsample, predict_subsample, 200))\n",
    "\n",
    "    values = pd.Series(values)\n",
    "\n",
    "    lower = values.quantile(0.025)\n",
    "    upper = values.quantile(0.975)\n",
    "    mean = values.mean()\n",
    "\n",
    "    distr = st.norm(mean, np.std(values, ddof=1))\n",
    "    risk = distr.cdf(TOTAL_BUDGET)\n",
    "\n",
    "    print(f'Средняя прибыль:', round(((mean - TOTAL_BUDGET) / 1000000), 3), 'млн. руб.')\n",
    "    print(f'95%-й доверительный интервал: ({round((lower - TOTAL_BUDGET) / 1000000, 3)},', \n",
    "          f'{round((upper - TOTAL_BUDGET) / 1000000, 3)}) млн. руб.')\n",
    "    print('Риск убытков: {:.2%}'.format(risk))"
   ]
  },
  {
   "cell_type": "markdown",
   "metadata": {},
   "source": [
    "Рассчитаем вероятную среднюю прибыль, 95%-й доверительный интервал вероятной средней прибыли, а также риски убытков для трех регионов."
   ]
  },
  {
   "cell_type": "code",
   "execution_count": 28,
   "metadata": {},
   "outputs": [
    {
     "name": "stdout",
     "output_type": "stream",
     "text": [
      "-----------------------Регион №1-----------------------\n",
      "\n",
      "Средняя прибыль: 421.475 млн. руб.\n",
      "95%-й доверительный интервал: (-104.64, 941.102) млн. руб.\n",
      "Риск убытков: 5.87%\n",
      "\n",
      "-----------------------Регион №2-----------------------\n",
      "\n",
      "Средняя прибыль: 458.131 млн. руб.\n",
      "95%-й доверительный интервал: (75.875, 871.875) млн. руб.\n",
      "Риск убытков: 1.19%\n",
      "\n",
      "-----------------------Регион №3-----------------------\n",
      "\n",
      "Средняя прибыль: 377.597 млн. руб.\n",
      "95%-й доверительный интервал: (-163.311, 895.056) млн. руб.\n",
      "Риск убытков: 8.13%\n"
     ]
    }
   ],
   "source": [
    "print('-----------------------Регион №1-----------------------\\n')\n",
    "oil_production(model1, target1, features1)\n",
    "print()\n",
    "print('-----------------------Регион №2-----------------------\\n')\n",
    "oil_production(model2, target2, features2)\n",
    "print()\n",
    "print('-----------------------Регион №3-----------------------\\n')\n",
    "oil_production(model3, target3, features3)"
   ]
  },
  {
   "cell_type": "markdown",
   "metadata": {},
   "source": [
    "**Вывод**\n",
    "\n",
    "В результате расчетов имеем следующее:\n",
    "\n",
    "1. Средняя прибыль в регионах составляет: \n",
    "    - 428 млн. рублей - для региона №1, \n",
    "    - 465 млн. рублей - для региона №2,\n",
    "    - 379 млн. рублей - для региона №3.\n",
    "\n",
    "2. Принимая во внимание заданное по условию значения порога риска убытка (не более 2.5%), следовало бы предложить регион №2 для разработки нефтяных скважин, т.к. риск убытков составляет ~1.5%, однако не стоит брать данный регион в рассчет - результаты слишком хорошие. Необходимо уточнить причины формы распределения целевого признака и построить модель еще раз. \n",
    "3. Для моделей, построенных по данным о регионах 1 и 3, стоит уточнить признаки и их корректность, и, возможно, улучшить прогнозы."
   ]
  }
 ],
 "metadata": {
  "kernelspec": {
   "display_name": "Python 3",
   "language": "python",
   "name": "python3"
  },
  "language_info": {
   "codemirror_mode": {
    "name": "ipython",
    "version": 3
   },
   "file_extension": ".py",
   "mimetype": "text/x-python",
   "name": "python",
   "nbconvert_exporter": "python",
   "pygments_lexer": "ipython3",
   "version": "3.7.10"
  },
  "toc": {
   "base_numbering": 1,
   "nav_menu": {},
   "number_sections": true,
   "sideBar": true,
   "skip_h1_title": true,
   "title_cell": "Содержание",
   "title_sidebar": "Contents",
   "toc_cell": true,
   "toc_position": {
    "height": "calc(100% - 180px)",
    "left": "10px",
    "top": "150px",
    "width": "384px"
   },
   "toc_section_display": true,
   "toc_window_display": true
  }
 },
 "nbformat": 4,
 "nbformat_minor": 2
}
