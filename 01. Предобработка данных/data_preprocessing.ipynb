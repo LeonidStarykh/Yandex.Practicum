{
 "cells": [
  {
   "cell_type": "markdown",
   "metadata": {},
   "source": [
    "# 01. Предобработка данных"
   ]
  },
  {
   "cell_type": "markdown",
   "metadata": {},
   "source": [
    "# Исследование надёжности заёмщиков\n",
    "\n",
    "Заказчик — кредитный отдел банка. Нужно разобраться, влияет ли семейное положение и количество детей клиента на факт погашения кредита в срок. Входные данные от банка — статистика о платёжеспособности клиентов.\n",
    "\n",
    "Результаты исследования будут учтены при построении модели **кредитного скоринга** — специальной системы, которая оценивает способность потенциального заёмщика вернуть кредит банку.\n",
    "\n",
    "Информация о клиентах банка содержится в файле `data.csv`. \n",
    "\n",
    "**Задачей исследования** является нахождение зависимостей между семейным положением, количество детей, уровнем дохода, целью получения кредита и возвратом кредита в срок."
   ]
  },
  {
   "cell_type": "markdown",
   "metadata": {
    "toc": true
   },
   "source": [
    "<h1>Содержание<span class=\"tocSkip\"></span></h1>\n",
    "<div class=\"toc\"><ul class=\"toc-item\"><li><span><a href=\"#Изучение-общей-информации\" data-toc-modified-id=\"Изучение-общей-информации-1\"><span class=\"toc-item-num\">1&nbsp;&nbsp;</span>Изучение общей информации</a></span></li><li><span><a href=\"#Предобработка-данных\" data-toc-modified-id=\"Предобработка-данных-2\"><span class=\"toc-item-num\">2&nbsp;&nbsp;</span>Предобработка данных</a></span><ul class=\"toc-item\"><li><span><a href=\"#Изменение-названия-столбцов\" data-toc-modified-id=\"Изменение-названия-столбцов-2.1\"><span class=\"toc-item-num\">2.1&nbsp;&nbsp;</span>Изменение названия столбцов</a></span></li><li><span><a href=\"#Исправление-ошибок-в-данных\" data-toc-modified-id=\"Исправление-ошибок-в-данных-2.2\"><span class=\"toc-item-num\">2.2&nbsp;&nbsp;</span>Исправление ошибок в данных</a></span></li><li><span><a href=\"#Обработка-пропусков\" data-toc-modified-id=\"Обработка-пропусков-2.3\"><span class=\"toc-item-num\">2.3&nbsp;&nbsp;</span>Обработка пропусков</a></span></li><li><span><a href=\"#Замена-типа-данных\" data-toc-modified-id=\"Замена-типа-данных-2.4\"><span class=\"toc-item-num\">2.4&nbsp;&nbsp;</span>Замена типа данных</a></span></li><li><span><a href=\"#Обработка-дубликатов\" data-toc-modified-id=\"Обработка-дубликатов-2.5\"><span class=\"toc-item-num\">2.5&nbsp;&nbsp;</span>Обработка дубликатов</a></span></li><li><span><a href=\"#Лемматизация\" data-toc-modified-id=\"Лемматизация-2.6\"><span class=\"toc-item-num\">2.6&nbsp;&nbsp;</span>Лемматизация</a></span></li><li><span><a href=\"#Категоризация-данных\" data-toc-modified-id=\"Категоризация-данных-2.7\"><span class=\"toc-item-num\">2.7&nbsp;&nbsp;</span>Категоризация данных</a></span></li></ul></li><li><span><a href=\"#Исследование-данных\" data-toc-modified-id=\"Исследование-данных-3\"><span class=\"toc-item-num\">3&nbsp;&nbsp;</span>Исследование данных</a></span></li><li><span><a href=\"#Общий-вывод\" data-toc-modified-id=\"Общий-вывод-4\"><span class=\"toc-item-num\">4&nbsp;&nbsp;</span>Общий вывод</a></span></li></ul></div>"
   ]
  },
  {
   "cell_type": "markdown",
   "metadata": {},
   "source": [
    "## Изучение общей информации"
   ]
  },
  {
   "cell_type": "markdown",
   "metadata": {},
   "source": [
    "Импортируем необходимые для исследования библиотеки."
   ]
  },
  {
   "cell_type": "code",
   "execution_count": 1,
   "metadata": {},
   "outputs": [],
   "source": [
    "import pandas as pd\n",
    "from pymystem3 import Mystem\n",
    "m = Mystem()"
   ]
  },
  {
   "cell_type": "markdown",
   "metadata": {},
   "source": [
    "Информация о клиентах банка содержится в файле `data.csv`. Преобразуем данные из файла в таблицу и посмотрим первые 5 строк:"
   ]
  },
  {
   "cell_type": "code",
   "execution_count": 2,
   "metadata": {},
   "outputs": [
    {
     "data": {
      "text/html": [
       "<div>\n",
       "<style scoped>\n",
       "    .dataframe tbody tr th:only-of-type {\n",
       "        vertical-align: middle;\n",
       "    }\n",
       "\n",
       "    .dataframe tbody tr th {\n",
       "        vertical-align: top;\n",
       "    }\n",
       "\n",
       "    .dataframe thead th {\n",
       "        text-align: right;\n",
       "    }\n",
       "</style>\n",
       "<table border=\"1\" class=\"dataframe\">\n",
       "  <thead>\n",
       "    <tr style=\"text-align: right;\">\n",
       "      <th></th>\n",
       "      <th>children</th>\n",
       "      <th>days_employed</th>\n",
       "      <th>dob_years</th>\n",
       "      <th>education</th>\n",
       "      <th>education_id</th>\n",
       "      <th>family_status</th>\n",
       "      <th>family_status_id</th>\n",
       "      <th>gender</th>\n",
       "      <th>income_type</th>\n",
       "      <th>debt</th>\n",
       "      <th>total_income</th>\n",
       "      <th>purpose</th>\n",
       "    </tr>\n",
       "  </thead>\n",
       "  <tbody>\n",
       "    <tr>\n",
       "      <td>0</td>\n",
       "      <td>1</td>\n",
       "      <td>-8437.673028</td>\n",
       "      <td>42</td>\n",
       "      <td>высшее</td>\n",
       "      <td>0</td>\n",
       "      <td>женат / замужем</td>\n",
       "      <td>0</td>\n",
       "      <td>F</td>\n",
       "      <td>сотрудник</td>\n",
       "      <td>0</td>\n",
       "      <td>253875.639453</td>\n",
       "      <td>покупка жилья</td>\n",
       "    </tr>\n",
       "    <tr>\n",
       "      <td>1</td>\n",
       "      <td>1</td>\n",
       "      <td>-4024.803754</td>\n",
       "      <td>36</td>\n",
       "      <td>среднее</td>\n",
       "      <td>1</td>\n",
       "      <td>женат / замужем</td>\n",
       "      <td>0</td>\n",
       "      <td>F</td>\n",
       "      <td>сотрудник</td>\n",
       "      <td>0</td>\n",
       "      <td>112080.014102</td>\n",
       "      <td>приобретение автомобиля</td>\n",
       "    </tr>\n",
       "    <tr>\n",
       "      <td>2</td>\n",
       "      <td>0</td>\n",
       "      <td>-5623.422610</td>\n",
       "      <td>33</td>\n",
       "      <td>Среднее</td>\n",
       "      <td>1</td>\n",
       "      <td>женат / замужем</td>\n",
       "      <td>0</td>\n",
       "      <td>M</td>\n",
       "      <td>сотрудник</td>\n",
       "      <td>0</td>\n",
       "      <td>145885.952297</td>\n",
       "      <td>покупка жилья</td>\n",
       "    </tr>\n",
       "    <tr>\n",
       "      <td>3</td>\n",
       "      <td>3</td>\n",
       "      <td>-4124.747207</td>\n",
       "      <td>32</td>\n",
       "      <td>среднее</td>\n",
       "      <td>1</td>\n",
       "      <td>женат / замужем</td>\n",
       "      <td>0</td>\n",
       "      <td>M</td>\n",
       "      <td>сотрудник</td>\n",
       "      <td>0</td>\n",
       "      <td>267628.550329</td>\n",
       "      <td>дополнительное образование</td>\n",
       "    </tr>\n",
       "    <tr>\n",
       "      <td>4</td>\n",
       "      <td>0</td>\n",
       "      <td>340266.072047</td>\n",
       "      <td>53</td>\n",
       "      <td>среднее</td>\n",
       "      <td>1</td>\n",
       "      <td>гражданский брак</td>\n",
       "      <td>1</td>\n",
       "      <td>F</td>\n",
       "      <td>пенсионер</td>\n",
       "      <td>0</td>\n",
       "      <td>158616.077870</td>\n",
       "      <td>сыграть свадьбу</td>\n",
       "    </tr>\n",
       "  </tbody>\n",
       "</table>\n",
       "</div>"
      ],
      "text/plain": [
       "   children  days_employed  dob_years education  education_id  \\\n",
       "0         1   -8437.673028         42    высшее             0   \n",
       "1         1   -4024.803754         36   среднее             1   \n",
       "2         0   -5623.422610         33   Среднее             1   \n",
       "3         3   -4124.747207         32   среднее             1   \n",
       "4         0  340266.072047         53   среднее             1   \n",
       "\n",
       "      family_status  family_status_id gender income_type  debt   total_income  \\\n",
       "0   женат / замужем                 0      F   сотрудник     0  253875.639453   \n",
       "1   женат / замужем                 0      F   сотрудник     0  112080.014102   \n",
       "2   женат / замужем                 0      M   сотрудник     0  145885.952297   \n",
       "3   женат / замужем                 0      M   сотрудник     0  267628.550329   \n",
       "4  гражданский брак                 1      F   пенсионер     0  158616.077870   \n",
       "\n",
       "                      purpose  \n",
       "0               покупка жилья  \n",
       "1     приобретение автомобиля  \n",
       "2               покупка жилья  \n",
       "3  дополнительное образование  \n",
       "4             сыграть свадьбу  "
      ]
     },
     "execution_count": 2,
     "metadata": {},
     "output_type": "execute_result"
    }
   ],
   "source": [
    "data = pd.read_csv('/datasets/data.csv')\n",
    "data.head()"
   ]
  },
  {
   "cell_type": "markdown",
   "metadata": {},
   "source": [
    "Описание данных:\n",
    "\n",
    "- `children` — количество детей в семье\n",
    "- `days_employed` — общий трудовой стаж в днях\n",
    "- `dob_years` — возраст клиента в годах\n",
    "- `education` — уровень образования клиента\n",
    "- `education_id` — идентификатор уровня образования\n",
    "- `family_status` — семейное положение\n",
    "- `family_status_id` — идентификатор семейного положения\n",
    "- `gender` — пол клиента\n",
    "- `income_type` — тип занятости\n",
    "- `debt` — имел ли задолженность по возврату кредитов\n",
    "- `total_income` — ежемесячный доход\n",
    "- `purpose` — цель получения кредита"
   ]
  },
  {
   "cell_type": "markdown",
   "metadata": {},
   "source": [
    "Посмотрим общую информацию о данных в таблице"
   ]
  },
  {
   "cell_type": "code",
   "execution_count": 3,
   "metadata": {},
   "outputs": [
    {
     "name": "stdout",
     "output_type": "stream",
     "text": [
      "<class 'pandas.core.frame.DataFrame'>\n",
      "RangeIndex: 21525 entries, 0 to 21524\n",
      "Data columns (total 12 columns):\n",
      "children            21525 non-null int64\n",
      "days_employed       19351 non-null float64\n",
      "dob_years           21525 non-null int64\n",
      "education           21525 non-null object\n",
      "education_id        21525 non-null int64\n",
      "family_status       21525 non-null object\n",
      "family_status_id    21525 non-null int64\n",
      "gender              21525 non-null object\n",
      "income_type         21525 non-null object\n",
      "debt                21525 non-null int64\n",
      "total_income        19351 non-null float64\n",
      "purpose             21525 non-null object\n",
      "dtypes: float64(2), int64(5), object(5)\n",
      "memory usage: 2.0+ MB\n"
     ]
    }
   ],
   "source": [
    "data.info()"
   ]
  },
  {
   "cell_type": "code",
   "execution_count": 4,
   "metadata": {},
   "outputs": [
    {
     "data": {
      "text/html": [
       "<div>\n",
       "<style scoped>\n",
       "    .dataframe tbody tr th:only-of-type {\n",
       "        vertical-align: middle;\n",
       "    }\n",
       "\n",
       "    .dataframe tbody tr th {\n",
       "        vertical-align: top;\n",
       "    }\n",
       "\n",
       "    .dataframe thead th {\n",
       "        text-align: right;\n",
       "    }\n",
       "</style>\n",
       "<table border=\"1\" class=\"dataframe\">\n",
       "  <thead>\n",
       "    <tr style=\"text-align: right;\">\n",
       "      <th></th>\n",
       "      <th>children</th>\n",
       "      <th>days_employed</th>\n",
       "      <th>dob_years</th>\n",
       "      <th>education_id</th>\n",
       "      <th>family_status_id</th>\n",
       "      <th>debt</th>\n",
       "      <th>total_income</th>\n",
       "    </tr>\n",
       "  </thead>\n",
       "  <tbody>\n",
       "    <tr>\n",
       "      <td>count</td>\n",
       "      <td>21525.000000</td>\n",
       "      <td>19351.000000</td>\n",
       "      <td>21525.000000</td>\n",
       "      <td>21525.000000</td>\n",
       "      <td>21525.000000</td>\n",
       "      <td>21525.000000</td>\n",
       "      <td>1.935100e+04</td>\n",
       "    </tr>\n",
       "    <tr>\n",
       "      <td>mean</td>\n",
       "      <td>0.538908</td>\n",
       "      <td>63046.497661</td>\n",
       "      <td>43.293380</td>\n",
       "      <td>0.817236</td>\n",
       "      <td>0.972544</td>\n",
       "      <td>0.080883</td>\n",
       "      <td>1.674223e+05</td>\n",
       "    </tr>\n",
       "    <tr>\n",
       "      <td>std</td>\n",
       "      <td>1.381587</td>\n",
       "      <td>140827.311974</td>\n",
       "      <td>12.574584</td>\n",
       "      <td>0.548138</td>\n",
       "      <td>1.420324</td>\n",
       "      <td>0.272661</td>\n",
       "      <td>1.029716e+05</td>\n",
       "    </tr>\n",
       "    <tr>\n",
       "      <td>min</td>\n",
       "      <td>-1.000000</td>\n",
       "      <td>-18388.949901</td>\n",
       "      <td>0.000000</td>\n",
       "      <td>0.000000</td>\n",
       "      <td>0.000000</td>\n",
       "      <td>0.000000</td>\n",
       "      <td>2.066726e+04</td>\n",
       "    </tr>\n",
       "    <tr>\n",
       "      <td>25%</td>\n",
       "      <td>0.000000</td>\n",
       "      <td>-2747.423625</td>\n",
       "      <td>33.000000</td>\n",
       "      <td>1.000000</td>\n",
       "      <td>0.000000</td>\n",
       "      <td>0.000000</td>\n",
       "      <td>1.030532e+05</td>\n",
       "    </tr>\n",
       "    <tr>\n",
       "      <td>50%</td>\n",
       "      <td>0.000000</td>\n",
       "      <td>-1203.369529</td>\n",
       "      <td>42.000000</td>\n",
       "      <td>1.000000</td>\n",
       "      <td>0.000000</td>\n",
       "      <td>0.000000</td>\n",
       "      <td>1.450179e+05</td>\n",
       "    </tr>\n",
       "    <tr>\n",
       "      <td>75%</td>\n",
       "      <td>1.000000</td>\n",
       "      <td>-291.095954</td>\n",
       "      <td>53.000000</td>\n",
       "      <td>1.000000</td>\n",
       "      <td>1.000000</td>\n",
       "      <td>0.000000</td>\n",
       "      <td>2.034351e+05</td>\n",
       "    </tr>\n",
       "    <tr>\n",
       "      <td>max</td>\n",
       "      <td>20.000000</td>\n",
       "      <td>401755.400475</td>\n",
       "      <td>75.000000</td>\n",
       "      <td>4.000000</td>\n",
       "      <td>4.000000</td>\n",
       "      <td>1.000000</td>\n",
       "      <td>2.265604e+06</td>\n",
       "    </tr>\n",
       "  </tbody>\n",
       "</table>\n",
       "</div>"
      ],
      "text/plain": [
       "           children  days_employed     dob_years  education_id  \\\n",
       "count  21525.000000   19351.000000  21525.000000  21525.000000   \n",
       "mean       0.538908   63046.497661     43.293380      0.817236   \n",
       "std        1.381587  140827.311974     12.574584      0.548138   \n",
       "min       -1.000000  -18388.949901      0.000000      0.000000   \n",
       "25%        0.000000   -2747.423625     33.000000      1.000000   \n",
       "50%        0.000000   -1203.369529     42.000000      1.000000   \n",
       "75%        1.000000    -291.095954     53.000000      1.000000   \n",
       "max       20.000000  401755.400475     75.000000      4.000000   \n",
       "\n",
       "       family_status_id          debt  total_income  \n",
       "count      21525.000000  21525.000000  1.935100e+04  \n",
       "mean           0.972544      0.080883  1.674223e+05  \n",
       "std            1.420324      0.272661  1.029716e+05  \n",
       "min            0.000000      0.000000  2.066726e+04  \n",
       "25%            0.000000      0.000000  1.030532e+05  \n",
       "50%            0.000000      0.000000  1.450179e+05  \n",
       "75%            1.000000      0.000000  2.034351e+05  \n",
       "max            4.000000      1.000000  2.265604e+06  "
      ]
     },
     "execution_count": 4,
     "metadata": {},
     "output_type": "execute_result"
    }
   ],
   "source": [
    "data.describe()"
   ]
  },
  {
   "cell_type": "markdown",
   "metadata": {},
   "source": [
    "Проанализируем вариативность данных в столбцах `children`, `education`, `family_status`, `gender` и `income_type`:"
   ]
  },
  {
   "cell_type": "code",
   "execution_count": 5,
   "metadata": {},
   "outputs": [
    {
     "data": {
      "text/plain": [
       " 0     14149\n",
       " 1      4818\n",
       " 2      2055\n",
       " 3       330\n",
       " 20       76\n",
       "-1        47\n",
       " 4        41\n",
       " 5         9\n",
       "Name: children, dtype: int64"
      ]
     },
     "execution_count": 5,
     "metadata": {},
     "output_type": "execute_result"
    }
   ],
   "source": [
    "data['children'].value_counts()"
   ]
  },
  {
   "cell_type": "code",
   "execution_count": 6,
   "metadata": {
    "scrolled": true
   },
   "outputs": [
    {
     "data": {
      "text/plain": [
       "среднее                13750\n",
       "высшее                  4718\n",
       "СРЕДНЕЕ                  772\n",
       "Среднее                  711\n",
       "неоконченное высшее      668\n",
       "ВЫСШЕЕ                   274\n",
       "Высшее                   268\n",
       "начальное                250\n",
       "Неоконченное высшее       47\n",
       "НЕОКОНЧЕННОЕ ВЫСШЕЕ       29\n",
       "НАЧАЛЬНОЕ                 17\n",
       "Начальное                 15\n",
       "ученая степень             4\n",
       "Ученая степень             1\n",
       "УЧЕНАЯ СТЕПЕНЬ             1\n",
       "Name: education, dtype: int64"
      ]
     },
     "execution_count": 6,
     "metadata": {},
     "output_type": "execute_result"
    }
   ],
   "source": [
    "data['education'].value_counts()"
   ]
  },
  {
   "cell_type": "code",
   "execution_count": 7,
   "metadata": {},
   "outputs": [
    {
     "data": {
      "text/plain": [
       "женат / замужем          12380\n",
       "гражданский брак          4177\n",
       "Не женат / не замужем     2813\n",
       "в разводе                 1195\n",
       "вдовец / вдова             960\n",
       "Name: family_status, dtype: int64"
      ]
     },
     "execution_count": 7,
     "metadata": {},
     "output_type": "execute_result"
    }
   ],
   "source": [
    "data['family_status'].value_counts()"
   ]
  },
  {
   "cell_type": "code",
   "execution_count": 8,
   "metadata": {},
   "outputs": [
    {
     "data": {
      "text/plain": [
       "F      14236\n",
       "M       7288\n",
       "XNA        1\n",
       "Name: gender, dtype: int64"
      ]
     },
     "execution_count": 8,
     "metadata": {},
     "output_type": "execute_result"
    }
   ],
   "source": [
    "data['gender'].value_counts()"
   ]
  },
  {
   "cell_type": "code",
   "execution_count": 9,
   "metadata": {
    "scrolled": false
   },
   "outputs": [
    {
     "data": {
      "text/plain": [
       "сотрудник          11119\n",
       "компаньон           5085\n",
       "пенсионер           3856\n",
       "госслужащий         1459\n",
       "безработный            2\n",
       "предприниматель        2\n",
       "в декрете              1\n",
       "студент                1\n",
       "Name: income_type, dtype: int64"
      ]
     },
     "execution_count": 9,
     "metadata": {},
     "output_type": "execute_result"
    }
   ],
   "source": [
    "data['income_type'].value_counts()"
   ]
  },
  {
   "cell_type": "markdown",
   "metadata": {},
   "source": [
    "**Вывод** \n",
    "\n",
    "**Необходима предобработка данных, а именно:**\n",
    "1. Необходимо изменить названия столбцов (название столбца должно отражать суть содержащихся в нем данных):\n",
    "    - `children` на `children_count`,\n",
    "    - `total_income` на `month_income`.\n",
    "2. Решить проблему с неверным значением пола ('XNA') в столбце `gender`.\n",
    "3. Разобраться с природой возникновения пропусков в столбцах `days_employed` и `month_income`.\n",
    "4. Заменить тип данных в столбцах `days_employed` и `month_income` на целочисленный.\n",
    "5. Преобразовать строковые значения столбца `education` к одному регистру (нижнему).\n",
    "6. Разобраться с отрицательными значениями в столбцах `children_count` и `days_employed`, и нулевыми значениями в столбце `dob_years`.\n",
    "7. Устранить ошибки с нереалистичными значениями в столбце `days_employed`"
   ]
  },
  {
   "cell_type": "markdown",
   "metadata": {},
   "source": [
    "## Предобработка данных"
   ]
  },
  {
   "cell_type": "markdown",
   "metadata": {},
   "source": [
    "### Изменение названия столбцов"
   ]
  },
  {
   "cell_type": "markdown",
   "metadata": {},
   "source": [
    "Создадим список с новыми названиями столбцов:"
   ]
  },
  {
   "cell_type": "code",
   "execution_count": 10,
   "metadata": {},
   "outputs": [],
   "source": [
    "new_columns = ['children_count', 'days_employed', 'dob_years', 'education', 'education_id', 'family_status', \n",
    "               'family_status_id', 'gender', 'income_type', 'debt', 'month_income', 'purpose']"
   ]
  },
  {
   "cell_type": "markdown",
   "metadata": {},
   "source": [
    "Изменим названия столбцов в исходной таблице на новые:"
   ]
  },
  {
   "cell_type": "code",
   "execution_count": 11,
   "metadata": {},
   "outputs": [],
   "source": [
    "data.set_axis(new_columns, axis='columns', inplace=True)"
   ]
  },
  {
   "cell_type": "markdown",
   "metadata": {},
   "source": [
    "Посмотрим на внесенные изменения (столбцы с индексами 0 и 10):"
   ]
  },
  {
   "cell_type": "code",
   "execution_count": 12,
   "metadata": {},
   "outputs": [
    {
     "name": "stdout",
     "output_type": "stream",
     "text": [
      "children_count month_income\n"
     ]
    }
   ],
   "source": [
    "print(data.columns[0], data.columns[10])"
   ]
  },
  {
   "cell_type": "markdown",
   "metadata": {},
   "source": [
    "**Вывод** \n",
    "\n",
    "Изменили названия столбцов на более понятные. \n"
   ]
  },
  {
   "cell_type": "markdown",
   "metadata": {},
   "source": [
    "### Исправление ошибок в данных"
   ]
  },
  {
   "cell_type": "markdown",
   "metadata": {},
   "source": [
    "В первом шаге отметили, что в столбце `children_count` содержатся отрицательные значения. Всего 47 строк со значением '-1'. "
   ]
  },
  {
   "cell_type": "code",
   "execution_count": 13,
   "metadata": {
    "scrolled": true
   },
   "outputs": [
    {
     "data": {
      "text/plain": [
       "dob_years\n",
       "23    1\n",
       "26    1\n",
       "27    1\n",
       "28    2\n",
       "30    1\n",
       "31    2\n",
       "32    2\n",
       "33    2\n",
       "34    3\n",
       "35    1\n",
       "37    2\n",
       "38    2\n",
       "40    2\n",
       "41    2\n",
       "42    2\n",
       "43    1\n",
       "44    2\n",
       "46    3\n",
       "48    1\n",
       "50    2\n",
       "51    1\n",
       "53    1\n",
       "54    2\n",
       "55    1\n",
       "57    2\n",
       "59    1\n",
       "61    1\n",
       "63    1\n",
       "64    1\n",
       "69    1\n",
       "Name: children_count, dtype: int64"
      ]
     },
     "execution_count": 13,
     "metadata": {},
     "output_type": "execute_result"
    }
   ],
   "source": [
    "#Проверим какого возраста клиенты, у которых отрицательные значения в столбце 'children_count'\n",
    "data[data['children_count']==-1].groupby('dob_years')['children_count'].count()"
   ]
  },
  {
   "cell_type": "markdown",
   "metadata": {},
   "source": [
    "По возрасту клиентов можно сделать вывод: все они могли бы иметь ребенка, поэтому значение '-1' ошибочно и его необходимо изменить на '1'."
   ]
  },
  {
   "cell_type": "code",
   "execution_count": 14,
   "metadata": {},
   "outputs": [],
   "source": [
    "data['children_count'] = data['children_count'].replace(-1, 1)"
   ]
  },
  {
   "cell_type": "code",
   "execution_count": 15,
   "metadata": {},
   "outputs": [
    {
     "data": {
      "text/plain": [
       "0     14149\n",
       "1      4865\n",
       "2      2055\n",
       "3       330\n",
       "20       76\n",
       "4        41\n",
       "5         9\n",
       "Name: children_count, dtype: int64"
      ]
     },
     "execution_count": 15,
     "metadata": {},
     "output_type": "execute_result"
    }
   ],
   "source": [
    "#Убеждаемся, что \"отрицательных детей\" больше нет \n",
    "data['children_count'].value_counts()"
   ]
  },
  {
   "cell_type": "markdown",
   "metadata": {},
   "source": [
    "Вызывают сомнения и 76 клиентов, у которых по 20 детей."
   ]
  },
  {
   "cell_type": "code",
   "execution_count": 16,
   "metadata": {},
   "outputs": [
    {
     "data": {
      "text/plain": [
       "dob_years\n",
       "0     1\n",
       "21    1\n",
       "23    1\n",
       "24    1\n",
       "25    1\n",
       "26    1\n",
       "27    2\n",
       "29    2\n",
       "30    3\n",
       "31    2\n",
       "32    2\n",
       "33    2\n",
       "34    3\n",
       "35    2\n",
       "36    2\n",
       "37    4\n",
       "38    1\n",
       "39    1\n",
       "40    4\n",
       "41    2\n",
       "42    3\n",
       "43    2\n",
       "44    2\n",
       "45    3\n",
       "46    3\n",
       "48    1\n",
       "49    3\n",
       "50    3\n",
       "51    1\n",
       "52    1\n",
       "53    1\n",
       "54    1\n",
       "55    1\n",
       "56    5\n",
       "57    1\n",
       "59    2\n",
       "60    1\n",
       "61    1\n",
       "62    1\n",
       "64    1\n",
       "69    1\n",
       "Name: children_count, dtype: int64"
      ]
     },
     "execution_count": 16,
     "metadata": {},
     "output_type": "execute_result"
    }
   ],
   "source": [
    "#Проверим какого возраста клиенты, у которых 20 детей\n",
    "data[data['children_count']==20].groupby('dob_years')['children_count'].count()"
   ]
  },
  {
   "cell_type": "markdown",
   "metadata": {},
   "source": [
    "По возрасту клиентов можно сделать вывод: все они точно не могли иметь по 20 детей, а принимая во внимание то, что в столбце `children_count` присутствуют только значения {0,1,2,3,4,5,20}, поэтому '20' ошибочно и его необходимо заменить на '2'."
   ]
  },
  {
   "cell_type": "code",
   "execution_count": 17,
   "metadata": {},
   "outputs": [],
   "source": [
    "data['children_count'] = data['children_count'].replace(20, 2)"
   ]
  },
  {
   "cell_type": "code",
   "execution_count": 18,
   "metadata": {},
   "outputs": [
    {
     "data": {
      "text/plain": [
       "0    14149\n",
       "1     4865\n",
       "2     2131\n",
       "3      330\n",
       "4       41\n",
       "5        9\n",
       "Name: children_count, dtype: int64"
      ]
     },
     "execution_count": 18,
     "metadata": {},
     "output_type": "execute_result"
    }
   ],
   "source": [
    "#Проверяем выполненые преобразования\n",
    "data['children_count'].value_counts()"
   ]
  },
  {
   "cell_type": "markdown",
   "metadata": {},
   "source": [
    "**Вывод**\n",
    "\n",
    "Внесли изменения в строки из таблицы с некорректными и отрицательными значениями в столбце `children_count`."
   ]
  },
  {
   "cell_type": "markdown",
   "metadata": {},
   "source": [
    "### Обработка пропусков"
   ]
  },
  {
   "cell_type": "markdown",
   "metadata": {},
   "source": [
    "1. При анализе общей информации о данных в таблице, замечаем, что в столбцах `days_employed` и `month_income` имеются пропущенные значения. Проверим наличие пропусков и посчитаем их количество:"
   ]
  },
  {
   "cell_type": "code",
   "execution_count": 19,
   "metadata": {},
   "outputs": [
    {
     "data": {
      "text/plain": [
       "children_count         0\n",
       "days_employed       2174\n",
       "dob_years              0\n",
       "education              0\n",
       "education_id           0\n",
       "family_status          0\n",
       "family_status_id       0\n",
       "gender                 0\n",
       "income_type            0\n",
       "debt                   0\n",
       "month_income        2174\n",
       "purpose                0\n",
       "dtype: int64"
      ]
     },
     "execution_count": 19,
     "metadata": {},
     "output_type": "execute_result"
    }
   ],
   "source": [
    "data.isna().sum()"
   ]
  },
  {
   "cell_type": "markdown",
   "metadata": {},
   "source": [
    "Информация о пропусках подтвердилась (по **2174** в каждом из вышеназванных стобцов).\n",
    "Теперь найдем количество строк, в которых пропущенные значения содержатся в столбцах `days_employed` и `month_income` одновременно:"
   ]
  },
  {
   "cell_type": "code",
   "execution_count": 20,
   "metadata": {},
   "outputs": [
    {
     "data": {
      "text/plain": [
       "2174"
      ]
     },
     "execution_count": 20,
     "metadata": {},
     "output_type": "execute_result"
    }
   ],
   "source": [
    "data[(data['days_employed'].isna())&(data['month_income'].isna())].shape[0]"
   ]
  },
  {
   "cell_type": "markdown",
   "metadata": {},
   "source": [
    "Вновь получили **2174**. Это означает, что во всех строках таблицы, в которых в столбце `days_employed` значение пропущено, в столбце `month_income` значение также пропущено, и наоборот. Другими словами, нет таких строк, в которых пропущено только одно значение. "
   ]
  },
  {
   "cell_type": "markdown",
   "metadata": {},
   "source": [
    "Одной из возможных причин появления пропусков в столбцах `days_employed` и `month_income` может быть факт того, что клиент банка официально не трудоустроен (и никогда не был) и, как следствие, не имеет официального ежемесячного дохода."
   ]
  },
  {
   "cell_type": "markdown",
   "metadata": {},
   "source": [
    "Однако, посмотрев на информацию из столбца `income_type` (тип занятости клиентов) в строках с пропущенными значениями, видим, что каждый из клиентов имеет место работы (или находится на пенсии). По этой причине, предположение о том, что клиент официально не трудоустроен (не бывает госслужащих без заключенного трудового договора) или никогда не был трудоустроен (пенсию получают за трудовой стаж) не правомерно."
   ]
  },
  {
   "cell_type": "code",
   "execution_count": 21,
   "metadata": {},
   "outputs": [
    {
     "data": {
      "text/plain": [
       "сотрудник          1105\n",
       "компаньон           508\n",
       "пенсионер           413\n",
       "госслужащий         147\n",
       "предприниматель       1\n",
       "Name: income_type, dtype: int64"
      ]
     },
     "execution_count": 21,
     "metadata": {},
     "output_type": "execute_result"
    }
   ],
   "source": [
    "data[data['days_employed'].isna()]['income_type'].value_counts()"
   ]
  },
  {
   "cell_type": "markdown",
   "metadata": {},
   "source": [
    "Можем сделать предварительный вывод о том, что данные пропуски не случайны и клиенты намеренно скрыли информацию от банка."
   ]
  },
  {
   "cell_type": "markdown",
   "metadata": {},
   "source": [
    "Строк, содержащих пропущенные значения, примерно 10% от общего количества, поэтому их игнорирование и удаление может привести к ошибочным результатам исследования. С другой стороны, в задачи исследования не входит нахождение той или иной зависимости от трудового стажа клиента, поэтому можем удалить столбец `days_employed`. \n",
    "Сгруппируем таблицу по типу занятости и найдем медианный доход для каждого. В столбце `month_income` заполним пропущенные значения нулями, а затем нули заменим на рассчитанную ранее медианную зарплату в соответствии с типом занятости."
   ]
  },
  {
   "cell_type": "code",
   "execution_count": 22,
   "metadata": {},
   "outputs": [],
   "source": [
    "#Находим медианные значения месячного дохода для каждого типа занятости\n",
    "income_median = data.groupby('income_type')['month_income'].median()"
   ]
  },
  {
   "cell_type": "code",
   "execution_count": 23,
   "metadata": {},
   "outputs": [
    {
     "data": {
      "text/plain": [
       "income_type\n",
       "безработный        131339.751676\n",
       "в декрете           53829.130729\n",
       "госслужащий        150447.935283\n",
       "компаньон          172357.950966\n",
       "пенсионер          118514.486412\n",
       "предприниматель    499163.144947\n",
       "сотрудник          142594.396847\n",
       "студент             98201.625314\n",
       "Name: month_income, dtype: float64"
      ]
     },
     "execution_count": 23,
     "metadata": {},
     "output_type": "execute_result"
    }
   ],
   "source": [
    "income_median"
   ]
  },
  {
   "cell_type": "code",
   "execution_count": 24,
   "metadata": {},
   "outputs": [],
   "source": [
    "#Заполним пропуски нулями в столбце 'month_income'\n",
    "data['month_income'] = data['month_income'].fillna(0)"
   ]
  },
  {
   "cell_type": "code",
   "execution_count": 25,
   "metadata": {},
   "outputs": [],
   "source": [
    "#Функция на вход получает строку таблицы и если в столбце 'month_income' стоит 0, \n",
    "#то меняет его на медианное значение в соответствии с типом, указанным в столбце 'income_type'\n",
    "def add_median_income(row):\n",
    "    income_type = row['income_type']\n",
    "    month_income = row['month_income']\n",
    "    if month_income == 0:\n",
    "        return income_median[income_type]\n",
    "    else:\n",
    "        return month_income"
   ]
  },
  {
   "cell_type": "code",
   "execution_count": 26,
   "metadata": {},
   "outputs": [],
   "source": [
    "#Применяем функцию для каждой строки таблицы\n",
    "data['month_income'] = data.apply(add_median_income, axis=1)"
   ]
  },
  {
   "cell_type": "code",
   "execution_count": 27,
   "metadata": {},
   "outputs": [],
   "source": [
    "#Удаляем столбец 'days_employed', содержащий пропущенные значения\n",
    "data.dropna(axis='columns', inplace=True)"
   ]
  },
  {
   "cell_type": "code",
   "execution_count": 28,
   "metadata": {},
   "outputs": [
    {
     "data": {
      "text/plain": [
       "children_count      0\n",
       "dob_years           0\n",
       "education           0\n",
       "education_id        0\n",
       "family_status       0\n",
       "family_status_id    0\n",
       "gender              0\n",
       "income_type         0\n",
       "debt                0\n",
       "month_income        0\n",
       "purpose             0\n",
       "dtype: int64"
      ]
     },
     "execution_count": 28,
     "metadata": {},
     "output_type": "execute_result"
    }
   ],
   "source": [
    "#Проверим пропуски после заполнения\n",
    "data.isna().sum()"
   ]
  },
  {
   "cell_type": "markdown",
   "metadata": {},
   "source": [
    "2. Теперь посмотрим на строку таблицы, в столбе `gender` которой содержится непонятное значение 'XNA':"
   ]
  },
  {
   "cell_type": "code",
   "execution_count": 29,
   "metadata": {},
   "outputs": [
    {
     "data": {
      "text/html": [
       "<div>\n",
       "<style scoped>\n",
       "    .dataframe tbody tr th:only-of-type {\n",
       "        vertical-align: middle;\n",
       "    }\n",
       "\n",
       "    .dataframe tbody tr th {\n",
       "        vertical-align: top;\n",
       "    }\n",
       "\n",
       "    .dataframe thead th {\n",
       "        text-align: right;\n",
       "    }\n",
       "</style>\n",
       "<table border=\"1\" class=\"dataframe\">\n",
       "  <thead>\n",
       "    <tr style=\"text-align: right;\">\n",
       "      <th></th>\n",
       "      <th>children_count</th>\n",
       "      <th>dob_years</th>\n",
       "      <th>education</th>\n",
       "      <th>education_id</th>\n",
       "      <th>family_status</th>\n",
       "      <th>family_status_id</th>\n",
       "      <th>gender</th>\n",
       "      <th>income_type</th>\n",
       "      <th>debt</th>\n",
       "      <th>month_income</th>\n",
       "      <th>purpose</th>\n",
       "    </tr>\n",
       "  </thead>\n",
       "  <tbody>\n",
       "    <tr>\n",
       "      <td>10701</td>\n",
       "      <td>0</td>\n",
       "      <td>24</td>\n",
       "      <td>неоконченное высшее</td>\n",
       "      <td>2</td>\n",
       "      <td>гражданский брак</td>\n",
       "      <td>1</td>\n",
       "      <td>XNA</td>\n",
       "      <td>компаньон</td>\n",
       "      <td>0</td>\n",
       "      <td>203905.157261</td>\n",
       "      <td>покупка недвижимости</td>\n",
       "    </tr>\n",
       "  </tbody>\n",
       "</table>\n",
       "</div>"
      ],
      "text/plain": [
       "       children_count  dob_years            education  education_id  \\\n",
       "10701               0         24  неоконченное высшее             2   \n",
       "\n",
       "          family_status  family_status_id gender income_type  debt  \\\n",
       "10701  гражданский брак                 1    XNA   компаньон     0   \n",
       "\n",
       "        month_income               purpose  \n",
       "10701  203905.157261  покупка недвижимости  "
      ]
     },
     "execution_count": 29,
     "metadata": {},
     "output_type": "execute_result"
    }
   ],
   "source": [
    "data[data['gender']=='XNA']"
   ]
  },
  {
   "cell_type": "markdown",
   "metadata": {},
   "source": [
    "В данном ситуации допущена случайная ошибка, значение пола клиента некорректное. Изменим ошибочное значение на наиболее популярный пол."
   ]
  },
  {
   "cell_type": "code",
   "execution_count": 30,
   "metadata": {},
   "outputs": [
    {
     "data": {
      "text/plain": [
       "'F'"
      ]
     },
     "execution_count": 30,
     "metadata": {},
     "output_type": "execute_result"
    }
   ],
   "source": [
    "#Находим самый популярный пол\n",
    "data['gender'].value_counts().idxmax()"
   ]
  },
  {
   "cell_type": "code",
   "execution_count": 31,
   "metadata": {},
   "outputs": [],
   "source": [
    "#Заменяем ошибочное значение\n",
    "data['gender'] = data['gender'].replace('XNA', 'F')"
   ]
  },
  {
   "cell_type": "markdown",
   "metadata": {},
   "source": [
    "3. Рассмотрим столбец `dob_years`."
   ]
  },
  {
   "cell_type": "code",
   "execution_count": 32,
   "metadata": {},
   "outputs": [
    {
     "data": {
      "text/plain": [
       "101"
      ]
     },
     "execution_count": 32,
     "metadata": {},
     "output_type": "execute_result"
    }
   ],
   "source": [
    "data['dob_years'].value_counts()[0]"
   ]
  },
  {
   "cell_type": "markdown",
   "metadata": {},
   "source": [
    "Видим, что 101 клиент банка с возрастом \"0\"."
   ]
  },
  {
   "cell_type": "code",
   "execution_count": 33,
   "metadata": {},
   "outputs": [
    {
     "data": {
      "text/html": [
       "<div>\n",
       "<style scoped>\n",
       "    .dataframe tbody tr th:only-of-type {\n",
       "        vertical-align: middle;\n",
       "    }\n",
       "\n",
       "    .dataframe tbody tr th {\n",
       "        vertical-align: top;\n",
       "    }\n",
       "\n",
       "    .dataframe thead th {\n",
       "        text-align: right;\n",
       "    }\n",
       "</style>\n",
       "<table border=\"1\" class=\"dataframe\">\n",
       "  <thead>\n",
       "    <tr style=\"text-align: right;\">\n",
       "      <th></th>\n",
       "      <th>children_count</th>\n",
       "      <th>dob_years</th>\n",
       "      <th>education</th>\n",
       "      <th>education_id</th>\n",
       "      <th>family_status</th>\n",
       "      <th>family_status_id</th>\n",
       "      <th>gender</th>\n",
       "      <th>income_type</th>\n",
       "      <th>debt</th>\n",
       "      <th>month_income</th>\n",
       "      <th>purpose</th>\n",
       "    </tr>\n",
       "  </thead>\n",
       "  <tbody>\n",
       "    <tr>\n",
       "      <td>99</td>\n",
       "      <td>0</td>\n",
       "      <td>0</td>\n",
       "      <td>Среднее</td>\n",
       "      <td>1</td>\n",
       "      <td>женат / замужем</td>\n",
       "      <td>0</td>\n",
       "      <td>F</td>\n",
       "      <td>пенсионер</td>\n",
       "      <td>0</td>\n",
       "      <td>71291.522491</td>\n",
       "      <td>автомобиль</td>\n",
       "    </tr>\n",
       "    <tr>\n",
       "      <td>149</td>\n",
       "      <td>0</td>\n",
       "      <td>0</td>\n",
       "      <td>среднее</td>\n",
       "      <td>1</td>\n",
       "      <td>в разводе</td>\n",
       "      <td>3</td>\n",
       "      <td>F</td>\n",
       "      <td>сотрудник</td>\n",
       "      <td>0</td>\n",
       "      <td>70176.435951</td>\n",
       "      <td>операции с жильем</td>\n",
       "    </tr>\n",
       "    <tr>\n",
       "      <td>270</td>\n",
       "      <td>3</td>\n",
       "      <td>0</td>\n",
       "      <td>среднее</td>\n",
       "      <td>1</td>\n",
       "      <td>женат / замужем</td>\n",
       "      <td>0</td>\n",
       "      <td>F</td>\n",
       "      <td>сотрудник</td>\n",
       "      <td>0</td>\n",
       "      <td>102166.458894</td>\n",
       "      <td>ремонт жилью</td>\n",
       "    </tr>\n",
       "    <tr>\n",
       "      <td>578</td>\n",
       "      <td>0</td>\n",
       "      <td>0</td>\n",
       "      <td>среднее</td>\n",
       "      <td>1</td>\n",
       "      <td>женат / замужем</td>\n",
       "      <td>0</td>\n",
       "      <td>F</td>\n",
       "      <td>пенсионер</td>\n",
       "      <td>0</td>\n",
       "      <td>97620.687042</td>\n",
       "      <td>строительство собственной недвижимости</td>\n",
       "    </tr>\n",
       "    <tr>\n",
       "      <td>1040</td>\n",
       "      <td>0</td>\n",
       "      <td>0</td>\n",
       "      <td>высшее</td>\n",
       "      <td>0</td>\n",
       "      <td>в разводе</td>\n",
       "      <td>3</td>\n",
       "      <td>F</td>\n",
       "      <td>компаньон</td>\n",
       "      <td>0</td>\n",
       "      <td>303994.134987</td>\n",
       "      <td>свой автомобиль</td>\n",
       "    </tr>\n",
       "    <tr>\n",
       "      <td>1149</td>\n",
       "      <td>0</td>\n",
       "      <td>0</td>\n",
       "      <td>среднее</td>\n",
       "      <td>1</td>\n",
       "      <td>женат / замужем</td>\n",
       "      <td>0</td>\n",
       "      <td>F</td>\n",
       "      <td>компаньон</td>\n",
       "      <td>0</td>\n",
       "      <td>201852.430096</td>\n",
       "      <td>покупка недвижимости</td>\n",
       "    </tr>\n",
       "    <tr>\n",
       "      <td>1175</td>\n",
       "      <td>0</td>\n",
       "      <td>0</td>\n",
       "      <td>среднее</td>\n",
       "      <td>1</td>\n",
       "      <td>женат / замужем</td>\n",
       "      <td>0</td>\n",
       "      <td>F</td>\n",
       "      <td>пенсионер</td>\n",
       "      <td>0</td>\n",
       "      <td>313949.845188</td>\n",
       "      <td>получение дополнительного образования</td>\n",
       "    </tr>\n",
       "    <tr>\n",
       "      <td>1386</td>\n",
       "      <td>0</td>\n",
       "      <td>0</td>\n",
       "      <td>высшее</td>\n",
       "      <td>0</td>\n",
       "      <td>женат / замужем</td>\n",
       "      <td>0</td>\n",
       "      <td>M</td>\n",
       "      <td>госслужащий</td>\n",
       "      <td>0</td>\n",
       "      <td>240523.618071</td>\n",
       "      <td>сделка с автомобилем</td>\n",
       "    </tr>\n",
       "    <tr>\n",
       "      <td>1890</td>\n",
       "      <td>0</td>\n",
       "      <td>0</td>\n",
       "      <td>высшее</td>\n",
       "      <td>0</td>\n",
       "      <td>Не женат / не замужем</td>\n",
       "      <td>4</td>\n",
       "      <td>F</td>\n",
       "      <td>сотрудник</td>\n",
       "      <td>0</td>\n",
       "      <td>142594.396847</td>\n",
       "      <td>жилье</td>\n",
       "    </tr>\n",
       "    <tr>\n",
       "      <td>1898</td>\n",
       "      <td>0</td>\n",
       "      <td>0</td>\n",
       "      <td>среднее</td>\n",
       "      <td>1</td>\n",
       "      <td>вдовец / вдова</td>\n",
       "      <td>2</td>\n",
       "      <td>F</td>\n",
       "      <td>пенсионер</td>\n",
       "      <td>0</td>\n",
       "      <td>127400.268338</td>\n",
       "      <td>на покупку автомобиля</td>\n",
       "    </tr>\n",
       "  </tbody>\n",
       "</table>\n",
       "</div>"
      ],
      "text/plain": [
       "      children_count  dob_years education  education_id  \\\n",
       "99                 0          0   Среднее             1   \n",
       "149                0          0   среднее             1   \n",
       "270                3          0   среднее             1   \n",
       "578                0          0   среднее             1   \n",
       "1040               0          0    высшее             0   \n",
       "1149               0          0   среднее             1   \n",
       "1175               0          0   среднее             1   \n",
       "1386               0          0    высшее             0   \n",
       "1890               0          0    высшее             0   \n",
       "1898               0          0   среднее             1   \n",
       "\n",
       "              family_status  family_status_id gender  income_type  debt  \\\n",
       "99          женат / замужем                 0      F    пенсионер     0   \n",
       "149               в разводе                 3      F    сотрудник     0   \n",
       "270         женат / замужем                 0      F    сотрудник     0   \n",
       "578         женат / замужем                 0      F    пенсионер     0   \n",
       "1040              в разводе                 3      F    компаньон     0   \n",
       "1149        женат / замужем                 0      F    компаньон     0   \n",
       "1175        женат / замужем                 0      F    пенсионер     0   \n",
       "1386        женат / замужем                 0      M  госслужащий     0   \n",
       "1890  Не женат / не замужем                 4      F    сотрудник     0   \n",
       "1898         вдовец / вдова                 2      F    пенсионер     0   \n",
       "\n",
       "       month_income                                 purpose  \n",
       "99     71291.522491                              автомобиль  \n",
       "149    70176.435951                       операции с жильем  \n",
       "270   102166.458894                            ремонт жилью  \n",
       "578    97620.687042  строительство собственной недвижимости  \n",
       "1040  303994.134987                         свой автомобиль  \n",
       "1149  201852.430096                    покупка недвижимости  \n",
       "1175  313949.845188   получение дополнительного образования  \n",
       "1386  240523.618071                    сделка с автомобилем  \n",
       "1890  142594.396847                                   жилье  \n",
       "1898  127400.268338                   на покупку автомобиля  "
      ]
     },
     "execution_count": 33,
     "metadata": {},
     "output_type": "execute_result"
    }
   ],
   "source": [
    "#Рассмотрим более подробно этих клиентов\n",
    "data[data['dob_years']==0].head(10)"
   ]
  },
  {
   "cell_type": "markdown",
   "metadata": {},
   "source": [
    "Сгруппируем данные по семейному положению и найдем медианное значение возраста клиента для каждого типа. После этого заменим нули на медианные значения."
   ]
  },
  {
   "cell_type": "code",
   "execution_count": 34,
   "metadata": {},
   "outputs": [],
   "source": [
    "data['dob_years'] = data.groupby('family_status')['dob_years'].transform(lambda x: x.replace(0, x.median()))"
   ]
  },
  {
   "cell_type": "markdown",
   "metadata": {},
   "source": [
    "**Вывод**\n",
    "\n",
    "1. Обнаружили в таблице пропущенные значения\n",
    "2. Рассмотрели возможные причины возникновения пропусков, выбрали наиболее вероятную.\n",
    "3. Заполнили пропущенные значения и объяснили, почему именно нулями.\n",
    "4. Решили проблему с некорректным значением пола и нулевыми значениями возраста клиентов."
   ]
  },
  {
   "cell_type": "markdown",
   "metadata": {},
   "source": [
    "### Замена типа данных"
   ]
  },
  {
   "cell_type": "markdown",
   "metadata": {},
   "source": [
    "Посмотрим еще раз на типы данных, содержащихся в таблице:"
   ]
  },
  {
   "cell_type": "code",
   "execution_count": 35,
   "metadata": {},
   "outputs": [
    {
     "data": {
      "text/plain": [
       "children_count        int64\n",
       "dob_years             int64\n",
       "education            object\n",
       "education_id          int64\n",
       "family_status        object\n",
       "family_status_id      int64\n",
       "gender               object\n",
       "income_type          object\n",
       "debt                  int64\n",
       "month_income        float64\n",
       "purpose              object\n",
       "dtype: object"
      ]
     },
     "execution_count": 35,
     "metadata": {},
     "output_type": "execute_result"
    }
   ],
   "source": [
    "data.dtypes"
   ]
  },
  {
   "cell_type": "markdown",
   "metadata": {},
   "source": [
    "Информация о дробной части ежемесячного дохода клиента является избыточной для нашего исследования, поэтому преобразуем тип данных столбца `month_income` в целочисленный."
   ]
  },
  {
   "cell_type": "code",
   "execution_count": 36,
   "metadata": {},
   "outputs": [],
   "source": [
    "data['month_income'] = data['month_income'].astype('int')"
   ]
  },
  {
   "cell_type": "markdown",
   "metadata": {},
   "source": [
    "Проверяем, прошли ли преобразования:"
   ]
  },
  {
   "cell_type": "code",
   "execution_count": 37,
   "metadata": {},
   "outputs": [
    {
     "data": {
      "text/plain": [
       "children_count       int64\n",
       "dob_years            int64\n",
       "education           object\n",
       "education_id         int64\n",
       "family_status       object\n",
       "family_status_id     int64\n",
       "gender              object\n",
       "income_type         object\n",
       "debt                 int64\n",
       "month_income         int64\n",
       "purpose             object\n",
       "dtype: object"
      ]
     },
     "execution_count": 37,
     "metadata": {},
     "output_type": "execute_result"
    }
   ],
   "source": [
    "data.dtypes"
   ]
  },
  {
   "cell_type": "markdown",
   "metadata": {},
   "source": [
    "**Вывод**\n",
    "\n",
    "В столбце `month_income` преобразовали вещественный тип данных в целочисленный: убрали избыточную информацию о дробной части месячного дохода клиентов."
   ]
  },
  {
   "cell_type": "markdown",
   "metadata": {},
   "source": [
    "### Обработка дубликатов"
   ]
  },
  {
   "cell_type": "markdown",
   "metadata": {},
   "source": [
    "Посмотрим, есть в таблице повторяющиеся строки:"
   ]
  },
  {
   "cell_type": "code",
   "execution_count": 38,
   "metadata": {},
   "outputs": [
    {
     "data": {
      "text/plain": [
       "55"
      ]
     },
     "execution_count": 38,
     "metadata": {},
     "output_type": "execute_result"
    }
   ],
   "source": [
    "data.duplicated().sum()"
   ]
  },
  {
   "cell_type": "markdown",
   "metadata": {},
   "source": [
    "Прежде чем удалять дубликаты, преобразуем строковые значения в столбце `education` таблицы к единому виду - нижнему регистру."
   ]
  },
  {
   "cell_type": "code",
   "execution_count": 39,
   "metadata": {},
   "outputs": [],
   "source": [
    "data['education'] = data['education'].str.lower()"
   ]
  },
  {
   "cell_type": "markdown",
   "metadata": {},
   "source": [
    "Посмотрим, изменилось ли количество дубликатов в таблице после проведенных преобразований:"
   ]
  },
  {
   "cell_type": "code",
   "execution_count": 40,
   "metadata": {},
   "outputs": [
    {
     "data": {
      "text/plain": [
       "72"
      ]
     },
     "execution_count": 40,
     "metadata": {},
     "output_type": "execute_result"
    }
   ],
   "source": [
    "data.duplicated().sum()"
   ]
  },
  {
   "cell_type": "markdown",
   "metadata": {},
   "source": [
    "Действительно **их стало больше**. Теперь удалим из таблицы повторяющиеся строки и проверим их отсутствие:"
   ]
  },
  {
   "cell_type": "code",
   "execution_count": 41,
   "metadata": {},
   "outputs": [],
   "source": [
    "data = data.drop_duplicates().reset_index(drop=True)"
   ]
  },
  {
   "cell_type": "code",
   "execution_count": 42,
   "metadata": {},
   "outputs": [
    {
     "data": {
      "text/plain": [
       "0"
      ]
     },
     "execution_count": 42,
     "metadata": {},
     "output_type": "execute_result"
    }
   ],
   "source": [
    "data.duplicated().sum()"
   ]
  },
  {
   "cell_type": "markdown",
   "metadata": {},
   "source": [
    "**Вывод**\n",
    "\n",
    "Произвели обработку дубликатов. Сначала использовали метод поиска \"полных дубликатов\", затем, принимая во внимание информацию из Шага 1 о том, что в столбце `education` содержатся строки разного регистра, преобразовали все к одному виду (нижнему регистру) и повторили поиск дубликатов. Наконец, удалили повторы из таблицы.\n",
    "\n",
    "Данная таблица формировалась, скорее всего, после заполнения клиентами заявок (электронных форм) на получение кредита. Некоторые пользователи могли заполнить анкету несколько раз, в связи с чем, в исследуемой таблице появились одинаковые строки. Также во время отправки анкеты от пользователя на сервер, могла возникнуть техническая ошибка из-за чего данные продублировались при занесении в базу данных."
   ]
  },
  {
   "cell_type": "markdown",
   "metadata": {},
   "source": [
    "### Лемматизация"
   ]
  },
  {
   "cell_type": "markdown",
   "metadata": {},
   "source": [
    "Рассмотрим информацию: на какие цели клиенты берут кредиты."
   ]
  },
  {
   "cell_type": "code",
   "execution_count": 43,
   "metadata": {},
   "outputs": [
    {
     "data": {
      "text/plain": [
       "свадьба                                   791\n",
       "на проведение свадьбы                     767\n",
       "сыграть свадьбу                           765\n",
       "операции с недвижимостью                  675\n",
       "покупка коммерческой недвижимости         661\n",
       "операции с жильем                         652\n",
       "покупка жилья для сдачи                   651\n",
       "операции с коммерческой недвижимостью     650\n",
       "покупка жилья                             646\n",
       "жилье                                     646\n",
       "покупка жилья для семьи                   638\n",
       "строительство собственной недвижимости    635\n",
       "недвижимость                              633\n",
       "операции со своей недвижимостью           627\n",
       "строительство жилой недвижимости          624\n",
       "покупка недвижимости                      621\n",
       "покупка своего жилья                      620\n",
       "строительство недвижимости                619\n",
       "ремонт жилью                              607\n",
       "покупка жилой недвижимости                606\n",
       "на покупку своего автомобиля              505\n",
       "заняться высшим образованием              496\n",
       "автомобиль                                494\n",
       "сделка с подержанным автомобилем          486\n",
       "свой автомобиль                           478\n",
       "автомобили                                478\n",
       "на покупку подержанного автомобиля        478\n",
       "на покупку автомобиля                     471\n",
       "приобретение автомобиля                   461\n",
       "дополнительное образование                460\n",
       "сделка с автомобилем                      455\n",
       "высшее образование                        452\n",
       "образование                               447\n",
       "получение дополнительного образования     446\n",
       "получение образования                     442\n",
       "профильное образование                    436\n",
       "получение высшего образования             426\n",
       "заняться образованием                     408\n",
       "Name: purpose, dtype: int64"
      ]
     },
     "execution_count": 43,
     "metadata": {},
     "output_type": "execute_result"
    }
   ],
   "source": [
    "data['purpose'].value_counts()"
   ]
  },
  {
   "cell_type": "markdown",
   "metadata": {},
   "source": [
    "Из всего многообразия целей, можно выделить 4 категории:\n",
    "- свадьба\n",
    "- недвижимость\n",
    "- автомобиль\n",
    "- образование\n",
    "\n",
    "Проведем лемматизацию и разобьем цели по категориям. Используя библиотеку `pymystem3` приведем все слова, находящиеся в столбце `purpose` к словарной форме (для существительных — именительный падеж, единственное число, для прилагательных — именительный падеж, единственное число, мужской род, а для глаголов, причастий, деепричастий — глагол в инфинитиве несовершенного вида). Это позволит слова в различных временах, родах и числах привести к одному виду, в котором их удобно обрабатывать (в нашем случае искать и определять категорию). "
   ]
  },
  {
   "cell_type": "code",
   "execution_count": 44,
   "metadata": {},
   "outputs": [],
   "source": [
    "#функция на вход принимает цель взятия кредита, \n",
    "#а на выходе выдает категорию этой цели\n",
    "\n",
    "def find_lemma_category(row):\n",
    "    lemmas = m.lemmatize(row)\n",
    "    if 'свадьба' in lemmas:\n",
    "        return 'свадьба'\n",
    "    if 'недвижимость' in lemmas or 'жилье' in lemmas:\n",
    "        return 'недвижимость'\n",
    "    if 'автомобиль' in lemmas:\n",
    "        return 'автомомобиль'\n",
    "    if 'образование' in lemmas:\n",
    "        return 'образование'"
   ]
  },
  {
   "cell_type": "markdown",
   "metadata": {},
   "source": [
    "Создаем столбец для категории и находим ее для каждой строки таблицы/"
   ]
  },
  {
   "cell_type": "code",
   "execution_count": 45,
   "metadata": {},
   "outputs": [],
   "source": [
    "data['purpose_category'] = data['purpose'].apply(find_lemma_category)"
   ]
  },
  {
   "cell_type": "code",
   "execution_count": 46,
   "metadata": {},
   "outputs": [
    {
     "name": "stdout",
     "output_type": "stream",
     "text": [
      "<class 'pandas.core.frame.DataFrame'>\n",
      "RangeIndex: 21453 entries, 0 to 21452\n",
      "Data columns (total 12 columns):\n",
      "children_count      21453 non-null int64\n",
      "dob_years           21453 non-null int64\n",
      "education           21453 non-null object\n",
      "education_id        21453 non-null int64\n",
      "family_status       21453 non-null object\n",
      "family_status_id    21453 non-null int64\n",
      "gender              21453 non-null object\n",
      "income_type         21453 non-null object\n",
      "debt                21453 non-null int64\n",
      "month_income        21453 non-null int64\n",
      "purpose             21453 non-null object\n",
      "purpose_category    21453 non-null object\n",
      "dtypes: int64(6), object(6)\n",
      "memory usage: 2.0+ MB\n"
     ]
    }
   ],
   "source": [
    "#посмотрим, насколько успешно сработала функция\n",
    "data.info()"
   ]
  },
  {
   "cell_type": "markdown",
   "metadata": {},
   "source": [
    "**Вывод**"
   ]
  },
  {
   "cell_type": "markdown",
   "metadata": {},
   "source": [
    "Провели лемматизацию информации в столбце целей получения кредита `purpose` и разбили их по категориям."
   ]
  },
  {
   "cell_type": "markdown",
   "metadata": {},
   "source": [
    "### Категоризация данных"
   ]
  },
  {
   "cell_type": "markdown",
   "metadata": {},
   "source": [
    "В таблице избыточная информация об образовании (столбцы - `education` и `education_id`) и о семейном положении (столбцы - `family_status` и `family_status_id`). Не нужно постоянно наблюдать какое образование клиента или его семейное положение. Эту информацию необходимо хранить отдельно и, при необходимости, обращаться к ней по индексу 'education_id' и 'family_status_id' соответственно. Разделим таблицу на несколько частей."
   ]
  },
  {
   "cell_type": "code",
   "execution_count": 47,
   "metadata": {},
   "outputs": [],
   "source": [
    "#Первая часть будет содержать информацию об образовании\n",
    "education_dict = data[['education_id', 'education']]"
   ]
  },
  {
   "cell_type": "code",
   "execution_count": 48,
   "metadata": {},
   "outputs": [
    {
     "data": {
      "text/html": [
       "<div>\n",
       "<style scoped>\n",
       "    .dataframe tbody tr th:only-of-type {\n",
       "        vertical-align: middle;\n",
       "    }\n",
       "\n",
       "    .dataframe tbody tr th {\n",
       "        vertical-align: top;\n",
       "    }\n",
       "\n",
       "    .dataframe thead th {\n",
       "        text-align: right;\n",
       "    }\n",
       "</style>\n",
       "<table border=\"1\" class=\"dataframe\">\n",
       "  <thead>\n",
       "    <tr style=\"text-align: right;\">\n",
       "      <th></th>\n",
       "      <th>education_id</th>\n",
       "      <th>education</th>\n",
       "    </tr>\n",
       "  </thead>\n",
       "  <tbody>\n",
       "    <tr>\n",
       "      <td>0</td>\n",
       "      <td>0</td>\n",
       "      <td>высшее</td>\n",
       "    </tr>\n",
       "    <tr>\n",
       "      <td>1</td>\n",
       "      <td>1</td>\n",
       "      <td>среднее</td>\n",
       "    </tr>\n",
       "    <tr>\n",
       "      <td>2</td>\n",
       "      <td>1</td>\n",
       "      <td>среднее</td>\n",
       "    </tr>\n",
       "    <tr>\n",
       "      <td>3</td>\n",
       "      <td>1</td>\n",
       "      <td>среднее</td>\n",
       "    </tr>\n",
       "    <tr>\n",
       "      <td>4</td>\n",
       "      <td>1</td>\n",
       "      <td>среднее</td>\n",
       "    </tr>\n",
       "  </tbody>\n",
       "</table>\n",
       "</div>"
      ],
      "text/plain": [
       "   education_id education\n",
       "0             0    высшее\n",
       "1             1   среднее\n",
       "2             1   среднее\n",
       "3             1   среднее\n",
       "4             1   среднее"
      ]
     },
     "execution_count": 48,
     "metadata": {},
     "output_type": "execute_result"
    }
   ],
   "source": [
    "education_dict.head()"
   ]
  },
  {
   "cell_type": "markdown",
   "metadata": {},
   "source": [
    "Уберем из таблицы `education_dict` дубликаты:"
   ]
  },
  {
   "cell_type": "code",
   "execution_count": 49,
   "metadata": {},
   "outputs": [],
   "source": [
    "education_dict = education_dict.drop_duplicates().reset_index(drop=True)"
   ]
  },
  {
   "cell_type": "code",
   "execution_count": 50,
   "metadata": {},
   "outputs": [
    {
     "data": {
      "text/html": [
       "<div>\n",
       "<style scoped>\n",
       "    .dataframe tbody tr th:only-of-type {\n",
       "        vertical-align: middle;\n",
       "    }\n",
       "\n",
       "    .dataframe tbody tr th {\n",
       "        vertical-align: top;\n",
       "    }\n",
       "\n",
       "    .dataframe thead th {\n",
       "        text-align: right;\n",
       "    }\n",
       "</style>\n",
       "<table border=\"1\" class=\"dataframe\">\n",
       "  <thead>\n",
       "    <tr style=\"text-align: right;\">\n",
       "      <th></th>\n",
       "      <th>education_id</th>\n",
       "      <th>education</th>\n",
       "    </tr>\n",
       "  </thead>\n",
       "  <tbody>\n",
       "    <tr>\n",
       "      <td>0</td>\n",
       "      <td>0</td>\n",
       "      <td>высшее</td>\n",
       "    </tr>\n",
       "    <tr>\n",
       "      <td>1</td>\n",
       "      <td>1</td>\n",
       "      <td>среднее</td>\n",
       "    </tr>\n",
       "    <tr>\n",
       "      <td>2</td>\n",
       "      <td>2</td>\n",
       "      <td>неоконченное высшее</td>\n",
       "    </tr>\n",
       "    <tr>\n",
       "      <td>3</td>\n",
       "      <td>3</td>\n",
       "      <td>начальное</td>\n",
       "    </tr>\n",
       "    <tr>\n",
       "      <td>4</td>\n",
       "      <td>4</td>\n",
       "      <td>ученая степень</td>\n",
       "    </tr>\n",
       "  </tbody>\n",
       "</table>\n",
       "</div>"
      ],
      "text/plain": [
       "   education_id            education\n",
       "0             0               высшее\n",
       "1             1              среднее\n",
       "2             2  неоконченное высшее\n",
       "3             3            начальное\n",
       "4             4       ученая степень"
      ]
     },
     "execution_count": 50,
     "metadata": {},
     "output_type": "execute_result"
    }
   ],
   "source": [
    "#Теперь таблица выглядит так\n",
    "education_dict"
   ]
  },
  {
   "cell_type": "code",
   "execution_count": 51,
   "metadata": {},
   "outputs": [],
   "source": [
    "#Вторая часть будет содержать информацию о семейном положении\n",
    "family_status_dict = data[['family_status_id', 'family_status']]"
   ]
  },
  {
   "cell_type": "code",
   "execution_count": 52,
   "metadata": {},
   "outputs": [
    {
     "data": {
      "text/html": [
       "<div>\n",
       "<style scoped>\n",
       "    .dataframe tbody tr th:only-of-type {\n",
       "        vertical-align: middle;\n",
       "    }\n",
       "\n",
       "    .dataframe tbody tr th {\n",
       "        vertical-align: top;\n",
       "    }\n",
       "\n",
       "    .dataframe thead th {\n",
       "        text-align: right;\n",
       "    }\n",
       "</style>\n",
       "<table border=\"1\" class=\"dataframe\">\n",
       "  <thead>\n",
       "    <tr style=\"text-align: right;\">\n",
       "      <th></th>\n",
       "      <th>family_status_id</th>\n",
       "      <th>family_status</th>\n",
       "    </tr>\n",
       "  </thead>\n",
       "  <tbody>\n",
       "    <tr>\n",
       "      <td>0</td>\n",
       "      <td>0</td>\n",
       "      <td>женат / замужем</td>\n",
       "    </tr>\n",
       "    <tr>\n",
       "      <td>1</td>\n",
       "      <td>0</td>\n",
       "      <td>женат / замужем</td>\n",
       "    </tr>\n",
       "    <tr>\n",
       "      <td>2</td>\n",
       "      <td>0</td>\n",
       "      <td>женат / замужем</td>\n",
       "    </tr>\n",
       "    <tr>\n",
       "      <td>3</td>\n",
       "      <td>0</td>\n",
       "      <td>женат / замужем</td>\n",
       "    </tr>\n",
       "    <tr>\n",
       "      <td>4</td>\n",
       "      <td>1</td>\n",
       "      <td>гражданский брак</td>\n",
       "    </tr>\n",
       "  </tbody>\n",
       "</table>\n",
       "</div>"
      ],
      "text/plain": [
       "   family_status_id     family_status\n",
       "0                 0   женат / замужем\n",
       "1                 0   женат / замужем\n",
       "2                 0   женат / замужем\n",
       "3                 0   женат / замужем\n",
       "4                 1  гражданский брак"
      ]
     },
     "execution_count": 52,
     "metadata": {},
     "output_type": "execute_result"
    }
   ],
   "source": [
    "family_status_dict.head(5)"
   ]
  },
  {
   "cell_type": "markdown",
   "metadata": {},
   "source": [
    "Уберем из таблицы `family_status_dict` дубликаты:"
   ]
  },
  {
   "cell_type": "code",
   "execution_count": 53,
   "metadata": {},
   "outputs": [],
   "source": [
    "family_status_dict = family_status_dict.drop_duplicates().reset_index(drop=True)"
   ]
  },
  {
   "cell_type": "code",
   "execution_count": 54,
   "metadata": {},
   "outputs": [
    {
     "data": {
      "text/html": [
       "<div>\n",
       "<style scoped>\n",
       "    .dataframe tbody tr th:only-of-type {\n",
       "        vertical-align: middle;\n",
       "    }\n",
       "\n",
       "    .dataframe tbody tr th {\n",
       "        vertical-align: top;\n",
       "    }\n",
       "\n",
       "    .dataframe thead th {\n",
       "        text-align: right;\n",
       "    }\n",
       "</style>\n",
       "<table border=\"1\" class=\"dataframe\">\n",
       "  <thead>\n",
       "    <tr style=\"text-align: right;\">\n",
       "      <th></th>\n",
       "      <th>family_status_id</th>\n",
       "      <th>family_status</th>\n",
       "    </tr>\n",
       "  </thead>\n",
       "  <tbody>\n",
       "    <tr>\n",
       "      <td>0</td>\n",
       "      <td>0</td>\n",
       "      <td>женат / замужем</td>\n",
       "    </tr>\n",
       "    <tr>\n",
       "      <td>1</td>\n",
       "      <td>1</td>\n",
       "      <td>гражданский брак</td>\n",
       "    </tr>\n",
       "    <tr>\n",
       "      <td>2</td>\n",
       "      <td>2</td>\n",
       "      <td>вдовец / вдова</td>\n",
       "    </tr>\n",
       "    <tr>\n",
       "      <td>3</td>\n",
       "      <td>3</td>\n",
       "      <td>в разводе</td>\n",
       "    </tr>\n",
       "    <tr>\n",
       "      <td>4</td>\n",
       "      <td>4</td>\n",
       "      <td>Не женат / не замужем</td>\n",
       "    </tr>\n",
       "  </tbody>\n",
       "</table>\n",
       "</div>"
      ],
      "text/plain": [
       "   family_status_id          family_status\n",
       "0                 0        женат / замужем\n",
       "1                 1       гражданский брак\n",
       "2                 2         вдовец / вдова\n",
       "3                 3              в разводе\n",
       "4                 4  Не женат / не замужем"
      ]
     },
     "execution_count": 54,
     "metadata": {},
     "output_type": "execute_result"
    }
   ],
   "source": [
    "#Теперь таблица выглядит так\n",
    "family_status_dict"
   ]
  },
  {
   "cell_type": "markdown",
   "metadata": {},
   "source": [
    "Добавим в основную таблицу категорию, которую определим исходя из количества детей."
   ]
  },
  {
   "cell_type": "code",
   "execution_count": 55,
   "metadata": {},
   "outputs": [],
   "source": [
    "#Разделим количество детей по категориям:\n",
    "def children_category(children):\n",
    "    if children == 0:\n",
    "        return 'без детей'\n",
    "    if 1 <= children <=2:\n",
    "        return 'малодетный'\n",
    "    if children >= 3:\n",
    "        return 'многодетный'"
   ]
  },
  {
   "cell_type": "code",
   "execution_count": 56,
   "metadata": {},
   "outputs": [],
   "source": [
    "#Создадим новый столбец для категории детей\n",
    "data['children_category'] = data['children_count'].apply(children_category)"
   ]
  },
  {
   "cell_type": "markdown",
   "metadata": {},
   "source": [
    "Также добавим в таблицу `data` категорию дохода клиента."
   ]
  },
  {
   "cell_type": "markdown",
   "metadata": {},
   "source": [
    "Разделим доход по категориям, так, чтобы в каждой категории было примерно равное количество клиентов:"
   ]
  },
  {
   "cell_type": "code",
   "execution_count": 57,
   "metadata": {},
   "outputs": [],
   "source": [
    "data['month_income_category'] = pd.qcut(data['month_income'], 4, labels=[\"низкий\", \"средний\",\"выше среднего\", \"высокий\"])"
   ]
  },
  {
   "cell_type": "code",
   "execution_count": 58,
   "metadata": {},
   "outputs": [],
   "source": [
    "#В последней части оставим все остальное, кроме 'family_status' и 'education'\n",
    "data_new = data[['children_count', 'children_category', 'dob_years', 'education_id', 'family_status_id', 'gender', \n",
    "                 'income_type', 'debt', 'month_income', 'month_income_category', 'purpose', 'purpose_category']]"
   ]
  },
  {
   "cell_type": "code",
   "execution_count": 59,
   "metadata": {},
   "outputs": [
    {
     "data": {
      "text/html": [
       "<div>\n",
       "<style scoped>\n",
       "    .dataframe tbody tr th:only-of-type {\n",
       "        vertical-align: middle;\n",
       "    }\n",
       "\n",
       "    .dataframe tbody tr th {\n",
       "        vertical-align: top;\n",
       "    }\n",
       "\n",
       "    .dataframe thead th {\n",
       "        text-align: right;\n",
       "    }\n",
       "</style>\n",
       "<table border=\"1\" class=\"dataframe\">\n",
       "  <thead>\n",
       "    <tr style=\"text-align: right;\">\n",
       "      <th></th>\n",
       "      <th>children_count</th>\n",
       "      <th>children_category</th>\n",
       "      <th>dob_years</th>\n",
       "      <th>education_id</th>\n",
       "      <th>family_status_id</th>\n",
       "      <th>gender</th>\n",
       "      <th>income_type</th>\n",
       "      <th>debt</th>\n",
       "      <th>month_income</th>\n",
       "      <th>month_income_category</th>\n",
       "      <th>purpose</th>\n",
       "      <th>purpose_category</th>\n",
       "    </tr>\n",
       "  </thead>\n",
       "  <tbody>\n",
       "    <tr>\n",
       "      <td>0</td>\n",
       "      <td>1</td>\n",
       "      <td>малодетный</td>\n",
       "      <td>42</td>\n",
       "      <td>0</td>\n",
       "      <td>0</td>\n",
       "      <td>F</td>\n",
       "      <td>сотрудник</td>\n",
       "      <td>0</td>\n",
       "      <td>253875</td>\n",
       "      <td>высокий</td>\n",
       "      <td>покупка жилья</td>\n",
       "      <td>недвижимость</td>\n",
       "    </tr>\n",
       "    <tr>\n",
       "      <td>1</td>\n",
       "      <td>1</td>\n",
       "      <td>малодетный</td>\n",
       "      <td>36</td>\n",
       "      <td>1</td>\n",
       "      <td>0</td>\n",
       "      <td>F</td>\n",
       "      <td>сотрудник</td>\n",
       "      <td>0</td>\n",
       "      <td>112080</td>\n",
       "      <td>средний</td>\n",
       "      <td>приобретение автомобиля</td>\n",
       "      <td>автомомобиль</td>\n",
       "    </tr>\n",
       "    <tr>\n",
       "      <td>2</td>\n",
       "      <td>0</td>\n",
       "      <td>без детей</td>\n",
       "      <td>33</td>\n",
       "      <td>1</td>\n",
       "      <td>0</td>\n",
       "      <td>M</td>\n",
       "      <td>сотрудник</td>\n",
       "      <td>0</td>\n",
       "      <td>145885</td>\n",
       "      <td>выше среднего</td>\n",
       "      <td>покупка жилья</td>\n",
       "      <td>недвижимость</td>\n",
       "    </tr>\n",
       "    <tr>\n",
       "      <td>3</td>\n",
       "      <td>3</td>\n",
       "      <td>многодетный</td>\n",
       "      <td>32</td>\n",
       "      <td>1</td>\n",
       "      <td>0</td>\n",
       "      <td>M</td>\n",
       "      <td>сотрудник</td>\n",
       "      <td>0</td>\n",
       "      <td>267628</td>\n",
       "      <td>высокий</td>\n",
       "      <td>дополнительное образование</td>\n",
       "      <td>образование</td>\n",
       "    </tr>\n",
       "    <tr>\n",
       "      <td>4</td>\n",
       "      <td>0</td>\n",
       "      <td>без детей</td>\n",
       "      <td>53</td>\n",
       "      <td>1</td>\n",
       "      <td>1</td>\n",
       "      <td>F</td>\n",
       "      <td>пенсионер</td>\n",
       "      <td>0</td>\n",
       "      <td>158616</td>\n",
       "      <td>выше среднего</td>\n",
       "      <td>сыграть свадьбу</td>\n",
       "      <td>свадьба</td>\n",
       "    </tr>\n",
       "  </tbody>\n",
       "</table>\n",
       "</div>"
      ],
      "text/plain": [
       "   children_count children_category  dob_years  education_id  \\\n",
       "0               1        малодетный         42             0   \n",
       "1               1        малодетный         36             1   \n",
       "2               0         без детей         33             1   \n",
       "3               3       многодетный         32             1   \n",
       "4               0         без детей         53             1   \n",
       "\n",
       "   family_status_id gender income_type  debt  month_income  \\\n",
       "0                 0      F   сотрудник     0        253875   \n",
       "1                 0      F   сотрудник     0        112080   \n",
       "2                 0      M   сотрудник     0        145885   \n",
       "3                 0      M   сотрудник     0        267628   \n",
       "4                 1      F   пенсионер     0        158616   \n",
       "\n",
       "  month_income_category                     purpose purpose_category  \n",
       "0               высокий               покупка жилья     недвижимость  \n",
       "1               средний     приобретение автомобиля     автомомобиль  \n",
       "2         выше среднего               покупка жилья     недвижимость  \n",
       "3               высокий  дополнительное образование      образование  \n",
       "4         выше среднего             сыграть свадьбу          свадьба  "
      ]
     },
     "execution_count": 59,
     "metadata": {},
     "output_type": "execute_result"
    }
   ],
   "source": [
    "data_new.head(5)"
   ]
  },
  {
   "cell_type": "markdown",
   "metadata": {},
   "source": [
    "**Вывод**\n",
    "\n",
    "Провели категоризацию данных и выделили два словаря, содержащие информацию об образовании клиента (`education_dict`) и его семейном положении (`family_status_dict`)."
   ]
  },
  {
   "cell_type": "markdown",
   "metadata": {},
   "source": [
    "## Исследование данных"
   ]
  },
  {
   "cell_type": "markdown",
   "metadata": {},
   "source": [
    "- Есть ли зависимость между наличием детей и возвратом кредита в срок?"
   ]
  },
  {
   "cell_type": "markdown",
   "metadata": {},
   "source": [
    "Сгруппируем таблицу по `children_category` и посчитаем количество клиентов, у которых были задолженности по возврату. Добавим столбец `ratio,%`, в котором содержится процентное отношение количества клиентов, имевших задолженности по возврату, к общему количеству клиентов."
   ]
  },
  {
   "cell_type": "markdown",
   "metadata": {},
   "source": [
    "Чтобы исключить дублирование кода, напишем функцию `debt_by_category`."
   ]
  },
  {
   "cell_type": "code",
   "execution_count": 60,
   "metadata": {},
   "outputs": [],
   "source": [
    "def debt_by_category(df, category):\n",
    "    data_debt = df.groupby(category).agg({'debt':['count', 'sum']})\n",
    "    data_debt['debt', 'ratio,%'] = ((data_debt['debt', 'sum'] / data_debt['debt', 'count']) * 100).round(2)\n",
    "    data_debt.columns = ['count', 'sum', 'ratio,%']\n",
    "    display(data_debt.sort_values(by='ratio,%'))"
   ]
  },
  {
   "cell_type": "code",
   "execution_count": 61,
   "metadata": {},
   "outputs": [
    {
     "data": {
      "text/html": [
       "<div>\n",
       "<style scoped>\n",
       "    .dataframe tbody tr th:only-of-type {\n",
       "        vertical-align: middle;\n",
       "    }\n",
       "\n",
       "    .dataframe tbody tr th {\n",
       "        vertical-align: top;\n",
       "    }\n",
       "\n",
       "    .dataframe thead th {\n",
       "        text-align: right;\n",
       "    }\n",
       "</style>\n",
       "<table border=\"1\" class=\"dataframe\">\n",
       "  <thead>\n",
       "    <tr style=\"text-align: right;\">\n",
       "      <th></th>\n",
       "      <th>count</th>\n",
       "      <th>sum</th>\n",
       "      <th>ratio,%</th>\n",
       "    </tr>\n",
       "    <tr>\n",
       "      <th>children_category</th>\n",
       "      <th></th>\n",
       "      <th></th>\n",
       "      <th></th>\n",
       "    </tr>\n",
       "  </thead>\n",
       "  <tbody>\n",
       "    <tr>\n",
       "      <td>без детей</td>\n",
       "      <td>14090</td>\n",
       "      <td>1063</td>\n",
       "      <td>7.54</td>\n",
       "    </tr>\n",
       "    <tr>\n",
       "      <td>многодетный</td>\n",
       "      <td>380</td>\n",
       "      <td>31</td>\n",
       "      <td>8.16</td>\n",
       "    </tr>\n",
       "    <tr>\n",
       "      <td>малодетный</td>\n",
       "      <td>6983</td>\n",
       "      <td>647</td>\n",
       "      <td>9.27</td>\n",
       "    </tr>\n",
       "  </tbody>\n",
       "</table>\n",
       "</div>"
      ],
      "text/plain": [
       "                   count   sum  ratio,%\n",
       "children_category                      \n",
       "без детей          14090  1063     7.54\n",
       "многодетный          380    31     8.16\n",
       "малодетный          6983   647     9.27"
      ]
     },
     "metadata": {},
     "output_type": "display_data"
    }
   ],
   "source": [
    "#Посмотрим таблицу\n",
    "debt_by_category(data, 'children_category')"
   ]
  },
  {
   "cell_type": "markdown",
   "metadata": {},
   "source": [
    "**Вывод**"
   ]
  },
  {
   "cell_type": "markdown",
   "metadata": {},
   "source": [
    "На практике получаем, что зависимость между наличием детей и возвратом кредита в срок присутствует. % возврата кредита в срок у клиентов без детей выше чем у клиентов с детьми. А у клиентов, имеющих 1-2 детей, проблем с возвратом кредита больше, чем у многодетных."
   ]
  },
  {
   "cell_type": "markdown",
   "metadata": {},
   "source": [
    "- Есть ли зависимость между семейным положением и возвратом кредита в срок?"
   ]
  },
  {
   "cell_type": "markdown",
   "metadata": {},
   "source": [
    "Сгруппируем таблицу по семейному положению и посчитаем количество клиентов, у которых были задолженности по возврату."
   ]
  },
  {
   "cell_type": "code",
   "execution_count": 62,
   "metadata": {},
   "outputs": [
    {
     "data": {
      "text/html": [
       "<div>\n",
       "<style scoped>\n",
       "    .dataframe tbody tr th:only-of-type {\n",
       "        vertical-align: middle;\n",
       "    }\n",
       "\n",
       "    .dataframe tbody tr th {\n",
       "        vertical-align: top;\n",
       "    }\n",
       "\n",
       "    .dataframe thead th {\n",
       "        text-align: right;\n",
       "    }\n",
       "</style>\n",
       "<table border=\"1\" class=\"dataframe\">\n",
       "  <thead>\n",
       "    <tr style=\"text-align: right;\">\n",
       "      <th></th>\n",
       "      <th>count</th>\n",
       "      <th>sum</th>\n",
       "      <th>ratio,%</th>\n",
       "    </tr>\n",
       "    <tr>\n",
       "      <th>family_status</th>\n",
       "      <th></th>\n",
       "      <th></th>\n",
       "      <th></th>\n",
       "    </tr>\n",
       "  </thead>\n",
       "  <tbody>\n",
       "    <tr>\n",
       "      <td>вдовец / вдова</td>\n",
       "      <td>959</td>\n",
       "      <td>63</td>\n",
       "      <td>6.57</td>\n",
       "    </tr>\n",
       "    <tr>\n",
       "      <td>в разводе</td>\n",
       "      <td>1195</td>\n",
       "      <td>85</td>\n",
       "      <td>7.11</td>\n",
       "    </tr>\n",
       "    <tr>\n",
       "      <td>женат / замужем</td>\n",
       "      <td>12339</td>\n",
       "      <td>931</td>\n",
       "      <td>7.55</td>\n",
       "    </tr>\n",
       "    <tr>\n",
       "      <td>гражданский брак</td>\n",
       "      <td>4150</td>\n",
       "      <td>388</td>\n",
       "      <td>9.35</td>\n",
       "    </tr>\n",
       "    <tr>\n",
       "      <td>Не женат / не замужем</td>\n",
       "      <td>2810</td>\n",
       "      <td>274</td>\n",
       "      <td>9.75</td>\n",
       "    </tr>\n",
       "  </tbody>\n",
       "</table>\n",
       "</div>"
      ],
      "text/plain": [
       "                       count  sum  ratio,%\n",
       "family_status                             \n",
       "вдовец / вдова           959   63     6.57\n",
       "в разводе               1195   85     7.11\n",
       "женат / замужем        12339  931     7.55\n",
       "гражданский брак        4150  388     9.35\n",
       "Не женат / не замужем   2810  274     9.75"
      ]
     },
     "metadata": {},
     "output_type": "display_data"
    }
   ],
   "source": [
    "debt_by_category(data, 'family_status')"
   ]
  },
  {
   "cell_type": "markdown",
   "metadata": {},
   "source": [
    "**Вывод**"
   ]
  },
  {
   "cell_type": "markdown",
   "metadata": {},
   "source": [
    "Как и в предыдущем случае, замечаем незначительную зависимость между семейным положением и возвратом кредита в срок. У вдов/вдовцов дела с возвратом кредита в срок обстоят лучше, чем у неженатых клиентов или состоящих в гражданском браке."
   ]
  },
  {
   "cell_type": "markdown",
   "metadata": {},
   "source": [
    "- Есть ли зависимость между уровнем дохода и возвратом кредита в срок?"
   ]
  },
  {
   "cell_type": "markdown",
   "metadata": {},
   "source": [
    "Сгруппируем таблицу по категории ежемесячного дохода и посчитаем количество клиентов, у которых были задолженности по возврату."
   ]
  },
  {
   "cell_type": "code",
   "execution_count": 63,
   "metadata": {},
   "outputs": [
    {
     "data": {
      "text/html": [
       "<div>\n",
       "<style scoped>\n",
       "    .dataframe tbody tr th:only-of-type {\n",
       "        vertical-align: middle;\n",
       "    }\n",
       "\n",
       "    .dataframe tbody tr th {\n",
       "        vertical-align: top;\n",
       "    }\n",
       "\n",
       "    .dataframe thead th {\n",
       "        text-align: right;\n",
       "    }\n",
       "</style>\n",
       "<table border=\"1\" class=\"dataframe\">\n",
       "  <thead>\n",
       "    <tr style=\"text-align: right;\">\n",
       "      <th></th>\n",
       "      <th>count</th>\n",
       "      <th>sum</th>\n",
       "      <th>ratio,%</th>\n",
       "    </tr>\n",
       "    <tr>\n",
       "      <th>month_income_category</th>\n",
       "      <th></th>\n",
       "      <th></th>\n",
       "      <th></th>\n",
       "    </tr>\n",
       "  </thead>\n",
       "  <tbody>\n",
       "    <tr>\n",
       "      <td>высокий</td>\n",
       "      <td>5363</td>\n",
       "      <td>383</td>\n",
       "      <td>7.14</td>\n",
       "    </tr>\n",
       "    <tr>\n",
       "      <td>низкий</td>\n",
       "      <td>5364</td>\n",
       "      <td>427</td>\n",
       "      <td>7.96</td>\n",
       "    </tr>\n",
       "    <tr>\n",
       "      <td>выше среднего</td>\n",
       "      <td>5248</td>\n",
       "      <td>448</td>\n",
       "      <td>8.54</td>\n",
       "    </tr>\n",
       "    <tr>\n",
       "      <td>средний</td>\n",
       "      <td>5478</td>\n",
       "      <td>483</td>\n",
       "      <td>8.82</td>\n",
       "    </tr>\n",
       "  </tbody>\n",
       "</table>\n",
       "</div>"
      ],
      "text/plain": [
       "                       count  sum  ratio,%\n",
       "month_income_category                     \n",
       "высокий                 5363  383     7.14\n",
       "низкий                  5364  427     7.96\n",
       "выше среднего           5248  448     8.54\n",
       "средний                 5478  483     8.82"
      ]
     },
     "metadata": {},
     "output_type": "display_data"
    }
   ],
   "source": [
    "debt_by_category(data, 'month_income_category')"
   ]
  },
  {
   "cell_type": "markdown",
   "metadata": {},
   "source": [
    "**Вывод**"
   ]
  },
  {
   "cell_type": "markdown",
   "metadata": {},
   "source": [
    "В данном случае видим, что меньше всего проблем с возвратом кредита в срок у тех, у кого низкие доходы и у тех, у кого самые высокие. А вот у обладателей среднего дохода возникают проблемы со сроками платы за кредит."
   ]
  },
  {
   "cell_type": "markdown",
   "metadata": {},
   "source": [
    "- Как разные цели кредита влияют на его возврат в срок?"
   ]
  },
  {
   "cell_type": "markdown",
   "metadata": {},
   "source": [
    "Сгруппируем таблицу по категории целей получения кредита и посчитаем количество клиентов, у которых были задолженности по возврату."
   ]
  },
  {
   "cell_type": "code",
   "execution_count": 64,
   "metadata": {},
   "outputs": [
    {
     "data": {
      "text/html": [
       "<div>\n",
       "<style scoped>\n",
       "    .dataframe tbody tr th:only-of-type {\n",
       "        vertical-align: middle;\n",
       "    }\n",
       "\n",
       "    .dataframe tbody tr th {\n",
       "        vertical-align: top;\n",
       "    }\n",
       "\n",
       "    .dataframe thead th {\n",
       "        text-align: right;\n",
       "    }\n",
       "</style>\n",
       "<table border=\"1\" class=\"dataframe\">\n",
       "  <thead>\n",
       "    <tr style=\"text-align: right;\">\n",
       "      <th></th>\n",
       "      <th>count</th>\n",
       "      <th>sum</th>\n",
       "      <th>ratio,%</th>\n",
       "    </tr>\n",
       "    <tr>\n",
       "      <th>purpose_category</th>\n",
       "      <th></th>\n",
       "      <th></th>\n",
       "      <th></th>\n",
       "    </tr>\n",
       "  </thead>\n",
       "  <tbody>\n",
       "    <tr>\n",
       "      <td>недвижимость</td>\n",
       "      <td>10811</td>\n",
       "      <td>782</td>\n",
       "      <td>7.23</td>\n",
       "    </tr>\n",
       "    <tr>\n",
       "      <td>свадьба</td>\n",
       "      <td>2323</td>\n",
       "      <td>186</td>\n",
       "      <td>8.01</td>\n",
       "    </tr>\n",
       "    <tr>\n",
       "      <td>образование</td>\n",
       "      <td>4013</td>\n",
       "      <td>370</td>\n",
       "      <td>9.22</td>\n",
       "    </tr>\n",
       "    <tr>\n",
       "      <td>автомомобиль</td>\n",
       "      <td>4306</td>\n",
       "      <td>403</td>\n",
       "      <td>9.36</td>\n",
       "    </tr>\n",
       "  </tbody>\n",
       "</table>\n",
       "</div>"
      ],
      "text/plain": [
       "                  count  sum  ratio,%\n",
       "purpose_category                     \n",
       "недвижимость      10811  782     7.23\n",
       "свадьба            2323  186     8.01\n",
       "образование        4013  370     9.22\n",
       "автомомобиль       4306  403     9.36"
      ]
     },
     "metadata": {},
     "output_type": "display_data"
    }
   ],
   "source": [
    "debt_by_category(data, 'purpose_category')"
   ]
  },
  {
   "cell_type": "markdown",
   "metadata": {},
   "source": [
    "**Вывод**"
   ]
  },
  {
   "cell_type": "markdown",
   "metadata": {},
   "source": [
    "Снова наблюдаем незначительную разницу с процентом возврата кредита в срок. Клиенты, взявшие кредиты на покупку нежвижимости или на свадьбу, в меньшем количестве случаем остаются в должниках чем те, кто брал кредиты на образование или покупку автомобиля."
   ]
  },
  {
   "cell_type": "markdown",
   "metadata": {},
   "source": [
    "## Общий вывод"
   ]
  },
  {
   "cell_type": "markdown",
   "metadata": {},
   "source": [
    "1. Считали таблицу из файла и изучили общую информацию. \"Посмотрели на данные глазами\", обозначили явные проблемы, наметили план обработки ошибок.\n",
    "2. Нашли пропуски в таблице. Выдвинули предположения о причинах их возникновения. Заполнили пропущенные значения.\n",
    "3. Изменили типы данных в некоторых столбцах на более подходящие.\n",
    "4. Нашли и убрали повторяющиеся строки. Указали возможные причины появления повторов в таблице.\n",
    "5. Провели лемматизацию данных о целях взятия кредита. Разблили цели на категории.\n",
    "6. Обнаружили избыточную информацию в таблице. Разделили исходную таблицу на 3 части.\n",
    "7. Нашли зависимости между: \n",
    "    - наличием детей и возвратом кредита в срок\n",
    "    - семейным положением и возвратом кредита в срок\n",
    "    - уровнем дохода и возвратом кредита в срок\n",
    "    - целями взятия кредита и его возвратом в срок"
   ]
  }
 ],
 "metadata": {
  "ExecuteTimeLog": [
   {
    "duration": 826,
    "start_time": "2021-10-10T12:37:11.847Z"
   },
   {
    "duration": 88,
    "start_time": "2021-10-10T12:37:12.676Z"
   },
   {
    "duration": 14,
    "start_time": "2021-10-10T12:37:12.770Z"
   },
   {
    "duration": 45,
    "start_time": "2021-10-10T12:37:12.787Z"
   },
   {
    "duration": 8,
    "start_time": "2021-10-10T12:37:12.859Z"
   },
   {
    "duration": 10,
    "start_time": "2021-10-10T12:37:12.869Z"
   },
   {
    "duration": 13,
    "start_time": "2021-10-10T12:37:12.883Z"
   },
   {
    "duration": 11,
    "start_time": "2021-10-10T12:37:12.899Z"
   },
   {
    "duration": 47,
    "start_time": "2021-10-10T12:37:12.912Z"
   },
   {
    "duration": 4,
    "start_time": "2021-10-10T12:37:12.962Z"
   },
   {
    "duration": 8,
    "start_time": "2021-10-10T12:37:12.969Z"
   },
   {
    "duration": 8,
    "start_time": "2021-10-10T12:37:12.979Z"
   },
   {
    "duration": 11,
    "start_time": "2021-10-10T12:37:12.990Z"
   },
   {
    "duration": 6,
    "start_time": "2021-10-10T12:37:13.003Z"
   },
   {
    "duration": 48,
    "start_time": "2021-10-10T12:37:13.011Z"
   },
   {
    "duration": 10,
    "start_time": "2021-10-10T12:37:13.061Z"
   },
   {
    "duration": 4,
    "start_time": "2021-10-10T12:37:13.074Z"
   },
   {
    "duration": 9,
    "start_time": "2021-10-10T12:37:13.080Z"
   },
   {
    "duration": 13,
    "start_time": "2021-10-10T12:37:13.091Z"
   },
   {
    "duration": 56,
    "start_time": "2021-10-10T12:37:13.106Z"
   },
   {
    "duration": 11,
    "start_time": "2021-10-10T12:37:13.164Z"
   },
   {
    "duration": 8,
    "start_time": "2021-10-10T12:37:13.184Z"
   },
   {
    "duration": 8,
    "start_time": "2021-10-10T12:37:13.196Z"
   },
   {
    "duration": 5,
    "start_time": "2021-10-10T12:37:13.206Z"
   },
   {
    "duration": 47,
    "start_time": "2021-10-10T12:37:13.213Z"
   },
   {
    "duration": 645,
    "start_time": "2021-10-10T12:37:13.262Z"
   },
   {
    "duration": 12,
    "start_time": "2021-10-10T12:37:13.909Z"
   },
   {
    "duration": 12,
    "start_time": "2021-10-10T12:37:13.923Z"
   },
   {
    "duration": 17,
    "start_time": "2021-10-10T12:37:13.958Z"
   },
   {
    "duration": 20,
    "start_time": "2021-10-10T12:37:13.978Z"
   },
   {
    "duration": 16,
    "start_time": "2021-10-10T12:37:14.000Z"
   },
   {
    "duration": 39,
    "start_time": "2021-10-10T12:37:14.019Z"
   },
   {
    "duration": 19,
    "start_time": "2021-10-10T12:37:14.060Z"
   },
   {
    "duration": 21,
    "start_time": "2021-10-10T12:37:14.081Z"
   },
   {
    "duration": 6,
    "start_time": "2021-10-10T12:37:14.105Z"
   },
   {
    "duration": 7,
    "start_time": "2021-10-10T12:37:14.113Z"
   },
   {
    "duration": 37,
    "start_time": "2021-10-10T12:37:14.122Z"
   },
   {
    "duration": 23,
    "start_time": "2021-10-10T12:37:14.161Z"
   },
   {
    "duration": 16,
    "start_time": "2021-10-10T12:37:14.186Z"
   },
   {
    "duration": 53,
    "start_time": "2021-10-10T12:37:14.204Z"
   },
   {
    "duration": 24,
    "start_time": "2021-10-10T12:37:14.259Z"
   },
   {
    "duration": 21,
    "start_time": "2021-10-10T12:37:14.285Z"
   },
   {
    "duration": 12,
    "start_time": "2021-10-10T12:37:14.308Z"
   },
   {
    "duration": 39,
    "start_time": "2021-10-10T12:37:14.322Z"
   },
   {
    "duration": 4875,
    "start_time": "2021-10-10T12:37:14.363Z"
   },
   {
    "duration": 29,
    "start_time": "2021-10-10T12:37:19.240Z"
   },
   {
    "duration": 6,
    "start_time": "2021-10-10T12:37:19.271Z"
   },
   {
    "duration": 16,
    "start_time": "2021-10-10T12:37:19.279Z"
   },
   {
    "duration": 9,
    "start_time": "2021-10-10T12:37:19.297Z"
   },
   {
    "duration": 8,
    "start_time": "2021-10-10T12:37:19.309Z"
   },
   {
    "duration": 6,
    "start_time": "2021-10-10T12:37:19.358Z"
   },
   {
    "duration": 12,
    "start_time": "2021-10-10T12:37:19.366Z"
   },
   {
    "duration": 9,
    "start_time": "2021-10-10T12:37:19.380Z"
   },
   {
    "duration": 8,
    "start_time": "2021-10-10T12:37:19.392Z"
   },
   {
    "duration": 8,
    "start_time": "2021-10-10T12:37:19.403Z"
   },
   {
    "duration": 51,
    "start_time": "2021-10-10T12:37:19.414Z"
   },
   {
    "duration": 11,
    "start_time": "2021-10-10T12:37:19.468Z"
   },
   {
    "duration": 10,
    "start_time": "2021-10-10T12:37:19.481Z"
   },
   {
    "duration": 17,
    "start_time": "2021-10-10T12:37:19.494Z"
   },
   {
    "duration": 48,
    "start_time": "2021-10-10T12:37:19.513Z"
   },
   {
    "duration": 25,
    "start_time": "2021-10-10T12:37:19.564Z"
   },
   {
    "duration": 13,
    "start_time": "2021-10-10T12:37:19.591Z"
   },
   {
    "duration": 16,
    "start_time": "2021-10-10T12:37:19.606Z"
   },
   {
    "duration": 36,
    "start_time": "2021-10-10T12:37:19.625Z"
   },
   {
    "duration": 25,
    "start_time": "2021-10-10T12:37:19.663Z"
   },
   {
    "duration": 19,
    "start_time": "2021-10-10T12:37:19.691Z"
   },
   {
    "duration": 7,
    "start_time": "2021-10-10T12:37:19.761Z"
   },
   {
    "duration": 16,
    "start_time": "2021-10-10T12:37:19.771Z"
   },
   {
    "duration": 11,
    "start_time": "2021-10-10T12:37:19.789Z"
   },
   {
    "duration": 9,
    "start_time": "2021-10-10T12:37:19.858Z"
   },
   {
    "duration": 18,
    "start_time": "2021-10-10T12:37:19.869Z"
   },
   {
    "duration": 772,
    "start_time": "2021-10-10T12:39:31.453Z"
   },
   {
    "duration": 88,
    "start_time": "2021-10-10T12:39:32.227Z"
   },
   {
    "duration": 15,
    "start_time": "2021-10-10T12:39:32.322Z"
   },
   {
    "duration": 47,
    "start_time": "2021-10-10T12:39:32.358Z"
   },
   {
    "duration": 7,
    "start_time": "2021-10-10T12:39:32.407Z"
   },
   {
    "duration": 9,
    "start_time": "2021-10-10T12:39:32.417Z"
   },
   {
    "duration": 9,
    "start_time": "2021-10-10T12:39:32.457Z"
   },
   {
    "duration": 19,
    "start_time": "2021-10-10T12:39:32.469Z"
   },
   {
    "duration": 21,
    "start_time": "2021-10-10T12:39:32.491Z"
   },
   {
    "duration": 5,
    "start_time": "2021-10-10T12:39:32.514Z"
   },
   {
    "duration": 6,
    "start_time": "2021-10-10T12:39:32.521Z"
   },
   {
    "duration": 27,
    "start_time": "2021-10-10T12:39:32.530Z"
   },
   {
    "duration": 10,
    "start_time": "2021-10-10T12:39:32.559Z"
   },
   {
    "duration": 7,
    "start_time": "2021-10-10T12:39:32.571Z"
   },
   {
    "duration": 9,
    "start_time": "2021-10-10T12:39:32.580Z"
   },
   {
    "duration": 9,
    "start_time": "2021-10-10T12:39:32.591Z"
   },
   {
    "duration": 11,
    "start_time": "2021-10-10T12:39:32.603Z"
   },
   {
    "duration": 44,
    "start_time": "2021-10-10T12:39:32.616Z"
   },
   {
    "duration": 13,
    "start_time": "2021-10-10T12:39:32.663Z"
   },
   {
    "duration": 8,
    "start_time": "2021-10-10T12:39:32.678Z"
   },
   {
    "duration": 11,
    "start_time": "2021-10-10T12:39:32.688Z"
   },
   {
    "duration": 7,
    "start_time": "2021-10-10T12:39:32.701Z"
   },
   {
    "duration": 48,
    "start_time": "2021-10-10T12:39:32.711Z"
   },
   {
    "duration": 8,
    "start_time": "2021-10-10T12:39:32.762Z"
   },
   {
    "duration": 8,
    "start_time": "2021-10-10T12:39:32.773Z"
   },
   {
    "duration": 804,
    "start_time": "2021-10-10T12:39:32.788Z"
   },
   {
    "duration": 66,
    "start_time": "2021-10-10T12:39:33.596Z"
   },
   {
    "duration": 12,
    "start_time": "2021-10-10T12:39:33.664Z"
   },
   {
    "duration": 19,
    "start_time": "2021-10-10T12:39:33.679Z"
   },
   {
    "duration": 63,
    "start_time": "2021-10-10T12:39:33.701Z"
   },
   {
    "duration": 9,
    "start_time": "2021-10-10T12:39:33.767Z"
   },
   {
    "duration": 27,
    "start_time": "2021-10-10T12:39:33.778Z"
   },
   {
    "duration": 69,
    "start_time": "2021-10-10T12:39:33.807Z"
   },
   {
    "duration": 80,
    "start_time": "2021-10-10T12:39:33.878Z"
   },
   {
    "duration": 7,
    "start_time": "2021-10-10T12:39:33.960Z"
   },
   {
    "duration": 7,
    "start_time": "2021-10-10T12:39:33.969Z"
   },
   {
    "duration": 21,
    "start_time": "2021-10-10T12:39:33.978Z"
   },
   {
    "duration": 58,
    "start_time": "2021-10-10T12:39:34.001Z"
   },
   {
    "duration": 15,
    "start_time": "2021-10-10T12:39:34.061Z"
   },
   {
    "duration": 30,
    "start_time": "2021-10-10T12:39:34.078Z"
   },
   {
    "duration": 24,
    "start_time": "2021-10-10T12:39:34.111Z"
   },
   {
    "duration": 38,
    "start_time": "2021-10-10T12:39:34.138Z"
   },
   {
    "duration": 9,
    "start_time": "2021-10-10T12:39:34.178Z"
   },
   {
    "duration": 10,
    "start_time": "2021-10-10T12:39:34.189Z"
   },
   {
    "duration": 4426,
    "start_time": "2021-10-10T12:39:34.201Z"
   },
   {
    "duration": 36,
    "start_time": "2021-10-10T12:39:38.630Z"
   },
   {
    "duration": 5,
    "start_time": "2021-10-10T12:39:38.668Z"
   },
   {
    "duration": 12,
    "start_time": "2021-10-10T12:39:38.676Z"
   },
   {
    "duration": 10,
    "start_time": "2021-10-10T12:39:38.691Z"
   },
   {
    "duration": 9,
    "start_time": "2021-10-10T12:39:38.703Z"
   },
   {
    "duration": 6,
    "start_time": "2021-10-10T12:39:38.714Z"
   },
   {
    "duration": 9,
    "start_time": "2021-10-10T12:39:38.759Z"
   },
   {
    "duration": 10,
    "start_time": "2021-10-10T12:39:38.770Z"
   },
   {
    "duration": 8,
    "start_time": "2021-10-10T12:39:38.783Z"
   },
   {
    "duration": 6,
    "start_time": "2021-10-10T12:39:38.793Z"
   },
   {
    "duration": 17,
    "start_time": "2021-10-10T12:39:38.801Z"
   },
   {
    "duration": 46,
    "start_time": "2021-10-10T12:39:38.820Z"
   },
   {
    "duration": 10,
    "start_time": "2021-10-10T12:39:38.868Z"
   },
   {
    "duration": 19,
    "start_time": "2021-10-10T12:39:38.880Z"
   },
   {
    "duration": 19,
    "start_time": "2021-10-10T12:39:38.901Z"
   },
   {
    "duration": 34,
    "start_time": "2021-10-10T12:39:38.923Z"
   },
   {
    "duration": 14,
    "start_time": "2021-10-10T12:39:38.960Z"
   },
   {
    "duration": 13,
    "start_time": "2021-10-10T12:39:38.977Z"
   },
   {
    "duration": 15,
    "start_time": "2021-10-10T12:39:38.992Z"
   },
   {
    "duration": 23,
    "start_time": "2021-10-10T12:39:39.010Z"
   },
   {
    "duration": 31,
    "start_time": "2021-10-10T12:39:39.035Z"
   },
   {
    "duration": 7,
    "start_time": "2021-10-10T12:39:39.068Z"
   },
   {
    "duration": 18,
    "start_time": "2021-10-10T12:39:39.077Z"
   },
   {
    "duration": 18,
    "start_time": "2021-10-10T12:39:39.098Z"
   },
   {
    "duration": 7,
    "start_time": "2021-10-10T12:39:39.119Z"
   },
   {
    "duration": 40,
    "start_time": "2021-10-10T12:39:39.128Z"
   },
   {
    "duration": 789,
    "start_time": "2021-10-10T12:40:21.646Z"
   },
   {
    "duration": 90,
    "start_time": "2021-10-10T12:40:22.438Z"
   },
   {
    "duration": 14,
    "start_time": "2021-10-10T12:40:22.530Z"
   },
   {
    "duration": 47,
    "start_time": "2021-10-10T12:40:22.557Z"
   },
   {
    "duration": 8,
    "start_time": "2021-10-10T12:40:22.607Z"
   },
   {
    "duration": 11,
    "start_time": "2021-10-10T12:40:22.617Z"
   },
   {
    "duration": 10,
    "start_time": "2021-10-10T12:40:22.658Z"
   },
   {
    "duration": 11,
    "start_time": "2021-10-10T12:40:22.672Z"
   },
   {
    "duration": 12,
    "start_time": "2021-10-10T12:40:22.686Z"
   },
   {
    "duration": 5,
    "start_time": "2021-10-10T12:40:22.701Z"
   },
   {
    "duration": 7,
    "start_time": "2021-10-10T12:40:22.708Z"
   },
   {
    "duration": 40,
    "start_time": "2021-10-10T12:40:22.718Z"
   },
   {
    "duration": 10,
    "start_time": "2021-10-10T12:40:22.761Z"
   },
   {
    "duration": 7,
    "start_time": "2021-10-10T12:40:22.773Z"
   },
   {
    "duration": 8,
    "start_time": "2021-10-10T12:40:22.783Z"
   },
   {
    "duration": 10,
    "start_time": "2021-10-10T12:40:22.793Z"
   },
   {
    "duration": 6,
    "start_time": "2021-10-10T12:40:22.805Z"
   },
   {
    "duration": 8,
    "start_time": "2021-10-10T12:40:22.858Z"
   },
   {
    "duration": 13,
    "start_time": "2021-10-10T12:40:22.869Z"
   },
   {
    "duration": 8,
    "start_time": "2021-10-10T12:40:22.884Z"
   },
   {
    "duration": 22,
    "start_time": "2021-10-10T12:40:22.895Z"
   },
   {
    "duration": 8,
    "start_time": "2021-10-10T12:40:22.919Z"
   },
   {
    "duration": 6,
    "start_time": "2021-10-10T12:40:22.962Z"
   },
   {
    "duration": 5,
    "start_time": "2021-10-10T12:40:22.972Z"
   },
   {
    "duration": 4,
    "start_time": "2021-10-10T12:40:22.979Z"
   },
   {
    "duration": 632,
    "start_time": "2021-10-10T12:40:22.986Z"
   },
   {
    "duration": 13,
    "start_time": "2021-10-10T12:40:23.620Z"
   },
   {
    "duration": 27,
    "start_time": "2021-10-10T12:40:23.635Z"
   },
   {
    "duration": 16,
    "start_time": "2021-10-10T12:40:23.665Z"
   },
   {
    "duration": 12,
    "start_time": "2021-10-10T12:40:23.684Z"
   },
   {
    "duration": 7,
    "start_time": "2021-10-10T12:40:23.699Z"
   },
   {
    "duration": 54,
    "start_time": "2021-10-10T12:40:23.708Z"
   },
   {
    "duration": 20,
    "start_time": "2021-10-10T12:40:23.764Z"
   },
   {
    "duration": 21,
    "start_time": "2021-10-10T12:40:23.786Z"
   },
   {
    "duration": 6,
    "start_time": "2021-10-10T12:40:23.809Z"
   },
   {
    "duration": 6,
    "start_time": "2021-10-10T12:40:23.817Z"
   },
   {
    "duration": 7,
    "start_time": "2021-10-10T12:40:23.858Z"
   },
   {
    "duration": 24,
    "start_time": "2021-10-10T12:40:23.867Z"
   },
   {
    "duration": 14,
    "start_time": "2021-10-10T12:40:23.893Z"
   },
   {
    "duration": 57,
    "start_time": "2021-10-10T12:40:23.910Z"
   },
   {
    "duration": 23,
    "start_time": "2021-10-10T12:40:23.969Z"
   },
   {
    "duration": 21,
    "start_time": "2021-10-10T12:40:23.994Z"
   },
   {
    "duration": 9,
    "start_time": "2021-10-10T12:40:24.017Z"
   },
   {
    "duration": 31,
    "start_time": "2021-10-10T12:40:24.028Z"
   },
   {
    "duration": 4372,
    "start_time": "2021-10-10T12:40:24.061Z"
   },
   {
    "duration": 33,
    "start_time": "2021-10-10T12:40:28.436Z"
   },
   {
    "duration": 7,
    "start_time": "2021-10-10T12:40:28.472Z"
   },
   {
    "duration": 16,
    "start_time": "2021-10-10T12:40:28.482Z"
   },
   {
    "duration": 11,
    "start_time": "2021-10-10T12:40:28.501Z"
   },
   {
    "duration": 45,
    "start_time": "2021-10-10T12:40:28.515Z"
   },
   {
    "duration": 11,
    "start_time": "2021-10-10T12:40:28.563Z"
   },
   {
    "duration": 14,
    "start_time": "2021-10-10T12:40:28.576Z"
   },
   {
    "duration": 19,
    "start_time": "2021-10-10T12:40:28.593Z"
   },
   {
    "duration": 24,
    "start_time": "2021-10-10T12:40:28.615Z"
   },
   {
    "duration": 16,
    "start_time": "2021-10-10T12:40:28.641Z"
   },
   {
    "duration": 14,
    "start_time": "2021-10-10T12:40:28.660Z"
   },
   {
    "duration": 13,
    "start_time": "2021-10-10T12:40:28.677Z"
   },
   {
    "duration": 12,
    "start_time": "2021-10-10T12:40:28.692Z"
   },
   {
    "duration": 17,
    "start_time": "2021-10-10T12:40:28.706Z"
   },
   {
    "duration": 39,
    "start_time": "2021-10-10T12:40:28.726Z"
   },
   {
    "duration": 12,
    "start_time": "2021-10-10T12:40:28.768Z"
   },
   {
    "duration": 14,
    "start_time": "2021-10-10T12:40:28.782Z"
   },
   {
    "duration": 13,
    "start_time": "2021-10-10T12:40:28.798Z"
   },
   {
    "duration": 6,
    "start_time": "2021-10-10T12:40:28.813Z"
   },
   {
    "duration": 48,
    "start_time": "2021-10-10T12:40:28.821Z"
   },
   {
    "duration": 12,
    "start_time": "2021-10-10T12:40:28.871Z"
   },
   {
    "duration": 6,
    "start_time": "2021-10-10T12:40:28.885Z"
   },
   {
    "duration": 14,
    "start_time": "2021-10-10T12:40:28.899Z"
   },
   {
    "duration": 48,
    "start_time": "2021-10-10T12:40:28.916Z"
   },
   {
    "duration": 12,
    "start_time": "2021-10-10T12:40:28.967Z"
   },
   {
    "duration": 34,
    "start_time": "2021-10-10T12:40:28.981Z"
   },
   {
    "duration": 775,
    "start_time": "2021-10-10T12:42:34.450Z"
   },
   {
    "duration": 87,
    "start_time": "2021-10-10T12:42:35.227Z"
   },
   {
    "duration": 15,
    "start_time": "2021-10-10T12:42:35.317Z"
   },
   {
    "duration": 60,
    "start_time": "2021-10-10T12:42:35.335Z"
   },
   {
    "duration": 9,
    "start_time": "2021-10-10T12:42:35.398Z"
   },
   {
    "duration": 16,
    "start_time": "2021-10-10T12:42:35.409Z"
   },
   {
    "duration": 35,
    "start_time": "2021-10-10T12:42:35.428Z"
   },
   {
    "duration": 10,
    "start_time": "2021-10-10T12:42:35.467Z"
   },
   {
    "duration": 13,
    "start_time": "2021-10-10T12:42:35.480Z"
   },
   {
    "duration": 10,
    "start_time": "2021-10-10T12:42:35.496Z"
   },
   {
    "duration": 6,
    "start_time": "2021-10-10T12:42:35.509Z"
   },
   {
    "duration": 9,
    "start_time": "2021-10-10T12:42:35.517Z"
   },
   {
    "duration": 38,
    "start_time": "2021-10-10T12:42:35.528Z"
   },
   {
    "duration": 7,
    "start_time": "2021-10-10T12:42:35.568Z"
   },
   {
    "duration": 11,
    "start_time": "2021-10-10T12:42:35.577Z"
   },
   {
    "duration": 16,
    "start_time": "2021-10-10T12:42:35.590Z"
   },
   {
    "duration": 9,
    "start_time": "2021-10-10T12:42:35.608Z"
   },
   {
    "duration": 9,
    "start_time": "2021-10-10T12:42:35.619Z"
   },
   {
    "duration": 12,
    "start_time": "2021-10-10T12:42:35.659Z"
   },
   {
    "duration": 25,
    "start_time": "2021-10-10T12:42:35.673Z"
   },
   {
    "duration": 15,
    "start_time": "2021-10-10T12:42:35.700Z"
   },
   {
    "duration": 9,
    "start_time": "2021-10-10T12:42:35.718Z"
   },
   {
    "duration": 6,
    "start_time": "2021-10-10T12:42:35.733Z"
   },
   {
    "duration": 4,
    "start_time": "2021-10-10T12:42:35.759Z"
   },
   {
    "duration": 9,
    "start_time": "2021-10-10T12:42:35.765Z"
   },
   {
    "duration": 616,
    "start_time": "2021-10-10T12:42:35.776Z"
   },
   {
    "duration": 19,
    "start_time": "2021-10-10T12:42:36.394Z"
   },
   {
    "duration": 14,
    "start_time": "2021-10-10T12:42:36.417Z"
   },
   {
    "duration": 37,
    "start_time": "2021-10-10T12:42:36.434Z"
   },
   {
    "duration": 10,
    "start_time": "2021-10-10T12:42:36.474Z"
   },
   {
    "duration": 7,
    "start_time": "2021-10-10T12:42:36.486Z"
   },
   {
    "duration": 66,
    "start_time": "2021-10-10T12:42:36.496Z"
   },
   {
    "duration": 21,
    "start_time": "2021-10-10T12:42:36.565Z"
   },
   {
    "duration": 31,
    "start_time": "2021-10-10T12:42:36.589Z"
   },
   {
    "duration": 7,
    "start_time": "2021-10-10T12:42:36.622Z"
   },
   {
    "duration": 29,
    "start_time": "2021-10-10T12:42:36.631Z"
   },
   {
    "duration": 10,
    "start_time": "2021-10-10T12:42:36.663Z"
   },
   {
    "duration": 27,
    "start_time": "2021-10-10T12:42:36.675Z"
   },
   {
    "duration": 15,
    "start_time": "2021-10-10T12:42:36.704Z"
   },
   {
    "duration": 47,
    "start_time": "2021-10-10T12:42:36.721Z"
   },
   {
    "duration": 24,
    "start_time": "2021-10-10T12:42:36.771Z"
   },
   {
    "duration": 20,
    "start_time": "2021-10-10T12:42:36.797Z"
   },
   {
    "duration": 37,
    "start_time": "2021-10-10T12:42:36.820Z"
   },
   {
    "duration": 5,
    "start_time": "2021-10-10T12:42:36.860Z"
   },
   {
    "duration": 4739,
    "start_time": "2021-10-10T12:42:36.868Z"
   },
   {
    "duration": 21,
    "start_time": "2021-10-10T12:42:41.609Z"
   },
   {
    "duration": 26,
    "start_time": "2021-10-10T12:42:41.632Z"
   },
   {
    "duration": 12,
    "start_time": "2021-10-10T12:42:41.661Z"
   },
   {
    "duration": 10,
    "start_time": "2021-10-10T12:42:41.676Z"
   },
   {
    "duration": 9,
    "start_time": "2021-10-10T12:42:41.689Z"
   },
   {
    "duration": 59,
    "start_time": "2021-10-10T12:42:41.700Z"
   },
   {
    "duration": 10,
    "start_time": "2021-10-10T12:42:41.761Z"
   },
   {
    "duration": 17,
    "start_time": "2021-10-10T12:42:41.773Z"
   },
   {
    "duration": 9,
    "start_time": "2021-10-10T12:42:41.792Z"
   },
   {
    "duration": 6,
    "start_time": "2021-10-10T12:42:41.804Z"
   },
   {
    "duration": 46,
    "start_time": "2021-10-10T12:42:41.813Z"
   },
   {
    "duration": 13,
    "start_time": "2021-10-10T12:42:41.862Z"
   },
   {
    "duration": 11,
    "start_time": "2021-10-10T12:42:41.878Z"
   },
   {
    "duration": 18,
    "start_time": "2021-10-10T12:42:41.892Z"
   },
   {
    "duration": 53,
    "start_time": "2021-10-10T12:42:41.913Z"
   },
   {
    "duration": 15,
    "start_time": "2021-10-10T12:42:41.968Z"
   },
   {
    "duration": 14,
    "start_time": "2021-10-10T12:42:41.985Z"
   },
   {
    "duration": 15,
    "start_time": "2021-10-10T12:42:42.001Z"
   },
   {
    "duration": 6,
    "start_time": "2021-10-10T12:42:42.019Z"
   },
   {
    "duration": 47,
    "start_time": "2021-10-10T12:42:42.028Z"
   },
   {
    "duration": 11,
    "start_time": "2021-10-10T12:42:42.077Z"
   },
   {
    "duration": 7,
    "start_time": "2021-10-10T12:42:42.091Z"
   },
   {
    "duration": 25,
    "start_time": "2021-10-10T12:42:42.105Z"
   },
   {
    "duration": 33,
    "start_time": "2021-10-10T12:42:42.132Z"
   },
   {
    "duration": 169,
    "start_time": "2021-10-10T12:42:42.169Z"
   },
   {
    "duration": 28,
    "start_time": "2021-10-10T12:42:42.341Z"
   },
   {
    "duration": 9,
    "start_time": "2021-10-10T12:50:57.123Z"
   },
   {
    "duration": 8,
    "start_time": "2021-10-10T12:51:10.694Z"
   },
   {
    "duration": 742,
    "start_time": "2021-10-10T12:51:17.106Z"
   },
   {
    "duration": 89,
    "start_time": "2021-10-10T12:51:17.851Z"
   },
   {
    "duration": 23,
    "start_time": "2021-10-10T12:51:17.943Z"
   },
   {
    "duration": 48,
    "start_time": "2021-10-10T12:51:17.969Z"
   },
   {
    "duration": 7,
    "start_time": "2021-10-10T12:51:18.020Z"
   },
   {
    "duration": 35,
    "start_time": "2021-10-10T12:51:18.029Z"
   },
   {
    "duration": 14,
    "start_time": "2021-10-10T12:51:18.066Z"
   },
   {
    "duration": 11,
    "start_time": "2021-10-10T12:51:18.084Z"
   },
   {
    "duration": 10,
    "start_time": "2021-10-10T12:51:18.098Z"
   },
   {
    "duration": 6,
    "start_time": "2021-10-10T12:51:18.110Z"
   },
   {
    "duration": 39,
    "start_time": "2021-10-10T12:51:18.118Z"
   },
   {
    "duration": 5,
    "start_time": "2021-10-10T12:51:18.160Z"
   },
   {
    "duration": 15,
    "start_time": "2021-10-10T12:51:18.167Z"
   },
   {
    "duration": 7,
    "start_time": "2021-10-10T12:51:18.184Z"
   },
   {
    "duration": 11,
    "start_time": "2021-10-10T12:51:18.193Z"
   },
   {
    "duration": 10,
    "start_time": "2021-10-10T12:51:18.207Z"
   },
   {
    "duration": 41,
    "start_time": "2021-10-10T12:51:18.219Z"
   },
   {
    "duration": 10,
    "start_time": "2021-10-10T12:51:18.263Z"
   },
   {
    "duration": 15,
    "start_time": "2021-10-10T12:51:18.275Z"
   },
   {
    "duration": 9,
    "start_time": "2021-10-10T12:51:18.292Z"
   },
   {
    "duration": 13,
    "start_time": "2021-10-10T12:51:18.303Z"
   },
   {
    "duration": 7,
    "start_time": "2021-10-10T12:51:18.359Z"
   },
   {
    "duration": 6,
    "start_time": "2021-10-10T12:51:18.372Z"
   },
   {
    "duration": 4,
    "start_time": "2021-10-10T12:51:18.382Z"
   },
   {
    "duration": 6,
    "start_time": "2021-10-10T12:51:18.388Z"
   },
   {
    "duration": 619,
    "start_time": "2021-10-10T12:51:18.396Z"
   },
   {
    "duration": 13,
    "start_time": "2021-10-10T12:51:19.017Z"
   },
   {
    "duration": 31,
    "start_time": "2021-10-10T12:51:19.032Z"
   },
   {
    "duration": 17,
    "start_time": "2021-10-10T12:51:19.065Z"
   },
   {
    "duration": 13,
    "start_time": "2021-10-10T12:51:19.084Z"
   },
   {
    "duration": 11,
    "start_time": "2021-10-10T12:51:19.100Z"
   },
   {
    "duration": 9,
    "start_time": "2021-10-10T12:51:19.114Z"
   },
   {
    "duration": 50,
    "start_time": "2021-10-10T12:51:19.126Z"
   },
   {
    "duration": 23,
    "start_time": "2021-10-10T12:51:19.178Z"
   },
   {
    "duration": 6,
    "start_time": "2021-10-10T12:51:19.203Z"
   },
   {
    "duration": 8,
    "start_time": "2021-10-10T12:51:19.211Z"
   },
   {
    "duration": 38,
    "start_time": "2021-10-10T12:51:19.221Z"
   },
   {
    "duration": 27,
    "start_time": "2021-10-10T12:51:19.261Z"
   },
   {
    "duration": 16,
    "start_time": "2021-10-10T12:51:19.290Z"
   },
   {
    "duration": 52,
    "start_time": "2021-10-10T12:51:19.308Z"
   },
   {
    "duration": 26,
    "start_time": "2021-10-10T12:51:19.362Z"
   },
   {
    "duration": 20,
    "start_time": "2021-10-10T12:51:19.391Z"
   },
   {
    "duration": 9,
    "start_time": "2021-10-10T12:51:19.414Z"
   },
   {
    "duration": 34,
    "start_time": "2021-10-10T12:51:19.425Z"
   },
   {
    "duration": 4784,
    "start_time": "2021-10-10T12:51:19.462Z"
   },
   {
    "duration": 19,
    "start_time": "2021-10-10T12:51:24.257Z"
   },
   {
    "duration": 9,
    "start_time": "2021-10-10T12:51:24.279Z"
   },
   {
    "duration": 16,
    "start_time": "2021-10-10T12:51:24.291Z"
   },
   {
    "duration": 16,
    "start_time": "2021-10-10T12:51:24.310Z"
   },
   {
    "duration": 33,
    "start_time": "2021-10-10T12:51:24.329Z"
   },
   {
    "duration": 30,
    "start_time": "2021-10-10T12:51:24.364Z"
   },
   {
    "duration": 17,
    "start_time": "2021-10-10T12:51:24.397Z"
   },
   {
    "duration": 14,
    "start_time": "2021-10-10T12:51:24.417Z"
   },
   {
    "duration": 15,
    "start_time": "2021-10-10T12:51:24.433Z"
   },
   {
    "duration": 40,
    "start_time": "2021-10-10T12:51:24.450Z"
   },
   {
    "duration": 24,
    "start_time": "2021-10-10T12:51:24.493Z"
   },
   {
    "duration": 12,
    "start_time": "2021-10-10T12:51:24.520Z"
   },
   {
    "duration": 15,
    "start_time": "2021-10-10T12:51:24.535Z"
   },
   {
    "duration": 30,
    "start_time": "2021-10-10T12:51:24.552Z"
   },
   {
    "duration": 17,
    "start_time": "2021-10-10T12:51:24.585Z"
   },
   {
    "duration": 18,
    "start_time": "2021-10-10T12:51:24.605Z"
   },
   {
    "duration": 21,
    "start_time": "2021-10-10T12:51:24.625Z"
   },
   {
    "duration": 1375,
    "start_time": "2021-10-10T13:12:59.457Z"
   },
   {
    "duration": 87,
    "start_time": "2021-10-10T13:13:00.835Z"
   },
   {
    "duration": 15,
    "start_time": "2021-10-10T13:13:00.925Z"
   },
   {
    "duration": 60,
    "start_time": "2021-10-10T13:13:00.942Z"
   },
   {
    "duration": 8,
    "start_time": "2021-10-10T13:13:01.004Z"
   },
   {
    "duration": 34,
    "start_time": "2021-10-10T13:13:01.014Z"
   },
   {
    "duration": 18,
    "start_time": "2021-10-10T13:13:01.050Z"
   },
   {
    "duration": 19,
    "start_time": "2021-10-10T13:13:01.074Z"
   },
   {
    "duration": 25,
    "start_time": "2021-10-10T13:13:01.096Z"
   },
   {
    "duration": 20,
    "start_time": "2021-10-10T13:13:01.123Z"
   },
   {
    "duration": 19,
    "start_time": "2021-10-10T13:13:01.146Z"
   },
   {
    "duration": 25,
    "start_time": "2021-10-10T13:13:01.167Z"
   },
   {
    "duration": 38,
    "start_time": "2021-10-10T13:13:01.194Z"
   },
   {
    "duration": 19,
    "start_time": "2021-10-10T13:13:01.234Z"
   },
   {
    "duration": 17,
    "start_time": "2021-10-10T13:13:01.255Z"
   },
   {
    "duration": 17,
    "start_time": "2021-10-10T13:13:01.275Z"
   },
   {
    "duration": 32,
    "start_time": "2021-10-10T13:13:01.295Z"
   },
   {
    "duration": 14,
    "start_time": "2021-10-10T13:13:01.330Z"
   },
   {
    "duration": 16,
    "start_time": "2021-10-10T13:13:01.346Z"
   },
   {
    "duration": 27,
    "start_time": "2021-10-10T13:13:01.364Z"
   },
   {
    "duration": 25,
    "start_time": "2021-10-10T13:13:01.394Z"
   },
   {
    "duration": 15,
    "start_time": "2021-10-10T13:13:01.421Z"
   },
   {
    "duration": 10,
    "start_time": "2021-10-10T13:13:01.443Z"
   },
   {
    "duration": 9,
    "start_time": "2021-10-10T13:13:01.457Z"
   },
   {
    "duration": 15,
    "start_time": "2021-10-10T13:13:01.469Z"
   },
   {
    "duration": 612,
    "start_time": "2021-10-10T13:13:01.486Z"
   },
   {
    "duration": 12,
    "start_time": "2021-10-10T13:13:02.100Z"
   },
   {
    "duration": 28,
    "start_time": "2021-10-10T13:13:02.114Z"
   },
   {
    "duration": 24,
    "start_time": "2021-10-10T13:13:02.144Z"
   },
   {
    "duration": 10,
    "start_time": "2021-10-10T13:13:02.170Z"
   },
   {
    "duration": 27,
    "start_time": "2021-10-10T13:13:02.182Z"
   },
   {
    "duration": 21,
    "start_time": "2021-10-10T13:13:02.211Z"
   },
   {
    "duration": 29,
    "start_time": "2021-10-10T13:13:02.235Z"
   },
   {
    "duration": 22,
    "start_time": "2021-10-10T13:13:02.266Z"
   },
   {
    "duration": 6,
    "start_time": "2021-10-10T13:13:02.290Z"
   },
   {
    "duration": 10,
    "start_time": "2021-10-10T13:13:02.298Z"
   },
   {
    "duration": 20,
    "start_time": "2021-10-10T13:13:02.310Z"
   },
   {
    "duration": 41,
    "start_time": "2021-10-10T13:13:02.332Z"
   },
   {
    "duration": 15,
    "start_time": "2021-10-10T13:13:02.375Z"
   },
   {
    "duration": 37,
    "start_time": "2021-10-10T13:13:02.392Z"
   },
   {
    "duration": 39,
    "start_time": "2021-10-10T13:13:02.431Z"
   },
   {
    "duration": 20,
    "start_time": "2021-10-10T13:13:02.472Z"
   },
   {
    "duration": 9,
    "start_time": "2021-10-10T13:13:02.495Z"
   },
   {
    "duration": 17,
    "start_time": "2021-10-10T13:13:02.507Z"
   },
   {
    "duration": 4720,
    "start_time": "2021-10-10T13:13:02.527Z"
   },
   {
    "duration": 21,
    "start_time": "2021-10-10T13:13:07.259Z"
   },
   {
    "duration": 5,
    "start_time": "2021-10-10T13:13:07.283Z"
   },
   {
    "duration": 36,
    "start_time": "2021-10-10T13:13:07.290Z"
   },
   {
    "duration": 9,
    "start_time": "2021-10-10T13:13:07.328Z"
   },
   {
    "duration": 23,
    "start_time": "2021-10-10T13:13:07.340Z"
   },
   {
    "duration": 13,
    "start_time": "2021-10-10T13:13:07.365Z"
   },
   {
    "duration": 20,
    "start_time": "2021-10-10T13:13:07.381Z"
   },
   {
    "duration": 24,
    "start_time": "2021-10-10T13:13:07.403Z"
   },
   {
    "duration": 13,
    "start_time": "2021-10-10T13:13:07.429Z"
   },
   {
    "duration": 13,
    "start_time": "2021-10-10T13:13:07.444Z"
   },
   {
    "duration": 10,
    "start_time": "2021-10-10T13:13:07.459Z"
   },
   {
    "duration": 12,
    "start_time": "2021-10-10T13:13:07.471Z"
   },
   {
    "duration": 13,
    "start_time": "2021-10-10T13:13:07.485Z"
   },
   {
    "duration": 23,
    "start_time": "2021-10-10T13:13:07.500Z"
   },
   {
    "duration": 40,
    "start_time": "2021-10-10T13:13:07.525Z"
   },
   {
    "duration": 19,
    "start_time": "2021-10-10T13:13:07.567Z"
   },
   {
    "duration": 24,
    "start_time": "2021-10-10T13:13:07.588Z"
   },
   {
    "duration": 21,
    "start_time": "2021-10-10T13:13:07.615Z"
   },
   {
    "duration": 9,
    "start_time": "2021-10-10T13:13:07.639Z"
   },
   {
    "duration": 29,
    "start_time": "2021-10-10T13:13:07.650Z"
   },
   {
    "duration": 13,
    "start_time": "2021-10-10T13:13:07.682Z"
   },
   {
    "duration": 9,
    "start_time": "2021-10-10T13:13:07.697Z"
   },
   {
    "duration": 22,
    "start_time": "2021-10-10T13:13:07.715Z"
   },
   {
    "duration": 30,
    "start_time": "2021-10-10T13:13:07.740Z"
   },
   {
    "duration": 8,
    "start_time": "2021-10-10T13:13:07.772Z"
   },
   {
    "duration": 15,
    "start_time": "2021-10-10T13:13:07.783Z"
   },
   {
    "duration": 805,
    "start_time": "2021-10-10T13:13:22.930Z"
   },
   {
    "duration": 87,
    "start_time": "2021-10-10T13:13:23.738Z"
   },
   {
    "duration": 30,
    "start_time": "2021-10-10T13:13:23.828Z"
   },
   {
    "duration": 46,
    "start_time": "2021-10-10T13:13:23.861Z"
   },
   {
    "duration": 8,
    "start_time": "2021-10-10T13:13:23.909Z"
   },
   {
    "duration": 43,
    "start_time": "2021-10-10T13:13:23.920Z"
   },
   {
    "duration": 22,
    "start_time": "2021-10-10T13:13:23.966Z"
   },
   {
    "duration": 18,
    "start_time": "2021-10-10T13:13:23.992Z"
   },
   {
    "duration": 23,
    "start_time": "2021-10-10T13:13:24.013Z"
   },
   {
    "duration": 12,
    "start_time": "2021-10-10T13:13:24.038Z"
   },
   {
    "duration": 24,
    "start_time": "2021-10-10T13:13:24.052Z"
   },
   {
    "duration": 26,
    "start_time": "2021-10-10T13:13:24.078Z"
   },
   {
    "duration": 24,
    "start_time": "2021-10-10T13:13:24.106Z"
   },
   {
    "duration": 21,
    "start_time": "2021-10-10T13:13:24.132Z"
   },
   {
    "duration": 26,
    "start_time": "2021-10-10T13:13:24.156Z"
   },
   {
    "duration": 20,
    "start_time": "2021-10-10T13:13:24.185Z"
   },
   {
    "duration": 15,
    "start_time": "2021-10-10T13:13:24.208Z"
   },
   {
    "duration": 25,
    "start_time": "2021-10-10T13:13:24.225Z"
   },
   {
    "duration": 22,
    "start_time": "2021-10-10T13:13:24.253Z"
   },
   {
    "duration": 23,
    "start_time": "2021-10-10T13:13:24.277Z"
   },
   {
    "duration": 19,
    "start_time": "2021-10-10T13:13:24.302Z"
   },
   {
    "duration": 17,
    "start_time": "2021-10-10T13:13:24.323Z"
   },
   {
    "duration": 21,
    "start_time": "2021-10-10T13:13:24.346Z"
   },
   {
    "duration": 13,
    "start_time": "2021-10-10T13:13:24.371Z"
   },
   {
    "duration": 22,
    "start_time": "2021-10-10T13:13:24.386Z"
   },
   {
    "duration": 751,
    "start_time": "2021-10-10T13:13:24.410Z"
   },
   {
    "duration": 12,
    "start_time": "2021-10-10T13:13:25.164Z"
   },
   {
    "duration": 14,
    "start_time": "2021-10-10T13:13:25.179Z"
   },
   {
    "duration": 74,
    "start_time": "2021-10-10T13:13:25.196Z"
   },
   {
    "duration": 17,
    "start_time": "2021-10-10T13:13:25.272Z"
   },
   {
    "duration": 7,
    "start_time": "2021-10-10T13:13:25.292Z"
   },
   {
    "duration": 64,
    "start_time": "2021-10-10T13:13:25.301Z"
   },
   {
    "duration": 30,
    "start_time": "2021-10-10T13:13:25.369Z"
   },
   {
    "duration": 84,
    "start_time": "2021-10-10T13:13:25.401Z"
   },
   {
    "duration": 9,
    "start_time": "2021-10-10T13:13:25.488Z"
   },
   {
    "duration": 60,
    "start_time": "2021-10-10T13:13:25.500Z"
   },
   {
    "duration": 9,
    "start_time": "2021-10-10T13:13:25.563Z"
   },
   {
    "duration": 84,
    "start_time": "2021-10-10T13:13:25.575Z"
   },
   {
    "duration": 24,
    "start_time": "2021-10-10T13:13:25.663Z"
   },
   {
    "duration": 90,
    "start_time": "2021-10-10T13:13:25.690Z"
   },
   {
    "duration": 89,
    "start_time": "2021-10-10T13:13:25.783Z"
   },
   {
    "duration": 89,
    "start_time": "2021-10-10T13:13:25.875Z"
   },
   {
    "duration": 13,
    "start_time": "2021-10-10T13:13:25.967Z"
   },
   {
    "duration": 13,
    "start_time": "2021-10-10T13:13:25.983Z"
   },
   {
    "duration": 4437,
    "start_time": "2021-10-10T13:13:25.999Z"
   },
   {
    "duration": 30,
    "start_time": "2021-10-10T13:13:30.442Z"
   },
   {
    "duration": 8,
    "start_time": "2021-10-10T13:13:30.475Z"
   },
   {
    "duration": 26,
    "start_time": "2021-10-10T13:13:30.486Z"
   },
   {
    "duration": 35,
    "start_time": "2021-10-10T13:13:30.515Z"
   },
   {
    "duration": 13,
    "start_time": "2021-10-10T13:13:30.552Z"
   },
   {
    "duration": 37,
    "start_time": "2021-10-10T13:13:30.568Z"
   },
   {
    "duration": 48,
    "start_time": "2021-10-10T13:13:30.607Z"
   },
   {
    "duration": 17,
    "start_time": "2021-10-10T13:13:30.658Z"
   },
   {
    "duration": 11,
    "start_time": "2021-10-10T13:13:30.678Z"
   },
   {
    "duration": 18,
    "start_time": "2021-10-10T13:13:30.691Z"
   },
   {
    "duration": 41,
    "start_time": "2021-10-10T13:13:30.711Z"
   },
   {
    "duration": 21,
    "start_time": "2021-10-10T13:13:30.755Z"
   },
   {
    "duration": 21,
    "start_time": "2021-10-10T13:13:30.779Z"
   },
   {
    "duration": 24,
    "start_time": "2021-10-10T13:13:30.802Z"
   },
   {
    "duration": 35,
    "start_time": "2021-10-10T13:13:30.829Z"
   },
   {
    "duration": 23,
    "start_time": "2021-10-10T13:13:30.867Z"
   },
   {
    "duration": 34,
    "start_time": "2021-10-10T13:13:30.892Z"
   },
   {
    "duration": 23,
    "start_time": "2021-10-10T13:13:30.928Z"
   },
   {
    "duration": 15,
    "start_time": "2021-10-10T13:13:30.954Z"
   },
   {
    "duration": 21,
    "start_time": "2021-10-10T13:13:30.972Z"
   },
   {
    "duration": 20,
    "start_time": "2021-10-10T13:13:30.995Z"
   },
   {
    "duration": 8,
    "start_time": "2021-10-10T13:13:31.018Z"
   },
   {
    "duration": 35,
    "start_time": "2021-10-10T13:13:31.033Z"
   },
   {
    "duration": 33,
    "start_time": "2021-10-10T13:13:31.071Z"
   },
   {
    "duration": 38,
    "start_time": "2021-10-10T13:13:31.107Z"
   },
   {
    "duration": 44,
    "start_time": "2021-10-10T13:13:31.148Z"
   },
   {
    "duration": 9,
    "start_time": "2021-10-10T13:13:51.422Z"
   },
   {
    "duration": 5387,
    "start_time": "2021-10-10T13:14:08.123Z"
   },
   {
    "duration": 785,
    "start_time": "2021-10-10T13:14:18.917Z"
   },
   {
    "duration": 87,
    "start_time": "2021-10-10T13:14:19.704Z"
   },
   {
    "duration": 14,
    "start_time": "2021-10-10T13:14:19.795Z"
   },
   {
    "duration": 67,
    "start_time": "2021-10-10T13:14:19.812Z"
   },
   {
    "duration": 8,
    "start_time": "2021-10-10T13:14:19.881Z"
   },
   {
    "duration": 20,
    "start_time": "2021-10-10T13:14:19.891Z"
   },
   {
    "duration": 26,
    "start_time": "2021-10-10T13:14:19.913Z"
   },
   {
    "duration": 19,
    "start_time": "2021-10-10T13:14:19.942Z"
   },
   {
    "duration": 28,
    "start_time": "2021-10-10T13:14:19.964Z"
   },
   {
    "duration": 13,
    "start_time": "2021-10-10T13:14:19.994Z"
   },
   {
    "duration": 23,
    "start_time": "2021-10-10T13:14:20.009Z"
   },
   {
    "duration": 29,
    "start_time": "2021-10-10T13:14:20.034Z"
   },
   {
    "duration": 25,
    "start_time": "2021-10-10T13:14:20.065Z"
   },
   {
    "duration": 11,
    "start_time": "2021-10-10T13:14:20.093Z"
   },
   {
    "duration": 31,
    "start_time": "2021-10-10T13:14:20.106Z"
   },
   {
    "duration": 20,
    "start_time": "2021-10-10T13:14:20.139Z"
   },
   {
    "duration": 19,
    "start_time": "2021-10-10T13:14:20.161Z"
   },
   {
    "duration": 23,
    "start_time": "2021-10-10T13:14:20.183Z"
   },
   {
    "duration": 24,
    "start_time": "2021-10-10T13:14:20.209Z"
   },
   {
    "duration": 20,
    "start_time": "2021-10-10T13:14:20.235Z"
   },
   {
    "duration": 21,
    "start_time": "2021-10-10T13:14:20.257Z"
   },
   {
    "duration": 15,
    "start_time": "2021-10-10T13:14:20.281Z"
   },
   {
    "duration": 22,
    "start_time": "2021-10-10T13:14:20.303Z"
   },
   {
    "duration": 14,
    "start_time": "2021-10-10T13:14:20.329Z"
   },
   {
    "duration": 15,
    "start_time": "2021-10-10T13:14:20.346Z"
   },
   {
    "duration": 855,
    "start_time": "2021-10-10T13:14:20.363Z"
   },
   {
    "duration": 12,
    "start_time": "2021-10-10T13:14:21.220Z"
   },
   {
    "duration": 24,
    "start_time": "2021-10-10T13:14:21.234Z"
   },
   {
    "duration": 21,
    "start_time": "2021-10-10T13:14:21.261Z"
   },
   {
    "duration": 19,
    "start_time": "2021-10-10T13:14:21.285Z"
   },
   {
    "duration": 18,
    "start_time": "2021-10-10T13:14:21.306Z"
   },
   {
    "duration": 25,
    "start_time": "2021-10-10T13:14:21.326Z"
   },
   {
    "duration": 29,
    "start_time": "2021-10-10T13:14:21.353Z"
   },
   {
    "duration": 37,
    "start_time": "2021-10-10T13:14:21.385Z"
   },
   {
    "duration": 6,
    "start_time": "2021-10-10T13:14:21.425Z"
   },
   {
    "duration": 19,
    "start_time": "2021-10-10T13:14:21.434Z"
   },
   {
    "duration": 23,
    "start_time": "2021-10-10T13:14:21.455Z"
   },
   {
    "duration": 38,
    "start_time": "2021-10-10T13:14:21.481Z"
   },
   {
    "duration": 16,
    "start_time": "2021-10-10T13:14:21.521Z"
   },
   {
    "duration": 44,
    "start_time": "2021-10-10T13:14:21.539Z"
   },
   {
    "duration": 24,
    "start_time": "2021-10-10T13:14:21.585Z"
   },
   {
    "duration": 20,
    "start_time": "2021-10-10T13:14:21.612Z"
   },
   {
    "duration": 27,
    "start_time": "2021-10-10T13:14:21.635Z"
   },
   {
    "duration": 5,
    "start_time": "2021-10-10T13:14:21.665Z"
   },
   {
    "duration": 4698,
    "start_time": "2021-10-10T13:14:21.672Z"
   },
   {
    "duration": 21,
    "start_time": "2021-10-10T13:14:26.373Z"
   },
   {
    "duration": 5,
    "start_time": "2021-10-10T13:14:26.397Z"
   },
   {
    "duration": 12,
    "start_time": "2021-10-10T13:14:26.404Z"
   },
   {
    "duration": 42,
    "start_time": "2021-10-10T13:14:26.419Z"
   },
   {
    "duration": 9,
    "start_time": "2021-10-10T13:14:26.464Z"
   },
   {
    "duration": 8,
    "start_time": "2021-10-10T13:14:26.475Z"
   },
   {
    "duration": 11,
    "start_time": "2021-10-10T13:14:26.485Z"
   },
   {
    "duration": 8,
    "start_time": "2021-10-10T13:14:26.499Z"
   },
   {
    "duration": 50,
    "start_time": "2021-10-10T13:14:26.509Z"
   },
   {
    "duration": 4,
    "start_time": "2021-10-10T13:14:26.562Z"
   },
   {
    "duration": 13,
    "start_time": "2021-10-10T13:14:26.568Z"
   },
   {
    "duration": 9,
    "start_time": "2021-10-10T13:14:26.584Z"
   },
   {
    "duration": 12,
    "start_time": "2021-10-10T13:14:26.596Z"
   },
   {
    "duration": 57,
    "start_time": "2021-10-10T13:14:26.610Z"
   },
   {
    "duration": 22,
    "start_time": "2021-10-10T13:14:26.669Z"
   },
   {
    "duration": 13,
    "start_time": "2021-10-10T13:14:26.693Z"
   },
   {
    "duration": 13,
    "start_time": "2021-10-10T13:14:26.709Z"
   },
   {
    "duration": 38,
    "start_time": "2021-10-10T13:14:26.725Z"
   },
   {
    "duration": 7,
    "start_time": "2021-10-10T13:14:26.766Z"
   },
   {
    "duration": 19,
    "start_time": "2021-10-10T13:14:26.776Z"
   },
   {
    "duration": 14,
    "start_time": "2021-10-10T13:14:26.798Z"
   },
   {
    "duration": 12,
    "start_time": "2021-10-10T13:14:26.815Z"
   },
   {
    "duration": 37,
    "start_time": "2021-10-10T13:14:26.833Z"
   },
   {
    "duration": 12,
    "start_time": "2021-10-10T13:14:26.873Z"
   },
   {
    "duration": 7,
    "start_time": "2021-10-10T13:14:26.888Z"
   },
   {
    "duration": 15,
    "start_time": "2021-10-10T13:14:26.898Z"
   },
   {
    "duration": 797,
    "start_time": "2021-10-10T13:19:38.737Z"
   },
   {
    "duration": 84,
    "start_time": "2021-10-10T13:19:39.537Z"
   },
   {
    "duration": 13,
    "start_time": "2021-10-10T13:19:39.627Z"
   },
   {
    "duration": 45,
    "start_time": "2021-10-10T13:19:39.658Z"
   },
   {
    "duration": 7,
    "start_time": "2021-10-10T13:19:39.705Z"
   },
   {
    "duration": 10,
    "start_time": "2021-10-10T13:19:39.715Z"
   },
   {
    "duration": 9,
    "start_time": "2021-10-10T13:19:39.758Z"
   },
   {
    "duration": 11,
    "start_time": "2021-10-10T13:19:39.769Z"
   },
   {
    "duration": 13,
    "start_time": "2021-10-10T13:19:39.783Z"
   },
   {
    "duration": 6,
    "start_time": "2021-10-10T13:19:39.799Z"
   },
   {
    "duration": 6,
    "start_time": "2021-10-10T13:19:39.807Z"
   },
   {
    "duration": 44,
    "start_time": "2021-10-10T13:19:39.815Z"
   },
   {
    "duration": 11,
    "start_time": "2021-10-10T13:19:39.861Z"
   },
   {
    "duration": 6,
    "start_time": "2021-10-10T13:19:39.875Z"
   },
   {
    "duration": 8,
    "start_time": "2021-10-10T13:19:39.883Z"
   },
   {
    "duration": 8,
    "start_time": "2021-10-10T13:19:39.893Z"
   },
   {
    "duration": 5,
    "start_time": "2021-10-10T13:19:39.904Z"
   },
   {
    "duration": 9,
    "start_time": "2021-10-10T13:19:39.958Z"
   },
   {
    "duration": 13,
    "start_time": "2021-10-10T13:19:39.969Z"
   },
   {
    "duration": 9,
    "start_time": "2021-10-10T13:19:39.984Z"
   },
   {
    "duration": 10,
    "start_time": "2021-10-10T13:19:39.996Z"
   },
   {
    "duration": 52,
    "start_time": "2021-10-10T13:19:40.012Z"
   },
   {
    "duration": 6,
    "start_time": "2021-10-10T13:19:40.069Z"
   },
   {
    "duration": 7,
    "start_time": "2021-10-10T13:19:40.078Z"
   },
   {
    "duration": 7,
    "start_time": "2021-10-10T13:19:40.087Z"
   },
   {
    "duration": 660,
    "start_time": "2021-10-10T13:19:40.097Z"
   },
   {
    "duration": 14,
    "start_time": "2021-10-10T13:19:40.759Z"
   },
   {
    "duration": 14,
    "start_time": "2021-10-10T13:19:40.776Z"
   },
   {
    "duration": 18,
    "start_time": "2021-10-10T13:19:40.793Z"
   },
   {
    "duration": 48,
    "start_time": "2021-10-10T13:19:40.814Z"
   },
   {
    "duration": 10,
    "start_time": "2021-10-10T13:19:40.864Z"
   },
   {
    "duration": 11,
    "start_time": "2021-10-10T13:19:40.876Z"
   },
   {
    "duration": 23,
    "start_time": "2021-10-10T13:19:40.890Z"
   },
   {
    "duration": 58,
    "start_time": "2021-10-10T13:19:40.916Z"
   },
   {
    "duration": 8,
    "start_time": "2021-10-10T13:19:40.977Z"
   },
   {
    "duration": 6,
    "start_time": "2021-10-10T13:19:40.987Z"
   },
   {
    "duration": 8,
    "start_time": "2021-10-10T13:19:40.995Z"
   },
   {
    "duration": 52,
    "start_time": "2021-10-10T13:19:41.005Z"
   },
   {
    "duration": 15,
    "start_time": "2021-10-10T13:19:41.060Z"
   },
   {
    "duration": 29,
    "start_time": "2021-10-10T13:19:41.077Z"
   },
   {
    "duration": 24,
    "start_time": "2021-10-10T13:19:41.108Z"
   },
   {
    "duration": 41,
    "start_time": "2021-10-10T13:19:41.134Z"
   },
   {
    "duration": 11,
    "start_time": "2021-10-10T13:19:41.178Z"
   },
   {
    "duration": 7,
    "start_time": "2021-10-10T13:19:41.192Z"
   },
   {
    "duration": 4462,
    "start_time": "2021-10-10T13:19:41.202Z"
   },
   {
    "duration": 21,
    "start_time": "2021-10-10T13:19:45.667Z"
   },
   {
    "duration": 5,
    "start_time": "2021-10-10T13:19:45.690Z"
   },
   {
    "duration": 22,
    "start_time": "2021-10-10T13:19:45.697Z"
   },
   {
    "duration": 39,
    "start_time": "2021-10-10T13:19:45.722Z"
   },
   {
    "duration": 10,
    "start_time": "2021-10-10T13:19:45.764Z"
   },
   {
    "duration": 6,
    "start_time": "2021-10-10T13:19:45.777Z"
   },
   {
    "duration": 12,
    "start_time": "2021-10-10T13:19:45.786Z"
   },
   {
    "duration": 12,
    "start_time": "2021-10-10T13:19:45.800Z"
   },
   {
    "duration": 51,
    "start_time": "2021-10-10T13:19:45.815Z"
   },
   {
    "duration": 10,
    "start_time": "2021-10-10T13:19:45.869Z"
   },
   {
    "duration": 25,
    "start_time": "2021-10-10T13:19:45.881Z"
   },
   {
    "duration": 22,
    "start_time": "2021-10-10T13:19:45.909Z"
   },
   {
    "duration": 24,
    "start_time": "2021-10-10T13:19:45.934Z"
   },
   {
    "duration": 20,
    "start_time": "2021-10-10T13:19:45.961Z"
   },
   {
    "duration": 14,
    "start_time": "2021-10-10T13:19:45.984Z"
   },
   {
    "duration": 25,
    "start_time": "2021-10-10T13:19:46.000Z"
   },
   {
    "duration": 37,
    "start_time": "2021-10-10T13:19:46.028Z"
   },
   {
    "duration": 18,
    "start_time": "2021-10-10T13:19:46.067Z"
   },
   {
    "duration": 6,
    "start_time": "2021-10-10T13:19:46.088Z"
   },
   {
    "duration": 25,
    "start_time": "2021-10-10T13:19:46.096Z"
   },
   {
    "duration": 18,
    "start_time": "2021-10-10T13:19:46.123Z"
   },
   {
    "duration": 15,
    "start_time": "2021-10-10T13:19:46.148Z"
   },
   {
    "duration": 39,
    "start_time": "2021-10-10T13:19:46.166Z"
   },
   {
    "duration": 19,
    "start_time": "2021-10-10T13:19:46.207Z"
   },
   {
    "duration": 21,
    "start_time": "2021-10-10T13:19:46.228Z"
   },
   {
    "duration": 16,
    "start_time": "2021-10-10T13:19:46.251Z"
   },
   {
    "duration": 5,
    "start_time": "2021-10-10T13:33:49.592Z"
   },
   {
    "duration": 741,
    "start_time": "2021-10-10T13:33:56.479Z"
   },
   {
    "duration": 88,
    "start_time": "2021-10-10T13:33:57.222Z"
   },
   {
    "duration": 16,
    "start_time": "2021-10-10T13:33:57.314Z"
   },
   {
    "duration": 62,
    "start_time": "2021-10-10T13:33:57.333Z"
   },
   {
    "duration": 8,
    "start_time": "2021-10-10T13:33:57.398Z"
   },
   {
    "duration": 9,
    "start_time": "2021-10-10T13:33:57.409Z"
   },
   {
    "duration": 39,
    "start_time": "2021-10-10T13:33:57.421Z"
   },
   {
    "duration": 10,
    "start_time": "2021-10-10T13:33:57.464Z"
   },
   {
    "duration": 10,
    "start_time": "2021-10-10T13:33:57.477Z"
   },
   {
    "duration": 4,
    "start_time": "2021-10-10T13:33:57.489Z"
   },
   {
    "duration": 8,
    "start_time": "2021-10-10T13:33:57.496Z"
   },
   {
    "duration": 7,
    "start_time": "2021-10-10T13:33:57.507Z"
   },
   {
    "duration": 13,
    "start_time": "2021-10-10T13:33:57.563Z"
   },
   {
    "duration": 7,
    "start_time": "2021-10-10T13:33:57.579Z"
   },
   {
    "duration": 12,
    "start_time": "2021-10-10T13:33:57.588Z"
   },
   {
    "duration": 11,
    "start_time": "2021-10-10T13:33:57.603Z"
   },
   {
    "duration": 43,
    "start_time": "2021-10-10T13:33:57.616Z"
   },
   {
    "duration": 17,
    "start_time": "2021-10-10T13:33:57.662Z"
   },
   {
    "duration": 13,
    "start_time": "2021-10-10T13:33:57.681Z"
   },
   {
    "duration": 9,
    "start_time": "2021-10-10T13:33:57.696Z"
   },
   {
    "duration": 12,
    "start_time": "2021-10-10T13:33:57.707Z"
   },
   {
    "duration": 39,
    "start_time": "2021-10-10T13:33:57.722Z"
   },
   {
    "duration": 6,
    "start_time": "2021-10-10T13:33:57.767Z"
   },
   {
    "duration": 5,
    "start_time": "2021-10-10T13:33:57.777Z"
   },
   {
    "duration": 6,
    "start_time": "2021-10-10T13:33:57.784Z"
   },
   {
    "duration": 638,
    "start_time": "2021-10-10T13:33:57.792Z"
   },
   {
    "duration": 12,
    "start_time": "2021-10-10T13:33:58.432Z"
   },
   {
    "duration": 12,
    "start_time": "2021-10-10T13:33:58.457Z"
   },
   {
    "duration": 16,
    "start_time": "2021-10-10T13:33:58.472Z"
   },
   {
    "duration": 8,
    "start_time": "2021-10-10T13:33:58.491Z"
   },
   {
    "duration": 6,
    "start_time": "2021-10-10T13:33:58.501Z"
   },
   {
    "duration": 51,
    "start_time": "2021-10-10T13:33:58.509Z"
   },
   {
    "duration": 31,
    "start_time": "2021-10-10T13:33:58.562Z"
   },
   {
    "duration": 23,
    "start_time": "2021-10-10T13:33:58.596Z"
   },
   {
    "duration": 7,
    "start_time": "2021-10-10T13:33:58.621Z"
   },
   {
    "duration": 5,
    "start_time": "2021-10-10T13:33:58.630Z"
   },
   {
    "duration": 6,
    "start_time": "2021-10-10T13:33:58.658Z"
   },
   {
    "duration": 26,
    "start_time": "2021-10-10T13:33:58.667Z"
   },
   {
    "duration": 15,
    "start_time": "2021-10-10T13:33:58.695Z"
   },
   {
    "duration": 56,
    "start_time": "2021-10-10T13:33:58.713Z"
   },
   {
    "duration": 24,
    "start_time": "2021-10-10T13:33:58.772Z"
   },
   {
    "duration": 22,
    "start_time": "2021-10-10T13:33:58.798Z"
   },
   {
    "duration": 36,
    "start_time": "2021-10-10T13:33:58.822Z"
   },
   {
    "duration": 4,
    "start_time": "2021-10-10T13:33:58.861Z"
   },
   {
    "duration": 4373,
    "start_time": "2021-10-10T13:33:58.867Z"
   },
   {
    "duration": 33,
    "start_time": "2021-10-10T13:34:03.243Z"
   },
   {
    "duration": 5,
    "start_time": "2021-10-10T13:34:03.278Z"
   },
   {
    "duration": 16,
    "start_time": "2021-10-10T13:34:03.285Z"
   },
   {
    "duration": 18,
    "start_time": "2021-10-10T13:34:03.303Z"
   },
   {
    "duration": 37,
    "start_time": "2021-10-10T13:34:03.323Z"
   },
   {
    "duration": 9,
    "start_time": "2021-10-10T13:34:03.363Z"
   },
   {
    "duration": 17,
    "start_time": "2021-10-10T13:34:03.374Z"
   },
   {
    "duration": 14,
    "start_time": "2021-10-10T13:34:03.393Z"
   },
   {
    "duration": 9,
    "start_time": "2021-10-10T13:34:03.409Z"
   },
   {
    "duration": 5,
    "start_time": "2021-10-10T13:34:03.421Z"
   },
   {
    "duration": 40,
    "start_time": "2021-10-10T13:34:03.428Z"
   },
   {
    "duration": 11,
    "start_time": "2021-10-10T13:34:03.470Z"
   },
   {
    "duration": 12,
    "start_time": "2021-10-10T13:34:03.484Z"
   },
   {
    "duration": 18,
    "start_time": "2021-10-10T13:34:03.499Z"
   },
   {
    "duration": 28,
    "start_time": "2021-10-10T13:34:25.316Z"
   },
   {
    "duration": 5,
    "start_time": "2021-10-10T13:34:35.396Z"
   },
   {
    "duration": 18,
    "start_time": "2021-10-10T13:34:35.900Z"
   },
   {
    "duration": 5,
    "start_time": "2021-10-10T13:35:24.768Z"
   },
   {
    "duration": 1876,
    "start_time": "2021-10-10T13:35:25.851Z"
   },
   {
    "duration": 5,
    "start_time": "2021-10-10T13:35:34.687Z"
   },
   {
    "duration": 18,
    "start_time": "2021-10-10T13:35:35.475Z"
   },
   {
    "duration": 17,
    "start_time": "2021-10-10T13:36:42.012Z"
   },
   {
    "duration": 5,
    "start_time": "2021-10-10T13:36:53.208Z"
   },
   {
    "duration": 20,
    "start_time": "2021-10-10T13:36:54.176Z"
   },
   {
    "duration": 22,
    "start_time": "2021-10-10T13:36:59.771Z"
   },
   {
    "duration": 19,
    "start_time": "2021-10-10T13:37:21.388Z"
   },
   {
    "duration": 20,
    "start_time": "2021-10-10T13:37:50.116Z"
   },
   {
    "duration": 763,
    "start_time": "2021-10-10T13:38:02.221Z"
   },
   {
    "duration": 86,
    "start_time": "2021-10-10T13:38:02.986Z"
   },
   {
    "duration": 15,
    "start_time": "2021-10-10T13:38:03.075Z"
   },
   {
    "duration": 66,
    "start_time": "2021-10-10T13:38:03.093Z"
   },
   {
    "duration": 8,
    "start_time": "2021-10-10T13:38:03.161Z"
   },
   {
    "duration": 14,
    "start_time": "2021-10-10T13:38:03.171Z"
   },
   {
    "duration": 11,
    "start_time": "2021-10-10T13:38:03.188Z"
   },
   {
    "duration": 10,
    "start_time": "2021-10-10T13:38:03.203Z"
   },
   {
    "duration": 43,
    "start_time": "2021-10-10T13:38:03.216Z"
   },
   {
    "duration": 6,
    "start_time": "2021-10-10T13:38:03.262Z"
   },
   {
    "duration": 9,
    "start_time": "2021-10-10T13:38:03.270Z"
   },
   {
    "duration": 12,
    "start_time": "2021-10-10T13:38:03.281Z"
   },
   {
    "duration": 11,
    "start_time": "2021-10-10T13:38:03.295Z"
   },
   {
    "duration": 5,
    "start_time": "2021-10-10T13:38:03.309Z"
   },
   {
    "duration": 42,
    "start_time": "2021-10-10T13:38:03.316Z"
   },
   {
    "duration": 9,
    "start_time": "2021-10-10T13:38:03.361Z"
   },
   {
    "duration": 8,
    "start_time": "2021-10-10T13:38:03.373Z"
   },
   {
    "duration": 12,
    "start_time": "2021-10-10T13:38:03.383Z"
   },
   {
    "duration": 13,
    "start_time": "2021-10-10T13:38:03.397Z"
   },
   {
    "duration": 46,
    "start_time": "2021-10-10T13:38:03.413Z"
   },
   {
    "duration": 11,
    "start_time": "2021-10-10T13:38:03.461Z"
   },
   {
    "duration": 12,
    "start_time": "2021-10-10T13:38:03.474Z"
   },
   {
    "duration": 6,
    "start_time": "2021-10-10T13:38:03.492Z"
   },
   {
    "duration": 5,
    "start_time": "2021-10-10T13:38:03.501Z"
   },
   {
    "duration": 17,
    "start_time": "2021-10-10T13:38:03.508Z"
   },
   {
    "duration": 634,
    "start_time": "2021-10-10T13:38:03.528Z"
   },
   {
    "duration": 12,
    "start_time": "2021-10-10T13:38:04.165Z"
   },
   {
    "duration": 14,
    "start_time": "2021-10-10T13:38:04.179Z"
   },
   {
    "duration": 17,
    "start_time": "2021-10-10T13:38:04.196Z"
   },
   {
    "duration": 46,
    "start_time": "2021-10-10T13:38:04.215Z"
   },
   {
    "duration": 5,
    "start_time": "2021-10-10T13:38:04.263Z"
   },
   {
    "duration": 16,
    "start_time": "2021-10-10T13:38:04.270Z"
   },
   {
    "duration": 20,
    "start_time": "2021-10-10T13:38:04.288Z"
   },
   {
    "duration": 52,
    "start_time": "2021-10-10T13:38:04.310Z"
   },
   {
    "duration": 7,
    "start_time": "2021-10-10T13:38:04.364Z"
   },
   {
    "duration": 7,
    "start_time": "2021-10-10T13:38:04.373Z"
   },
   {
    "duration": 9,
    "start_time": "2021-10-10T13:38:04.382Z"
   },
   {
    "duration": 23,
    "start_time": "2021-10-10T13:38:04.394Z"
   },
   {
    "duration": 45,
    "start_time": "2021-10-10T13:38:04.420Z"
   },
   {
    "duration": 26,
    "start_time": "2021-10-10T13:38:04.467Z"
   },
   {
    "duration": 26,
    "start_time": "2021-10-10T13:38:04.496Z"
   },
   {
    "duration": 51,
    "start_time": "2021-10-10T13:38:04.524Z"
   },
   {
    "duration": 10,
    "start_time": "2021-10-10T13:38:04.578Z"
   },
   {
    "duration": 5,
    "start_time": "2021-10-10T13:38:04.591Z"
   },
   {
    "duration": 4350,
    "start_time": "2021-10-10T13:38:04.598Z"
   },
   {
    "duration": 20,
    "start_time": "2021-10-10T13:38:08.959Z"
   },
   {
    "duration": 5,
    "start_time": "2021-10-10T13:38:08.981Z"
   },
   {
    "duration": 12,
    "start_time": "2021-10-10T13:38:08.989Z"
   },
   {
    "duration": 8,
    "start_time": "2021-10-10T13:38:09.003Z"
   },
   {
    "duration": 43,
    "start_time": "2021-10-10T13:38:09.014Z"
   },
   {
    "duration": 6,
    "start_time": "2021-10-10T13:38:09.060Z"
   },
   {
    "duration": 11,
    "start_time": "2021-10-10T13:38:09.068Z"
   },
   {
    "duration": 8,
    "start_time": "2021-10-10T13:38:09.081Z"
   },
   {
    "duration": 8,
    "start_time": "2021-10-10T13:38:09.092Z"
   },
   {
    "duration": 5,
    "start_time": "2021-10-10T13:38:09.102Z"
   },
   {
    "duration": 53,
    "start_time": "2021-10-10T13:38:09.109Z"
   },
   {
    "duration": 18,
    "start_time": "2021-10-10T13:38:09.165Z"
   },
   {
    "duration": 11,
    "start_time": "2021-10-10T13:38:09.186Z"
   },
   {
    "duration": 16,
    "start_time": "2021-10-10T13:38:09.200Z"
   },
   {
    "duration": 39,
    "start_time": "2021-10-10T13:38:09.219Z"
   },
   {
    "duration": 27,
    "start_time": "2021-10-10T13:38:09.260Z"
   },
   {
    "duration": 20,
    "start_time": "2021-10-10T13:38:09.289Z"
   },
   {
    "duration": 46,
    "start_time": "2021-10-10T13:38:09.312Z"
   },
   {
    "duration": 23,
    "start_time": "2021-10-10T13:38:09.360Z"
   }
  ],
  "kernelspec": {
   "display_name": "Python 3",
   "language": "python",
   "name": "python3"
  },
  "language_info": {
   "codemirror_mode": {
    "name": "ipython",
    "version": 3
   },
   "file_extension": ".py",
   "mimetype": "text/x-python",
   "name": "python",
   "nbconvert_exporter": "python",
   "pygments_lexer": "ipython3",
   "version": "3.7.10"
  },
  "toc": {
   "base_numbering": 1,
   "nav_menu": {},
   "number_sections": true,
   "sideBar": true,
   "skip_h1_title": true,
   "title_cell": "Содержание",
   "title_sidebar": "Contents",
   "toc_cell": true,
   "toc_position": {
    "height": "calc(100% - 180px)",
    "left": "10px",
    "top": "150px",
    "width": "384px"
   },
   "toc_section_display": true,
   "toc_window_display": true
  }
 },
 "nbformat": 4,
 "nbformat_minor": 2
}
