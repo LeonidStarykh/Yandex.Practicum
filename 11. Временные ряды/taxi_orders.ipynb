{
 "cells": [
  {
   "cell_type": "markdown",
   "metadata": {},
   "source": [
    "# 11. Временные ряды"
   ]
  },
  {
   "cell_type": "markdown",
   "metadata": {},
   "source": [
    "#  Прогнозирование заказов такси"
   ]
  },
  {
   "cell_type": "markdown",
   "metadata": {},
   "source": [
    "Компания «Чётенькое такси» собрала исторические данные о заказах такси в аэропортах. Чтобы привлекать больше водителей в период пиковой нагрузки, нужно спрогнозировать количество заказов такси на следующий час. Необходимо построить модель для такого предсказания.\n",
    "\n",
    "Значение метрики *RMSE* на тестовой выборке должно быть не больше 48.\n",
    "\n",
    "Нам нужно:\n",
    "\n",
    "1. Загрузить данные и выполнить их ресемплирование по одному часу.\n",
    "2. Проанализировать данные.\n",
    "3. Обучить разные модели с различными гиперпараметрами. Сделать тестовую выборку размером 10% от исходных данных.\n",
    "4. Проверить данные на тестовой выборке и сделать выводы.\n",
    "\n",
    "\n",
    "Данные лежат в файле `taxi.csv`. Количество заказов находится в столбце `num_orders` (от англ. *number of orders*, «число заказов»)."
   ]
  },
  {
   "cell_type": "markdown",
   "metadata": {
    "toc": true
   },
   "source": [
    "<h1>Содержание<span class=\"tocSkip\"></span></h1>\n",
    "<div class=\"toc\"><ul class=\"toc-item\"><li><span><a href=\"#Подготовка\" data-toc-modified-id=\"Подготовка-1\"><span class=\"toc-item-num\">1&nbsp;&nbsp;</span>Подготовка</a></span></li><li><span><a href=\"#Анализ\" data-toc-modified-id=\"Анализ-2\"><span class=\"toc-item-num\">2&nbsp;&nbsp;</span>Анализ</a></span></li><li><span><a href=\"#Обучение\" data-toc-modified-id=\"Обучение-3\"><span class=\"toc-item-num\">3&nbsp;&nbsp;</span>Обучение</a></span></li><li><span><a href=\"#Тестирование\" data-toc-modified-id=\"Тестирование-4\"><span class=\"toc-item-num\">4&nbsp;&nbsp;</span>Тестирование</a></span></li></ul></div>"
   ]
  },
  {
   "cell_type": "markdown",
   "metadata": {},
   "source": [
    "## Подготовка"
   ]
  },
  {
   "cell_type": "code",
   "execution_count": 1,
   "metadata": {
    "scrolled": true
   },
   "outputs": [],
   "source": [
    "#!pip install plotly\n",
    "#!pip install cufflinks"
   ]
  },
  {
   "cell_type": "code",
   "execution_count": 2,
   "metadata": {},
   "outputs": [
    {
     "name": "stderr",
     "output_type": "stream",
     "text": [
      "D:\\Leo\\DS\\Anaconda\\envs\\practicum\\lib\\site-packages\\statsmodels\\tools\\_testing.py:19: FutureWarning:\n",
      "\n",
      "pandas.util.testing is deprecated. Use the functions in the public API at pandas.testing instead.\n",
      "\n"
     ]
    },
    {
     "data": {
      "text/html": [
       "        <script type=\"text/javascript\">\n",
       "        window.PlotlyConfig = {MathJaxConfig: 'local'};\n",
       "        if (window.MathJax) {MathJax.Hub.Config({SVG: {font: \"STIX-Web\"}});}\n",
       "        if (typeof require !== 'undefined') {\n",
       "        require.undef(\"plotly\");\n",
       "        requirejs.config({\n",
       "            paths: {\n",
       "                'plotly': ['https://cdn.plot.ly/plotly-2.4.2.min']\n",
       "            }\n",
       "        });\n",
       "        require(['plotly'], function(Plotly) {\n",
       "            window._Plotly = Plotly;\n",
       "        });\n",
       "        }\n",
       "        </script>\n",
       "        "
      ]
     },
     "metadata": {},
     "output_type": "display_data"
    }
   ],
   "source": [
    "import pandas as pd\n",
    "import numpy as np\n",
    "import matplotlib.pyplot as plt\n",
    "from plotly.offline import iplot\n",
    "import cufflinks as cf\n",
    "from tqdm import tqdm\n",
    "\n",
    "from statsmodels.tsa.seasonal import seasonal_decompose\n",
    "\n",
    "from sklearn.linear_model import LinearRegression\n",
    "from sklearn.ensemble import RandomForestRegressor\n",
    "from catboost import CatBoostRegressor\n",
    "from sklearn.metrics import mean_squared_error\n",
    "from sklearn.model_selection import train_test_split\n",
    "\n",
    "import warnings\n",
    "warnings.filterwarnings('ignore')\n",
    "cf.go_offline()"
   ]
  },
  {
   "cell_type": "markdown",
   "metadata": {},
   "source": [
    "Загрузим данные и посмотрим общую информацию о датафрейме."
   ]
  },
  {
   "cell_type": "code",
   "execution_count": 3,
   "metadata": {},
   "outputs": [],
   "source": [
    "df = pd.read_csv('taxi.csv', parse_dates = ['datetime'], index_col=['datetime'])"
   ]
  },
  {
   "cell_type": "code",
   "execution_count": 4,
   "metadata": {},
   "outputs": [
    {
     "data": {
      "text/html": [
       "<div>\n",
       "<style scoped>\n",
       "    .dataframe tbody tr th:only-of-type {\n",
       "        vertical-align: middle;\n",
       "    }\n",
       "\n",
       "    .dataframe tbody tr th {\n",
       "        vertical-align: top;\n",
       "    }\n",
       "\n",
       "    .dataframe thead th {\n",
       "        text-align: right;\n",
       "    }\n",
       "</style>\n",
       "<table border=\"1\" class=\"dataframe\">\n",
       "  <thead>\n",
       "    <tr style=\"text-align: right;\">\n",
       "      <th></th>\n",
       "      <th>num_orders</th>\n",
       "    </tr>\n",
       "    <tr>\n",
       "      <th>datetime</th>\n",
       "      <th></th>\n",
       "    </tr>\n",
       "  </thead>\n",
       "  <tbody>\n",
       "    <tr>\n",
       "      <th>2018-03-01 00:00:00</th>\n",
       "      <td>9</td>\n",
       "    </tr>\n",
       "    <tr>\n",
       "      <th>2018-03-01 00:10:00</th>\n",
       "      <td>14</td>\n",
       "    </tr>\n",
       "    <tr>\n",
       "      <th>2018-03-01 00:20:00</th>\n",
       "      <td>28</td>\n",
       "    </tr>\n",
       "    <tr>\n",
       "      <th>2018-03-01 00:30:00</th>\n",
       "      <td>20</td>\n",
       "    </tr>\n",
       "    <tr>\n",
       "      <th>2018-03-01 00:40:00</th>\n",
       "      <td>32</td>\n",
       "    </tr>\n",
       "  </tbody>\n",
       "</table>\n",
       "</div>"
      ],
      "text/plain": [
       "                     num_orders\n",
       "datetime                       \n",
       "2018-03-01 00:00:00           9\n",
       "2018-03-01 00:10:00          14\n",
       "2018-03-01 00:20:00          28\n",
       "2018-03-01 00:30:00          20\n",
       "2018-03-01 00:40:00          32"
      ]
     },
     "execution_count": 4,
     "metadata": {},
     "output_type": "execute_result"
    }
   ],
   "source": [
    "df.head()"
   ]
  },
  {
   "cell_type": "code",
   "execution_count": 5,
   "metadata": {},
   "outputs": [
    {
     "name": "stdout",
     "output_type": "stream",
     "text": [
      "<class 'pandas.core.frame.DataFrame'>\n",
      "DatetimeIndex: 26496 entries, 2018-03-01 00:00:00 to 2018-08-31 23:50:00\n",
      "Data columns (total 1 columns):\n",
      " #   Column      Non-Null Count  Dtype\n",
      "---  ------      --------------  -----\n",
      " 0   num_orders  26496 non-null  int64\n",
      "dtypes: int64(1)\n",
      "memory usage: 414.0 KB\n"
     ]
    }
   ],
   "source": [
    "df.info()"
   ]
  },
  {
   "cell_type": "markdown",
   "metadata": {},
   "source": [
    "В рассматриваемом датафрейме только один признак (`num_orders` - количество заказов), в качестве индексов выступают дата и время. Пропущенных значений нет, тип данных признака корректный.\n",
    "\n",
    "Проверим, в хронологическом ли порядке располагаются индексы."
   ]
  },
  {
   "cell_type": "code",
   "execution_count": 6,
   "metadata": {},
   "outputs": [
    {
     "data": {
      "text/plain": [
       "True"
      ]
     },
     "execution_count": 6,
     "metadata": {},
     "output_type": "execute_result"
    }
   ],
   "source": [
    "df.index.is_monotonic"
   ]
  },
  {
   "cell_type": "markdown",
   "metadata": {},
   "source": [
    "Хронология индексов не нарушена, следовательно в датафрейме представлена информация о количестве заказов в аэропорт **с 1 марта 2018 года по 31 августа 2018 года**, при этом интервал выгрузки - **10 минут**."
   ]
  },
  {
   "cell_type": "markdown",
   "metadata": {},
   "source": [
    "Так как нам предстоит спрогнозировать количество заказов такси на следующий час, поэтому проведем ресемплирование - изменим интервал выгрузки с 10 минут до 1 часа. Количество заказов для каждого часа будет равно сумме заказов всех объектов датафрема внутри этого часа."
   ]
  },
  {
   "cell_type": "code",
   "execution_count": 7,
   "metadata": {},
   "outputs": [
    {
     "data": {
      "text/html": [
       "<div>\n",
       "<style scoped>\n",
       "    .dataframe tbody tr th:only-of-type {\n",
       "        vertical-align: middle;\n",
       "    }\n",
       "\n",
       "    .dataframe tbody tr th {\n",
       "        vertical-align: top;\n",
       "    }\n",
       "\n",
       "    .dataframe thead th {\n",
       "        text-align: right;\n",
       "    }\n",
       "</style>\n",
       "<table border=\"1\" class=\"dataframe\">\n",
       "  <thead>\n",
       "    <tr style=\"text-align: right;\">\n",
       "      <th></th>\n",
       "      <th>num_orders</th>\n",
       "    </tr>\n",
       "    <tr>\n",
       "      <th>datetime</th>\n",
       "      <th></th>\n",
       "    </tr>\n",
       "  </thead>\n",
       "  <tbody>\n",
       "    <tr>\n",
       "      <th>2018-03-01 00:00:00</th>\n",
       "      <td>124</td>\n",
       "    </tr>\n",
       "    <tr>\n",
       "      <th>2018-03-01 01:00:00</th>\n",
       "      <td>85</td>\n",
       "    </tr>\n",
       "    <tr>\n",
       "      <th>2018-03-01 02:00:00</th>\n",
       "      <td>71</td>\n",
       "    </tr>\n",
       "    <tr>\n",
       "      <th>2018-03-01 03:00:00</th>\n",
       "      <td>66</td>\n",
       "    </tr>\n",
       "    <tr>\n",
       "      <th>2018-03-01 04:00:00</th>\n",
       "      <td>43</td>\n",
       "    </tr>\n",
       "  </tbody>\n",
       "</table>\n",
       "</div>"
      ],
      "text/plain": [
       "                     num_orders\n",
       "datetime                       \n",
       "2018-03-01 00:00:00         124\n",
       "2018-03-01 01:00:00          85\n",
       "2018-03-01 02:00:00          71\n",
       "2018-03-01 03:00:00          66\n",
       "2018-03-01 04:00:00          43"
      ]
     },
     "execution_count": 7,
     "metadata": {},
     "output_type": "execute_result"
    }
   ],
   "source": [
    "df = df.resample('1H').sum()\n",
    "df.head()"
   ]
  },
  {
   "cell_type": "markdown",
   "metadata": {},
   "source": [
    "**Вывод**\n",
    "\n",
    "Загрузили данные: проверили хронологию индексов и пропущенные значения. Выполнили ресемплирование данных по одному часу."
   ]
  },
  {
   "cell_type": "markdown",
   "metadata": {},
   "source": [
    "## Анализ"
   ]
  },
  {
   "cell_type": "markdown",
   "metadata": {},
   "source": [
    "Проанализируем, как меняется количество заказов с течением времени. Построим графики тренда и сезонности."
   ]
  },
  {
   "cell_type": "code",
   "execution_count": 8,
   "metadata": {},
   "outputs": [],
   "source": [
    "decomposed = seasonal_decompose(df)"
   ]
  },
  {
   "cell_type": "code",
   "execution_count": 9,
   "metadata": {},
   "outputs": [
    {
     "data": {
      "image/png": "[encoded data removed]",
      "text/plain": [
       "<Figure size 1152x1080 with 2 Axes>"
      ]
     },
     "metadata": {
      "needs_background": "light"
     },
     "output_type": "display_data"
    }
   ],
   "source": [
    "plt.rcParams.update({'font.size': 12})\n",
    "\n",
    "plt.figure(figsize=(16, 15))\n",
    "plt.subplot(311)\n",
    "decomposed.trend.plot(ax=plt.gca())\n",
    "plt.title('Тренд')\n",
    "plt.xlabel('Дата')\n",
    "plt.ylabel('Количество заказов')\n",
    "plt.legend().remove()\n",
    "plt.subplot(312)\n",
    "decomposed.seasonal.plot(ax=plt.gca())\n",
    "plt.title('Сезонность')\n",
    "plt.xlabel('Дата')\n",
    "plt.ylabel('Количество заказов')\n",
    "plt.tight_layout()\n",
    "plt.legend().remove()\n",
    "plt.show()"
   ]
  },
  {
   "cell_type": "markdown",
   "metadata": {},
   "source": [
    "Виден восходящий тренд, который связан с месяцем года: чем ближе к лету, тем больше людей улетают на отдых (и возвращаются с него), и как следствие, тем больше заказов такси в аэропорт. Особенно сильный прирост наблюдается с середины июня и до конца августа.\n",
    "\n",
    "График сезонности пока неинформативен для нас из-за малого периода. Посмотрим на сезонность в разрезе двух суток.  "
   ]
  },
  {
   "cell_type": "code",
   "execution_count": 10,
   "metadata": {},
   "outputs": [
    {
     "data": {
      "image/png": "[encoded data removed]",
      "text/plain": [
       "<Figure size 1152x360 with 1 Axes>"
      ]
     },
     "metadata": {
      "needs_background": "light"
     },
     "output_type": "display_data"
    }
   ],
   "source": [
    "plt.figure(figsize=(16, 5))\n",
    "decomposed.seasonal['2018-08-01':'2018-08-03 00:00:00'].plot(ax=plt.gca(), style='o-')\n",
    "plt.title('Сезонность')\n",
    "plt.xlabel('Дата, время')\n",
    "plt.ylabel('Количество заказов')\n",
    "plt.grid(which='both')\n",
    "plt.legend(['Количество заказов'])\n",
    "plt.show()"
   ]
  },
  {
   "cell_type": "markdown",
   "metadata": {},
   "source": [
    "Замечаем, что наиболее часто такси заказывают в аэропорт с 22:00 до 03:00, наиболее редко - с 04:00 до 08:00."
   ]
  },
  {
   "cell_type": "markdown",
   "metadata": {},
   "source": [
    "Следующей зависимостью, на которую интересно посмотреть, является изменение количества заказов по дням недели. Посмотрим, в какие дни недели заказов больше и сохраняются ли эти соотношения в течение года.\n",
    "\n",
    "Для этого создадим 2 календарных признака: месяц (`month`) и день недели (`day_of_week`). Сгруппируем заказы по дням недели и разобьем по месяцам, после этого - построим график. Для удобства, ресемплируем данные по 1 дню, но чтобы не портить исследуемый датафрейм, будем работать с его копией."
   ]
  },
  {
   "cell_type": "code",
   "execution_count": 11,
   "metadata": {},
   "outputs": [],
   "source": [
    "df1 = df.copy().resample('1D').sum()"
   ]
  },
  {
   "cell_type": "code",
   "execution_count": 12,
   "metadata": {},
   "outputs": [],
   "source": [
    "df1['month'] = df1.index.month"
   ]
  },
  {
   "cell_type": "code",
   "execution_count": 13,
   "metadata": {},
   "outputs": [],
   "source": [
    "df1['day_of_week'] = df1.index.dayofweek"
   ]
  },
  {
   "cell_type": "code",
   "execution_count": 14,
   "metadata": {},
   "outputs": [
    {
     "data": {
      "application/vnd.plotly.v1+json": {
       "config": {
        "linkText": "Export to plot.ly",
        "plotlyServerURL": "https://plot.ly",
        "showLink": true
       },
       "data": [
        {
         "marker": {
          "color": "rgba(255, 153, 51, 0.6)",
          "line": {
           "color": "rgba(255, 153, 51, 1.0)",
           "width": 1
          }
         },
         "name": "0",
         "orientation": "v",
         "text": "",
         "type": "bar",
         "x": [
          3,
          4,
          5,
          6,
          7,
          8
         ],
         "y": [
          1439.25,
          1623.4,
          1963,
          2039,
          2504,
          3478
         ]
        },
        {
         "marker": {
          "color": "rgba(55, 128, 191, 0.6)",
          "line": {
           "color": "rgba(55, 128, 191, 1.0)",
           "width": 1
          }
         },
         "name": "1",
         "orientation": "v",
         "text": "",
         "type": "bar",
         "x": [
          3,
          4,
          5,
          6,
          7,
          8
         ],
         "y": [
          1227.25,
          1340.5,
          1523.6,
          1811.5,
          2269.6,
          2893
         ]
        },
        {
         "marker": {
          "color": "rgba(50, 171, 96, 0.6)",
          "line": {
           "color": "rgba(50, 171, 96, 1.0)",
           "width": 1
          }
         },
         "name": "2",
         "orientation": "v",
         "text": "",
         "type": "bar",
         "x": [
          3,
          4,
          5,
          6,
          7,
          8
         ],
         "y": [
          1324.75,
          1454,
          1695.6,
          2065.75,
          2392.25,
          2967.6
         ]
        },
        {
         "marker": {
          "color": "rgba(128, 0, 128, 0.6)",
          "line": {
           "color": "rgba(128, 0, 128, 1.0)",
           "width": 1
          }
         },
         "name": "3",
         "orientation": "v",
         "text": "",
         "type": "bar",
         "x": [
          3,
          4,
          5,
          6,
          7,
          8
         ],
         "y": [
          1457.6,
          1493,
          1922,
          1950.25,
          2335.25,
          3099.2
         ]
        },
        {
         "marker": {
          "color": "rgba(219, 64, 82, 0.6)",
          "line": {
           "color": "rgba(219, 64, 82, 1.0)",
           "width": 1
          }
         },
         "name": "4",
         "orientation": "v",
         "text": "",
         "type": "bar",
         "x": [
          3,
          4,
          5,
          6,
          7,
          8
         ],
         "y": [
          1471,
          1741,
          1884.5,
          2122,
          2595.75,
          3241.8
         ]
        },
        {
         "marker": {
          "color": "rgba(0, 128, 128, 0.6)",
          "line": {
           "color": "rgba(0, 128, 128, 1.0)",
           "width": 1
          }
         },
         "name": "5",
         "orientation": "v",
         "text": "",
         "type": "bar",
         "x": [
          3,
          4,
          5,
          6,
          7,
          8
         ],
         "y": [
          1383,
          1605,
          1749.75,
          2053.2,
          2477,
          2953.25
         ]
        },
        {
         "marker": {
          "color": "rgba(255, 255, 51, 0.6)",
          "line": {
           "color": "rgba(255, 255, 51, 1.0)",
           "width": 1
          }
         },
         "name": "6",
         "orientation": "v",
         "text": "",
         "type": "bar",
         "x": [
          3,
          4,
          5,
          6,
          7,
          8
         ],
         "y": [
          1311.25,
          1457.6,
          1681.25,
          1891,
          2267.2,
          2783.25
         ]
        }
       ],
       "layout": {
        "legend": {
         "bgcolor": "#F5F6F9",
         "font": {
          "color": "#4D5663"
         }
        },
        "paper_bgcolor": "#F5F6F9",
        "plot_bgcolor": "#F5F6F9",
        "template": {
         "data": {
          "bar": [
           {
            "error_x": {
             "color": "#2a3f5f"
            },
            "error_y": {
             "color": "#2a3f5f"
            },
            "marker": {
             "line": {
              "color": "#E5ECF6",
              "width": 0.5
             },
             "pattern": {
              "fillmode": "overlay",
              "size": 10,
              "solidity": 0.2
             }
            },
            "type": "bar"
           }
          ],
          "barpolar": [
           {
            "marker": {
             "line": {
              "color": "#E5ECF6",
              "width": 0.5
             },
             "pattern": {
              "fillmode": "overlay",
              "size": 10,
              "solidity": 0.2
             }
            },
            "type": "barpolar"
           }
          ],
          "carpet": [
           {
            "aaxis": {
             "endlinecolor": "#2a3f5f",
             "gridcolor": "white",
             "linecolor": "white",
             "minorgridcolor": "white",
             "startlinecolor": "#2a3f5f"
            },
            "baxis": {
             "endlinecolor": "#2a3f5f",
             "gridcolor": "white",
             "linecolor": "white",
             "minorgridcolor": "white",
             "startlinecolor": "#2a3f5f"
            },
            "type": "carpet"
           }
          ],
          "choropleth": [
           {
            "colorbar": {
             "outlinewidth": 0,
             "ticks": ""
            },
            "type": "choropleth"
           }
          ],
          "contour": [
           {
            "colorbar": {
             "outlinewidth": 0,
             "ticks": ""
            },
            "colorscale": [
             [
              0,
              "#0d0887"
             ],
             [
              0.1111111111111111,
              "#46039f"
             ],
             [
              0.2222222222222222,
              "#7201a8"
             ],
             [
              0.3333333333333333,
              "#9c179e"
             ],
             [
              0.4444444444444444,
              "#bd3786"
             ],
             [
              0.5555555555555556,
              "#d8576b"
             ],
             [
              0.6666666666666666,
              "#ed7953"
             ],
             [
              0.7777777777777778,
              "#fb9f3a"
             ],
             [
              0.8888888888888888,
              "#fdca26"
             ],
             [
              1,
              "#f0f921"
             ]
            ],
            "type": "contour"
           }
          ],
          "contourcarpet": [
           {
            "colorbar": {
             "outlinewidth": 0,
             "ticks": ""
            },
            "type": "contourcarpet"
           }
          ],
          "heatmap": [
           {
            "colorbar": {
             "outlinewidth": 0,
             "ticks": ""
            },
            "colorscale": [
             [
              0,
              "#0d0887"
             ],
             [
              0.1111111111111111,
              "#46039f"
             ],
             [
              0.2222222222222222,
              "#7201a8"
             ],
             [
              0.3333333333333333,
              "#9c179e"
             ],
             [
              0.4444444444444444,
              "#bd3786"
             ],
             [
              0.5555555555555556,
              "#d8576b"
             ],
             [
              0.6666666666666666,
              "#ed7953"
             ],
             [
              0.7777777777777778,
              "#fb9f3a"
             ],
             [
              0.8888888888888888,
              "#fdca26"
             ],
             [
              1,
              "#f0f921"
             ]
            ],
            "type": "heatmap"
           }
          ],
          "heatmapgl": [
           {
            "colorbar": {
             "outlinewidth": 0,
             "ticks": ""
            },
            "colorscale": [
             [
              0,
              "#0d0887"
             ],
             [
              0.1111111111111111,
              "#46039f"
             ],
             [
              0.2222222222222222,
              "#7201a8"
             ],
             [
              0.3333333333333333,
              "#9c179e"
             ],
             [
              0.4444444444444444,
              "#bd3786"
             ],
             [
              0.5555555555555556,
              "#d8576b"
             ],
             [
              0.6666666666666666,
              "#ed7953"
             ],
             [
              0.7777777777777778,
              "#fb9f3a"
             ],
             [
              0.8888888888888888,
              "#fdca26"
             ],
             [
              1,
              "#f0f921"
             ]
            ],
            "type": "heatmapgl"
           }
          ],
          "histogram": [
           {
            "marker": {
             "pattern": {
              "fillmode": "overlay",
              "size": 10,
              "solidity": 0.2
             }
            },
            "type": "histogram"
           }
          ],
          "histogram2d": [
           {
            "colorbar": {
             "outlinewidth": 0,
             "ticks": ""
            },
            "colorscale": [
             [
              0,
              "#0d0887"
             ],
             [
              0.1111111111111111,
              "#46039f"
             ],
             [
              0.2222222222222222,
              "#7201a8"
             ],
             [
              0.3333333333333333,
              "#9c179e"
             ],
             [
              0.4444444444444444,
              "#bd3786"
             ],
             [
              0.5555555555555556,
              "#d8576b"
             ],
             [
              0.6666666666666666,
              "#ed7953"
             ],
             [
              0.7777777777777778,
              "#fb9f3a"
             ],
             [
              0.8888888888888888,
              "#fdca26"
             ],
             [
              1,
              "#f0f921"
             ]
            ],
            "type": "histogram2d"
           }
          ],
          "histogram2dcontour": [
           {
            "colorbar": {
             "outlinewidth": 0,
             "ticks": ""
            },
            "colorscale": [
             [
              0,
              "#0d0887"
             ],
             [
              0.1111111111111111,
              "#46039f"
             ],
             [
              0.2222222222222222,
              "#7201a8"
             ],
             [
              0.3333333333333333,
              "#9c179e"
             ],
             [
              0.4444444444444444,
              "#bd3786"
             ],
             [
              0.5555555555555556,
              "#d8576b"
             ],
             [
              0.6666666666666666,
              "#ed7953"
             ],
             [
              0.7777777777777778,
              "#fb9f3a"
             ],
             [
              0.8888888888888888,
              "#fdca26"
             ],
             [
              1,
              "#f0f921"
             ]
            ],
            "type": "histogram2dcontour"
           }
          ],
          "mesh3d": [
           {
            "colorbar": {
             "outlinewidth": 0,
             "ticks": ""
            },
            "type": "mesh3d"
           }
          ],
          "parcoords": [
           {
            "line": {
             "colorbar": {
              "outlinewidth": 0,
              "ticks": ""
             }
            },
            "type": "parcoords"
           }
          ],
          "pie": [
           {
            "automargin": true,
            "type": "pie"
           }
          ],
          "scatter": [
           {
            "marker": {
             "colorbar": {
              "outlinewidth": 0,
              "ticks": ""
             }
            },
            "type": "scatter"
           }
          ],
          "scatter3d": [
           {
            "line": {
             "colorbar": {
              "outlinewidth": 0,
              "ticks": ""
             }
            },
            "marker": {
             "colorbar": {
              "outlinewidth": 0,
              "ticks": ""
             }
            },
            "type": "scatter3d"
           }
          ],
          "scattercarpet": [
           {
            "marker": {
             "colorbar": {
              "outlinewidth": 0,
              "ticks": ""
             }
            },
            "type": "scattercarpet"
           }
          ],
          "scattergeo": [
           {
            "marker": {
             "colorbar": {
              "outlinewidth": 0,
              "ticks": ""
             }
            },
            "type": "scattergeo"
           }
          ],
          "scattergl": [
           {
            "marker": {
             "colorbar": {
              "outlinewidth": 0,
              "ticks": ""
             }
            },
            "type": "scattergl"
           }
          ],
          "scattermapbox": [
           {
            "marker": {
             "colorbar": {
              "outlinewidth": 0,
              "ticks": ""
             }
            },
            "type": "scattermapbox"
           }
          ],
          "scatterpolar": [
           {
            "marker": {
             "colorbar": {
              "outlinewidth": 0,
              "ticks": ""
             }
            },
            "type": "scatterpolar"
           }
          ],
          "scatterpolargl": [
           {
            "marker": {
             "colorbar": {
              "outlinewidth": 0,
              "ticks": ""
             }
            },
            "type": "scatterpolargl"
           }
          ],
          "scatterternary": [
           {
            "marker": {
             "colorbar": {
              "outlinewidth": 0,
              "ticks": ""
             }
            },
            "type": "scatterternary"
           }
          ],
          "surface": [
           {
            "colorbar": {
             "outlinewidth": 0,
             "ticks": ""
            },
            "colorscale": [
             [
              0,
              "#0d0887"
             ],
             [
              0.1111111111111111,
              "#46039f"
             ],
             [
              0.2222222222222222,
              "#7201a8"
             ],
             [
              0.3333333333333333,
              "#9c179e"
             ],
             [
              0.4444444444444444,
              "#bd3786"
             ],
             [
              0.5555555555555556,
              "#d8576b"
             ],
             [
              0.6666666666666666,
              "#ed7953"
             ],
             [
              0.7777777777777778,
              "#fb9f3a"
             ],
             [
              0.8888888888888888,
              "#fdca26"
             ],
             [
              1,
              "#f0f921"
             ]
            ],
            "type": "surface"
           }
          ],
          "table": [
           {
            "cells": {
             "fill": {
              "color": "#EBF0F8"
             },
             "line": {
              "color": "white"
             }
            },
            "header": {
             "fill": {
              "color": "#C8D4E3"
             },
             "line": {
              "color": "white"
             }
            },
            "type": "table"
           }
          ]
         },
         "layout": {
          "annotationdefaults": {
           "arrowcolor": "#2a3f5f",
           "arrowhead": 0,
           "arrowwidth": 1
          },
          "autotypenumbers": "strict",
          "coloraxis": {
           "colorbar": {
            "outlinewidth": 0,
            "ticks": ""
           }
          },
          "colorscale": {
           "diverging": [
            [
             0,
             "#8e0152"
            ],
            [
             0.1,
             "#c51b7d"
            ],
            [
             0.2,
             "#de77ae"
            ],
            [
             0.3,
             "#f1b6da"
            ],
            [
             0.4,
             "#fde0ef"
            ],
            [
             0.5,
             "#f7f7f7"
            ],
            [
             0.6,
             "#e6f5d0"
            ],
            [
             0.7,
             "#b8e186"
            ],
            [
             0.8,
             "#7fbc41"
            ],
            [
             0.9,
             "#4d9221"
            ],
            [
             1,
             "#276419"
            ]
           ],
           "sequential": [
            [
             0,
             "#0d0887"
            ],
            [
             0.1111111111111111,
             "#46039f"
            ],
            [
             0.2222222222222222,
             "#7201a8"
            ],
            [
             0.3333333333333333,
             "#9c179e"
            ],
            [
             0.4444444444444444,
             "#bd3786"
            ],
            [
             0.5555555555555556,
             "#d8576b"
            ],
            [
             0.6666666666666666,
             "#ed7953"
            ],
            [
             0.7777777777777778,
             "#fb9f3a"
            ],
            [
             0.8888888888888888,
             "#fdca26"
            ],
            [
             1,
             "#f0f921"
            ]
           ],
           "sequentialminus": [
            [
             0,
             "#0d0887"
            ],
            [
             0.1111111111111111,
             "#46039f"
            ],
            [
             0.2222222222222222,
             "#7201a8"
            ],
            [
             0.3333333333333333,
             "#9c179e"
            ],
            [
             0.4444444444444444,
             "#bd3786"
            ],
            [
             0.5555555555555556,
             "#d8576b"
            ],
            [
             0.6666666666666666,
             "#ed7953"
            ],
            [
             0.7777777777777778,
             "#fb9f3a"
            ],
            [
             0.8888888888888888,
             "#fdca26"
            ],
            [
             1,
             "#f0f921"
            ]
           ]
          },
          "colorway": [
           "#636efa",
           "#EF553B",
           "#00cc96",
           "#ab63fa",
           "#FFA15A",
           "#19d3f3",
           "#FF6692",
           "#B6E880",
           "#FF97FF",
           "#FECB52"
          ],
          "font": {
           "color": "#2a3f5f"
          },
          "geo": {
           "bgcolor": "white",
           "lakecolor": "white",
           "landcolor": "#E5ECF6",
           "showlakes": true,
           "showland": true,
           "subunitcolor": "white"
          },
          "hoverlabel": {
           "align": "left"
          },
          "hovermode": "closest",
          "mapbox": {
           "style": "light"
          },
          "paper_bgcolor": "white",
          "plot_bgcolor": "#E5ECF6",
          "polar": {
           "angularaxis": {
            "gridcolor": "white",
            "linecolor": "white",
            "ticks": ""
           },
           "bgcolor": "#E5ECF6",
           "radialaxis": {
            "gridcolor": "white",
            "linecolor": "white",
            "ticks": ""
           }
          },
          "scene": {
           "xaxis": {
            "backgroundcolor": "#E5ECF6",
            "gridcolor": "white",
            "gridwidth": 2,
            "linecolor": "white",
            "showbackground": true,
            "ticks": "",
            "zerolinecolor": "white"
           },
           "yaxis": {
            "backgroundcolor": "#E5ECF6",
            "gridcolor": "white",
            "gridwidth": 2,
            "linecolor": "white",
            "showbackground": true,
            "ticks": "",
            "zerolinecolor": "white"
           },
           "zaxis": {
            "backgroundcolor": "#E5ECF6",
            "gridcolor": "white",
            "gridwidth": 2,
            "linecolor": "white",
            "showbackground": true,
            "ticks": "",
            "zerolinecolor": "white"
           }
          },
          "shapedefaults": {
           "line": {
            "color": "#2a3f5f"
           }
          },
          "ternary": {
           "aaxis": {
            "gridcolor": "white",
            "linecolor": "white",
            "ticks": ""
           },
           "baxis": {
            "gridcolor": "white",
            "linecolor": "white",
            "ticks": ""
           },
           "bgcolor": "#E5ECF6",
           "caxis": {
            "gridcolor": "white",
            "linecolor": "white",
            "ticks": ""
           }
          },
          "title": {
           "x": 0.05
          },
          "xaxis": {
           "automargin": true,
           "gridcolor": "white",
           "linecolor": "white",
           "ticks": "",
           "title": {
            "standoff": 15
           },
           "zerolinecolor": "white",
           "zerolinewidth": 2
          },
          "yaxis": {
           "automargin": true,
           "gridcolor": "white",
           "linecolor": "white",
           "ticks": "",
           "title": {
            "standoff": 15
           },
           "zerolinecolor": "white",
           "zerolinewidth": 2
          }
         }
        },
        "title": {
         "font": {
          "color": "#4D5663"
         },
         "text": "Изменение количества заказов по дням недели в зависимости от месяца"
        },
        "xaxis": {
         "gridcolor": "#E1E5ED",
         "showgrid": true,
         "tickfont": {
          "color": "#4D5663"
         },
         "title": {
          "font": {
           "color": "#4D5663"
          },
          "text": "Месяц"
         },
         "zerolinecolor": "#E1E5ED"
        },
        "yaxis": {
         "gridcolor": "#E1E5ED",
         "showgrid": true,
         "tickfont": {
          "color": "#4D5663"
         },
         "title": {
          "font": {
           "color": "#4D5663"
          },
          "text": "Количество заказов"
         },
         "zerolinecolor": "#E1E5ED"
        }
       }
      },
      "text/html": [
       "<div>                            <div id=\"ab11ab0f-32a5-4fc2-8439-8024ddc36017\" class=\"plotly-graph-div\" style=\"height:525px; width:100%;\"></div>            <script type=\"text/javascript\">                require([\"plotly\"], function(Plotly) {                    window.PLOTLYENV=window.PLOTLYENV || {};\n",
       "                    window.PLOTLYENV.BASE_URL='https://plot.ly';                                    if (document.getElementById(\"ab11ab0f-32a5-4fc2-8439-8024ddc36017\")) {                    Plotly.newPlot(                        \"ab11ab0f-32a5-4fc2-8439-8024ddc36017\",                        [{\"marker\":{\"color\":\"rgba(255, 153, 51, 0.6)\",\"line\":{\"color\":\"rgba(255, 153, 51, 1.0)\",\"width\":1}},\"name\":\"0\",\"orientation\":\"v\",\"text\":\"\",\"type\":\"bar\",\"x\":[3,4,5,6,7,8],\"y\":[1439.25,1623.4,1963.0,2039.0,2504.0,3478.0]},{\"marker\":{\"color\":\"rgba(55, 128, 191, 0.6)\",\"line\":{\"color\":\"rgba(55, 128, 191, 1.0)\",\"width\":1}},\"name\":\"1\",\"orientation\":\"v\",\"text\":\"\",\"type\":\"bar\",\"x\":[3,4,5,6,7,8],\"y\":[1227.25,1340.5,1523.6,1811.5,2269.6,2893.0]},{\"marker\":{\"color\":\"rgba(50, 171, 96, 0.6)\",\"line\":{\"color\":\"rgba(50, 171, 96, 1.0)\",\"width\":1}},\"name\":\"2\",\"orientation\":\"v\",\"text\":\"\",\"type\":\"bar\",\"x\":[3,4,5,6,7,8],\"y\":[1324.75,1454.0,1695.6,2065.75,2392.25,2967.6]},{\"marker\":{\"color\":\"rgba(128, 0, 128, 0.6)\",\"line\":{\"color\":\"rgba(128, 0, 128, 1.0)\",\"width\":1}},\"name\":\"3\",\"orientation\":\"v\",\"text\":\"\",\"type\":\"bar\",\"x\":[3,4,5,6,7,8],\"y\":[1457.6,1493.0,1922.0,1950.25,2335.25,3099.2]},{\"marker\":{\"color\":\"rgba(219, 64, 82, 0.6)\",\"line\":{\"color\":\"rgba(219, 64, 82, 1.0)\",\"width\":1}},\"name\":\"4\",\"orientation\":\"v\",\"text\":\"\",\"type\":\"bar\",\"x\":[3,4,5,6,7,8],\"y\":[1471.0,1741.0,1884.5,2122.0,2595.75,3241.8]},{\"marker\":{\"color\":\"rgba(0, 128, 128, 0.6)\",\"line\":{\"color\":\"rgba(0, 128, 128, 1.0)\",\"width\":1}},\"name\":\"5\",\"orientation\":\"v\",\"text\":\"\",\"type\":\"bar\",\"x\":[3,4,5,6,7,8],\"y\":[1383.0,1605.0,1749.75,2053.2,2477.0,2953.25]},{\"marker\":{\"color\":\"rgba(255, 255, 51, 0.6)\",\"line\":{\"color\":\"rgba(255, 255, 51, 1.0)\",\"width\":1}},\"name\":\"6\",\"orientation\":\"v\",\"text\":\"\",\"type\":\"bar\",\"x\":[3,4,5,6,7,8],\"y\":[1311.25,1457.6,1681.25,1891.0,2267.2,2783.25]}],                        {\"legend\":{\"bgcolor\":\"#F5F6F9\",\"font\":{\"color\":\"#4D5663\"}},\"paper_bgcolor\":\"#F5F6F9\",\"plot_bgcolor\":\"#F5F6F9\",\"template\":{\"data\":{\"bar\":[{\"error_x\":{\"color\":\"#2a3f5f\"},\"error_y\":{\"color\":\"#2a3f5f\"},\"marker\":{\"line\":{\"color\":\"#E5ECF6\",\"width\":0.5},\"pattern\":{\"fillmode\":\"overlay\",\"size\":10,\"solidity\":0.2}},\"type\":\"bar\"}],\"barpolar\":[{\"marker\":{\"line\":{\"color\":\"#E5ECF6\",\"width\":0.5},\"pattern\":{\"fillmode\":\"overlay\",\"size\":10,\"solidity\":0.2}},\"type\":\"barpolar\"}],\"carpet\":[{\"aaxis\":{\"endlinecolor\":\"#2a3f5f\",\"gridcolor\":\"white\",\"linecolor\":\"white\",\"minorgridcolor\":\"white\",\"startlinecolor\":\"#2a3f5f\"},\"baxis\":{\"endlinecolor\":\"#2a3f5f\",\"gridcolor\":\"white\",\"linecolor\":\"white\",\"minorgridcolor\":\"white\",\"startlinecolor\":\"#2a3f5f\"},\"type\":\"carpet\"}],\"choropleth\":[{\"colorbar\":{\"outlinewidth\":0,\"ticks\":\"\"},\"type\":\"choropleth\"}],\"contour\":[{\"colorbar\":{\"outlinewidth\":0,\"ticks\":\"\"},\"colorscale\":[[0.0,\"#0d0887\"],[0.1111111111111111,\"#46039f\"],[0.2222222222222222,\"#7201a8\"],[0.3333333333333333,\"#9c179e\"],[0.4444444444444444,\"#bd3786\"],[0.5555555555555556,\"#d8576b\"],[0.6666666666666666,\"#ed7953\"],[0.7777777777777778,\"#fb9f3a\"],[0.8888888888888888,\"#fdca26\"],[1.0,\"#f0f921\"]],\"type\":\"contour\"}],\"contourcarpet\":[{\"colorbar\":{\"outlinewidth\":0,\"ticks\":\"\"},\"type\":\"contourcarpet\"}],\"heatmap\":[{\"colorbar\":{\"outlinewidth\":0,\"ticks\":\"\"},\"colorscale\":[[0.0,\"#0d0887\"],[0.1111111111111111,\"#46039f\"],[0.2222222222222222,\"#7201a8\"],[0.3333333333333333,\"#9c179e\"],[0.4444444444444444,\"#bd3786\"],[0.5555555555555556,\"#d8576b\"],[0.6666666666666666,\"#ed7953\"],[0.7777777777777778,\"#fb9f3a\"],[0.8888888888888888,\"#fdca26\"],[1.0,\"#f0f921\"]],\"type\":\"heatmap\"}],\"heatmapgl\":[{\"colorbar\":{\"outlinewidth\":0,\"ticks\":\"\"},\"colorscale\":[[0.0,\"#0d0887\"],[0.1111111111111111,\"#46039f\"],[0.2222222222222222,\"#7201a8\"],[0.3333333333333333,\"#9c179e\"],[0.4444444444444444,\"#bd3786\"],[0.5555555555555556,\"#d8576b\"],[0.6666666666666666,\"#ed7953\"],[0.7777777777777778,\"#fb9f3a\"],[0.8888888888888888,\"#fdca26\"],[1.0,\"#f0f921\"]],\"type\":\"heatmapgl\"}],\"histogram\":[{\"marker\":{\"pattern\":{\"fillmode\":\"overlay\",\"size\":10,\"solidity\":0.2}},\"type\":\"histogram\"}],\"histogram2d\":[{\"colorbar\":{\"outlinewidth\":0,\"ticks\":\"\"},\"colorscale\":[[0.0,\"#0d0887\"],[0.1111111111111111,\"#46039f\"],[0.2222222222222222,\"#7201a8\"],[0.3333333333333333,\"#9c179e\"],[0.4444444444444444,\"#bd3786\"],[0.5555555555555556,\"#d8576b\"],[0.6666666666666666,\"#ed7953\"],[0.7777777777777778,\"#fb9f3a\"],[0.8888888888888888,\"#fdca26\"],[1.0,\"#f0f921\"]],\"type\":\"histogram2d\"}],\"histogram2dcontour\":[{\"colorbar\":{\"outlinewidth\":0,\"ticks\":\"\"},\"colorscale\":[[0.0,\"#0d0887\"],[0.1111111111111111,\"#46039f\"],[0.2222222222222222,\"#7201a8\"],[0.3333333333333333,\"#9c179e\"],[0.4444444444444444,\"#bd3786\"],[0.5555555555555556,\"#d8576b\"],[0.6666666666666666,\"#ed7953\"],[0.7777777777777778,\"#fb9f3a\"],[0.8888888888888888,\"#fdca26\"],[1.0,\"#f0f921\"]],\"type\":\"histogram2dcontour\"}],\"mesh3d\":[{\"colorbar\":{\"outlinewidth\":0,\"ticks\":\"\"},\"type\":\"mesh3d\"}],\"parcoords\":[{\"line\":{\"colorbar\":{\"outlinewidth\":0,\"ticks\":\"\"}},\"type\":\"parcoords\"}],\"pie\":[{\"automargin\":true,\"type\":\"pie\"}],\"scatter\":[{\"marker\":{\"colorbar\":{\"outlinewidth\":0,\"ticks\":\"\"}},\"type\":\"scatter\"}],\"scatter3d\":[{\"line\":{\"colorbar\":{\"outlinewidth\":0,\"ticks\":\"\"}},\"marker\":{\"colorbar\":{\"outlinewidth\":0,\"ticks\":\"\"}},\"type\":\"scatter3d\"}],\"scattercarpet\":[{\"marker\":{\"colorbar\":{\"outlinewidth\":0,\"ticks\":\"\"}},\"type\":\"scattercarpet\"}],\"scattergeo\":[{\"marker\":{\"colorbar\":{\"outlinewidth\":0,\"ticks\":\"\"}},\"type\":\"scattergeo\"}],\"scattergl\":[{\"marker\":{\"colorbar\":{\"outlinewidth\":0,\"ticks\":\"\"}},\"type\":\"scattergl\"}],\"scattermapbox\":[{\"marker\":{\"colorbar\":{\"outlinewidth\":0,\"ticks\":\"\"}},\"type\":\"scattermapbox\"}],\"scatterpolar\":[{\"marker\":{\"colorbar\":{\"outlinewidth\":0,\"ticks\":\"\"}},\"type\":\"scatterpolar\"}],\"scatterpolargl\":[{\"marker\":{\"colorbar\":{\"outlinewidth\":0,\"ticks\":\"\"}},\"type\":\"scatterpolargl\"}],\"scatterternary\":[{\"marker\":{\"colorbar\":{\"outlinewidth\":0,\"ticks\":\"\"}},\"type\":\"scatterternary\"}],\"surface\":[{\"colorbar\":{\"outlinewidth\":0,\"ticks\":\"\"},\"colorscale\":[[0.0,\"#0d0887\"],[0.1111111111111111,\"#46039f\"],[0.2222222222222222,\"#7201a8\"],[0.3333333333333333,\"#9c179e\"],[0.4444444444444444,\"#bd3786\"],[0.5555555555555556,\"#d8576b\"],[0.6666666666666666,\"#ed7953\"],[0.7777777777777778,\"#fb9f3a\"],[0.8888888888888888,\"#fdca26\"],[1.0,\"#f0f921\"]],\"type\":\"surface\"}],\"table\":[{\"cells\":{\"fill\":{\"color\":\"#EBF0F8\"},\"line\":{\"color\":\"white\"}},\"header\":{\"fill\":{\"color\":\"#C8D4E3\"},\"line\":{\"color\":\"white\"}},\"type\":\"table\"}]},\"layout\":{\"annotationdefaults\":{\"arrowcolor\":\"#2a3f5f\",\"arrowhead\":0,\"arrowwidth\":1},\"autotypenumbers\":\"strict\",\"coloraxis\":{\"colorbar\":{\"outlinewidth\":0,\"ticks\":\"\"}},\"colorscale\":{\"diverging\":[[0,\"#8e0152\"],[0.1,\"#c51b7d\"],[0.2,\"#de77ae\"],[0.3,\"#f1b6da\"],[0.4,\"#fde0ef\"],[0.5,\"#f7f7f7\"],[0.6,\"#e6f5d0\"],[0.7,\"#b8e186\"],[0.8,\"#7fbc41\"],[0.9,\"#4d9221\"],[1,\"#276419\"]],\"sequential\":[[0.0,\"#0d0887\"],[0.1111111111111111,\"#46039f\"],[0.2222222222222222,\"#7201a8\"],[0.3333333333333333,\"#9c179e\"],[0.4444444444444444,\"#bd3786\"],[0.5555555555555556,\"#d8576b\"],[0.6666666666666666,\"#ed7953\"],[0.7777777777777778,\"#fb9f3a\"],[0.8888888888888888,\"#fdca26\"],[1.0,\"#f0f921\"]],\"sequentialminus\":[[0.0,\"#0d0887\"],[0.1111111111111111,\"#46039f\"],[0.2222222222222222,\"#7201a8\"],[0.3333333333333333,\"#9c179e\"],[0.4444444444444444,\"#bd3786\"],[0.5555555555555556,\"#d8576b\"],[0.6666666666666666,\"#ed7953\"],[0.7777777777777778,\"#fb9f3a\"],[0.8888888888888888,\"#fdca26\"],[1.0,\"#f0f921\"]]},\"colorway\":[\"#636efa\",\"#EF553B\",\"#00cc96\",\"#ab63fa\",\"#FFA15A\",\"#19d3f3\",\"#FF6692\",\"#B6E880\",\"#FF97FF\",\"#FECB52\"],\"font\":{\"color\":\"#2a3f5f\"},\"geo\":{\"bgcolor\":\"white\",\"lakecolor\":\"white\",\"landcolor\":\"#E5ECF6\",\"showlakes\":true,\"showland\":true,\"subunitcolor\":\"white\"},\"hoverlabel\":{\"align\":\"left\"},\"hovermode\":\"closest\",\"mapbox\":{\"style\":\"light\"},\"paper_bgcolor\":\"white\",\"plot_bgcolor\":\"#E5ECF6\",\"polar\":{\"angularaxis\":{\"gridcolor\":\"white\",\"linecolor\":\"white\",\"ticks\":\"\"},\"bgcolor\":\"#E5ECF6\",\"radialaxis\":{\"gridcolor\":\"white\",\"linecolor\":\"white\",\"ticks\":\"\"}},\"scene\":{\"xaxis\":{\"backgroundcolor\":\"#E5ECF6\",\"gridcolor\":\"white\",\"gridwidth\":2,\"linecolor\":\"white\",\"showbackground\":true,\"ticks\":\"\",\"zerolinecolor\":\"white\"},\"yaxis\":{\"backgroundcolor\":\"#E5ECF6\",\"gridcolor\":\"white\",\"gridwidth\":2,\"linecolor\":\"white\",\"showbackground\":true,\"ticks\":\"\",\"zerolinecolor\":\"white\"},\"zaxis\":{\"backgroundcolor\":\"#E5ECF6\",\"gridcolor\":\"white\",\"gridwidth\":2,\"linecolor\":\"white\",\"showbackground\":true,\"ticks\":\"\",\"zerolinecolor\":\"white\"}},\"shapedefaults\":{\"line\":{\"color\":\"#2a3f5f\"}},\"ternary\":{\"aaxis\":{\"gridcolor\":\"white\",\"linecolor\":\"white\",\"ticks\":\"\"},\"baxis\":{\"gridcolor\":\"white\",\"linecolor\":\"white\",\"ticks\":\"\"},\"bgcolor\":\"#E5ECF6\",\"caxis\":{\"gridcolor\":\"white\",\"linecolor\":\"white\",\"ticks\":\"\"}},\"title\":{\"x\":0.05},\"xaxis\":{\"automargin\":true,\"gridcolor\":\"white\",\"linecolor\":\"white\",\"ticks\":\"\",\"title\":{\"standoff\":15},\"zerolinecolor\":\"white\",\"zerolinewidth\":2},\"yaxis\":{\"automargin\":true,\"gridcolor\":\"white\",\"linecolor\":\"white\",\"ticks\":\"\",\"title\":{\"standoff\":15},\"zerolinecolor\":\"white\",\"zerolinewidth\":2}}},\"title\":{\"font\":{\"color\":\"#4D5663\"},\"text\":\"\\u0418\\u0437\\u043c\\u0435\\u043d\\u0435\\u043d\\u0438\\u0435 \\u043a\\u043e\\u043b\\u0438\\u0447\\u0435\\u0441\\u0442\\u0432\\u0430 \\u0437\\u0430\\u043a\\u0430\\u0437\\u043e\\u0432 \\u043f\\u043e \\u0434\\u043d\\u044f\\u043c \\u043d\\u0435\\u0434\\u0435\\u043b\\u0438 \\u0432 \\u0437\\u0430\\u0432\\u0438\\u0441\\u0438\\u043c\\u043e\\u0441\\u0442\\u0438 \\u043e\\u0442 \\u043c\\u0435\\u0441\\u044f\\u0446\\u0430\"},\"xaxis\":{\"gridcolor\":\"#E1E5ED\",\"showgrid\":true,\"tickfont\":{\"color\":\"#4D5663\"},\"title\":{\"font\":{\"color\":\"#4D5663\"},\"text\":\"\\u041c\\u0435\\u0441\\u044f\\u0446\"},\"zerolinecolor\":\"#E1E5ED\"},\"yaxis\":{\"gridcolor\":\"#E1E5ED\",\"showgrid\":true,\"tickfont\":{\"color\":\"#4D5663\"},\"title\":{\"font\":{\"color\":\"#4D5663\"},\"text\":\"\\u041a\\u043e\\u043b\\u0438\\u0447\\u0435\\u0441\\u0442\\u0432\\u043e \\u0437\\u0430\\u043a\\u0430\\u0437\\u043e\\u0432\"},\"zerolinecolor\":\"#E1E5ED\"}},                        {\"showLink\": true, \"linkText\": \"Export to plot.ly\", \"plotlyServerURL\": \"https://plot.ly\", \"responsive\": true}                    ).then(function(){\n",
       "                            \n",
       "var gd = document.getElementById('ab11ab0f-32a5-4fc2-8439-8024ddc36017');\n",
       "var x = new MutationObserver(function (mutations, observer) {{\n",
       "        var display = window.getComputedStyle(gd).display;\n",
       "        if (!display || display === 'none') {{\n",
       "            console.log([gd, 'removed!']);\n",
       "            Plotly.purge(gd);\n",
       "            observer.disconnect();\n",
       "        }}\n",
       "}});\n",
       "\n",
       "// Listen for the removal of the full notebook cells\n",
       "var notebookContainer = gd.closest('#notebook-container');\n",
       "if (notebookContainer) {{\n",
       "    x.observe(notebookContainer, {childList: true});\n",
       "}}\n",
       "\n",
       "// Listen for the clearing of the current output cell\n",
       "var outputEl = gd.closest('.output');\n",
       "if (outputEl) {{\n",
       "    x.observe(outputEl, {childList: true});\n",
       "}}\n",
       "\n",
       "                        })                };                });            </script>        </div>"
      ]
     },
     "metadata": {},
     "output_type": "display_data"
    }
   ],
   "source": [
    "(\n",
    "    df1\n",
    "    .pivot_table(\n",
    "        index='month', \n",
    "        columns='day_of_week', \n",
    "        values='num_orders', \n",
    "        aggfunc='mean')\n",
    "    .iplot(\n",
    "        kind='bar',\n",
    "        xTitle='Месяц',\n",
    "        yTitle='Количество заказов',\n",
    "        title='Изменение количества заказов по дням недели в зависимости от месяца')\n",
    ")\n"
   ]
  },
  {
   "cell_type": "markdown",
   "metadata": {},
   "source": [
    "Видим, что в среднем, наибольшее количество заказов приходится на понедельник и пятницу, и данная тенденция сохраняется на протяжении всего рассматриваемого периода. Вторник и воскресенье - наоборот, дни, в которые заказов такси меньше по сравнению с другими."
   ]
  },
  {
   "cell_type": "markdown",
   "metadata": {},
   "source": [
    "Перед тем, как переходить к обучению моделей, создадим еще несколько признаков: календарный месяц (`month`), номер дня в месяце (`day`) и день недели (`day_of_week`)."
   ]
  },
  {
   "cell_type": "code",
   "execution_count": 15,
   "metadata": {},
   "outputs": [],
   "source": [
    "df['month'] = df.index.month"
   ]
  },
  {
   "cell_type": "code",
   "execution_count": 16,
   "metadata": {},
   "outputs": [],
   "source": [
    "df['day_of_week'] = df.index.dayofweek"
   ]
  },
  {
   "cell_type": "code",
   "execution_count": 17,
   "metadata": {},
   "outputs": [],
   "source": [
    "df['day'] = df.index.day"
   ]
  },
  {
   "cell_type": "markdown",
   "metadata": {},
   "source": [
    "Теперь можем приступать к обучению моделей."
   ]
  },
  {
   "cell_type": "markdown",
   "metadata": {},
   "source": [
    "## Обучение"
   ]
  },
  {
   "cell_type": "markdown",
   "metadata": {},
   "source": [
    "В рамках исследования мы будет обучать 3 модели регрессии:\n",
    "- LinearRegression\n",
    "- RandomForestRegressor\n",
    "- CatBoostRegressor"
   ]
  },
  {
   "cell_type": "markdown",
   "metadata": {},
   "source": [
    "При обучение временных рядов есть особенность - мы не будем сразу делить выборку на обучающую, валидационную и тестовую, а также выделять целевой признак. Мы не знаем, сколько потребуется \"отстающих значений\" ('lag features') и какой размер окна усреднения ('rolling') выбрать, чтобы достичь наилучших значений метрики RMSE. \n",
    "\n",
    "По этим причинам, мы будем в цикле: \n",
    "- подбирать значения (lag features и rolling)\n",
    "- делить выборку на train, valid и test (в соотношении 8-1-1)\n",
    "- выделять целевой признак (`num_orders`)\n",
    "- обучать модель с различными гиперпараметрами\n",
    "- находить метрику RMSE на валидационной выборке\n",
    "\n",
    "В результате получим параметры, при которых модель показала наилучшее значение метрики RMSE на валидационной выборке.\n",
    "\n",
    "Примечание: подбирать значения lag features и rolling и делить выборку на train, valid и test будем с помощью функций `make_features` и `df_split`."
   ]
  },
  {
   "cell_type": "markdown",
   "metadata": {},
   "source": [
    "По завершении каждой итерации цикла нам нужен \"чистый\" датафрейм `df`. Чтобы это реализовать, воспользуемся функцией 'copy'."
   ]
  },
  {
   "cell_type": "code",
   "execution_count": 18,
   "metadata": {},
   "outputs": [],
   "source": [
    "df1 = df.copy()"
   ]
  },
  {
   "cell_type": "markdown",
   "metadata": {},
   "source": [
    "**LinearRegression**"
   ]
  },
  {
   "cell_type": "markdown",
   "metadata": {},
   "source": [
    "Диапазон поиска параметров:\n",
    "- 'lag features': от 81 до 100\n",
    "- 'rolling': от 1 до 10"
   ]
  },
  {
   "cell_type": "code",
   "execution_count": 19,
   "metadata": {},
   "outputs": [],
   "source": [
    "def make_features(main_lag, main_roll):\n",
    "    for lag in range(1, main_lag + 1):\n",
    "        df['lag_{}'.format(lag)] = df['num_orders'].shift(lag)\n",
    "    df['rolling_mean'] = df['num_orders'].shift().rolling(main_roll).mean()"
   ]
  },
  {
   "cell_type": "code",
   "execution_count": 20,
   "metadata": {},
   "outputs": [],
   "source": [
    "def df_split(data):\n",
    "    train, valid_test = train_test_split(data, shuffle=False, test_size=0.2)\n",
    "    train = train.dropna()\n",
    "\n",
    "    train_target = train['num_orders']\n",
    "    train_features = train.drop(['num_orders'], axis=1)\n",
    "        \n",
    "    valid, test = train_test_split(valid_test, shuffle=False, test_size=0.5)\n",
    "        \n",
    "    valid_target = valid['num_orders']\n",
    "    valid_features = valid.drop(['num_orders'], axis=1)\n",
    "        \n",
    "    test_target = test['num_orders']\n",
    "    test_features = test.drop(['num_orders'], axis=1)\n",
    "    \n",
    "    return train_features, train_target, valid_features, valid_target, test_features, test_target"
   ]
  },
  {
   "cell_type": "code",
   "execution_count": 21,
   "metadata": {
    "scrolled": true
   },
   "outputs": [
    {
     "name": "stderr",
     "output_type": "stream",
     "text": [
      "100%|██████████████████████████████████████████████████████████████████████████████████| 20/20 [00:12<00:00,  1.66it/s]"
     ]
    },
    {
     "name": "stdout",
     "output_type": "stream",
     "text": [
      "RMSE наилучшей модели на валидационной выборке 30.019398490110273\n",
      "Параметры: roll=2, lag=99\n"
     ]
    },
    {
     "name": "stderr",
     "output_type": "stream",
     "text": [
      "\n"
     ]
    }
   ],
   "source": [
    "i = 0\n",
    "best_result = 10000000000000\n",
    "best_lag = 0\n",
    "best_roll = 0 \n",
    "Linreg_df = pd.DataFrame(columns=['num_lag','num_roll','RMSE_train', 'RMSE_valid'])\n",
    "\n",
    "for main_lag in tqdm(range(81,101)):\n",
    "    for main_roll in range(1,11):\n",
    "        make_features(main_lag, main_roll)\n",
    "\n",
    "        train_features, train_target, valid_features, valid_target, _, _ = df_split(df)\n",
    "\n",
    "        model = LinearRegression()\n",
    "        model.fit(train_features, train_target)\n",
    "        train_pred = model.predict(train_features)\n",
    "        valid_pred = model.predict(valid_features)\n",
    "        \n",
    "        rmse_train = mean_squared_error(train_target, train_pred) ** 0.5\n",
    "        rmse_valid = mean_squared_error(valid_target, valid_pred) ** 0.5\n",
    "                \n",
    "        Linreg_df.loc[i] = np.array([main_lag, main_roll, rmse_train, rmse_valid])\n",
    "        i += 1\n",
    "        df = df1.copy()\n",
    "        \n",
    "        if rmse_valid < best_result:\n",
    "            best_result = rmse_valid\n",
    "            best_lag = main_lag\n",
    "            best_roll = main_roll\n",
    "            \n",
    "print(f'RMSE наилучшей модели на валидационной выборке {best_result}')\n",
    "print(f'Параметры: roll={best_roll}, lag={best_lag}')"
   ]
  },
  {
   "cell_type": "code",
   "execution_count": 22,
   "metadata": {},
   "outputs": [
    {
     "data": {
      "text/html": [
       "<div>\n",
       "<style scoped>\n",
       "    .dataframe tbody tr th:only-of-type {\n",
       "        vertical-align: middle;\n",
       "    }\n",
       "\n",
       "    .dataframe tbody tr th {\n",
       "        vertical-align: top;\n",
       "    }\n",
       "\n",
       "    .dataframe thead th {\n",
       "        text-align: right;\n",
       "    }\n",
       "</style>\n",
       "<table border=\"1\" class=\"dataframe\">\n",
       "  <thead>\n",
       "    <tr style=\"text-align: right;\">\n",
       "      <th></th>\n",
       "      <th>num_lag</th>\n",
       "      <th>num_roll</th>\n",
       "      <th>RMSE_train</th>\n",
       "      <th>RMSE_valid</th>\n",
       "    </tr>\n",
       "  </thead>\n",
       "  <tbody>\n",
       "    <tr>\n",
       "      <th>181</th>\n",
       "      <td>99.0</td>\n",
       "      <td>2.0</td>\n",
       "      <td>20.981269</td>\n",
       "      <td>30.019398</td>\n",
       "    </tr>\n",
       "    <tr>\n",
       "      <th>187</th>\n",
       "      <td>99.0</td>\n",
       "      <td>8.0</td>\n",
       "      <td>20.981637</td>\n",
       "      <td>30.019726</td>\n",
       "    </tr>\n",
       "    <tr>\n",
       "      <th>183</th>\n",
       "      <td>99.0</td>\n",
       "      <td>4.0</td>\n",
       "      <td>20.981132</td>\n",
       "      <td>30.020675</td>\n",
       "    </tr>\n",
       "    <tr>\n",
       "      <th>199</th>\n",
       "      <td>100.0</td>\n",
       "      <td>10.0</td>\n",
       "      <td>20.976223</td>\n",
       "      <td>30.020689</td>\n",
       "    </tr>\n",
       "    <tr>\n",
       "      <th>184</th>\n",
       "      <td>99.0</td>\n",
       "      <td>5.0</td>\n",
       "      <td>20.980765</td>\n",
       "      <td>30.020793</td>\n",
       "    </tr>\n",
       "  </tbody>\n",
       "</table>\n",
       "</div>"
      ],
      "text/plain": [
       "     num_lag  num_roll  RMSE_train  RMSE_valid\n",
       "181     99.0       2.0   20.981269   30.019398\n",
       "187     99.0       8.0   20.981637   30.019726\n",
       "183     99.0       4.0   20.981132   30.020675\n",
       "199    100.0      10.0   20.976223   30.020689\n",
       "184     99.0       5.0   20.980765   30.020793"
      ]
     },
     "execution_count": 22,
     "metadata": {},
     "output_type": "execute_result"
    }
   ],
   "source": [
    "Linreg_df.sort_values('RMSE_valid').head()"
   ]
  },
  {
   "cell_type": "markdown",
   "metadata": {},
   "source": [
    "Обучили модели линейной регрессии с различными параметрами. \n",
    "\n",
    "При **'lag features' = 99 и 'rolling' = 2** получили наилучшее значение метрики RMSE на валидационной выборке (**30.01**)."
   ]
  },
  {
   "cell_type": "markdown",
   "metadata": {},
   "source": [
    "**RandomForestRegressor**"
   ]
  },
  {
   "cell_type": "markdown",
   "metadata": {},
   "source": [
    "Диапазон поиска параметров:\n",
    "- 'lag features': от 81 до 100\n",
    "- 'rolling': от 8 до 10\n",
    "\n",
    "Гиперпараметры модели:\n",
    "- 'max_depth' = 5\n",
    "- 'n_estimators': от 40 до 50 с шагом 10"
   ]
  },
  {
   "cell_type": "code",
   "execution_count": 23,
   "metadata": {},
   "outputs": [
    {
     "name": "stderr",
     "output_type": "stream",
     "text": [
      "100%|██████████████████████████████████████████████████████████████████████████████████| 20/20 [04:06<00:00, 12.31s/it]"
     ]
    },
    {
     "name": "stdout",
     "output_type": "stream",
     "text": [
      "RMSE наилучшей модели на валидационной выборке 33.9800621987046\n",
      "Параметры: roll=10, lag=97, max_depth=5, n_estimators=40\n"
     ]
    },
    {
     "name": "stderr",
     "output_type": "stream",
     "text": [
      "\n"
     ]
    }
   ],
   "source": [
    "i = 0\n",
    "best_result = 10000000000000\n",
    "best_lag = 0\n",
    "best_roll = 0\n",
    "best_est = 0\n",
    "Randfor_df = pd.DataFrame(columns=['num_lag','num_roll','est', 'depth', 'RMSE_train', 'RMSE_valid'])\n",
    "\n",
    "for main_lag in tqdm(range(81,101)):\n",
    "    for main_roll in range(8,11):\n",
    "        make_features(main_lag, main_roll)\n",
    "\n",
    "        train_features, train_target, valid_features, valid_target, _, _ = df_split(df)\n",
    "       \n",
    "        for est in range(40, 51, 10):\n",
    "            model = RandomForestRegressor(random_state=12345, max_depth=5, n_estimators=est)\n",
    "            model.fit(train_features, train_target)\n",
    "            train_pred = model.predict(train_features)\n",
    "            valid_pred = model.predict(valid_features)\n",
    "        \n",
    "            rmse_train = mean_squared_error(train_target, train_pred) ** 0.5\n",
    "            rmse_valid = mean_squared_error(valid_target, valid_pred) ** 0.5\n",
    "                \n",
    "            Randfor_df.loc[i] = np.array([main_lag, main_roll, est, 5, rmse_train, rmse_valid])\n",
    "            i += 1\n",
    "            df = df1.copy()\n",
    "                \n",
    "            if rmse_valid < best_result:\n",
    "                best_result = rmse_valid\n",
    "                best_lag = main_lag\n",
    "                best_roll = main_roll\n",
    "                best_est = est\n",
    "                            \n",
    "print(f'RMSE наилучшей модели на валидационной выборке {best_result}')\n",
    "print(f'Параметры: roll={best_roll}, lag={best_lag}, max_depth=5, n_estimators={best_est}')"
   ]
  },
  {
   "cell_type": "code",
   "execution_count": 24,
   "metadata": {},
   "outputs": [
    {
     "data": {
      "text/html": [
       "<div>\n",
       "<style scoped>\n",
       "    .dataframe tbody tr th:only-of-type {\n",
       "        vertical-align: middle;\n",
       "    }\n",
       "\n",
       "    .dataframe tbody tr th {\n",
       "        vertical-align: top;\n",
       "    }\n",
       "\n",
       "    .dataframe thead th {\n",
       "        text-align: right;\n",
       "    }\n",
       "</style>\n",
       "<table border=\"1\" class=\"dataframe\">\n",
       "  <thead>\n",
       "    <tr style=\"text-align: right;\">\n",
       "      <th></th>\n",
       "      <th>num_lag</th>\n",
       "      <th>num_roll</th>\n",
       "      <th>est</th>\n",
       "      <th>depth</th>\n",
       "      <th>RMSE_train</th>\n",
       "      <th>RMSE_valid</th>\n",
       "    </tr>\n",
       "  </thead>\n",
       "  <tbody>\n",
       "    <tr>\n",
       "      <th>100</th>\n",
       "      <td>97.0</td>\n",
       "      <td>10.0</td>\n",
       "      <td>40.0</td>\n",
       "      <td>5.0</td>\n",
       "      <td>20.011442</td>\n",
       "      <td>33.980062</td>\n",
       "    </tr>\n",
       "    <tr>\n",
       "      <th>101</th>\n",
       "      <td>97.0</td>\n",
       "      <td>10.0</td>\n",
       "      <td>50.0</td>\n",
       "      <td>5.0</td>\n",
       "      <td>19.971418</td>\n",
       "      <td>34.052300</td>\n",
       "    </tr>\n",
       "    <tr>\n",
       "      <th>35</th>\n",
       "      <td>86.0</td>\n",
       "      <td>10.0</td>\n",
       "      <td>50.0</td>\n",
       "      <td>5.0</td>\n",
       "      <td>20.129756</td>\n",
       "      <td>34.174625</td>\n",
       "    </tr>\n",
       "    <tr>\n",
       "      <th>46</th>\n",
       "      <td>88.0</td>\n",
       "      <td>10.0</td>\n",
       "      <td>40.0</td>\n",
       "      <td>5.0</td>\n",
       "      <td>20.090936</td>\n",
       "      <td>34.189978</td>\n",
       "    </tr>\n",
       "    <tr>\n",
       "      <th>34</th>\n",
       "      <td>86.0</td>\n",
       "      <td>10.0</td>\n",
       "      <td>40.0</td>\n",
       "      <td>5.0</td>\n",
       "      <td>20.132974</td>\n",
       "      <td>34.206617</td>\n",
       "    </tr>\n",
       "  </tbody>\n",
       "</table>\n",
       "</div>"
      ],
      "text/plain": [
       "     num_lag  num_roll   est  depth  RMSE_train  RMSE_valid\n",
       "100     97.0      10.0  40.0    5.0   20.011442   33.980062\n",
       "101     97.0      10.0  50.0    5.0   19.971418   34.052300\n",
       "35      86.0      10.0  50.0    5.0   20.129756   34.174625\n",
       "46      88.0      10.0  40.0    5.0   20.090936   34.189978\n",
       "34      86.0      10.0  40.0    5.0   20.132974   34.206617"
      ]
     },
     "execution_count": 24,
     "metadata": {},
     "output_type": "execute_result"
    }
   ],
   "source": [
    "Randfor_df.sort_values('RMSE_valid').head()"
   ]
  },
  {
   "cell_type": "markdown",
   "metadata": {},
   "source": [
    "Обучили модели регрессии случайный лесом с различными параметрами. \n",
    "\n",
    "При **'lag features' = 97 и 'rolling' = 10**  и гиперпараметрах модели **'max_depth' = 5 и 'n_estimators' = 40**  получили наилучшее значение метрики RMSE на валидационной выборке (**33.98**)."
   ]
  },
  {
   "cell_type": "markdown",
   "metadata": {},
   "source": [
    "**CatBoostRegressor**"
   ]
  },
  {
   "cell_type": "markdown",
   "metadata": {},
   "source": [
    "Диапазон поиска параметров:\n",
    "- 'lag features': от 91 до 110\n",
    "- 'rolling': от 8 до 15\n",
    "\n",
    "Гиперпараметры модели:\n",
    "- 'depth' = 5\n",
    "- 'iterations' = 1000"
   ]
  },
  {
   "cell_type": "code",
   "execution_count": 25,
   "metadata": {},
   "outputs": [
    {
     "name": "stderr",
     "output_type": "stream",
     "text": [
      "100%|█████████████████████████████████████████████████████████████████████████████████| 20/20 [34:32<00:00, 103.65s/it]"
     ]
    },
    {
     "name": "stdout",
     "output_type": "stream",
     "text": [
      "RMSE наилучшей модели на валидационной выборке 31.691995471236172\n",
      "Параметры: roll=10, lag=109, max_depth=5\n"
     ]
    },
    {
     "name": "stderr",
     "output_type": "stream",
     "text": [
      "\n"
     ]
    }
   ],
   "source": [
    "i = 0\n",
    "best_result = 10000000000000\n",
    "best_lag = 0\n",
    "best_roll = 0\n",
    "Catboost_df = pd.DataFrame(columns=['num_lag','num_roll', 'depth', 'RMSE_train', 'RMSE_valid'])\n",
    "\n",
    "for main_lag in tqdm(range(91,111)):\n",
    "    for main_roll in range(8,16):\n",
    "        make_features(main_lag, main_roll)\n",
    "\n",
    "        train_features, train_target, valid_features, valid_target, _, _ = df_split(df)\n",
    "        \n",
    "        cat_features = ['month','day_of_week','day']\n",
    "\n",
    "        model = CatBoostRegressor(\n",
    "            loss_function='MAE',\n",
    "            eval_metric='RMSE',\n",
    "            cat_features=cat_features,\n",
    "            depth=5,\n",
    "            iterations=1000,\n",
    "            verbose=False\n",
    "        )\n",
    "        model.fit(train_features, train_target)\n",
    "        train_pred = model.predict(train_features)\n",
    "        valid_pred = model.predict(valid_features)\n",
    "        \n",
    "        rmse_train = mean_squared_error(train_target, train_pred) ** 0.5\n",
    "        rmse_valid = mean_squared_error(valid_target, valid_pred) ** 0.5\n",
    "        \n",
    "        Catboost_df.loc[i] = np.array([main_lag, main_roll, 5, rmse_train, rmse_valid])\n",
    "        i += 1\n",
    "        df = df1.copy()\n",
    "            \n",
    "        if rmse_valid < best_result:\n",
    "            best_result = rmse_valid\n",
    "            best_lag = main_lag\n",
    "            best_roll = main_roll\n",
    "              \n",
    "print(f'RMSE наилучшей модели на валидационной выборке {best_result}')\n",
    "print(f'Параметры: roll={best_roll}, lag={best_lag}, max_depth=5')"
   ]
  },
  {
   "cell_type": "code",
   "execution_count": 26,
   "metadata": {},
   "outputs": [
    {
     "data": {
      "text/html": [
       "<div>\n",
       "<style scoped>\n",
       "    .dataframe tbody tr th:only-of-type {\n",
       "        vertical-align: middle;\n",
       "    }\n",
       "\n",
       "    .dataframe tbody tr th {\n",
       "        vertical-align: top;\n",
       "    }\n",
       "\n",
       "    .dataframe thead th {\n",
       "        text-align: right;\n",
       "    }\n",
       "</style>\n",
       "<table border=\"1\" class=\"dataframe\">\n",
       "  <thead>\n",
       "    <tr style=\"text-align: right;\">\n",
       "      <th></th>\n",
       "      <th>num_lag</th>\n",
       "      <th>num_roll</th>\n",
       "      <th>depth</th>\n",
       "      <th>RMSE_train</th>\n",
       "      <th>RMSE_valid</th>\n",
       "    </tr>\n",
       "  </thead>\n",
       "  <tbody>\n",
       "    <tr>\n",
       "      <th>146</th>\n",
       "      <td>109.0</td>\n",
       "      <td>10.0</td>\n",
       "      <td>5.0</td>\n",
       "      <td>16.199084</td>\n",
       "      <td>31.691995</td>\n",
       "    </tr>\n",
       "    <tr>\n",
       "      <th>136</th>\n",
       "      <td>108.0</td>\n",
       "      <td>8.0</td>\n",
       "      <td>5.0</td>\n",
       "      <td>16.110500</td>\n",
       "      <td>31.709066</td>\n",
       "    </tr>\n",
       "    <tr>\n",
       "      <th>143</th>\n",
       "      <td>108.0</td>\n",
       "      <td>15.0</td>\n",
       "      <td>5.0</td>\n",
       "      <td>16.182475</td>\n",
       "      <td>31.723728</td>\n",
       "    </tr>\n",
       "    <tr>\n",
       "      <th>158</th>\n",
       "      <td>110.0</td>\n",
       "      <td>14.0</td>\n",
       "      <td>5.0</td>\n",
       "      <td>16.051005</td>\n",
       "      <td>31.800446</td>\n",
       "    </tr>\n",
       "    <tr>\n",
       "      <th>152</th>\n",
       "      <td>110.0</td>\n",
       "      <td>8.0</td>\n",
       "      <td>5.0</td>\n",
       "      <td>16.142469</td>\n",
       "      <td>31.862295</td>\n",
       "    </tr>\n",
       "  </tbody>\n",
       "</table>\n",
       "</div>"
      ],
      "text/plain": [
       "     num_lag  num_roll  depth  RMSE_train  RMSE_valid\n",
       "146    109.0      10.0    5.0   16.199084   31.691995\n",
       "136    108.0       8.0    5.0   16.110500   31.709066\n",
       "143    108.0      15.0    5.0   16.182475   31.723728\n",
       "158    110.0      14.0    5.0   16.051005   31.800446\n",
       "152    110.0       8.0    5.0   16.142469   31.862295"
      ]
     },
     "execution_count": 26,
     "metadata": {},
     "output_type": "execute_result"
    }
   ],
   "source": [
    "Catboost_df.sort_values('RMSE_valid').head()"
   ]
  },
  {
   "cell_type": "markdown",
   "metadata": {},
   "source": [
    "Обучили модели регрессии градиентным бустингом с различными параметрами. \n",
    "\n",
    "При **'lag features' = 109 и 'rolling' = 10**  и гиперпараметрах модели **'depth' = 5 и 'iterations' = 1000**  получили наилучшее значение метрики RMSE на валидационной выборке (**31.69**)."
   ]
  },
  {
   "cell_type": "markdown",
   "metadata": {},
   "source": [
    "**Вывод**\n",
    "\n",
    "Обучили три различные модели регрессии с различными параметрами. Среди всех, отобрали три лучших - по одной от каждой из моделей. "
   ]
  },
  {
   "cell_type": "markdown",
   "metadata": {},
   "source": [
    "## Тестирование"
   ]
  },
  {
   "cell_type": "markdown",
   "metadata": {},
   "source": [
    "Следующим действием является проверка отобранных на предыдущем этапе моделей на тестовой выборке. Посмотрим, удастся ли достичь требуемого значения метрики RMSE."
   ]
  },
  {
   "cell_type": "code",
   "execution_count": 33,
   "metadata": {},
   "outputs": [],
   "source": [
    "def print_info(target, predicted):\n",
    "    mse = mean_squared_error(target, predicted)\n",
    "    print('RMSE модели на тестовой выборке:', mse**0.5)\n",
    "    plt.figure(figsize=(16, 5))\n",
    "    plt.grid()\n",
    "    plt.plot(target.index, target,'b-',label='Реальные значения')\n",
    "    plt.plot(pd.Series(predicted, index=target.index).index, predicted, 'r-', label='Предсказанные значения')\n",
    "    plt.legend(loc='upper right')\n",
    "    plt.xlabel('Дата')\n",
    "    plt.ylabel('Количество заказов такси')\n",
    "    plt.title(f'Сравнение реальных и предсказанных значений на тестовой выборке')\n",
    "    plt.show()"
   ]
  },
  {
   "cell_type": "markdown",
   "metadata": {},
   "source": [
    "**LinearRegression**"
   ]
  },
  {
   "cell_type": "code",
   "execution_count": 34,
   "metadata": {},
   "outputs": [
    {
     "name": "stdout",
     "output_type": "stream",
     "text": [
      "RMSE модели на тестовой выборке: 43.081783280110194\n"
     ]
    },
    {
     "data": {
      "image/png": "[encoded data removed]",
      "text/plain": [
       "<Figure size 1152x360 with 1 Axes>"
      ]
     },
     "metadata": {
      "needs_background": "light"
     },
     "output_type": "display_data"
    }
   ],
   "source": [
    "df = df1.copy()\n",
    "make_features(99, 2)\n",
    "\n",
    "train_features, train_target, _, _, test_features, test_target = df_split(df)\n",
    "\n",
    "model = LinearRegression()\n",
    "model.fit(train_features, train_target)\n",
    "\n",
    "test_pred = model.predict(test_features)\n",
    "        \n",
    "print_info(test_target, test_pred)"
   ]
  },
  {
   "cell_type": "markdown",
   "metadata": {},
   "source": [
    "Видим, что модель довольно точно предсказывает значения. Однако ошибается в прогнозе пиковых значений - сильно отличающихся от средних."
   ]
  },
  {
   "cell_type": "markdown",
   "metadata": {},
   "source": [
    "**RandomForestRegressor**"
   ]
  },
  {
   "cell_type": "code",
   "execution_count": 35,
   "metadata": {},
   "outputs": [
    {
     "name": "stdout",
     "output_type": "stream",
     "text": [
      "RMSE модели на тестовой выборке: 50.888628095576756\n"
     ]
    },
    {
     "data": {
      "image/png": "[encoded data removed]",
      "text/plain": [
       "<Figure size 1152x360 with 1 Axes>"
      ]
     },
     "metadata": {
      "needs_background": "light"
     },
     "output_type": "display_data"
    }
   ],
   "source": [
    "df = df1.copy()\n",
    "make_features(97, 10)\n",
    "\n",
    "train_features, train_target, _, _, test_features, test_target = df_split(df)\n",
    "\n",
    "model = RandomForestRegressor(random_state=12345, max_depth=5, n_estimators=40)\n",
    "model.fit(train_features, train_target)\n",
    "\n",
    "test_pred = model.predict(test_features)\n",
    "  \n",
    "print_info(test_target, test_pred)"
   ]
  },
  {
   "cell_type": "markdown",
   "metadata": {},
   "source": [
    "Модель почти всегда правильно предсказывает малые значения (меньше 100), а все, что больше 150 предсказывается с ошибкой."
   ]
  },
  {
   "cell_type": "markdown",
   "metadata": {},
   "source": [
    "**CatBoostRegressor**"
   ]
  },
  {
   "cell_type": "code",
   "execution_count": 36,
   "metadata": {},
   "outputs": [
    {
     "name": "stdout",
     "output_type": "stream",
     "text": [
      "RMSE модели на тестовой выборке: 53.27618979052537\n"
     ]
    },
    {
     "data": {
      "image/png": "[encoded data removed]",
      "text/plain": [
       "<Figure size 1152x360 with 1 Axes>"
      ]
     },
     "metadata": {
      "needs_background": "light"
     },
     "output_type": "display_data"
    }
   ],
   "source": [
    "df = df1.copy()\n",
    "make_features(109, 10)\n",
    "\n",
    "train_features, train_target, _, _, test_features, test_target = df_split(df)\n",
    "        \n",
    "cat_features = ['month','day_of_week','day']\n",
    "\n",
    "model = CatBoostRegressor(loss_function='MAE',\n",
    "                          eval_metric='RMSE',\n",
    "                          cat_features=cat_features,\n",
    "                          depth=5,\n",
    "                          iterations=1000,\n",
    "                          verbose=False)\n",
    "\n",
    "model.fit(train_features, train_target)\n",
    "test_pred = model.predict(test_features)\n",
    "         \n",
    "print_info(test_target, test_pred)"
   ]
  },
  {
   "cell_type": "markdown",
   "metadata": {},
   "source": [
    "Данная модель схожа с предыдущим случаем - почти всегда правильно предсказывает малые значения (меньше 100), а значения больше 150 - с ошибкой."
   ]
  },
  {
   "cell_type": "markdown",
   "metadata": {},
   "source": [
    "**Случайная модель (dummy-model)**"
   ]
  },
  {
   "cell_type": "markdown",
   "metadata": {},
   "source": [
    "Сравним обученные нами модели со случайной. \n",
    "\n",
    "Случайная модель (dummy-model) предсказывает каждое значение константой, а именно средним значением."
   ]
  },
  {
   "cell_type": "code",
   "execution_count": 37,
   "metadata": {},
   "outputs": [
    {
     "name": "stdout",
     "output_type": "stream",
     "text": [
      "RMSE модели на тестовой выборке: 84.74414402014742\n"
     ]
    },
    {
     "data": {
      "image/png": "[encoded data removed]",
      "text/plain": [
       "<Figure size 1152x360 with 1 Axes>"
      ]
     },
     "metadata": {
      "needs_background": "light"
     },
     "output_type": "display_data"
    }
   ],
   "source": [
    "df = df1.copy()\n",
    "\n",
    "train, test = train_test_split(df, shuffle=False, test_size=0.1)\n",
    "        \n",
    "pred_mean = pd.Series(train['num_orders'].mean(), index=test.index)\n",
    "        \n",
    "print_info(test['num_orders'], pred_mean)"
   ]
  },
  {
   "cell_type": "markdown",
   "metadata": {},
   "source": [
    "Случайная модель заметно хуже - метрика RMSE всего 84.74."
   ]
  },
  {
   "cell_type": "markdown",
   "metadata": {},
   "source": [
    "Сведем полученные результаты в таблицу."
   ]
  },
  {
   "cell_type": "code",
   "execution_count": 39,
   "metadata": {},
   "outputs": [
    {
     "data": {
      "text/html": [
       "<div>\n",
       "<style scoped>\n",
       "    .dataframe tbody tr th:only-of-type {\n",
       "        vertical-align: middle;\n",
       "    }\n",
       "\n",
       "    .dataframe tbody tr th {\n",
       "        vertical-align: top;\n",
       "    }\n",
       "\n",
       "    .dataframe thead th {\n",
       "        text-align: right;\n",
       "    }\n",
       "</style>\n",
       "<table border=\"1\" class=\"dataframe\">\n",
       "  <thead>\n",
       "    <tr style=\"text-align: right;\">\n",
       "      <th></th>\n",
       "      <th>RMSE</th>\n",
       "    </tr>\n",
       "  </thead>\n",
       "  <tbody>\n",
       "    <tr>\n",
       "      <th>LinearRegression</th>\n",
       "      <td>43.08</td>\n",
       "    </tr>\n",
       "    <tr>\n",
       "      <th>RandomForestRegressor</th>\n",
       "      <td>50.89</td>\n",
       "    </tr>\n",
       "    <tr>\n",
       "      <th>CatBoostRegressor</th>\n",
       "      <td>53.27</td>\n",
       "    </tr>\n",
       "    <tr>\n",
       "      <th>Dummy-model</th>\n",
       "      <td>84.74</td>\n",
       "    </tr>\n",
       "  </tbody>\n",
       "</table>\n",
       "</div>"
      ],
      "text/plain": [
       "                        RMSE\n",
       "LinearRegression       43.08\n",
       "RandomForestRegressor  50.89\n",
       "CatBoostRegressor      53.27\n",
       "Dummy-model            84.74"
      ]
     },
     "execution_count": 39,
     "metadata": {},
     "output_type": "execute_result"
    }
   ],
   "source": [
    "total_df = pd.DataFrame({'RMSE':[43.08, 50.89, 53.27, 84.74]}, \n",
    "                        index=['LinearRegression', 'RandomForestRegressor', 'CatBoostRegressor', 'Dummy-model'])\n",
    "total_df"
   ]
  },
  {
   "cell_type": "markdown",
   "metadata": {},
   "source": [
    "**Вывод**\n",
    "\n",
    "После проведение проверок моделей на тестовой выборке обнаружили, что только модель линейной регрессии достигла целевого значения метрики RMSE. На тестовых данных получили **RMSE = 43.08**. Цель работы достигнута.\n",
    "\n",
    "Модели RandomForestRegressor и CatBoostRegressor, не смотря на то, что на валидационной выборке достигли целевого значения, на тестовых данных результаты показали хуже требуемого - **50.89 и 53.09, соответственно**. Улучшение метрики возможно путем более глубокого подбора гиперпараметров моделей или добавления дополнительных признаков в исследуемую выборку."
   ]
  }
 ],
 "metadata": {
  "ExecuteTimeLog": [
   {
    "duration": 745,
    "start_time": "2021-07-15T16:42:54.420Z"
   },
   {
    "duration": 53,
    "start_time": "2021-07-15T16:43:16.852Z"
   },
   {
    "duration": 418,
    "start_time": "2021-07-15T16:43:47.968Z"
   },
   {
    "duration": 51,
    "start_time": "2021-07-15T16:44:23.500Z"
   },
   {
    "duration": 48,
    "start_time": "2021-07-15T16:44:48.516Z"
   },
   {
    "duration": 43,
    "start_time": "2021-07-15T16:45:04.748Z"
   },
   {
    "duration": 9,
    "start_time": "2021-07-15T16:45:11.128Z"
   },
   {
    "duration": 5,
    "start_time": "2021-07-15T16:45:34.617Z"
   },
   {
    "duration": 8,
    "start_time": "2021-07-15T16:45:53.056Z"
   },
   {
    "duration": 10,
    "start_time": "2021-07-15T16:50:06.155Z"
   },
   {
    "duration": 10,
    "start_time": "2021-07-15T16:50:12.700Z"
   },
   {
    "duration": 884,
    "start_time": "2021-07-15T16:50:23.369Z"
   },
   {
    "duration": 53,
    "start_time": "2021-07-15T16:50:24.256Z"
   },
   {
    "duration": 19,
    "start_time": "2021-07-15T16:50:24.311Z"
   },
   {
    "duration": 10,
    "start_time": "2021-07-15T16:50:24.332Z"
   },
   {
    "duration": 27,
    "start_time": "2021-07-15T16:50:24.344Z"
   },
   {
    "duration": 4,
    "start_time": "2021-07-15T17:00:40.106Z"
   },
   {
    "duration": 20,
    "start_time": "2021-07-15T17:14:17.944Z"
   },
   {
    "duration": 10,
    "start_time": "2021-07-15T17:14:27.646Z"
   },
   {
    "duration": 721,
    "start_time": "2021-07-15T17:14:34.217Z"
   },
   {
    "duration": 47,
    "start_time": "2021-07-15T17:14:34.941Z"
   },
   {
    "duration": 17,
    "start_time": "2021-07-15T17:14:34.991Z"
   },
   {
    "duration": 11,
    "start_time": "2021-07-15T17:14:35.010Z"
   },
   {
    "duration": 4,
    "start_time": "2021-07-15T17:14:35.023Z"
   },
   {
    "duration": 48,
    "start_time": "2021-07-15T17:14:35.030Z"
   },
   {
    "duration": 19,
    "start_time": "2021-07-15T17:15:00.918Z"
   },
   {
    "duration": 18,
    "start_time": "2021-07-15T17:15:05.486Z"
   },
   {
    "duration": 16,
    "start_time": "2021-07-15T17:15:13.790Z"
   },
   {
    "duration": 17,
    "start_time": "2021-07-15T17:15:26.198Z"
   },
   {
    "duration": 7,
    "start_time": "2021-07-15T17:16:52.989Z"
   },
   {
    "duration": 732,
    "start_time": "2021-07-15T17:17:19.900Z"
   },
   {
    "duration": 47,
    "start_time": "2021-07-15T17:17:20.635Z"
   },
   {
    "duration": 19,
    "start_time": "2021-07-15T17:17:20.689Z"
   },
   {
    "duration": 12,
    "start_time": "2021-07-15T17:17:20.711Z"
   },
   {
    "duration": 6,
    "start_time": "2021-07-15T17:17:20.726Z"
   },
   {
    "duration": 35,
    "start_time": "2021-07-15T17:17:20.735Z"
   },
   {
    "duration": 23,
    "start_time": "2021-07-15T17:17:20.773Z"
   },
   {
    "duration": 8,
    "start_time": "2021-07-15T17:17:50.904Z"
   },
   {
    "duration": 795,
    "start_time": "2021-07-15T17:18:09.744Z"
   },
   {
    "duration": 46,
    "start_time": "2021-07-15T17:18:10.542Z"
   },
   {
    "duration": 18,
    "start_time": "2021-07-15T17:18:10.591Z"
   },
   {
    "duration": 12,
    "start_time": "2021-07-15T17:18:10.612Z"
   },
   {
    "duration": 5,
    "start_time": "2021-07-15T17:18:10.627Z"
   },
   {
    "duration": 40,
    "start_time": "2021-07-15T17:18:10.635Z"
   },
   {
    "duration": 18,
    "start_time": "2021-07-15T17:18:10.677Z"
   },
   {
    "duration": 7,
    "start_time": "2021-07-15T17:18:10.698Z"
   },
   {
    "duration": 573,
    "start_time": "2021-07-15T17:21:33.897Z"
   },
   {
    "duration": 472,
    "start_time": "2021-07-15T17:24:24.080Z"
   },
   {
    "duration": 751,
    "start_time": "2021-07-15T17:26:01.697Z"
   },
   {
    "duration": 11,
    "start_time": "2021-07-15T17:26:05.348Z"
   },
   {
    "duration": 1647,
    "start_time": "2021-07-15T17:26:06.048Z"
   },
   {
    "duration": 2395,
    "start_time": "2021-07-15T17:26:17.272Z"
   },
   {
    "duration": 1725,
    "start_time": "2021-07-15T17:28:30.295Z"
   },
   {
    "duration": 1325,
    "start_time": "2021-07-15T17:30:32.075Z"
   },
   {
    "duration": 1300,
    "start_time": "2021-07-15T17:30:40.490Z"
   },
   {
    "duration": 1381,
    "start_time": "2021-07-15T17:30:59.931Z"
   },
   {
    "duration": 1310,
    "start_time": "2021-07-15T17:31:06.594Z"
   },
   {
    "duration": 1355,
    "start_time": "2021-07-15T17:31:48.970Z"
   },
   {
    "duration": 1357,
    "start_time": "2021-07-15T17:33:40.473Z"
   },
   {
    "duration": 1065,
    "start_time": "2021-07-15T17:34:52.017Z"
   },
   {
    "duration": 1341,
    "start_time": "2021-07-15T17:35:01.814Z"
   },
   {
    "duration": 1437,
    "start_time": "2021-07-15T17:35:38.530Z"
   },
   {
    "duration": 1286,
    "start_time": "2021-07-15T17:36:44.074Z"
   },
   {
    "duration": 1361,
    "start_time": "2021-07-15T17:36:50.361Z"
   },
   {
    "duration": 1628,
    "start_time": "2021-07-15T17:44:51.834Z"
   },
   {
    "duration": 313,
    "start_time": "2021-07-15T17:48:55.319Z"
   },
   {
    "duration": 429,
    "start_time": "2021-07-15T17:49:13.429Z"
   },
   {
    "duration": 528,
    "start_time": "2021-07-15T17:50:15.645Z"
   },
   {
    "duration": 444,
    "start_time": "2021-07-15T17:51:02.989Z"
   },
   {
    "duration": 1433,
    "start_time": "2021-07-15T17:56:54.227Z"
   },
   {
    "duration": 46,
    "start_time": "2021-07-15T17:56:55.663Z"
   },
   {
    "duration": 14,
    "start_time": "2021-07-15T17:56:55.712Z"
   },
   {
    "duration": 9,
    "start_time": "2021-07-15T17:56:55.729Z"
   },
   {
    "duration": 28,
    "start_time": "2021-07-15T17:56:55.741Z"
   },
   {
    "duration": 22,
    "start_time": "2021-07-15T17:56:55.771Z"
   },
   {
    "duration": 11,
    "start_time": "2021-07-15T17:56:55.795Z"
   },
   {
    "duration": 1675,
    "start_time": "2021-07-15T17:56:55.809Z"
   },
   {
    "duration": 504,
    "start_time": "2021-07-15T17:56:57.487Z"
   },
   {
    "duration": 816,
    "start_time": "2021-07-15T18:06:25.667Z"
   },
   {
    "duration": 438,
    "start_time": "2021-07-15T18:15:24.014Z"
   },
   {
    "duration": 443,
    "start_time": "2021-07-15T18:15:32.662Z"
   },
   {
    "duration": 515,
    "start_time": "2021-07-15T18:15:36.842Z"
   },
   {
    "duration": 406,
    "start_time": "2021-07-15T18:17:13.422Z"
   },
   {
    "duration": 454,
    "start_time": "2021-07-15T18:17:27.926Z"
   },
   {
    "duration": 1600,
    "start_time": "2021-07-15T18:17:39.082Z"
   },
   {
    "duration": 454,
    "start_time": "2021-07-15T18:17:44.266Z"
   },
   {
    "duration": 1626,
    "start_time": "2021-07-15T18:17:53.518Z"
   },
   {
    "duration": 1712,
    "start_time": "2021-07-15T18:17:58.262Z"
   },
   {
    "duration": 453,
    "start_time": "2021-07-15T18:18:03.470Z"
   },
   {
    "duration": 905,
    "start_time": "2021-07-15T18:20:45.506Z"
   },
   {
    "duration": 4,
    "start_time": "2021-07-15T18:20:59.309Z"
   },
   {
    "duration": -148,
    "start_time": "2021-07-15T18:21:34.160Z"
   },
   {
    "duration": 435,
    "start_time": "2021-07-15T18:21:35.092Z"
   },
   {
    "duration": 444,
    "start_time": "2021-07-15T18:24:05.334Z"
   },
   {
    "duration": 1429,
    "start_time": "2021-07-15T18:25:57.874Z"
   },
   {
    "duration": 49,
    "start_time": "2021-07-15T18:25:59.306Z"
   },
   {
    "duration": 14,
    "start_time": "2021-07-15T18:25:59.371Z"
   },
   {
    "duration": 13,
    "start_time": "2021-07-15T18:25:59.387Z"
   },
   {
    "duration": 8,
    "start_time": "2021-07-15T18:25:59.403Z"
   },
   {
    "duration": 58,
    "start_time": "2021-07-15T18:25:59.414Z"
   },
   {
    "duration": 9,
    "start_time": "2021-07-15T18:25:59.475Z"
   },
   {
    "duration": 1722,
    "start_time": "2021-07-15T18:25:59.487Z"
   },
   {
    "duration": 463,
    "start_time": "2021-07-15T18:26:01.211Z"
   },
   {
    "duration": 10,
    "start_time": "2021-07-15T18:37:26.086Z"
   },
   {
    "duration": 1194,
    "start_time": "2021-07-15T18:37:36.709Z"
   },
   {
    "duration": 1356,
    "start_time": "2021-07-15T18:37:52.529Z"
   },
   {
    "duration": 532,
    "start_time": "2021-07-15T18:38:00.814Z"
   },
   {
    "duration": 396,
    "start_time": "2021-07-15T18:38:10.622Z"
   },
   {
    "duration": 1443,
    "start_time": "2021-07-15T18:38:18.082Z"
   },
   {
    "duration": 1858,
    "start_time": "2021-07-15T18:38:44.074Z"
   },
   {
    "duration": 10,
    "start_time": "2021-07-15T18:38:54.630Z"
   },
   {
    "duration": 1775,
    "start_time": "2021-07-15T18:38:56.306Z"
   },
   {
    "duration": 1149,
    "start_time": "2021-07-15T18:49:22.849Z"
   },
   {
    "duration": 1259,
    "start_time": "2021-07-15T18:50:04.801Z"
   },
   {
    "duration": 1385,
    "start_time": "2021-07-15T18:50:45.538Z"
   },
   {
    "duration": 6,
    "start_time": "2021-07-15T18:59:34.192Z"
   },
   {
    "duration": 10,
    "start_time": "2021-07-15T18:59:40.712Z"
   },
   {
    "duration": 10,
    "start_time": "2021-07-15T18:59:51.468Z"
   },
   {
    "duration": 6,
    "start_time": "2021-07-15T19:00:02.227Z"
   },
   {
    "duration": 481,
    "start_time": "2021-07-15T19:00:07.776Z"
   },
   {
    "duration": 285,
    "start_time": "2021-07-15T19:01:07.748Z"
   },
   {
    "duration": 303,
    "start_time": "2021-07-15T19:01:26.308Z"
   },
   {
    "duration": 431,
    "start_time": "2021-07-15T19:01:42.548Z"
   },
   {
    "duration": 414,
    "start_time": "2021-07-15T19:02:44.108Z"
   },
   {
    "duration": 387,
    "start_time": "2021-07-15T19:03:10.603Z"
   },
   {
    "duration": 556,
    "start_time": "2021-07-15T19:03:16.804Z"
   },
   {
    "duration": 369,
    "start_time": "2021-07-15T19:03:30.032Z"
   },
   {
    "duration": 363,
    "start_time": "2021-07-15T19:03:39.696Z"
   },
   {
    "duration": 456,
    "start_time": "2021-07-15T19:03:42.947Z"
   },
   {
    "duration": 390,
    "start_time": "2021-07-15T19:04:03.355Z"
   },
   {
    "duration": 1498,
    "start_time": "2021-07-15T19:05:11.974Z"
   },
   {
    "duration": 47,
    "start_time": "2021-07-15T19:05:13.475Z"
   },
   {
    "duration": 12,
    "start_time": "2021-07-15T19:05:13.525Z"
   },
   {
    "duration": 11,
    "start_time": "2021-07-15T19:05:13.540Z"
   },
   {
    "duration": 5,
    "start_time": "2021-07-15T19:05:13.568Z"
   },
   {
    "duration": 23,
    "start_time": "2021-07-15T19:05:13.576Z"
   },
   {
    "duration": 8,
    "start_time": "2021-07-15T19:05:13.602Z"
   },
   {
    "duration": 1702,
    "start_time": "2021-07-15T19:05:13.614Z"
   },
   {
    "duration": 459,
    "start_time": "2021-07-15T19:05:15.319Z"
   },
   {
    "duration": 441,
    "start_time": "2021-07-15T19:05:30.950Z"
   },
   {
    "duration": 570,
    "start_time": "2021-07-15T19:05:41.047Z"
   },
   {
    "duration": 558,
    "start_time": "2021-07-15T19:06:43.287Z"
   },
   {
    "duration": 509,
    "start_time": "2021-07-15T19:07:33.663Z"
   },
   {
    "duration": 339,
    "start_time": "2021-07-15T19:07:39.894Z"
   },
   {
    "duration": 577,
    "start_time": "2021-07-15T19:09:27.862Z"
   },
   {
    "duration": 810,
    "start_time": "2021-07-15T19:10:25.574Z"
   },
   {
    "duration": 852,
    "start_time": "2021-07-15T19:10:33.398Z"
   },
   {
    "duration": 783,
    "start_time": "2021-07-15T19:10:57.886Z"
   },
   {
    "duration": 578,
    "start_time": "2021-07-15T19:12:00.790Z"
   },
   {
    "duration": 5,
    "start_time": "2021-07-15T19:12:34.290Z"
   },
   {
    "duration": 566,
    "start_time": "2021-07-15T19:12:34.905Z"
   },
   {
    "duration": 1403,
    "start_time": "2021-07-15T19:17:06.473Z"
   },
   {
    "duration": 48,
    "start_time": "2021-07-15T19:17:07.879Z"
   },
   {
    "duration": 13,
    "start_time": "2021-07-15T19:17:07.933Z"
   },
   {
    "duration": 26,
    "start_time": "2021-07-15T19:17:07.948Z"
   },
   {
    "duration": 11,
    "start_time": "2021-07-15T19:17:07.977Z"
   },
   {
    "duration": 25,
    "start_time": "2021-07-15T19:17:07.990Z"
   },
   {
    "duration": 9,
    "start_time": "2021-07-15T19:17:08.018Z"
   },
   {
    "duration": 1733,
    "start_time": "2021-07-15T19:17:08.030Z"
   },
   {
    "duration": 468,
    "start_time": "2021-07-15T19:17:09.767Z"
   },
   {
    "duration": 568,
    "start_time": "2021-07-15T19:17:10.238Z"
   },
   {
    "duration": 6,
    "start_time": "2021-07-15T19:20:07.985Z"
   },
   {
    "duration": 546,
    "start_time": "2021-07-15T19:21:20.694Z"
   },
   {
    "duration": 6859,
    "start_time": "2021-07-15T19:21:36.621Z"
   },
   {
    "duration": 757,
    "start_time": "2021-07-15T19:21:45.397Z"
   },
   {
    "duration": 83,
    "start_time": "2021-07-15T19:21:52.105Z"
   },
   {
    "duration": 69,
    "start_time": "2021-07-15T19:25:04.221Z"
   },
   {
    "duration": 877,
    "start_time": "2021-07-15T19:28:06.133Z"
   },
   {
    "duration": 50,
    "start_time": "2021-07-15T19:28:21.969Z"
   },
   {
    "duration": 66,
    "start_time": "2021-07-15T19:29:49.269Z"
   },
   {
    "duration": 62,
    "start_time": "2021-07-15T19:30:16.082Z"
   },
   {
    "duration": 60,
    "start_time": "2021-07-15T19:31:13.777Z"
   },
   {
    "duration": 65,
    "start_time": "2021-07-15T19:31:20.773Z"
   },
   {
    "duration": 65,
    "start_time": "2021-07-15T19:31:35.329Z"
   },
   {
    "duration": 59,
    "start_time": "2021-07-15T19:31:46.820Z"
   },
   {
    "duration": 1468,
    "start_time": "2021-07-15T19:33:01.279Z"
   },
   {
    "duration": 55,
    "start_time": "2021-07-15T19:33:02.750Z"
   },
   {
    "duration": 13,
    "start_time": "2021-07-15T19:33:02.811Z"
   },
   {
    "duration": 10,
    "start_time": "2021-07-15T19:33:02.826Z"
   },
   {
    "duration": 31,
    "start_time": "2021-07-15T19:33:02.838Z"
   },
   {
    "duration": 19,
    "start_time": "2021-07-15T19:33:02.872Z"
   },
   {
    "duration": 8,
    "start_time": "2021-07-15T19:33:02.894Z"
   },
   {
    "duration": 1752,
    "start_time": "2021-07-15T19:33:02.905Z"
   },
   {
    "duration": 481,
    "start_time": "2021-07-15T19:33:04.660Z"
   },
   {
    "duration": 5,
    "start_time": "2021-07-15T19:33:05.144Z"
   },
   {
    "duration": 610,
    "start_time": "2021-07-15T19:33:05.152Z"
   },
   {
    "duration": 3608,
    "start_time": "2021-07-15T19:33:05.768Z"
   },
   {
    "duration": 477,
    "start_time": "2021-07-15T19:33:09.379Z"
   },
   {
    "duration": 503,
    "start_time": "2021-07-15T19:34:31.624Z"
   },
   {
    "duration": 30359,
    "start_time": "2021-07-15T19:34:45.056Z"
   },
   {
    "duration": 283,
    "start_time": "2021-07-15T19:35:23.044Z"
   },
   {
    "duration": 469,
    "start_time": "2021-07-15T19:37:23.980Z"
   },
   {
    "duration": 409,
    "start_time": "2021-07-15T19:37:31.987Z"
   },
   {
    "duration": 5697,
    "start_time": "2021-07-15T19:37:47.848Z"
   },
   {
    "duration": 731,
    "start_time": "2021-07-15T19:37:56.528Z"
   },
   {
    "duration": 440,
    "start_time": "2021-07-15T19:38:01.900Z"
   },
   {
    "duration": 485,
    "start_time": "2021-07-15T19:43:49.883Z"
   },
   {
    "duration": 536,
    "start_time": "2021-07-15T19:44:38.863Z"
   },
   {
    "duration": 115793,
    "start_time": "2021-07-15T19:44:58.324Z"
   },
   {
    "duration": 1345,
    "start_time": "2021-07-15T19:47:24.222Z"
   },
   {
    "duration": 48,
    "start_time": "2021-07-15T19:47:25.570Z"
   },
   {
    "duration": 14,
    "start_time": "2021-07-15T19:47:25.621Z"
   },
   {
    "duration": 29,
    "start_time": "2021-07-15T19:47:25.638Z"
   },
   {
    "duration": 8,
    "start_time": "2021-07-15T19:47:25.670Z"
   },
   {
    "duration": 31,
    "start_time": "2021-07-15T19:47:25.681Z"
   },
   {
    "duration": 9,
    "start_time": "2021-07-15T19:47:25.715Z"
   },
   {
    "duration": 1677,
    "start_time": "2021-07-15T19:47:25.728Z"
   },
   {
    "duration": 573,
    "start_time": "2021-07-15T19:47:27.407Z"
   },
   {
    "duration": 580,
    "start_time": "2021-07-15T19:47:27.982Z"
   },
   {
    "duration": 3817,
    "start_time": "2021-07-15T19:47:28.567Z"
   },
   {
    "duration": 363,
    "start_time": "2021-07-15T19:47:32.387Z"
   },
   {
    "duration": 32313,
    "start_time": "2021-07-15T19:47:32.752Z"
   },
   {
    "duration": 48,
    "start_time": "2021-07-15T19:48:22.059Z"
   },
   {
    "duration": 8,
    "start_time": "2021-07-15T19:48:29.699Z"
   },
   {
    "duration": 467,
    "start_time": "2021-07-15T19:48:58.001Z"
   },
   {
    "duration": 8,
    "start_time": "2021-07-15T19:49:03.580Z"
   },
   {
    "duration": 16146,
    "start_time": "2021-07-15T19:50:22.304Z"
   },
   {
    "duration": -110,
    "start_time": "2021-07-15T19:53:53.887Z"
   },
   {
    "duration": 1022,
    "start_time": "2021-07-16T17:43:42.653Z"
   },
   {
    "duration": 34,
    "start_time": "2021-07-16T17:43:43.676Z"
   },
   {
    "duration": 8,
    "start_time": "2021-07-16T17:43:43.712Z"
   },
   {
    "duration": 8,
    "start_time": "2021-07-16T17:43:43.721Z"
   },
   {
    "duration": 4,
    "start_time": "2021-07-16T17:43:43.731Z"
   },
   {
    "duration": 12,
    "start_time": "2021-07-16T17:43:43.736Z"
   },
   {
    "duration": 5,
    "start_time": "2021-07-16T17:43:43.749Z"
   },
   {
    "duration": 944,
    "start_time": "2021-07-16T17:43:43.756Z"
   },
   {
    "duration": 251,
    "start_time": "2021-07-16T17:43:44.702Z"
   },
   {
    "duration": 294,
    "start_time": "2021-07-16T17:43:44.955Z"
   },
   {
    "duration": 32,
    "start_time": "2021-07-16T17:43:45.250Z"
   },
   {
    "duration": 5,
    "start_time": "2021-07-16T17:43:45.283Z"
   },
   {
    "duration": 543,
    "start_time": "2021-07-16T17:43:45.290Z"
   },
   {
    "duration": 34,
    "start_time": "2021-07-16T17:45:24.618Z"
   },
   {
    "duration": 7,
    "start_time": "2021-07-16T17:46:37.106Z"
   },
   {
    "duration": 6,
    "start_time": "2021-07-16T17:47:23.817Z"
   },
   {
    "duration": 7,
    "start_time": "2021-07-16T17:47:25.358Z"
   },
   {
    "duration": 262,
    "start_time": "2021-07-16T17:47:45.666Z"
   },
   {
    "duration": 262,
    "start_time": "2021-07-16T17:48:49.102Z"
   },
   {
    "duration": 6,
    "start_time": "2021-07-16T17:49:14.745Z"
   },
   {
    "duration": 314,
    "start_time": "2021-07-16T17:49:21.661Z"
   },
   {
    "duration": 287,
    "start_time": "2021-07-16T17:51:17.929Z"
   },
   {
    "duration": 598,
    "start_time": "2021-07-16T17:53:45.601Z"
   },
   {
    "duration": 7,
    "start_time": "2021-07-16T17:56:36.921Z"
   },
   {
    "duration": 2340,
    "start_time": "2021-07-16T18:04:35.781Z"
   },
   {
    "duration": 14009,
    "start_time": "2021-07-16T18:04:54.973Z"
   },
   {
    "duration": 12,
    "start_time": "2021-07-16T18:06:07.485Z"
   },
   {
    "duration": 148,
    "start_time": "2021-07-16T18:06:24.776Z"
   },
   {
    "duration": 362,
    "start_time": "2021-07-16T18:07:57.004Z"
   },
   {
    "duration": 219,
    "start_time": "2021-07-16T18:08:17.484Z"
   },
   {
    "duration": 206,
    "start_time": "2021-07-16T18:08:18.936Z"
   },
   {
    "duration": 4,
    "start_time": "2021-07-16T18:08:52.956Z"
   },
   {
    "duration": 4,
    "start_time": "2021-07-16T18:09:06.911Z"
   },
   {
    "duration": 176,
    "start_time": "2021-07-16T18:09:07.828Z"
   },
   {
    "duration": 174,
    "start_time": "2021-07-16T18:09:20.020Z"
   },
   {
    "duration": 48,
    "start_time": "2021-07-16T18:11:35.856Z"
   },
   {
    "duration": 46,
    "start_time": "2021-07-16T18:12:09.992Z"
   },
   {
    "duration": 46,
    "start_time": "2021-07-16T18:12:17.092Z"
   },
   {
    "duration": 78,
    "start_time": "2021-07-16T18:16:01.264Z"
   },
   {
    "duration": 47,
    "start_time": "2021-07-16T18:17:02.240Z"
   },
   {
    "duration": 71,
    "start_time": "2021-07-16T18:19:25.623Z"
   },
   {
    "duration": 51,
    "start_time": "2021-07-16T18:19:42.951Z"
   },
   {
    "duration": 47,
    "start_time": "2021-07-16T18:20:38.935Z"
   },
   {
    "duration": 46,
    "start_time": "2021-07-16T18:20:54.687Z"
   },
   {
    "duration": 56,
    "start_time": "2021-07-16T18:21:01.559Z"
   },
   {
    "duration": 538,
    "start_time": "2021-07-16T18:21:52.940Z"
   },
   {
    "duration": 233,
    "start_time": "2021-07-16T18:21:56.675Z"
   },
   {
    "duration": 240,
    "start_time": "2021-07-16T18:22:05.879Z"
   },
   {
    "duration": 48,
    "start_time": "2021-07-16T18:22:11.587Z"
   },
   {
    "duration": 1958,
    "start_time": "2021-07-16T18:24:08.595Z"
   },
   {
    "duration": 1972,
    "start_time": "2021-07-16T18:24:10.555Z"
   },
   {
    "duration": 1193,
    "start_time": "2021-07-16T18:24:12.532Z"
   },
   {
    "duration": 33,
    "start_time": "2021-07-16T18:24:13.726Z"
   },
   {
    "duration": 8,
    "start_time": "2021-07-16T18:24:13.761Z"
   },
   {
    "duration": 7,
    "start_time": "2021-07-16T18:24:13.770Z"
   },
   {
    "duration": 3,
    "start_time": "2021-07-16T18:24:13.779Z"
   },
   {
    "duration": 14,
    "start_time": "2021-07-16T18:24:13.784Z"
   },
   {
    "duration": 5,
    "start_time": "2021-07-16T18:24:13.799Z"
   },
   {
    "duration": 961,
    "start_time": "2021-07-16T18:24:13.805Z"
   },
   {
    "duration": 347,
    "start_time": "2021-07-16T18:24:14.767Z"
   },
   {
    "duration": 3,
    "start_time": "2021-07-16T18:24:15.116Z"
   },
   {
    "duration": 6,
    "start_time": "2021-07-16T18:24:15.120Z"
   },
   {
    "duration": 168,
    "start_time": "2021-07-16T18:24:15.128Z"
   },
   {
    "duration": 4257,
    "start_time": "2021-07-16T18:28:41.184Z"
   },
   {
    "duration": 91,
    "start_time": "2021-07-16T18:28:54.208Z"
   },
   {
    "duration": 394,
    "start_time": "2021-07-16T18:30:01.928Z"
   },
   {
    "duration": 69,
    "start_time": "2021-07-16T18:30:36.508Z"
   },
   {
    "duration": 232,
    "start_time": "2021-07-16T18:30:44.948Z"
   },
   {
    "duration": 225,
    "start_time": "2021-07-16T18:31:31.616Z"
   },
   {
    "duration": 5501,
    "start_time": "2021-07-16T18:31:37.759Z"
   },
   {
    "duration": 38,
    "start_time": "2021-07-16T18:31:51.655Z"
   },
   {
    "duration": 219,
    "start_time": "2021-07-16T18:32:07.967Z"
   },
   {
    "duration": 6,
    "start_time": "2021-07-16T18:32:33.384Z"
   },
   {
    "duration": 8,
    "start_time": "2021-07-16T18:33:06.356Z"
   },
   {
    "duration": 40,
    "start_time": "2021-07-16T18:33:13.400Z"
   },
   {
    "duration": 47,
    "start_time": "2021-07-16T18:34:21.124Z"
   },
   {
    "duration": 660,
    "start_time": "2021-07-16T18:36:07.939Z"
   },
   {
    "duration": 287,
    "start_time": "2021-07-16T18:36:52.079Z"
   },
   {
    "duration": 37,
    "start_time": "2021-07-16T18:37:14.059Z"
   },
   {
    "duration": 47,
    "start_time": "2021-07-16T18:37:52.687Z"
   },
   {
    "duration": 250,
    "start_time": "2021-07-16T18:41:15.467Z"
   },
   {
    "duration": 54,
    "start_time": "2021-07-16T18:41:30.191Z"
   },
   {
    "duration": 46,
    "start_time": "2021-07-16T18:43:37.727Z"
   },
   {
    "duration": 47,
    "start_time": "2021-07-16T18:44:19.846Z"
   },
   {
    "duration": 242,
    "start_time": "2021-07-16T18:46:54.071Z"
   },
   {
    "duration": 173,
    "start_time": "2021-07-16T18:48:05.598Z"
   },
   {
    "duration": 171,
    "start_time": "2021-07-16T18:48:11.110Z"
   },
   {
    "duration": 285,
    "start_time": "2021-07-16T18:48:17.923Z"
   },
   {
    "duration": 343,
    "start_time": "2021-07-16T18:48:24.118Z"
   },
   {
    "duration": 280,
    "start_time": "2021-07-16T18:48:33.814Z"
   },
   {
    "duration": 51,
    "start_time": "2021-07-16T18:49:05.918Z"
   },
   {
    "duration": 1910,
    "start_time": "2021-07-16T18:49:38.225Z"
   },
   {
    "duration": 2,
    "start_time": "2021-07-16T18:49:40.137Z"
   },
   {
    "duration": 935,
    "start_time": "2021-07-16T18:49:40.141Z"
   },
   {
    "duration": 35,
    "start_time": "2021-07-16T18:49:41.078Z"
   },
   {
    "duration": 9,
    "start_time": "2021-07-16T18:49:41.114Z"
   },
   {
    "duration": 7,
    "start_time": "2021-07-16T18:49:41.125Z"
   },
   {
    "duration": 4,
    "start_time": "2021-07-16T18:49:41.133Z"
   },
   {
    "duration": 12,
    "start_time": "2021-07-16T18:49:41.140Z"
   },
   {
    "duration": 6,
    "start_time": "2021-07-16T18:49:41.154Z"
   },
   {
    "duration": 1034,
    "start_time": "2021-07-16T18:49:41.161Z"
   },
   {
    "duration": 262,
    "start_time": "2021-07-16T18:49:42.197Z"
   },
   {
    "duration": 3,
    "start_time": "2021-07-16T18:49:42.461Z"
   },
   {
    "duration": 7,
    "start_time": "2021-07-16T18:49:42.466Z"
   },
   {
    "duration": 331,
    "start_time": "2021-07-16T18:49:42.474Z"
   },
   {
    "duration": 1938,
    "start_time": "2021-07-16T18:49:59.933Z"
   },
   {
    "duration": 77,
    "start_time": "2021-07-16T18:50:07.998Z"
   },
   {
    "duration": 3854,
    "start_time": "2021-07-16T18:50:14.093Z"
   },
   {
    "duration": 3870,
    "start_time": "2021-07-16T18:52:23.077Z"
   },
   {
    "duration": 1184,
    "start_time": "2021-07-16T18:52:26.949Z"
   },
   {
    "duration": 34,
    "start_time": "2021-07-16T18:52:28.134Z"
   },
   {
    "duration": 8,
    "start_time": "2021-07-16T18:52:28.170Z"
   },
   {
    "duration": 7,
    "start_time": "2021-07-16T18:52:28.179Z"
   },
   {
    "duration": 3,
    "start_time": "2021-07-16T18:52:28.187Z"
   },
   {
    "duration": 15,
    "start_time": "2021-07-16T18:52:28.192Z"
   },
   {
    "duration": 5,
    "start_time": "2021-07-16T18:52:28.209Z"
   },
   {
    "duration": 982,
    "start_time": "2021-07-16T18:52:28.216Z"
   },
   {
    "duration": 244,
    "start_time": "2021-07-16T18:52:29.200Z"
   },
   {
    "duration": 4,
    "start_time": "2021-07-16T18:52:29.445Z"
   },
   {
    "duration": 5,
    "start_time": "2021-07-16T18:52:29.450Z"
   },
   {
    "duration": 174,
    "start_time": "2021-07-16T18:52:29.457Z"
   },
   {
    "duration": 89,
    "start_time": "2021-07-16T18:54:22.766Z"
   },
   {
    "duration": 44,
    "start_time": "2021-07-16T18:54:36.059Z"
   },
   {
    "duration": 30645,
    "start_time": "2021-07-17T08:41:42.828Z"
   },
   {
    "duration": 1723,
    "start_time": "2021-07-17T08:42:13.475Z"
   },
   {
    "duration": 48,
    "start_time": "2021-07-17T08:42:15.201Z"
   },
   {
    "duration": 12,
    "start_time": "2021-07-17T08:42:15.252Z"
   },
   {
    "duration": 8,
    "start_time": "2021-07-17T08:42:15.267Z"
   },
   {
    "duration": 24,
    "start_time": "2021-07-17T08:42:15.277Z"
   },
   {
    "duration": 17,
    "start_time": "2021-07-17T08:42:15.304Z"
   },
   {
    "duration": 9,
    "start_time": "2021-07-17T08:42:15.324Z"
   },
   {
    "duration": 1671,
    "start_time": "2021-07-17T08:42:15.335Z"
   },
   {
    "duration": 431,
    "start_time": "2021-07-17T08:42:17.009Z"
   },
   {
    "duration": 5,
    "start_time": "2021-07-17T08:42:17.442Z"
   },
   {
    "duration": 7,
    "start_time": "2021-07-17T08:42:17.449Z"
   },
   {
    "duration": 310,
    "start_time": "2021-07-17T08:42:17.459Z"
   },
   {
    "duration": 86,
    "start_time": "2021-07-17T09:03:23.074Z"
   },
   {
    "duration": 85,
    "start_time": "2021-07-17T09:03:28.370Z"
   },
   {
    "duration": 129,
    "start_time": "2021-07-17T09:06:34.670Z"
   },
   {
    "duration": 88,
    "start_time": "2021-07-17T09:07:52.765Z"
   },
   {
    "duration": 103,
    "start_time": "2021-07-17T09:08:00.902Z"
   },
   {
    "duration": 92,
    "start_time": "2021-07-17T09:11:54.039Z"
   },
   {
    "duration": 90,
    "start_time": "2021-07-17T09:12:48.265Z"
   },
   {
    "duration": 81,
    "start_time": "2021-07-17T09:21:39.719Z"
   },
   {
    "duration": 6,
    "start_time": "2021-07-17T09:28:55.668Z"
   },
   {
    "duration": 12,
    "start_time": "2021-07-17T09:29:41.264Z"
   },
   {
    "duration": 17,
    "start_time": "2021-07-17T09:29:46.444Z"
   },
   {
    "duration": 31,
    "start_time": "2021-07-17T09:30:32.649Z"
   },
   {
    "duration": 27,
    "start_time": "2021-07-17T09:30:49.576Z"
   },
   {
    "duration": 30,
    "start_time": "2021-07-17T09:31:32.636Z"
   },
   {
    "duration": 21,
    "start_time": "2021-07-17T09:32:14.500Z"
   },
   {
    "duration": 30,
    "start_time": "2021-07-17T09:32:41.192Z"
   },
   {
    "duration": 27,
    "start_time": "2021-07-17T09:32:48.984Z"
   },
   {
    "duration": 30,
    "start_time": "2021-07-17T09:33:44.292Z"
   },
   {
    "duration": 481,
    "start_time": "2021-07-17T09:34:13.320Z"
   },
   {
    "duration": 28,
    "start_time": "2021-07-17T09:34:21.680Z"
   },
   {
    "duration": 28,
    "start_time": "2021-07-17T09:36:05.924Z"
   },
   {
    "duration": 13,
    "start_time": "2021-07-17T09:36:15.160Z"
   },
   {
    "duration": 11,
    "start_time": "2021-07-17T09:36:18.004Z"
   },
   {
    "duration": 26,
    "start_time": "2021-07-17T09:36:22.536Z"
   },
   {
    "duration": 459,
    "start_time": "2021-07-17T09:36:39.731Z"
   },
   {
    "duration": 30,
    "start_time": "2021-07-17T09:36:45.068Z"
   },
   {
    "duration": 94,
    "start_time": "2021-07-17T09:36:52.392Z"
   },
   {
    "duration": 60,
    "start_time": "2021-07-17T09:39:46.400Z"
   },
   {
    "duration": 73,
    "start_time": "2021-07-17T09:41:10.640Z"
   },
   {
    "duration": 83,
    "start_time": "2021-07-17T09:41:29.739Z"
   },
   {
    "duration": 83,
    "start_time": "2021-07-17T09:42:31.148Z"
   },
   {
    "duration": 94,
    "start_time": "2021-07-17T09:42:42.812Z"
   },
   {
    "duration": 110,
    "start_time": "2021-07-17T09:42:58.852Z"
   },
   {
    "duration": 115,
    "start_time": "2021-07-17T09:43:14.688Z"
   },
   {
    "duration": 81,
    "start_time": "2021-07-17T09:43:26.599Z"
   },
   {
    "duration": 269,
    "start_time": "2021-07-17T09:44:20.923Z"
   },
   {
    "duration": 308,
    "start_time": "2021-07-17T09:44:28.643Z"
   },
   {
    "duration": 88,
    "start_time": "2021-07-17T09:44:32.084Z"
   },
   {
    "duration": 286,
    "start_time": "2021-07-17T09:47:15.727Z"
   },
   {
    "duration": 83,
    "start_time": "2021-07-17T09:47:19.203Z"
   },
   {
    "duration": 270,
    "start_time": "2021-07-17T09:47:55.279Z"
   },
   {
    "duration": 90,
    "start_time": "2021-07-17T09:48:40.375Z"
   },
   {
    "duration": 96,
    "start_time": "2021-07-17T09:48:50.047Z"
   },
   {
    "duration": 41,
    "start_time": "2021-07-17T09:49:16.261Z"
   },
   {
    "duration": 6157,
    "start_time": "2021-07-17T09:49:39.733Z"
   },
   {
    "duration": 1733,
    "start_time": "2021-07-17T09:49:45.893Z"
   },
   {
    "duration": 46,
    "start_time": "2021-07-17T09:49:47.629Z"
   },
   {
    "duration": 12,
    "start_time": "2021-07-17T09:49:47.678Z"
   },
   {
    "duration": 18,
    "start_time": "2021-07-17T09:49:47.692Z"
   },
   {
    "duration": 6,
    "start_time": "2021-07-17T09:49:47.712Z"
   },
   {
    "duration": 18,
    "start_time": "2021-07-17T09:49:47.721Z"
   },
   {
    "duration": 9,
    "start_time": "2021-07-17T09:49:47.741Z"
   },
   {
    "duration": 1665,
    "start_time": "2021-07-17T09:49:47.753Z"
   },
   {
    "duration": 451,
    "start_time": "2021-07-17T09:49:49.421Z"
   },
   {
    "duration": 440,
    "start_time": "2021-07-17T09:50:03.541Z"
   },
   {
    "duration": 10,
    "start_time": "2021-07-17T09:50:28.417Z"
   },
   {
    "duration": 9,
    "start_time": "2021-07-17T09:50:34.265Z"
   },
   {
    "duration": 306,
    "start_time": "2021-07-17T09:50:43.428Z"
   },
   {
    "duration": 277,
    "start_time": "2021-07-17T09:50:48.732Z"
   },
   {
    "duration": 6,
    "start_time": "2021-07-17T09:50:53.424Z"
   },
   {
    "duration": 5,
    "start_time": "2021-07-17T09:50:54.032Z"
   },
   {
    "duration": 34,
    "start_time": "2021-07-17T09:50:56.436Z"
   },
   {
    "duration": 277,
    "start_time": "2021-07-17T09:51:06.924Z"
   },
   {
    "duration": 95,
    "start_time": "2021-07-17T09:51:30.229Z"
   },
   {
    "duration": 94,
    "start_time": "2021-07-17T09:51:47.909Z"
   },
   {
    "duration": 14,
    "start_time": "2021-07-17T09:52:18.832Z"
   },
   {
    "duration": 6273,
    "start_time": "2021-07-17T09:55:07.619Z"
   },
   {
    "duration": 1813,
    "start_time": "2021-07-17T09:55:13.895Z"
   },
   {
    "duration": 48,
    "start_time": "2021-07-17T09:55:15.712Z"
   },
   {
    "duration": 13,
    "start_time": "2021-07-17T09:55:15.762Z"
   },
   {
    "duration": 13,
    "start_time": "2021-07-17T09:55:15.777Z"
   },
   {
    "duration": 11,
    "start_time": "2021-07-17T09:55:15.792Z"
   },
   {
    "duration": 23,
    "start_time": "2021-07-17T09:55:15.806Z"
   },
   {
    "duration": 9,
    "start_time": "2021-07-17T09:55:15.832Z"
   },
   {
    "duration": 1766,
    "start_time": "2021-07-17T09:55:15.844Z"
   },
   {
    "duration": 432,
    "start_time": "2021-07-17T09:55:17.612Z"
   },
   {
    "duration": 11,
    "start_time": "2021-07-17T09:55:18.046Z"
   },
   {
    "duration": 8,
    "start_time": "2021-07-17T09:55:18.059Z"
   },
   {
    "duration": 31,
    "start_time": "2021-07-17T09:55:18.069Z"
   },
   {
    "duration": 300,
    "start_time": "2021-07-17T09:55:18.102Z"
   },
   {
    "duration": 5,
    "start_time": "2021-07-17T09:55:18.404Z"
   },
   {
    "duration": 17,
    "start_time": "2021-07-17T09:55:18.412Z"
   },
   {
    "duration": 17,
    "start_time": "2021-07-17T09:55:18.432Z"
   },
   {
    "duration": 5,
    "start_time": "2021-07-17T09:59:08.788Z"
   },
   {
    "duration": 5,
    "start_time": "2021-07-17T09:59:09.171Z"
   },
   {
    "duration": 5,
    "start_time": "2021-07-17T09:59:09.835Z"
   },
   {
    "duration": 8,
    "start_time": "2021-07-17T09:59:10.087Z"
   },
   {
    "duration": 19,
    "start_time": "2021-07-17T09:59:10.492Z"
   },
   {
    "duration": 7440,
    "start_time": "2021-07-17T09:59:32.193Z"
   },
   {
    "duration": 1807,
    "start_time": "2021-07-17T09:59:39.636Z"
   },
   {
    "duration": 63,
    "start_time": "2021-07-17T09:59:41.447Z"
   },
   {
    "duration": 18,
    "start_time": "2021-07-17T09:59:41.513Z"
   },
   {
    "duration": 11,
    "start_time": "2021-07-17T09:59:41.534Z"
   },
   {
    "duration": 6,
    "start_time": "2021-07-17T09:59:41.548Z"
   },
   {
    "duration": 62,
    "start_time": "2021-07-17T09:59:41.557Z"
   },
   {
    "duration": 12,
    "start_time": "2021-07-17T09:59:41.624Z"
   },
   {
    "duration": 1727,
    "start_time": "2021-07-17T09:59:41.639Z"
   },
   {
    "duration": 500,
    "start_time": "2021-07-17T09:59:43.368Z"
   },
   {
    "duration": 16,
    "start_time": "2021-07-17T09:59:43.870Z"
   },
   {
    "duration": 5,
    "start_time": "2021-07-17T09:59:43.901Z"
   },
   {
    "duration": 16,
    "start_time": "2021-07-17T09:59:43.908Z"
   },
   {
    "duration": 306,
    "start_time": "2021-07-17T09:59:43.926Z"
   },
   {
    "duration": 6,
    "start_time": "2021-07-17T09:59:44.235Z"
   },
   {
    "duration": 8,
    "start_time": "2021-07-17T09:59:44.243Z"
   },
   {
    "duration": 5,
    "start_time": "2021-07-17T09:59:44.254Z"
   },
   {
    "duration": 41,
    "start_time": "2021-07-17T09:59:44.261Z"
   },
   {
    "duration": 20,
    "start_time": "2021-07-17T09:59:44.304Z"
   },
   {
    "duration": 7,
    "start_time": "2021-07-17T10:00:55.079Z"
   },
   {
    "duration": 20,
    "start_time": "2021-07-17T10:00:56.182Z"
   },
   {
    "duration": 26,
    "start_time": "2021-07-17T10:01:04.110Z"
   },
   {
    "duration": 6797,
    "start_time": "2021-07-17T10:05:53.723Z"
   },
   {
    "duration": 1876,
    "start_time": "2021-07-17T10:06:00.522Z"
   },
   {
    "duration": 48,
    "start_time": "2021-07-17T10:06:02.401Z"
   },
   {
    "duration": 15,
    "start_time": "2021-07-17T10:06:02.452Z"
   },
   {
    "duration": 17,
    "start_time": "2021-07-17T10:06:02.469Z"
   },
   {
    "duration": 13,
    "start_time": "2021-07-17T10:06:02.489Z"
   },
   {
    "duration": 29,
    "start_time": "2021-07-17T10:06:02.505Z"
   },
   {
    "duration": 9,
    "start_time": "2021-07-17T10:06:02.537Z"
   },
   {
    "duration": 1705,
    "start_time": "2021-07-17T10:06:02.549Z"
   },
   {
    "duration": 429,
    "start_time": "2021-07-17T10:06:04.257Z"
   },
   {
    "duration": 19,
    "start_time": "2021-07-17T10:06:04.688Z"
   },
   {
    "duration": 9,
    "start_time": "2021-07-17T10:06:04.709Z"
   },
   {
    "duration": 6,
    "start_time": "2021-07-17T10:06:04.720Z"
   },
   {
    "duration": 292,
    "start_time": "2021-07-17T10:06:04.729Z"
   },
   {
    "duration": 5,
    "start_time": "2021-07-17T10:06:05.023Z"
   },
   {
    "duration": 8,
    "start_time": "2021-07-17T10:06:05.031Z"
   },
   {
    "duration": 10,
    "start_time": "2021-07-17T10:06:05.042Z"
   },
   {
    "duration": 13,
    "start_time": "2021-07-17T10:07:00.826Z"
   },
   {
    "duration": 18,
    "start_time": "2021-07-17T10:07:49.410Z"
   },
   {
    "duration": 17612,
    "start_time": "2021-07-17T10:17:48.493Z"
   },
   {
    "duration": 13,
    "start_time": "2021-07-17T10:18:11.745Z"
   },
   {
    "duration": 23,
    "start_time": "2021-07-17T10:18:23.313Z"
   },
   {
    "duration": 5,
    "start_time": "2021-07-17T10:19:39.952Z"
   },
   {
    "duration": 6597,
    "start_time": "2021-07-17T10:20:25.502Z"
   },
   {
    "duration": 1883,
    "start_time": "2021-07-17T10:20:32.103Z"
   },
   {
    "duration": 49,
    "start_time": "2021-07-17T10:20:33.989Z"
   },
   {
    "duration": 13,
    "start_time": "2021-07-17T10:20:34.041Z"
   },
   {
    "duration": 9,
    "start_time": "2021-07-17T10:20:34.056Z"
   },
   {
    "duration": 5,
    "start_time": "2021-07-17T10:20:34.067Z"
   },
   {
    "duration": 44,
    "start_time": "2021-07-17T10:20:34.074Z"
   },
   {
    "duration": 9,
    "start_time": "2021-07-17T10:20:34.121Z"
   },
   {
    "duration": 1812,
    "start_time": "2021-07-17T10:20:34.133Z"
   },
   {
    "duration": 456,
    "start_time": "2021-07-17T10:20:35.948Z"
   },
   {
    "duration": 11,
    "start_time": "2021-07-17T10:20:36.407Z"
   },
   {
    "duration": 8,
    "start_time": "2021-07-17T10:20:36.421Z"
   },
   {
    "duration": 8,
    "start_time": "2021-07-17T10:20:36.432Z"
   },
   {
    "duration": 341,
    "start_time": "2021-07-17T10:20:36.443Z"
   },
   {
    "duration": 14,
    "start_time": "2021-07-17T10:20:36.787Z"
   },
   {
    "duration": 6,
    "start_time": "2021-07-17T10:20:36.804Z"
   },
   {
    "duration": 6,
    "start_time": "2021-07-17T10:20:36.813Z"
   },
   {
    "duration": 5,
    "start_time": "2021-07-17T10:20:36.821Z"
   },
   {
    "duration": 17281,
    "start_time": "2021-07-17T10:20:36.829Z"
   },
   {
    "duration": 94,
    "start_time": "2021-07-17T10:20:54.114Z"
   },
   {
    "duration": 21,
    "start_time": "2021-07-17T10:20:54.211Z"
   },
   {
    "duration": 625,
    "start_time": "2021-07-17T10:36:23.489Z"
   },
   {
    "duration": 17344,
    "start_time": "2021-07-17T10:37:57.161Z"
   },
   {
    "duration": 294,
    "start_time": "2021-07-17T10:38:19.496Z"
   },
   {
    "duration": 14,
    "start_time": "2021-07-17T10:38:26.917Z"
   },
   {
    "duration": 18207,
    "start_time": "2021-07-17T10:40:05.496Z"
   },
   {
    "duration": 18672,
    "start_time": "2021-07-17T10:40:40.433Z"
   },
   {
    "duration": 14,
    "start_time": "2021-07-17T10:41:06.477Z"
   },
   {
    "duration": 78411,
    "start_time": "2021-07-17T10:41:34.989Z"
   },
   {
    "duration": 82194,
    "start_time": "2021-07-17T10:45:27.812Z"
   },
   {
    "duration": 14,
    "start_time": "2021-07-17T10:47:12.277Z"
   },
   {
    "duration": 75440,
    "start_time": "2021-07-17T10:47:16.564Z"
   },
   {
    "duration": 15,
    "start_time": "2021-07-17T10:49:14.840Z"
   },
   {
    "duration": 279101,
    "start_time": "2021-07-17T10:50:16.004Z"
   },
   {
    "duration": 14,
    "start_time": "2021-07-17T10:55:03.135Z"
   },
   {
    "duration": 15,
    "start_time": "2021-07-17T10:55:27.815Z"
   },
   {
    "duration": 268751,
    "start_time": "2021-07-17T11:01:42.957Z"
   },
   {
    "duration": 13,
    "start_time": "2021-07-17T11:08:22.178Z"
   },
   {
    "duration": 179530,
    "start_time": "2021-07-17T11:09:40.174Z"
   },
   {
    "duration": 308,
    "start_time": "2021-07-17T11:22:26.961Z"
   },
   {
    "duration": 41,
    "start_time": "2021-07-17T11:22:31.653Z"
   },
   {
    "duration": 31821,
    "start_time": "2021-07-17T11:22:34.833Z"
   },
   {
    "duration": 90,
    "start_time": "2021-07-17T11:27:34.765Z"
   },
   {
    "duration": 33760,
    "start_time": "2021-07-17T11:28:26.713Z"
   },
   {
    "duration": 40198,
    "start_time": "2021-07-17T11:29:01.557Z"
   },
   {
    "duration": 18,
    "start_time": "2021-07-17T11:30:32.056Z"
   },
   {
    "duration": 188100,
    "start_time": "2021-07-17T11:32:52.401Z"
   },
   {
    "duration": 14,
    "start_time": "2021-07-17T11:36:37.088Z"
   },
   {
    "duration": 289323,
    "start_time": "2021-07-17T11:37:45.549Z"
   },
   {
    "duration": 20756,
    "start_time": "2021-07-17T11:43:07.480Z"
   },
   {
    "duration": 1107056,
    "start_time": "2021-07-17T11:43:29.060Z"
   },
   {
    "duration": 17,
    "start_time": "2021-07-17T12:15:20.038Z"
   },
   {
    "duration": 11,
    "start_time": "2021-07-17T12:27:33.433Z"
   },
   {
    "duration": 4,
    "start_time": "2021-07-17T12:28:05.261Z"
   },
   {
    "duration": 31,
    "start_time": "2021-07-17T12:28:27.549Z"
   },
   {
    "duration": 99099,
    "start_time": "2021-07-17T12:36:29.678Z"
   },
   {
    "duration": 124860,
    "start_time": "2021-07-17T12:38:13.136Z"
   },
   {
    "duration": 104,
    "start_time": "2021-07-17T12:41:03.016Z"
   },
   {
    "duration": 1089470,
    "start_time": "2021-07-17T12:41:08.476Z"
   },
   {
    "duration": 15,
    "start_time": "2021-07-17T12:59:50.262Z"
   },
   {
    "duration": 78,
    "start_time": "2021-07-17T13:38:12.436Z"
   },
   {
    "duration": 4,
    "start_time": "2021-07-17T13:58:17.847Z"
   },
   {
    "duration": 365,
    "start_time": "2021-07-17T14:01:27.439Z"
   },
   {
    "duration": 2670,
    "start_time": "2021-07-17T14:04:37.214Z"
   },
   {
    "duration": 33030,
    "start_time": "2021-07-17T14:07:46.270Z"
   },
   {
    "duration": 6288,
    "start_time": "2021-07-17T14:15:06.246Z"
   },
   {
    "duration": 1952,
    "start_time": "2021-07-17T14:15:12.537Z"
   },
   {
    "duration": 46,
    "start_time": "2021-07-17T14:15:14.492Z"
   },
   {
    "duration": 13,
    "start_time": "2021-07-17T14:15:14.541Z"
   },
   {
    "duration": 8,
    "start_time": "2021-07-17T14:15:14.557Z"
   },
   {
    "duration": 5,
    "start_time": "2021-07-17T14:15:14.567Z"
   },
   {
    "duration": 43,
    "start_time": "2021-07-17T14:15:14.575Z"
   },
   {
    "duration": 12,
    "start_time": "2021-07-17T14:15:14.624Z"
   },
   {
    "duration": 1711,
    "start_time": "2021-07-17T14:15:14.640Z"
   },
   {
    "duration": 467,
    "start_time": "2021-07-17T14:15:16.354Z"
   },
   {
    "duration": 11,
    "start_time": "2021-07-17T14:15:16.824Z"
   },
   {
    "duration": 8,
    "start_time": "2021-07-17T14:15:16.838Z"
   },
   {
    "duration": 7,
    "start_time": "2021-07-17T14:15:16.849Z"
   },
   {
    "duration": 314,
    "start_time": "2021-07-17T14:15:16.859Z"
   },
   {
    "duration": 5,
    "start_time": "2021-07-17T14:15:17.175Z"
   },
   {
    "duration": 18,
    "start_time": "2021-07-17T14:15:17.182Z"
   },
   {
    "duration": 5,
    "start_time": "2021-07-17T14:15:17.202Z"
   },
   {
    "duration": 5,
    "start_time": "2021-07-17T14:15:17.209Z"
   },
   {
    "duration": 25684,
    "start_time": "2021-07-17T14:15:17.217Z"
   },
   {
    "duration": 347,
    "start_time": "2021-07-17T14:15:42.558Z"
   },
   {
    "duration": 348,
    "start_time": "2021-07-17T14:15:42.559Z"
   },
   {
    "duration": 348,
    "start_time": "2021-07-17T14:15:42.561Z"
   },
   {
    "duration": 349,
    "start_time": "2021-07-17T14:15:42.563Z"
   },
   {
    "duration": 350,
    "start_time": "2021-07-17T14:15:42.564Z"
   },
   {
    "duration": 347,
    "start_time": "2021-07-17T14:15:42.569Z"
   },
   {
    "duration": 348,
    "start_time": "2021-07-17T14:15:42.570Z"
   },
   {
    "duration": 349,
    "start_time": "2021-07-17T14:15:42.571Z"
   },
   {
    "duration": 6236,
    "start_time": "2021-07-17T14:16:26.823Z"
   },
   {
    "duration": 1903,
    "start_time": "2021-07-17T14:16:33.062Z"
   },
   {
    "duration": 49,
    "start_time": "2021-07-17T14:16:34.971Z"
   },
   {
    "duration": 13,
    "start_time": "2021-07-17T14:16:35.022Z"
   },
   {
    "duration": 10,
    "start_time": "2021-07-17T14:16:35.037Z"
   },
   {
    "duration": 5,
    "start_time": "2021-07-17T14:16:35.049Z"
   },
   {
    "duration": 47,
    "start_time": "2021-07-17T14:16:35.058Z"
   },
   {
    "duration": 9,
    "start_time": "2021-07-17T14:16:35.108Z"
   },
   {
    "duration": 1625,
    "start_time": "2021-07-17T14:16:35.119Z"
   },
   {
    "duration": 453,
    "start_time": "2021-07-17T14:16:36.747Z"
   },
   {
    "duration": 12,
    "start_time": "2021-07-17T14:16:37.203Z"
   },
   {
    "duration": 12,
    "start_time": "2021-07-17T14:16:37.218Z"
   },
   {
    "duration": 10,
    "start_time": "2021-07-17T14:16:37.232Z"
   },
   {
    "duration": 305,
    "start_time": "2021-07-17T14:16:37.245Z"
   },
   {
    "duration": 5,
    "start_time": "2021-07-17T14:16:37.552Z"
   },
   {
    "duration": 7,
    "start_time": "2021-07-17T14:16:37.560Z"
   },
   {
    "duration": 8,
    "start_time": "2021-07-17T14:16:37.570Z"
   },
   {
    "duration": 22,
    "start_time": "2021-07-17T14:16:37.581Z"
   },
   {
    "duration": 188398,
    "start_time": "2021-07-17T14:16:37.605Z"
   },
   {
    "duration": 103,
    "start_time": "2021-07-17T14:19:46.007Z"
   },
   {
    "duration": 1031672,
    "start_time": "2021-07-17T14:19:46.113Z"
   },
   {
    "duration": 24,
    "start_time": "2021-07-17T14:36:57.789Z"
   },
   {
    "duration": 1077084,
    "start_time": "2021-07-17T14:36:57.816Z"
   },
   {
    "duration": 17,
    "start_time": "2021-07-17T14:54:54.903Z"
   },
   {
    "duration": 382,
    "start_time": "2021-07-17T14:54:54.923Z"
   },
   {
    "duration": 2908,
    "start_time": "2021-07-17T14:54:55.309Z"
   },
   {
    "duration": 32955,
    "start_time": "2021-07-17T14:54:58.219Z"
   },
   {
    "duration": 30209,
    "start_time": "2021-07-17T19:32:37.026Z"
   },
   {
    "duration": 1944,
    "start_time": "2021-07-17T19:33:07.238Z"
   },
   {
    "duration": 51,
    "start_time": "2021-07-17T19:33:09.186Z"
   },
   {
    "duration": 16,
    "start_time": "2021-07-17T19:33:09.240Z"
   },
   {
    "duration": 10,
    "start_time": "2021-07-17T19:33:09.259Z"
   },
   {
    "duration": 32,
    "start_time": "2021-07-17T19:33:09.272Z"
   },
   {
    "duration": 22,
    "start_time": "2021-07-17T19:33:09.307Z"
   },
   {
    "duration": 11,
    "start_time": "2021-07-17T19:33:09.334Z"
   },
   {
    "duration": 1611,
    "start_time": "2021-07-17T19:33:09.348Z"
   },
   {
    "duration": 469,
    "start_time": "2021-07-17T19:33:10.961Z"
   },
   {
    "duration": 11,
    "start_time": "2021-07-17T19:33:11.434Z"
   },
   {
    "duration": 8,
    "start_time": "2021-07-17T19:33:11.448Z"
   },
   {
    "duration": 7,
    "start_time": "2021-07-17T19:33:11.459Z"
   },
   {
    "duration": 330,
    "start_time": "2021-07-17T19:33:11.468Z"
   },
   {
    "duration": 6,
    "start_time": "2021-07-17T19:33:11.800Z"
   },
   {
    "duration": 26,
    "start_time": "2021-07-17T19:33:11.809Z"
   },
   {
    "duration": 18,
    "start_time": "2021-07-17T19:33:11.837Z"
   },
   {
    "duration": 24520,
    "start_time": "2021-07-18T07:46:52.579Z"
   },
   {
    "duration": 2026,
    "start_time": "2021-07-18T07:47:17.101Z"
   },
   {
    "duration": 97,
    "start_time": "2021-07-18T07:47:19.131Z"
   },
   {
    "duration": 14,
    "start_time": "2021-07-18T07:47:19.231Z"
   },
   {
    "duration": 12,
    "start_time": "2021-07-18T07:47:19.248Z"
   },
   {
    "duration": 6,
    "start_time": "2021-07-18T07:47:19.262Z"
   },
   {
    "duration": 25,
    "start_time": "2021-07-18T07:47:19.270Z"
   },
   {
    "duration": 9,
    "start_time": "2021-07-18T07:47:19.299Z"
   },
   {
    "duration": 1586,
    "start_time": "2021-07-18T07:47:19.311Z"
   },
   {
    "duration": 454,
    "start_time": "2021-07-18T07:47:20.900Z"
   },
   {
    "duration": 10,
    "start_time": "2021-07-18T07:47:21.357Z"
   },
   {
    "duration": 13,
    "start_time": "2021-07-18T07:47:21.370Z"
   },
   {
    "duration": 13,
    "start_time": "2021-07-18T07:47:21.385Z"
   },
   {
    "duration": 312,
    "start_time": "2021-07-18T07:47:21.401Z"
   },
   {
    "duration": 5,
    "start_time": "2021-07-18T07:47:21.715Z"
   },
   {
    "duration": 18,
    "start_time": "2021-07-18T07:47:21.724Z"
   },
   {
    "duration": 15,
    "start_time": "2021-07-18T07:47:21.744Z"
   },
   {
    "duration": 8,
    "start_time": "2021-07-18T07:47:21.761Z"
   },
   {
    "duration": 5,
    "start_time": "2021-07-18T07:47:29.350Z"
   },
   {
    "duration": 622,
    "start_time": "2021-07-18T07:47:31.343Z"
   },
   {
    "duration": 335868,
    "start_time": "2021-07-18T07:47:56.890Z"
   },
   {
    "duration": 14,
    "start_time": "2021-07-18T07:53:47.174Z"
   },
   {
    "duration": 5,
    "start_time": "2021-07-18T07:54:41.542Z"
   },
   {
    "duration": 6,
    "start_time": "2021-07-18T07:54:53.042Z"
   },
   {
    "duration": 4,
    "start_time": "2021-07-18T07:55:03.742Z"
   },
   {
    "duration": 6,
    "start_time": "2021-07-18T07:55:09.026Z"
   },
   {
    "duration": 5,
    "start_time": "2021-07-18T07:55:17.438Z"
   },
   {
    "duration": 4,
    "start_time": "2021-07-18T07:57:17.514Z"
   },
   {
    "duration": 5,
    "start_time": "2021-07-18T07:57:31.866Z"
   },
   {
    "duration": 5,
    "start_time": "2021-07-18T07:57:36.158Z"
   },
   {
    "duration": 6,
    "start_time": "2021-07-18T07:58:16.178Z"
   },
   {
    "duration": 214064,
    "start_time": "2021-07-18T07:59:16.394Z"
   },
   {
    "duration": 14,
    "start_time": "2021-07-18T08:05:11.105Z"
   },
   {
    "duration": 1624,
    "start_time": "2021-07-18T08:07:39.733Z"
   },
   {
    "duration": 85896,
    "start_time": "2021-07-18T08:07:59.421Z"
   },
   {
    "duration": 1354174,
    "start_time": "2021-07-18T08:09:49.533Z"
   },
   {
    "duration": 16,
    "start_time": "2021-07-18T08:32:30.932Z"
   },
   {
    "duration": 187151,
    "start_time": "2021-07-18T08:36:14.732Z"
   },
   {
    "duration": 966795,
    "start_time": "2021-07-18T08:39:37.719Z"
   },
   {
    "duration": 15,
    "start_time": "2021-07-18T08:55:52.238Z"
   },
   {
    "duration": 617,
    "start_time": "2021-07-18T08:56:34.342Z"
   },
   {
    "duration": 3291,
    "start_time": "2021-07-18T08:56:37.836Z"
   },
   {
    "duration": 32785,
    "start_time": "2021-07-18T08:56:49.222Z"
   },
   {
    "duration": 7,
    "start_time": "2021-07-18T08:59:05.042Z"
   },
   {
    "duration": 1177,
    "start_time": "2021-07-18T08:59:32.834Z"
   },
   {
    "duration": 7,
    "start_time": "2021-07-18T09:00:03.378Z"
   },
   {
    "duration": 361,
    "start_time": "2021-07-18T09:01:20.170Z"
   },
   {
    "duration": 644,
    "start_time": "2021-07-18T09:03:01.678Z"
   },
   {
    "duration": 628,
    "start_time": "2021-07-18T09:03:23.010Z"
   },
   {
    "duration": 1127,
    "start_time": "2021-07-18T09:03:29.837Z"
   },
   {
    "duration": 713,
    "start_time": "2021-07-18T09:03:32.985Z"
   },
   {
    "duration": 259,
    "start_time": "2021-07-18T09:04:48.577Z"
   },
   {
    "duration": 318,
    "start_time": "2021-07-18T09:05:16.645Z"
   },
   {
    "duration": 381,
    "start_time": "2021-07-18T09:06:10.989Z"
   },
   {
    "duration": 680,
    "start_time": "2021-07-18T09:06:41.194Z"
   },
   {
    "duration": 344,
    "start_time": "2021-07-18T09:07:00.565Z"
   },
   {
    "duration": 403,
    "start_time": "2021-07-18T09:07:11.305Z"
   },
   {
    "duration": 342,
    "start_time": "2021-07-18T09:07:20.061Z"
   },
   {
    "duration": 11,
    "start_time": "2021-07-18T09:07:28.897Z"
   },
   {
    "duration": 9,
    "start_time": "2021-07-18T09:07:48.585Z"
   },
   {
    "duration": 381,
    "start_time": "2021-07-18T09:08:04.889Z"
   },
   {
    "duration": 93,
    "start_time": "2021-07-18T09:11:31.741Z"
   },
   {
    "duration": 229,
    "start_time": "2021-07-18T09:11:49.554Z"
   },
   {
    "duration": 378,
    "start_time": "2021-07-18T09:11:54.685Z"
   },
   {
    "duration": 407,
    "start_time": "2021-07-18T09:12:52.769Z"
   },
   {
    "duration": 378,
    "start_time": "2021-07-18T09:14:19.025Z"
   },
   {
    "duration": 6,
    "start_time": "2021-07-18T09:14:59.860Z"
   },
   {
    "duration": 843,
    "start_time": "2021-07-18T09:15:01.173Z"
   },
   {
    "duration": 6,
    "start_time": "2021-07-18T09:15:59.829Z"
   },
   {
    "duration": 838,
    "start_time": "2021-07-18T09:16:01.248Z"
   },
   {
    "duration": 6,
    "start_time": "2021-07-18T09:17:10.577Z"
   },
   {
    "duration": 1320,
    "start_time": "2021-07-18T09:17:11.420Z"
   },
   {
    "duration": 3538,
    "start_time": "2021-07-18T09:18:21.868Z"
   },
   {
    "duration": 34091,
    "start_time": "2021-07-18T09:18:31.080Z"
   },
   {
    "duration": 11,
    "start_time": "2021-07-18T09:35:18.495Z"
   },
   {
    "duration": 2122,
    "start_time": "2021-07-18T09:35:22.919Z"
   },
   {
    "duration": 7,
    "start_time": "2021-07-18T09:36:02.763Z"
   },
   {
    "duration": 988,
    "start_time": "2021-07-18T09:36:03.647Z"
   },
   {
    "duration": 3608,
    "start_time": "2021-07-18T09:36:10.147Z"
   },
   {
    "duration": 936,
    "start_time": "2021-07-18T09:37:00.951Z"
   },
   {
    "duration": 69692,
    "start_time": "2021-07-18T09:37:50.667Z"
   },
   {
    "duration": 64058,
    "start_time": "2021-07-18T09:40:03.203Z"
   },
   {
    "duration": 33004,
    "start_time": "2021-07-18T09:41:46.899Z"
   },
   {
    "duration": 7,
    "start_time": "2021-07-18T09:48:53.642Z"
   },
   {
    "duration": 12,
    "start_time": "2021-07-18T09:49:00.615Z"
   },
   {
    "duration": 11,
    "start_time": "2021-07-18T09:49:07.306Z"
   },
   {
    "duration": 11,
    "start_time": "2021-07-18T09:51:23.902Z"
   },
   {
    "duration": 8,
    "start_time": "2021-07-18T09:51:34.414Z"
   },
   {
    "duration": 6,
    "start_time": "2021-07-18T09:54:00.734Z"
   },
   {
    "duration": 977,
    "start_time": "2021-07-18T09:54:01.726Z"
   },
   {
    "duration": 3622,
    "start_time": "2021-07-18T09:54:10.586Z"
   },
   {
    "duration": 33982,
    "start_time": "2021-07-18T09:54:18.262Z"
   },
   {
    "duration": 460,
    "start_time": "2021-07-18T09:55:03.394Z"
   },
   {
    "duration": 452,
    "start_time": "2021-07-18T09:55:22.970Z"
   },
   {
    "duration": 572,
    "start_time": "2021-07-18T09:55:27.786Z"
   },
   {
    "duration": 6,
    "start_time": "2021-07-18T10:01:44.973Z"
   },
   {
    "duration": 11,
    "start_time": "2021-07-18T10:01:51.545Z"
   },
   {
    "duration": 11,
    "start_time": "2021-07-18T10:02:02.365Z"
   },
   {
    "duration": 7069,
    "start_time": "2021-07-18T10:10:19.012Z"
   },
   {
    "duration": 2071,
    "start_time": "2021-07-18T10:10:26.084Z"
   },
   {
    "duration": 51,
    "start_time": "2021-07-18T10:10:28.158Z"
   },
   {
    "duration": 14,
    "start_time": "2021-07-18T10:10:28.211Z"
   },
   {
    "duration": 19,
    "start_time": "2021-07-18T10:10:28.228Z"
   },
   {
    "duration": 9,
    "start_time": "2021-07-18T10:10:28.256Z"
   },
   {
    "duration": 20,
    "start_time": "2021-07-18T10:10:28.269Z"
   },
   {
    "duration": 9,
    "start_time": "2021-07-18T10:10:28.292Z"
   },
   {
    "duration": 1596,
    "start_time": "2021-07-18T10:10:28.304Z"
   },
   {
    "duration": 446,
    "start_time": "2021-07-18T10:10:29.903Z"
   },
   {
    "duration": 11,
    "start_time": "2021-07-18T10:10:30.355Z"
   },
   {
    "duration": 10,
    "start_time": "2021-07-18T10:10:30.369Z"
   },
   {
    "duration": 20,
    "start_time": "2021-07-18T10:10:30.382Z"
   },
   {
    "duration": 339,
    "start_time": "2021-07-18T10:10:30.405Z"
   },
   {
    "duration": 11,
    "start_time": "2021-07-18T10:10:30.747Z"
   },
   {
    "duration": 43,
    "start_time": "2021-07-18T10:10:30.761Z"
   },
   {
    "duration": 35,
    "start_time": "2021-07-18T10:10:30.808Z"
   },
   {
    "duration": 29,
    "start_time": "2021-07-18T10:10:30.846Z"
   },
   {
    "duration": 38,
    "start_time": "2021-07-18T10:10:30.879Z"
   },
   {
    "duration": 22,
    "start_time": "2021-07-18T10:10:30.920Z"
   },
   {
    "duration": 212916,
    "start_time": "2021-07-18T10:10:30.945Z"
   },
   {
    "duration": 98,
    "start_time": "2021-07-18T10:14:03.868Z"
   },
   {
    "duration": 3105,
    "start_time": "2021-07-18T10:14:03.969Z"
   },
   {
    "duration": 3,
    "start_time": "2021-07-18T10:14:07.074Z"
   },
   {
    "duration": 2,
    "start_time": "2021-07-18T10:14:07.076Z"
   },
   {
    "duration": 1,
    "start_time": "2021-07-18T10:14:07.079Z"
   },
   {
    "duration": 1,
    "start_time": "2021-07-18T10:14:07.080Z"
   },
   {
    "duration": 0,
    "start_time": "2021-07-18T10:14:07.082Z"
   },
   {
    "duration": 1,
    "start_time": "2021-07-18T10:14:07.083Z"
   },
   {
    "duration": -1,
    "start_time": "2021-07-18T10:14:07.086Z"
   },
   {
    "duration": -1,
    "start_time": "2021-07-18T10:14:07.087Z"
   },
   {
    "duration": -2,
    "start_time": "2021-07-18T10:14:07.089Z"
   },
   {
    "duration": 7079,
    "start_time": "2021-07-18T10:16:48.976Z"
   },
   {
    "duration": 2019,
    "start_time": "2021-07-18T10:16:56.058Z"
   },
   {
    "duration": 50,
    "start_time": "2021-07-18T10:16:58.081Z"
   },
   {
    "duration": 14,
    "start_time": "2021-07-18T10:16:58.133Z"
   },
   {
    "duration": 11,
    "start_time": "2021-07-18T10:16:58.150Z"
   },
   {
    "duration": 19,
    "start_time": "2021-07-18T10:16:58.163Z"
   },
   {
    "duration": 26,
    "start_time": "2021-07-18T10:16:58.185Z"
   },
   {
    "duration": 9,
    "start_time": "2021-07-18T10:16:58.214Z"
   },
   {
    "duration": 1605,
    "start_time": "2021-07-18T10:16:58.226Z"
   },
   {
    "duration": 464,
    "start_time": "2021-07-18T10:16:59.834Z"
   },
   {
    "duration": 12,
    "start_time": "2021-07-18T10:17:00.301Z"
   },
   {
    "duration": 27,
    "start_time": "2021-07-18T10:17:00.317Z"
   },
   {
    "duration": 19,
    "start_time": "2021-07-18T10:17:00.346Z"
   },
   {
    "duration": 330,
    "start_time": "2021-07-18T10:17:00.368Z"
   },
   {
    "duration": 6,
    "start_time": "2021-07-18T10:17:00.700Z"
   },
   {
    "duration": 29,
    "start_time": "2021-07-18T10:17:00.708Z"
   },
   {
    "duration": 23,
    "start_time": "2021-07-18T10:17:00.740Z"
   },
   {
    "duration": 18,
    "start_time": "2021-07-18T10:17:00.766Z"
   },
   {
    "duration": 26,
    "start_time": "2021-07-18T10:17:00.787Z"
   },
   {
    "duration": 25,
    "start_time": "2021-07-18T10:17:00.815Z"
   },
   {
    "duration": 17262,
    "start_time": "2021-07-18T10:17:00.843Z"
   },
   {
    "duration": -8,
    "start_time": "2021-07-18T10:17:18.116Z"
   },
   {
    "duration": -7,
    "start_time": "2021-07-18T10:17:18.117Z"
   },
   {
    "duration": -6,
    "start_time": "2021-07-18T10:17:18.118Z"
   },
   {
    "duration": -7,
    "start_time": "2021-07-18T10:17:18.120Z"
   },
   {
    "duration": -6,
    "start_time": "2021-07-18T10:17:18.121Z"
   },
   {
    "duration": -7,
    "start_time": "2021-07-18T10:17:18.123Z"
   },
   {
    "duration": -11,
    "start_time": "2021-07-18T10:17:18.128Z"
   },
   {
    "duration": -10,
    "start_time": "2021-07-18T10:17:18.129Z"
   },
   {
    "duration": -10,
    "start_time": "2021-07-18T10:17:18.130Z"
   },
   {
    "duration": -10,
    "start_time": "2021-07-18T10:17:18.132Z"
   },
   {
    "duration": -9,
    "start_time": "2021-07-18T10:17:18.133Z"
   },
   {
    "duration": 6358,
    "start_time": "2021-07-18T10:17:22.751Z"
   },
   {
    "duration": 2158,
    "start_time": "2021-07-18T10:17:29.112Z"
   },
   {
    "duration": 49,
    "start_time": "2021-07-18T10:17:31.273Z"
   },
   {
    "duration": 13,
    "start_time": "2021-07-18T10:17:31.324Z"
   },
   {
    "duration": 14,
    "start_time": "2021-07-18T10:17:31.340Z"
   },
   {
    "duration": 6,
    "start_time": "2021-07-18T10:17:31.357Z"
   },
   {
    "duration": 25,
    "start_time": "2021-07-18T10:17:31.365Z"
   },
   {
    "duration": 11,
    "start_time": "2021-07-18T10:17:31.393Z"
   },
   {
    "duration": 1605,
    "start_time": "2021-07-18T10:17:31.407Z"
   },
   {
    "duration": 462,
    "start_time": "2021-07-18T10:17:33.015Z"
   },
   {
    "duration": 10,
    "start_time": "2021-07-18T10:17:33.480Z"
   },
   {
    "duration": 12,
    "start_time": "2021-07-18T10:17:33.493Z"
   },
   {
    "duration": 14,
    "start_time": "2021-07-18T10:17:33.507Z"
   },
   {
    "duration": 313,
    "start_time": "2021-07-18T10:17:33.523Z"
   },
   {
    "duration": 5,
    "start_time": "2021-07-18T10:17:33.839Z"
   },
   {
    "duration": 6,
    "start_time": "2021-07-18T10:17:33.855Z"
   },
   {
    "duration": 17,
    "start_time": "2021-07-18T10:17:33.863Z"
   },
   {
    "duration": 13,
    "start_time": "2021-07-18T10:17:33.883Z"
   },
   {
    "duration": 7,
    "start_time": "2021-07-18T10:17:33.898Z"
   },
   {
    "duration": 12,
    "start_time": "2021-07-18T10:17:33.908Z"
   },
   {
    "duration": 92639,
    "start_time": "2021-07-18T10:17:33.922Z"
   },
   {
    "duration": 102,
    "start_time": "2021-07-18T10:19:06.564Z"
   },
   {
    "duration": 391410,
    "start_time": "2021-07-18T10:19:06.670Z"
   },
   {
    "duration": 18,
    "start_time": "2021-07-18T10:25:38.084Z"
   },
   {
    "duration": 959049,
    "start_time": "2021-07-18T10:25:38.104Z"
   },
   {
    "duration": 14,
    "start_time": "2021-07-18T10:41:37.155Z"
   },
   {
    "duration": 8,
    "start_time": "2021-07-18T10:41:37.171Z"
   },
   {
    "duration": 1062,
    "start_time": "2021-07-18T10:41:37.181Z"
   },
   {
    "duration": 3700,
    "start_time": "2021-07-18T10:41:38.245Z"
   },
   {
    "duration": 33322,
    "start_time": "2021-07-18T10:41:41.955Z"
   },
   {
    "duration": 476,
    "start_time": "2021-07-18T10:42:15.279Z"
   },
   {
    "duration": 10,
    "start_time": "2021-07-18T10:42:15.757Z"
   }
  ],
  "kernelspec": {
   "display_name": "Python 3",
   "language": "python",
   "name": "python3"
  },
  "language_info": {
   "codemirror_mode": {
    "name": "ipython",
    "version": 3
   },
   "file_extension": ".py",
   "mimetype": "text/x-python",
   "name": "python",
   "nbconvert_exporter": "python",
   "pygments_lexer": "ipython3",
   "version": "3.7.10"
  },
  "toc": {
   "base_numbering": 1,
   "nav_menu": {},
   "number_sections": true,
   "sideBar": true,
   "skip_h1_title": true,
   "title_cell": "Содержание",
   "title_sidebar": "Contents",
   "toc_cell": true,
   "toc_position": {
    "height": "calc(100% - 180px)",
    "left": "10px",
    "top": "150px",
    "width": "384px"
   },
   "toc_section_display": true,
   "toc_window_display": true
  }
 },
 "nbformat": 4,
 "nbformat_minor": 2
}
