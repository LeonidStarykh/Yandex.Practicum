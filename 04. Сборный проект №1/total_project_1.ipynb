{
 "cells": [
  {
   "cell_type": "markdown",
   "metadata": {},
   "source": [
    "# Исследование популярности компьютерных игр"
   ]
  },
  {
   "cell_type": "markdown",
   "metadata": {},
   "source": [
    "Заказчик - интернет-магазин «Стримчик», который продаёт по всему миру компьютерные игры. Из открытых источников доступны исторические данные о продажах игр, оценки пользователей и экспертов, жанры и игровые платформы (например, Xbox или PlayStation). \n",
    "\n",
    "**Нам нужно выявить определяющие успешность игры закономерности.** Это позволит сделать ставку на потенциально популярный продукт и спланировать рекламные кампании.\n",
    "Перед нами данные до 2016 года. Представим, что сейчас декабрь 2016 г., и мы планируем кампанию на 2017-й. Нужно отработать принцип работы с данными. Неважно, прогнозируете ли мы продажи на 2017 год по данным 2016-го или же 2027-й — по данным 2026 года."
   ]
  },
  {
   "cell_type": "markdown",
   "metadata": {
    "toc": true
   },
   "source": [
    "<h1>Содержание<span class=\"tocSkip\"></span></h1>\n",
    "<div class=\"toc\"><ul class=\"toc-item\"><li><span><a href=\"#Изучение-общей-информации\" data-toc-modified-id=\"Изучение-общей-информации-1\"><span class=\"toc-item-num\">1&nbsp;&nbsp;</span>Изучение общей информации</a></span></li><li><span><a href=\"#Предобработка-данных\" data-toc-modified-id=\"Предобработка-данных-2\"><span class=\"toc-item-num\">2&nbsp;&nbsp;</span>Предобработка данных</a></span><ul class=\"toc-item\"><li><span><a href=\"#Преобразование-данных\" data-toc-modified-id=\"Преобразование-данных-2.1\"><span class=\"toc-item-num\">2.1&nbsp;&nbsp;</span>Преобразование данных</a></span></li><li><span><a href=\"#Обработка-пропущенных-значений\" data-toc-modified-id=\"Обработка-пропущенных-значений-2.2\"><span class=\"toc-item-num\">2.2&nbsp;&nbsp;</span>Обработка пропущенных значений</a></span></li><li><span><a href=\"#Преобразование-типов-данных\" data-toc-modified-id=\"Преобразование-типов-данных-2.3\"><span class=\"toc-item-num\">2.3&nbsp;&nbsp;</span>Преобразование типов данных</a></span></li><li><span><a href=\"#Обработка-дубликатов\" data-toc-modified-id=\"Обработка-дубликатов-2.4\"><span class=\"toc-item-num\">2.4&nbsp;&nbsp;</span>Обработка дубликатов</a></span></li><li><span><a href=\"#Проведение-дополнительных-расчетов\" data-toc-modified-id=\"Проведение-дополнительных-расчетов-2.5\"><span class=\"toc-item-num\">2.5&nbsp;&nbsp;</span>Проведение дополнительных расчетов</a></span></li></ul></li><li><span><a href=\"#Исследовательский-анализ\" data-toc-modified-id=\"Исследовательский-анализ-3\"><span class=\"toc-item-num\">3&nbsp;&nbsp;</span>Исследовательский анализ</a></span></li><li><span><a href=\"#Анализ-пользователей-различных-регионов\" data-toc-modified-id=\"Анализ-пользователей-различных-регионов-4\"><span class=\"toc-item-num\">4&nbsp;&nbsp;</span>Анализ пользователей различных регионов</a></span></li><li><span><a href=\"#Проверка-гипотез\" data-toc-modified-id=\"Проверка-гипотез-5\"><span class=\"toc-item-num\">5&nbsp;&nbsp;</span>Проверка гипотез</a></span></li><li><span><a href=\"#Общий-вывод\" data-toc-modified-id=\"Общий-вывод-6\"><span class=\"toc-item-num\">6&nbsp;&nbsp;</span>Общий вывод</a></span></li></ul></div>"
   ]
  },
  {
   "cell_type": "markdown",
   "metadata": {},
   "source": [
    "## Изучение общей информации"
   ]
  },
  {
   "cell_type": "code",
   "execution_count": 90,
   "metadata": {},
   "outputs": [],
   "source": [
    "import pandas as pd\n",
    "import numpy as np\n",
    "import matplotlib.pyplot as plt\n",
    "import scipy.stats as st\n",
    "import math as mt\n",
    "import warnings\n",
    "warnings.filterwarnings('ignore')"
   ]
  },
  {
   "cell_type": "markdown",
   "metadata": {},
   "source": [
    "Информация о продажах игр содержится в файле 'games.csv'. Преобразуем данные из файла в таблицу и посмотрим первые 5 строк:"
   ]
  },
  {
   "cell_type": "code",
   "execution_count": 2,
   "metadata": {},
   "outputs": [
    {
     "data": {
      "text/html": [
       "<div>\n",
       "<style scoped>\n",
       "    .dataframe tbody tr th:only-of-type {\n",
       "        vertical-align: middle;\n",
       "    }\n",
       "\n",
       "    .dataframe tbody tr th {\n",
       "        vertical-align: top;\n",
       "    }\n",
       "\n",
       "    .dataframe thead th {\n",
       "        text-align: right;\n",
       "    }\n",
       "</style>\n",
       "<table border=\"1\" class=\"dataframe\">\n",
       "  <thead>\n",
       "    <tr style=\"text-align: right;\">\n",
       "      <th></th>\n",
       "      <th>Name</th>\n",
       "      <th>Platform</th>\n",
       "      <th>Year_of_Release</th>\n",
       "      <th>Genre</th>\n",
       "      <th>NA_sales</th>\n",
       "      <th>EU_sales</th>\n",
       "      <th>JP_sales</th>\n",
       "      <th>Other_sales</th>\n",
       "      <th>Critic_Score</th>\n",
       "      <th>User_Score</th>\n",
       "      <th>Rating</th>\n",
       "    </tr>\n",
       "  </thead>\n",
       "  <tbody>\n",
       "    <tr>\n",
       "      <th>0</th>\n",
       "      <td>Wii Sports</td>\n",
       "      <td>Wii</td>\n",
       "      <td>2006.0</td>\n",
       "      <td>Sports</td>\n",
       "      <td>41.36</td>\n",
       "      <td>28.96</td>\n",
       "      <td>3.77</td>\n",
       "      <td>8.45</td>\n",
       "      <td>76.0</td>\n",
       "      <td>8</td>\n",
       "      <td>E</td>\n",
       "    </tr>\n",
       "    <tr>\n",
       "      <th>1</th>\n",
       "      <td>Super Mario Bros.</td>\n",
       "      <td>NES</td>\n",
       "      <td>1985.0</td>\n",
       "      <td>Platform</td>\n",
       "      <td>29.08</td>\n",
       "      <td>3.58</td>\n",
       "      <td>6.81</td>\n",
       "      <td>0.77</td>\n",
       "      <td>NaN</td>\n",
       "      <td>NaN</td>\n",
       "      <td>NaN</td>\n",
       "    </tr>\n",
       "    <tr>\n",
       "      <th>2</th>\n",
       "      <td>Mario Kart Wii</td>\n",
       "      <td>Wii</td>\n",
       "      <td>2008.0</td>\n",
       "      <td>Racing</td>\n",
       "      <td>15.68</td>\n",
       "      <td>12.76</td>\n",
       "      <td>3.79</td>\n",
       "      <td>3.29</td>\n",
       "      <td>82.0</td>\n",
       "      <td>8.3</td>\n",
       "      <td>E</td>\n",
       "    </tr>\n",
       "    <tr>\n",
       "      <th>3</th>\n",
       "      <td>Wii Sports Resort</td>\n",
       "      <td>Wii</td>\n",
       "      <td>2009.0</td>\n",
       "      <td>Sports</td>\n",
       "      <td>15.61</td>\n",
       "      <td>10.93</td>\n",
       "      <td>3.28</td>\n",
       "      <td>2.95</td>\n",
       "      <td>80.0</td>\n",
       "      <td>8</td>\n",
       "      <td>E</td>\n",
       "    </tr>\n",
       "    <tr>\n",
       "      <th>4</th>\n",
       "      <td>Pokemon Red/Pokemon Blue</td>\n",
       "      <td>GB</td>\n",
       "      <td>1996.0</td>\n",
       "      <td>Role-Playing</td>\n",
       "      <td>11.27</td>\n",
       "      <td>8.89</td>\n",
       "      <td>10.22</td>\n",
       "      <td>1.00</td>\n",
       "      <td>NaN</td>\n",
       "      <td>NaN</td>\n",
       "      <td>NaN</td>\n",
       "    </tr>\n",
       "  </tbody>\n",
       "</table>\n",
       "</div>"
      ],
      "text/plain": [
       "                       Name Platform  Year_of_Release         Genre  NA_sales  \\\n",
       "0                Wii Sports      Wii           2006.0        Sports     41.36   \n",
       "1         Super Mario Bros.      NES           1985.0      Platform     29.08   \n",
       "2            Mario Kart Wii      Wii           2008.0        Racing     15.68   \n",
       "3         Wii Sports Resort      Wii           2009.0        Sports     15.61   \n",
       "4  Pokemon Red/Pokemon Blue       GB           1996.0  Role-Playing     11.27   \n",
       "\n",
       "   EU_sales  JP_sales  Other_sales  Critic_Score User_Score Rating  \n",
       "0     28.96      3.77         8.45          76.0          8      E  \n",
       "1      3.58      6.81         0.77           NaN        NaN    NaN  \n",
       "2     12.76      3.79         3.29          82.0        8.3      E  \n",
       "3     10.93      3.28         2.95          80.0          8      E  \n",
       "4      8.89     10.22         1.00           NaN        NaN    NaN  "
      ]
     },
     "execution_count": 2,
     "metadata": {},
     "output_type": "execute_result"
    }
   ],
   "source": [
    "df = pd.read_csv('games.csv')\n",
    "df.head()"
   ]
  },
  {
   "cell_type": "markdown",
   "metadata": {},
   "source": [
    "**Описание данных:**\n",
    "- `Name` — название игры;\n",
    "- `Platform` — игровая платформа;\n",
    "- `Year_of_Release` — год выпуска;\n",
    "- `Genre` — жанр игры;\n",
    "- `NA_sales` — продажи в Северной Америке (миллионы проданных копий);\n",
    "- `EU_sales` — продажи в Европе (миллионы проданных копий);\n",
    "- `JP_sales` — продажи в Японии (миллионы проданных копий);\n",
    "- `Other_sales` — продажи в других странах (миллионы проданных копий);\n",
    "- `Critic_Score` — оценка критиков (максимум 100);\n",
    "- `User_Score` — оценка пользователей (максимум 10);\n",
    "- `Rating` — рейтинг от организации ESRB (англ. Entertainment Software Rating Board)."
   ]
  },
  {
   "cell_type": "markdown",
   "metadata": {},
   "source": [
    "Посмотрим общую информацию о данных в таблице, а также проверим наличие пропущенных значений."
   ]
  },
  {
   "cell_type": "code",
   "execution_count": 3,
   "metadata": {},
   "outputs": [
    {
     "name": "stdout",
     "output_type": "stream",
     "text": [
      "<class 'pandas.core.frame.DataFrame'>\n",
      "RangeIndex: 16715 entries, 0 to 16714\n",
      "Data columns (total 11 columns):\n",
      " #   Column           Non-Null Count  Dtype  \n",
      "---  ------           --------------  -----  \n",
      " 0   Name             16713 non-null  object \n",
      " 1   Platform         16715 non-null  object \n",
      " 2   Year_of_Release  16446 non-null  float64\n",
      " 3   Genre            16713 non-null  object \n",
      " 4   NA_sales         16715 non-null  float64\n",
      " 5   EU_sales         16715 non-null  float64\n",
      " 6   JP_sales         16715 non-null  float64\n",
      " 7   Other_sales      16715 non-null  float64\n",
      " 8   Critic_Score     8137 non-null   float64\n",
      " 9   User_Score       10014 non-null  object \n",
      " 10  Rating           9949 non-null   object \n",
      "dtypes: float64(6), object(5)\n",
      "memory usage: 1.4+ MB\n"
     ]
    }
   ],
   "source": [
    "df.info()"
   ]
  },
  {
   "cell_type": "markdown",
   "metadata": {},
   "source": [
    "Видим, что в таблице присутствуют пропуски, которые необходимо обработать. Также потребуется преобразование типов данных в столбцах `Year_of_Release` и `User_Score`. Наконец, для дальнейшего упрощения, преобразуем названия всех столбцов к нижнему регистру."
   ]
  },
  {
   "cell_type": "markdown",
   "metadata": {},
   "source": [
    "Проанализируем вариативность данных в столбцах `Platform`, `Genre`, `Critic_Score`, `User_Score` и `Rating`."
   ]
  },
  {
   "cell_type": "code",
   "execution_count": 4,
   "metadata": {},
   "outputs": [
    {
     "data": {
      "text/plain": [
       "array(['Wii', 'NES', 'GB', 'DS', 'X360', 'PS3', 'PS2', 'SNES', 'GBA',\n",
       "       'PS4', '3DS', 'N64', 'PS', 'XB', 'PC', '2600', 'PSP', 'XOne',\n",
       "       'WiiU', 'GC', 'GEN', 'DC', 'PSV', 'SAT', 'SCD', 'WS', 'NG', 'TG16',\n",
       "       '3DO', 'GG', 'PCFX'], dtype=object)"
      ]
     },
     "execution_count": 4,
     "metadata": {},
     "output_type": "execute_result"
    }
   ],
   "source": [
    "df['Platform'].unique()"
   ]
  },
  {
   "cell_type": "markdown",
   "metadata": {},
   "source": [
    "Данные в столбце `Platform` корректны. "
   ]
  },
  {
   "cell_type": "code",
   "execution_count": 5,
   "metadata": {},
   "outputs": [
    {
     "data": {
      "text/plain": [
       "array(['Sports', 'Platform', 'Racing', 'Role-Playing', 'Puzzle', 'Misc',\n",
       "       'Shooter', 'Simulation', 'Action', 'Fighting', 'Adventure',\n",
       "       'Strategy', nan], dtype=object)"
      ]
     },
     "execution_count": 5,
     "metadata": {},
     "output_type": "execute_result"
    }
   ],
   "source": [
    "df['Genre'].unique()"
   ]
  },
  {
   "cell_type": "markdown",
   "metadata": {},
   "source": [
    "В столбце `Genre`, кроме пропущенных значений, ошибочных данных нет."
   ]
  },
  {
   "cell_type": "code",
   "execution_count": 6,
   "metadata": {},
   "outputs": [
    {
     "data": {
      "text/plain": [
       "array([76., nan, 82., 80., 89., 58., 87., 91., 61., 97., 95., 77., 88.,\n",
       "       83., 94., 93., 85., 86., 98., 96., 90., 84., 73., 74., 78., 92.,\n",
       "       71., 72., 68., 62., 49., 67., 81., 66., 56., 79., 70., 59., 64.,\n",
       "       75., 60., 63., 69., 50., 25., 42., 44., 55., 48., 57., 29., 47.,\n",
       "       65., 54., 20., 53., 37., 38., 33., 52., 30., 32., 43., 45., 51.,\n",
       "       40., 46., 39., 34., 35., 41., 36., 28., 31., 27., 26., 19., 23.,\n",
       "       24., 21., 17., 22., 13.])"
      ]
     },
     "execution_count": 6,
     "metadata": {},
     "output_type": "execute_result"
    }
   ],
   "source": [
    "df['Critic_Score'].unique()"
   ]
  },
  {
   "cell_type": "code",
   "execution_count": 7,
   "metadata": {},
   "outputs": [
    {
     "data": {
      "text/plain": [
       "array(['8', nan, '8.3', '8.5', '6.6', '8.4', '8.6', '7.7', '6.3', '7.4',\n",
       "       '8.2', '9', '7.9', '8.1', '8.7', '7.1', '3.4', '5.3', '4.8', '3.2',\n",
       "       '8.9', '6.4', '7.8', '7.5', '2.6', '7.2', '9.2', '7', '7.3', '4.3',\n",
       "       '7.6', '5.7', '5', '9.1', '6.5', 'tbd', '8.8', '6.9', '9.4', '6.8',\n",
       "       '6.1', '6.7', '5.4', '4', '4.9', '4.5', '9.3', '6.2', '4.2', '6',\n",
       "       '3.7', '4.1', '5.8', '5.6', '5.5', '4.4', '4.6', '5.9', '3.9',\n",
       "       '3.1', '2.9', '5.2', '3.3', '4.7', '5.1', '3.5', '2.5', '1.9', '3',\n",
       "       '2.7', '2.2', '2', '9.5', '2.1', '3.6', '2.8', '1.8', '3.8', '0',\n",
       "       '1.6', '9.6', '2.4', '1.7', '1.1', '0.3', '1.5', '0.7', '1.2',\n",
       "       '2.3', '0.5', '1.3', '0.2', '0.6', '1.4', '0.9', '1', '9.7'],\n",
       "      dtype=object)"
      ]
     },
     "execution_count": 7,
     "metadata": {},
     "output_type": "execute_result"
    }
   ],
   "source": [
    "df['User_Score'].unique()"
   ]
  },
  {
   "cell_type": "markdown",
   "metadata": {},
   "source": [
    "В столбцах `Critic_Score` и `User_Score` требуется выполнить несколько преобразований. Во-первых, привести данные к единой балльной шкале, например к 10-балльной. Во-вторых, обработать значение 'tbd' в столбце `User_Score`, которое обозначает отсутствие рейтинга из-за малого количество оценок пользователей."
   ]
  },
  {
   "cell_type": "code",
   "execution_count": 8,
   "metadata": {},
   "outputs": [
    {
     "data": {
      "text/plain": [
       "array(['E', nan, 'M', 'T', 'E10+', 'K-A', 'AO', 'EC', 'RP'], dtype=object)"
      ]
     },
     "execution_count": 8,
     "metadata": {},
     "output_type": "execute_result"
    }
   ],
   "source": [
    "df['Rating'].unique()"
   ]
  },
  {
   "cell_type": "markdown",
   "metadata": {},
   "source": [
    "В этом столбце, кроме пропусков, требует внимания значение 'K-A'. До 1998 года оно использовалось для обозначения игр \"для всех\", а, в настоящее время, игры такой категории обозначают как 'E'. По этой причине, необходимо заменить 'K-A' на 'E'."
   ]
  },
  {
   "cell_type": "markdown",
   "metadata": {},
   "source": [
    "**Вывод** \n",
    "\n",
    "**Необходима предобработка данных, а именно:**\n",
    "1. Необходимо изменить названия столбцов - привести их к нижнему регистру.\n",
    "2. Разобраться с природой возникновения пропусков в столбцах `Name`, `Year_of_Release`, `Genre`, `Critic_Score`, `User_Score` и `Rating`.\n",
    "3. Преобразовать типы данных в столбцах `Year_of_Release` и `User_Score`.\n",
    "4. Преобразовать данные:\n",
    "    - в столбце `Critic_Score` данные привести к 10-балльной шкале;\n",
    "    - в столбце `User_Score` обработать значение 'tbd';\n",
    "    - в столбце `Rating` значение 'K-A' заменить на 'E'."
   ]
  },
  {
   "cell_type": "markdown",
   "metadata": {},
   "source": [
    "## Предобработка данных"
   ]
  },
  {
   "cell_type": "markdown",
   "metadata": {},
   "source": [
    "### Преобразование данных"
   ]
  },
  {
   "cell_type": "markdown",
   "metadata": {},
   "source": [
    "**Изменение названия столбцов**"
   ]
  },
  {
   "cell_type": "markdown",
   "metadata": {},
   "source": [
    "Изменим названия всех столбцов таблицы, а именно приведем их к нижнему регистру."
   ]
  },
  {
   "cell_type": "code",
   "execution_count": 9,
   "metadata": {},
   "outputs": [],
   "source": [
    "df.columns = df.columns.str.lower()"
   ]
  },
  {
   "cell_type": "code",
   "execution_count": 10,
   "metadata": {},
   "outputs": [
    {
     "data": {
      "text/plain": [
       "Index(['name', 'platform', 'year_of_release', 'genre', 'na_sales', 'eu_sales',\n",
       "       'jp_sales', 'other_sales', 'critic_score', 'user_score', 'rating'],\n",
       "      dtype='object')"
      ]
     },
     "execution_count": 10,
     "metadata": {},
     "output_type": "execute_result"
    }
   ],
   "source": [
    "# Проверяем\n",
    "df.columns"
   ]
  },
  {
   "cell_type": "markdown",
   "metadata": {},
   "source": [
    "**Преобразование значений столбца `critic_score`**"
   ]
  },
  {
   "cell_type": "markdown",
   "metadata": {},
   "source": [
    "Текущая ситуация такова, что шкалы оценок критиков и пользователей отличаются: критики оценивают игры по 100-балльной шкале, а пользователи - по 10-балльной. Удобнее, когда данные нормированы, т.е. приведены к единой форме. Поэтому переведем оценки критиков в 10-балльную шкалу. Для этого разделим все данные из `critic_score` на 10."
   ]
  },
  {
   "cell_type": "code",
   "execution_count": 11,
   "metadata": {},
   "outputs": [],
   "source": [
    "df['critic_score'] = df['critic_score']/10"
   ]
  },
  {
   "cell_type": "markdown",
   "metadata": {},
   "source": [
    "**Преобразование значений столбца `user_score`**"
   ]
  },
  {
   "cell_type": "markdown",
   "metadata": {},
   "source": [
    "Среди значений этого столбца выделяется 'tbd' (To Be Determined - Будет определено). Это означает, что какая-либо игра не получила рейтинг от пользователей из-за ничтожно малого количества оценок. Посмотрим сколько строк в таблице с таким значением рейтинга."
   ]
  },
  {
   "cell_type": "code",
   "execution_count": 12,
   "metadata": {},
   "outputs": [
    {
     "data": {
      "text/plain": [
       "0.1450194436135208"
      ]
     },
     "execution_count": 12,
     "metadata": {},
     "output_type": "execute_result"
    }
   ],
   "source": [
    "len(df.query('user_score==\"tbd\"'))/len(df)"
   ]
  },
  {
   "cell_type": "markdown",
   "metadata": {},
   "source": [
    "Таких строк слишком много, чтобы их отбросить. Заменить на '0' - также является не правильным решением, т.к. нам неизвестны причины получения игрой малого количества оценок, и может сложиться такая ситуация, что какая-либо игра получила только высокие оценки, но их количество не позволило присвоить рейтинг. \n",
    "\n",
    "Принимая во внимание то, что в рамках исследования, возможно, потребуется найти среднее значение рейтинга, заменим значение 'tbd' на пропуск (NaN-значение)."
   ]
  },
  {
   "cell_type": "code",
   "execution_count": 13,
   "metadata": {},
   "outputs": [],
   "source": [
    "df['user_score'] = df['user_score'].replace('tbd', np.nan)"
   ]
  },
  {
   "cell_type": "markdown",
   "metadata": {},
   "source": [
    "**Преобразование значений столбца `rating`**"
   ]
  },
  {
   "cell_type": "markdown",
   "metadata": {},
   "source": [
    "Как отмечалось выше, значение рейтинга ESRB 'K-A' является устаревшей формой современного значения 'E'. По этой причине, заменим 'K-A' на 'E'."
   ]
  },
  {
   "cell_type": "code",
   "execution_count": 14,
   "metadata": {},
   "outputs": [],
   "source": [
    "df['rating'] = df['rating'].replace('K-A', 'E')"
   ]
  },
  {
   "cell_type": "markdown",
   "metadata": {},
   "source": [
    "**Вывод**\n",
    "\n",
    "Произвели пребразование данных:\n",
    "- привели названия столбцов к нижнему регистру;\n",
    "- в столбце `critic_score` данные привели к 10-балльной шкале;\n",
    "- в столбце `user_score` обработали значение 'tbd', объяснили причины замены на NaN-значение;\n",
    "- в столбце `rating` значение 'K-A' заменили на 'E'."
   ]
  },
  {
   "cell_type": "markdown",
   "metadata": {},
   "source": [
    "### Обработка пропущенных значений"
   ]
  },
  {
   "cell_type": "markdown",
   "metadata": {},
   "source": [
    "Посмотрим в каких столбцах присутствуют пропущенные значения и как часто."
   ]
  },
  {
   "cell_type": "code",
   "execution_count": 15,
   "metadata": {},
   "outputs": [
    {
     "data": {
      "text/plain": [
       "name                  2\n",
       "platform              0\n",
       "year_of_release     269\n",
       "genre                 2\n",
       "na_sales              0\n",
       "eu_sales              0\n",
       "jp_sales              0\n",
       "other_sales           0\n",
       "critic_score       8578\n",
       "user_score         9125\n",
       "rating             6766\n",
       "dtype: int64"
      ]
     },
     "execution_count": 15,
     "metadata": {},
     "output_type": "execute_result"
    }
   ],
   "source": [
    "df.isna().sum()"
   ]
  },
  {
   "cell_type": "markdown",
   "metadata": {},
   "source": [
    "**Обработка пропусков в столбцах `name` и `genre`.**"
   ]
  },
  {
   "cell_type": "markdown",
   "metadata": {},
   "source": [
    "Посмотрим на строки, в которых присутствуют пропуски в столбце `name`."
   ]
  },
  {
   "cell_type": "code",
   "execution_count": 16,
   "metadata": {},
   "outputs": [
    {
     "data": {
      "text/html": [
       "<div>\n",
       "<style scoped>\n",
       "    .dataframe tbody tr th:only-of-type {\n",
       "        vertical-align: middle;\n",
       "    }\n",
       "\n",
       "    .dataframe tbody tr th {\n",
       "        vertical-align: top;\n",
       "    }\n",
       "\n",
       "    .dataframe thead th {\n",
       "        text-align: right;\n",
       "    }\n",
       "</style>\n",
       "<table border=\"1\" class=\"dataframe\">\n",
       "  <thead>\n",
       "    <tr style=\"text-align: right;\">\n",
       "      <th></th>\n",
       "      <th>name</th>\n",
       "      <th>platform</th>\n",
       "      <th>year_of_release</th>\n",
       "      <th>genre</th>\n",
       "      <th>na_sales</th>\n",
       "      <th>eu_sales</th>\n",
       "      <th>jp_sales</th>\n",
       "      <th>other_sales</th>\n",
       "      <th>critic_score</th>\n",
       "      <th>user_score</th>\n",
       "      <th>rating</th>\n",
       "    </tr>\n",
       "  </thead>\n",
       "  <tbody>\n",
       "    <tr>\n",
       "      <th>659</th>\n",
       "      <td>NaN</td>\n",
       "      <td>GEN</td>\n",
       "      <td>1993.0</td>\n",
       "      <td>NaN</td>\n",
       "      <td>1.78</td>\n",
       "      <td>0.53</td>\n",
       "      <td>0.00</td>\n",
       "      <td>0.08</td>\n",
       "      <td>NaN</td>\n",
       "      <td>NaN</td>\n",
       "      <td>NaN</td>\n",
       "    </tr>\n",
       "    <tr>\n",
       "      <th>14244</th>\n",
       "      <td>NaN</td>\n",
       "      <td>GEN</td>\n",
       "      <td>1993.0</td>\n",
       "      <td>NaN</td>\n",
       "      <td>0.00</td>\n",
       "      <td>0.00</td>\n",
       "      <td>0.03</td>\n",
       "      <td>0.00</td>\n",
       "      <td>NaN</td>\n",
       "      <td>NaN</td>\n",
       "      <td>NaN</td>\n",
       "    </tr>\n",
       "  </tbody>\n",
       "</table>\n",
       "</div>"
      ],
      "text/plain": [
       "      name platform  year_of_release genre  na_sales  eu_sales  jp_sales  \\\n",
       "659    NaN      GEN           1993.0   NaN      1.78      0.53      0.00   \n",
       "14244  NaN      GEN           1993.0   NaN      0.00      0.00      0.03   \n",
       "\n",
       "       other_sales  critic_score user_score rating  \n",
       "659           0.08           NaN        NaN    NaN  \n",
       "14244         0.00           NaN        NaN    NaN  "
      ]
     },
     "execution_count": 16,
     "metadata": {},
     "output_type": "execute_result"
    }
   ],
   "source": [
    "df.query('name.isna()')"
   ]
  },
  {
   "cell_type": "markdown",
   "metadata": {},
   "source": [
    "Замечаем, что пропуски в столбцах `name` и `genre` парные. Причиной мог быть технический сбой или человеческий фактор. Мы не можем предположить на основе имеющейся у нас информации, что это за игры и какого они жанра, поэтому уберем эти строки из рассматриваемой таблицы."
   ]
  },
  {
   "cell_type": "code",
   "execution_count": 17,
   "metadata": {},
   "outputs": [],
   "source": [
    "df = df.dropna(subset=['name']).reset_index(drop=True)"
   ]
  },
  {
   "cell_type": "markdown",
   "metadata": {},
   "source": [
    "**Обработка пропусков в столбце `year_of_release`.** "
   ]
  },
  {
   "cell_type": "markdown",
   "metadata": {},
   "source": [
    "Выведем некоторые строки, содержащие пропущенные значения в столбце `year_of_release`."
   ]
  },
  {
   "cell_type": "code",
   "execution_count": 18,
   "metadata": {},
   "outputs": [
    {
     "data": {
      "text/html": [
       "<div>\n",
       "<style scoped>\n",
       "    .dataframe tbody tr th:only-of-type {\n",
       "        vertical-align: middle;\n",
       "    }\n",
       "\n",
       "    .dataframe tbody tr th {\n",
       "        vertical-align: top;\n",
       "    }\n",
       "\n",
       "    .dataframe thead th {\n",
       "        text-align: right;\n",
       "    }\n",
       "</style>\n",
       "<table border=\"1\" class=\"dataframe\">\n",
       "  <thead>\n",
       "    <tr style=\"text-align: right;\">\n",
       "      <th></th>\n",
       "      <th>name</th>\n",
       "      <th>platform</th>\n",
       "      <th>year_of_release</th>\n",
       "      <th>genre</th>\n",
       "      <th>na_sales</th>\n",
       "      <th>eu_sales</th>\n",
       "      <th>jp_sales</th>\n",
       "      <th>other_sales</th>\n",
       "      <th>critic_score</th>\n",
       "      <th>user_score</th>\n",
       "      <th>rating</th>\n",
       "    </tr>\n",
       "  </thead>\n",
       "  <tbody>\n",
       "    <tr>\n",
       "      <th>183</th>\n",
       "      <td>Madden NFL 2004</td>\n",
       "      <td>PS2</td>\n",
       "      <td>NaN</td>\n",
       "      <td>Sports</td>\n",
       "      <td>4.26</td>\n",
       "      <td>0.26</td>\n",
       "      <td>0.01</td>\n",
       "      <td>0.71</td>\n",
       "      <td>9.4</td>\n",
       "      <td>8.5</td>\n",
       "      <td>E</td>\n",
       "    </tr>\n",
       "    <tr>\n",
       "      <th>377</th>\n",
       "      <td>FIFA Soccer 2004</td>\n",
       "      <td>PS2</td>\n",
       "      <td>NaN</td>\n",
       "      <td>Sports</td>\n",
       "      <td>0.59</td>\n",
       "      <td>2.36</td>\n",
       "      <td>0.04</td>\n",
       "      <td>0.51</td>\n",
       "      <td>8.4</td>\n",
       "      <td>6.4</td>\n",
       "      <td>E</td>\n",
       "    </tr>\n",
       "    <tr>\n",
       "      <th>456</th>\n",
       "      <td>LEGO Batman: The Videogame</td>\n",
       "      <td>Wii</td>\n",
       "      <td>NaN</td>\n",
       "      <td>Action</td>\n",
       "      <td>1.80</td>\n",
       "      <td>0.97</td>\n",
       "      <td>0.00</td>\n",
       "      <td>0.29</td>\n",
       "      <td>7.4</td>\n",
       "      <td>7.9</td>\n",
       "      <td>E10+</td>\n",
       "    </tr>\n",
       "    <tr>\n",
       "      <th>475</th>\n",
       "      <td>wwe Smackdown vs. Raw 2006</td>\n",
       "      <td>PS2</td>\n",
       "      <td>NaN</td>\n",
       "      <td>Fighting</td>\n",
       "      <td>1.57</td>\n",
       "      <td>1.02</td>\n",
       "      <td>0.00</td>\n",
       "      <td>0.41</td>\n",
       "      <td>NaN</td>\n",
       "      <td>NaN</td>\n",
       "      <td>NaN</td>\n",
       "    </tr>\n",
       "    <tr>\n",
       "      <th>609</th>\n",
       "      <td>Space Invaders</td>\n",
       "      <td>2600</td>\n",
       "      <td>NaN</td>\n",
       "      <td>Shooter</td>\n",
       "      <td>2.36</td>\n",
       "      <td>0.14</td>\n",
       "      <td>0.00</td>\n",
       "      <td>0.03</td>\n",
       "      <td>NaN</td>\n",
       "      <td>NaN</td>\n",
       "      <td>NaN</td>\n",
       "    </tr>\n",
       "  </tbody>\n",
       "</table>\n",
       "</div>"
      ],
      "text/plain": [
       "                           name platform  year_of_release     genre  na_sales  \\\n",
       "183             Madden NFL 2004      PS2              NaN    Sports      4.26   \n",
       "377            FIFA Soccer 2004      PS2              NaN    Sports      0.59   \n",
       "456  LEGO Batman: The Videogame      Wii              NaN    Action      1.80   \n",
       "475  wwe Smackdown vs. Raw 2006      PS2              NaN  Fighting      1.57   \n",
       "609              Space Invaders     2600              NaN   Shooter      2.36   \n",
       "\n",
       "     eu_sales  jp_sales  other_sales  critic_score user_score rating  \n",
       "183      0.26      0.01         0.71           9.4        8.5      E  \n",
       "377      2.36      0.04         0.51           8.4        6.4      E  \n",
       "456      0.97      0.00         0.29           7.4        7.9   E10+  \n",
       "475      1.02      0.00         0.41           NaN        NaN    NaN  \n",
       "609      0.14      0.00         0.03           NaN        NaN    NaN  "
      ]
     },
     "execution_count": 18,
     "metadata": {},
     "output_type": "execute_result"
    }
   ],
   "source": [
    "df.query('year_of_release.isna()').head()"
   ]
  },
  {
   "cell_type": "markdown",
   "metadata": {},
   "source": [
    "Отметим интересный момент: среди выведенных строк присутствуют довольно популярные игры (например, 'FIFA Soccer 2004'). Обычно, игры выпускаются сразу на нескольких платформах. Посмотрим информацию, для примера, об одной игре, бывшей популярной в свое время."
   ]
  },
  {
   "cell_type": "code",
   "execution_count": 19,
   "metadata": {},
   "outputs": [
    {
     "data": {
      "text/html": [
       "<div>\n",
       "<style scoped>\n",
       "    .dataframe tbody tr th:only-of-type {\n",
       "        vertical-align: middle;\n",
       "    }\n",
       "\n",
       "    .dataframe tbody tr th {\n",
       "        vertical-align: top;\n",
       "    }\n",
       "\n",
       "    .dataframe thead th {\n",
       "        text-align: right;\n",
       "    }\n",
       "</style>\n",
       "<table border=\"1\" class=\"dataframe\">\n",
       "  <thead>\n",
       "    <tr style=\"text-align: right;\">\n",
       "      <th></th>\n",
       "      <th>name</th>\n",
       "      <th>platform</th>\n",
       "      <th>year_of_release</th>\n",
       "      <th>genre</th>\n",
       "      <th>na_sales</th>\n",
       "      <th>eu_sales</th>\n",
       "      <th>jp_sales</th>\n",
       "      <th>other_sales</th>\n",
       "      <th>critic_score</th>\n",
       "      <th>user_score</th>\n",
       "      <th>rating</th>\n",
       "    </tr>\n",
       "  </thead>\n",
       "  <tbody>\n",
       "    <tr>\n",
       "      <th>377</th>\n",
       "      <td>FIFA Soccer 2004</td>\n",
       "      <td>PS2</td>\n",
       "      <td>NaN</td>\n",
       "      <td>Sports</td>\n",
       "      <td>0.59</td>\n",
       "      <td>2.36</td>\n",
       "      <td>0.04</td>\n",
       "      <td>0.51</td>\n",
       "      <td>8.4</td>\n",
       "      <td>6.4</td>\n",
       "      <td>E</td>\n",
       "    </tr>\n",
       "    <tr>\n",
       "      <th>2605</th>\n",
       "      <td>FIFA Soccer 2004</td>\n",
       "      <td>XB</td>\n",
       "      <td>2003.0</td>\n",
       "      <td>Sports</td>\n",
       "      <td>0.24</td>\n",
       "      <td>0.49</td>\n",
       "      <td>0.00</td>\n",
       "      <td>0.05</td>\n",
       "      <td>8.2</td>\n",
       "      <td>8.2</td>\n",
       "      <td>E</td>\n",
       "    </tr>\n",
       "    <tr>\n",
       "      <th>12028</th>\n",
       "      <td>FIFA Soccer 2004</td>\n",
       "      <td>GC</td>\n",
       "      <td>2003.0</td>\n",
       "      <td>Sports</td>\n",
       "      <td>0.05</td>\n",
       "      <td>0.01</td>\n",
       "      <td>0.00</td>\n",
       "      <td>0.00</td>\n",
       "      <td>8.3</td>\n",
       "      <td>6.2</td>\n",
       "      <td>E</td>\n",
       "    </tr>\n",
       "    <tr>\n",
       "      <th>13085</th>\n",
       "      <td>FIFA Soccer 2004</td>\n",
       "      <td>GBA</td>\n",
       "      <td>2003.0</td>\n",
       "      <td>Sports</td>\n",
       "      <td>0.04</td>\n",
       "      <td>0.01</td>\n",
       "      <td>0.00</td>\n",
       "      <td>0.00</td>\n",
       "      <td>8.2</td>\n",
       "      <td>7.9</td>\n",
       "      <td>E</td>\n",
       "    </tr>\n",
       "  </tbody>\n",
       "</table>\n",
       "</div>"
      ],
      "text/plain": [
       "                   name platform  year_of_release   genre  na_sales  eu_sales  \\\n",
       "377    FIFA Soccer 2004      PS2              NaN  Sports      0.59      2.36   \n",
       "2605   FIFA Soccer 2004       XB           2003.0  Sports      0.24      0.49   \n",
       "12028  FIFA Soccer 2004       GC           2003.0  Sports      0.05      0.01   \n",
       "13085  FIFA Soccer 2004      GBA           2003.0  Sports      0.04      0.01   \n",
       "\n",
       "       jp_sales  other_sales  critic_score user_score rating  \n",
       "377        0.04         0.51           8.4        6.4      E  \n",
       "2605       0.00         0.05           8.2        8.2      E  \n",
       "12028      0.00         0.00           8.3        6.2      E  \n",
       "13085      0.00         0.00           8.2        7.9      E  "
      ]
     },
     "execution_count": 19,
     "metadata": {},
     "output_type": "execute_result"
    }
   ],
   "source": [
    "df.query('name==\"FIFA Soccer 2004\"')"
   ]
  },
  {
   "cell_type": "markdown",
   "metadata": {},
   "source": [
    "Видим, что год выпуска не указан только для одной игровой платформы. Конечно возможны случаи, когда одна и та же игра для разных платформ выходила в разные годы, но это редкие события и разница в датах выхода не превышает 1-2 лет. Также возможна ситуация, когда в таблице присутствует информация об игре только для одной игровой платформы и год выпуска пропущен, тогда, в этом случае, удалим строку из таблицы."
   ]
  },
  {
   "cell_type": "markdown",
   "metadata": {},
   "source": [
    "Можем попробовать заполнить пропуски (часть пропусков) в столбце по следующему алгоритму:\n",
    "1. Определим список игр из таблицы, для которых не указан год выпуска для каких-либо игровых платформ.\n",
    "2. Выведем все данные из таблицы для игр из списка, определенного в п.1.\n",
    "3. Определим, где это возможно, год выпуска игры.\n",
    "    - если для какой-либо конкретной игры годы выпуска для различных игровых платформ различаются, то год выпуска определим как среднее значение (для избежания дробного значения года выпуска - используем медианное значение)\n",
    "4. Заменим пропуски на найденные в п.3 значения."
   ]
  },
  {
   "cell_type": "code",
   "execution_count": 20,
   "metadata": {},
   "outputs": [
    {
     "data": {
      "text/plain": [
       "array(['Madden NFL 2004', 'FIFA Soccer 2004',\n",
       "       'LEGO Batman: The Videogame', 'wwe Smackdown vs. Raw 2006',\n",
       "       'Space Invaders'], dtype=object)"
      ]
     },
     "execution_count": 20,
     "metadata": {},
     "output_type": "execute_result"
    }
   ],
   "source": [
    "# Игры, для которых не указан год выпуска для какой-либо платформы\n",
    "games_no_year = df.query('year_of_release.isna()')['name'].unique()\n",
    "games_no_year[:5]"
   ]
  },
  {
   "cell_type": "markdown",
   "metadata": {},
   "source": [
    "Теперь для этих игр выведем всю информацию из таблицы и определим год выпуска игры, согласно алгоритму, описанному выше."
   ]
  },
  {
   "cell_type": "code",
   "execution_count": 21,
   "metadata": {},
   "outputs": [
    {
     "data": {
      "text/plain": [
       "name\n",
       "AKB1/48: Idol to Guam de Koishitara...    2011.0\n",
       "Aquaman: Battle for Atlantis              2003.0\n",
       "Battle vs. Chess                          2011.0\n",
       "Bejeweled 3                               2010.0\n",
       "BioShock 2                                2010.0\n",
       "                                           ...  \n",
       "WRC: FIA World Rally Championship         2005.0\n",
       "Wet                                       2009.0\n",
       "Wheel of Fortune                          2004.0\n",
       "Without Warning                           2005.0\n",
       "World of Tanks                            2011.0\n",
       "Name: year_of_release, Length: 99, dtype: float64"
      ]
     },
     "execution_count": 21,
     "metadata": {},
     "output_type": "execute_result"
    }
   ],
   "source": [
    "game_year = ( \n",
    "    df\n",
    "    .query('name in @games_no_year and not year_of_release.isna()')\n",
    "    .groupby('name')['year_of_release']\n",
    "    .median()\n",
    ")\n",
    "game_year"
   ]
  },
  {
   "cell_type": "markdown",
   "metadata": {},
   "source": [
    "Чтобы заполнить пропуски, сначала заменим их на '0', а затем, с помощью функции 'add_year', заменим '0' на значения из таблицы 'game_year'."
   ]
  },
  {
   "cell_type": "code",
   "execution_count": 22,
   "metadata": {},
   "outputs": [],
   "source": [
    "#Заполним пропуски нулями в столбце 'year_of_release'\n",
    "df['year_of_release'] = df['year_of_release'].fillna(0)"
   ]
  },
  {
   "cell_type": "code",
   "execution_count": 23,
   "metadata": {},
   "outputs": [],
   "source": [
    "#Функция на вход получает строку таблицы и если в столбце 'year_of_release' стоит 0, \n",
    "#то меняет его на значение из таблицы 'game_year'\n",
    "def add_year(row):\n",
    "    game_name = row['name']\n",
    "    year = row['year_of_release']\n",
    "    if year == 0 and (game_name in game_year.index):\n",
    "        return game_year[game_name]\n",
    "    else:\n",
    "        return year"
   ]
  },
  {
   "cell_type": "code",
   "execution_count": 24,
   "metadata": {},
   "outputs": [],
   "source": [
    "#Применяем функцию для каждой строки таблицы\n",
    "df['year_of_release'] = df.apply(add_year, axis=1)"
   ]
  },
  {
   "cell_type": "markdown",
   "metadata": {},
   "source": [
    "Уберем строки, в которых в столбце `year_of_release` остались нулевые значения."
   ]
  },
  {
   "cell_type": "code",
   "execution_count": 25,
   "metadata": {},
   "outputs": [],
   "source": [
    "df = df.query('year_of_release !=0').reset_index(drop=True)"
   ]
  },
  {
   "cell_type": "markdown",
   "metadata": {},
   "source": [
    "**Обработка пропусков в столбцах `critic_score` и `user_score`.** "
   ]
  },
  {
   "cell_type": "code",
   "execution_count": 26,
   "metadata": {},
   "outputs": [
    {
     "data": {
      "text/plain": [
       "8492"
      ]
     },
     "execution_count": 26,
     "metadata": {},
     "output_type": "execute_result"
    }
   ],
   "source": [
    "df.isna().sum()['critic_score']"
   ]
  },
  {
   "cell_type": "code",
   "execution_count": 27,
   "metadata": {},
   "outputs": [
    {
     "data": {
      "text/plain": [
       "9027"
      ]
     },
     "execution_count": 27,
     "metadata": {},
     "output_type": "execute_result"
    }
   ],
   "source": [
    "df.isna().sum()['user_score']"
   ]
  },
  {
   "cell_type": "markdown",
   "metadata": {},
   "source": [
    "В этих столбцах оставим пропуски без изменений. Первая причина - их большое количество, удаление приведет к потере значимого количества данных. Вторая причина - заполнение пропусков, например, средним значением приведет к искажению общей картины популярности игр."
   ]
  },
  {
   "cell_type": "markdown",
   "metadata": {},
   "source": [
    "**Обработка пропусков в столбце `rating`.** "
   ]
  },
  {
   "cell_type": "markdown",
   "metadata": {},
   "source": [
    "Для заполнения части пропусков в этом столбце, применим способ, использованный для столбца `year_of_release`, т.к. можем предположить, что рейтинг ESRB не указан только для одной определенной платформы. Также будем считать, что рейтинг для одной и той же игры для всех платформ одинаковый."
   ]
  },
  {
   "cell_type": "code",
   "execution_count": 28,
   "metadata": {},
   "outputs": [
    {
     "data": {
      "text/plain": [
       "array(['Super Mario Bros.', 'Pokemon Red/Pokemon Blue', 'Tetris',\n",
       "       'Duck Hunt', 'Nintendogs'], dtype=object)"
      ]
     },
     "execution_count": 28,
     "metadata": {},
     "output_type": "execute_result"
    }
   ],
   "source": [
    "# Игры, для которых не указан рейтинг ESRB\n",
    "game_no_rating = df.query('rating.isna()')['name'].unique()\n",
    "game_no_rating[:5]"
   ]
  },
  {
   "cell_type": "markdown",
   "metadata": {},
   "source": [
    "Теперь для этих игр выведем всю информацию из таблицы и определим год рейтинг ESRB согласно алгоритму."
   ]
  },
  {
   "cell_type": "code",
   "execution_count": 29,
   "metadata": {},
   "outputs": [
    {
     "data": {
      "text/plain": [
       "name\n",
       "007: Quantum of Solace               T\n",
       "007: The World is not Enough         T\n",
       "50 Cent: Bulletproof                 M\n",
       "50 Classic Games                     E\n",
       "Agatha Christie's The ABC Murders    T\n",
       "                                    ..\n",
       "Yogi Bear: The Video Game            E\n",
       "Yoostar2                             T\n",
       "You Don't Know Jack                  T\n",
       "ZombiU                               M\n",
       "pro evolution soccer 2011            E\n",
       "Name: rating, Length: 359, dtype: object"
      ]
     },
     "execution_count": 29,
     "metadata": {},
     "output_type": "execute_result"
    }
   ],
   "source": [
    "game_rating = ( \n",
    "    df\n",
    "    .query('name in @game_no_rating and not rating.isna()')[['name', 'rating']]\n",
    "    .drop_duplicates()\n",
    "    .groupby('name')['rating']\n",
    "    .agg('first')\n",
    ")\n",
    "game_rating"
   ]
  },
  {
   "cell_type": "code",
   "execution_count": 30,
   "metadata": {},
   "outputs": [],
   "source": [
    "#Заполним пропуски нулями в столбце 'rating'\n",
    "df['rating'] = df['rating'].fillna(0)"
   ]
  },
  {
   "cell_type": "code",
   "execution_count": 31,
   "metadata": {},
   "outputs": [],
   "source": [
    "#Функция на вход получает строку таблицы и если в столбце 'rating' стоит 0, \n",
    "#то меняет его на медианное значение из таблицы 'game_rating'\n",
    "def add_rating(row):\n",
    "    game_name = row['name']\n",
    "    rate = row['rating']\n",
    "    if rate == 0 and (game_name in game_rating.index):\n",
    "        return game_rating[game_name]\n",
    "    else:\n",
    "        return rate"
   ]
  },
  {
   "cell_type": "code",
   "execution_count": 32,
   "metadata": {},
   "outputs": [],
   "source": [
    "#Применяем функцию для каждой строки таблицы\n",
    "df['rating'] = df.apply(add_rating, axis=1)"
   ]
  },
  {
   "cell_type": "markdown",
   "metadata": {},
   "source": [
    "Строки, в которых не удалось заменить '0' на значение из таблицы `game_rating` удалять не будем. Вместо этого заменим '0' на 'undef'."
   ]
  },
  {
   "cell_type": "code",
   "execution_count": 33,
   "metadata": {},
   "outputs": [],
   "source": [
    "df['rating'] = df['rating'].replace(0, 'undef')"
   ]
  },
  {
   "cell_type": "markdown",
   "metadata": {},
   "source": [
    "После всех преобразований получаем следующее количество пропусков:"
   ]
  },
  {
   "cell_type": "code",
   "execution_count": 34,
   "metadata": {},
   "outputs": [
    {
     "data": {
      "text/plain": [
       "name                  0\n",
       "platform              0\n",
       "year_of_release       0\n",
       "genre                 0\n",
       "na_sales              0\n",
       "eu_sales              0\n",
       "jp_sales              0\n",
       "other_sales           0\n",
       "critic_score       8492\n",
       "user_score         9027\n",
       "rating                0\n",
       "dtype: int64"
      ]
     },
     "execution_count": 34,
     "metadata": {},
     "output_type": "execute_result"
    }
   ],
   "source": [
    "df.isna().sum()"
   ]
  },
  {
   "cell_type": "markdown",
   "metadata": {},
   "source": [
    "**Вывод**\n",
    "\n",
    "Разобрались с пропущенными значениями, объяснили причины их возникновения. В столбцах `name` и `genre` пропусков было всего 2, поэтому приняли решение их удалить. В столбцах `year_of_release` и `rating`, где это было возможно, заменили пропущенные значения на данные, соответствующие конкретным играм. Пропуски в `critic_score` и `user_score` оставили без внимания, т.к. их появление объясняется банальным отсутствием оценок. "
   ]
  },
  {
   "cell_type": "markdown",
   "metadata": {},
   "source": [
    "### Преобразование типов данных"
   ]
  },
  {
   "cell_type": "markdown",
   "metadata": {},
   "source": [
    "Посмотрим на типы данных, присутствующие в рассматриваемом датафрейме."
   ]
  },
  {
   "cell_type": "code",
   "execution_count": 35,
   "metadata": {},
   "outputs": [
    {
     "data": {
      "text/plain": [
       "name                object\n",
       "platform            object\n",
       "year_of_release    float64\n",
       "genre               object\n",
       "na_sales           float64\n",
       "eu_sales           float64\n",
       "jp_sales           float64\n",
       "other_sales        float64\n",
       "critic_score       float64\n",
       "user_score          object\n",
       "rating              object\n",
       "dtype: object"
      ]
     },
     "execution_count": 35,
     "metadata": {},
     "output_type": "execute_result"
    }
   ],
   "source": [
    "df.dtypes"
   ]
  },
  {
   "cell_type": "markdown",
   "metadata": {},
   "source": [
    "Преобразуем типы данных в следующих столбцах:\n",
    "1. `year_of_release` в челочисленный ('int'), т.к. столбец содержит год выпуска, который не может быть дробным.\n",
    "2. `user_score` в числовой ('float'), потому что в столбце содержится оценка игры в числовом формате."
   ]
  },
  {
   "cell_type": "code",
   "execution_count": 36,
   "metadata": {},
   "outputs": [],
   "source": [
    "df['year_of_release'] = df['year_of_release'].astype('int')"
   ]
  },
  {
   "cell_type": "code",
   "execution_count": 37,
   "metadata": {},
   "outputs": [],
   "source": [
    "df['user_score'] = df['user_score'].astype('float')"
   ]
  },
  {
   "cell_type": "code",
   "execution_count": 38,
   "metadata": {},
   "outputs": [
    {
     "data": {
      "text/plain": [
       "name                object\n",
       "platform            object\n",
       "year_of_release      int32\n",
       "genre               object\n",
       "na_sales           float64\n",
       "eu_sales           float64\n",
       "jp_sales           float64\n",
       "other_sales        float64\n",
       "critic_score       float64\n",
       "user_score         float64\n",
       "rating              object\n",
       "dtype: object"
      ]
     },
     "execution_count": 38,
     "metadata": {},
     "output_type": "execute_result"
    }
   ],
   "source": [
    "# проверяем\n",
    "df.dtypes"
   ]
  },
  {
   "cell_type": "markdown",
   "metadata": {},
   "source": [
    "**Вывод**\n",
    "\n",
    "Преобразовали типы данных в столбцах `year_of_release` и `user_score` на более подходящие. Объяснили причины данных преобразований."
   ]
  },
  {
   "cell_type": "markdown",
   "metadata": {},
   "source": [
    "### Обработка дубликатов"
   ]
  },
  {
   "cell_type": "markdown",
   "metadata": {},
   "source": [
    "Проверим, нет ли таких записей в датафрейме, у которых название игры (`name`), игровая платформа (`platform`) и год выхода игры (`year_of_release`) совпадают. Для этого выделим из исследуемого массива данных только три перечисленных столбца и проверим наличие дубликатов."
   ]
  },
  {
   "cell_type": "code",
   "execution_count": 39,
   "metadata": {},
   "outputs": [],
   "source": [
    "df1 = df[['name', 'platform', 'year_of_release']]"
   ]
  },
  {
   "cell_type": "code",
   "execution_count": 40,
   "metadata": {},
   "outputs": [
    {
     "data": {
      "text/plain": [
       "2"
      ]
     },
     "execution_count": 40,
     "metadata": {},
     "output_type": "execute_result"
    }
   ],
   "source": [
    "df1.duplicated().sum()"
   ]
  },
  {
   "cell_type": "markdown",
   "metadata": {},
   "source": [
    "Получили два дублирующих значения. Определим, что это за игры."
   ]
  },
  {
   "cell_type": "code",
   "execution_count": 41,
   "metadata": {},
   "outputs": [
    {
     "data": {
      "text/html": [
       "<div>\n",
       "<style scoped>\n",
       "    .dataframe tbody tr th:only-of-type {\n",
       "        vertical-align: middle;\n",
       "    }\n",
       "\n",
       "    .dataframe tbody tr th {\n",
       "        vertical-align: top;\n",
       "    }\n",
       "\n",
       "    .dataframe thead th {\n",
       "        text-align: right;\n",
       "    }\n",
       "</style>\n",
       "<table border=\"1\" class=\"dataframe\">\n",
       "  <thead>\n",
       "    <tr style=\"text-align: right;\">\n",
       "      <th></th>\n",
       "      <th>name</th>\n",
       "      <th>platform</th>\n",
       "      <th>year_of_release</th>\n",
       "    </tr>\n",
       "  </thead>\n",
       "  <tbody>\n",
       "    <tr>\n",
       "      <th>4106</th>\n",
       "      <td>Sonic the Hedgehog</td>\n",
       "      <td>PS3</td>\n",
       "      <td>2006</td>\n",
       "    </tr>\n",
       "    <tr>\n",
       "      <th>16087</th>\n",
       "      <td>Madden NFL 13</td>\n",
       "      <td>PS3</td>\n",
       "      <td>2012</td>\n",
       "    </tr>\n",
       "  </tbody>\n",
       "</table>\n",
       "</div>"
      ],
      "text/plain": [
       "                     name platform  year_of_release\n",
       "4106   Sonic the Hedgehog      PS3             2006\n",
       "16087       Madden NFL 13      PS3             2012"
      ]
     },
     "execution_count": 41,
     "metadata": {},
     "output_type": "execute_result"
    }
   ],
   "source": [
    "df1.loc[df1.duplicated()==True]"
   ]
  },
  {
   "cell_type": "markdown",
   "metadata": {},
   "source": [
    "Посмотрим на эти игры в исследуемом датафрейме `df`."
   ]
  },
  {
   "cell_type": "code",
   "execution_count": 42,
   "metadata": {},
   "outputs": [
    {
     "data": {
      "text/html": [
       "<div>\n",
       "<style scoped>\n",
       "    .dataframe tbody tr th:only-of-type {\n",
       "        vertical-align: middle;\n",
       "    }\n",
       "\n",
       "    .dataframe tbody tr th {\n",
       "        vertical-align: top;\n",
       "    }\n",
       "\n",
       "    .dataframe thead th {\n",
       "        text-align: right;\n",
       "    }\n",
       "</style>\n",
       "<table border=\"1\" class=\"dataframe\">\n",
       "  <thead>\n",
       "    <tr style=\"text-align: right;\">\n",
       "      <th></th>\n",
       "      <th>name</th>\n",
       "      <th>platform</th>\n",
       "      <th>year_of_release</th>\n",
       "      <th>genre</th>\n",
       "      <th>na_sales</th>\n",
       "      <th>eu_sales</th>\n",
       "      <th>jp_sales</th>\n",
       "      <th>other_sales</th>\n",
       "      <th>critic_score</th>\n",
       "      <th>user_score</th>\n",
       "      <th>rating</th>\n",
       "    </tr>\n",
       "  </thead>\n",
       "  <tbody>\n",
       "    <tr>\n",
       "      <th>257</th>\n",
       "      <td>Sonic the Hedgehog</td>\n",
       "      <td>GEN</td>\n",
       "      <td>1991</td>\n",
       "      <td>Platform</td>\n",
       "      <td>3.03</td>\n",
       "      <td>0.91</td>\n",
       "      <td>0.26</td>\n",
       "      <td>0.13</td>\n",
       "      <td>NaN</td>\n",
       "      <td>NaN</td>\n",
       "      <td>E10+</td>\n",
       "    </tr>\n",
       "    <tr>\n",
       "      <th>1736</th>\n",
       "      <td>Sonic the Hedgehog</td>\n",
       "      <td>PS3</td>\n",
       "      <td>2006</td>\n",
       "      <td>Platform</td>\n",
       "      <td>0.41</td>\n",
       "      <td>0.06</td>\n",
       "      <td>0.04</td>\n",
       "      <td>0.66</td>\n",
       "      <td>4.3</td>\n",
       "      <td>4.1</td>\n",
       "      <td>E10+</td>\n",
       "    </tr>\n",
       "    <tr>\n",
       "      <th>1985</th>\n",
       "      <td>Sonic the Hedgehog</td>\n",
       "      <td>X360</td>\n",
       "      <td>2006</td>\n",
       "      <td>Platform</td>\n",
       "      <td>0.44</td>\n",
       "      <td>0.48</td>\n",
       "      <td>0.00</td>\n",
       "      <td>0.11</td>\n",
       "      <td>4.6</td>\n",
       "      <td>4.4</td>\n",
       "      <td>E10+</td>\n",
       "    </tr>\n",
       "    <tr>\n",
       "      <th>4106</th>\n",
       "      <td>Sonic the Hedgehog</td>\n",
       "      <td>PS3</td>\n",
       "      <td>2006</td>\n",
       "      <td>Platform</td>\n",
       "      <td>0.00</td>\n",
       "      <td>0.48</td>\n",
       "      <td>0.00</td>\n",
       "      <td>0.00</td>\n",
       "      <td>4.3</td>\n",
       "      <td>4.1</td>\n",
       "      <td>E10+</td>\n",
       "    </tr>\n",
       "  </tbody>\n",
       "</table>\n",
       "</div>"
      ],
      "text/plain": [
       "                    name platform  year_of_release     genre  na_sales  \\\n",
       "257   Sonic the Hedgehog      GEN             1991  Platform      3.03   \n",
       "1736  Sonic the Hedgehog      PS3             2006  Platform      0.41   \n",
       "1985  Sonic the Hedgehog     X360             2006  Platform      0.44   \n",
       "4106  Sonic the Hedgehog      PS3             2006  Platform      0.00   \n",
       "\n",
       "      eu_sales  jp_sales  other_sales  critic_score  user_score rating  \n",
       "257       0.91      0.26         0.13           NaN         NaN   E10+  \n",
       "1736      0.06      0.04         0.66           4.3         4.1   E10+  \n",
       "1985      0.48      0.00         0.11           4.6         4.4   E10+  \n",
       "4106      0.48      0.00         0.00           4.3         4.1   E10+  "
      ]
     },
     "execution_count": 42,
     "metadata": {},
     "output_type": "execute_result"
    }
   ],
   "source": [
    "df.query('name==\"Sonic the Hedgehog\"')"
   ]
  },
  {
   "cell_type": "markdown",
   "metadata": {},
   "source": [
    "Видим, что для игры 'Sonic the Hedgehog' в таблице присутствует две записи для платформы 'PS3' 2006 года выпуска. Необходимо оставить только одну запись, предварительно сложив данные из столбцов `na_sales`, `eu_sales`, `jp_sales`, `other_sales`."
   ]
  },
  {
   "cell_type": "code",
   "execution_count": 43,
   "metadata": {},
   "outputs": [],
   "source": [
    "df.loc[1736, 'eu_sales'] = df.loc[1736, 'eu_sales'] + df.loc[4106, 'eu_sales']"
   ]
  },
  {
   "cell_type": "code",
   "execution_count": 44,
   "metadata": {},
   "outputs": [],
   "source": [
    "# удаляем дублирующую строку\n",
    "df = df.query(\"index != 4106\")"
   ]
  },
  {
   "cell_type": "markdown",
   "metadata": {},
   "source": [
    "Смотрим строки датафрейма игры 'Madden NFL 13'."
   ]
  },
  {
   "cell_type": "code",
   "execution_count": 45,
   "metadata": {},
   "outputs": [
    {
     "data": {
      "text/html": [
       "<div>\n",
       "<style scoped>\n",
       "    .dataframe tbody tr th:only-of-type {\n",
       "        vertical-align: middle;\n",
       "    }\n",
       "\n",
       "    .dataframe tbody tr th {\n",
       "        vertical-align: top;\n",
       "    }\n",
       "\n",
       "    .dataframe thead th {\n",
       "        text-align: right;\n",
       "    }\n",
       "</style>\n",
       "<table border=\"1\" class=\"dataframe\">\n",
       "  <thead>\n",
       "    <tr style=\"text-align: right;\">\n",
       "      <th></th>\n",
       "      <th>name</th>\n",
       "      <th>platform</th>\n",
       "      <th>year_of_release</th>\n",
       "      <th>genre</th>\n",
       "      <th>na_sales</th>\n",
       "      <th>eu_sales</th>\n",
       "      <th>jp_sales</th>\n",
       "      <th>other_sales</th>\n",
       "      <th>critic_score</th>\n",
       "      <th>user_score</th>\n",
       "      <th>rating</th>\n",
       "    </tr>\n",
       "  </thead>\n",
       "  <tbody>\n",
       "    <tr>\n",
       "      <th>506</th>\n",
       "      <td>Madden NFL 13</td>\n",
       "      <td>X360</td>\n",
       "      <td>2012</td>\n",
       "      <td>Sports</td>\n",
       "      <td>2.53</td>\n",
       "      <td>0.15</td>\n",
       "      <td>0.0</td>\n",
       "      <td>0.17</td>\n",
       "      <td>8.1</td>\n",
       "      <td>5.8</td>\n",
       "      <td>E</td>\n",
       "    </tr>\n",
       "    <tr>\n",
       "      <th>603</th>\n",
       "      <td>Madden NFL 13</td>\n",
       "      <td>PS3</td>\n",
       "      <td>2012</td>\n",
       "      <td>Sports</td>\n",
       "      <td>2.11</td>\n",
       "      <td>0.22</td>\n",
       "      <td>0.0</td>\n",
       "      <td>0.23</td>\n",
       "      <td>8.3</td>\n",
       "      <td>5.5</td>\n",
       "      <td>E</td>\n",
       "    </tr>\n",
       "    <tr>\n",
       "      <th>3965</th>\n",
       "      <td>Madden NFL 13</td>\n",
       "      <td>Wii</td>\n",
       "      <td>2012</td>\n",
       "      <td>Sports</td>\n",
       "      <td>0.47</td>\n",
       "      <td>0.00</td>\n",
       "      <td>0.0</td>\n",
       "      <td>0.03</td>\n",
       "      <td>NaN</td>\n",
       "      <td>7.3</td>\n",
       "      <td>E</td>\n",
       "    </tr>\n",
       "    <tr>\n",
       "      <th>5846</th>\n",
       "      <td>Madden NFL 13</td>\n",
       "      <td>PSV</td>\n",
       "      <td>2012</td>\n",
       "      <td>Sports</td>\n",
       "      <td>0.28</td>\n",
       "      <td>0.00</td>\n",
       "      <td>0.0</td>\n",
       "      <td>0.02</td>\n",
       "      <td>6.3</td>\n",
       "      <td>7.3</td>\n",
       "      <td>E</td>\n",
       "    </tr>\n",
       "    <tr>\n",
       "      <th>7017</th>\n",
       "      <td>Madden NFL 13</td>\n",
       "      <td>WiiU</td>\n",
       "      <td>2012</td>\n",
       "      <td>Sports</td>\n",
       "      <td>0.21</td>\n",
       "      <td>0.00</td>\n",
       "      <td>0.0</td>\n",
       "      <td>0.02</td>\n",
       "      <td>7.5</td>\n",
       "      <td>6.7</td>\n",
       "      <td>E</td>\n",
       "    </tr>\n",
       "    <tr>\n",
       "      <th>16087</th>\n",
       "      <td>Madden NFL 13</td>\n",
       "      <td>PS3</td>\n",
       "      <td>2012</td>\n",
       "      <td>Sports</td>\n",
       "      <td>0.00</td>\n",
       "      <td>0.01</td>\n",
       "      <td>0.0</td>\n",
       "      <td>0.00</td>\n",
       "      <td>8.3</td>\n",
       "      <td>5.5</td>\n",
       "      <td>E</td>\n",
       "    </tr>\n",
       "  </tbody>\n",
       "</table>\n",
       "</div>"
      ],
      "text/plain": [
       "                name platform  year_of_release   genre  na_sales  eu_sales  \\\n",
       "506    Madden NFL 13     X360             2012  Sports      2.53      0.15   \n",
       "603    Madden NFL 13      PS3             2012  Sports      2.11      0.22   \n",
       "3965   Madden NFL 13      Wii             2012  Sports      0.47      0.00   \n",
       "5846   Madden NFL 13      PSV             2012  Sports      0.28      0.00   \n",
       "7017   Madden NFL 13     WiiU             2012  Sports      0.21      0.00   \n",
       "16087  Madden NFL 13      PS3             2012  Sports      0.00      0.01   \n",
       "\n",
       "       jp_sales  other_sales  critic_score  user_score rating  \n",
       "506         0.0         0.17           8.1         5.8      E  \n",
       "603         0.0         0.23           8.3         5.5      E  \n",
       "3965        0.0         0.03           NaN         7.3      E  \n",
       "5846        0.0         0.02           6.3         7.3      E  \n",
       "7017        0.0         0.02           7.5         6.7      E  \n",
       "16087       0.0         0.00           8.3         5.5      E  "
      ]
     },
     "execution_count": 45,
     "metadata": {},
     "output_type": "execute_result"
    }
   ],
   "source": [
    "df.query('name==\"Madden NFL 13\"')"
   ]
  },
  {
   "cell_type": "markdown",
   "metadata": {},
   "source": [
    "Аналогичные действия необходимо провести и для игры 'Madden NFL 13' для платформы 'PS3'."
   ]
  },
  {
   "cell_type": "code",
   "execution_count": 46,
   "metadata": {},
   "outputs": [],
   "source": [
    "df.loc[603, 'eu_sales'] = df.loc[603, 'eu_sales'] + df.loc[16087, 'eu_sales']"
   ]
  },
  {
   "cell_type": "code",
   "execution_count": 47,
   "metadata": {},
   "outputs": [],
   "source": [
    "# удаляем дублирующую строку\n",
    "df = df.query(\"index != 16087\").reset_index(drop=True)"
   ]
  },
  {
   "cell_type": "markdown",
   "metadata": {},
   "source": [
    "**Вывод**\n",
    "\n",
    "Обнаружили дубликаты, провели их обработку (суммирование значений в столбце `eu_sales`)."
   ]
  },
  {
   "cell_type": "markdown",
   "metadata": {},
   "source": [
    "### Проведение дополнительных расчетов"
   ]
  },
  {
   "cell_type": "markdown",
   "metadata": {},
   "source": [
    "В исследуемом датафрейме содержится информация о продажах в различных регионах: Северная Америка, Европа, Япония и другие. Интересна информация об общей выручке, объединяющей все регионы. Найдем эти значения и поместим их в новый столбец `total_sales`."
   ]
  },
  {
   "cell_type": "code",
   "execution_count": 48,
   "metadata": {},
   "outputs": [],
   "source": [
    "# общую выручку определяем как сумму выручек по всем регионам\n",
    "df['total_sales'] = df['na_sales']+df['eu_sales']+df['jp_sales']+df['other_sales']"
   ]
  },
  {
   "cell_type": "code",
   "execution_count": 49,
   "metadata": {},
   "outputs": [
    {
     "data": {
      "text/html": [
       "<div>\n",
       "<style scoped>\n",
       "    .dataframe tbody tr th:only-of-type {\n",
       "        vertical-align: middle;\n",
       "    }\n",
       "\n",
       "    .dataframe tbody tr th {\n",
       "        vertical-align: top;\n",
       "    }\n",
       "\n",
       "    .dataframe thead th {\n",
       "        text-align: right;\n",
       "    }\n",
       "</style>\n",
       "<table border=\"1\" class=\"dataframe\">\n",
       "  <thead>\n",
       "    <tr style=\"text-align: right;\">\n",
       "      <th></th>\n",
       "      <th>name</th>\n",
       "      <th>platform</th>\n",
       "      <th>year_of_release</th>\n",
       "      <th>genre</th>\n",
       "      <th>na_sales</th>\n",
       "      <th>eu_sales</th>\n",
       "      <th>jp_sales</th>\n",
       "      <th>other_sales</th>\n",
       "      <th>critic_score</th>\n",
       "      <th>user_score</th>\n",
       "      <th>rating</th>\n",
       "      <th>total_sales</th>\n",
       "    </tr>\n",
       "  </thead>\n",
       "  <tbody>\n",
       "    <tr>\n",
       "      <th>0</th>\n",
       "      <td>Wii Sports</td>\n",
       "      <td>Wii</td>\n",
       "      <td>2006</td>\n",
       "      <td>Sports</td>\n",
       "      <td>41.36</td>\n",
       "      <td>28.96</td>\n",
       "      <td>3.77</td>\n",
       "      <td>8.45</td>\n",
       "      <td>7.6</td>\n",
       "      <td>8.0</td>\n",
       "      <td>E</td>\n",
       "      <td>82.54</td>\n",
       "    </tr>\n",
       "    <tr>\n",
       "      <th>1</th>\n",
       "      <td>Super Mario Bros.</td>\n",
       "      <td>NES</td>\n",
       "      <td>1985</td>\n",
       "      <td>Platform</td>\n",
       "      <td>29.08</td>\n",
       "      <td>3.58</td>\n",
       "      <td>6.81</td>\n",
       "      <td>0.77</td>\n",
       "      <td>NaN</td>\n",
       "      <td>NaN</td>\n",
       "      <td>undef</td>\n",
       "      <td>40.24</td>\n",
       "    </tr>\n",
       "    <tr>\n",
       "      <th>2</th>\n",
       "      <td>Mario Kart Wii</td>\n",
       "      <td>Wii</td>\n",
       "      <td>2008</td>\n",
       "      <td>Racing</td>\n",
       "      <td>15.68</td>\n",
       "      <td>12.76</td>\n",
       "      <td>3.79</td>\n",
       "      <td>3.29</td>\n",
       "      <td>8.2</td>\n",
       "      <td>8.3</td>\n",
       "      <td>E</td>\n",
       "      <td>35.52</td>\n",
       "    </tr>\n",
       "    <tr>\n",
       "      <th>3</th>\n",
       "      <td>Wii Sports Resort</td>\n",
       "      <td>Wii</td>\n",
       "      <td>2009</td>\n",
       "      <td>Sports</td>\n",
       "      <td>15.61</td>\n",
       "      <td>10.93</td>\n",
       "      <td>3.28</td>\n",
       "      <td>2.95</td>\n",
       "      <td>8.0</td>\n",
       "      <td>8.0</td>\n",
       "      <td>E</td>\n",
       "      <td>32.77</td>\n",
       "    </tr>\n",
       "    <tr>\n",
       "      <th>4</th>\n",
       "      <td>Pokemon Red/Pokemon Blue</td>\n",
       "      <td>GB</td>\n",
       "      <td>1996</td>\n",
       "      <td>Role-Playing</td>\n",
       "      <td>11.27</td>\n",
       "      <td>8.89</td>\n",
       "      <td>10.22</td>\n",
       "      <td>1.00</td>\n",
       "      <td>NaN</td>\n",
       "      <td>NaN</td>\n",
       "      <td>undef</td>\n",
       "      <td>31.38</td>\n",
       "    </tr>\n",
       "  </tbody>\n",
       "</table>\n",
       "</div>"
      ],
      "text/plain": [
       "                       name platform  year_of_release         genre  na_sales  \\\n",
       "0                Wii Sports      Wii             2006        Sports     41.36   \n",
       "1         Super Mario Bros.      NES             1985      Platform     29.08   \n",
       "2            Mario Kart Wii      Wii             2008        Racing     15.68   \n",
       "3         Wii Sports Resort      Wii             2009        Sports     15.61   \n",
       "4  Pokemon Red/Pokemon Blue       GB             1996  Role-Playing     11.27   \n",
       "\n",
       "   eu_sales  jp_sales  other_sales  critic_score  user_score rating  \\\n",
       "0     28.96      3.77         8.45           7.6         8.0      E   \n",
       "1      3.58      6.81         0.77           NaN         NaN  undef   \n",
       "2     12.76      3.79         3.29           8.2         8.3      E   \n",
       "3     10.93      3.28         2.95           8.0         8.0      E   \n",
       "4      8.89     10.22         1.00           NaN         NaN  undef   \n",
       "\n",
       "   total_sales  \n",
       "0        82.54  \n",
       "1        40.24  \n",
       "2        35.52  \n",
       "3        32.77  \n",
       "4        31.38  "
      ]
     },
     "execution_count": 49,
     "metadata": {},
     "output_type": "execute_result"
    }
   ],
   "source": [
    "# проверяем\n",
    "df.head()"
   ]
  },
  {
   "cell_type": "markdown",
   "metadata": {},
   "source": [
    "**Вывод**\n",
    "\n",
    "Для дальшейшего использования в исследовании, определили общую выручку для каждой игры. Поместили вычисленные значения в столбец `total_sales`."
   ]
  },
  {
   "cell_type": "markdown",
   "metadata": {},
   "source": [
    "## Исследовательский анализ"
   ]
  },
  {
   "cell_type": "markdown",
   "metadata": {},
   "source": [
    "**Определение количества выпущенных игр**"
   ]
  },
  {
   "cell_type": "markdown",
   "metadata": {},
   "source": [
    "Посмотрим, сколько игр выпускалось в разные годы. Построим графики, отражающие количество выпущенных игр по годам, а также суммарную прибыль с продаж видеоигр за все время наблюдения."
   ]
  },
  {
   "cell_type": "code",
   "execution_count": 50,
   "metadata": {},
   "outputs": [
    {
     "data": {
      "image/png": "[encoded data removed]",
      "text/plain": [
       "<Figure size 1152x360 with 1 Axes>"
      ]
     },
     "metadata": {
      "needs_background": "light"
     },
     "output_type": "display_data"
    }
   ],
   "source": [
    "(\n",
    "    df\n",
    "    .pivot_table(index='year_of_release', values='name', aggfunc='count')\n",
    "    .plot(style='o-', grid=True, figsize=(16,5), title='Количество выпущенных игр по годам')\n",
    ")\n",
    "plt.legend(['Количество игр'])\n",
    "plt.show()"
   ]
  },
  {
   "cell_type": "code",
   "execution_count": 51,
   "metadata": {},
   "outputs": [
    {
     "data": {
      "image/png": "[encoded data removed]",
      "text/plain": [
       "<Figure size 1152x360 with 1 Axes>"
      ]
     },
     "metadata": {
      "needs_background": "light"
     },
     "output_type": "display_data"
    }
   ],
   "source": [
    "(\n",
    "    df\n",
    "    .groupby('year_of_release')['total_sales']\n",
    "    .agg('sum')\n",
    "    .plot(style='o-', grid=True, figsize=(16,5), title='Суммарная выручка со всех игр по годам')\n",
    ")\n",
    "plt.legend(['Выручка, млн'])\n",
    "plt.show()"
   ]
  },
  {
   "cell_type": "markdown",
   "metadata": {},
   "source": [
    "Анализируя эти графики, можно сделать вывод о том, что период времени до 1994 года является незначительным. До этого времени ежегодно выпускалось менее 100 игр для всех платформ. Это означает, что индустрия видеоигр только начинала свое развитие."
   ]
  },
  {
   "cell_type": "markdown",
   "metadata": {},
   "source": [
    "**Выручка для 10 самых популярных платформ**"
   ]
  },
  {
   "cell_type": "markdown",
   "metadata": {},
   "source": [
    "Теперь посмотрим, как менялись продажи по платформам. Для этого выберем платформы с наибольшими суммарными продажами и построим распределение по годам."
   ]
  },
  {
   "cell_type": "code",
   "execution_count": 52,
   "metadata": {},
   "outputs": [],
   "source": [
    "# находим 10 платформ с наибольшими суммарными продажами\n",
    "platform_top10sales = df.groupby('platform')['total_sales'].agg('sum').sort_values(ascending=False).head(10)"
   ]
  },
  {
   "cell_type": "code",
   "execution_count": 53,
   "metadata": {},
   "outputs": [
    {
     "data": {
      "text/plain": [
       "platform\n",
       "PS2     1247.16\n",
       "X360     966.61\n",
       "PS3      935.19\n",
       "Wii      903.31\n",
       "DS       804.28\n",
       "PS       727.58\n",
       "PS4      314.14\n",
       "GBA      313.73\n",
       "PSP      293.57\n",
       "PC       258.86\n",
       "Name: total_sales, dtype: float64"
      ]
     },
     "execution_count": 53,
     "metadata": {},
     "output_type": "execute_result"
    }
   ],
   "source": [
    "platform_top10sales"
   ]
  },
  {
   "cell_type": "code",
   "execution_count": 54,
   "metadata": {},
   "outputs": [
    {
     "data": {
      "image/png": "[encoded data removed]",
      "text/plain": [
       "<Figure size 1152x360 with 1 Axes>"
      ]
     },
     "metadata": {
      "needs_background": "light"
     },
     "output_type": "display_data"
    }
   ],
   "source": [
    "# строим распределение\n",
    "(\n",
    "    df\n",
    "    .query('platform in @platform_top10sales.index')\n",
    "    .pivot_table(index='year_of_release', columns='platform', values='total_sales', aggfunc='sum')\n",
    "    .plot(linewidth=3, alpha=0.75, style='o-', grid=True, figsize=(16,5), title='Суммарная выручка 10 самых продаваемых платформ')\n",
    ")\n",
    "plt.show()"
   ]
  },
  {
   "cell_type": "markdown",
   "metadata": {},
   "source": [
    "По этому графику становится понятным рост индустрии после 1994 года. Именно в этом году появилась легендарная консоль 'Play Station' (на графике красная линия).\n",
    "\n",
    "Также по этому графику хорошо отсматривается характерный срок \"жизни\" игровой платформы - в среднем 10 лет. К примеру:\n",
    "   - 'Play Station' (красная линия) - с 1994 по 2003;\n",
    "   - 'Play Station 2' (фиолетовая линия) - с 2000 по 2011;\n",
    "   - 'Play Station 3' (коричневая линия) - с 2005 по 2016;\n",
    "   - 'X-Box 360' (голубая линия) - с 2005 по 2016.\n",
    "\n",
    "Вечен только персональный компьютер ('PC', зеленая линия), присутствует на всем периоде наблюдения, но характеризуется сравнительно невысокими продажами.\n",
    "   "
   ]
  },
  {
   "cell_type": "markdown",
   "metadata": {},
   "source": [
    "**Определение актуального периода**"
   ]
  },
  {
   "cell_type": "markdown",
   "metadata": {},
   "source": [
    "Нашей задачей является построение прогноза по продажам на 2017 год. В датафрейме содержатся данные до 2016 года включительно (за 2016 - не в полном объеме)."
   ]
  },
  {
   "cell_type": "markdown",
   "metadata": {},
   "source": [
    "Ранее определили, что характерный срок \"жизни\" игровой платформы в среднем составляет 10 лет. Также важно учесть тот факт, что для каждой платформы характерен период в 4-5 лет после ее выхода на рынок, в котором продажи (суммарная выручка) показывают восходящий тренд. После этого - в течение следующих 5 лет - продажи каждый год падают, почти до нулевых значений. Учитывая все названное, для дальнейших исследований будем использовать данные по играм, выпущенным в 2013 году и позже."
   ]
  },
  {
   "cell_type": "code",
   "execution_count": 55,
   "metadata": {},
   "outputs": [],
   "source": [
    "# Оставляем данные, входящие в актуальный период\n",
    "df_act = df.query('year_of_release >= 2013').reset_index(drop=True)"
   ]
  },
  {
   "cell_type": "markdown",
   "metadata": {},
   "source": [
    "Найдем для этого периода времени 10 платформ с наибольшими суммарными продажами ('top10_platform') и построим их распределение."
   ]
  },
  {
   "cell_type": "code",
   "execution_count": 56,
   "metadata": {},
   "outputs": [
    {
     "data": {
      "text/plain": [
       "platform\n",
       "PS4     314.14\n",
       "PS3     181.43\n",
       "XOne    159.32\n",
       "3DS     143.25\n",
       "X360    136.80\n",
       "WiiU     64.63\n",
       "PC       40.06\n",
       "PSV      32.99\n",
       "Wii      13.66\n",
       "PSP       3.74\n",
       "Name: total_sales, dtype: float64"
      ]
     },
     "execution_count": 56,
     "metadata": {},
     "output_type": "execute_result"
    }
   ],
   "source": [
    "top10_platform = df_act.groupby('platform')['total_sales'].agg('sum').sort_values(ascending=False).head(10)\n",
    "top10_platform"
   ]
  },
  {
   "cell_type": "code",
   "execution_count": 57,
   "metadata": {},
   "outputs": [
    {
     "data": {
      "image/png": "[encoded data removed]",
      "text/plain": [
       "<Figure size 1152x360 with 1 Axes>"
      ]
     },
     "metadata": {
      "needs_background": "light"
     },
     "output_type": "display_data"
    }
   ],
   "source": [
    "# строим распределение\n",
    "(\n",
    "    df_act\n",
    "    .query('platform in @top10_platform.index')\n",
    "    .pivot_table(index='year_of_release', columns='platform', values='total_sales', aggfunc='sum')\n",
    "    .plot(\n",
    "        kind='bar',\n",
    "        grid=True, \n",
    "        figsize=(16,5), \n",
    "        title='Суммарная выручка 10 самых продаваемых платформ'\n",
    "    )\n",
    ")\n",
    "plt.show()"
   ]
  },
  {
   "cell_type": "markdown",
   "metadata": {},
   "source": [
    "По графику и данным из таблицы 'top10_platform' видим, что лидируют по продажам платформы 'X360', 'PS3', 'Wii' и 'DS', но все они \"отслужили\" характерный срок \"жизни\" игровой платформы (10 лет) и их продажи сошли на нет. По этой причине, потенциально прибыльными платформами, в игры для которых стоит вкладываться, являются: **'PS4', '3DS', 'PC' и 'XOne'**. Эти платформы, относительно остальных, недавно вышли, отличаются стабильными неубывающими продажами (2016 год не берем во внимание в силу неполноты данных)."
   ]
  },
  {
   "cell_type": "markdown",
   "metadata": {},
   "source": [
    "Построим для выбранных потенциально прибыльных платформ диаграммы размаха. "
   ]
  },
  {
   "cell_type": "code",
   "execution_count": 96,
   "metadata": {},
   "outputs": [
    {
     "data": {
      "image/png": "[encoded data removed]",
      "text/plain": [
       "<Figure size 1152x720 with 1 Axes>"
      ]
     },
     "metadata": {
      "needs_background": "light"
     },
     "output_type": "display_data"
    }
   ],
   "source": [
    "ax = ( \n",
    "    df_act\n",
    "    .query(\"platform in ['PS4', '3DS', 'PC','XOne']\")\n",
    "    .boxplot(by='platform', column='total_sales', figsize=(16,10))\n",
    ")\n",
    "ax.set_xlabel('')\n",
    "ax.set_ylabel('Суммарная выручка с одной игры, млн')\n",
    "plt.suptitle('')\n",
    "plt.ylim(0, 4)\n",
    "plt.title('Суммарные выручки с игр для потенциальной прибыльных платформ')\n",
    "plt.show()"
   ]
  },
  {
   "cell_type": "markdown",
   "metadata": {},
   "source": [
    "Для всех платформ наблюдается примерно одинаковый результат: **небольшая медианная выручка с одной игры** (от 0.05 млн для 'PC' до 0.2 млн для 'PS4' и 'XOne') и **скошенность данных вправо**. Это означает, что среди игр этих платформ встречаются те, которые приносят выручки ощутимо больше медианной суммы. Возможно выручка от продажи игр зависит от их жанра или каких-то других параметров (оценки критиков и пользователей), которые определим далее."
   ]
  },
  {
   "cell_type": "markdown",
   "metadata": {},
   "source": [
    "**Исследование зависимостей выручки от рейтингов**"
   ]
  },
  {
   "cell_type": "markdown",
   "metadata": {},
   "source": [
    "Посмотрим, как влияют на продажи внутри одной популярной платформы (например, 'PS4') отзывы пользователей и критиков. Построим диаграмму рассеяния и посчитаем корреляцию между отзывами и продажами."
   ]
  },
  {
   "cell_type": "code",
   "execution_count": 60,
   "metadata": {},
   "outputs": [
    {
     "data": {
      "text/html": [
       "<div>\n",
       "<style scoped>\n",
       "    .dataframe tbody tr th:only-of-type {\n",
       "        vertical-align: middle;\n",
       "    }\n",
       "\n",
       "    .dataframe tbody tr th {\n",
       "        vertical-align: top;\n",
       "    }\n",
       "\n",
       "    .dataframe thead th {\n",
       "        text-align: right;\n",
       "    }\n",
       "</style>\n",
       "<table border=\"1\" class=\"dataframe\">\n",
       "  <thead>\n",
       "    <tr style=\"text-align: right;\">\n",
       "      <th></th>\n",
       "      <th>critic_score</th>\n",
       "      <th>user_score</th>\n",
       "    </tr>\n",
       "  </thead>\n",
       "  <tbody>\n",
       "    <tr>\n",
       "      <th>na_sales</th>\n",
       "      <td>0.415008</td>\n",
       "      <td>-0.020933</td>\n",
       "    </tr>\n",
       "    <tr>\n",
       "      <th>eu_sales</th>\n",
       "      <td>0.346720</td>\n",
       "      <td>-0.048925</td>\n",
       "    </tr>\n",
       "    <tr>\n",
       "      <th>jp_sales</th>\n",
       "      <td>0.322358</td>\n",
       "      <td>0.171332</td>\n",
       "    </tr>\n",
       "    <tr>\n",
       "      <th>other_sales</th>\n",
       "      <td>0.409191</td>\n",
       "      <td>-0.035639</td>\n",
       "    </tr>\n",
       "    <tr>\n",
       "      <th>total_sales</th>\n",
       "      <td>0.406568</td>\n",
       "      <td>-0.031957</td>\n",
       "    </tr>\n",
       "  </tbody>\n",
       "</table>\n",
       "</div>"
      ],
      "text/plain": [
       "             critic_score  user_score\n",
       "na_sales         0.415008   -0.020933\n",
       "eu_sales         0.346720   -0.048925\n",
       "jp_sales         0.322358    0.171332\n",
       "other_sales      0.409191   -0.035639\n",
       "total_sales      0.406568   -0.031957"
      ]
     },
     "execution_count": 60,
     "metadata": {},
     "output_type": "execute_result"
    }
   ],
   "source": [
    "(\n",
    "    df_act\n",
    "    .query('platform==\"PS4\"')\n",
    "    .corr()\n",
    "    .loc[['na_sales', 'eu_sales', 'jp_sales', 'other_sales', 'total_sales'], ['critic_score', 'user_score']]\n",
    ")"
   ]
  },
  {
   "cell_type": "markdown",
   "metadata": {},
   "source": [
    "Коэффициент корреляции между суммарной выручкой и оценками критиков 0.4 (средняя зависимость), а между выручкой и оценками пользователей близкий к нулевому (взаимосвязь отсутствует). Посмотрим зависимость на графиках."
   ]
  },
  {
   "cell_type": "code",
   "execution_count": 62,
   "metadata": {},
   "outputs": [
    {
     "data": {
      "image/png": "[encoded data removed]",
      "text/plain": [
       "<Figure size 1152x360 with 1 Axes>"
      ]
     },
     "metadata": {
      "needs_background": "light"
     },
     "output_type": "display_data"
    }
   ],
   "source": [
    "# Зависимость суммарной выручки от оценок критиков\n",
    "(\n",
    "    df_act\n",
    "    .query('platform==\"PS4\"')\n",
    "    .plot(\n",
    "        x='critic_score', \n",
    "        y='total_sales', \n",
    "        style='o', \n",
    "        alpha=0.5, \n",
    "        figsize=(16,5), \n",
    "        grid=True, \n",
    "        title='Зависимость суммарной выручки с игры для платформы \"PS4\" от оценки критиков'\n",
    "    )\n",
    ")\n",
    "plt.legend(['Выручка, млн'])\n",
    "plt.show()"
   ]
  },
  {
   "cell_type": "code",
   "execution_count": 63,
   "metadata": {},
   "outputs": [
    {
     "data": {
      "image/png": "[encoded data removed]",
      "text/plain": [
       "<Figure size 1152x360 with 1 Axes>"
      ]
     },
     "metadata": {
      "needs_background": "light"
     },
     "output_type": "display_data"
    }
   ],
   "source": [
    "# Зависимость суммарной выручки от оценок пользователей\n",
    "(\n",
    "    df_act\n",
    "    .query('platform==\"PS4\"')\n",
    "    .plot(\n",
    "        x='user_score', \n",
    "        y='total_sales', \n",
    "        style='o', \n",
    "        alpha=0.5, \n",
    "        figsize=(16,5), \n",
    "        grid=True, \n",
    "        title='Зависимость суммарной выручки с игры для платформы \"PS4\" от оценки пользователей'\n",
    "    )\n",
    ")\n",
    "plt.legend(['Выручка, млн'])\n",
    "plt.show()"
   ]
  },
  {
   "cell_type": "markdown",
   "metadata": {},
   "source": [
    "Представленные выше диаграммы рассеяния подтверждают авторитет мнения критиков. Действительно, **чем выше оценка критика, тем больший разброс наблюдается в значениях общей выручки и тем больше игр, приносящих бОльшую прибыль по сравнению со средними значениями**. При оценке критика больше 7, наблюдается большое количество игр, суммарная выручка с которых превышает 1 млн.\n",
    "\n",
    "Что касается второго графика (зависимость от оценки пользователей), то здесь подтверждается найденный ранее близкий к нулевому коэффициент корреляции. Игры, приносящие большие суммарные выручки встречаются при различных оценках пользователей (от 3 до 9). Это объясняется субъективностью мнений обычных пользователей - разным людям нравятся разные игры, различных жанров, и, как правило, их мнение часто отличается от позиции авторитетных критиков. Тем не менее, все же можно сделать вывод: **чем больше оценка пользователя, тем большую выручку приносит игра**."
   ]
  },
  {
   "cell_type": "markdown",
   "metadata": {},
   "source": [
    "Сравним полученные зависимости для платформы 'PS4' с продажами игр на других платформах. Найдем коэффициенты корреляции и построим диаграммы рассеяния."
   ]
  },
  {
   "cell_type": "code",
   "execution_count": 64,
   "metadata": {},
   "outputs": [
    {
     "data": {
      "text/html": [
       "<div>\n",
       "<style scoped>\n",
       "    .dataframe tbody tr th:only-of-type {\n",
       "        vertical-align: middle;\n",
       "    }\n",
       "\n",
       "    .dataframe tbody tr th {\n",
       "        vertical-align: top;\n",
       "    }\n",
       "\n",
       "    .dataframe thead th {\n",
       "        text-align: right;\n",
       "    }\n",
       "</style>\n",
       "<table border=\"1\" class=\"dataframe\">\n",
       "  <thead>\n",
       "    <tr style=\"text-align: right;\">\n",
       "      <th></th>\n",
       "      <th>critic_score</th>\n",
       "      <th>user_score</th>\n",
       "    </tr>\n",
       "  </thead>\n",
       "  <tbody>\n",
       "    <tr>\n",
       "      <th>na_sales</th>\n",
       "      <td>0.300506</td>\n",
       "      <td>-0.020087</td>\n",
       "    </tr>\n",
       "    <tr>\n",
       "      <th>eu_sales</th>\n",
       "      <td>0.280608</td>\n",
       "      <td>-0.026891</td>\n",
       "    </tr>\n",
       "    <tr>\n",
       "      <th>jp_sales</th>\n",
       "      <td>0.133747</td>\n",
       "      <td>0.193740</td>\n",
       "    </tr>\n",
       "    <tr>\n",
       "      <th>other_sales</th>\n",
       "      <td>0.274881</td>\n",
       "      <td>-0.011493</td>\n",
       "    </tr>\n",
       "    <tr>\n",
       "      <th>total_sales</th>\n",
       "      <td>0.313234</td>\n",
       "      <td>-0.002605</td>\n",
       "    </tr>\n",
       "  </tbody>\n",
       "</table>\n",
       "</div>"
      ],
      "text/plain": [
       "             critic_score  user_score\n",
       "na_sales         0.300506   -0.020087\n",
       "eu_sales         0.280608   -0.026891\n",
       "jp_sales         0.133747    0.193740\n",
       "other_sales      0.274881   -0.011493\n",
       "total_sales      0.313234   -0.002605"
      ]
     },
     "execution_count": 64,
     "metadata": {},
     "output_type": "execute_result"
    }
   ],
   "source": [
    "# находим корреляцию\n",
    "(\n",
    "    df_act\n",
    "    .corr()\n",
    "    .loc[['na_sales', 'eu_sales', 'jp_sales', 'other_sales', 'total_sales'], ['critic_score', 'user_score']]\n",
    ")"
   ]
  },
  {
   "cell_type": "markdown",
   "metadata": {},
   "source": [
    "Коэффициент корреляции между общей выручкой и оценкой критиков меньше, чем в предыдущем случае (0.31 против 0.4), а между общей выручкой и оценкой пользователей примерно на том же уровне."
   ]
  },
  {
   "cell_type": "code",
   "execution_count": 65,
   "metadata": {},
   "outputs": [
    {
     "data": {
      "image/png": "[encoded data removed]",
      "text/plain": [
       "<Figure size 1152x360 with 1 Axes>"
      ]
     },
     "metadata": {
      "needs_background": "light"
     },
     "output_type": "display_data"
    }
   ],
   "source": [
    "# Зависимость суммарной выручки от оценок критиков\n",
    "(\n",
    "    df_act\n",
    "    .plot(\n",
    "        x='critic_score', \n",
    "        y='total_sales', \n",
    "        style='o', \n",
    "        alpha=0.5, \n",
    "        figsize=(16,5), \n",
    "        grid=True, \n",
    "        title='Зависимость суммарной выручки с игры для всех платформ от оценки критиков'\n",
    "    )\n",
    ")\n",
    "plt.legend(['Выручка, млн'])\n",
    "plt.show()"
   ]
  },
  {
   "cell_type": "code",
   "execution_count": 66,
   "metadata": {},
   "outputs": [
    {
     "data": {
      "image/png": "[encoded data removed]",
      "text/plain": [
       "<Figure size 1152x360 with 1 Axes>"
      ]
     },
     "metadata": {
      "needs_background": "light"
     },
     "output_type": "display_data"
    }
   ],
   "source": [
    "# Зависимость суммарной выручки от оценок пользователей\n",
    "(\n",
    "    df_act\n",
    "    .plot(\n",
    "        x='user_score', \n",
    "        y='total_sales', \n",
    "        style='o', \n",
    "        alpha=0.5, \n",
    "        figsize=(16,5), \n",
    "        grid=True, \n",
    "        title='Зависимость суммарной выручки с игры для всех платформ от оценки пользователей'\n",
    "    )\n",
    ")\n",
    "plt.legend(['Выручка, млн'])\n",
    "plt.show()"
   ]
  },
  {
   "cell_type": "markdown",
   "metadata": {},
   "source": [
    "На графиках зависимости суммарной выручки с игры для всех платформ от оценки пользователей наблюдается схожая картина со случаем для платформы 'PS4'. \n",
    "1. Чем выше оценка критика, тем больше вероятность того, что игра принесет большую выручку. \n",
    "2. Чем выше оценка пользователя, тем большую выручку приносит игра, но не всегда. Довольно много случаев, когда игры прибыльны при низкой оценке пользователей."
   ]
  },
  {
   "cell_type": "markdown",
   "metadata": {},
   "source": [
    "**Исследование зависимостей выручки от жанров игр**"
   ]
  },
  {
   "cell_type": "markdown",
   "metadata": {},
   "source": [
    "Интересно посмотреть зависимость продаж от жанра игры. Найдем суммарную выручку, количество выпущенных игр и среднюю выручку с одной игры для каждого жанра."
   ]
  },
  {
   "cell_type": "code",
   "execution_count": 67,
   "metadata": {},
   "outputs": [
    {
     "data": {
      "text/html": [
       "<div>\n",
       "<style scoped>\n",
       "    .dataframe tbody tr th:only-of-type {\n",
       "        vertical-align: middle;\n",
       "    }\n",
       "\n",
       "    .dataframe tbody tr th {\n",
       "        vertical-align: top;\n",
       "    }\n",
       "\n",
       "    .dataframe thead th {\n",
       "        text-align: right;\n",
       "    }\n",
       "</style>\n",
       "<table border=\"1\" class=\"dataframe\">\n",
       "  <thead>\n",
       "    <tr style=\"text-align: right;\">\n",
       "      <th></th>\n",
       "      <th>total_sales</th>\n",
       "      <th>count_games</th>\n",
       "      <th>mean_revenue</th>\n",
       "    </tr>\n",
       "    <tr>\n",
       "      <th>genre</th>\n",
       "      <th></th>\n",
       "      <th></th>\n",
       "      <th></th>\n",
       "    </tr>\n",
       "  </thead>\n",
       "  <tbody>\n",
       "    <tr>\n",
       "      <th>Action</th>\n",
       "      <td>322.50</td>\n",
       "      <td>769</td>\n",
       "      <td>0.419376</td>\n",
       "    </tr>\n",
       "    <tr>\n",
       "      <th>Shooter</th>\n",
       "      <td>232.98</td>\n",
       "      <td>187</td>\n",
       "      <td>1.245882</td>\n",
       "    </tr>\n",
       "    <tr>\n",
       "      <th>Sports</th>\n",
       "      <td>150.65</td>\n",
       "      <td>214</td>\n",
       "      <td>0.703972</td>\n",
       "    </tr>\n",
       "    <tr>\n",
       "      <th>Role-Playing</th>\n",
       "      <td>145.89</td>\n",
       "      <td>292</td>\n",
       "      <td>0.499623</td>\n",
       "    </tr>\n",
       "    <tr>\n",
       "      <th>Misc</th>\n",
       "      <td>63.06</td>\n",
       "      <td>156</td>\n",
       "      <td>0.404231</td>\n",
       "    </tr>\n",
       "    <tr>\n",
       "      <th>Platform</th>\n",
       "      <td>42.63</td>\n",
       "      <td>74</td>\n",
       "      <td>0.576081</td>\n",
       "    </tr>\n",
       "    <tr>\n",
       "      <th>Racing</th>\n",
       "      <td>39.89</td>\n",
       "      <td>85</td>\n",
       "      <td>0.469294</td>\n",
       "    </tr>\n",
       "    <tr>\n",
       "      <th>Fighting</th>\n",
       "      <td>35.31</td>\n",
       "      <td>80</td>\n",
       "      <td>0.441375</td>\n",
       "    </tr>\n",
       "    <tr>\n",
       "      <th>Adventure</th>\n",
       "      <td>23.64</td>\n",
       "      <td>245</td>\n",
       "      <td>0.096490</td>\n",
       "    </tr>\n",
       "    <tr>\n",
       "      <th>Simulation</th>\n",
       "      <td>21.76</td>\n",
       "      <td>62</td>\n",
       "      <td>0.350968</td>\n",
       "    </tr>\n",
       "    <tr>\n",
       "      <th>Strategy</th>\n",
       "      <td>10.08</td>\n",
       "      <td>56</td>\n",
       "      <td>0.180000</td>\n",
       "    </tr>\n",
       "    <tr>\n",
       "      <th>Puzzle</th>\n",
       "      <td>3.17</td>\n",
       "      <td>17</td>\n",
       "      <td>0.186471</td>\n",
       "    </tr>\n",
       "  </tbody>\n",
       "</table>\n",
       "</div>"
      ],
      "text/plain": [
       "              total_sales  count_games  mean_revenue\n",
       "genre                                               \n",
       "Action             322.50          769      0.419376\n",
       "Shooter            232.98          187      1.245882\n",
       "Sports             150.65          214      0.703972\n",
       "Role-Playing       145.89          292      0.499623\n",
       "Misc                63.06          156      0.404231\n",
       "Platform            42.63           74      0.576081\n",
       "Racing              39.89           85      0.469294\n",
       "Fighting            35.31           80      0.441375\n",
       "Adventure           23.64          245      0.096490\n",
       "Simulation          21.76           62      0.350968\n",
       "Strategy            10.08           56      0.180000\n",
       "Puzzle               3.17           17      0.186471"
      ]
     },
     "execution_count": 67,
     "metadata": {},
     "output_type": "execute_result"
    }
   ],
   "source": [
    "sales_by_genres = df_act.groupby('genre').agg({'total_sales':['sum','count']})\n",
    "sales_by_genres.columns = ['total_sales', 'count_games']\n",
    "sales_by_genres['mean_revenue'] = sales_by_genres['total_sales']/sales_by_genres['count_games']\n",
    "sales_by_genres = sales_by_genres.sort_values(by='total_sales', ascending=False)\n",
    "sales_by_genres"
   ]
  },
  {
   "cell_type": "code",
   "execution_count": 68,
   "metadata": {},
   "outputs": [
    {
     "data": {
      "text/plain": [
       "total_sales      90.963333\n",
       "count_games     186.416667\n",
       "mean_revenue      0.464480\n",
       "dtype: float64"
      ]
     },
     "execution_count": 68,
     "metadata": {},
     "output_type": "execute_result"
    }
   ],
   "source": [
    "# найдем средние значения для каждого столбца\n",
    "sales_by_genres.mean()"
   ]
  },
  {
   "cell_type": "markdown",
   "metadata": {},
   "source": [
    "Построим график распределения общей выручки и количества выпущенных игр по жанрам."
   ]
  },
  {
   "cell_type": "code",
   "execution_count": 69,
   "metadata": {},
   "outputs": [
    {
     "data": {
      "image/png": "[encoded data removed]",
      "text/plain": [
       "<Figure size 1152x360 with 1 Axes>"
      ]
     },
     "metadata": {
      "needs_background": "light"
     },
     "output_type": "display_data"
    }
   ],
   "source": [
    "(\n",
    "    sales_by_genres\n",
    "    .plot(\n",
    "        y=['total_sales', 'count_games'], \n",
    "        kind='bar', \n",
    "        grid=True, \n",
    "        figsize=(16,5),\n",
    "        title = 'Распределение общей выручки и количества выпущенных игр по жанрам'\n",
    "    )       \n",
    ")\n",
    "plt.legend(['Общая выручка, млн', 'Количество выпущенных игр'])\n",
    "plt.show()"
   ]
  },
  {
   "cell_type": "markdown",
   "metadata": {},
   "source": [
    "Самыми прибыльными жанрами являются 'Action', 'Sports', 'Shooter', 'Misc' и 'Role-Playing'. Игр этих жанров больше всего по выпускаемым копиям. Среди них выделяется жанр 'Action' своим огромным количеством выпущенных игр (769), а также 'Shooter' - самой большой средней выручкой за игру (около 1.25 млн). \n",
    "\n",
    "Среди самых неприбыльных жанров выделяется 'Adventure'. Игр данного жанра было выпущено много, на уровне самых популярных жанров (245), но суммарная выручка одна из самых маленьких (около 24 млн.). Как следствие, у этого жанра наименьшая средняя выручка за игру - всего 96 тысяч."
   ]
  },
  {
   "cell_type": "markdown",
   "metadata": {},
   "source": [
    "**Вывод**\n",
    "\n",
    "Провели исследовательский анализ данных: \n",
    "1. Построили графики и определили сколько игр выпускалось в разные годы. Выяснили, как менялись продажи по платформам от года к году. Построили график распределение для самых прибыльных платформ по годам и определили, что новые платформы появляются, а старые исчезают в среднем за 10 лет. На основании этого определили актуальный период (с 2005 по 2016 год).\n",
    "2. Для актуального периода определили платформы, которые лидируют по продажам ('X360', 'PS3', 'Wii' и 'DS'). Проанализировав график, выяснили, что с каждым годом их продажи падают.\n",
    "3. Выбрали несколько потенциально прибыльных платформ ('PS4', '3DS', 'PC' и 'XOne'). Построили для каждой из них диаграммы размаха по глобальным продажам игр. Оценили влияние отзывов пользователей и критиков на суммарные выручки игр. Пришли к выводу, что оценки критиков и пользователей оказывают влияние на итоговый успех той или иной игры, на ее продажи.\n",
    "4. Исследовали общее распределение игр по жанрам. Выяснили, какие жанры являются самыми прибыльными ('Action', 'Sports', 'Shooter', 'Misc' и 'Role-Playing'), а какие нет ('Adventure', 'Puzzle' и 'Strategy'). Обнаружили жанры, сильно выделяющиеся от остальных ('Shooter' и 'Adventure')."
   ]
  },
  {
   "cell_type": "markdown",
   "metadata": {},
   "source": [
    "## Анализ пользователей различных регионов"
   ]
  },
  {
   "cell_type": "markdown",
   "metadata": {},
   "source": [
    "Исследуем популярность игр в зависимости от региона. Определим самые популярные платформы, самые популярные жанры, а также влияние рейтинга ESRB на выручку с продаж."
   ]
  },
  {
   "cell_type": "markdown",
   "metadata": {},
   "source": [
    "**Определение самых популярных платформ**"
   ]
  },
  {
   "cell_type": "code",
   "execution_count": 70,
   "metadata": {},
   "outputs": [],
   "source": [
    "def create_pie_diagram(region, filt, title):\n",
    "    (\n",
    "        df_act\n",
    "        .groupby(filt)[region]\n",
    "        .agg('sum')\n",
    "        .sort_values(ascending=False)\n",
    "        .head()\n",
    "        .plot(\n",
    "            kind='pie',\n",
    "            figsize=(7,7),\n",
    "            title=title,\n",
    "            startangle=90,\n",
    "            autopct='%1.1f%%'\n",
    "        )\n",
    "    )\n",
    "    plt.show()"
   ]
  },
  {
   "cell_type": "code",
   "execution_count": 71,
   "metadata": {},
   "outputs": [
    {
     "data": {
      "image/png": "[encoded data removed]",
      "text/plain": [
       "<Figure size 504x504 with 1 Axes>"
      ]
     },
     "metadata": {},
     "output_type": "display_data"
    },
    {
     "data": {
      "image/png": "[encoded data removed]",
      "text/plain": [
       "<Figure size 504x504 with 1 Axes>"
      ]
     },
     "metadata": {},
     "output_type": "display_data"
    },
    {
     "data": {
      "image/png": "[encoded data removed]",
      "text/plain": [
       "<Figure size 504x504 with 1 Axes>"
      ]
     },
     "metadata": {},
     "output_type": "display_data"
    }
   ],
   "source": [
    "create_pie_diagram('na_sales', 'platform', 'Продажи игр для 5 самых популярных платформ в Северной Америке')\n",
    "create_pie_diagram('eu_sales', 'platform', 'Продажи игр для 5 самых популярных платформ в Европе')\n",
    "create_pie_diagram('jp_sales', 'platform', 'Продажи игр для 5 самых популярных платформ в Японии')"
   ]
  },
  {
   "cell_type": "markdown",
   "metadata": {},
   "source": [
    "Если сравнивать Североамериканский и Европейский регионы, то различия в долях продаж минимальны. Популярными являются одни и те же платформы ('PS4', 'XOne', 'X360', 'PS3' и '3DS'), разница в том, что в Европе более популярной является 'PS4' и занимает 40% рынка, а в Северной Америке - менее 30%.\n",
    "\n",
    "А вот рынок Японии имеет свои особенности. Среди пяти самых популярных платформ, свыше 70% всех продаваемых игр приходится на портативные устройства - '3DS', 'PSV' и 'WiiU'. Это объясняется сложившейся культурой игровой индустрии в данном регионе."
   ]
  },
  {
   "cell_type": "markdown",
   "metadata": {},
   "source": [
    "**Определение самых популярных жанров**"
   ]
  },
  {
   "cell_type": "code",
   "execution_count": 72,
   "metadata": {},
   "outputs": [
    {
     "data": {
      "image/png": "[encoded data removed]",
      "text/plain": [
       "<Figure size 504x504 with 1 Axes>"
      ]
     },
     "metadata": {},
     "output_type": "display_data"
    },
    {
     "data": {
      "image/png": "[encoded data removed]",
      "text/plain": [
       "<Figure size 504x504 with 1 Axes>"
      ]
     },
     "metadata": {},
     "output_type": "display_data"
    },
    {
     "data": {
      "image/png": "[encoded data removed]",
      "text/plain": [
       "<Figure size 504x504 with 1 Axes>"
      ]
     },
     "metadata": {},
     "output_type": "display_data"
    }
   ],
   "source": [
    "create_pie_diagram('na_sales', 'genre', 'Продажи игр для 5 самых популярных жанров в Северной Америке')\n",
    "create_pie_diagram('eu_sales', 'genre', 'Продажи игр для 5 самых популярных жанров в Европе')\n",
    "create_pie_diagram('jp_sales', 'genre', 'Продажи игр для 5 самых популярных жанров в Японии')"
   ]
  },
  {
   "cell_type": "markdown",
   "metadata": {},
   "source": [
    "Как и в случае с игровыми консолями, в Североамериканском и Европейском регионах различия в долях продаж в зависимости от жанра игры почти отсутствуют. Популярными являются жанры 'Action', 'Sports' и 'Shooter'. \n",
    "\n",
    "В Японии снова свои особенности. Почти 45% продаж приходится на жанр 'Role-Playing' (RPG). Популярность объясняется тем, что в \"стране восходящего Солнца\" есть своя разновидность игр этого жанра - Japanese Role-Playing Game (Японская ролевая игра). Большинство таких игр было разработано в Японии и в первую очередь для внутреннего японского рынка для игровых платформ. Имеют свои особенности, привлекательные именно для этого региона."
   ]
  },
  {
   "cell_type": "markdown",
   "metadata": {},
   "source": [
    "**Определение влияния рейтинга ESRB на продажи**"
   ]
  },
  {
   "cell_type": "code",
   "execution_count": 73,
   "metadata": {},
   "outputs": [
    {
     "data": {
      "text/html": [
       "<div>\n",
       "<style scoped>\n",
       "    .dataframe tbody tr th:only-of-type {\n",
       "        vertical-align: middle;\n",
       "    }\n",
       "\n",
       "    .dataframe tbody tr th {\n",
       "        vertical-align: top;\n",
       "    }\n",
       "\n",
       "    .dataframe thead th {\n",
       "        text-align: right;\n",
       "    }\n",
       "</style>\n",
       "<table border=\"1\" class=\"dataframe\">\n",
       "  <thead>\n",
       "    <tr style=\"text-align: right;\">\n",
       "      <th></th>\n",
       "      <th>na_sales</th>\n",
       "      <th>eu_sales</th>\n",
       "      <th>jp_sales</th>\n",
       "    </tr>\n",
       "    <tr>\n",
       "      <th>rating</th>\n",
       "      <th></th>\n",
       "      <th></th>\n",
       "      <th></th>\n",
       "    </tr>\n",
       "  </thead>\n",
       "  <tbody>\n",
       "    <tr>\n",
       "      <th>M</th>\n",
       "      <td>175.18</td>\n",
       "      <td>157.15</td>\n",
       "      <td>15.11</td>\n",
       "    </tr>\n",
       "    <tr>\n",
       "      <th>E</th>\n",
       "      <td>81.71</td>\n",
       "      <td>85.49</td>\n",
       "      <td>15.98</td>\n",
       "    </tr>\n",
       "    <tr>\n",
       "      <th>undef</th>\n",
       "      <td>72.54</td>\n",
       "      <td>61.19</td>\n",
       "      <td>80.82</td>\n",
       "    </tr>\n",
       "    <tr>\n",
       "      <th>E10+</th>\n",
       "      <td>56.38</td>\n",
       "      <td>45.20</td>\n",
       "      <td>6.27</td>\n",
       "    </tr>\n",
       "    <tr>\n",
       "      <th>T</th>\n",
       "      <td>51.98</td>\n",
       "      <td>43.68</td>\n",
       "      <td>22.84</td>\n",
       "    </tr>\n",
       "  </tbody>\n",
       "</table>\n",
       "</div>"
      ],
      "text/plain": [
       "        na_sales  eu_sales  jp_sales\n",
       "rating                              \n",
       "M         175.18    157.15     15.11\n",
       "E          81.71     85.49     15.98\n",
       "undef      72.54     61.19     80.82\n",
       "E10+       56.38     45.20      6.27\n",
       "T          51.98     43.68     22.84"
      ]
     },
     "execution_count": 73,
     "metadata": {},
     "output_type": "execute_result"
    }
   ],
   "source": [
    "df_act.groupby('rating')[['na_sales', 'eu_sales', 'jp_sales']].agg('sum').sort_values(by='na_sales', ascending=False)"
   ]
  },
  {
   "cell_type": "markdown",
   "metadata": {},
   "source": [
    "Видим, что в разных регионах популярны игры с разным рейтингом ESRB. В Северной Америке больше всего прибыли приносят игры с пометкой '17+', в Европе - ситуация аналогичная, а вот в Японии ситуация неоднозначная. Там самыми популярными являются игры без рейтинга. Для более глубокого исследования популярности игр в зависимости от выставленного рейтинга, необходимо выяснять причины столь большого количества игр без рейтинга в рассматриваемом датафрейме."
   ]
  },
  {
   "cell_type": "markdown",
   "metadata": {},
   "source": [
    "**Вывод**\n",
    "\n",
    "Исследовали популярность игр в зависимости от региона. Определили самые популярные платформы, самые популярные жанры, а также влияние рейтинга ESRB на выручку с продаж. Выявили особенности игр, популярных в Японском регионе: среди платформ там популярны портативные игровые консоли, а среди жанров - RPG. Предположили возможные причины столь сильных различий с Североамериканским и Европейским регионами."
   ]
  },
  {
   "cell_type": "markdown",
   "metadata": {},
   "source": [
    "## Проверка гипотез"
   ]
  },
  {
   "cell_type": "markdown",
   "metadata": {},
   "source": [
    "Необходимо проверить:\n",
    "1. Средние пользовательские рейтинги платформ 'Xbox One' и 'PC' одинаковые;\n",
    "2. Средние пользовательские рейтинги жанров 'Action' и 'Sports' разные."
   ]
  },
  {
   "cell_type": "markdown",
   "metadata": {},
   "source": [
    "**Проверка гипотезы 1**"
   ]
  },
  {
   "cell_type": "markdown",
   "metadata": {},
   "source": [
    "Принято, что в нулевой гипотезе должен быть знак равенства (т.е. какие-либо величины равны между собой). Поэтому нулевая и альтернативная гипотезы выглядят так:"
   ]
  },
  {
   "cell_type": "markdown",
   "metadata": {},
   "source": [
    "**Нулевая гипотеза H0**: \"Средние пользовательские рейтинги платформ 'Xbox One' и 'PC' равны\"\n",
    "\n",
    "**Альтернативная гипотеза H1**: \"Средние пользовательские рейтинги платформ 'Xbox One' и 'PC' не равны\""
   ]
  },
  {
   "cell_type": "markdown",
   "metadata": {},
   "source": [
    "Проверять гипотезу будем с помощью критерия Стьюдента и основанного на нем t-теста."
   ]
  },
  {
   "cell_type": "code",
   "execution_count": 74,
   "metadata": {},
   "outputs": [
    {
     "name": "stdout",
     "output_type": "stream",
     "text": [
      "0.16174359801784308\n",
      "\n",
      "Не получилось отвергнуть нулевую гипотезу\n",
      "\n",
      "Средняя оценка пользователя игры для платформы \"Xbox One\": 6.521428571428572\n",
      "Средняя оценка пользователя игры для платформы \"PC\": 6.280379746835442\n"
     ]
    }
   ],
   "source": [
    "samp1 = df_act.query('platform==\"XOne\" and not user_score.isna()')['user_score']  #выборка, содержащая пользовательские оценки \n",
    "                                                                                  #игр платформы 'Xbox One'\n",
    "samp2 = df_act.query('platform==\"PC\" and not user_score.isna()')['user_score']    #выборка, содержащая пользовательские оценки\n",
    "                                                                                  #игр платформы 'PC'\n",
    "alpha = 0.05                                                                      #пороговое значение\n",
    "results = st.ttest_ind(samp1, samp2, equal_var=False)\n",
    "print(results.pvalue)\n",
    "print()\n",
    "if results.pvalue < alpha:\n",
    "    print('Отвергаем нулевую гипотезу')\n",
    "else:\n",
    "    print('Не получилось отвергнуть нулевую гипотезу')\n",
    "    \n",
    "print()\n",
    "print('Средняя оценка пользователя игры для платформы \"Xbox One\":',samp1.mean())\n",
    "print('Средняя оценка пользователя игры для платформы \"PC\":',samp2.mean())"
   ]
  },
  {
   "cell_type": "markdown",
   "metadata": {},
   "source": [
    "Видим, что не получилось отвергнуть нулевую гипотезу, значит средние двух выборок не отличаются. Приведенные расчеты средней оценки пользователя для каждой платформы говорят о том, что пользователи оценивают игры для платформы 'PC' примерно также, как и для 'Xbox One'."
   ]
  },
  {
   "cell_type": "markdown",
   "metadata": {},
   "source": [
    "**Проверка гипотезы 2**"
   ]
  },
  {
   "cell_type": "markdown",
   "metadata": {},
   "source": [
    "Причины, по которым нулевая и альтернативная гипотезы получили следующие формулировки такие же, как и в случае с гипотезой 1."
   ]
  },
  {
   "cell_type": "markdown",
   "metadata": {},
   "source": [
    "**Нулевая гипотеза H0**: \"Средние пользовательские рейтинги жанров 'Action' и 'Sports' равны\"\n",
    "\n",
    "**Альтернативная гипотеза H1**: \"Средние пользовательские рейтинги жанров 'Action' и 'Sports' отличаются\""
   ]
  },
  {
   "cell_type": "markdown",
   "metadata": {},
   "source": [
    "Проверять гипотезу будем с помощью критерия Стьюдента и основанного на нем t-теста."
   ]
  },
  {
   "cell_type": "code",
   "execution_count": 75,
   "metadata": {},
   "outputs": [
    {
     "name": "stdout",
     "output_type": "stream",
     "text": [
      "1.3883444596405356e-20\n",
      "\n",
      "Отвергаем нулевую гипотезу\n",
      "\n",
      "Средняя оценка пользователя игры жанра \"Action\": 6.8375\n",
      "Средняя оценка пользователя игры жанра \"Sports\": 5.238124999999999\n"
     ]
    }
   ],
   "source": [
    "samp3 = df_act.query('genre==\"Action\" and not user_score.isna()')['user_score']  #выборка, содержащая пользовательские оценки \n",
    "                                                                                 #игр платформы 'Xbox One'\n",
    "samp4 = df_act.query('genre==\"Sports\" and not user_score.isna()')['user_score']  #выборка, содержащая пользовательские оценки\n",
    "                                                                                 #игр платформы 'PC'\n",
    "alpha = 0.05                                                                     #пороговое значение\n",
    "results = st.ttest_ind(samp3, samp4, equal_var=False)\n",
    "print(results.pvalue)\n",
    "print()\n",
    "if results.pvalue < alpha:\n",
    "    print('Отвергаем нулевую гипотезу')\n",
    "else:\n",
    "    print('Не получилось отвергнуть нулевую гипотезу')\n",
    "    \n",
    "print()\n",
    "print('Средняя оценка пользователя игры жанра \"Action\":',samp3.mean())\n",
    "print('Средняя оценка пользователя игры жанра \"Sports\":',samp4.mean())"
   ]
  },
  {
   "cell_type": "markdown",
   "metadata": {},
   "source": [
    "Видим, что нулевая гипотеза H0 отвергнута, значит средние двух выборок отличаются. Приведенные расчеты средней оценки пользователя для жанров 'Action' и 'Sports' говорят о том, что пользователи оценивают игры жанра 'Action' выше, чем игры жанра 'Sports'."
   ]
  },
  {
   "cell_type": "markdown",
   "metadata": {},
   "source": [
    "**Вывод**\n",
    "\n",
    "Проверили гипотезы и подтвердили, что cредние пользовательские оценки платформ 'Xbox One' и 'PC' не равны, а средние пользовательские рейтинги жанров 'Action' и 'Sports' отличаются."
   ]
  },
  {
   "cell_type": "markdown",
   "metadata": {},
   "source": [
    "## Общий вывод"
   ]
  },
  {
   "cell_type": "markdown",
   "metadata": {},
   "source": [
    "1. Считали таблицу из файла и изучили общую информацию. Оценили данные, обозначили явные проблемы, наметили план предобработки.\n",
    "2. Нашли пропуски в таблице. Выдвинули предположения о причинах их возникновения. Заполнили пропущенные значения, где это было уместно.\n",
    "3. Обнаружили дубликаты в таблице, произвели их обработку.\n",
    "4. Изменили типы данных в некоторых столбцах на более подходящие.\n",
    "5. Посчитали и добавили в таблицу новый параметр - суммарные продажи игр по всем регионам.\n",
    "6. Провели исследовательский анализ данных, а именно:\n",
    "    - построили графики и показали сколько игр выпускалось в разные годы; \n",
    "    - выяснили, что индустрия видеоигр начала активно развиваться **после 1994 года**; \n",
    "    - построили графики продаж по годам в зависимости от платформы;\n",
    "    - нашли характерный срок, за которых появляются новые и исчезают старые платформы - **10 лет**; определили аrтуальный период для последующего рассмотрения данных (**с 2013 года по настоящее время**);\n",
    "    - определили несколько потенциально прибыльных платформ: **'PS4', '3DS', 'PC' и 'XOne'**, построили для каждой из них диаграммы размаха по глобальным продажам игр;\n",
    "    - оценили влияние отзывов пользователей и критиков на суммарные выручки игр. Пришли к выводу, что **оценки критиков и пользователей оказывают влияние на итоговый успех той или иной игры, на ее продажи**;\n",
    "    - исследовали общее распределение игр по жанрам; выяснили, какие жанры являются **самыми прибыльными ('Action', 'Sports', 'Shooter', 'Misc' и 'Role-Playing'**), а **какие нет ('Adventure', 'Puzzle' и 'Strategy')**;\n",
    "    - провели исследование популярность игр в зависимости от региона. Определим самые популярные платформы, самые популярные жанры, а также влияние рейтинга ESRB на выручку с продаж.\n",
    "        - **в СевероамериканскомЕвропейском регионе пользуются популярностью игры на платформах: 'PS4', 'XOne' и 'X360', а среди жанров игр популярными являются: 'Action', 'Sports' и 'Shooter'**;\n",
    "        - **в Европейском регионе пользуются популярностью игры на платформах: 'PS4', 'PS3' и 'XOne', а среди жанров игр популярными являются: 'Action', 'Sports' и 'Shooter'**;\n",
    "        - **в Японии пользуются популярностью игры на платформах: '3DS', 'PS3' и 'PSV', а среди жанров игр популярными являются: 'Role-Playing' и 'Action'**;\n",
    "    - выявили особенности игр, популярных в Японском регионе: среди платформ там популярны портативные игровые консоли, а среди жанров - RPG. Предположили возможные причины столь сильных различий с Североамериканским и Европейским регионами;\n",
    "    - исследовав влияние рейтинга ESRB на продажи, пришли к выводу, что **рейтинги популярных игр в разных регионах отличаются**;\n",
    "    - проверили гипотезы о равенстве средние пользовательский рейтингой для платформ 'Xbox One' и 'PC' и для жанров 'Action' и 'Sports'.\n",
    "7. **РЕКОМЕНДАЦИИ:** поскольку перед нами стояла задача спланировать продажи на 2017 год в зависимости от популярности игр, то сформулируем следующие рекомендации:\n",
    "    - необходимо сделать упор в большей степени на платформы 'PS4', '3DS', 'XOne', т.к. на текущий момент они самые популярные и их продажи в 2017 году будут еще на восходящем тренде;\n",
    "    - самые прибыльные жанры: 'Action', 'Sports', 'Shooter'. Особое внимание стоит обратить на игры жанра 'Shooter', которые отличаются высокой средней выручкой (более 1.2 млн);\n",
    "    - наибольшую прибыль в Северной Америке и Европе приносят игры, у которых рейтинг ESRB - 'M' (17+);\n",
    "    - для Японии свои особенности: \n",
    "        - самыми прибыльнымы являются игры жанра 'Role-Playing';\n",
    "        - 70% рынка занимают портативные консоли ('3DS', 'PSV', 'WiiU'), 30% - консоли 'Play Station' 3 и 4 версии.\n",
    "    "
   ]
  }
 ],
 "metadata": {
  "kernelspec": {
   "display_name": "Python 3",
   "language": "python",
   "name": "python3"
  },
  "language_info": {
   "codemirror_mode": {
    "name": "ipython",
    "version": 3
   },
   "file_extension": ".py",
   "mimetype": "text/x-python",
   "name": "python",
   "nbconvert_exporter": "python",
   "pygments_lexer": "ipython3",
   "version": "3.7.10"
  },
  "toc": {
   "base_numbering": 1,
   "nav_menu": {},
   "number_sections": true,
   "sideBar": true,
   "skip_h1_title": true,
   "title_cell": "Содержание",
   "title_sidebar": "Contents",
   "toc_cell": true,
   "toc_position": {},
   "toc_section_display": true,
   "toc_window_display": true
  }
 },
 "nbformat": 4,
 "nbformat_minor": 2
}
