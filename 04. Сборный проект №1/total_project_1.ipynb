{
 "cells": [
  {
   "cell_type": "markdown",
   "metadata": {},
   "source": [
    "# 04. Сборный проект №1"
   ]
  },
  {
   "cell_type": "markdown",
   "metadata": {},
   "source": [
    "# Исследование популярности компьютерных игр"
   ]
  },
  {
   "cell_type": "markdown",
   "metadata": {},
   "source": [
    "Заказчик - интернет-магазин «Стримчик», который продаёт по всему миру компьютерные игры. Из открытых источников доступны исторические данные о продажах игр, оценки пользователей и экспертов, жанры и игровые платформы (например, Xbox или PlayStation). \n",
    "\n",
    "**Нам нужно выявить определяющие успешность игры закономерности.** Это позволит сделать ставку на потенциально популярный продукт и спланировать рекламные кампании.\n",
    "Перед нами данные до 2016 года. Представим, что сейчас декабрь 2016 г., и мы планируем кампанию на 2017-й. Нужно отработать принцип работы с данными. Неважно, прогнозируете ли мы продажи на 2017 год по данным 2016-го или же 2027-й — по данным 2026 года."
   ]
  },
  {
   "cell_type": "markdown",
   "metadata": {
    "toc": true
   },
   "source": [
    "<h1>Содержание<span class=\"tocSkip\"></span></h1>\n",
    "<div class=\"toc\"><ul class=\"toc-item\"><li><span><a href=\"#Изучение-общей-информации\" data-toc-modified-id=\"Изучение-общей-информации-1\"><span class=\"toc-item-num\">1&nbsp;&nbsp;</span>Изучение общей информации</a></span></li><li><span><a href=\"#Предобработка-данных\" data-toc-modified-id=\"Предобработка-данных-2\"><span class=\"toc-item-num\">2&nbsp;&nbsp;</span>Предобработка данных</a></span><ul class=\"toc-item\"><li><span><a href=\"#Преобразование-данных\" data-toc-modified-id=\"Преобразование-данных-2.1\"><span class=\"toc-item-num\">2.1&nbsp;&nbsp;</span>Преобразование данных</a></span></li><li><span><a href=\"#Обработка-пропущенных-значений\" data-toc-modified-id=\"Обработка-пропущенных-значений-2.2\"><span class=\"toc-item-num\">2.2&nbsp;&nbsp;</span>Обработка пропущенных значений</a></span></li><li><span><a href=\"#Преобразование-типов-данных\" data-toc-modified-id=\"Преобразование-типов-данных-2.3\"><span class=\"toc-item-num\">2.3&nbsp;&nbsp;</span>Преобразование типов данных</a></span></li><li><span><a href=\"#Обработка-дубликатов\" data-toc-modified-id=\"Обработка-дубликатов-2.4\"><span class=\"toc-item-num\">2.4&nbsp;&nbsp;</span>Обработка дубликатов</a></span></li><li><span><a href=\"#Проведение-дополнительных-расчетов\" data-toc-modified-id=\"Проведение-дополнительных-расчетов-2.5\"><span class=\"toc-item-num\">2.5&nbsp;&nbsp;</span>Проведение дополнительных расчетов</a></span></li></ul></li><li><span><a href=\"#Исследовательский-анализ\" data-toc-modified-id=\"Исследовательский-анализ-3\"><span class=\"toc-item-num\">3&nbsp;&nbsp;</span>Исследовательский анализ</a></span></li><li><span><a href=\"#Анализ-пользователей-различных-регионов\" data-toc-modified-id=\"Анализ-пользователей-различных-регионов-4\"><span class=\"toc-item-num\">4&nbsp;&nbsp;</span>Анализ пользователей различных регионов</a></span></li><li><span><a href=\"#Проверка-гипотез\" data-toc-modified-id=\"Проверка-гипотез-5\"><span class=\"toc-item-num\">5&nbsp;&nbsp;</span>Проверка гипотез</a></span></li><li><span><a href=\"#Общий-вывод\" data-toc-modified-id=\"Общий-вывод-6\"><span class=\"toc-item-num\">6&nbsp;&nbsp;</span>Общий вывод</a></span></li></ul></div>"
   ]
  },
  {
   "cell_type": "markdown",
   "metadata": {},
   "source": [
    "## Изучение общей информации"
   ]
  },
  {
   "cell_type": "code",
   "execution_count": 1,
   "metadata": {},
   "outputs": [],
   "source": [
    "import pandas as pd\n",
    "import numpy as np\n",
    "import matplotlib.pyplot as plt\n",
    "import scipy.stats as st\n",
    "import math as mt\n",
    "import warnings\n",
    "warnings.filterwarnings('ignore')"
   ]
  },
  {
   "cell_type": "markdown",
   "metadata": {},
   "source": [
    "Информация о продажах игр содержится в файле 'games.csv'. Преобразуем данные из файла в таблицу и посмотрим первые 5 строк:"
   ]
  },
  {
   "cell_type": "code",
   "execution_count": 2,
   "metadata": {},
   "outputs": [
    {
     "ename": "FileNotFoundError",
     "evalue": "[Errno 2] No such file or directory: 'games.csv'",
     "output_type": "error",
     "traceback": [
      "\u001b[1;31m---------------------------------------------------------------------------\u001b[0m",
      "\u001b[1;31mFileNotFoundError\u001b[0m                         Traceback (most recent call last)",
      "\u001b[1;32m<ipython-input-2-23ecc8232ab7>\u001b[0m in \u001b[0;36m<module>\u001b[1;34m\u001b[0m\n\u001b[1;32m----> 1\u001b[1;33m \u001b[0mdf\u001b[0m \u001b[1;33m=\u001b[0m \u001b[0mpd\u001b[0m\u001b[1;33m.\u001b[0m\u001b[0mread_csv\u001b[0m\u001b[1;33m(\u001b[0m\u001b[1;34m'games.csv'\u001b[0m\u001b[1;33m)\u001b[0m\u001b[1;33m\u001b[0m\u001b[1;33m\u001b[0m\u001b[0m\n\u001b[0m\u001b[0;32m      2\u001b[0m \u001b[0mdf\u001b[0m\u001b[1;33m.\u001b[0m\u001b[0mhead\u001b[0m\u001b[1;33m(\u001b[0m\u001b[1;33m)\u001b[0m\u001b[1;33m\u001b[0m\u001b[1;33m\u001b[0m\u001b[0m\n",
      "\u001b[1;32mD:\\Leo\\DS\\Anaconda\\envs\\practicum\\lib\\site-packages\\pandas\\util\\_decorators.py\u001b[0m in \u001b[0;36mwrapper\u001b[1;34m(*args, **kwargs)\u001b[0m\n\u001b[0;32m    309\u001b[0m                     \u001b[0mstacklevel\u001b[0m\u001b[1;33m=\u001b[0m\u001b[0mstacklevel\u001b[0m\u001b[1;33m,\u001b[0m\u001b[1;33m\u001b[0m\u001b[1;33m\u001b[0m\u001b[0m\n\u001b[0;32m    310\u001b[0m                 )\n\u001b[1;32m--> 311\u001b[1;33m             \u001b[1;32mreturn\u001b[0m \u001b[0mfunc\u001b[0m\u001b[1;33m(\u001b[0m\u001b[1;33m*\u001b[0m\u001b[0margs\u001b[0m\u001b[1;33m,\u001b[0m \u001b[1;33m**\u001b[0m\u001b[0mkwargs\u001b[0m\u001b[1;33m)\u001b[0m\u001b[1;33m\u001b[0m\u001b[1;33m\u001b[0m\u001b[0m\n\u001b[0m\u001b[0;32m    312\u001b[0m \u001b[1;33m\u001b[0m\u001b[0m\n\u001b[0;32m    313\u001b[0m         \u001b[1;32mreturn\u001b[0m \u001b[0mwrapper\u001b[0m\u001b[1;33m\u001b[0m\u001b[1;33m\u001b[0m\u001b[0m\n",
      "\u001b[1;32mD:\\Leo\\DS\\Anaconda\\envs\\practicum\\lib\\site-packages\\pandas\\io\\parsers\\readers.py\u001b[0m in \u001b[0;36mread_csv\u001b[1;34m(filepath_or_buffer, sep, delimiter, header, names, index_col, usecols, squeeze, prefix, mangle_dupe_cols, dtype, engine, converters, true_values, false_values, skipinitialspace, skiprows, skipfooter, nrows, na_values, keep_default_na, na_filter, verbose, skip_blank_lines, parse_dates, infer_datetime_format, keep_date_col, date_parser, dayfirst, cache_dates, iterator, chunksize, compression, thousands, decimal, lineterminator, quotechar, quoting, doublequote, escapechar, comment, encoding, encoding_errors, dialect, error_bad_lines, warn_bad_lines, on_bad_lines, delim_whitespace, low_memory, memory_map, float_precision, storage_options)\u001b[0m\n\u001b[0;32m    584\u001b[0m     \u001b[0mkwds\u001b[0m\u001b[1;33m.\u001b[0m\u001b[0mupdate\u001b[0m\u001b[1;33m(\u001b[0m\u001b[0mkwds_defaults\u001b[0m\u001b[1;33m)\u001b[0m\u001b[1;33m\u001b[0m\u001b[1;33m\u001b[0m\u001b[0m\n\u001b[0;32m    585\u001b[0m \u001b[1;33m\u001b[0m\u001b[0m\n\u001b[1;32m--> 586\u001b[1;33m     \u001b[1;32mreturn\u001b[0m \u001b[0m_read\u001b[0m\u001b[1;33m(\u001b[0m\u001b[0mfilepath_or_buffer\u001b[0m\u001b[1;33m,\u001b[0m \u001b[0mkwds\u001b[0m\u001b[1;33m)\u001b[0m\u001b[1;33m\u001b[0m\u001b[1;33m\u001b[0m\u001b[0m\n\u001b[0m\u001b[0;32m    587\u001b[0m \u001b[1;33m\u001b[0m\u001b[0m\n\u001b[0;32m    588\u001b[0m \u001b[1;33m\u001b[0m\u001b[0m\n",
      "\u001b[1;32mD:\\Leo\\DS\\Anaconda\\envs\\practicum\\lib\\site-packages\\pandas\\io\\parsers\\readers.py\u001b[0m in \u001b[0;36m_read\u001b[1;34m(filepath_or_buffer, kwds)\u001b[0m\n\u001b[0;32m    480\u001b[0m \u001b[1;33m\u001b[0m\u001b[0m\n\u001b[0;32m    481\u001b[0m     \u001b[1;31m# Create the parser.\u001b[0m\u001b[1;33m\u001b[0m\u001b[1;33m\u001b[0m\u001b[1;33m\u001b[0m\u001b[0m\n\u001b[1;32m--> 482\u001b[1;33m     \u001b[0mparser\u001b[0m \u001b[1;33m=\u001b[0m \u001b[0mTextFileReader\u001b[0m\u001b[1;33m(\u001b[0m\u001b[0mfilepath_or_buffer\u001b[0m\u001b[1;33m,\u001b[0m \u001b[1;33m**\u001b[0m\u001b[0mkwds\u001b[0m\u001b[1;33m)\u001b[0m\u001b[1;33m\u001b[0m\u001b[1;33m\u001b[0m\u001b[0m\n\u001b[0m\u001b[0;32m    483\u001b[0m \u001b[1;33m\u001b[0m\u001b[0m\n\u001b[0;32m    484\u001b[0m     \u001b[1;32mif\u001b[0m \u001b[0mchunksize\u001b[0m \u001b[1;32mor\u001b[0m \u001b[0miterator\u001b[0m\u001b[1;33m:\u001b[0m\u001b[1;33m\u001b[0m\u001b[1;33m\u001b[0m\u001b[0m\n",
      "\u001b[1;32mD:\\Leo\\DS\\Anaconda\\envs\\practicum\\lib\\site-packages\\pandas\\io\\parsers\\readers.py\u001b[0m in \u001b[0;36m__init__\u001b[1;34m(self, f, engine, **kwds)\u001b[0m\n\u001b[0;32m    809\u001b[0m             \u001b[0mself\u001b[0m\u001b[1;33m.\u001b[0m\u001b[0moptions\u001b[0m\u001b[1;33m[\u001b[0m\u001b[1;34m\"has_index_names\"\u001b[0m\u001b[1;33m]\u001b[0m \u001b[1;33m=\u001b[0m \u001b[0mkwds\u001b[0m\u001b[1;33m[\u001b[0m\u001b[1;34m\"has_index_names\"\u001b[0m\u001b[1;33m]\u001b[0m\u001b[1;33m\u001b[0m\u001b[1;33m\u001b[0m\u001b[0m\n\u001b[0;32m    810\u001b[0m \u001b[1;33m\u001b[0m\u001b[0m\n\u001b[1;32m--> 811\u001b[1;33m         \u001b[0mself\u001b[0m\u001b[1;33m.\u001b[0m\u001b[0m_engine\u001b[0m \u001b[1;33m=\u001b[0m \u001b[0mself\u001b[0m\u001b[1;33m.\u001b[0m\u001b[0m_make_engine\u001b[0m\u001b[1;33m(\u001b[0m\u001b[0mself\u001b[0m\u001b[1;33m.\u001b[0m\u001b[0mengine\u001b[0m\u001b[1;33m)\u001b[0m\u001b[1;33m\u001b[0m\u001b[1;33m\u001b[0m\u001b[0m\n\u001b[0m\u001b[0;32m    812\u001b[0m \u001b[1;33m\u001b[0m\u001b[0m\n\u001b[0;32m    813\u001b[0m     \u001b[1;32mdef\u001b[0m \u001b[0mclose\u001b[0m\u001b[1;33m(\u001b[0m\u001b[0mself\u001b[0m\u001b[1;33m)\u001b[0m\u001b[1;33m:\u001b[0m\u001b[1;33m\u001b[0m\u001b[1;33m\u001b[0m\u001b[0m\n",
      "\u001b[1;32mD:\\Leo\\DS\\Anaconda\\envs\\practicum\\lib\\site-packages\\pandas\\io\\parsers\\readers.py\u001b[0m in \u001b[0;36m_make_engine\u001b[1;34m(self, engine)\u001b[0m\n\u001b[0;32m   1038\u001b[0m             )\n\u001b[0;32m   1039\u001b[0m         \u001b[1;31m# error: Too many arguments for \"ParserBase\"\u001b[0m\u001b[1;33m\u001b[0m\u001b[1;33m\u001b[0m\u001b[1;33m\u001b[0m\u001b[0m\n\u001b[1;32m-> 1040\u001b[1;33m         \u001b[1;32mreturn\u001b[0m \u001b[0mmapping\u001b[0m\u001b[1;33m[\u001b[0m\u001b[0mengine\u001b[0m\u001b[1;33m]\u001b[0m\u001b[1;33m(\u001b[0m\u001b[0mself\u001b[0m\u001b[1;33m.\u001b[0m\u001b[0mf\u001b[0m\u001b[1;33m,\u001b[0m \u001b[1;33m**\u001b[0m\u001b[0mself\u001b[0m\u001b[1;33m.\u001b[0m\u001b[0moptions\u001b[0m\u001b[1;33m)\u001b[0m  \u001b[1;31m# type: ignore[call-arg]\u001b[0m\u001b[1;33m\u001b[0m\u001b[1;33m\u001b[0m\u001b[0m\n\u001b[0m\u001b[0;32m   1041\u001b[0m \u001b[1;33m\u001b[0m\u001b[0m\n\u001b[0;32m   1042\u001b[0m     \u001b[1;32mdef\u001b[0m \u001b[0m_failover_to_python\u001b[0m\u001b[1;33m(\u001b[0m\u001b[0mself\u001b[0m\u001b[1;33m)\u001b[0m\u001b[1;33m:\u001b[0m\u001b[1;33m\u001b[0m\u001b[1;33m\u001b[0m\u001b[0m\n",
      "\u001b[1;32mD:\\Leo\\DS\\Anaconda\\envs\\practicum\\lib\\site-packages\\pandas\\io\\parsers\\c_parser_wrapper.py\u001b[0m in \u001b[0;36m__init__\u001b[1;34m(self, src, **kwds)\u001b[0m\n\u001b[0;32m     49\u001b[0m \u001b[1;33m\u001b[0m\u001b[0m\n\u001b[0;32m     50\u001b[0m         \u001b[1;31m# open handles\u001b[0m\u001b[1;33m\u001b[0m\u001b[1;33m\u001b[0m\u001b[1;33m\u001b[0m\u001b[0m\n\u001b[1;32m---> 51\u001b[1;33m         \u001b[0mself\u001b[0m\u001b[1;33m.\u001b[0m\u001b[0m_open_handles\u001b[0m\u001b[1;33m(\u001b[0m\u001b[0msrc\u001b[0m\u001b[1;33m,\u001b[0m \u001b[0mkwds\u001b[0m\u001b[1;33m)\u001b[0m\u001b[1;33m\u001b[0m\u001b[1;33m\u001b[0m\u001b[0m\n\u001b[0m\u001b[0;32m     52\u001b[0m         \u001b[1;32massert\u001b[0m \u001b[0mself\u001b[0m\u001b[1;33m.\u001b[0m\u001b[0mhandles\u001b[0m \u001b[1;32mis\u001b[0m \u001b[1;32mnot\u001b[0m \u001b[1;32mNone\u001b[0m\u001b[1;33m\u001b[0m\u001b[1;33m\u001b[0m\u001b[0m\n\u001b[0;32m     53\u001b[0m \u001b[1;33m\u001b[0m\u001b[0m\n",
      "\u001b[1;32mD:\\Leo\\DS\\Anaconda\\envs\\practicum\\lib\\site-packages\\pandas\\io\\parsers\\base_parser.py\u001b[0m in \u001b[0;36m_open_handles\u001b[1;34m(self, src, kwds)\u001b[0m\n\u001b[0;32m    227\u001b[0m             \u001b[0mmemory_map\u001b[0m\u001b[1;33m=\u001b[0m\u001b[0mkwds\u001b[0m\u001b[1;33m.\u001b[0m\u001b[0mget\u001b[0m\u001b[1;33m(\u001b[0m\u001b[1;34m\"memory_map\"\u001b[0m\u001b[1;33m,\u001b[0m \u001b[1;32mFalse\u001b[0m\u001b[1;33m)\u001b[0m\u001b[1;33m,\u001b[0m\u001b[1;33m\u001b[0m\u001b[1;33m\u001b[0m\u001b[0m\n\u001b[0;32m    228\u001b[0m             \u001b[0mstorage_options\u001b[0m\u001b[1;33m=\u001b[0m\u001b[0mkwds\u001b[0m\u001b[1;33m.\u001b[0m\u001b[0mget\u001b[0m\u001b[1;33m(\u001b[0m\u001b[1;34m\"storage_options\"\u001b[0m\u001b[1;33m,\u001b[0m \u001b[1;32mNone\u001b[0m\u001b[1;33m)\u001b[0m\u001b[1;33m,\u001b[0m\u001b[1;33m\u001b[0m\u001b[1;33m\u001b[0m\u001b[0m\n\u001b[1;32m--> 229\u001b[1;33m             \u001b[0merrors\u001b[0m\u001b[1;33m=\u001b[0m\u001b[0mkwds\u001b[0m\u001b[1;33m.\u001b[0m\u001b[0mget\u001b[0m\u001b[1;33m(\u001b[0m\u001b[1;34m\"encoding_errors\"\u001b[0m\u001b[1;33m,\u001b[0m \u001b[1;34m\"strict\"\u001b[0m\u001b[1;33m)\u001b[0m\u001b[1;33m,\u001b[0m\u001b[1;33m\u001b[0m\u001b[1;33m\u001b[0m\u001b[0m\n\u001b[0m\u001b[0;32m    230\u001b[0m         )\n\u001b[0;32m    231\u001b[0m \u001b[1;33m\u001b[0m\u001b[0m\n",
      "\u001b[1;32mD:\\Leo\\DS\\Anaconda\\envs\\practicum\\lib\\site-packages\\pandas\\io\\common.py\u001b[0m in \u001b[0;36mget_handle\u001b[1;34m(path_or_buf, mode, encoding, compression, memory_map, is_text, errors, storage_options)\u001b[0m\n\u001b[0;32m    704\u001b[0m                 \u001b[0mencoding\u001b[0m\u001b[1;33m=\u001b[0m\u001b[0mioargs\u001b[0m\u001b[1;33m.\u001b[0m\u001b[0mencoding\u001b[0m\u001b[1;33m,\u001b[0m\u001b[1;33m\u001b[0m\u001b[1;33m\u001b[0m\u001b[0m\n\u001b[0;32m    705\u001b[0m                 \u001b[0merrors\u001b[0m\u001b[1;33m=\u001b[0m\u001b[0merrors\u001b[0m\u001b[1;33m,\u001b[0m\u001b[1;33m\u001b[0m\u001b[1;33m\u001b[0m\u001b[0m\n\u001b[1;32m--> 706\u001b[1;33m                 \u001b[0mnewline\u001b[0m\u001b[1;33m=\u001b[0m\u001b[1;34m\"\"\u001b[0m\u001b[1;33m,\u001b[0m\u001b[1;33m\u001b[0m\u001b[1;33m\u001b[0m\u001b[0m\n\u001b[0m\u001b[0;32m    707\u001b[0m             )\n\u001b[0;32m    708\u001b[0m         \u001b[1;32melse\u001b[0m\u001b[1;33m:\u001b[0m\u001b[1;33m\u001b[0m\u001b[1;33m\u001b[0m\u001b[0m\n",
      "\u001b[1;31mFileNotFoundError\u001b[0m: [Errno 2] No such file or directory: 'games.csv'"
     ]
    }
   ],
   "source": [
    "df = pd.read_csv('games.csv')\n",
    "df.head()"
   ]
  },
  {
   "cell_type": "markdown",
   "metadata": {},
   "source": [
    "**Описание данных:**\n",
    "- `Name` — название игры;\n",
    "- `Platform` — игровая платформа;\n",
    "- `Year_of_Release` — год выпуска;\n",
    "- `Genre` — жанр игры;\n",
    "- `NA_sales` — продажи в Северной Америке (миллионы проданных копий);\n",
    "- `EU_sales` — продажи в Европе (миллионы проданных копий);\n",
    "- `JP_sales` — продажи в Японии (миллионы проданных копий);\n",
    "- `Other_sales` — продажи в других странах (миллионы проданных копий);\n",
    "- `Critic_Score` — оценка критиков (максимум 100);\n",
    "- `User_Score` — оценка пользователей (максимум 10);\n",
    "- `Rating` — рейтинг от организации ESRB (англ. Entertainment Software Rating Board)."
   ]
  },
  {
   "cell_type": "markdown",
   "metadata": {},
   "source": [
    "Посмотрим общую информацию о данных в таблице, а также проверим наличие пропущенных значений."
   ]
  },
  {
   "cell_type": "code",
   "execution_count": null,
   "metadata": {},
   "outputs": [],
   "source": [
    "df.info()"
   ]
  },
  {
   "cell_type": "markdown",
   "metadata": {},
   "source": [
    "Видим, что в таблице присутствуют пропуски, которые необходимо обработать. Также потребуется преобразование типов данных в столбцах `Year_of_Release` и `User_Score`. Наконец, для дальнейшего упрощения, преобразуем названия всех столбцов к нижнему регистру."
   ]
  },
  {
   "cell_type": "markdown",
   "metadata": {},
   "source": [
    "Проанализируем вариативность данных в столбцах `Platform`, `Genre`, `Critic_Score`, `User_Score` и `Rating`."
   ]
  },
  {
   "cell_type": "code",
   "execution_count": null,
   "metadata": {},
   "outputs": [],
   "source": [
    "df['Platform'].unique()"
   ]
  },
  {
   "cell_type": "markdown",
   "metadata": {},
   "source": [
    "Данные в столбце `Platform` корректны. "
   ]
  },
  {
   "cell_type": "code",
   "execution_count": null,
   "metadata": {},
   "outputs": [],
   "source": [
    "df['Genre'].unique()"
   ]
  },
  {
   "cell_type": "markdown",
   "metadata": {},
   "source": [
    "В столбце `Genre`, кроме пропущенных значений, ошибочных данных нет."
   ]
  },
  {
   "cell_type": "code",
   "execution_count": null,
   "metadata": {},
   "outputs": [],
   "source": [
    "df['Critic_Score'].unique()"
   ]
  },
  {
   "cell_type": "code",
   "execution_count": null,
   "metadata": {},
   "outputs": [],
   "source": [
    "df['User_Score'].unique()"
   ]
  },
  {
   "cell_type": "markdown",
   "metadata": {},
   "source": [
    "В столбцах `Critic_Score` и `User_Score` требуется выполнить несколько преобразований. Во-первых, привести данные к единой балльной шкале, например к 10-балльной. Во-вторых, обработать значение 'tbd' в столбце `User_Score`, которое обозначает отсутствие рейтинга из-за малого количество оценок пользователей."
   ]
  },
  {
   "cell_type": "code",
   "execution_count": null,
   "metadata": {},
   "outputs": [],
   "source": [
    "df['Rating'].unique()"
   ]
  },
  {
   "cell_type": "markdown",
   "metadata": {},
   "source": [
    "В этом столбце, кроме пропусков, требует внимания значение 'K-A'. До 1998 года оно использовалось для обозначения игр \"для всех\", а, в настоящее время, игры такой категории обозначают как 'E'. По этой причине, необходимо заменить 'K-A' на 'E'."
   ]
  },
  {
   "cell_type": "markdown",
   "metadata": {},
   "source": [
    "**Вывод** \n",
    "\n",
    "**Необходима предобработка данных, а именно:**\n",
    "1. Необходимо изменить названия столбцов - привести их к нижнему регистру.\n",
    "2. Разобраться с природой возникновения пропусков в столбцах `Name`, `Year_of_Release`, `Genre`, `Critic_Score`, `User_Score` и `Rating`.\n",
    "3. Преобразовать типы данных в столбцах `Year_of_Release` и `User_Score`.\n",
    "4. Преобразовать данные:\n",
    "    - в столбце `Critic_Score` данные привести к 10-балльной шкале;\n",
    "    - в столбце `User_Score` обработать значение 'tbd';\n",
    "    - в столбце `Rating` значение 'K-A' заменить на 'E'."
   ]
  },
  {
   "cell_type": "markdown",
   "metadata": {},
   "source": [
    "## Предобработка данных"
   ]
  },
  {
   "cell_type": "markdown",
   "metadata": {},
   "source": [
    "### Преобразование данных"
   ]
  },
  {
   "cell_type": "markdown",
   "metadata": {},
   "source": [
    "**Изменение названия столбцов**"
   ]
  },
  {
   "cell_type": "markdown",
   "metadata": {},
   "source": [
    "Изменим названия всех столбцов таблицы, а именно приведем их к нижнему регистру."
   ]
  },
  {
   "cell_type": "code",
   "execution_count": null,
   "metadata": {},
   "outputs": [],
   "source": [
    "df.columns = df.columns.str.lower()"
   ]
  },
  {
   "cell_type": "code",
   "execution_count": null,
   "metadata": {},
   "outputs": [],
   "source": [
    "# Проверяем\n",
    "df.columns"
   ]
  },
  {
   "cell_type": "markdown",
   "metadata": {},
   "source": [
    "**Преобразование значений столбца `critic_score`**"
   ]
  },
  {
   "cell_type": "markdown",
   "metadata": {},
   "source": [
    "Текущая ситуация такова, что шкалы оценок критиков и пользователей отличаются: критики оценивают игры по 100-балльной шкале, а пользователи - по 10-балльной. Удобнее, когда данные нормированы, т.е. приведены к единой форме. Поэтому переведем оценки критиков в 10-балльную шкалу. Для этого разделим все данные из `critic_score` на 10."
   ]
  },
  {
   "cell_type": "code",
   "execution_count": null,
   "metadata": {},
   "outputs": [],
   "source": [
    "df['critic_score'] = df['critic_score']/10"
   ]
  },
  {
   "cell_type": "markdown",
   "metadata": {},
   "source": [
    "**Преобразование значений столбца `user_score`**"
   ]
  },
  {
   "cell_type": "markdown",
   "metadata": {},
   "source": [
    "Среди значений этого столбца выделяется 'tbd' (To Be Determined - Будет определено). Это означает, что какая-либо игра не получила рейтинг от пользователей из-за ничтожно малого количества оценок. Посмотрим сколько строк в таблице с таким значением рейтинга."
   ]
  },
  {
   "cell_type": "code",
   "execution_count": null,
   "metadata": {},
   "outputs": [],
   "source": [
    "len(df.query('user_score==\"tbd\"'))/len(df)"
   ]
  },
  {
   "cell_type": "markdown",
   "metadata": {},
   "source": [
    "Таких строк слишком много, чтобы их отбросить. Заменить на '0' - также является не правильным решением, т.к. нам неизвестны причины получения игрой малого количества оценок, и может сложиться такая ситуация, что какая-либо игра получила только высокие оценки, но их количество не позволило присвоить рейтинг. \n",
    "\n",
    "Принимая во внимание то, что в рамках исследования, возможно, потребуется найти среднее значение рейтинга, заменим значение 'tbd' на пропуск (NaN-значение)."
   ]
  },
  {
   "cell_type": "code",
   "execution_count": null,
   "metadata": {},
   "outputs": [],
   "source": [
    "df['user_score'] = df['user_score'].replace('tbd', np.nan)"
   ]
  },
  {
   "cell_type": "markdown",
   "metadata": {},
   "source": [
    "**Преобразование значений столбца `rating`**"
   ]
  },
  {
   "cell_type": "markdown",
   "metadata": {},
   "source": [
    "Как отмечалось выше, значение рейтинга ESRB 'K-A' является устаревшей формой современного значения 'E'. По этой причине, заменим 'K-A' на 'E'."
   ]
  },
  {
   "cell_type": "code",
   "execution_count": null,
   "metadata": {},
   "outputs": [],
   "source": [
    "df['rating'] = df['rating'].replace('K-A', 'E')"
   ]
  },
  {
   "cell_type": "markdown",
   "metadata": {},
   "source": [
    "**Вывод**\n",
    "\n",
    "Произвели пребразование данных:\n",
    "- привели названия столбцов к нижнему регистру;\n",
    "- в столбце `critic_score` данные привели к 10-балльной шкале;\n",
    "- в столбце `user_score` обработали значение 'tbd', объяснили причины замены на NaN-значение;\n",
    "- в столбце `rating` значение 'K-A' заменили на 'E'."
   ]
  },
  {
   "cell_type": "markdown",
   "metadata": {},
   "source": [
    "### Обработка пропущенных значений"
   ]
  },
  {
   "cell_type": "markdown",
   "metadata": {},
   "source": [
    "Посмотрим в каких столбцах присутствуют пропущенные значения и как часто."
   ]
  },
  {
   "cell_type": "code",
   "execution_count": null,
   "metadata": {},
   "outputs": [],
   "source": [
    "df.isna().sum()"
   ]
  },
  {
   "cell_type": "markdown",
   "metadata": {},
   "source": [
    "**Обработка пропусков в столбцах `name` и `genre`.**"
   ]
  },
  {
   "cell_type": "markdown",
   "metadata": {},
   "source": [
    "Посмотрим на строки, в которых присутствуют пропуски в столбце `name`."
   ]
  },
  {
   "cell_type": "code",
   "execution_count": null,
   "metadata": {},
   "outputs": [],
   "source": [
    "df.query('name.isna()')"
   ]
  },
  {
   "cell_type": "markdown",
   "metadata": {},
   "source": [
    "Замечаем, что пропуски в столбцах `name` и `genre` парные. Причиной мог быть технический сбой или человеческий фактор. Мы не можем предположить на основе имеющейся у нас информации, что это за игры и какого они жанра, поэтому уберем эти строки из рассматриваемой таблицы."
   ]
  },
  {
   "cell_type": "code",
   "execution_count": null,
   "metadata": {},
   "outputs": [],
   "source": [
    "df = df.dropna(subset=['name']).reset_index(drop=True)"
   ]
  },
  {
   "cell_type": "markdown",
   "metadata": {},
   "source": [
    "**Обработка пропусков в столбце `year_of_release`.** "
   ]
  },
  {
   "cell_type": "markdown",
   "metadata": {},
   "source": [
    "Выведем некоторые строки, содержащие пропущенные значения в столбце `year_of_release`."
   ]
  },
  {
   "cell_type": "code",
   "execution_count": null,
   "metadata": {},
   "outputs": [],
   "source": [
    "df.query('year_of_release.isna()').head()"
   ]
  },
  {
   "cell_type": "markdown",
   "metadata": {},
   "source": [
    "Отметим интересный момент: среди выведенных строк присутствуют довольно популярные игры (например, 'FIFA Soccer 2004'). Обычно, игры выпускаются сразу на нескольких платформах. Посмотрим информацию, для примера, об одной игре, бывшей популярной в свое время."
   ]
  },
  {
   "cell_type": "code",
   "execution_count": null,
   "metadata": {},
   "outputs": [],
   "source": [
    "df.query('name==\"FIFA Soccer 2004\"')"
   ]
  },
  {
   "cell_type": "markdown",
   "metadata": {},
   "source": [
    "Видим, что год выпуска не указан только для одной игровой платформы. Конечно возможны случаи, когда одна и та же игра для разных платформ выходила в разные годы, но это редкие события и разница в датах выхода не превышает 1-2 лет. Также возможна ситуация, когда в таблице присутствует информация об игре только для одной игровой платформы и год выпуска пропущен, тогда, в этом случае, удалим строку из таблицы."
   ]
  },
  {
   "cell_type": "markdown",
   "metadata": {},
   "source": [
    "Можем попробовать заполнить пропуски (часть пропусков) в столбце по следующему алгоритму:\n",
    "1. Определим список игр из таблицы, для которых не указан год выпуска для каких-либо игровых платформ.\n",
    "2. Выведем все данные из таблицы для игр из списка, определенного в п.1.\n",
    "3. Определим, где это возможно, год выпуска игры.\n",
    "    - если для какой-либо конкретной игры годы выпуска для различных игровых платформ различаются, то год выпуска определим как среднее значение (для избежания дробного значения года выпуска - используем медианное значение)\n",
    "4. Заменим пропуски на найденные в п.3 значения."
   ]
  },
  {
   "cell_type": "code",
   "execution_count": null,
   "metadata": {},
   "outputs": [],
   "source": [
    "# Игры, для которых не указан год выпуска для какой-либо платформы\n",
    "games_no_year = df.query('year_of_release.isna()')['name'].unique()\n",
    "games_no_year[:5]"
   ]
  },
  {
   "cell_type": "markdown",
   "metadata": {},
   "source": [
    "Теперь для этих игр выведем всю информацию из таблицы и определим год выпуска игры, согласно алгоритму, описанному выше."
   ]
  },
  {
   "cell_type": "code",
   "execution_count": null,
   "metadata": {},
   "outputs": [],
   "source": [
    "game_year = ( \n",
    "    df\n",
    "    .query('name in @games_no_year and not year_of_release.isna()')\n",
    "    .groupby('name')['year_of_release']\n",
    "    .median()\n",
    ")\n",
    "game_year"
   ]
  },
  {
   "cell_type": "markdown",
   "metadata": {},
   "source": [
    "Чтобы заполнить пропуски, сначала заменим их на '0', а затем, с помощью функции 'add_year', заменим '0' на значения из таблицы 'game_year'."
   ]
  },
  {
   "cell_type": "code",
   "execution_count": null,
   "metadata": {},
   "outputs": [],
   "source": [
    "#Заполним пропуски нулями в столбце 'year_of_release'\n",
    "df['year_of_release'] = df['year_of_release'].fillna(0)"
   ]
  },
  {
   "cell_type": "code",
   "execution_count": null,
   "metadata": {},
   "outputs": [],
   "source": [
    "#Функция на вход получает строку таблицы и если в столбце 'year_of_release' стоит 0, \n",
    "#то меняет его на значение из таблицы 'game_year'\n",
    "def add_year(row):\n",
    "    game_name = row['name']\n",
    "    year = row['year_of_release']\n",
    "    if year == 0 and (game_name in game_year.index):\n",
    "        return game_year[game_name]\n",
    "    else:\n",
    "        return year"
   ]
  },
  {
   "cell_type": "code",
   "execution_count": null,
   "metadata": {},
   "outputs": [],
   "source": [
    "#Применяем функцию для каждой строки таблицы\n",
    "df['year_of_release'] = df.apply(add_year, axis=1)"
   ]
  },
  {
   "cell_type": "markdown",
   "metadata": {},
   "source": [
    "Уберем строки, в которых в столбце `year_of_release` остались нулевые значения."
   ]
  },
  {
   "cell_type": "code",
   "execution_count": null,
   "metadata": {},
   "outputs": [],
   "source": [
    "df = df.query('year_of_release !=0').reset_index(drop=True)"
   ]
  },
  {
   "cell_type": "markdown",
   "metadata": {},
   "source": [
    "**Обработка пропусков в столбцах `critic_score` и `user_score`.** "
   ]
  },
  {
   "cell_type": "code",
   "execution_count": null,
   "metadata": {},
   "outputs": [],
   "source": [
    "df.isna().sum()['critic_score']"
   ]
  },
  {
   "cell_type": "code",
   "execution_count": null,
   "metadata": {},
   "outputs": [],
   "source": [
    "df.isna().sum()['user_score']"
   ]
  },
  {
   "cell_type": "markdown",
   "metadata": {},
   "source": [
    "В этих столбцах оставим пропуски без изменений. Первая причина - их большое количество, удаление приведет к потере значимого количества данных. Вторая причина - заполнение пропусков, например, средним значением приведет к искажению общей картины популярности игр."
   ]
  },
  {
   "cell_type": "markdown",
   "metadata": {},
   "source": [
    "**Обработка пропусков в столбце `rating`.** "
   ]
  },
  {
   "cell_type": "markdown",
   "metadata": {},
   "source": [
    "Для заполнения части пропусков в этом столбце, применим способ, использованный для столбца `year_of_release`, т.к. можем предположить, что рейтинг ESRB не указан только для одной определенной платформы. Также будем считать, что рейтинг для одной и той же игры для всех платформ одинаковый."
   ]
  },
  {
   "cell_type": "code",
   "execution_count": null,
   "metadata": {},
   "outputs": [],
   "source": [
    "# Игры, для которых не указан рейтинг ESRB\n",
    "game_no_rating = df.query('rating.isna()')['name'].unique()\n",
    "game_no_rating[:5]"
   ]
  },
  {
   "cell_type": "markdown",
   "metadata": {},
   "source": [
    "Теперь для этих игр выведем всю информацию из таблицы и определим год рейтинг ESRB согласно алгоритму."
   ]
  },
  {
   "cell_type": "code",
   "execution_count": null,
   "metadata": {},
   "outputs": [],
   "source": [
    "game_rating = ( \n",
    "    df\n",
    "    .query('name in @game_no_rating and not rating.isna()')[['name', 'rating']]\n",
    "    .drop_duplicates()\n",
    "    .groupby('name')['rating']\n",
    "    .agg('first')\n",
    ")\n",
    "game_rating"
   ]
  },
  {
   "cell_type": "code",
   "execution_count": null,
   "metadata": {},
   "outputs": [],
   "source": [
    "#Заполним пропуски нулями в столбце 'rating'\n",
    "df['rating'] = df['rating'].fillna(0)"
   ]
  },
  {
   "cell_type": "code",
   "execution_count": null,
   "metadata": {},
   "outputs": [],
   "source": [
    "#Функция на вход получает строку таблицы и если в столбце 'rating' стоит 0, \n",
    "#то меняет его на медианное значение из таблицы 'game_rating'\n",
    "def add_rating(row):\n",
    "    game_name = row['name']\n",
    "    rate = row['rating']\n",
    "    if rate == 0 and (game_name in game_rating.index):\n",
    "        return game_rating[game_name]\n",
    "    else:\n",
    "        return rate"
   ]
  },
  {
   "cell_type": "code",
   "execution_count": null,
   "metadata": {},
   "outputs": [],
   "source": [
    "#Применяем функцию для каждой строки таблицы\n",
    "df['rating'] = df.apply(add_rating, axis=1)"
   ]
  },
  {
   "cell_type": "markdown",
   "metadata": {},
   "source": [
    "Строки, в которых не удалось заменить '0' на значение из таблицы `game_rating` удалять не будем. Вместо этого заменим '0' на 'undef'."
   ]
  },
  {
   "cell_type": "code",
   "execution_count": null,
   "metadata": {},
   "outputs": [],
   "source": [
    "df['rating'] = df['rating'].replace(0, 'undef')"
   ]
  },
  {
   "cell_type": "markdown",
   "metadata": {},
   "source": [
    "После всех преобразований получаем следующее количество пропусков:"
   ]
  },
  {
   "cell_type": "code",
   "execution_count": null,
   "metadata": {},
   "outputs": [],
   "source": [
    "df.isna().sum()"
   ]
  },
  {
   "cell_type": "markdown",
   "metadata": {},
   "source": [
    "**Вывод**\n",
    "\n",
    "Разобрались с пропущенными значениями, объяснили причины их возникновения. В столбцах `name` и `genre` пропусков было всего 2, поэтому приняли решение их удалить. В столбцах `year_of_release` и `rating`, где это было возможно, заменили пропущенные значения на данные, соответствующие конкретным играм. Пропуски в `critic_score` и `user_score` оставили без внимания, т.к. их появление объясняется банальным отсутствием оценок. "
   ]
  },
  {
   "cell_type": "markdown",
   "metadata": {},
   "source": [
    "### Преобразование типов данных"
   ]
  },
  {
   "cell_type": "markdown",
   "metadata": {},
   "source": [
    "Посмотрим на типы данных, присутствующие в рассматриваемом датафрейме."
   ]
  },
  {
   "cell_type": "code",
   "execution_count": null,
   "metadata": {},
   "outputs": [],
   "source": [
    "df.dtypes"
   ]
  },
  {
   "cell_type": "markdown",
   "metadata": {},
   "source": [
    "Преобразуем типы данных в следующих столбцах:\n",
    "1. `year_of_release` в челочисленный ('int'), т.к. столбец содержит год выпуска, который не может быть дробным.\n",
    "2. `user_score` в числовой ('float'), потому что в столбце содержится оценка игры в числовом формате."
   ]
  },
  {
   "cell_type": "code",
   "execution_count": null,
   "metadata": {},
   "outputs": [],
   "source": [
    "df['year_of_release'] = df['year_of_release'].astype('int')"
   ]
  },
  {
   "cell_type": "code",
   "execution_count": null,
   "metadata": {},
   "outputs": [],
   "source": [
    "df['user_score'] = df['user_score'].astype('float')"
   ]
  },
  {
   "cell_type": "code",
   "execution_count": null,
   "metadata": {},
   "outputs": [],
   "source": [
    "# проверяем\n",
    "df.dtypes"
   ]
  },
  {
   "cell_type": "markdown",
   "metadata": {},
   "source": [
    "**Вывод**\n",
    "\n",
    "Преобразовали типы данных в столбцах `year_of_release` и `user_score` на более подходящие. Объяснили причины данных преобразований."
   ]
  },
  {
   "cell_type": "markdown",
   "metadata": {},
   "source": [
    "### Обработка дубликатов"
   ]
  },
  {
   "cell_type": "markdown",
   "metadata": {},
   "source": [
    "Проверим, нет ли таких записей в датафрейме, у которых название игры (`name`), игровая платформа (`platform`) и год выхода игры (`year_of_release`) совпадают. Для этого выделим из исследуемого массива данных только три перечисленных столбца и проверим наличие дубликатов."
   ]
  },
  {
   "cell_type": "code",
   "execution_count": null,
   "metadata": {},
   "outputs": [],
   "source": [
    "df1 = df[['name', 'platform', 'year_of_release']]"
   ]
  },
  {
   "cell_type": "code",
   "execution_count": null,
   "metadata": {},
   "outputs": [],
   "source": [
    "df1.duplicated().sum()"
   ]
  },
  {
   "cell_type": "markdown",
   "metadata": {},
   "source": [
    "Получили два дублирующих значения. Определим, что это за игры."
   ]
  },
  {
   "cell_type": "code",
   "execution_count": null,
   "metadata": {},
   "outputs": [],
   "source": [
    "df1.loc[df1.duplicated()==True]"
   ]
  },
  {
   "cell_type": "markdown",
   "metadata": {},
   "source": [
    "Посмотрим на эти игры в исследуемом датафрейме `df`."
   ]
  },
  {
   "cell_type": "code",
   "execution_count": null,
   "metadata": {},
   "outputs": [],
   "source": [
    "df.query('name==\"Sonic the Hedgehog\"')"
   ]
  },
  {
   "cell_type": "markdown",
   "metadata": {},
   "source": [
    "Видим, что для игры 'Sonic the Hedgehog' в таблице присутствует две записи для платформы 'PS3' 2006 года выпуска. Необходимо оставить только одну запись, предварительно сложив данные из столбцов `na_sales`, `eu_sales`, `jp_sales`, `other_sales`."
   ]
  },
  {
   "cell_type": "code",
   "execution_count": null,
   "metadata": {},
   "outputs": [],
   "source": [
    "df.loc[1736, 'eu_sales'] = df.loc[1736, 'eu_sales'] + df.loc[4106, 'eu_sales']"
   ]
  },
  {
   "cell_type": "code",
   "execution_count": null,
   "metadata": {},
   "outputs": [],
   "source": [
    "# удаляем дублирующую строку\n",
    "df = df.query(\"index != 4106\")"
   ]
  },
  {
   "cell_type": "markdown",
   "metadata": {},
   "source": [
    "Смотрим строки датафрейма игры 'Madden NFL 13'."
   ]
  },
  {
   "cell_type": "code",
   "execution_count": null,
   "metadata": {},
   "outputs": [],
   "source": [
    "df.query('name==\"Madden NFL 13\"')"
   ]
  },
  {
   "cell_type": "markdown",
   "metadata": {},
   "source": [
    "Аналогичные действия необходимо провести и для игры 'Madden NFL 13' для платформы 'PS3'."
   ]
  },
  {
   "cell_type": "code",
   "execution_count": null,
   "metadata": {},
   "outputs": [],
   "source": [
    "df.loc[603, 'eu_sales'] = df.loc[603, 'eu_sales'] + df.loc[16087, 'eu_sales']"
   ]
  },
  {
   "cell_type": "code",
   "execution_count": null,
   "metadata": {},
   "outputs": [],
   "source": [
    "# удаляем дублирующую строку\n",
    "df = df.query(\"index != 16087\").reset_index(drop=True)"
   ]
  },
  {
   "cell_type": "markdown",
   "metadata": {},
   "source": [
    "**Вывод**\n",
    "\n",
    "Обнаружили дубликаты, провели их обработку (суммирование значений в столбце `eu_sales`)."
   ]
  },
  {
   "cell_type": "markdown",
   "metadata": {},
   "source": [
    "### Проведение дополнительных расчетов"
   ]
  },
  {
   "cell_type": "markdown",
   "metadata": {},
   "source": [
    "В исследуемом датафрейме содержится информация о продажах в различных регионах: Северная Америка, Европа, Япония и другие. Интересна информация об общей выручке, объединяющей все регионы. Найдем эти значения и поместим их в новый столбец `total_sales`."
   ]
  },
  {
   "cell_type": "code",
   "execution_count": null,
   "metadata": {},
   "outputs": [],
   "source": [
    "# общую выручку определяем как сумму выручек по всем регионам\n",
    "df['total_sales'] = df['na_sales']+df['eu_sales']+df['jp_sales']+df['other_sales']"
   ]
  },
  {
   "cell_type": "code",
   "execution_count": null,
   "metadata": {},
   "outputs": [],
   "source": [
    "# проверяем\n",
    "df.head()"
   ]
  },
  {
   "cell_type": "markdown",
   "metadata": {},
   "source": [
    "**Вывод**\n",
    "\n",
    "Для дальшейшего использования в исследовании, определили общую выручку для каждой игры. Поместили вычисленные значения в столбец `total_sales`."
   ]
  },
  {
   "cell_type": "markdown",
   "metadata": {},
   "source": [
    "## Исследовательский анализ"
   ]
  },
  {
   "cell_type": "markdown",
   "metadata": {},
   "source": [
    "**Определение количества выпущенных игр**"
   ]
  },
  {
   "cell_type": "markdown",
   "metadata": {},
   "source": [
    "Посмотрим, сколько игр выпускалось в разные годы. Построим графики, отражающие количество выпущенных игр по годам, а также суммарную прибыль с продаж видеоигр за все время наблюдения."
   ]
  },
  {
   "cell_type": "code",
   "execution_count": null,
   "metadata": {},
   "outputs": [],
   "source": [
    "(\n",
    "    df\n",
    "    .pivot_table(index='year_of_release', values='name', aggfunc='count')\n",
    "    .plot(style='o-', grid=True, figsize=(16,5), title='Количество выпущенных игр по годам')\n",
    ")\n",
    "plt.legend(['Количество игр'])\n",
    "plt.show()"
   ]
  },
  {
   "cell_type": "code",
   "execution_count": null,
   "metadata": {},
   "outputs": [],
   "source": [
    "(\n",
    "    df\n",
    "    .groupby('year_of_release')['total_sales']\n",
    "    .agg('sum')\n",
    "    .plot(style='o-', grid=True, figsize=(16,5), title='Суммарная выручка со всех игр по годам')\n",
    ")\n",
    "plt.legend(['Выручка, млн'])\n",
    "plt.show()"
   ]
  },
  {
   "cell_type": "markdown",
   "metadata": {},
   "source": [
    "Анализируя эти графики, можно сделать вывод о том, что период времени до 1994 года является незначительным. До этого времени ежегодно выпускалось менее 100 игр для всех платформ. Это означает, что индустрия видеоигр только начинала свое развитие."
   ]
  },
  {
   "cell_type": "markdown",
   "metadata": {},
   "source": [
    "**Выручка для 10 самых популярных платформ**"
   ]
  },
  {
   "cell_type": "markdown",
   "metadata": {},
   "source": [
    "Теперь посмотрим, как менялись продажи по платформам. Для этого выберем платформы с наибольшими суммарными продажами и построим распределение по годам."
   ]
  },
  {
   "cell_type": "code",
   "execution_count": null,
   "metadata": {},
   "outputs": [],
   "source": [
    "# находим 10 платформ с наибольшими суммарными продажами\n",
    "platform_top10sales = df.groupby('platform')['total_sales'].agg('sum').sort_values(ascending=False).head(10)"
   ]
  },
  {
   "cell_type": "code",
   "execution_count": null,
   "metadata": {},
   "outputs": [],
   "source": [
    "platform_top10sales"
   ]
  },
  {
   "cell_type": "code",
   "execution_count": null,
   "metadata": {},
   "outputs": [],
   "source": [
    "# строим распределение\n",
    "(\n",
    "    df\n",
    "    .query('platform in @platform_top10sales.index')\n",
    "    .pivot_table(index='year_of_release', columns='platform', values='total_sales', aggfunc='sum')\n",
    "    .plot(linewidth=3, alpha=0.75, style='o-', grid=True, figsize=(16,5), title='Суммарная выручка 10 самых продаваемых платформ')\n",
    ")\n",
    "plt.show()"
   ]
  },
  {
   "cell_type": "markdown",
   "metadata": {},
   "source": [
    "По этому графику становится понятным рост индустрии после 1994 года. Именно в этом году появилась легендарная консоль 'Play Station' (на графике красная линия).\n",
    "\n",
    "Также по этому графику хорошо отсматривается характерный срок \"жизни\" игровой платформы - в среднем 10 лет. К примеру:\n",
    "   - 'Play Station' (красная линия) - с 1994 по 2003;\n",
    "   - 'Play Station 2' (фиолетовая линия) - с 2000 по 2011;\n",
    "   - 'Play Station 3' (коричневая линия) - с 2005 по 2016;\n",
    "   - 'X-Box 360' (голубая линия) - с 2005 по 2016.\n",
    "\n",
    "Вечен только персональный компьютер ('PC', зеленая линия), присутствует на всем периоде наблюдения, но характеризуется сравнительно невысокими продажами.\n",
    "   "
   ]
  },
  {
   "cell_type": "markdown",
   "metadata": {},
   "source": [
    "**Определение актуального периода**"
   ]
  },
  {
   "cell_type": "markdown",
   "metadata": {},
   "source": [
    "Нашей задачей является построение прогноза по продажам на 2017 год. В датафрейме содержатся данные до 2016 года включительно (за 2016 - не в полном объеме)."
   ]
  },
  {
   "cell_type": "markdown",
   "metadata": {},
   "source": [
    "Ранее определили, что характерный срок \"жизни\" игровой платформы в среднем составляет 10 лет. Также важно учесть тот факт, что для каждой платформы характерен период в 4-5 лет после ее выхода на рынок, в котором продажи (суммарная выручка) показывают восходящий тренд. После этого - в течение следующих 5 лет - продажи каждый год падают, почти до нулевых значений. Учитывая все названное, для дальнейших исследований будем использовать данные по играм, выпущенным в 2013 году и позже."
   ]
  },
  {
   "cell_type": "code",
   "execution_count": null,
   "metadata": {},
   "outputs": [],
   "source": [
    "# Оставляем данные, входящие в актуальный период\n",
    "df_act = df.query('year_of_release >= 2013').reset_index(drop=True)"
   ]
  },
  {
   "cell_type": "markdown",
   "metadata": {},
   "source": [
    "Найдем для этого периода времени 10 платформ с наибольшими суммарными продажами ('top10_platform') и построим их распределение."
   ]
  },
  {
   "cell_type": "code",
   "execution_count": null,
   "metadata": {},
   "outputs": [],
   "source": [
    "top10_platform = df_act.groupby('platform')['total_sales'].agg('sum').sort_values(ascending=False).head(10)\n",
    "top10_platform"
   ]
  },
  {
   "cell_type": "code",
   "execution_count": null,
   "metadata": {},
   "outputs": [],
   "source": [
    "# строим распределение\n",
    "(\n",
    "    df_act\n",
    "    .query('platform in @top10_platform.index')\n",
    "    .pivot_table(index='year_of_release', columns='platform', values='total_sales', aggfunc='sum')\n",
    "    .plot(\n",
    "        kind='bar',\n",
    "        grid=True, \n",
    "        figsize=(16,5), \n",
    "        title='Суммарная выручка 10 самых продаваемых платформ'\n",
    "    )\n",
    ")\n",
    "plt.show()"
   ]
  },
  {
   "cell_type": "markdown",
   "metadata": {},
   "source": [
    "По графику и данным из таблицы 'top10_platform' видим, что лидируют по продажам платформы 'X360', 'PS3', 'Wii' и 'DS', но все они \"отслужили\" характерный срок \"жизни\" игровой платформы (10 лет) и их продажи сошли на нет. По этой причине, потенциально прибыльными платформами, в игры для которых стоит вкладываться, являются: **'PS4', '3DS', 'PC' и 'XOne'**. Эти платформы, относительно остальных, недавно вышли, отличаются стабильными неубывающими продажами (2016 год не берем во внимание в силу неполноты данных)."
   ]
  },
  {
   "cell_type": "markdown",
   "metadata": {},
   "source": [
    "Построим для выбранных потенциально прибыльных платформ диаграммы размаха. "
   ]
  },
  {
   "cell_type": "code",
   "execution_count": null,
   "metadata": {},
   "outputs": [],
   "source": [
    "ax = ( \n",
    "    df_act\n",
    "    .query(\"platform in ['PS4', '3DS', 'PC','XOne']\")\n",
    "    .boxplot(by='platform', column='total_sales', figsize=(16,10))\n",
    ")\n",
    "ax.set_xlabel('')\n",
    "ax.set_ylabel('Суммарная выручка с одной игры, млн')\n",
    "plt.suptitle('')\n",
    "plt.ylim(0, 4)\n",
    "plt.title('Суммарные выручки с игр для потенциальной прибыльных платформ')\n",
    "plt.show()"
   ]
  },
  {
   "cell_type": "markdown",
   "metadata": {},
   "source": [
    "Для всех платформ наблюдается примерно одинаковый результат: **небольшая медианная выручка с одной игры** (от 0.05 млн для 'PC' до 0.2 млн для 'PS4' и 'XOne') и **скошенность данных вправо**. Это означает, что среди игр этих платформ встречаются те, которые приносят выручки ощутимо больше медианной суммы. Возможно выручка от продажи игр зависит от их жанра или каких-то других параметров (оценки критиков и пользователей), которые определим далее."
   ]
  },
  {
   "cell_type": "markdown",
   "metadata": {},
   "source": [
    "**Исследование зависимостей выручки от рейтингов**"
   ]
  },
  {
   "cell_type": "markdown",
   "metadata": {},
   "source": [
    "Посмотрим, как влияют на продажи внутри одной популярной платформы (например, 'PS4') отзывы пользователей и критиков. Построим диаграмму рассеяния и посчитаем корреляцию между отзывами и продажами."
   ]
  },
  {
   "cell_type": "code",
   "execution_count": null,
   "metadata": {},
   "outputs": [],
   "source": [
    "(\n",
    "    df_act\n",
    "    .query('platform==\"PS4\"')\n",
    "    .corr()\n",
    "    .loc[['na_sales', 'eu_sales', 'jp_sales', 'other_sales', 'total_sales'], ['critic_score', 'user_score']]\n",
    ")"
   ]
  },
  {
   "cell_type": "markdown",
   "metadata": {},
   "source": [
    "Коэффициент корреляции между суммарной выручкой и оценками критиков 0.4 (средняя зависимость), а между выручкой и оценками пользователей близкий к нулевому (взаимосвязь отсутствует). Посмотрим зависимость на графиках."
   ]
  },
  {
   "cell_type": "code",
   "execution_count": null,
   "metadata": {},
   "outputs": [],
   "source": [
    "# Зависимость суммарной выручки от оценок критиков\n",
    "(\n",
    "    df_act\n",
    "    .query('platform==\"PS4\"')\n",
    "    .plot(\n",
    "        x='critic_score', \n",
    "        y='total_sales', \n",
    "        style='o', \n",
    "        alpha=0.5, \n",
    "        figsize=(16,5), \n",
    "        grid=True, \n",
    "        title='Зависимость суммарной выручки с игры для платформы \"PS4\" от оценки критиков'\n",
    "    )\n",
    ")\n",
    "plt.legend(['Выручка, млн'])\n",
    "plt.show()"
   ]
  },
  {
   "cell_type": "code",
   "execution_count": null,
   "metadata": {},
   "outputs": [],
   "source": [
    "# Зависимость суммарной выручки от оценок пользователей\n",
    "(\n",
    "    df_act\n",
    "    .query('platform==\"PS4\"')\n",
    "    .plot(\n",
    "        x='user_score', \n",
    "        y='total_sales', \n",
    "        style='o', \n",
    "        alpha=0.5, \n",
    "        figsize=(16,5), \n",
    "        grid=True, \n",
    "        title='Зависимость суммарной выручки с игры для платформы \"PS4\" от оценки пользователей'\n",
    "    )\n",
    ")\n",
    "plt.legend(['Выручка, млн'])\n",
    "plt.show()"
   ]
  },
  {
   "cell_type": "markdown",
   "metadata": {},
   "source": [
    "Представленные выше диаграммы рассеяния подтверждают авторитет мнения критиков. Действительно, **чем выше оценка критика, тем больший разброс наблюдается в значениях общей выручки и тем больше игр, приносящих бОльшую прибыль по сравнению со средними значениями**. При оценке критика больше 7, наблюдается большое количество игр, суммарная выручка с которых превышает 1 млн.\n",
    "\n",
    "Что касается второго графика (зависимость от оценки пользователей), то здесь подтверждается найденный ранее близкий к нулевому коэффициент корреляции. Игры, приносящие большие суммарные выручки встречаются при различных оценках пользователей (от 3 до 9). Это объясняется субъективностью мнений обычных пользователей - разным людям нравятся разные игры, различных жанров, и, как правило, их мнение часто отличается от позиции авторитетных критиков. Тем не менее, все же можно сделать вывод: **чем больше оценка пользователя, тем большую выручку приносит игра**."
   ]
  },
  {
   "cell_type": "markdown",
   "metadata": {},
   "source": [
    "Сравним полученные зависимости для платформы 'PS4' с продажами игр на других платформах. Найдем коэффициенты корреляции и построим диаграммы рассеяния."
   ]
  },
  {
   "cell_type": "code",
   "execution_count": null,
   "metadata": {},
   "outputs": [],
   "source": [
    "# находим корреляцию\n",
    "(\n",
    "    df_act\n",
    "    .corr()\n",
    "    .loc[['na_sales', 'eu_sales', 'jp_sales', 'other_sales', 'total_sales'], ['critic_score', 'user_score']]\n",
    ")"
   ]
  },
  {
   "cell_type": "markdown",
   "metadata": {},
   "source": [
    "Коэффициент корреляции между общей выручкой и оценкой критиков меньше, чем в предыдущем случае (0.31 против 0.4), а между общей выручкой и оценкой пользователей примерно на том же уровне."
   ]
  },
  {
   "cell_type": "code",
   "execution_count": null,
   "metadata": {},
   "outputs": [],
   "source": [
    "# Зависимость суммарной выручки от оценок критиков\n",
    "(\n",
    "    df_act\n",
    "    .plot(\n",
    "        x='critic_score', \n",
    "        y='total_sales', \n",
    "        style='o', \n",
    "        alpha=0.5, \n",
    "        figsize=(16,5), \n",
    "        grid=True, \n",
    "        title='Зависимость суммарной выручки с игры для всех платформ от оценки критиков'\n",
    "    )\n",
    ")\n",
    "plt.legend(['Выручка, млн'])\n",
    "plt.show()"
   ]
  },
  {
   "cell_type": "code",
   "execution_count": null,
   "metadata": {},
   "outputs": [],
   "source": [
    "# Зависимость суммарной выручки от оценок пользователей\n",
    "(\n",
    "    df_act\n",
    "    .plot(\n",
    "        x='user_score', \n",
    "        y='total_sales', \n",
    "        style='o', \n",
    "        alpha=0.5, \n",
    "        figsize=(16,5), \n",
    "        grid=True, \n",
    "        title='Зависимость суммарной выручки с игры для всех платформ от оценки пользователей'\n",
    "    )\n",
    ")\n",
    "plt.legend(['Выручка, млн'])\n",
    "plt.show()"
   ]
  },
  {
   "cell_type": "markdown",
   "metadata": {},
   "source": [
    "На графиках зависимости суммарной выручки с игры для всех платформ от оценки пользователей наблюдается схожая картина со случаем для платформы 'PS4'. \n",
    "1. Чем выше оценка критика, тем больше вероятность того, что игра принесет большую выручку. \n",
    "2. Чем выше оценка пользователя, тем большую выручку приносит игра, но не всегда. Довольно много случаев, когда игры прибыльны при низкой оценке пользователей."
   ]
  },
  {
   "cell_type": "markdown",
   "metadata": {},
   "source": [
    "**Исследование зависимостей выручки от жанров игр**"
   ]
  },
  {
   "cell_type": "markdown",
   "metadata": {},
   "source": [
    "Интересно посмотреть зависимость продаж от жанра игры. Найдем суммарную выручку, количество выпущенных игр и среднюю выручку с одной игры для каждого жанра."
   ]
  },
  {
   "cell_type": "code",
   "execution_count": null,
   "metadata": {},
   "outputs": [],
   "source": [
    "sales_by_genres = df_act.groupby('genre').agg({'total_sales':['sum','count']})\n",
    "sales_by_genres.columns = ['total_sales', 'count_games']\n",
    "sales_by_genres['mean_revenue'] = sales_by_genres['total_sales']/sales_by_genres['count_games']\n",
    "sales_by_genres = sales_by_genres.sort_values(by='total_sales', ascending=False)\n",
    "sales_by_genres"
   ]
  },
  {
   "cell_type": "code",
   "execution_count": null,
   "metadata": {},
   "outputs": [],
   "source": [
    "# найдем средние значения для каждого столбца\n",
    "sales_by_genres.mean()"
   ]
  },
  {
   "cell_type": "markdown",
   "metadata": {},
   "source": [
    "Построим график распределения общей выручки и количества выпущенных игр по жанрам."
   ]
  },
  {
   "cell_type": "code",
   "execution_count": null,
   "metadata": {},
   "outputs": [],
   "source": [
    "(\n",
    "    sales_by_genres\n",
    "    .plot(\n",
    "        y=['total_sales', 'count_games'], \n",
    "        kind='bar', \n",
    "        grid=True, \n",
    "        figsize=(16,5),\n",
    "        title = 'Распределение общей выручки и количества выпущенных игр по жанрам'\n",
    "    )       \n",
    ")\n",
    "plt.legend(['Общая выручка, млн', 'Количество выпущенных игр'])\n",
    "plt.show()"
   ]
  },
  {
   "cell_type": "markdown",
   "metadata": {},
   "source": [
    "Самыми прибыльными жанрами являются 'Action', 'Sports', 'Shooter', 'Misc' и 'Role-Playing'. Игр этих жанров больше всего по выпускаемым копиям. Среди них выделяется жанр 'Action' своим огромным количеством выпущенных игр (769), а также 'Shooter' - самой большой средней выручкой за игру (около 1.25 млн). \n",
    "\n",
    "Среди самых неприбыльных жанров выделяется 'Adventure'. Игр данного жанра было выпущено много, на уровне самых популярных жанров (245), но суммарная выручка одна из самых маленьких (около 24 млн.). Как следствие, у этого жанра наименьшая средняя выручка за игру - всего 96 тысяч."
   ]
  },
  {
   "cell_type": "markdown",
   "metadata": {},
   "source": [
    "**Вывод**\n",
    "\n",
    "Провели исследовательский анализ данных: \n",
    "1. Построили графики и определили сколько игр выпускалось в разные годы. Выяснили, как менялись продажи по платформам от года к году. Построили график распределение для самых прибыльных платформ по годам и определили, что новые платформы появляются, а старые исчезают в среднем за 10 лет. На основании этого определили актуальный период (с 2005 по 2016 год).\n",
    "2. Для актуального периода определили платформы, которые лидируют по продажам ('X360', 'PS3', 'Wii' и 'DS'). Проанализировав график, выяснили, что с каждым годом их продажи падают.\n",
    "3. Выбрали несколько потенциально прибыльных платформ ('PS4', '3DS', 'PC' и 'XOne'). Построили для каждой из них диаграммы размаха по глобальным продажам игр. Оценили влияние отзывов пользователей и критиков на суммарные выручки игр. Пришли к выводу, что оценки критиков и пользователей оказывают влияние на итоговый успех той или иной игры, на ее продажи.\n",
    "4. Исследовали общее распределение игр по жанрам. Выяснили, какие жанры являются самыми прибыльными ('Action', 'Sports', 'Shooter', 'Misc' и 'Role-Playing'), а какие нет ('Adventure', 'Puzzle' и 'Strategy'). Обнаружили жанры, сильно выделяющиеся от остальных ('Shooter' и 'Adventure')."
   ]
  },
  {
   "cell_type": "markdown",
   "metadata": {},
   "source": [
    "## Анализ пользователей различных регионов"
   ]
  },
  {
   "cell_type": "markdown",
   "metadata": {},
   "source": [
    "Исследуем популярность игр в зависимости от региона. Определим самые популярные платформы, самые популярные жанры, а также влияние рейтинга ESRB на выручку с продаж."
   ]
  },
  {
   "cell_type": "markdown",
   "metadata": {},
   "source": [
    "**Определение самых популярных платформ**"
   ]
  },
  {
   "cell_type": "code",
   "execution_count": null,
   "metadata": {},
   "outputs": [],
   "source": [
    "def create_pie_diagram(region, filt, title):\n",
    "    (\n",
    "        df_act\n",
    "        .groupby(filt)[region]\n",
    "        .agg('sum')\n",
    "        .sort_values(ascending=False)\n",
    "        .head()\n",
    "        .plot(\n",
    "            kind='pie',\n",
    "            figsize=(7,7),\n",
    "            title=title,\n",
    "            startangle=90,\n",
    "            autopct='%1.1f%%'\n",
    "        )\n",
    "    )\n",
    "    plt.show()"
   ]
  },
  {
   "cell_type": "code",
   "execution_count": null,
   "metadata": {},
   "outputs": [],
   "source": [
    "create_pie_diagram('na_sales', 'platform', 'Продажи игр для 5 самых популярных платформ в Северной Америке')\n",
    "create_pie_diagram('eu_sales', 'platform', 'Продажи игр для 5 самых популярных платформ в Европе')\n",
    "create_pie_diagram('jp_sales', 'platform', 'Продажи игр для 5 самых популярных платформ в Японии')"
   ]
  },
  {
   "cell_type": "markdown",
   "metadata": {},
   "source": [
    "Если сравнивать Североамериканский и Европейский регионы, то различия в долях продаж минимальны. Популярными являются одни и те же платформы ('PS4', 'XOne', 'X360', 'PS3' и '3DS'), разница в том, что в Европе более популярной является 'PS4' и занимает 40% рынка, а в Северной Америке - менее 30%.\n",
    "\n",
    "А вот рынок Японии имеет свои особенности. Среди пяти самых популярных платформ, свыше 70% всех продаваемых игр приходится на портативные устройства - '3DS', 'PSV' и 'WiiU'. Это объясняется сложившейся культурой игровой индустрии в данном регионе."
   ]
  },
  {
   "cell_type": "markdown",
   "metadata": {},
   "source": [
    "**Определение самых популярных жанров**"
   ]
  },
  {
   "cell_type": "code",
   "execution_count": null,
   "metadata": {},
   "outputs": [],
   "source": [
    "create_pie_diagram('na_sales', 'genre', 'Продажи игр для 5 самых популярных жанров в Северной Америке')\n",
    "create_pie_diagram('eu_sales', 'genre', 'Продажи игр для 5 самых популярных жанров в Европе')\n",
    "create_pie_diagram('jp_sales', 'genre', 'Продажи игр для 5 самых популярных жанров в Японии')"
   ]
  },
  {
   "cell_type": "markdown",
   "metadata": {},
   "source": [
    "Как и в случае с игровыми консолями, в Североамериканском и Европейском регионах различия в долях продаж в зависимости от жанра игры почти отсутствуют. Популярными являются жанры 'Action', 'Sports' и 'Shooter'. \n",
    "\n",
    "В Японии снова свои особенности. Почти 45% продаж приходится на жанр 'Role-Playing' (RPG). Популярность объясняется тем, что в \"стране восходящего Солнца\" есть своя разновидность игр этого жанра - Japanese Role-Playing Game (Японская ролевая игра). Большинство таких игр было разработано в Японии и в первую очередь для внутреннего японского рынка для игровых платформ. Имеют свои особенности, привлекательные именно для этого региона."
   ]
  },
  {
   "cell_type": "markdown",
   "metadata": {},
   "source": [
    "**Определение влияния рейтинга ESRB на продажи**"
   ]
  },
  {
   "cell_type": "code",
   "execution_count": null,
   "metadata": {},
   "outputs": [],
   "source": [
    "df_act.groupby('rating')[['na_sales', 'eu_sales', 'jp_sales']].agg('sum').sort_values(by='na_sales', ascending=False)"
   ]
  },
  {
   "cell_type": "markdown",
   "metadata": {},
   "source": [
    "Видим, что в разных регионах популярны игры с разным рейтингом ESRB. В Северной Америке больше всего прибыли приносят игры с пометкой '17+', в Европе - ситуация аналогичная, а вот в Японии ситуация неоднозначная. Там самыми популярными являются игры без рейтинга. Для более глубокого исследования популярности игр в зависимости от выставленного рейтинга, необходимо выяснять причины столь большого количества игр без рейтинга в рассматриваемом датафрейме."
   ]
  },
  {
   "cell_type": "markdown",
   "metadata": {},
   "source": [
    "**Вывод**\n",
    "\n",
    "Исследовали популярность игр в зависимости от региона. Определили самые популярные платформы, самые популярные жанры, а также влияние рейтинга ESRB на выручку с продаж. Выявили особенности игр, популярных в Японском регионе: среди платформ там популярны портативные игровые консоли, а среди жанров - RPG. Предположили возможные причины столь сильных различий с Североамериканским и Европейским регионами."
   ]
  },
  {
   "cell_type": "markdown",
   "metadata": {},
   "source": [
    "## Проверка гипотез"
   ]
  },
  {
   "cell_type": "markdown",
   "metadata": {},
   "source": [
    "Необходимо проверить:\n",
    "1. Средние пользовательские рейтинги платформ 'Xbox One' и 'PC' одинаковые;\n",
    "2. Средние пользовательские рейтинги жанров 'Action' и 'Sports' разные."
   ]
  },
  {
   "cell_type": "markdown",
   "metadata": {},
   "source": [
    "**Проверка гипотезы 1**"
   ]
  },
  {
   "cell_type": "markdown",
   "metadata": {},
   "source": [
    "Принято, что в нулевой гипотезе должен быть знак равенства (т.е. какие-либо величины равны между собой). Поэтому нулевая и альтернативная гипотезы выглядят так:"
   ]
  },
  {
   "cell_type": "markdown",
   "metadata": {},
   "source": [
    "**Нулевая гипотеза H0**: \"Средние пользовательские рейтинги платформ 'Xbox One' и 'PC' равны\"\n",
    "\n",
    "**Альтернативная гипотеза H1**: \"Средние пользовательские рейтинги платформ 'Xbox One' и 'PC' не равны\""
   ]
  },
  {
   "cell_type": "markdown",
   "metadata": {},
   "source": [
    "Проверять гипотезу будем с помощью критерия Стьюдента и основанного на нем t-теста."
   ]
  },
  {
   "cell_type": "code",
   "execution_count": null,
   "metadata": {},
   "outputs": [],
   "source": [
    "samp1 = df_act.query('platform==\"XOne\" and not user_score.isna()')['user_score']  #выборка, содержащая пользовательские оценки \n",
    "                                                                                  #игр платформы 'Xbox One'\n",
    "samp2 = df_act.query('platform==\"PC\" and not user_score.isna()')['user_score']    #выборка, содержащая пользовательские оценки\n",
    "                                                                                  #игр платформы 'PC'\n",
    "alpha = 0.05                                                                      #пороговое значение\n",
    "results = st.ttest_ind(samp1, samp2, equal_var=False)\n",
    "print(results.pvalue)\n",
    "print()\n",
    "if results.pvalue < alpha:\n",
    "    print('Отвергаем нулевую гипотезу')\n",
    "else:\n",
    "    print('Не получилось отвергнуть нулевую гипотезу')\n",
    "    \n",
    "print()\n",
    "print('Средняя оценка пользователя игры для платформы \"Xbox One\":',samp1.mean())\n",
    "print('Средняя оценка пользователя игры для платформы \"PC\":',samp2.mean())"
   ]
  },
  {
   "cell_type": "markdown",
   "metadata": {},
   "source": [
    "Видим, что не получилось отвергнуть нулевую гипотезу, значит средние двух выборок не отличаются. Приведенные расчеты средней оценки пользователя для каждой платформы говорят о том, что пользователи оценивают игры для платформы 'PC' примерно также, как и для 'Xbox One'."
   ]
  },
  {
   "cell_type": "markdown",
   "metadata": {},
   "source": [
    "**Проверка гипотезы 2**"
   ]
  },
  {
   "cell_type": "markdown",
   "metadata": {},
   "source": [
    "Причины, по которым нулевая и альтернативная гипотезы получили следующие формулировки такие же, как и в случае с гипотезой 1."
   ]
  },
  {
   "cell_type": "markdown",
   "metadata": {},
   "source": [
    "**Нулевая гипотеза H0**: \"Средние пользовательские рейтинги жанров 'Action' и 'Sports' равны\"\n",
    "\n",
    "**Альтернативная гипотеза H1**: \"Средние пользовательские рейтинги жанров 'Action' и 'Sports' отличаются\""
   ]
  },
  {
   "cell_type": "markdown",
   "metadata": {},
   "source": [
    "Проверять гипотезу будем с помощью критерия Стьюдента и основанного на нем t-теста."
   ]
  },
  {
   "cell_type": "code",
   "execution_count": null,
   "metadata": {},
   "outputs": [],
   "source": [
    "samp3 = df_act.query('genre==\"Action\" and not user_score.isna()')['user_score']  #выборка, содержащая пользовательские оценки \n",
    "                                                                                 #игр платформы 'Xbox One'\n",
    "samp4 = df_act.query('genre==\"Sports\" and not user_score.isna()')['user_score']  #выборка, содержащая пользовательские оценки\n",
    "                                                                                 #игр платформы 'PC'\n",
    "alpha = 0.05                                                                     #пороговое значение\n",
    "results = st.ttest_ind(samp3, samp4, equal_var=False)\n",
    "print(results.pvalue)\n",
    "print()\n",
    "if results.pvalue < alpha:\n",
    "    print('Отвергаем нулевую гипотезу')\n",
    "else:\n",
    "    print('Не получилось отвергнуть нулевую гипотезу')\n",
    "    \n",
    "print()\n",
    "print('Средняя оценка пользователя игры жанра \"Action\":',samp3.mean())\n",
    "print('Средняя оценка пользователя игры жанра \"Sports\":',samp4.mean())"
   ]
  },
  {
   "cell_type": "markdown",
   "metadata": {},
   "source": [
    "Видим, что нулевая гипотеза H0 отвергнута, значит средние двух выборок отличаются. Приведенные расчеты средней оценки пользователя для жанров 'Action' и 'Sports' говорят о том, что пользователи оценивают игры жанра 'Action' выше, чем игры жанра 'Sports'."
   ]
  },
  {
   "cell_type": "markdown",
   "metadata": {},
   "source": [
    "**Вывод**\n",
    "\n",
    "Проверили гипотезы и подтвердили, что cредние пользовательские оценки платформ 'Xbox One' и 'PC' не равны, а средние пользовательские рейтинги жанров 'Action' и 'Sports' отличаются."
   ]
  },
  {
   "cell_type": "markdown",
   "metadata": {},
   "source": [
    "## Общий вывод"
   ]
  },
  {
   "cell_type": "markdown",
   "metadata": {},
   "source": [
    "1. Считали таблицу из файла и изучили общую информацию. Оценили данные, обозначили явные проблемы, наметили план предобработки.\n",
    "2. Нашли пропуски в таблице. Выдвинули предположения о причинах их возникновения. Заполнили пропущенные значения, где это было уместно.\n",
    "3. Обнаружили дубликаты в таблице, произвели их обработку.\n",
    "4. Изменили типы данных в некоторых столбцах на более подходящие.\n",
    "5. Посчитали и добавили в таблицу новый параметр - суммарные продажи игр по всем регионам.\n",
    "6. Провели исследовательский анализ данных, а именно:\n",
    "    - построили графики и показали сколько игр выпускалось в разные годы; \n",
    "    - выяснили, что индустрия видеоигр начала активно развиваться **после 1994 года**; \n",
    "    - построили графики продаж по годам в зависимости от платформы;\n",
    "    - нашли характерный срок, за которых появляются новые и исчезают старые платформы - **10 лет**; определили аrтуальный период для последующего рассмотрения данных (**с 2013 года по настоящее время**);\n",
    "    - определили несколько потенциально прибыльных платформ: **'PS4', '3DS', 'PC' и 'XOne'**, построили для каждой из них диаграммы размаха по глобальным продажам игр;\n",
    "    - оценили влияние отзывов пользователей и критиков на суммарные выручки игр. Пришли к выводу, что **оценки критиков и пользователей оказывают влияние на итоговый успех той или иной игры, на ее продажи**;\n",
    "    - исследовали общее распределение игр по жанрам; выяснили, какие жанры являются **самыми прибыльными ('Action', 'Sports', 'Shooter', 'Misc' и 'Role-Playing'**), а **какие нет ('Adventure', 'Puzzle' и 'Strategy')**;\n",
    "    - провели исследование популярность игр в зависимости от региона. Определим самые популярные платформы, самые популярные жанры, а также влияние рейтинга ESRB на выручку с продаж.\n",
    "        - **в СевероамериканскомЕвропейском регионе пользуются популярностью игры на платформах: 'PS4', 'XOne' и 'X360', а среди жанров игр популярными являются: 'Action', 'Sports' и 'Shooter'**;\n",
    "        - **в Европейском регионе пользуются популярностью игры на платформах: 'PS4', 'PS3' и 'XOne', а среди жанров игр популярными являются: 'Action', 'Sports' и 'Shooter'**;\n",
    "        - **в Японии пользуются популярностью игры на платформах: '3DS', 'PS3' и 'PSV', а среди жанров игр популярными являются: 'Role-Playing' и 'Action'**;\n",
    "    - выявили особенности игр, популярных в Японском регионе: среди платформ там популярны портативные игровые консоли, а среди жанров - RPG. Предположили возможные причины столь сильных различий с Североамериканским и Европейским регионами;\n",
    "    - исследовав влияние рейтинга ESRB на продажи, пришли к выводу, что **рейтинги популярных игр в разных регионах отличаются**;\n",
    "    - проверили гипотезы о равенстве средние пользовательский рейтингой для платформ 'Xbox One' и 'PC' и для жанров 'Action' и 'Sports'.\n",
    "7. **РЕКОМЕНДАЦИИ:** поскольку перед нами стояла задача спланировать продажи на 2017 год в зависимости от популярности игр, то сформулируем следующие рекомендации:\n",
    "    - необходимо сделать упор в большей степени на платформы 'PS4', '3DS', 'XOne', т.к. на текущий момент они самые популярные и их продажи в 2017 году будут еще на восходящем тренде;\n",
    "    - самые прибыльные жанры: 'Action', 'Sports', 'Shooter'. Особое внимание стоит обратить на игры жанра 'Shooter', которые отличаются высокой средней выручкой (более 1.2 млн);\n",
    "    - наибольшую прибыль в Северной Америке и Европе приносят игры, у которых рейтинг ESRB - 'M' (17+);\n",
    "    - для Японии свои особенности: \n",
    "        - самыми прибыльнымы являются игры жанра 'Role-Playing';\n",
    "        - 70% рынка занимают портативные консоли ('3DS', 'PSV', 'WiiU'), 30% - консоли 'Play Station' 3 и 4 версии.\n",
    "    "
   ]
  }
 ],
 "metadata": {
  "kernelspec": {
   "display_name": "Python 3",
   "language": "python",
   "name": "python3"
  },
  "language_info": {
   "codemirror_mode": {
    "name": "ipython",
    "version": 3
   },
   "file_extension": ".py",
   "mimetype": "text/x-python",
   "name": "python",
   "nbconvert_exporter": "python",
   "pygments_lexer": "ipython3",
   "version": "3.7.10"
  },
  "toc": {
   "base_numbering": 1,
   "nav_menu": {},
   "number_sections": true,
   "sideBar": true,
   "skip_h1_title": true,
   "title_cell": "Содержание",
   "title_sidebar": "Contents",
   "toc_cell": true,
   "toc_position": {},
   "toc_section_display": true,
   "toc_window_display": true
  }
 },
 "nbformat": 4,
 "nbformat_minor": 2
}
