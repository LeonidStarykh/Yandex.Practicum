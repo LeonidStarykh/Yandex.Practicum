{
 "cells": [
  {
   "cell_type": "markdown",
   "metadata": {},
   "source": [
    "# 08. Сборный проект №2"
   ]
  },
  {
   "cell_type": "markdown",
   "metadata": {},
   "source": [
    "# Восстановление золота из руды"
   ]
  },
  {
   "cell_type": "markdown",
   "metadata": {},
   "source": [
    "Необходимо подготовить прототип модели машинного обучения для компании «Цифры» которая занимается разработкой решения для эффективной работы промышленных предприятий.\n",
    "\n",
    "Модель должна предсказать коэффициент восстановления золота из золотосодержащей руды. Для этого будем использовать данные с параметрами добычи и очистки. \n",
    "\n",
    "Модель поможет оптимизировать производство, чтобы не запускать предприятие с убыточными характеристиками.\n"
   ]
  },
  {
   "cell_type": "markdown",
   "metadata": {
    "toc": true
   },
   "source": [
    "<h1>Содержание<span class=\"tocSkip\"></span></h1>\n",
    "<div class=\"toc\"><ul class=\"toc-item\"><li><span><a href=\"#Подготовка-данных\" data-toc-modified-id=\"Подготовка-данных-1\"><span class=\"toc-item-num\">1&nbsp;&nbsp;</span>Подготовка данных</a></span><ul class=\"toc-item\"><li><span><a href=\"#Изучение-файлов\" data-toc-modified-id=\"Изучение-файлов-1.1\"><span class=\"toc-item-num\">1.1&nbsp;&nbsp;</span>Изучение файлов</a></span></li><li><span><a href=\"#Проверка-правильности-расчетов-эффективности-обогащения\" data-toc-modified-id=\"Проверка-правильности-расчетов-эффективности-обогащения-1.2\"><span class=\"toc-item-num\">1.2&nbsp;&nbsp;</span>Проверка правильности расчетов эффективности обогащения</a></span></li><li><span><a href=\"#Анализ-тестовой-выборки\" data-toc-modified-id=\"Анализ-тестовой-выборки-1.3\"><span class=\"toc-item-num\">1.3&nbsp;&nbsp;</span>Анализ тестовой выборки</a></span></li><li><span><a href=\"#Предобработка-данных\" data-toc-modified-id=\"Предобработка-данных-1.4\"><span class=\"toc-item-num\">1.4&nbsp;&nbsp;</span>Предобработка данных</a></span></li></ul></li><li><span><a href=\"#Анализ-данных\" data-toc-modified-id=\"Анализ-данных-2\"><span class=\"toc-item-num\">2&nbsp;&nbsp;</span>Анализ данных</a></span><ul class=\"toc-item\"><li><span><a href=\"#Анализ-концентрации-металлов-(Au,-Ag,-Pb)\" data-toc-modified-id=\"Анализ-концентрации-металлов-(Au,-Ag,-Pb)-2.1\"><span class=\"toc-item-num\">2.1&nbsp;&nbsp;</span>Анализ концентрации металлов (Au, Ag, Pb)</a></span></li><li><span><a href=\"#Анализ-размеров-гранул-сырья\" data-toc-modified-id=\"Анализ-размеров-гранул-сырья-2.2\"><span class=\"toc-item-num\">2.2&nbsp;&nbsp;</span>Анализ размеров гранул сырья</a></span></li><li><span><a href=\"#Анализ-суммарной-концентрации-всех-веществ-(Au,-Ag,-Pb,-Sol)\" data-toc-modified-id=\"Анализ-суммарной-концентрации-всех-веществ-(Au,-Ag,-Pb,-Sol)-2.3\"><span class=\"toc-item-num\">2.3&nbsp;&nbsp;</span>Анализ суммарной концентрации всех веществ (Au, Ag, Pb, Sol)</a></span></li></ul></li><li><span><a href=\"#Модель\" data-toc-modified-id=\"Модель-3\"><span class=\"toc-item-num\">3&nbsp;&nbsp;</span>Модель</a></span><ul class=\"toc-item\"><li><span><a href=\"#Расчет-метрики-качества\" data-toc-modified-id=\"Расчет-метрики-качества-3.1\"><span class=\"toc-item-num\">3.1&nbsp;&nbsp;</span>Расчет метрики качества</a></span></li><li><span><a href=\"#Обучение-моделей\" data-toc-modified-id=\"Обучение-моделей-3.2\"><span class=\"toc-item-num\">3.2&nbsp;&nbsp;</span>Обучение моделей</a></span></li><li><span><a href=\"#Проверка-модели-на-тестовой-выборке\" data-toc-modified-id=\"Проверка-модели-на-тестовой-выборке-3.3\"><span class=\"toc-item-num\">3.3&nbsp;&nbsp;</span>Проверка модели на тестовой выборке</a></span></li></ul></li><li><span><a href=\"#Общий-вывод\" data-toc-modified-id=\"Общий-вывод-4\"><span class=\"toc-item-num\">4&nbsp;&nbsp;</span>Общий вывод</a></span></li></ul></div>"
   ]
  },
  {
   "cell_type": "markdown",
   "metadata": {},
   "source": [
    "## Подготовка данных"
   ]
  },
  {
   "cell_type": "code",
   "execution_count": 1,
   "metadata": {},
   "outputs": [],
   "source": [
    "import pandas as pd\n",
    "import numpy as np\n",
    "import matplotlib.pyplot as plt\n",
    "from tqdm import tqdm\n",
    "from sklearn.model_selection import cross_val_score\n",
    "from sklearn.metrics import make_scorer, mean_absolute_error\n",
    "from sklearn.linear_model import LinearRegression\n",
    "from sklearn.tree import DecisionTreeRegressor\n",
    "from sklearn.ensemble import RandomForestRegressor\n",
    "from sklearn.dummy import DummyRegressor\n",
    "import warnings"
   ]
  },
  {
   "cell_type": "code",
   "execution_count": 2,
   "metadata": {},
   "outputs": [],
   "source": [
    "warnings.filterwarnings('ignore')"
   ]
  },
  {
   "cell_type": "markdown",
   "metadata": {},
   "source": [
    "### Изучение файлов"
   ]
  },
  {
   "cell_type": "markdown",
   "metadata": {},
   "source": [
    "Данные находятся в трех файлах. Посмотрим, что они из себя представляют."
   ]
  },
  {
   "cell_type": "code",
   "execution_count": 3,
   "metadata": {},
   "outputs": [],
   "source": [
    "df_train = pd.read_csv('gold_recovery_train.csv')\n",
    "df_test = pd.read_csv('gold_recovery_test.csv')\n",
    "df_full = pd.read_csv('gold_recovery_full.csv')"
   ]
  },
  {
   "cell_type": "markdown",
   "metadata": {},
   "source": [
    "- `df_train` - обучающая выборка;\n",
    "- `df_test` - тестовая выборка;\n",
    "- `df_full` - исходные данные."
   ]
  },
  {
   "cell_type": "code",
   "execution_count": 4,
   "metadata": {},
   "outputs": [
    {
     "data": {
      "text/html": [
       "<div>\n",
       "<style scoped>\n",
       "    .dataframe tbody tr th:only-of-type {\n",
       "        vertical-align: middle;\n",
       "    }\n",
       "\n",
       "    .dataframe tbody tr th {\n",
       "        vertical-align: top;\n",
       "    }\n",
       "\n",
       "    .dataframe thead th {\n",
       "        text-align: right;\n",
       "    }\n",
       "</style>\n",
       "<table border=\"1\" class=\"dataframe\">\n",
       "  <thead>\n",
       "    <tr style=\"text-align: right;\">\n",
       "      <th></th>\n",
       "      <th>date</th>\n",
       "      <th>final.output.concentrate_ag</th>\n",
       "      <th>final.output.concentrate_pb</th>\n",
       "      <th>final.output.concentrate_sol</th>\n",
       "      <th>final.output.concentrate_au</th>\n",
       "      <th>final.output.recovery</th>\n",
       "      <th>final.output.tail_ag</th>\n",
       "      <th>final.output.tail_pb</th>\n",
       "      <th>final.output.tail_sol</th>\n",
       "      <th>final.output.tail_au</th>\n",
       "      <th>...</th>\n",
       "      <th>secondary_cleaner.state.floatbank4_a_air</th>\n",
       "      <th>secondary_cleaner.state.floatbank4_a_level</th>\n",
       "      <th>secondary_cleaner.state.floatbank4_b_air</th>\n",
       "      <th>secondary_cleaner.state.floatbank4_b_level</th>\n",
       "      <th>secondary_cleaner.state.floatbank5_a_air</th>\n",
       "      <th>secondary_cleaner.state.floatbank5_a_level</th>\n",
       "      <th>secondary_cleaner.state.floatbank5_b_air</th>\n",
       "      <th>secondary_cleaner.state.floatbank5_b_level</th>\n",
       "      <th>secondary_cleaner.state.floatbank6_a_air</th>\n",
       "      <th>secondary_cleaner.state.floatbank6_a_level</th>\n",
       "    </tr>\n",
       "  </thead>\n",
       "  <tbody>\n",
       "    <tr>\n",
       "      <th>0</th>\n",
       "      <td>2016-01-15 00:00:00</td>\n",
       "      <td>6.055403</td>\n",
       "      <td>9.889648</td>\n",
       "      <td>5.507324</td>\n",
       "      <td>42.192020</td>\n",
       "      <td>70.541216</td>\n",
       "      <td>10.411962</td>\n",
       "      <td>0.895447</td>\n",
       "      <td>16.904297</td>\n",
       "      <td>2.143149</td>\n",
       "      <td>...</td>\n",
       "      <td>14.016835</td>\n",
       "      <td>-502.488007</td>\n",
       "      <td>12.099931</td>\n",
       "      <td>-504.715942</td>\n",
       "      <td>9.925633</td>\n",
       "      <td>-498.310211</td>\n",
       "      <td>8.079666</td>\n",
       "      <td>-500.470978</td>\n",
       "      <td>14.151341</td>\n",
       "      <td>-605.841980</td>\n",
       "    </tr>\n",
       "    <tr>\n",
       "      <th>1</th>\n",
       "      <td>2016-01-15 01:00:00</td>\n",
       "      <td>6.029369</td>\n",
       "      <td>9.968944</td>\n",
       "      <td>5.257781</td>\n",
       "      <td>42.701629</td>\n",
       "      <td>69.266198</td>\n",
       "      <td>10.462676</td>\n",
       "      <td>0.927452</td>\n",
       "      <td>16.634514</td>\n",
       "      <td>2.224930</td>\n",
       "      <td>...</td>\n",
       "      <td>13.992281</td>\n",
       "      <td>-505.503262</td>\n",
       "      <td>11.950531</td>\n",
       "      <td>-501.331529</td>\n",
       "      <td>10.039245</td>\n",
       "      <td>-500.169983</td>\n",
       "      <td>7.984757</td>\n",
       "      <td>-500.582168</td>\n",
       "      <td>13.998353</td>\n",
       "      <td>-599.787184</td>\n",
       "    </tr>\n",
       "    <tr>\n",
       "      <th>2</th>\n",
       "      <td>2016-01-15 02:00:00</td>\n",
       "      <td>6.055926</td>\n",
       "      <td>10.213995</td>\n",
       "      <td>5.383759</td>\n",
       "      <td>42.657501</td>\n",
       "      <td>68.116445</td>\n",
       "      <td>10.507046</td>\n",
       "      <td>0.953716</td>\n",
       "      <td>16.208849</td>\n",
       "      <td>2.257889</td>\n",
       "      <td>...</td>\n",
       "      <td>14.015015</td>\n",
       "      <td>-502.520901</td>\n",
       "      <td>11.912783</td>\n",
       "      <td>-501.133383</td>\n",
       "      <td>10.070913</td>\n",
       "      <td>-500.129135</td>\n",
       "      <td>8.013877</td>\n",
       "      <td>-500.517572</td>\n",
       "      <td>14.028663</td>\n",
       "      <td>-601.427363</td>\n",
       "    </tr>\n",
       "    <tr>\n",
       "      <th>3</th>\n",
       "      <td>2016-01-15 03:00:00</td>\n",
       "      <td>6.047977</td>\n",
       "      <td>9.977019</td>\n",
       "      <td>4.858634</td>\n",
       "      <td>42.689819</td>\n",
       "      <td>68.347543</td>\n",
       "      <td>10.422762</td>\n",
       "      <td>0.883763</td>\n",
       "      <td>16.532835</td>\n",
       "      <td>2.146849</td>\n",
       "      <td>...</td>\n",
       "      <td>14.036510</td>\n",
       "      <td>-500.857308</td>\n",
       "      <td>11.999550</td>\n",
       "      <td>-501.193686</td>\n",
       "      <td>9.970366</td>\n",
       "      <td>-499.201640</td>\n",
       "      <td>7.977324</td>\n",
       "      <td>-500.255908</td>\n",
       "      <td>14.005551</td>\n",
       "      <td>-599.996129</td>\n",
       "    </tr>\n",
       "    <tr>\n",
       "      <th>4</th>\n",
       "      <td>2016-01-15 04:00:00</td>\n",
       "      <td>6.148599</td>\n",
       "      <td>10.142511</td>\n",
       "      <td>4.939416</td>\n",
       "      <td>42.774141</td>\n",
       "      <td>66.927016</td>\n",
       "      <td>10.360302</td>\n",
       "      <td>0.792826</td>\n",
       "      <td>16.525686</td>\n",
       "      <td>2.055292</td>\n",
       "      <td>...</td>\n",
       "      <td>14.027298</td>\n",
       "      <td>-499.838632</td>\n",
       "      <td>11.953070</td>\n",
       "      <td>-501.053894</td>\n",
       "      <td>9.925709</td>\n",
       "      <td>-501.686727</td>\n",
       "      <td>7.894242</td>\n",
       "      <td>-500.356035</td>\n",
       "      <td>13.996647</td>\n",
       "      <td>-601.496691</td>\n",
       "    </tr>\n",
       "  </tbody>\n",
       "</table>\n",
       "<p>5 rows × 87 columns</p>\n",
       "</div>"
      ],
      "text/plain": [
       "                  date  final.output.concentrate_ag  \\\n",
       "0  2016-01-15 00:00:00                     6.055403   \n",
       "1  2016-01-15 01:00:00                     6.029369   \n",
       "2  2016-01-15 02:00:00                     6.055926   \n",
       "3  2016-01-15 03:00:00                     6.047977   \n",
       "4  2016-01-15 04:00:00                     6.148599   \n",
       "\n",
       "   final.output.concentrate_pb  final.output.concentrate_sol  \\\n",
       "0                     9.889648                      5.507324   \n",
       "1                     9.968944                      5.257781   \n",
       "2                    10.213995                      5.383759   \n",
       "3                     9.977019                      4.858634   \n",
       "4                    10.142511                      4.939416   \n",
       "\n",
       "   final.output.concentrate_au  final.output.recovery  final.output.tail_ag  \\\n",
       "0                    42.192020              70.541216             10.411962   \n",
       "1                    42.701629              69.266198             10.462676   \n",
       "2                    42.657501              68.116445             10.507046   \n",
       "3                    42.689819              68.347543             10.422762   \n",
       "4                    42.774141              66.927016             10.360302   \n",
       "\n",
       "   final.output.tail_pb  final.output.tail_sol  final.output.tail_au  ...  \\\n",
       "0              0.895447              16.904297              2.143149  ...   \n",
       "1              0.927452              16.634514              2.224930  ...   \n",
       "2              0.953716              16.208849              2.257889  ...   \n",
       "3              0.883763              16.532835              2.146849  ...   \n",
       "4              0.792826              16.525686              2.055292  ...   \n",
       "\n",
       "   secondary_cleaner.state.floatbank4_a_air  \\\n",
       "0                                 14.016835   \n",
       "1                                 13.992281   \n",
       "2                                 14.015015   \n",
       "3                                 14.036510   \n",
       "4                                 14.027298   \n",
       "\n",
       "   secondary_cleaner.state.floatbank4_a_level  \\\n",
       "0                                 -502.488007   \n",
       "1                                 -505.503262   \n",
       "2                                 -502.520901   \n",
       "3                                 -500.857308   \n",
       "4                                 -499.838632   \n",
       "\n",
       "   secondary_cleaner.state.floatbank4_b_air  \\\n",
       "0                                 12.099931   \n",
       "1                                 11.950531   \n",
       "2                                 11.912783   \n",
       "3                                 11.999550   \n",
       "4                                 11.953070   \n",
       "\n",
       "   secondary_cleaner.state.floatbank4_b_level  \\\n",
       "0                                 -504.715942   \n",
       "1                                 -501.331529   \n",
       "2                                 -501.133383   \n",
       "3                                 -501.193686   \n",
       "4                                 -501.053894   \n",
       "\n",
       "   secondary_cleaner.state.floatbank5_a_air  \\\n",
       "0                                  9.925633   \n",
       "1                                 10.039245   \n",
       "2                                 10.070913   \n",
       "3                                  9.970366   \n",
       "4                                  9.925709   \n",
       "\n",
       "   secondary_cleaner.state.floatbank5_a_level  \\\n",
       "0                                 -498.310211   \n",
       "1                                 -500.169983   \n",
       "2                                 -500.129135   \n",
       "3                                 -499.201640   \n",
       "4                                 -501.686727   \n",
       "\n",
       "   secondary_cleaner.state.floatbank5_b_air  \\\n",
       "0                                  8.079666   \n",
       "1                                  7.984757   \n",
       "2                                  8.013877   \n",
       "3                                  7.977324   \n",
       "4                                  7.894242   \n",
       "\n",
       "   secondary_cleaner.state.floatbank5_b_level  \\\n",
       "0                                 -500.470978   \n",
       "1                                 -500.582168   \n",
       "2                                 -500.517572   \n",
       "3                                 -500.255908   \n",
       "4                                 -500.356035   \n",
       "\n",
       "   secondary_cleaner.state.floatbank6_a_air  \\\n",
       "0                                 14.151341   \n",
       "1                                 13.998353   \n",
       "2                                 14.028663   \n",
       "3                                 14.005551   \n",
       "4                                 13.996647   \n",
       "\n",
       "   secondary_cleaner.state.floatbank6_a_level  \n",
       "0                                 -605.841980  \n",
       "1                                 -599.787184  \n",
       "2                                 -601.427363  \n",
       "3                                 -599.996129  \n",
       "4                                 -601.496691  \n",
       "\n",
       "[5 rows x 87 columns]"
      ]
     },
     "execution_count": 4,
     "metadata": {},
     "output_type": "execute_result"
    }
   ],
   "source": [
    "df_train.head()"
   ]
  },
  {
   "cell_type": "code",
   "execution_count": 5,
   "metadata": {},
   "outputs": [
    {
     "data": {
      "text/plain": [
       "(16860, 87)"
      ]
     },
     "execution_count": 5,
     "metadata": {},
     "output_type": "execute_result"
    }
   ],
   "source": [
    "df_train.shape"
   ]
  },
  {
   "cell_type": "code",
   "execution_count": 6,
   "metadata": {
    "scrolled": false
   },
   "outputs": [
    {
     "name": "stdout",
     "output_type": "stream",
     "text": [
      "<class 'pandas.core.frame.DataFrame'>\n",
      "RangeIndex: 16860 entries, 0 to 16859\n",
      "Data columns (total 87 columns):\n",
      " #   Column                                              Non-Null Count  Dtype  \n",
      "---  ------                                              --------------  -----  \n",
      " 0   date                                                16860 non-null  object \n",
      " 1   final.output.concentrate_ag                         16788 non-null  float64\n",
      " 2   final.output.concentrate_pb                         16788 non-null  float64\n",
      " 3   final.output.concentrate_sol                        16490 non-null  float64\n",
      " 4   final.output.concentrate_au                         16789 non-null  float64\n",
      " 5   final.output.recovery                               15339 non-null  float64\n",
      " 6   final.output.tail_ag                                16794 non-null  float64\n",
      " 7   final.output.tail_pb                                16677 non-null  float64\n",
      " 8   final.output.tail_sol                               16715 non-null  float64\n",
      " 9   final.output.tail_au                                16794 non-null  float64\n",
      " 10  primary_cleaner.input.sulfate                       15553 non-null  float64\n",
      " 11  primary_cleaner.input.depressant                    15598 non-null  float64\n",
      " 12  primary_cleaner.input.feed_size                     16860 non-null  float64\n",
      " 13  primary_cleaner.input.xanthate                      15875 non-null  float64\n",
      " 14  primary_cleaner.output.concentrate_ag               16778 non-null  float64\n",
      " 15  primary_cleaner.output.concentrate_pb               16502 non-null  float64\n",
      " 16  primary_cleaner.output.concentrate_sol              16224 non-null  float64\n",
      " 17  primary_cleaner.output.concentrate_au               16778 non-null  float64\n",
      " 18  primary_cleaner.output.tail_ag                      16777 non-null  float64\n",
      " 19  primary_cleaner.output.tail_pb                      16761 non-null  float64\n",
      " 20  primary_cleaner.output.tail_sol                     16579 non-null  float64\n",
      " 21  primary_cleaner.output.tail_au                      16777 non-null  float64\n",
      " 22  primary_cleaner.state.floatbank8_a_air              16820 non-null  float64\n",
      " 23  primary_cleaner.state.floatbank8_a_level            16827 non-null  float64\n",
      " 24  primary_cleaner.state.floatbank8_b_air              16820 non-null  float64\n",
      " 25  primary_cleaner.state.floatbank8_b_level            16833 non-null  float64\n",
      " 26  primary_cleaner.state.floatbank8_c_air              16822 non-null  float64\n",
      " 27  primary_cleaner.state.floatbank8_c_level            16833 non-null  float64\n",
      " 28  primary_cleaner.state.floatbank8_d_air              16821 non-null  float64\n",
      " 29  primary_cleaner.state.floatbank8_d_level            16833 non-null  float64\n",
      " 30  rougher.calculation.sulfate_to_au_concentrate       16833 non-null  float64\n",
      " 31  rougher.calculation.floatbank10_sulfate_to_au_feed  16833 non-null  float64\n",
      " 32  rougher.calculation.floatbank11_sulfate_to_au_feed  16833 non-null  float64\n",
      " 33  rougher.calculation.au_pb_ratio                     15618 non-null  float64\n",
      " 34  rougher.input.feed_ag                               16778 non-null  float64\n",
      " 35  rougher.input.feed_pb                               16632 non-null  float64\n",
      " 36  rougher.input.feed_rate                             16347 non-null  float64\n",
      " 37  rougher.input.feed_size                             16443 non-null  float64\n",
      " 38  rougher.input.feed_sol                              16568 non-null  float64\n",
      " 39  rougher.input.feed_au                               16777 non-null  float64\n",
      " 40  rougher.input.floatbank10_sulfate                   15816 non-null  float64\n",
      " 41  rougher.input.floatbank10_xanthate                  16514 non-null  float64\n",
      " 42  rougher.input.floatbank11_sulfate                   16237 non-null  float64\n",
      " 43  rougher.input.floatbank11_xanthate                  14956 non-null  float64\n",
      " 44  rougher.output.concentrate_ag                       16778 non-null  float64\n",
      " 45  rougher.output.concentrate_pb                       16778 non-null  float64\n",
      " 46  rougher.output.concentrate_sol                      16698 non-null  float64\n",
      " 47  rougher.output.concentrate_au                       16778 non-null  float64\n",
      " 48  rougher.output.recovery                             14287 non-null  float64\n",
      " 49  rougher.output.tail_ag                              14610 non-null  float64\n",
      " 50  rougher.output.tail_pb                              16778 non-null  float64\n",
      " 51  rougher.output.tail_sol                             14611 non-null  float64\n",
      " 52  rougher.output.tail_au                              14611 non-null  float64\n",
      " 53  rougher.state.floatbank10_a_air                     16807 non-null  float64\n",
      " 54  rougher.state.floatbank10_a_level                   16807 non-null  float64\n",
      " 55  rougher.state.floatbank10_b_air                     16807 non-null  float64\n",
      " 56  rougher.state.floatbank10_b_level                   16807 non-null  float64\n",
      " 57  rougher.state.floatbank10_c_air                     16807 non-null  float64\n",
      " 58  rougher.state.floatbank10_c_level                   16814 non-null  float64\n",
      " 59  rougher.state.floatbank10_d_air                     16802 non-null  float64\n",
      " 60  rougher.state.floatbank10_d_level                   16809 non-null  float64\n",
      " 61  rougher.state.floatbank10_e_air                     16257 non-null  float64\n",
      " 62  rougher.state.floatbank10_e_level                   16809 non-null  float64\n",
      " 63  rougher.state.floatbank10_f_air                     16802 non-null  float64\n",
      " 64  rougher.state.floatbank10_f_level                   16802 non-null  float64\n",
      " 65  secondary_cleaner.output.tail_ag                    16776 non-null  float64\n",
      " 66  secondary_cleaner.output.tail_pb                    16764 non-null  float64\n",
      " 67  secondary_cleaner.output.tail_sol                   14874 non-null  float64\n",
      " 68  secondary_cleaner.output.tail_au                    16778 non-null  float64\n",
      " 69  secondary_cleaner.state.floatbank2_a_air            16497 non-null  float64\n",
      " 70  secondary_cleaner.state.floatbank2_a_level          16751 non-null  float64\n",
      " 71  secondary_cleaner.state.floatbank2_b_air            16705 non-null  float64\n",
      " 72  secondary_cleaner.state.floatbank2_b_level          16748 non-null  float64\n",
      " 73  secondary_cleaner.state.floatbank3_a_air            16763 non-null  float64\n",
      " 74  secondary_cleaner.state.floatbank3_a_level          16747 non-null  float64\n",
      " 75  secondary_cleaner.state.floatbank3_b_air            16752 non-null  float64\n",
      " 76  secondary_cleaner.state.floatbank3_b_level          16750 non-null  float64\n",
      " 77  secondary_cleaner.state.floatbank4_a_air            16731 non-null  float64\n",
      " 78  secondary_cleaner.state.floatbank4_a_level          16747 non-null  float64\n",
      " 79  secondary_cleaner.state.floatbank4_b_air            16768 non-null  float64\n",
      " 80  secondary_cleaner.state.floatbank4_b_level          16767 non-null  float64\n",
      " 81  secondary_cleaner.state.floatbank5_a_air            16775 non-null  float64\n",
      " 82  secondary_cleaner.state.floatbank5_a_level          16775 non-null  float64\n",
      " 83  secondary_cleaner.state.floatbank5_b_air            16775 non-null  float64\n",
      " 84  secondary_cleaner.state.floatbank5_b_level          16776 non-null  float64\n",
      " 85  secondary_cleaner.state.floatbank6_a_air            16757 non-null  float64\n",
      " 86  secondary_cleaner.state.floatbank6_a_level          16775 non-null  float64\n",
      "dtypes: float64(86), object(1)\n",
      "memory usage: 11.2+ MB\n"
     ]
    }
   ],
   "source": [
    "df_train.info()"
   ]
  },
  {
   "cell_type": "code",
   "execution_count": 7,
   "metadata": {},
   "outputs": [
    {
     "data": {
      "text/plain": [
       "(5856, 53)"
      ]
     },
     "execution_count": 7,
     "metadata": {},
     "output_type": "execute_result"
    }
   ],
   "source": [
    "df_test.shape"
   ]
  },
  {
   "cell_type": "code",
   "execution_count": 8,
   "metadata": {},
   "outputs": [
    {
     "name": "stdout",
     "output_type": "stream",
     "text": [
      "<class 'pandas.core.frame.DataFrame'>\n",
      "RangeIndex: 5856 entries, 0 to 5855\n",
      "Data columns (total 53 columns):\n",
      " #   Column                                      Non-Null Count  Dtype  \n",
      "---  ------                                      --------------  -----  \n",
      " 0   date                                        5856 non-null   object \n",
      " 1   primary_cleaner.input.sulfate               5554 non-null   float64\n",
      " 2   primary_cleaner.input.depressant            5572 non-null   float64\n",
      " 3   primary_cleaner.input.feed_size             5856 non-null   float64\n",
      " 4   primary_cleaner.input.xanthate              5690 non-null   float64\n",
      " 5   primary_cleaner.state.floatbank8_a_air      5840 non-null   float64\n",
      " 6   primary_cleaner.state.floatbank8_a_level    5840 non-null   float64\n",
      " 7   primary_cleaner.state.floatbank8_b_air      5840 non-null   float64\n",
      " 8   primary_cleaner.state.floatbank8_b_level    5840 non-null   float64\n",
      " 9   primary_cleaner.state.floatbank8_c_air      5840 non-null   float64\n",
      " 10  primary_cleaner.state.floatbank8_c_level    5840 non-null   float64\n",
      " 11  primary_cleaner.state.floatbank8_d_air      5840 non-null   float64\n",
      " 12  primary_cleaner.state.floatbank8_d_level    5840 non-null   float64\n",
      " 13  rougher.input.feed_ag                       5840 non-null   float64\n",
      " 14  rougher.input.feed_pb                       5840 non-null   float64\n",
      " 15  rougher.input.feed_rate                     5816 non-null   float64\n",
      " 16  rougher.input.feed_size                     5834 non-null   float64\n",
      " 17  rougher.input.feed_sol                      5789 non-null   float64\n",
      " 18  rougher.input.feed_au                       5840 non-null   float64\n",
      " 19  rougher.input.floatbank10_sulfate           5599 non-null   float64\n",
      " 20  rougher.input.floatbank10_xanthate          5733 non-null   float64\n",
      " 21  rougher.input.floatbank11_sulfate           5801 non-null   float64\n",
      " 22  rougher.input.floatbank11_xanthate          5503 non-null   float64\n",
      " 23  rougher.state.floatbank10_a_air             5839 non-null   float64\n",
      " 24  rougher.state.floatbank10_a_level           5840 non-null   float64\n",
      " 25  rougher.state.floatbank10_b_air             5839 non-null   float64\n",
      " 26  rougher.state.floatbank10_b_level           5840 non-null   float64\n",
      " 27  rougher.state.floatbank10_c_air             5839 non-null   float64\n",
      " 28  rougher.state.floatbank10_c_level           5840 non-null   float64\n",
      " 29  rougher.state.floatbank10_d_air             5839 non-null   float64\n",
      " 30  rougher.state.floatbank10_d_level           5840 non-null   float64\n",
      " 31  rougher.state.floatbank10_e_air             5839 non-null   float64\n",
      " 32  rougher.state.floatbank10_e_level           5840 non-null   float64\n",
      " 33  rougher.state.floatbank10_f_air             5839 non-null   float64\n",
      " 34  rougher.state.floatbank10_f_level           5840 non-null   float64\n",
      " 35  secondary_cleaner.state.floatbank2_a_air    5836 non-null   float64\n",
      " 36  secondary_cleaner.state.floatbank2_a_level  5840 non-null   float64\n",
      " 37  secondary_cleaner.state.floatbank2_b_air    5833 non-null   float64\n",
      " 38  secondary_cleaner.state.floatbank2_b_level  5840 non-null   float64\n",
      " 39  secondary_cleaner.state.floatbank3_a_air    5822 non-null   float64\n",
      " 40  secondary_cleaner.state.floatbank3_a_level  5840 non-null   float64\n",
      " 41  secondary_cleaner.state.floatbank3_b_air    5840 non-null   float64\n",
      " 42  secondary_cleaner.state.floatbank3_b_level  5840 non-null   float64\n",
      " 43  secondary_cleaner.state.floatbank4_a_air    5840 non-null   float64\n",
      " 44  secondary_cleaner.state.floatbank4_a_level  5840 non-null   float64\n",
      " 45  secondary_cleaner.state.floatbank4_b_air    5840 non-null   float64\n",
      " 46  secondary_cleaner.state.floatbank4_b_level  5840 non-null   float64\n",
      " 47  secondary_cleaner.state.floatbank5_a_air    5840 non-null   float64\n",
      " 48  secondary_cleaner.state.floatbank5_a_level  5840 non-null   float64\n",
      " 49  secondary_cleaner.state.floatbank5_b_air    5840 non-null   float64\n",
      " 50  secondary_cleaner.state.floatbank5_b_level  5840 non-null   float64\n",
      " 51  secondary_cleaner.state.floatbank6_a_air    5840 non-null   float64\n",
      " 52  secondary_cleaner.state.floatbank6_a_level  5840 non-null   float64\n",
      "dtypes: float64(52), object(1)\n",
      "memory usage: 2.4+ MB\n"
     ]
    }
   ],
   "source": [
    "df_test.info()"
   ]
  },
  {
   "cell_type": "code",
   "execution_count": 9,
   "metadata": {},
   "outputs": [
    {
     "data": {
      "text/plain": [
       "(22716, 87)"
      ]
     },
     "execution_count": 9,
     "metadata": {},
     "output_type": "execute_result"
    }
   ],
   "source": [
    "df_full.shape"
   ]
  },
  {
   "cell_type": "code",
   "execution_count": 10,
   "metadata": {
    "scrolled": false
   },
   "outputs": [
    {
     "name": "stdout",
     "output_type": "stream",
     "text": [
      "<class 'pandas.core.frame.DataFrame'>\n",
      "RangeIndex: 22716 entries, 0 to 22715\n",
      "Data columns (total 87 columns):\n",
      " #   Column                                              Non-Null Count  Dtype  \n",
      "---  ------                                              --------------  -----  \n",
      " 0   date                                                22716 non-null  object \n",
      " 1   final.output.concentrate_ag                         22627 non-null  float64\n",
      " 2   final.output.concentrate_pb                         22629 non-null  float64\n",
      " 3   final.output.concentrate_sol                        22331 non-null  float64\n",
      " 4   final.output.concentrate_au                         22630 non-null  float64\n",
      " 5   final.output.recovery                               20753 non-null  float64\n",
      " 6   final.output.tail_ag                                22633 non-null  float64\n",
      " 7   final.output.tail_pb                                22516 non-null  float64\n",
      " 8   final.output.tail_sol                               22445 non-null  float64\n",
      " 9   final.output.tail_au                                22635 non-null  float64\n",
      " 10  primary_cleaner.input.sulfate                       21107 non-null  float64\n",
      " 11  primary_cleaner.input.depressant                    21170 non-null  float64\n",
      " 12  primary_cleaner.input.feed_size                     22716 non-null  float64\n",
      " 13  primary_cleaner.input.xanthate                      21565 non-null  float64\n",
      " 14  primary_cleaner.output.concentrate_ag               22618 non-null  float64\n",
      " 15  primary_cleaner.output.concentrate_pb               22268 non-null  float64\n",
      " 16  primary_cleaner.output.concentrate_sol              21918 non-null  float64\n",
      " 17  primary_cleaner.output.concentrate_au               22618 non-null  float64\n",
      " 18  primary_cleaner.output.tail_ag                      22614 non-null  float64\n",
      " 19  primary_cleaner.output.tail_pb                      22594 non-null  float64\n",
      " 20  primary_cleaner.output.tail_sol                     22365 non-null  float64\n",
      " 21  primary_cleaner.output.tail_au                      22617 non-null  float64\n",
      " 22  primary_cleaner.state.floatbank8_a_air              22660 non-null  float64\n",
      " 23  primary_cleaner.state.floatbank8_a_level            22667 non-null  float64\n",
      " 24  primary_cleaner.state.floatbank8_b_air              22660 non-null  float64\n",
      " 25  primary_cleaner.state.floatbank8_b_level            22673 non-null  float64\n",
      " 26  primary_cleaner.state.floatbank8_c_air              22662 non-null  float64\n",
      " 27  primary_cleaner.state.floatbank8_c_level            22673 non-null  float64\n",
      " 28  primary_cleaner.state.floatbank8_d_air              22661 non-null  float64\n",
      " 29  primary_cleaner.state.floatbank8_d_level            22673 non-null  float64\n",
      " 30  rougher.calculation.sulfate_to_au_concentrate       22672 non-null  float64\n",
      " 31  rougher.calculation.floatbank10_sulfate_to_au_feed  22672 non-null  float64\n",
      " 32  rougher.calculation.floatbank11_sulfate_to_au_feed  22672 non-null  float64\n",
      " 33  rougher.calculation.au_pb_ratio                     21089 non-null  float64\n",
      " 34  rougher.input.feed_ag                               22618 non-null  float64\n",
      " 35  rougher.input.feed_pb                               22472 non-null  float64\n",
      " 36  rougher.input.feed_rate                             22163 non-null  float64\n",
      " 37  rougher.input.feed_size                             22277 non-null  float64\n",
      " 38  rougher.input.feed_sol                              22357 non-null  float64\n",
      " 39  rougher.input.feed_au                               22617 non-null  float64\n",
      " 40  rougher.input.floatbank10_sulfate                   21415 non-null  float64\n",
      " 41  rougher.input.floatbank10_xanthate                  22247 non-null  float64\n",
      " 42  rougher.input.floatbank11_sulfate                   22038 non-null  float64\n",
      " 43  rougher.input.floatbank11_xanthate                  20459 non-null  float64\n",
      " 44  rougher.output.concentrate_ag                       22618 non-null  float64\n",
      " 45  rougher.output.concentrate_pb                       22618 non-null  float64\n",
      " 46  rougher.output.concentrate_sol                      22526 non-null  float64\n",
      " 47  rougher.output.concentrate_au                       22618 non-null  float64\n",
      " 48  rougher.output.recovery                             19597 non-null  float64\n",
      " 49  rougher.output.tail_ag                              19979 non-null  float64\n",
      " 50  rougher.output.tail_pb                              22618 non-null  float64\n",
      " 51  rougher.output.tail_sol                             19980 non-null  float64\n",
      " 52  rougher.output.tail_au                              19980 non-null  float64\n",
      " 53  rougher.state.floatbank10_a_air                     22646 non-null  float64\n",
      " 54  rougher.state.floatbank10_a_level                   22647 non-null  float64\n",
      " 55  rougher.state.floatbank10_b_air                     22646 non-null  float64\n",
      " 56  rougher.state.floatbank10_b_level                   22647 non-null  float64\n",
      " 57  rougher.state.floatbank10_c_air                     22646 non-null  float64\n",
      " 58  rougher.state.floatbank10_c_level                   22654 non-null  float64\n",
      " 59  rougher.state.floatbank10_d_air                     22641 non-null  float64\n",
      " 60  rougher.state.floatbank10_d_level                   22649 non-null  float64\n",
      " 61  rougher.state.floatbank10_e_air                     22096 non-null  float64\n",
      " 62  rougher.state.floatbank10_e_level                   22649 non-null  float64\n",
      " 63  rougher.state.floatbank10_f_air                     22641 non-null  float64\n",
      " 64  rougher.state.floatbank10_f_level                   22642 non-null  float64\n",
      " 65  secondary_cleaner.output.tail_ag                    22616 non-null  float64\n",
      " 66  secondary_cleaner.output.tail_pb                    22600 non-null  float64\n",
      " 67  secondary_cleaner.output.tail_sol                   20501 non-null  float64\n",
      " 68  secondary_cleaner.output.tail_au                    22618 non-null  float64\n",
      " 69  secondary_cleaner.state.floatbank2_a_air            22333 non-null  float64\n",
      " 70  secondary_cleaner.state.floatbank2_a_level          22591 non-null  float64\n",
      " 71  secondary_cleaner.state.floatbank2_b_air            22538 non-null  float64\n",
      " 72  secondary_cleaner.state.floatbank2_b_level          22588 non-null  float64\n",
      " 73  secondary_cleaner.state.floatbank3_a_air            22585 non-null  float64\n",
      " 74  secondary_cleaner.state.floatbank3_a_level          22587 non-null  float64\n",
      " 75  secondary_cleaner.state.floatbank3_b_air            22592 non-null  float64\n",
      " 76  secondary_cleaner.state.floatbank3_b_level          22590 non-null  float64\n",
      " 77  secondary_cleaner.state.floatbank4_a_air            22571 non-null  float64\n",
      " 78  secondary_cleaner.state.floatbank4_a_level          22587 non-null  float64\n",
      " 79  secondary_cleaner.state.floatbank4_b_air            22608 non-null  float64\n",
      " 80  secondary_cleaner.state.floatbank4_b_level          22607 non-null  float64\n",
      " 81  secondary_cleaner.state.floatbank5_a_air            22615 non-null  float64\n",
      " 82  secondary_cleaner.state.floatbank5_a_level          22615 non-null  float64\n",
      " 83  secondary_cleaner.state.floatbank5_b_air            22615 non-null  float64\n",
      " 84  secondary_cleaner.state.floatbank5_b_level          22616 non-null  float64\n",
      " 85  secondary_cleaner.state.floatbank6_a_air            22597 non-null  float64\n",
      " 86  secondary_cleaner.state.floatbank6_a_level          22615 non-null  float64\n",
      "dtypes: float64(86), object(1)\n",
      "memory usage: 15.1+ MB\n"
     ]
    }
   ],
   "source": [
    "df_full.info()"
   ]
  },
  {
   "cell_type": "markdown",
   "metadata": {},
   "source": [
    "Названия признаков строятся исходя из:\n",
    "1. Названия этапа:\n",
    "    - **rougher** — флотация\n",
    "    - **primary_cleaner** — первичная очистка\n",
    "    - **secondary_cleaner** — вторичная очистка\n",
    "    - **final** — финальные характеристики \n",
    "2. Типа параметра:\n",
    "    - **input** — параметры сырья\n",
    "    - **output** — параметры продукта\n",
    "    - **state** — параметры, характеризующие текущее состояние этапа\n",
    "    - **calculation** — расчётные характеристики\n",
    "3. Непосредственно названия параметра"
   ]
  },
  {
   "cell_type": "markdown",
   "metadata": {},
   "source": [
    "Данные индексируются датой и временем получения информации (признак **date**). Соседние по времени параметры схожие. По этой причине можем задать столбец `date` в качестве индекса во всех трех датафреймах."
   ]
  },
  {
   "cell_type": "code",
   "execution_count": 11,
   "metadata": {},
   "outputs": [],
   "source": [
    "df_train.set_index('date', inplace=True)"
   ]
  },
  {
   "cell_type": "code",
   "execution_count": 12,
   "metadata": {},
   "outputs": [],
   "source": [
    "df_test.set_index('date', inplace=True)"
   ]
  },
  {
   "cell_type": "code",
   "execution_count": 13,
   "metadata": {},
   "outputs": [],
   "source": [
    "df_full.set_index('date', inplace=True)"
   ]
  },
  {
   "cell_type": "markdown",
   "metadata": {},
   "source": [
    "**Вывод**\n",
    "\n",
    "\n",
    "- Можем заметить, что во всех трех датасетах большое количество пропущенных значений, требуется их обработка. \n",
    "- Некоторые параметры недоступны, потому что замеряются или рассчитываются значительно позже. \n",
    "- Также замечаем, что `df_test` содержит только 53 признака, в отличие от `df_train` и `df_full`, где их по 87. Лишние признаки из `df_train` необходимо убрать."
   ]
  },
  {
   "cell_type": "markdown",
   "metadata": {},
   "source": [
    "### Проверка правильности расчетов эффективности обогащения"
   ]
  },
  {
   "cell_type": "markdown",
   "metadata": {},
   "source": [
    "Необходимо удостовериться, что эффективность обогащения рассчитана верно. Вычислим её на обучающей выборке для признака **rougher.output.recovery**. После этого найдем **метрику MAE** между нашими расчётами и значением признака."
   ]
  },
  {
   "attachments": {
    "1.png": {
     "image/png": "[encoded data removed]"
    }
   },
   "cell_type": "markdown",
   "metadata": {},
   "source": [
    "Эффективность обогащения (**Recovery**) рассчитывается по следующей формуле:\n",
    "![1.png](attachment:1.png)\n",
    "- **C** - доля золота в концентрате после флотации (в нашем случае признак **rougher.output.concentrate_au**),\n",
    "- **F** — доля золота в сырье до флотации (признак **rougher.input.feed_au**);\n",
    "- **T** — доля золота в отвальных хвостах после флотации (признак **rougher.output.tail_au**)."
   ]
  },
  {
   "cell_type": "markdown",
   "metadata": {},
   "source": [
    "Посмотрев на формулу и вспомнив закон математики о запрете деления на ноль, нам необходимо исключить случаи, когда знаменатель расчетной формулы равен нулю. Такое происходит:\n",
    "1. Если **rougher.output.concentrate_au == rougher.output.tail_au**,\n",
    "2. Если **rougher.input.feed_au == 0**.\n",
    "\n",
    "Проверим наличие объектов, удовлетворяющих этим условиям."
   ]
  },
  {
   "cell_type": "markdown",
   "metadata": {},
   "source": [
    "**Важное замечание:** чтобы успешно вычислить значение метрики MAE, нам необходимо избавиться от нулевых и пропущенных значений в некоторых признаках путем их удаления из рассматриваемого датасета. С другой стороны, отбрасывать временные куски технологического процесса не самое правильное решение, при будущем построении модели их правильнее оставить, предварительно преобразовав пропуски. Учитывая это, для проверки корректности расчета эффективности обогащения, будем рассматривать не саму обучающую выборку, а ее копию."
   ]
  },
  {
   "cell_type": "code",
   "execution_count": 14,
   "metadata": {},
   "outputs": [],
   "source": [
    "df_train_mae = df_train.copy()"
   ]
  },
  {
   "cell_type": "code",
   "execution_count": 15,
   "metadata": {},
   "outputs": [
    {
     "data": {
      "text/plain": [
       "0"
      ]
     },
     "execution_count": 15,
     "metadata": {},
     "output_type": "execute_result"
    }
   ],
   "source": [
    "# проверяем первое условие\n",
    "len(df_train_mae[df_train_mae['rougher.output.concentrate_au']==df_train_mae['rougher.output.tail_au']])"
   ]
  },
  {
   "cell_type": "code",
   "execution_count": 16,
   "metadata": {},
   "outputs": [
    {
     "data": {
      "text/plain": [
       "1159"
      ]
     },
     "execution_count": 16,
     "metadata": {},
     "output_type": "execute_result"
    }
   ],
   "source": [
    "# проверяем второе условие\n",
    "len(df_train_mae[df_train_mae['rougher.input.feed_au']==0])"
   ]
  },
  {
   "cell_type": "markdown",
   "metadata": {},
   "source": [
    "Видим, что в обучающей выборке присутствует 1159 нулевых значений признака **rougher.input.feed_au**, которые удалим."
   ]
  },
  {
   "cell_type": "code",
   "execution_count": 17,
   "metadata": {},
   "outputs": [],
   "source": [
    "df_train_mae = df_train_mae[df_train_mae['rougher.input.feed_au']!=0]"
   ]
  },
  {
   "cell_type": "markdown",
   "metadata": {},
   "source": [
    "Посмотрим, есть ли в рассматриваемых признаках пропуски. Их наличие не позволит вычислить метрику MAE."
   ]
  },
  {
   "cell_type": "code",
   "execution_count": 18,
   "metadata": {},
   "outputs": [
    {
     "data": {
      "text/plain": [
       "rougher.output.recovery          1414\n",
       "rougher.input.feed_au              83\n",
       "rougher.output.concentrate_au      82\n",
       "rougher.output.tail_au           1153\n",
       "dtype: int64"
      ]
     },
     "execution_count": 18,
     "metadata": {},
     "output_type": "execute_result"
    }
   ],
   "source": [
    "df_train_mae[['rougher.output.recovery', 'rougher.input.feed_au', 'rougher.output.concentrate_au', 'rougher.output.tail_au']].isna().sum()"
   ]
  },
  {
   "cell_type": "markdown",
   "metadata": {},
   "source": [
    "Пропуски имеются, их следует удалить."
   ]
  },
  {
   "cell_type": "code",
   "execution_count": 19,
   "metadata": {},
   "outputs": [],
   "source": [
    "df_train_mae.dropna(subset=['rougher.output.recovery'], inplace=True)"
   ]
  },
  {
   "cell_type": "code",
   "execution_count": 20,
   "metadata": {},
   "outputs": [
    {
     "data": {
      "text/plain": [
       "rougher.output.recovery          0\n",
       "rougher.input.feed_au            0\n",
       "rougher.output.concentrate_au    0\n",
       "rougher.output.tail_au           0\n",
       "dtype: int64"
      ]
     },
     "execution_count": 20,
     "metadata": {},
     "output_type": "execute_result"
    }
   ],
   "source": [
    "# проверяем\n",
    "df_train_mae[['rougher.output.recovery', 'rougher.input.feed_au', 'rougher.output.concentrate_au', 'rougher.output.tail_au']].isna().sum()"
   ]
  },
  {
   "cell_type": "markdown",
   "metadata": {},
   "source": [
    "Функция **recovery_eval** рассчитывает эффективность обогащения по приведенной ранее формуле."
   ]
  },
  {
   "cell_type": "code",
   "execution_count": 21,
   "metadata": {},
   "outputs": [],
   "source": [
    "def recovery_eval(row):\n",
    "    input_au = row['rougher.input.feed_au']\n",
    "    output_au = row['rougher.output.concentrate_au']\n",
    "    tail_au = row['rougher.output.tail_au']\n",
    "    result = ((output_au * (input_au - tail_au)) / (input_au * (output_au - tail_au))) * 100\n",
    "    return result"
   ]
  },
  {
   "cell_type": "markdown",
   "metadata": {},
   "source": [
    "Применяем функцию и сохраняем рассчитанные значения эффективности в признаке **rougher.output.recovery_eval**."
   ]
  },
  {
   "cell_type": "code",
   "execution_count": 22,
   "metadata": {},
   "outputs": [],
   "source": [
    "df_train_mae['rougher.output.recovery_eval'] = df_train_mae.apply(recovery_eval, axis=1)"
   ]
  },
  {
   "cell_type": "markdown",
   "metadata": {},
   "source": [
    "Теперь можем сравнить значения эффективности обогащения, представленные в датасете и расчитанные нами. Рассчитаем метрику MAE."
   ]
  },
  {
   "cell_type": "code",
   "execution_count": 23,
   "metadata": {},
   "outputs": [
    {
     "data": {
      "text/plain": [
       "0.0"
      ]
     },
     "execution_count": 23,
     "metadata": {},
     "output_type": "execute_result"
    }
   ],
   "source": [
    "round(mean_absolute_error(df_train_mae['rougher.output.recovery'], df_train_mae['rougher.output.recovery_eval']), 3)"
   ]
  },
  {
   "cell_type": "markdown",
   "metadata": {},
   "source": [
    "**Вывод**\n",
    "\n",
    "Получили **MAE = 0** для параметра эффективности обогащения **rougher.output.recovery**, следовательно эффективность, представленная в исходной выборке рассчитана верно. "
   ]
  },
  {
   "cell_type": "markdown",
   "metadata": {},
   "source": [
    "### Анализ тестовой выборки"
   ]
  },
  {
   "cell_type": "markdown",
   "metadata": {},
   "source": [
    "Найдем признаки, отсутствующие в таблице `df_test`, но присутствующие в обучающей `df_train` и исходной `df_full` выборках."
   ]
  },
  {
   "cell_type": "code",
   "execution_count": 24,
   "metadata": {},
   "outputs": [
    {
     "data": {
      "text/plain": [
       "Index(['final.output.concentrate_ag', 'final.output.concentrate_pb',\n",
       "       'final.output.concentrate_sol', 'final.output.concentrate_au',\n",
       "       'final.output.recovery', 'final.output.tail_ag', 'final.output.tail_pb',\n",
       "       'final.output.tail_sol', 'final.output.tail_au',\n",
       "       'primary_cleaner.output.concentrate_ag',\n",
       "       'primary_cleaner.output.concentrate_pb',\n",
       "       'primary_cleaner.output.concentrate_sol',\n",
       "       'primary_cleaner.output.concentrate_au',\n",
       "       'primary_cleaner.output.tail_ag', 'primary_cleaner.output.tail_pb',\n",
       "       'primary_cleaner.output.tail_sol', 'primary_cleaner.output.tail_au',\n",
       "       'rougher.calculation.sulfate_to_au_concentrate',\n",
       "       'rougher.calculation.floatbank10_sulfate_to_au_feed',\n",
       "       'rougher.calculation.floatbank11_sulfate_to_au_feed',\n",
       "       'rougher.calculation.au_pb_ratio', 'rougher.output.concentrate_ag',\n",
       "       'rougher.output.concentrate_pb', 'rougher.output.concentrate_sol',\n",
       "       'rougher.output.concentrate_au', 'rougher.output.recovery',\n",
       "       'rougher.output.tail_ag', 'rougher.output.tail_pb',\n",
       "       'rougher.output.tail_sol', 'rougher.output.tail_au',\n",
       "       'secondary_cleaner.output.tail_ag', 'secondary_cleaner.output.tail_pb',\n",
       "       'secondary_cleaner.output.tail_sol',\n",
       "       'secondary_cleaner.output.tail_au'],\n",
       "      dtype='object')"
      ]
     },
     "execution_count": 24,
     "metadata": {},
     "output_type": "execute_result"
    }
   ],
   "source": [
    "df_train.columns[~df_train.columns.isin(df_test.columns)]"
   ]
  },
  {
   "cell_type": "code",
   "execution_count": 25,
   "metadata": {},
   "outputs": [
    {
     "data": {
      "text/plain": [
       "34"
      ]
     },
     "execution_count": 25,
     "metadata": {},
     "output_type": "execute_result"
    }
   ],
   "source": [
    "len(df_train.columns[~df_train.columns.isin(df_test.columns)])"
   ]
  },
  {
   "cell_type": "markdown",
   "metadata": {},
   "source": [
    "Получили список из 34 признаков. Рассмотрим подробнее, что это за параметры и почему они отсутствуют в тестовой выборке."
   ]
  },
  {
   "cell_type": "markdown",
   "metadata": {},
   "source": [
    "Можем заметить, что все представленные параметры относятся к типам **output** и **calculation** для всех четырех этапов технологического процесса. Напомним, что данные типы характеризуют параметры продукта, а также расчетные характеристики, получаемые и вычисляемые по завершении каждого этапа технологического процесса, их отсутствие в тестовой выборке выглядит логичным."
   ]
  },
  {
   "cell_type": "markdown",
   "metadata": {},
   "source": [
    "Также в тестовом наборе данных отсутствуют целевые признаки **rougher.output.recovery** и **final.output.recovery**. Это означает, что для проверки качества модели, предсказанные значения целевых признаков необходимо будет сравнивать с фактическими, содержащимися в исходной `df_full` выборке."
   ]
  },
  {
   "cell_type": "markdown",
   "metadata": {},
   "source": [
    "Наконец, такие признаки, как **final.output.concentrate_au**, **final.output.tail_au**, **rougher.output.concentrate_au** и **rougher.output.tail_au** включены в расчетную формулу целевых признаков **rougher.output.recovery** и **final.output.recovery**, поэтому их отсутствие в тестовой выборке связано с тем, чтобы исключить утечку признака."
   ]
  },
  {
   "cell_type": "markdown",
   "metadata": {},
   "source": [
    "### Предобработка данных"
   ]
  },
  {
   "cell_type": "markdown",
   "metadata": {},
   "source": [
    "Предобработку будем проводить следующим образом:\n",
    "1. Удаление лишних признаков из обучающей выборки.\n",
    "2. Обработка пропущенных значений.\n",
    "3. Проверка дубликатов.\n",
    "4. Отделение целевых признаков в обучающей и тестовой выборках. "
   ]
  },
  {
   "cell_type": "markdown",
   "metadata": {},
   "source": [
    "Как говорили в п. 1.3, количество признаков в обучающей и тестовой выборках разнится. По условию, построенная нами модель должна предсказать коэффициент восстановления золота из золотосодержащей руды по входным параметрам добычи и очистки. В связи с этим, доступные нам параметры в обучающей выборке, которые характеризуют выходные характеристики этапов технологического процесса (например, отвальные хвосты или концентраты металлов в руде), окажут негативное влияние на качество модели. Поэтому, считаем необходимым удалить все признаки из обучающей выборки, которые отсутствуют в тестовой выборке, за исключением целевых: **rougher.output.recovery** и **final.output.recovery**."
   ]
  },
  {
   "cell_type": "code",
   "execution_count": 26,
   "metadata": {},
   "outputs": [],
   "source": [
    "df_train = df_train.drop(columns=['final.output.concentrate_ag', 'final.output.concentrate_pb','final.output.concentrate_sol',\n",
    "                          'final.output.concentrate_au','final.output.tail_ag', 'final.output.tail_pb',\n",
    "                          'final.output.tail_sol', 'final.output.tail_au', 'primary_cleaner.output.concentrate_ag',\n",
    "                          'primary_cleaner.output.concentrate_pb', 'primary_cleaner.output.concentrate_sol',\n",
    "                          'primary_cleaner.output.concentrate_au', 'primary_cleaner.output.tail_ag', \n",
    "                          'primary_cleaner.output.tail_pb', 'primary_cleaner.output.tail_sol', \n",
    "                          'primary_cleaner.output.tail_au', 'rougher.calculation.sulfate_to_au_concentrate', \n",
    "                          'rougher.calculation.floatbank10_sulfate_to_au_feed', \n",
    "                          'rougher.calculation.floatbank11_sulfate_to_au_feed', 'rougher.calculation.au_pb_ratio', \n",
    "                          'rougher.output.concentrate_ag', 'rougher.output.concentrate_pb', 'rougher.output.concentrate_sol',\n",
    "                          'rougher.output.concentrate_au', 'rougher.output.tail_ag', 'rougher.output.tail_pb',\n",
    "                          'rougher.output.tail_sol', 'rougher.output.tail_au', 'secondary_cleaner.output.tail_ag', \n",
    "                          'secondary_cleaner.output.tail_pb', 'secondary_cleaner.output.tail_sol',\n",
    "                          'secondary_cleaner.output.tail_au'], axis=1)"
   ]
  },
  {
   "cell_type": "markdown",
   "metadata": {},
   "source": [
    "Еще раз посмотрим на количество пропусков в датафреймах. Чтобы исключить дублирование кода, используем функцию **nan_percent**."
   ]
  },
  {
   "cell_type": "code",
   "execution_count": 27,
   "metadata": {},
   "outputs": [],
   "source": [
    "def nan_percent(data):\n",
    "    new_data = data.isna().sum().to_frame()\n",
    "    new_data = new_data.rename(columns = {0: 'missing_values'})\n",
    "    new_data['% of total'] = ((new_data['missing_values'] / data.shape[0])*100).round(3)\n",
    "    return new_data.sort_values(by = 'missing_values', ascending = False)"
   ]
  },
  {
   "cell_type": "code",
   "execution_count": 28,
   "metadata": {
    "scrolled": false
   },
   "outputs": [
    {
     "data": {
      "text/html": [
       "<div>\n",
       "<style scoped>\n",
       "    .dataframe tbody tr th:only-of-type {\n",
       "        vertical-align: middle;\n",
       "    }\n",
       "\n",
       "    .dataframe tbody tr th {\n",
       "        vertical-align: top;\n",
       "    }\n",
       "\n",
       "    .dataframe thead th {\n",
       "        text-align: right;\n",
       "    }\n",
       "</style>\n",
       "<table border=\"1\" class=\"dataframe\">\n",
       "  <thead>\n",
       "    <tr style=\"text-align: right;\">\n",
       "      <th></th>\n",
       "      <th>missing_values</th>\n",
       "      <th>% of total</th>\n",
       "    </tr>\n",
       "  </thead>\n",
       "  <tbody>\n",
       "    <tr>\n",
       "      <th>rougher.output.recovery</th>\n",
       "      <td>2573</td>\n",
       "      <td>15.261</td>\n",
       "    </tr>\n",
       "    <tr>\n",
       "      <th>rougher.input.floatbank11_xanthate</th>\n",
       "      <td>1904</td>\n",
       "      <td>11.293</td>\n",
       "    </tr>\n",
       "    <tr>\n",
       "      <th>final.output.recovery</th>\n",
       "      <td>1521</td>\n",
       "      <td>9.021</td>\n",
       "    </tr>\n",
       "    <tr>\n",
       "      <th>primary_cleaner.input.sulfate</th>\n",
       "      <td>1307</td>\n",
       "      <td>7.752</td>\n",
       "    </tr>\n",
       "    <tr>\n",
       "      <th>primary_cleaner.input.depressant</th>\n",
       "      <td>1262</td>\n",
       "      <td>7.485</td>\n",
       "    </tr>\n",
       "    <tr>\n",
       "      <th>rougher.input.floatbank10_sulfate</th>\n",
       "      <td>1044</td>\n",
       "      <td>6.192</td>\n",
       "    </tr>\n",
       "    <tr>\n",
       "      <th>primary_cleaner.input.xanthate</th>\n",
       "      <td>985</td>\n",
       "      <td>5.842</td>\n",
       "    </tr>\n",
       "    <tr>\n",
       "      <th>rougher.input.floatbank11_sulfate</th>\n",
       "      <td>623</td>\n",
       "      <td>3.695</td>\n",
       "    </tr>\n",
       "    <tr>\n",
       "      <th>rougher.state.floatbank10_e_air</th>\n",
       "      <td>603</td>\n",
       "      <td>3.577</td>\n",
       "    </tr>\n",
       "    <tr>\n",
       "      <th>rougher.input.feed_rate</th>\n",
       "      <td>513</td>\n",
       "      <td>3.043</td>\n",
       "    </tr>\n",
       "    <tr>\n",
       "      <th>rougher.input.feed_size</th>\n",
       "      <td>417</td>\n",
       "      <td>2.473</td>\n",
       "    </tr>\n",
       "    <tr>\n",
       "      <th>secondary_cleaner.state.floatbank2_a_air</th>\n",
       "      <td>363</td>\n",
       "      <td>2.153</td>\n",
       "    </tr>\n",
       "    <tr>\n",
       "      <th>rougher.input.floatbank10_xanthate</th>\n",
       "      <td>346</td>\n",
       "      <td>2.052</td>\n",
       "    </tr>\n",
       "    <tr>\n",
       "      <th>rougher.input.feed_sol</th>\n",
       "      <td>292</td>\n",
       "      <td>1.732</td>\n",
       "    </tr>\n",
       "    <tr>\n",
       "      <th>rougher.input.feed_pb</th>\n",
       "      <td>228</td>\n",
       "      <td>1.352</td>\n",
       "    </tr>\n",
       "    <tr>\n",
       "      <th>secondary_cleaner.state.floatbank2_b_air</th>\n",
       "      <td>155</td>\n",
       "      <td>0.919</td>\n",
       "    </tr>\n",
       "    <tr>\n",
       "      <th>secondary_cleaner.state.floatbank4_a_air</th>\n",
       "      <td>129</td>\n",
       "      <td>0.765</td>\n",
       "    </tr>\n",
       "    <tr>\n",
       "      <th>secondary_cleaner.state.floatbank4_a_level</th>\n",
       "      <td>113</td>\n",
       "      <td>0.670</td>\n",
       "    </tr>\n",
       "    <tr>\n",
       "      <th>secondary_cleaner.state.floatbank3_a_level</th>\n",
       "      <td>113</td>\n",
       "      <td>0.670</td>\n",
       "    </tr>\n",
       "    <tr>\n",
       "      <th>secondary_cleaner.state.floatbank2_b_level</th>\n",
       "      <td>112</td>\n",
       "      <td>0.664</td>\n",
       "    </tr>\n",
       "    <tr>\n",
       "      <th>secondary_cleaner.state.floatbank3_b_level</th>\n",
       "      <td>110</td>\n",
       "      <td>0.652</td>\n",
       "    </tr>\n",
       "    <tr>\n",
       "      <th>secondary_cleaner.state.floatbank2_a_level</th>\n",
       "      <td>109</td>\n",
       "      <td>0.647</td>\n",
       "    </tr>\n",
       "    <tr>\n",
       "      <th>secondary_cleaner.state.floatbank3_b_air</th>\n",
       "      <td>108</td>\n",
       "      <td>0.641</td>\n",
       "    </tr>\n",
       "    <tr>\n",
       "      <th>secondary_cleaner.state.floatbank6_a_air</th>\n",
       "      <td>103</td>\n",
       "      <td>0.611</td>\n",
       "    </tr>\n",
       "    <tr>\n",
       "      <th>secondary_cleaner.state.floatbank3_a_air</th>\n",
       "      <td>97</td>\n",
       "      <td>0.575</td>\n",
       "    </tr>\n",
       "    <tr>\n",
       "      <th>secondary_cleaner.state.floatbank4_b_level</th>\n",
       "      <td>93</td>\n",
       "      <td>0.552</td>\n",
       "    </tr>\n",
       "    <tr>\n",
       "      <th>secondary_cleaner.state.floatbank4_b_air</th>\n",
       "      <td>92</td>\n",
       "      <td>0.546</td>\n",
       "    </tr>\n",
       "    <tr>\n",
       "      <th>secondary_cleaner.state.floatbank5_b_air</th>\n",
       "      <td>85</td>\n",
       "      <td>0.504</td>\n",
       "    </tr>\n",
       "    <tr>\n",
       "      <th>secondary_cleaner.state.floatbank5_a_level</th>\n",
       "      <td>85</td>\n",
       "      <td>0.504</td>\n",
       "    </tr>\n",
       "    <tr>\n",
       "      <th>secondary_cleaner.state.floatbank5_a_air</th>\n",
       "      <td>85</td>\n",
       "      <td>0.504</td>\n",
       "    </tr>\n",
       "    <tr>\n",
       "      <th>secondary_cleaner.state.floatbank6_a_level</th>\n",
       "      <td>85</td>\n",
       "      <td>0.504</td>\n",
       "    </tr>\n",
       "    <tr>\n",
       "      <th>secondary_cleaner.state.floatbank5_b_level</th>\n",
       "      <td>84</td>\n",
       "      <td>0.498</td>\n",
       "    </tr>\n",
       "    <tr>\n",
       "      <th>rougher.input.feed_au</th>\n",
       "      <td>83</td>\n",
       "      <td>0.492</td>\n",
       "    </tr>\n",
       "    <tr>\n",
       "      <th>rougher.input.feed_ag</th>\n",
       "      <td>82</td>\n",
       "      <td>0.486</td>\n",
       "    </tr>\n",
       "    <tr>\n",
       "      <th>rougher.state.floatbank10_f_air</th>\n",
       "      <td>58</td>\n",
       "      <td>0.344</td>\n",
       "    </tr>\n",
       "    <tr>\n",
       "      <th>rougher.state.floatbank10_f_level</th>\n",
       "      <td>58</td>\n",
       "      <td>0.344</td>\n",
       "    </tr>\n",
       "    <tr>\n",
       "      <th>rougher.state.floatbank10_d_air</th>\n",
       "      <td>58</td>\n",
       "      <td>0.344</td>\n",
       "    </tr>\n",
       "    <tr>\n",
       "      <th>rougher.state.floatbank10_a_level</th>\n",
       "      <td>53</td>\n",
       "      <td>0.314</td>\n",
       "    </tr>\n",
       "    <tr>\n",
       "      <th>rougher.state.floatbank10_a_air</th>\n",
       "      <td>53</td>\n",
       "      <td>0.314</td>\n",
       "    </tr>\n",
       "    <tr>\n",
       "      <th>rougher.state.floatbank10_b_level</th>\n",
       "      <td>53</td>\n",
       "      <td>0.314</td>\n",
       "    </tr>\n",
       "    <tr>\n",
       "      <th>rougher.state.floatbank10_b_air</th>\n",
       "      <td>53</td>\n",
       "      <td>0.314</td>\n",
       "    </tr>\n",
       "    <tr>\n",
       "      <th>rougher.state.floatbank10_c_air</th>\n",
       "      <td>53</td>\n",
       "      <td>0.314</td>\n",
       "    </tr>\n",
       "    <tr>\n",
       "      <th>rougher.state.floatbank10_e_level</th>\n",
       "      <td>51</td>\n",
       "      <td>0.302</td>\n",
       "    </tr>\n",
       "    <tr>\n",
       "      <th>rougher.state.floatbank10_d_level</th>\n",
       "      <td>51</td>\n",
       "      <td>0.302</td>\n",
       "    </tr>\n",
       "    <tr>\n",
       "      <th>rougher.state.floatbank10_c_level</th>\n",
       "      <td>46</td>\n",
       "      <td>0.273</td>\n",
       "    </tr>\n",
       "    <tr>\n",
       "      <th>primary_cleaner.state.floatbank8_b_air</th>\n",
       "      <td>40</td>\n",
       "      <td>0.237</td>\n",
       "    </tr>\n",
       "    <tr>\n",
       "      <th>primary_cleaner.state.floatbank8_a_air</th>\n",
       "      <td>40</td>\n",
       "      <td>0.237</td>\n",
       "    </tr>\n",
       "    <tr>\n",
       "      <th>primary_cleaner.state.floatbank8_d_air</th>\n",
       "      <td>39</td>\n",
       "      <td>0.231</td>\n",
       "    </tr>\n",
       "    <tr>\n",
       "      <th>primary_cleaner.state.floatbank8_c_air</th>\n",
       "      <td>38</td>\n",
       "      <td>0.225</td>\n",
       "    </tr>\n",
       "    <tr>\n",
       "      <th>primary_cleaner.state.floatbank8_a_level</th>\n",
       "      <td>33</td>\n",
       "      <td>0.196</td>\n",
       "    </tr>\n",
       "    <tr>\n",
       "      <th>primary_cleaner.state.floatbank8_d_level</th>\n",
       "      <td>27</td>\n",
       "      <td>0.160</td>\n",
       "    </tr>\n",
       "    <tr>\n",
       "      <th>primary_cleaner.state.floatbank8_c_level</th>\n",
       "      <td>27</td>\n",
       "      <td>0.160</td>\n",
       "    </tr>\n",
       "    <tr>\n",
       "      <th>primary_cleaner.state.floatbank8_b_level</th>\n",
       "      <td>27</td>\n",
       "      <td>0.160</td>\n",
       "    </tr>\n",
       "    <tr>\n",
       "      <th>primary_cleaner.input.feed_size</th>\n",
       "      <td>0</td>\n",
       "      <td>0.000</td>\n",
       "    </tr>\n",
       "  </tbody>\n",
       "</table>\n",
       "</div>"
      ],
      "text/plain": [
       "                                            missing_values  % of total\n",
       "rougher.output.recovery                               2573      15.261\n",
       "rougher.input.floatbank11_xanthate                    1904      11.293\n",
       "final.output.recovery                                 1521       9.021\n",
       "primary_cleaner.input.sulfate                         1307       7.752\n",
       "primary_cleaner.input.depressant                      1262       7.485\n",
       "rougher.input.floatbank10_sulfate                     1044       6.192\n",
       "primary_cleaner.input.xanthate                         985       5.842\n",
       "rougher.input.floatbank11_sulfate                      623       3.695\n",
       "rougher.state.floatbank10_e_air                        603       3.577\n",
       "rougher.input.feed_rate                                513       3.043\n",
       "rougher.input.feed_size                                417       2.473\n",
       "secondary_cleaner.state.floatbank2_a_air               363       2.153\n",
       "rougher.input.floatbank10_xanthate                     346       2.052\n",
       "rougher.input.feed_sol                                 292       1.732\n",
       "rougher.input.feed_pb                                  228       1.352\n",
       "secondary_cleaner.state.floatbank2_b_air               155       0.919\n",
       "secondary_cleaner.state.floatbank4_a_air               129       0.765\n",
       "secondary_cleaner.state.floatbank4_a_level             113       0.670\n",
       "secondary_cleaner.state.floatbank3_a_level             113       0.670\n",
       "secondary_cleaner.state.floatbank2_b_level             112       0.664\n",
       "secondary_cleaner.state.floatbank3_b_level             110       0.652\n",
       "secondary_cleaner.state.floatbank2_a_level             109       0.647\n",
       "secondary_cleaner.state.floatbank3_b_air               108       0.641\n",
       "secondary_cleaner.state.floatbank6_a_air               103       0.611\n",
       "secondary_cleaner.state.floatbank3_a_air                97       0.575\n",
       "secondary_cleaner.state.floatbank4_b_level              93       0.552\n",
       "secondary_cleaner.state.floatbank4_b_air                92       0.546\n",
       "secondary_cleaner.state.floatbank5_b_air                85       0.504\n",
       "secondary_cleaner.state.floatbank5_a_level              85       0.504\n",
       "secondary_cleaner.state.floatbank5_a_air                85       0.504\n",
       "secondary_cleaner.state.floatbank6_a_level              85       0.504\n",
       "secondary_cleaner.state.floatbank5_b_level              84       0.498\n",
       "rougher.input.feed_au                                   83       0.492\n",
       "rougher.input.feed_ag                                   82       0.486\n",
       "rougher.state.floatbank10_f_air                         58       0.344\n",
       "rougher.state.floatbank10_f_level                       58       0.344\n",
       "rougher.state.floatbank10_d_air                         58       0.344\n",
       "rougher.state.floatbank10_a_level                       53       0.314\n",
       "rougher.state.floatbank10_a_air                         53       0.314\n",
       "rougher.state.floatbank10_b_level                       53       0.314\n",
       "rougher.state.floatbank10_b_air                         53       0.314\n",
       "rougher.state.floatbank10_c_air                         53       0.314\n",
       "rougher.state.floatbank10_e_level                       51       0.302\n",
       "rougher.state.floatbank10_d_level                       51       0.302\n",
       "rougher.state.floatbank10_c_level                       46       0.273\n",
       "primary_cleaner.state.floatbank8_b_air                  40       0.237\n",
       "primary_cleaner.state.floatbank8_a_air                  40       0.237\n",
       "primary_cleaner.state.floatbank8_d_air                  39       0.231\n",
       "primary_cleaner.state.floatbank8_c_air                  38       0.225\n",
       "primary_cleaner.state.floatbank8_a_level                33       0.196\n",
       "primary_cleaner.state.floatbank8_d_level                27       0.160\n",
       "primary_cleaner.state.floatbank8_c_level                27       0.160\n",
       "primary_cleaner.state.floatbank8_b_level                27       0.160\n",
       "primary_cleaner.input.feed_size                          0       0.000"
      ]
     },
     "execution_count": 28,
     "metadata": {},
     "output_type": "execute_result"
    }
   ],
   "source": [
    "# обучающая выборка\n",
    "nan_percent(df_train)"
   ]
  },
  {
   "cell_type": "code",
   "execution_count": 29,
   "metadata": {
    "scrolled": false
   },
   "outputs": [
    {
     "data": {
      "text/html": [
       "<div>\n",
       "<style scoped>\n",
       "    .dataframe tbody tr th:only-of-type {\n",
       "        vertical-align: middle;\n",
       "    }\n",
       "\n",
       "    .dataframe tbody tr th {\n",
       "        vertical-align: top;\n",
       "    }\n",
       "\n",
       "    .dataframe thead th {\n",
       "        text-align: right;\n",
       "    }\n",
       "</style>\n",
       "<table border=\"1\" class=\"dataframe\">\n",
       "  <thead>\n",
       "    <tr style=\"text-align: right;\">\n",
       "      <th></th>\n",
       "      <th>missing_values</th>\n",
       "      <th>% of total</th>\n",
       "    </tr>\n",
       "  </thead>\n",
       "  <tbody>\n",
       "    <tr>\n",
       "      <th>rougher.input.floatbank11_xanthate</th>\n",
       "      <td>353</td>\n",
       "      <td>6.028</td>\n",
       "    </tr>\n",
       "    <tr>\n",
       "      <th>primary_cleaner.input.sulfate</th>\n",
       "      <td>302</td>\n",
       "      <td>5.157</td>\n",
       "    </tr>\n",
       "    <tr>\n",
       "      <th>primary_cleaner.input.depressant</th>\n",
       "      <td>284</td>\n",
       "      <td>4.850</td>\n",
       "    </tr>\n",
       "    <tr>\n",
       "      <th>rougher.input.floatbank10_sulfate</th>\n",
       "      <td>257</td>\n",
       "      <td>4.389</td>\n",
       "    </tr>\n",
       "    <tr>\n",
       "      <th>primary_cleaner.input.xanthate</th>\n",
       "      <td>166</td>\n",
       "      <td>2.835</td>\n",
       "    </tr>\n",
       "    <tr>\n",
       "      <th>rougher.input.floatbank10_xanthate</th>\n",
       "      <td>123</td>\n",
       "      <td>2.100</td>\n",
       "    </tr>\n",
       "    <tr>\n",
       "      <th>rougher.input.feed_sol</th>\n",
       "      <td>67</td>\n",
       "      <td>1.144</td>\n",
       "    </tr>\n",
       "    <tr>\n",
       "      <th>rougher.input.floatbank11_sulfate</th>\n",
       "      <td>55</td>\n",
       "      <td>0.939</td>\n",
       "    </tr>\n",
       "    <tr>\n",
       "      <th>rougher.input.feed_rate</th>\n",
       "      <td>40</td>\n",
       "      <td>0.683</td>\n",
       "    </tr>\n",
       "    <tr>\n",
       "      <th>secondary_cleaner.state.floatbank3_a_air</th>\n",
       "      <td>34</td>\n",
       "      <td>0.581</td>\n",
       "    </tr>\n",
       "    <tr>\n",
       "      <th>secondary_cleaner.state.floatbank2_b_air</th>\n",
       "      <td>23</td>\n",
       "      <td>0.393</td>\n",
       "    </tr>\n",
       "    <tr>\n",
       "      <th>rougher.input.feed_size</th>\n",
       "      <td>22</td>\n",
       "      <td>0.376</td>\n",
       "    </tr>\n",
       "    <tr>\n",
       "      <th>secondary_cleaner.state.floatbank2_a_air</th>\n",
       "      <td>20</td>\n",
       "      <td>0.342</td>\n",
       "    </tr>\n",
       "    <tr>\n",
       "      <th>rougher.state.floatbank10_f_air</th>\n",
       "      <td>17</td>\n",
       "      <td>0.290</td>\n",
       "    </tr>\n",
       "    <tr>\n",
       "      <th>rougher.state.floatbank10_e_air</th>\n",
       "      <td>17</td>\n",
       "      <td>0.290</td>\n",
       "    </tr>\n",
       "    <tr>\n",
       "      <th>rougher.state.floatbank10_d_air</th>\n",
       "      <td>17</td>\n",
       "      <td>0.290</td>\n",
       "    </tr>\n",
       "    <tr>\n",
       "      <th>rougher.state.floatbank10_b_air</th>\n",
       "      <td>17</td>\n",
       "      <td>0.290</td>\n",
       "    </tr>\n",
       "    <tr>\n",
       "      <th>rougher.state.floatbank10_a_air</th>\n",
       "      <td>17</td>\n",
       "      <td>0.290</td>\n",
       "    </tr>\n",
       "    <tr>\n",
       "      <th>rougher.state.floatbank10_c_air</th>\n",
       "      <td>17</td>\n",
       "      <td>0.290</td>\n",
       "    </tr>\n",
       "    <tr>\n",
       "      <th>rougher.input.feed_au</th>\n",
       "      <td>16</td>\n",
       "      <td>0.273</td>\n",
       "    </tr>\n",
       "    <tr>\n",
       "      <th>rougher.input.feed_pb</th>\n",
       "      <td>16</td>\n",
       "      <td>0.273</td>\n",
       "    </tr>\n",
       "    <tr>\n",
       "      <th>secondary_cleaner.state.floatbank6_a_air</th>\n",
       "      <td>16</td>\n",
       "      <td>0.273</td>\n",
       "    </tr>\n",
       "    <tr>\n",
       "      <th>secondary_cleaner.state.floatbank5_b_level</th>\n",
       "      <td>16</td>\n",
       "      <td>0.273</td>\n",
       "    </tr>\n",
       "    <tr>\n",
       "      <th>secondary_cleaner.state.floatbank5_b_air</th>\n",
       "      <td>16</td>\n",
       "      <td>0.273</td>\n",
       "    </tr>\n",
       "    <tr>\n",
       "      <th>secondary_cleaner.state.floatbank5_a_level</th>\n",
       "      <td>16</td>\n",
       "      <td>0.273</td>\n",
       "    </tr>\n",
       "    <tr>\n",
       "      <th>secondary_cleaner.state.floatbank5_a_air</th>\n",
       "      <td>16</td>\n",
       "      <td>0.273</td>\n",
       "    </tr>\n",
       "    <tr>\n",
       "      <th>secondary_cleaner.state.floatbank4_b_level</th>\n",
       "      <td>16</td>\n",
       "      <td>0.273</td>\n",
       "    </tr>\n",
       "    <tr>\n",
       "      <th>secondary_cleaner.state.floatbank4_b_air</th>\n",
       "      <td>16</td>\n",
       "      <td>0.273</td>\n",
       "    </tr>\n",
       "    <tr>\n",
       "      <th>secondary_cleaner.state.floatbank4_a_level</th>\n",
       "      <td>16</td>\n",
       "      <td>0.273</td>\n",
       "    </tr>\n",
       "    <tr>\n",
       "      <th>secondary_cleaner.state.floatbank4_a_air</th>\n",
       "      <td>16</td>\n",
       "      <td>0.273</td>\n",
       "    </tr>\n",
       "    <tr>\n",
       "      <th>secondary_cleaner.state.floatbank3_b_level</th>\n",
       "      <td>16</td>\n",
       "      <td>0.273</td>\n",
       "    </tr>\n",
       "    <tr>\n",
       "      <th>secondary_cleaner.state.floatbank3_b_air</th>\n",
       "      <td>16</td>\n",
       "      <td>0.273</td>\n",
       "    </tr>\n",
       "    <tr>\n",
       "      <th>secondary_cleaner.state.floatbank3_a_level</th>\n",
       "      <td>16</td>\n",
       "      <td>0.273</td>\n",
       "    </tr>\n",
       "    <tr>\n",
       "      <th>secondary_cleaner.state.floatbank2_b_level</th>\n",
       "      <td>16</td>\n",
       "      <td>0.273</td>\n",
       "    </tr>\n",
       "    <tr>\n",
       "      <th>primary_cleaner.state.floatbank8_a_air</th>\n",
       "      <td>16</td>\n",
       "      <td>0.273</td>\n",
       "    </tr>\n",
       "    <tr>\n",
       "      <th>secondary_cleaner.state.floatbank2_a_level</th>\n",
       "      <td>16</td>\n",
       "      <td>0.273</td>\n",
       "    </tr>\n",
       "    <tr>\n",
       "      <th>primary_cleaner.state.floatbank8_a_level</th>\n",
       "      <td>16</td>\n",
       "      <td>0.273</td>\n",
       "    </tr>\n",
       "    <tr>\n",
       "      <th>rougher.state.floatbank10_f_level</th>\n",
       "      <td>16</td>\n",
       "      <td>0.273</td>\n",
       "    </tr>\n",
       "    <tr>\n",
       "      <th>primary_cleaner.state.floatbank8_b_air</th>\n",
       "      <td>16</td>\n",
       "      <td>0.273</td>\n",
       "    </tr>\n",
       "    <tr>\n",
       "      <th>rougher.state.floatbank10_e_level</th>\n",
       "      <td>16</td>\n",
       "      <td>0.273</td>\n",
       "    </tr>\n",
       "    <tr>\n",
       "      <th>primary_cleaner.state.floatbank8_b_level</th>\n",
       "      <td>16</td>\n",
       "      <td>0.273</td>\n",
       "    </tr>\n",
       "    <tr>\n",
       "      <th>rougher.state.floatbank10_d_level</th>\n",
       "      <td>16</td>\n",
       "      <td>0.273</td>\n",
       "    </tr>\n",
       "    <tr>\n",
       "      <th>primary_cleaner.state.floatbank8_c_air</th>\n",
       "      <td>16</td>\n",
       "      <td>0.273</td>\n",
       "    </tr>\n",
       "    <tr>\n",
       "      <th>rougher.state.floatbank10_c_level</th>\n",
       "      <td>16</td>\n",
       "      <td>0.273</td>\n",
       "    </tr>\n",
       "    <tr>\n",
       "      <th>primary_cleaner.state.floatbank8_c_level</th>\n",
       "      <td>16</td>\n",
       "      <td>0.273</td>\n",
       "    </tr>\n",
       "    <tr>\n",
       "      <th>rougher.state.floatbank10_b_level</th>\n",
       "      <td>16</td>\n",
       "      <td>0.273</td>\n",
       "    </tr>\n",
       "    <tr>\n",
       "      <th>primary_cleaner.state.floatbank8_d_air</th>\n",
       "      <td>16</td>\n",
       "      <td>0.273</td>\n",
       "    </tr>\n",
       "    <tr>\n",
       "      <th>rougher.state.floatbank10_a_level</th>\n",
       "      <td>16</td>\n",
       "      <td>0.273</td>\n",
       "    </tr>\n",
       "    <tr>\n",
       "      <th>primary_cleaner.state.floatbank8_d_level</th>\n",
       "      <td>16</td>\n",
       "      <td>0.273</td>\n",
       "    </tr>\n",
       "    <tr>\n",
       "      <th>rougher.input.feed_ag</th>\n",
       "      <td>16</td>\n",
       "      <td>0.273</td>\n",
       "    </tr>\n",
       "    <tr>\n",
       "      <th>secondary_cleaner.state.floatbank6_a_level</th>\n",
       "      <td>16</td>\n",
       "      <td>0.273</td>\n",
       "    </tr>\n",
       "    <tr>\n",
       "      <th>primary_cleaner.input.feed_size</th>\n",
       "      <td>0</td>\n",
       "      <td>0.000</td>\n",
       "    </tr>\n",
       "  </tbody>\n",
       "</table>\n",
       "</div>"
      ],
      "text/plain": [
       "                                            missing_values  % of total\n",
       "rougher.input.floatbank11_xanthate                     353       6.028\n",
       "primary_cleaner.input.sulfate                          302       5.157\n",
       "primary_cleaner.input.depressant                       284       4.850\n",
       "rougher.input.floatbank10_sulfate                      257       4.389\n",
       "primary_cleaner.input.xanthate                         166       2.835\n",
       "rougher.input.floatbank10_xanthate                     123       2.100\n",
       "rougher.input.feed_sol                                  67       1.144\n",
       "rougher.input.floatbank11_sulfate                       55       0.939\n",
       "rougher.input.feed_rate                                 40       0.683\n",
       "secondary_cleaner.state.floatbank3_a_air                34       0.581\n",
       "secondary_cleaner.state.floatbank2_b_air                23       0.393\n",
       "rougher.input.feed_size                                 22       0.376\n",
       "secondary_cleaner.state.floatbank2_a_air                20       0.342\n",
       "rougher.state.floatbank10_f_air                         17       0.290\n",
       "rougher.state.floatbank10_e_air                         17       0.290\n",
       "rougher.state.floatbank10_d_air                         17       0.290\n",
       "rougher.state.floatbank10_b_air                         17       0.290\n",
       "rougher.state.floatbank10_a_air                         17       0.290\n",
       "rougher.state.floatbank10_c_air                         17       0.290\n",
       "rougher.input.feed_au                                   16       0.273\n",
       "rougher.input.feed_pb                                   16       0.273\n",
       "secondary_cleaner.state.floatbank6_a_air                16       0.273\n",
       "secondary_cleaner.state.floatbank5_b_level              16       0.273\n",
       "secondary_cleaner.state.floatbank5_b_air                16       0.273\n",
       "secondary_cleaner.state.floatbank5_a_level              16       0.273\n",
       "secondary_cleaner.state.floatbank5_a_air                16       0.273\n",
       "secondary_cleaner.state.floatbank4_b_level              16       0.273\n",
       "secondary_cleaner.state.floatbank4_b_air                16       0.273\n",
       "secondary_cleaner.state.floatbank4_a_level              16       0.273\n",
       "secondary_cleaner.state.floatbank4_a_air                16       0.273\n",
       "secondary_cleaner.state.floatbank3_b_level              16       0.273\n",
       "secondary_cleaner.state.floatbank3_b_air                16       0.273\n",
       "secondary_cleaner.state.floatbank3_a_level              16       0.273\n",
       "secondary_cleaner.state.floatbank2_b_level              16       0.273\n",
       "primary_cleaner.state.floatbank8_a_air                  16       0.273\n",
       "secondary_cleaner.state.floatbank2_a_level              16       0.273\n",
       "primary_cleaner.state.floatbank8_a_level                16       0.273\n",
       "rougher.state.floatbank10_f_level                       16       0.273\n",
       "primary_cleaner.state.floatbank8_b_air                  16       0.273\n",
       "rougher.state.floatbank10_e_level                       16       0.273\n",
       "primary_cleaner.state.floatbank8_b_level                16       0.273\n",
       "rougher.state.floatbank10_d_level                       16       0.273\n",
       "primary_cleaner.state.floatbank8_c_air                  16       0.273\n",
       "rougher.state.floatbank10_c_level                       16       0.273\n",
       "primary_cleaner.state.floatbank8_c_level                16       0.273\n",
       "rougher.state.floatbank10_b_level                       16       0.273\n",
       "primary_cleaner.state.floatbank8_d_air                  16       0.273\n",
       "rougher.state.floatbank10_a_level                       16       0.273\n",
       "primary_cleaner.state.floatbank8_d_level                16       0.273\n",
       "rougher.input.feed_ag                                   16       0.273\n",
       "secondary_cleaner.state.floatbank6_a_level              16       0.273\n",
       "primary_cleaner.input.feed_size                          0       0.000"
      ]
     },
     "execution_count": 29,
     "metadata": {},
     "output_type": "execute_result"
    }
   ],
   "source": [
    "# тестовая выборка\n",
    "nan_percent(df_test)"
   ]
  },
  {
   "cell_type": "code",
   "execution_count": 30,
   "metadata": {
    "scrolled": false
   },
   "outputs": [
    {
     "data": {
      "text/html": [
       "<div>\n",
       "<style scoped>\n",
       "    .dataframe tbody tr th:only-of-type {\n",
       "        vertical-align: middle;\n",
       "    }\n",
       "\n",
       "    .dataframe tbody tr th {\n",
       "        vertical-align: top;\n",
       "    }\n",
       "\n",
       "    .dataframe thead th {\n",
       "        text-align: right;\n",
       "    }\n",
       "</style>\n",
       "<table border=\"1\" class=\"dataframe\">\n",
       "  <thead>\n",
       "    <tr style=\"text-align: right;\">\n",
       "      <th></th>\n",
       "      <th>missing_values</th>\n",
       "      <th>% of total</th>\n",
       "    </tr>\n",
       "  </thead>\n",
       "  <tbody>\n",
       "    <tr>\n",
       "      <th>rougher.output.recovery</th>\n",
       "      <td>3119</td>\n",
       "      <td>13.730</td>\n",
       "    </tr>\n",
       "    <tr>\n",
       "      <th>rougher.output.tail_ag</th>\n",
       "      <td>2737</td>\n",
       "      <td>12.049</td>\n",
       "    </tr>\n",
       "    <tr>\n",
       "      <th>rougher.output.tail_sol</th>\n",
       "      <td>2736</td>\n",
       "      <td>12.044</td>\n",
       "    </tr>\n",
       "    <tr>\n",
       "      <th>rougher.output.tail_au</th>\n",
       "      <td>2736</td>\n",
       "      <td>12.044</td>\n",
       "    </tr>\n",
       "    <tr>\n",
       "      <th>rougher.input.floatbank11_xanthate</th>\n",
       "      <td>2257</td>\n",
       "      <td>9.936</td>\n",
       "    </tr>\n",
       "    <tr>\n",
       "      <th>...</th>\n",
       "      <td>...</td>\n",
       "      <td>...</td>\n",
       "    </tr>\n",
       "    <tr>\n",
       "      <th>rougher.calculation.floatbank10_sulfate_to_au_feed</th>\n",
       "      <td>44</td>\n",
       "      <td>0.194</td>\n",
       "    </tr>\n",
       "    <tr>\n",
       "      <th>primary_cleaner.state.floatbank8_b_level</th>\n",
       "      <td>43</td>\n",
       "      <td>0.189</td>\n",
       "    </tr>\n",
       "    <tr>\n",
       "      <th>primary_cleaner.state.floatbank8_c_level</th>\n",
       "      <td>43</td>\n",
       "      <td>0.189</td>\n",
       "    </tr>\n",
       "    <tr>\n",
       "      <th>primary_cleaner.state.floatbank8_d_level</th>\n",
       "      <td>43</td>\n",
       "      <td>0.189</td>\n",
       "    </tr>\n",
       "    <tr>\n",
       "      <th>primary_cleaner.input.feed_size</th>\n",
       "      <td>0</td>\n",
       "      <td>0.000</td>\n",
       "    </tr>\n",
       "  </tbody>\n",
       "</table>\n",
       "<p>86 rows × 2 columns</p>\n",
       "</div>"
      ],
      "text/plain": [
       "                                                    missing_values  % of total\n",
       "rougher.output.recovery                                       3119      13.730\n",
       "rougher.output.tail_ag                                        2737      12.049\n",
       "rougher.output.tail_sol                                       2736      12.044\n",
       "rougher.output.tail_au                                        2736      12.044\n",
       "rougher.input.floatbank11_xanthate                            2257       9.936\n",
       "...                                                            ...         ...\n",
       "rougher.calculation.floatbank10_sulfate_to_au_feed              44       0.194\n",
       "primary_cleaner.state.floatbank8_b_level                        43       0.189\n",
       "primary_cleaner.state.floatbank8_c_level                        43       0.189\n",
       "primary_cleaner.state.floatbank8_d_level                        43       0.189\n",
       "primary_cleaner.input.feed_size                                  0       0.000\n",
       "\n",
       "[86 rows x 2 columns]"
      ]
     },
     "execution_count": 30,
     "metadata": {},
     "output_type": "execute_result"
    }
   ],
   "source": [
    "# исходная выборка\n",
    "nan_percent(df_full)"
   ]
  },
  {
   "cell_type": "markdown",
   "metadata": {},
   "source": [
    "Несмотря на то, что процент пропущенных значений не велик (до 15%), отбрасывать их не будем. Как говорили ранее, объекты, представленные в датафреймах, индексируются датой и временем забора информации. Удаление объектов с пропусками в каком-либо признаке нарушит логику представления технологического процесса. Так как данные у нас связаны логически технологическим процессом, можем заполнить пропуски предыдущими значениями."
   ]
  },
  {
   "cell_type": "code",
   "execution_count": 31,
   "metadata": {},
   "outputs": [],
   "source": [
    "df_train = df_train.fillna(method='ffill')\n",
    "df_test = df_test.fillna(method='ffill')\n",
    "df_full = df_full.fillna(method='ffill')"
   ]
  },
  {
   "cell_type": "markdown",
   "metadata": {},
   "source": [
    "Следующим этапом предобработки является проверка дубликатов."
   ]
  },
  {
   "cell_type": "code",
   "execution_count": 32,
   "metadata": {},
   "outputs": [
    {
     "data": {
      "text/plain": [
       "24"
      ]
     },
     "execution_count": 32,
     "metadata": {},
     "output_type": "execute_result"
    }
   ],
   "source": [
    "df_train.duplicated().sum()"
   ]
  },
  {
   "cell_type": "code",
   "execution_count": 33,
   "metadata": {},
   "outputs": [
    {
     "data": {
      "text/plain": [
       "8"
      ]
     },
     "execution_count": 33,
     "metadata": {},
     "output_type": "execute_result"
    }
   ],
   "source": [
    "df_test.duplicated().sum()"
   ]
  },
  {
   "cell_type": "code",
   "execution_count": 34,
   "metadata": {},
   "outputs": [
    {
     "data": {
      "text/plain": [
       "29"
      ]
     },
     "execution_count": 34,
     "metadata": {},
     "output_type": "execute_result"
    }
   ],
   "source": [
    "df_full.duplicated().sum()"
   ]
  },
  {
   "cell_type": "markdown",
   "metadata": {},
   "source": [
    "Видим, что дубликаты присутствуют во всех трех датафреймах. Удалим их."
   ]
  },
  {
   "cell_type": "code",
   "execution_count": 35,
   "metadata": {},
   "outputs": [],
   "source": [
    "df_train.drop_duplicates(inplace=True)"
   ]
  },
  {
   "cell_type": "code",
   "execution_count": 36,
   "metadata": {},
   "outputs": [],
   "source": [
    "df_test.drop_duplicates(inplace=True)"
   ]
  },
  {
   "cell_type": "code",
   "execution_count": 37,
   "metadata": {},
   "outputs": [],
   "source": [
    "df_full.drop_duplicates(inplace=True)"
   ]
  },
  {
   "cell_type": "markdown",
   "metadata": {},
   "source": [
    "**Вывод**\n",
    "\n",
    "Провели предобработку данных, а именно: убрали лишние признаки из обучающей выборки, обработали пропущенные значения и удалили дубликаты. "
   ]
  },
  {
   "cell_type": "markdown",
   "metadata": {},
   "source": [
    "## Анализ данных"
   ]
  },
  {
   "cell_type": "markdown",
   "metadata": {},
   "source": [
    "### Анализ концентрации металлов (Au, Ag, Pb)"
   ]
  },
  {
   "cell_type": "markdown",
   "metadata": {},
   "source": [
    "Посмотрим, как меняется концентрация металлов (Au, Ag, Pb) на различных этапах очистки. Рассмотрим исходную выборку `df_full`. Чтобы изобразить изменения в распределениях концентраций металлов графически, используем функцию **show_concentrate**."
   ]
  },
  {
   "cell_type": "code",
   "execution_count": 38,
   "metadata": {},
   "outputs": [],
   "source": [
    "def show_concentrate(first_stage, second_stage, metal):\n",
    "    plt.figure(figsize=(16, 5))\n",
    "    plt.grid()\n",
    "    plt.hist([first_stage, second_stage], bins=26, label=['1-й этап очистки', '2-й этап очистки'])\n",
    "    plt.xlabel('Концентрация металла')\n",
    "    plt.ylabel('Количество объектов')\n",
    "    plt.title(f'Распределение концентрации {metal}')\n",
    "    plt.legend(loc='upper left')\n",
    "    plt.show()\n",
    "    plt.figure(figsize=(16, 5))\n",
    "    plt.grid()\n",
    "    plt.boxplot([first_stage, second_stage], labels=['1-й этап очистки', '2-й этап очистки'])\n",
    "    plt.title(f'Диаграмма размаха концентрации {metal}')\n",
    "    plt.ylabel('Значение концентрации металла')\n",
    "    plt.show()\n",
    "    print('Среднее значение:', '\\t', first_stage.mean(), '  \\t\\t\\t\\t\\t', second_stage.mean())\n",
    "    print('Медиана:', '\\t\\t', first_stage.median(), '  \\t\\t\\t\\t\\t', second_stage.median())"
   ]
  },
  {
   "cell_type": "markdown",
   "metadata": {},
   "source": [
    "**Анализ концентрации золота (Au)**"
   ]
  },
  {
   "cell_type": "code",
   "execution_count": 39,
   "metadata": {},
   "outputs": [
    {
     "data": {
      "image/png": "[encoded data removed]",
      "text/plain": [
       "<Figure size 1152x360 with 1 Axes>"
      ]
     },
     "metadata": {
      "needs_background": "light"
     },
     "output_type": "display_data"
    },
    {
     "data": {
      "image/png": "[encoded data removed]",
      "text/plain": [
       "<Figure size 1152x360 with 1 Axes>"
      ]
     },
     "metadata": {
      "needs_background": "light"
     },
     "output_type": "display_data"
    },
    {
     "name": "stdout",
     "output_type": "stream",
     "text": [
      "Среднее значение: \t 29.141098295435405   \t\t\t\t\t 39.90696976709328\n",
      "Медиана: \t\t 32.34817035517012   \t\t\t\t\t 44.643242307544696\n"
     ]
    }
   ],
   "source": [
    "show_concentrate(df_full['primary_cleaner.output.concentrate_au'], df_full['final.output.concentrate_au'], 'золота')"
   ]
  },
  {
   "cell_type": "markdown",
   "metadata": {},
   "source": [
    "Посмотрев на диаграммы, можно сделать следующие **выводы**:\n",
    "1. В финальном концентрате золота больше, чем в концентрате после первого этапа очистки, что подтверждается средними значениями. Скорее всего, увеличение концентрации золота достигается за счет уменьшения концентрации других металлов.\n",
    "2. В выборке присутствует большое количество выбросов - значений концентрации золота, близких к нулю. Возможно, это связано с какими-либо сбоями оборудования или технологическими остановками, во время которых продолжался сбор данных о параметрах смеси золотоносной руды. Для построения наиболее эффективной модели, потребуется очистить выборки от таких выбросов."
   ]
  },
  {
   "cell_type": "markdown",
   "metadata": {},
   "source": [
    "**Анализ концентрации серебра (Ag)**"
   ]
  },
  {
   "cell_type": "code",
   "execution_count": 40,
   "metadata": {},
   "outputs": [
    {
     "data": {
      "image/png": "[encoded data removed]",
      "text/plain": [
       "<Figure size 1152x360 with 1 Axes>"
      ]
     },
     "metadata": {
      "needs_background": "light"
     },
     "output_type": "display_data"
    },
    {
     "data": {
      "image/png": "[encoded data removed]",
      "text/plain": [
       "<Figure size 1152x360 with 1 Axes>"
      ]
     },
     "metadata": {
      "needs_background": "light"
     },
     "output_type": "display_data"
    },
    {
     "name": "stdout",
     "output_type": "stream",
     "text": [
      "Среднее значение: \t 7.672593841419507   \t\t\t\t\t 4.7700744877364345\n",
      "Медиана: \t\t 8.258627401612117   \t\t\t\t\t 4.950944866365352\n"
     ]
    }
   ],
   "source": [
    "show_concentrate(df_full['primary_cleaner.output.concentrate_ag'], df_full['final.output.concentrate_ag'], 'серебра')"
   ]
  },
  {
   "cell_type": "markdown",
   "metadata": {},
   "source": [
    "**Вывод:**\n",
    "1. Наша гипотеза, сформулированная после анализа концентрации золота, подтвердилась. Действительно, в отличие от первого случая (с золотом), в ситуации с серебром наблюдаем уменьшение концентрации металла после второго этапа очистки в сравнении с первым.\n",
    "2. Ситуация с аномальными сверхмалыми значениями концентрации металла аналогична предыдущему случаю. Предположение о сбоях оборудования подтверждается."
   ]
  },
  {
   "cell_type": "markdown",
   "metadata": {},
   "source": [
    "**Анализ концентрации свинца (Pb)**"
   ]
  },
  {
   "cell_type": "markdown",
   "metadata": {},
   "source": [
    "Наконец, посмотрим, как меняется концентрация свинца(Pb) после первого и второго этапов очистки."
   ]
  },
  {
   "cell_type": "code",
   "execution_count": 41,
   "metadata": {},
   "outputs": [
    {
     "data": {
      "image/png": "[encoded data removed]",
      "text/plain": [
       "<Figure size 1152x360 with 1 Axes>"
      ]
     },
     "metadata": {
      "needs_background": "light"
     },
     "output_type": "display_data"
    },
    {
     "data": {
      "image/png": "[encoded data removed]",
      "text/plain": [
       "<Figure size 1152x360 with 1 Axes>"
      ]
     },
     "metadata": {
      "needs_background": "light"
     },
     "output_type": "display_data"
    },
    {
     "name": "stdout",
     "output_type": "stream",
     "text": [
      "Среднее значение: \t 8.815952506325527   \t\t\t\t\t 9.073488489053045\n",
      "Медиана: \t\t 9.884161858558654   \t\t\t\t\t 9.90888500822915\n"
     ]
    }
   ],
   "source": [
    "show_concentrate(df_full['primary_cleaner.output.concentrate_pb'], df_full['final.output.concentrate_pb'], 'свинца')"
   ]
  },
  {
   "cell_type": "markdown",
   "metadata": {},
   "source": [
    "**Вывод**\n",
    "\n",
    "В случае с концентрацией свинца, наблюдается иная картина. Видим, что значения находятся примерно на одном и том же уровне (средние значения: 8.81 - после 1-го этапа, 9.07 - после 2-го этапа).\n",
    "\n",
    "Неизменной остается только ситуация с выбросами - наблюдаем примерно такое же количество (2000-2300) близких к нулю объектов."
   ]
  },
  {
   "cell_type": "markdown",
   "metadata": {},
   "source": [
    "### Анализ размеров гранул сырья"
   ]
  },
  {
   "cell_type": "markdown",
   "metadata": {},
   "source": [
    "Сравним распределения размеров гранул сырья на обучающей и тестовой выборках. Для графического отображения распределений используем функцию **show_feed_size**."
   ]
  },
  {
   "cell_type": "code",
   "execution_count": 42,
   "metadata": {},
   "outputs": [],
   "source": [
    "def show_feed_size(train, test, stage):\n",
    "    plt.figure(figsize=(16, 5))\n",
    "    plt.grid()\n",
    "    plt.hist([train, test], bins=30, label=['Обучающая выборка', 'Тестовая выборка'])\n",
    "    plt.xlabel('Размер гранул сырья')\n",
    "    plt.ylabel('Количество объектов')\n",
    "    plt.title(f'Распределение размеров гранул сырья на этапе {stage}')\n",
    "    plt.legend(loc='upper right')\n",
    "    plt.show()\n",
    "    plt.figure(figsize=(16, 5))\n",
    "    plt.grid()\n",
    "    plt.boxplot([train, test], labels=['Обучающая выборка', 'Тестовая выборка'])\n",
    "    plt.title(f'Диаграмма размаха размеров гранул сырья на этапе {stage}')\n",
    "    plt.ylabel('Значение размера гранул сырья')\n",
    "    plt.show()\n",
    "    print('Среднее значение:', '\\t', train.mean(), '  \\t\\t\\t\\t\\t', test.mean())\n",
    "    print('Медиана:', '\\t\\t', train.median(), '  \\t\\t\\t\\t\\t', test.median())"
   ]
  },
  {
   "cell_type": "markdown",
   "metadata": {},
   "source": [
    "**Анализ размера гранул сырья на этапе флотации (rougher)**"
   ]
  },
  {
   "cell_type": "code",
   "execution_count": 43,
   "metadata": {},
   "outputs": [
    {
     "data": {
      "image/png": "[encoded data removed]",
      "text/plain": [
       "<Figure size 1152x360 with 1 Axes>"
      ]
     },
     "metadata": {
      "needs_background": "light"
     },
     "output_type": "display_data"
    },
    {
     "data": {
      "image/png": "[encoded data removed]",
      "text/plain": [
       "<Figure size 1152x360 with 1 Axes>"
      ]
     },
     "metadata": {
      "needs_background": "light"
     },
     "output_type": "display_data"
    },
    {
     "name": "stdout",
     "output_type": "stream",
     "text": [
      "Среднее значение: \t 60.20140389385614   \t\t\t\t\t 55.91449622463389\n",
      "Медиана: \t\t 54.07470499802592   \t\t\t\t\t 49.98365346158175\n"
     ]
    }
   ],
   "source": [
    "show_feed_size(df_train['rougher.input.feed_size'], df_test['rougher.input.feed_size'], 'флотации')"
   ]
  },
  {
   "cell_type": "markdown",
   "metadata": {},
   "source": [
    "**Вывод**\n",
    "\n",
    "Формы распределений размеров гранул сырья на этапе флотации на обучающей и тестовой выборках схожие. Расхождение в средних значениях присутствуют, но не настолько критичные, чтобы проводить перебалансировку классов. В обеих выборках присутсвуют выбросы, которые необходимо отфильтровать."
   ]
  },
  {
   "cell_type": "markdown",
   "metadata": {},
   "source": [
    "**Анализ размера гранул сырья на этапе первичной очистки (primary_cleaner)**"
   ]
  },
  {
   "cell_type": "code",
   "execution_count": 44,
   "metadata": {},
   "outputs": [
    {
     "data": {
      "image/png": "[encoded data removed]",
      "text/plain": [
       "<Figure size 1152x360 with 1 Axes>"
      ]
     },
     "metadata": {
      "needs_background": "light"
     },
     "output_type": "display_data"
    },
    {
     "data": {
      "image/png": "[encoded data removed]",
      "text/plain": [
       "<Figure size 1152x360 with 1 Axes>"
      ]
     },
     "metadata": {
      "needs_background": "light"
     },
     "output_type": "display_data"
    },
    {
     "name": "stdout",
     "output_type": "stream",
     "text": [
      "Среднее значение: \t 7.297768646132548   \t\t\t\t\t 7.264524276206517\n",
      "Медиана: \t\t 7.289249639479312   \t\t\t\t\t 7.251667003737454\n"
     ]
    }
   ],
   "source": [
    "show_feed_size(df_train['primary_cleaner.input.feed_size'], df_test['primary_cleaner.input.feed_size'], 'первичной очистки')"
   ]
  },
  {
   "cell_type": "markdown",
   "metadata": {},
   "source": [
    "**Вывод**\n",
    "\n",
    "Формы распределений размеров гранул сырья на этапе первичной очистки на обучающей и тестовой выборках также схожие. Расхождение в средних значениях на уровне погрешности. Как и на этапе флотации, нет необходимости проводить перебалансировку классов. Выбросов заметно меньше, но их обработка также необходима и важна."
   ]
  },
  {
   "cell_type": "markdown",
   "metadata": {},
   "source": [
    "### Анализ суммарной концентрации всех веществ (Au, Ag, Pb, Sol)"
   ]
  },
  {
   "cell_type": "markdown",
   "metadata": {},
   "source": [
    "Исследуем суммарную концентрацию всех веществ на разных стадиях: в сырье, в черновом и финальном концентратах. Для этого все также будем рассматривать исходную выборку `df_full`, предварительно выполнив необоходимые вычисления по нахождению суммарных концентраций. \n",
    "\n",
    "- в столбце `df_full['rougher.input.feed_sum']` будет храниться сумма всех веществ (Au, Ag, Pb и Sol) в **сырье**;\n",
    "- в столбце `df_full['rougher.output.concentrate_sum']` будет храниться сумма всех веществ в **черновом концентрате**;\n",
    "- в столбце `df_full['final.output.concentrate_sum']` будет храниться сумма всех веществ в **финальном концентрате**."
   ]
  },
  {
   "cell_type": "markdown",
   "metadata": {},
   "source": [
    "Вычислим суммарные значения концентрации веществ на каждом из этапов."
   ]
  },
  {
   "cell_type": "code",
   "execution_count": 45,
   "metadata": {},
   "outputs": [],
   "source": [
    "df_full['rougher.input.feed_sum'] = (\n",
    "    df_full['rougher.input.feed_au'] + df_full['rougher.input.feed_ag'] + \n",
    "    df_full['rougher.input.feed_pb'] + df_full['rougher.input.feed_sol']\n",
    ")"
   ]
  },
  {
   "cell_type": "code",
   "execution_count": 46,
   "metadata": {},
   "outputs": [],
   "source": [
    "df_full['rougher.output.concentrate_sum'] = (\n",
    "    df_full['rougher.output.concentrate_au'] + df_full['rougher.output.concentrate_ag'] + \n",
    "    df_full['rougher.output.concentrate_pb'] + df_full['rougher.output.concentrate_sol']\n",
    ")"
   ]
  },
  {
   "cell_type": "code",
   "execution_count": 47,
   "metadata": {},
   "outputs": [],
   "source": [
    "df_full['final.output.concentrate_sum'] = (\n",
    "    df_full['final.output.concentrate_au'] + df_full['final.output.concentrate_ag'] + \n",
    "    df_full['final.output.concentrate_pb'] + df_full['final.output.concentrate_sol']\n",
    ")"
   ]
  },
  {
   "cell_type": "markdown",
   "metadata": {},
   "source": [
    "Теперь мы можем построить графики распределения и посмотреть, как же изменяется суммарная концентрация веществ на разных этапах технологического процесса."
   ]
  },
  {
   "cell_type": "code",
   "execution_count": 48,
   "metadata": {},
   "outputs": [
    {
     "data": {
      "image/png": "[encoded data removed]",
      "text/plain": [
       "<Figure size 1152x360 with 1 Axes>"
      ]
     },
     "metadata": {
      "needs_background": "light"
     },
     "output_type": "display_data"
    },
    {
     "data": {
      "image/png": "[encoded data removed]",
      "text/plain": [
       "<Figure size 1152x360 with 1 Axes>"
      ]
     },
     "metadata": {
      "needs_background": "light"
     },
     "output_type": "display_data"
    },
    {
     "name": "stdout",
     "output_type": "stream",
     "text": [
      "Среднее значение: 51.88837848952919      \t\t 61.53975342513692        \t\t 62.2908637351693\n",
      "Медиана:          56.79332470597478 \t\t\t 69.41657617268214 \t\t\t 69.23976891820294\n"
     ]
    }
   ],
   "source": [
    "raw_material = df_full['rougher.input.feed_sum']\n",
    "rough_conc = df_full['rougher.output.concentrate_sum']\n",
    "final_cons = df_full['final.output.concentrate_sum']\n",
    "plt.figure(figsize=(16, 5))\n",
    "plt.grid()\n",
    "plt.hist(\n",
    "    [raw_material, rough_conc, final_cons], \n",
    "    bins=20, \n",
    "    label=['сырье', 'черновой концентрат', 'финальный концентрат']\n",
    ")\n",
    "plt.xlabel('Суммарная концентрация веществ')\n",
    "plt.ylabel('Количество объектов')\n",
    "plt.title('Суммарная концентрация всех веществ на разных стадиях технологического процесса')\n",
    "plt.legend(loc='upper left')\n",
    "plt.show()\n",
    "plt.figure(figsize=(16, 5))\n",
    "plt.grid()\n",
    "plt.boxplot(\n",
    "    [raw_material, rough_conc, final_cons], \n",
    "    labels=['сырье', 'черновой концентрат', 'финальный концентрат']\n",
    ")\n",
    "plt.title(f'Диаграмма размаха суммарной концентрации веществ')\n",
    "plt.ylabel('Значение суммарной концентрации веществ')\n",
    "plt.show()\n",
    "print('Среднее значение:', raw_material.mean(), '     \\t\\t', rough_conc.mean(), '       \\t\\t', final_cons.mean())\n",
    "print('Медиана:', '        ', raw_material.median(), '\\t\\t\\t', rough_conc.median(), '\\t\\t\\t', final_cons.median())"
   ]
  },
  {
   "cell_type": "markdown",
   "metadata": {},
   "source": [
    "На графике распределения мы замечаем упомянутые ранее (в п. 2.1) аномальные значения вблизи нуля. Посмотрим на них подробнее."
   ]
  },
  {
   "cell_type": "code",
   "execution_count": 49,
   "metadata": {},
   "outputs": [
    {
     "data": {
      "image/png": "[encoded data removed]",
      "text/plain": [
       "<Figure size 1152x360 with 1 Axes>"
      ]
     },
     "metadata": {
      "needs_background": "light"
     },
     "output_type": "display_data"
    }
   ],
   "source": [
    "plt.figure(figsize=(16, 5))\n",
    "plt.grid()\n",
    "plt.hist(\n",
    "    [raw_material, rough_conc, final_cons], \n",
    "    bins=10,\n",
    "    range=(0, 1),\n",
    "    label=['сырье', 'черновой концентрат', 'финальный концентрат']\n",
    ")\n",
    "plt.xlabel('Суммарная концентрация веществ')\n",
    "plt.ylabel('Количество объектов')\n",
    "plt.title('Суммарная концентрация всех веществ на разных стадиях технологического процесса')\n",
    "plt.legend(loc='upper right')\n",
    "plt.show()"
   ]
  },
  {
   "cell_type": "markdown",
   "metadata": {},
   "source": [
    "Данные выбросы требуется удалить из рассматриваемых выборок (`df_train` и `df_test`) для повышения качества модели. Порогом отсечения будет 0.1."
   ]
  },
  {
   "cell_type": "code",
   "execution_count": 50,
   "metadata": {},
   "outputs": [],
   "source": [
    "df_train = df_train[(\n",
    "    df_train['rougher.input.feed_au'] + \n",
    "    df_train['rougher.input.feed_ag'] + \n",
    "    df_train['rougher.input.feed_pb'] + \n",
    "    df_train['rougher.input.feed_sol'])>0.1]"
   ]
  },
  {
   "cell_type": "code",
   "execution_count": 51,
   "metadata": {},
   "outputs": [],
   "source": [
    "df_test = df_test[(\n",
    "    df_test['rougher.input.feed_au'] + \n",
    "    df_test['rougher.input.feed_ag'] + \n",
    "    df_test['rougher.input.feed_pb'] + \n",
    "    df_test['rougher.input.feed_sol'])>0.1]"
   ]
  },
  {
   "cell_type": "markdown",
   "metadata": {},
   "source": [
    "Во время анализа размера гранул сырья на этапе флотации (п. 2.2), мы отметили большое количество выбросов. Оставим в наших выборках только те значений параметра **rougher.input.feed_size**, которые меньше 180."
   ]
  },
  {
   "cell_type": "code",
   "execution_count": 52,
   "metadata": {},
   "outputs": [],
   "source": [
    "df_train = df_train[df_train['rougher.input.feed_size'] < 180]"
   ]
  },
  {
   "cell_type": "code",
   "execution_count": 53,
   "metadata": {},
   "outputs": [],
   "source": [
    "df_test = df_test[df_test['rougher.input.feed_size'] < 180]"
   ]
  },
  {
   "cell_type": "markdown",
   "metadata": {},
   "source": [
    "**Вывод**\n",
    "\n",
    "1. Провели анализ суммарной концентрации всех веществ на разных стадиях: в сырье, в черновом и финальном концентратах. \n",
    "2. Заметили, что в ходе технологического процесса, суммарная концентрация всех веществ растет. \n",
    "3. Обнаружили аномальные значения в суммарном распределении, а также в распределении размеров гранул на этапе флотации.\n",
    "4. Очистили обучающую и тренировочную выборки от найденных выбросов."
   ]
  },
  {
   "cell_type": "markdown",
   "metadata": {},
   "source": [
    "## Модель"
   ]
  },
  {
   "cell_type": "markdown",
   "metadata": {},
   "source": [
    "### Расчет метрики качества"
   ]
  },
  {
   "attachments": {
    "2.png": {
     "image/png": "[encoded data removed]"
    }
   },
   "cell_type": "markdown",
   "metadata": {},
   "source": [
    "Для решения задачи используем метрику качества — **sMAPE** (англ. Symmetric Mean Absolute Percentage Error, «симметричное среднее абсолютное процентное отклонение»). Метрика sMAPE вычисляется так:\n",
    "![2.png](attachment:2.png)\n",
    "- $y_i$ - значение целевого признака для объекта с порядковым номером i (в нашем случае признак **rougher.output.recovery** и **final.output.recovery**);\n",
    "- $\\hat y_i$ — значение предсказания для объекта с порядковым номером i;\n",
    "- **N** — количество объектов в выборке."
   ]
  },
  {
   "attachments": {
    "3.png": {
     "image/png": "[encoded data removed]"
    }
   },
   "cell_type": "markdown",
   "metadata": {},
   "source": [
    "Поскольку нам необходимо спрогнозировать сразу две величины (**rougher.output.recovery** и **final.output.recovery**), то итоговая метрика будет складываться из двух величин:\n",
    "![3.png](attachment:3.png)"
   ]
  },
  {
   "cell_type": "markdown",
   "metadata": {},
   "source": [
    "Напишем функции **smape** и **smape_final** для вычисления итоговой sMAPE."
   ]
  },
  {
   "cell_type": "code",
   "execution_count": 54,
   "metadata": {},
   "outputs": [],
   "source": [
    "def smape(target, predict):\n",
    "    smape = (1 / len(target)) * 100 * ((abs(target-predict)) / ((abs(target+predict))/2)).sum()\n",
    "    return smape"
   ]
  },
  {
   "cell_type": "code",
   "execution_count": 55,
   "metadata": {},
   "outputs": [],
   "source": [
    "def smape_final(smape_rougher, smape_final):\n",
    "    result = (0.25 * smape_rougher) + (0.75 * smape_final)\n",
    "    return result"
   ]
  },
  {
   "cell_type": "markdown",
   "metadata": {},
   "source": [
    "### Обучение моделей"
   ]
  },
  {
   "cell_type": "markdown",
   "metadata": {},
   "source": [
    "Перед тем, как обучать модели машинного обучения, выделим целевые признаки в обучающей и тестовой выборках."
   ]
  },
  {
   "cell_type": "code",
   "execution_count": 56,
   "metadata": {},
   "outputs": [],
   "source": [
    "target1_train = df_train['rougher.output.recovery']\n",
    "target2_train = df_train['final.output.recovery']\n",
    "features_train = df_train.drop(['rougher.output.recovery','final.output.recovery'] , axis=1)"
   ]
  },
  {
   "cell_type": "markdown",
   "metadata": {},
   "source": [
    "Ранее мы уже упоминали, что в тестовом наборе данных отсутствуют целевые признаки **rougher.output.recovery** и **final.output.recovery**, но в исходной выборке (`df_full`) они присутствуют. Следовательно, нам необходимо их присоединить к тестовой выборке, а затем уже выделить в целевые признаки (**target1_test и target2_test**)."
   ]
  },
  {
   "cell_type": "code",
   "execution_count": 57,
   "metadata": {},
   "outputs": [],
   "source": [
    "df_test = df_test.join(df_full['rougher.output.recovery'], how='left')\n",
    "df_test = df_test.join(df_full['final.output.recovery'], how='left')"
   ]
  },
  {
   "cell_type": "code",
   "execution_count": 58,
   "metadata": {},
   "outputs": [],
   "source": [
    "target1_test = df_test['rougher.output.recovery']\n",
    "target2_test = df_test['final.output.recovery']\n",
    "features_test = df_test.drop(['rougher.output.recovery','final.output.recovery'] , axis=1)"
   ]
  },
  {
   "cell_type": "markdown",
   "metadata": {},
   "source": [
    "Выборки разделены, можем приступать к обучению. Качество разных моделей будем оценивать кросс-валидацией."
   ]
  },
  {
   "cell_type": "markdown",
   "metadata": {},
   "source": [
    "**Линейная регрессия**"
   ]
  },
  {
   "cell_type": "code",
   "execution_count": 59,
   "metadata": {},
   "outputs": [],
   "source": [
    "model = LinearRegression()\n",
    "scorer = make_scorer(smape, greater_is_better=True)"
   ]
  },
  {
   "cell_type": "code",
   "execution_count": 60,
   "metadata": {},
   "outputs": [],
   "source": [
    "cv_rougher = cross_val_score(model, features_train, target1_train,cv=5, scoring=scorer).mean()\n",
    "cv_final = cross_val_score(model, features_train, target2_train, cv=5, scoring=scorer).mean()"
   ]
  },
  {
   "cell_type": "code",
   "execution_count": 61,
   "metadata": {},
   "outputs": [
    {
     "name": "stdout",
     "output_type": "stream",
     "text": [
      "Результат кросс-валидации rougher: 15.186013865425547\n",
      "Результат кросс-валидации final: 13.162146705360433\n"
     ]
    }
   ],
   "source": [
    "print('Результат кросс-валидации rougher:', cv_rougher)\n",
    "print('Результат кросс-валидации final:', cv_final)"
   ]
  },
  {
   "cell_type": "markdown",
   "metadata": {},
   "source": [
    "Оценили качество модели и получили результаты: \n",
    "- 15.186 - для целевого признака **rougher.output.recovery**\n",
    "- 13.162 - для целевого признака **final.output.recovery**\n",
    "\n",
    "Построим другие модели, возможно они покажут лучшие результаты (меньшие) оценки качества."
   ]
  },
  {
   "cell_type": "markdown",
   "metadata": {},
   "source": [
    "**Модель решающего дерева**"
   ]
  },
  {
   "cell_type": "code",
   "execution_count": 62,
   "metadata": {},
   "outputs": [
    {
     "name": "stderr",
     "output_type": "stream",
     "text": [
      "100%|████████████████████████████████████████████████████████████████████████████████████| 5/5 [02:28<00:00, 29.80s/it]\n"
     ]
    }
   ],
   "source": [
    "i = 0\n",
    "tree_df = pd.DataFrame(columns=['max_depth', 'min_samples_split', 'min_samples_leaf', 'cv_rougher', 'cv_final'])\n",
    "for depth in tqdm(range(1,6)):\n",
    "    for split in range(2,6):\n",
    "        for leaf in range(1,6):\n",
    "            model = DecisionTreeRegressor(\n",
    "                random_state=12345, \n",
    "                max_depth=depth, \n",
    "                min_samples_split=split, \n",
    "                min_samples_leaf=leaf\n",
    "            )\n",
    "            cv_rougher = cross_val_score(model, features_train, target1_train,cv=5, scoring=scorer).mean()\n",
    "            cv_final = cross_val_score(model, features_train, target2_train, cv=5, scoring=scorer).mean()\n",
    "            tree_df.loc[i] = np.array([depth, split, leaf, cv_rougher, cv_final])\n",
    "            i += 1"
   ]
  },
  {
   "cell_type": "code",
   "execution_count": 63,
   "metadata": {},
   "outputs": [
    {
     "data": {
      "text/html": [
       "<div>\n",
       "<style scoped>\n",
       "    .dataframe tbody tr th:only-of-type {\n",
       "        vertical-align: middle;\n",
       "    }\n",
       "\n",
       "    .dataframe tbody tr th {\n",
       "        vertical-align: top;\n",
       "    }\n",
       "\n",
       "    .dataframe thead th {\n",
       "        text-align: right;\n",
       "    }\n",
       "</style>\n",
       "<table border=\"1\" class=\"dataframe\">\n",
       "  <thead>\n",
       "    <tr style=\"text-align: right;\">\n",
       "      <th></th>\n",
       "      <th>max_depth</th>\n",
       "      <th>min_samples_split</th>\n",
       "      <th>min_samples_leaf</th>\n",
       "      <th>cv_rougher</th>\n",
       "      <th>cv_final</th>\n",
       "    </tr>\n",
       "  </thead>\n",
       "  <tbody>\n",
       "    <tr>\n",
       "      <th>60</th>\n",
       "      <td>4.0</td>\n",
       "      <td>2.0</td>\n",
       "      <td>1.0</td>\n",
       "      <td>13.444082</td>\n",
       "      <td>12.347282</td>\n",
       "    </tr>\n",
       "    <tr>\n",
       "      <th>65</th>\n",
       "      <td>4.0</td>\n",
       "      <td>3.0</td>\n",
       "      <td>1.0</td>\n",
       "      <td>13.444082</td>\n",
       "      <td>12.347282</td>\n",
       "    </tr>\n",
       "    <tr>\n",
       "      <th>20</th>\n",
       "      <td>2.0</td>\n",
       "      <td>2.0</td>\n",
       "      <td>1.0</td>\n",
       "      <td>13.627357</td>\n",
       "      <td>11.692581</td>\n",
       "    </tr>\n",
       "    <tr>\n",
       "      <th>21</th>\n",
       "      <td>2.0</td>\n",
       "      <td>2.0</td>\n",
       "      <td>2.0</td>\n",
       "      <td>13.627357</td>\n",
       "      <td>11.692581</td>\n",
       "    </tr>\n",
       "    <tr>\n",
       "      <th>22</th>\n",
       "      <td>2.0</td>\n",
       "      <td>2.0</td>\n",
       "      <td>3.0</td>\n",
       "      <td>13.627357</td>\n",
       "      <td>11.692581</td>\n",
       "    </tr>\n",
       "  </tbody>\n",
       "</table>\n",
       "</div>"
      ],
      "text/plain": [
       "    max_depth  min_samples_split  min_samples_leaf  cv_rougher   cv_final\n",
       "60        4.0                2.0               1.0   13.444082  12.347282\n",
       "65        4.0                3.0               1.0   13.444082  12.347282\n",
       "20        2.0                2.0               1.0   13.627357  11.692581\n",
       "21        2.0                2.0               2.0   13.627357  11.692581\n",
       "22        2.0                2.0               3.0   13.627357  11.692581"
      ]
     },
     "execution_count": 63,
     "metadata": {},
     "output_type": "execute_result"
    }
   ],
   "source": [
    "tree_df.sort_values(by=['cv_rougher', 'cv_final']).head()"
   ]
  },
  {
   "cell_type": "markdown",
   "metadata": {},
   "source": [
    "Наилучшее качество (cv_rougher = 13.627 и cv_final = 11.693) показала модель решающего дерева со следующими гиперпараметрами:\n",
    "- max_depth = 2\n",
    "- min_samples_split = 2\n",
    "- min_samples_leaf = 1"
   ]
  },
  {
   "cell_type": "markdown",
   "metadata": {},
   "source": [
    "**Модель дерева решений**"
   ]
  },
  {
   "cell_type": "code",
   "execution_count": 64,
   "metadata": {},
   "outputs": [
    {
     "name": "stderr",
     "output_type": "stream",
     "text": [
      "100%|████████████████████████████████████████████████████████████████████████████████████| 5/5 [07:20<00:00, 88.14s/it]\n"
     ]
    }
   ],
   "source": [
    "i = 0\n",
    "forest_df = pd.DataFrame(columns=['n_estimators', \n",
    "                                  'max_depth', \n",
    "                                  'min_samples_split', \n",
    "                                  'min_samples_leaf', \n",
    "                                  'cv_rougher', \n",
    "                                  'cv_final']\n",
    "                        )\n",
    "for depth in tqdm(range(1,6)):\n",
    "    for est in range(10, 31, 5):\n",
    "        model = RandomForestRegressor(\n",
    "            random_state=12345, \n",
    "            n_estimators=est, \n",
    "            max_depth=depth, \n",
    "            min_samples_split=split,\n",
    "            min_samples_leaf=leaf\n",
    "        )\n",
    "        cv_rougher = cross_val_score(model, features_train, target1_train,cv=5, scoring=scorer).mean()\n",
    "        cv_final = cross_val_score(model, features_train, target2_train, cv=5, scoring=scorer).mean()\n",
    "        forest_df.loc[i] = np.array([est, depth, split, leaf, cv_rougher, cv_final])\n",
    "        i += 1"
   ]
  },
  {
   "cell_type": "code",
   "execution_count": 65,
   "metadata": {},
   "outputs": [
    {
     "data": {
      "text/html": [
       "<div>\n",
       "<style scoped>\n",
       "    .dataframe tbody tr th:only-of-type {\n",
       "        vertical-align: middle;\n",
       "    }\n",
       "\n",
       "    .dataframe tbody tr th {\n",
       "        vertical-align: top;\n",
       "    }\n",
       "\n",
       "    .dataframe thead th {\n",
       "        text-align: right;\n",
       "    }\n",
       "</style>\n",
       "<table border=\"1\" class=\"dataframe\">\n",
       "  <thead>\n",
       "    <tr style=\"text-align: right;\">\n",
       "      <th></th>\n",
       "      <th>n_estimators</th>\n",
       "      <th>max_depth</th>\n",
       "      <th>min_samples_split</th>\n",
       "      <th>min_samples_leaf</th>\n",
       "      <th>cv_rougher</th>\n",
       "      <th>cv_final</th>\n",
       "    </tr>\n",
       "  </thead>\n",
       "  <tbody>\n",
       "    <tr>\n",
       "      <th>24</th>\n",
       "      <td>30.0</td>\n",
       "      <td>5.0</td>\n",
       "      <td>5.0</td>\n",
       "      <td>5.0</td>\n",
       "      <td>12.577811</td>\n",
       "      <td>11.350757</td>\n",
       "    </tr>\n",
       "    <tr>\n",
       "      <th>23</th>\n",
       "      <td>25.0</td>\n",
       "      <td>5.0</td>\n",
       "      <td>5.0</td>\n",
       "      <td>5.0</td>\n",
       "      <td>12.597820</td>\n",
       "      <td>11.398121</td>\n",
       "    </tr>\n",
       "    <tr>\n",
       "      <th>22</th>\n",
       "      <td>20.0</td>\n",
       "      <td>5.0</td>\n",
       "      <td>5.0</td>\n",
       "      <td>5.0</td>\n",
       "      <td>12.632557</td>\n",
       "      <td>11.405883</td>\n",
       "    </tr>\n",
       "    <tr>\n",
       "      <th>21</th>\n",
       "      <td>15.0</td>\n",
       "      <td>5.0</td>\n",
       "      <td>5.0</td>\n",
       "      <td>5.0</td>\n",
       "      <td>12.650918</td>\n",
       "      <td>11.432149</td>\n",
       "    </tr>\n",
       "    <tr>\n",
       "      <th>20</th>\n",
       "      <td>10.0</td>\n",
       "      <td>5.0</td>\n",
       "      <td>5.0</td>\n",
       "      <td>5.0</td>\n",
       "      <td>12.680608</td>\n",
       "      <td>11.427954</td>\n",
       "    </tr>\n",
       "  </tbody>\n",
       "</table>\n",
       "</div>"
      ],
      "text/plain": [
       "    n_estimators  max_depth  min_samples_split  min_samples_leaf  cv_rougher  \\\n",
       "24          30.0        5.0                5.0               5.0   12.577811   \n",
       "23          25.0        5.0                5.0               5.0   12.597820   \n",
       "22          20.0        5.0                5.0               5.0   12.632557   \n",
       "21          15.0        5.0                5.0               5.0   12.650918   \n",
       "20          10.0        5.0                5.0               5.0   12.680608   \n",
       "\n",
       "     cv_final  \n",
       "24  11.350757  \n",
       "23  11.398121  \n",
       "22  11.405883  \n",
       "21  11.432149  \n",
       "20  11.427954  "
      ]
     },
     "execution_count": 65,
     "metadata": {},
     "output_type": "execute_result"
    }
   ],
   "source": [
    "forest_df.sort_values(by=['cv_rougher', 'cv_final']).head()"
   ]
  },
  {
   "cell_type": "markdown",
   "metadata": {},
   "source": [
    "Наилучшее качество (cv_rougher = 12.577 и cv_final = 11.351) показала модель решающего дерева со следующими гиперпараметрами:\n",
    "- n_estimators = 30\n",
    "- max_depth = 5\n",
    "- min_samples_split = 5\n",
    "- min_samples_leaf = 5\n",
    "\n",
    "Также именно эта модель стала лучшей среди всех обученных, поэтому именно ее будем проверять на тестовой выборке."
   ]
  },
  {
   "cell_type": "markdown",
   "metadata": {},
   "source": [
    "### Проверка модели на тестовой выборке"
   ]
  },
  {
   "cell_type": "markdown",
   "metadata": {},
   "source": [
    "На тестовой выборке будем проверять лучшую модель, выбранную в п.3.2."
   ]
  },
  {
   "cell_type": "code",
   "execution_count": 66,
   "metadata": {},
   "outputs": [],
   "source": [
    "best_model = RandomForestRegressor(\n",
    "    random_state=12345,\n",
    "    n_estimators=30,\n",
    "    max_depth=5,\n",
    "    min_samples_split = 5,\n",
    "    min_samples_leaf = 5\n",
    ")\n",
    "\n",
    "best_model.fit(features_train, target1_train)\n",
    "predict_rougher = best_model.predict(features_test)\n",
    "\n",
    "best_model.fit(features_train, target2_train)\n",
    "predict_final = best_model.predict(features_test)"
   ]
  },
  {
   "cell_type": "code",
   "execution_count": 67,
   "metadata": {},
   "outputs": [
    {
     "name": "stdout",
     "output_type": "stream",
     "text": [
      "sMAPE итоговое: 10.858149130034345\n"
     ]
    }
   ],
   "source": [
    "smape_rougher = smape(target1_test, predict_rougher)\n",
    "smape_final_stage = smape(target2_test, predict_final)\n",
    "\n",
    "print('sMAPE итоговое:', smape_final(smape_rougher, smape_final_stage))"
   ]
  },
  {
   "cell_type": "markdown",
   "metadata": {},
   "source": [
    "Само по себе полученное значение нам мало о чем говорит. Необходимо проверить модель на адекватность, т.е. сравнить со случайной. Для этого обратимся к **DummyRegressor**."
   ]
  },
  {
   "cell_type": "code",
   "execution_count": 68,
   "metadata": {},
   "outputs": [],
   "source": [
    "dummy_model = DummyRegressor(strategy='median')"
   ]
  },
  {
   "cell_type": "code",
   "execution_count": 69,
   "metadata": {},
   "outputs": [],
   "source": [
    "dummy_model.fit(features_train, target1_train)\n",
    "dummy_predict_rougher = dummy_model.predict(features_test)"
   ]
  },
  {
   "cell_type": "code",
   "execution_count": 70,
   "metadata": {},
   "outputs": [],
   "source": [
    "dummy_model.fit(features_train, target2_train)\n",
    "dummy_predict_final = dummy_model.predict(features_test)"
   ]
  },
  {
   "cell_type": "markdown",
   "metadata": {},
   "source": [
    "Теперь посчитаем метрику sMAPE для случайной модели."
   ]
  },
  {
   "cell_type": "code",
   "execution_count": 71,
   "metadata": {},
   "outputs": [
    {
     "name": "stdout",
     "output_type": "stream",
     "text": [
      "sMAPE итоговое для случайной модели 10.549193775633357\n"
     ]
    }
   ],
   "source": [
    "dummy_smape_rougher = smape(target1_test, dummy_predict_rougher)\n",
    "dummy_smape_final = smape(target2_test, dummy_predict_final)\n",
    "print('sMAPE итоговое для случайной модели', smape_final(dummy_smape_rougher, dummy_smape_final))"
   ]
  },
  {
   "cell_type": "markdown",
   "metadata": {},
   "source": [
    "**Вывод**\n",
    "\n",
    "Ошибка констатной модели (10.549) незначительно меньше, чем у обученной нами (10.857). Но стоит упомянуть, что при обучении моделей, мы перебирали малое число гиперпараметров (в целях экономии времени), поэтому можем сказать, что наша модель предсказывает также, как и случайная.\n",
    "\n",
    "Для улучшения целевой метрики необходимо:\n",
    "- улучшить саму модель (подобрать гиперпараметры или использовать другие модели машинного обучения);\n",
    "- еще раз рассмотреть исходные выборки, возможно упущены важные моменты."
   ]
  },
  {
   "cell_type": "markdown",
   "metadata": {},
   "source": [
    "## Общий вывод"
   ]
  },
  {
   "cell_type": "markdown",
   "metadata": {},
   "source": [
    "Целью исследования являлась подготовка прототипа модели машинного обучения, которая должна предсказать коэффициент восстановления золота из золотосодержащей руды. С этой задачей мы справились.\n",
    "\n",
    "В ходе проекта мы обработали исходные данные, провели анализ концентрации металлов и размеров гранул сырья на различных этапах технологического процесса. Обучили разные модели и оценили их качество кросс-валидацией. Из этих моделей выбрали лучшую и проверили ее на тестовой выборке. К сожалению, наша модель по качеству оказалась на уровне констатной модели, поэтому были предложены варианты ее улучшения."
   ]
  }
 ],
 "metadata": {
  "ExecuteTimeLog": [
   {
    "duration": 1065,
    "start_time": "2021-06-08T18:05:12.254Z"
   },
   {
    "duration": 3,
    "start_time": "2021-06-08T18:05:13.321Z"
   },
   {
    "duration": 851,
    "start_time": "2021-06-08T18:05:13.326Z"
   },
   {
    "duration": 63,
    "start_time": "2021-06-08T18:05:14.179Z"
   },
   {
    "duration": 5,
    "start_time": "2021-06-08T18:05:14.244Z"
   },
   {
    "duration": 39,
    "start_time": "2021-06-08T18:05:14.251Z"
   },
   {
    "duration": 5,
    "start_time": "2021-06-08T18:05:14.293Z"
   },
   {
    "duration": 14,
    "start_time": "2021-06-08T18:05:14.301Z"
   },
   {
    "duration": 4,
    "start_time": "2021-06-08T18:05:14.317Z"
   },
   {
    "duration": 22,
    "start_time": "2021-06-08T18:05:14.323Z"
   },
   {
    "duration": 41,
    "start_time": "2021-06-08T18:05:14.347Z"
   },
   {
    "duration": 7,
    "start_time": "2021-06-08T18:05:14.390Z"
   },
   {
    "duration": 7,
    "start_time": "2021-06-08T18:05:14.399Z"
   },
   {
    "duration": 11,
    "start_time": "2021-06-08T18:05:14.407Z"
   },
   {
    "duration": 5,
    "start_time": "2021-06-08T18:05:14.420Z"
   },
   {
    "duration": 6,
    "start_time": "2021-06-08T18:05:14.427Z"
   },
   {
    "duration": 11,
    "start_time": "2021-06-08T18:05:14.435Z"
   },
   {
    "duration": 38,
    "start_time": "2021-06-08T18:05:14.448Z"
   },
   {
    "duration": 21,
    "start_time": "2021-06-08T18:05:14.488Z"
   },
   {
    "duration": 6,
    "start_time": "2021-06-08T18:05:14.511Z"
   },
   {
    "duration": 13,
    "start_time": "2021-06-08T18:05:14.519Z"
   },
   {
    "duration": 344,
    "start_time": "2021-06-08T18:05:14.534Z"
   },
   {
    "duration": 6,
    "start_time": "2021-06-08T18:05:14.885Z"
   },
   {
    "duration": 6,
    "start_time": "2021-06-08T18:05:14.893Z"
   },
   {
    "duration": 5,
    "start_time": "2021-06-08T18:05:14.901Z"
   },
   {
    "duration": 6,
    "start_time": "2021-06-08T18:05:14.908Z"
   },
   {
    "duration": 5,
    "start_time": "2021-06-08T18:05:14.915Z"
   },
   {
    "duration": 18,
    "start_time": "2021-06-08T18:05:14.921Z"
   },
   {
    "duration": 10,
    "start_time": "2021-06-08T18:05:14.941Z"
   },
   {
    "duration": 43,
    "start_time": "2021-06-08T18:05:14.953Z"
   },
   {
    "duration": 21,
    "start_time": "2021-06-08T18:05:14.997Z"
   },
   {
    "duration": 44,
    "start_time": "2021-06-08T18:05:15.020Z"
   },
   {
    "duration": 41,
    "start_time": "2021-06-08T18:05:15.065Z"
   },
   {
    "duration": 95,
    "start_time": "2021-06-08T18:05:15.107Z"
   },
   {
    "duration": 40,
    "start_time": "2021-06-08T18:05:15.203Z"
   },
   {
    "duration": 20,
    "start_time": "2021-06-08T18:05:15.245Z"
   },
   {
    "duration": 102,
    "start_time": "2021-06-08T18:05:15.267Z"
   },
   {
    "duration": 5,
    "start_time": "2021-06-08T18:05:15.371Z"
   },
   {
    "duration": 546,
    "start_time": "2021-06-08T18:05:15.377Z"
   },
   {
    "duration": 583,
    "start_time": "2021-06-08T18:05:15.925Z"
   },
   {
    "duration": 632,
    "start_time": "2021-06-08T18:05:16.510Z"
   },
   {
    "duration": 4,
    "start_time": "2021-06-08T18:05:17.144Z"
   },
   {
    "duration": 584,
    "start_time": "2021-06-08T18:05:17.150Z"
   },
   {
    "duration": 643,
    "start_time": "2021-06-08T18:05:17.736Z"
   },
   {
    "duration": 4,
    "start_time": "2021-06-08T18:05:18.385Z"
   },
   {
    "duration": 6,
    "start_time": "2021-06-08T18:05:18.391Z"
   },
   {
    "duration": 5,
    "start_time": "2021-06-08T18:05:18.398Z"
   },
   {
    "duration": 615,
    "start_time": "2021-06-08T18:05:18.404Z"
   },
   {
    "duration": 318,
    "start_time": "2021-06-08T18:05:19.021Z"
   },
   {
    "duration": 10,
    "start_time": "2021-06-08T18:05:19.341Z"
   },
   {
    "duration": 5,
    "start_time": "2021-06-08T18:05:19.353Z"
   },
   {
    "duration": 26,
    "start_time": "2021-06-08T18:05:19.359Z"
   },
   {
    "duration": 4,
    "start_time": "2021-06-08T18:05:19.387Z"
   },
   {
    "duration": 15,
    "start_time": "2021-06-08T18:05:19.393Z"
   },
   {
    "duration": 20,
    "start_time": "2021-06-08T18:05:19.409Z"
   },
   {
    "duration": 5,
    "start_time": "2021-06-08T18:05:19.431Z"
   },
   {
    "duration": 8,
    "start_time": "2021-06-08T18:21:11.030Z"
   },
   {
    "duration": 1057,
    "start_time": "2021-06-08T18:21:56.009Z"
   },
   {
    "duration": 3,
    "start_time": "2021-06-08T18:21:57.068Z"
   },
   {
    "duration": 838,
    "start_time": "2021-06-08T18:21:57.074Z"
   },
   {
    "duration": 58,
    "start_time": "2021-06-08T18:21:57.914Z"
   },
   {
    "duration": 12,
    "start_time": "2021-06-08T18:21:57.974Z"
   },
   {
    "duration": 17,
    "start_time": "2021-06-08T18:21:57.988Z"
   },
   {
    "duration": 3,
    "start_time": "2021-06-08T18:21:58.007Z"
   },
   {
    "duration": 12,
    "start_time": "2021-06-08T18:21:58.013Z"
   },
   {
    "duration": 3,
    "start_time": "2021-06-08T18:21:58.027Z"
   },
   {
    "duration": 60,
    "start_time": "2021-06-08T18:21:58.032Z"
   },
   {
    "duration": 4,
    "start_time": "2021-06-08T18:21:58.093Z"
   },
   {
    "duration": 7,
    "start_time": "2021-06-08T18:21:58.098Z"
   },
   {
    "duration": 8,
    "start_time": "2021-06-08T18:21:58.106Z"
   },
   {
    "duration": 21,
    "start_time": "2021-06-08T18:21:58.115Z"
   },
   {
    "duration": 7,
    "start_time": "2021-06-08T18:21:58.138Z"
   },
   {
    "duration": 10,
    "start_time": "2021-06-08T18:21:58.146Z"
   },
   {
    "duration": 11,
    "start_time": "2021-06-08T18:21:58.158Z"
   },
   {
    "duration": 17,
    "start_time": "2021-06-08T18:21:58.170Z"
   },
   {
    "duration": 13,
    "start_time": "2021-06-08T18:21:58.189Z"
   },
   {
    "duration": 6,
    "start_time": "2021-06-08T18:21:58.203Z"
   },
   {
    "duration": 4,
    "start_time": "2021-06-08T18:21:58.211Z"
   },
   {
    "duration": 349,
    "start_time": "2021-06-08T18:21:58.216Z"
   },
   {
    "duration": 7,
    "start_time": "2021-06-08T18:21:58.569Z"
   },
   {
    "duration": 5,
    "start_time": "2021-06-08T18:21:58.585Z"
   },
   {
    "duration": 7,
    "start_time": "2021-06-08T18:21:58.591Z"
   },
   {
    "duration": 10,
    "start_time": "2021-06-08T18:21:58.599Z"
   },
   {
    "duration": 5,
    "start_time": "2021-06-08T18:21:58.611Z"
   },
   {
    "duration": 21,
    "start_time": "2021-06-08T18:21:58.618Z"
   },
   {
    "duration": 11,
    "start_time": "2021-06-08T18:21:58.641Z"
   },
   {
    "duration": 35,
    "start_time": "2021-06-08T18:21:58.654Z"
   },
   {
    "duration": 22,
    "start_time": "2021-06-08T18:21:58.691Z"
   },
   {
    "duration": 44,
    "start_time": "2021-06-08T18:21:58.714Z"
   },
   {
    "duration": 46,
    "start_time": "2021-06-08T18:21:58.760Z"
   },
   {
    "duration": 93,
    "start_time": "2021-06-08T18:21:58.808Z"
   },
   {
    "duration": 41,
    "start_time": "2021-06-08T18:21:58.903Z"
   },
   {
    "duration": 20,
    "start_time": "2021-06-08T18:21:58.946Z"
   },
   {
    "duration": 100,
    "start_time": "2021-06-08T18:21:58.968Z"
   },
   {
    "duration": 5,
    "start_time": "2021-06-08T18:21:59.070Z"
   },
   {
    "duration": 601,
    "start_time": "2021-06-08T18:21:59.084Z"
   },
   {
    "duration": 606,
    "start_time": "2021-06-08T18:21:59.686Z"
   },
   {
    "duration": 673,
    "start_time": "2021-06-08T18:22:00.294Z"
   },
   {
    "duration": 7,
    "start_time": "2021-06-08T18:22:00.969Z"
   },
   {
    "duration": 621,
    "start_time": "2021-06-08T18:22:00.984Z"
   },
   {
    "duration": 604,
    "start_time": "2021-06-08T18:22:01.607Z"
   },
   {
    "duration": 5,
    "start_time": "2021-06-08T18:22:02.213Z"
   },
   {
    "duration": 6,
    "start_time": "2021-06-08T18:22:02.220Z"
   },
   {
    "duration": 8,
    "start_time": "2021-06-08T18:22:02.227Z"
   },
   {
    "duration": 631,
    "start_time": "2021-06-08T18:22:02.237Z"
   },
   {
    "duration": 322,
    "start_time": "2021-06-08T18:22:02.870Z"
   },
   {
    "duration": 10,
    "start_time": "2021-06-08T18:22:03.194Z"
   },
   {
    "duration": 9,
    "start_time": "2021-06-08T18:22:03.206Z"
   },
   {
    "duration": 12,
    "start_time": "2021-06-08T18:22:03.216Z"
   },
   {
    "duration": 11,
    "start_time": "2021-06-08T18:22:03.230Z"
   },
   {
    "duration": 11,
    "start_time": "2021-06-08T18:22:03.243Z"
   },
   {
    "duration": 5,
    "start_time": "2021-06-08T18:22:14.840Z"
   },
   {
    "duration": 5,
    "start_time": "2021-06-08T18:22:33.296Z"
   },
   {
    "duration": 14,
    "start_time": "2021-06-08T18:23:03.936Z"
   },
   {
    "duration": 6,
    "start_time": "2021-06-08T18:23:24.512Z"
   },
   {
    "duration": 4,
    "start_time": "2021-06-08T18:25:08.124Z"
   },
   {
    "duration": 96,
    "start_time": "2021-06-08T18:26:23.188Z"
   },
   {
    "duration": 1002,
    "start_time": "2021-06-08T18:26:45.734Z"
   },
   {
    "duration": 3,
    "start_time": "2021-06-08T18:26:46.738Z"
   },
   {
    "duration": 2462,
    "start_time": "2021-06-08T18:26:46.743Z"
   },
   {
    "duration": 56,
    "start_time": "2021-06-08T18:26:49.206Z"
   },
   {
    "duration": 3,
    "start_time": "2021-06-08T18:26:49.264Z"
   },
   {
    "duration": 16,
    "start_time": "2021-06-08T18:26:49.285Z"
   },
   {
    "duration": 3,
    "start_time": "2021-06-08T18:26:49.303Z"
   },
   {
    "duration": 13,
    "start_time": "2021-06-08T18:26:49.308Z"
   },
   {
    "duration": 4,
    "start_time": "2021-06-08T18:26:49.323Z"
   },
   {
    "duration": 21,
    "start_time": "2021-06-08T18:26:49.328Z"
   },
   {
    "duration": 35,
    "start_time": "2021-06-08T18:26:49.350Z"
   },
   {
    "duration": 11,
    "start_time": "2021-06-08T18:26:49.386Z"
   },
   {
    "duration": 9,
    "start_time": "2021-06-08T18:26:49.399Z"
   },
   {
    "duration": 10,
    "start_time": "2021-06-08T18:26:49.410Z"
   },
   {
    "duration": 4,
    "start_time": "2021-06-08T18:26:49.422Z"
   },
   {
    "duration": 7,
    "start_time": "2021-06-08T18:26:49.428Z"
   },
   {
    "duration": 11,
    "start_time": "2021-06-08T18:26:49.437Z"
   },
   {
    "duration": 6,
    "start_time": "2021-06-08T18:26:49.449Z"
   },
   {
    "duration": 29,
    "start_time": "2021-06-08T18:26:49.456Z"
   },
   {
    "duration": 6,
    "start_time": "2021-06-08T18:26:49.487Z"
   },
   {
    "duration": 6,
    "start_time": "2021-06-08T18:26:49.495Z"
   },
   {
    "duration": 323,
    "start_time": "2021-06-08T18:26:49.502Z"
   },
   {
    "duration": 6,
    "start_time": "2021-06-08T18:26:49.829Z"
   },
   {
    "duration": 16,
    "start_time": "2021-06-08T18:26:49.837Z"
   },
   {
    "duration": 14,
    "start_time": "2021-06-08T18:26:49.855Z"
   },
   {
    "duration": 17,
    "start_time": "2021-06-08T18:26:49.870Z"
   },
   {
    "duration": 22,
    "start_time": "2021-06-08T18:26:49.889Z"
   },
   {
    "duration": 25,
    "start_time": "2021-06-08T18:26:49.912Z"
   },
   {
    "duration": 10,
    "start_time": "2021-06-08T18:26:49.939Z"
   },
   {
    "duration": 16,
    "start_time": "2021-06-08T18:26:49.950Z"
   },
   {
    "duration": 20,
    "start_time": "2021-06-08T18:26:49.967Z"
   },
   {
    "duration": 45,
    "start_time": "2021-06-08T18:26:49.988Z"
   },
   {
    "duration": 25,
    "start_time": "2021-06-08T18:26:50.034Z"
   },
   {
    "duration": 105,
    "start_time": "2021-06-08T18:26:50.061Z"
   },
   {
    "duration": 49,
    "start_time": "2021-06-08T18:26:50.168Z"
   },
   {
    "duration": 20,
    "start_time": "2021-06-08T18:26:50.218Z"
   },
   {
    "duration": 95,
    "start_time": "2021-06-08T18:26:50.239Z"
   },
   {
    "duration": 4,
    "start_time": "2021-06-08T18:26:50.336Z"
   },
   {
    "duration": 537,
    "start_time": "2021-06-08T18:26:50.342Z"
   },
   {
    "duration": 565,
    "start_time": "2021-06-08T18:26:50.880Z"
   },
   {
    "duration": 618,
    "start_time": "2021-06-08T18:26:51.447Z"
   },
   {
    "duration": 5,
    "start_time": "2021-06-08T18:26:52.066Z"
   },
   {
    "duration": 567,
    "start_time": "2021-06-08T18:26:52.072Z"
   },
   {
    "duration": 565,
    "start_time": "2021-06-08T18:26:52.640Z"
   },
   {
    "duration": 4,
    "start_time": "2021-06-08T18:26:53.207Z"
   },
   {
    "duration": 8,
    "start_time": "2021-06-08T18:26:53.212Z"
   },
   {
    "duration": 6,
    "start_time": "2021-06-08T18:26:53.221Z"
   },
   {
    "duration": 594,
    "start_time": "2021-06-08T18:26:53.229Z"
   },
   {
    "duration": 385,
    "start_time": "2021-06-08T18:26:53.824Z"
   },
   {
    "duration": 7,
    "start_time": "2021-06-08T18:26:54.210Z"
   },
   {
    "duration": 8,
    "start_time": "2021-06-08T18:26:54.218Z"
   },
   {
    "duration": 6,
    "start_time": "2021-06-08T18:26:54.227Z"
   },
   {
    "duration": 6,
    "start_time": "2021-06-08T18:26:54.235Z"
   },
   {
    "duration": 9,
    "start_time": "2021-06-08T18:26:54.242Z"
   },
   {
    "duration": 34,
    "start_time": "2021-06-08T18:26:54.252Z"
   },
   {
    "duration": 5,
    "start_time": "2021-06-08T18:26:54.288Z"
   },
   {
    "duration": 747,
    "start_time": "2021-06-08T18:27:20.466Z"
   },
   {
    "duration": 3,
    "start_time": "2021-06-08T19:14:20.058Z"
   },
   {
    "duration": 281,
    "start_time": "2021-06-08T19:20:29.417Z"
   },
   {
    "duration": 4,
    "start_time": "2021-06-08T19:20:35.405Z"
   },
   {
    "duration": 180,
    "start_time": "2021-06-08T19:20:40.016Z"
   },
   {
    "duration": 3,
    "start_time": "2021-06-08T19:21:00.013Z"
   },
   {
    "duration": 553,
    "start_time": "2021-06-08T19:22:10.272Z"
   },
   {
    "duration": 5,
    "start_time": "2021-06-08T19:32:15.408Z"
   },
   {
    "duration": 3,
    "start_time": "2021-06-08T19:32:15.991Z"
   },
   {
    "duration": 5,
    "start_time": "2021-06-08T19:45:52.426Z"
   },
   {
    "duration": 194,
    "start_time": "2021-06-08T19:45:52.983Z"
   },
   {
    "duration": 5,
    "start_time": "2021-06-08T19:45:53.362Z"
   },
   {
    "duration": 1088,
    "start_time": "2021-06-08T19:46:10.967Z"
   },
   {
    "duration": 4,
    "start_time": "2021-06-08T19:46:12.057Z"
   },
   {
    "duration": 801,
    "start_time": "2021-06-08T19:46:12.063Z"
   },
   {
    "duration": 61,
    "start_time": "2021-06-08T19:46:12.866Z"
   },
   {
    "duration": 4,
    "start_time": "2021-06-08T19:46:12.929Z"
   },
   {
    "duration": 19,
    "start_time": "2021-06-08T19:46:12.935Z"
   },
   {
    "duration": 4,
    "start_time": "2021-06-08T19:46:12.956Z"
   },
   {
    "duration": 11,
    "start_time": "2021-06-08T19:46:12.986Z"
   },
   {
    "duration": 3,
    "start_time": "2021-06-08T19:46:12.999Z"
   },
   {
    "duration": 22,
    "start_time": "2021-06-08T19:46:13.004Z"
   },
   {
    "duration": 4,
    "start_time": "2021-06-08T19:46:13.028Z"
   },
   {
    "duration": 5,
    "start_time": "2021-06-08T19:46:13.033Z"
   },
   {
    "duration": 6,
    "start_time": "2021-06-08T19:46:13.040Z"
   },
   {
    "duration": 42,
    "start_time": "2021-06-08T19:46:13.048Z"
   },
   {
    "duration": 5,
    "start_time": "2021-06-08T19:46:13.091Z"
   },
   {
    "duration": 11,
    "start_time": "2021-06-08T19:46:13.097Z"
   },
   {
    "duration": 9,
    "start_time": "2021-06-08T19:46:13.110Z"
   },
   {
    "duration": 8,
    "start_time": "2021-06-08T19:46:13.121Z"
   },
   {
    "duration": 14,
    "start_time": "2021-06-08T19:46:13.130Z"
   },
   {
    "duration": 7,
    "start_time": "2021-06-08T19:46:13.145Z"
   },
   {
    "duration": 3,
    "start_time": "2021-06-08T19:46:13.186Z"
   },
   {
    "duration": 345,
    "start_time": "2021-06-08T19:46:13.191Z"
   },
   {
    "duration": 278,
    "start_time": "2021-06-08T19:46:13.540Z"
   },
   {
    "duration": 260,
    "start_time": "2021-06-08T19:46:13.561Z"
   },
   {
    "duration": 259,
    "start_time": "2021-06-08T19:46:13.563Z"
   },
   {
    "duration": 258,
    "start_time": "2021-06-08T19:46:13.564Z"
   },
   {
    "duration": 256,
    "start_time": "2021-06-08T19:46:13.567Z"
   },
   {
    "duration": 256,
    "start_time": "2021-06-08T19:46:13.568Z"
   },
   {
    "duration": 255,
    "start_time": "2021-06-08T19:46:13.570Z"
   },
   {
    "duration": 254,
    "start_time": "2021-06-08T19:46:13.572Z"
   },
   {
    "duration": 253,
    "start_time": "2021-06-08T19:46:13.574Z"
   },
   {
    "duration": 250,
    "start_time": "2021-06-08T19:46:13.578Z"
   },
   {
    "duration": 249,
    "start_time": "2021-06-08T19:46:13.580Z"
   },
   {
    "duration": 248,
    "start_time": "2021-06-08T19:46:13.582Z"
   },
   {
    "duration": 247,
    "start_time": "2021-06-08T19:46:13.584Z"
   },
   {
    "duration": 246,
    "start_time": "2021-06-08T19:46:13.585Z"
   },
   {
    "duration": 245,
    "start_time": "2021-06-08T19:46:13.587Z"
   },
   {
    "duration": 244,
    "start_time": "2021-06-08T19:46:13.589Z"
   },
   {
    "duration": 243,
    "start_time": "2021-06-08T19:46:13.591Z"
   },
   {
    "duration": 240,
    "start_time": "2021-06-08T19:46:13.595Z"
   },
   {
    "duration": 238,
    "start_time": "2021-06-08T19:46:13.597Z"
   },
   {
    "duration": 237,
    "start_time": "2021-06-08T19:46:13.599Z"
   },
   {
    "duration": 236,
    "start_time": "2021-06-08T19:46:13.601Z"
   },
   {
    "duration": 236,
    "start_time": "2021-06-08T19:46:13.602Z"
   },
   {
    "duration": 235,
    "start_time": "2021-06-08T19:46:13.604Z"
   },
   {
    "duration": 234,
    "start_time": "2021-06-08T19:46:13.606Z"
   },
   {
    "duration": 233,
    "start_time": "2021-06-08T19:46:13.608Z"
   },
   {
    "duration": 233,
    "start_time": "2021-06-08T19:46:13.609Z"
   },
   {
    "duration": 228,
    "start_time": "2021-06-08T19:46:13.614Z"
   },
   {
    "duration": 227,
    "start_time": "2021-06-08T19:46:13.616Z"
   },
   {
    "duration": 226,
    "start_time": "2021-06-08T19:46:13.618Z"
   },
   {
    "duration": 225,
    "start_time": "2021-06-08T19:46:13.620Z"
   },
   {
    "duration": 222,
    "start_time": "2021-06-08T19:46:13.624Z"
   },
   {
    "duration": 221,
    "start_time": "2021-06-08T19:46:13.626Z"
   },
   {
    "duration": 221,
    "start_time": "2021-06-08T19:46:13.627Z"
   },
   {
    "duration": 219,
    "start_time": "2021-06-08T19:46:13.629Z"
   },
   {
    "duration": 218,
    "start_time": "2021-06-08T19:46:13.631Z"
   },
   {
    "duration": 217,
    "start_time": "2021-06-08T19:46:13.633Z"
   },
   {
    "duration": 4,
    "start_time": "2021-06-08T19:46:55.999Z"
   },
   {
    "duration": 1140,
    "start_time": "2021-06-08T19:47:08.875Z"
   },
   {
    "duration": 4,
    "start_time": "2021-06-08T19:47:10.017Z"
   },
   {
    "duration": 779,
    "start_time": "2021-06-08T19:47:10.023Z"
   },
   {
    "duration": 58,
    "start_time": "2021-06-08T19:47:10.804Z"
   },
   {
    "duration": 22,
    "start_time": "2021-06-08T19:47:10.864Z"
   },
   {
    "duration": 16,
    "start_time": "2021-06-08T19:47:10.887Z"
   },
   {
    "duration": 3,
    "start_time": "2021-06-08T19:47:10.905Z"
   },
   {
    "duration": 13,
    "start_time": "2021-06-08T19:47:10.910Z"
   },
   {
    "duration": 3,
    "start_time": "2021-06-08T19:47:10.925Z"
   },
   {
    "duration": 21,
    "start_time": "2021-06-08T19:47:10.930Z"
   },
   {
    "duration": 33,
    "start_time": "2021-06-08T19:47:10.952Z"
   },
   {
    "duration": 3,
    "start_time": "2021-06-08T19:47:10.986Z"
   },
   {
    "duration": 6,
    "start_time": "2021-06-08T19:47:10.991Z"
   },
   {
    "duration": 9,
    "start_time": "2021-06-08T19:47:10.998Z"
   },
   {
    "duration": 5,
    "start_time": "2021-06-08T19:47:11.009Z"
   },
   {
    "duration": 6,
    "start_time": "2021-06-08T19:47:11.015Z"
   },
   {
    "duration": 11,
    "start_time": "2021-06-08T19:47:11.023Z"
   },
   {
    "duration": 6,
    "start_time": "2021-06-08T19:47:11.036Z"
   },
   {
    "duration": 48,
    "start_time": "2021-06-08T19:47:11.044Z"
   },
   {
    "duration": 6,
    "start_time": "2021-06-08T19:47:11.094Z"
   },
   {
    "duration": 4,
    "start_time": "2021-06-08T19:47:11.102Z"
   },
   {
    "duration": 343,
    "start_time": "2021-06-08T19:47:11.108Z"
   },
   {
    "duration": 7,
    "start_time": "2021-06-08T19:47:11.455Z"
   },
   {
    "duration": 5,
    "start_time": "2021-06-08T19:47:11.464Z"
   },
   {
    "duration": 17,
    "start_time": "2021-06-08T19:47:11.471Z"
   },
   {
    "duration": 7,
    "start_time": "2021-06-08T19:47:11.490Z"
   },
   {
    "duration": 8,
    "start_time": "2021-06-08T19:47:11.498Z"
   },
   {
    "duration": 17,
    "start_time": "2021-06-08T19:47:11.507Z"
   },
   {
    "duration": 10,
    "start_time": "2021-06-08T19:47:11.526Z"
   },
   {
    "duration": 15,
    "start_time": "2021-06-08T19:47:11.538Z"
   },
   {
    "duration": 44,
    "start_time": "2021-06-08T19:47:11.555Z"
   },
   {
    "duration": 43,
    "start_time": "2021-06-08T19:47:11.601Z"
   },
   {
    "duration": 45,
    "start_time": "2021-06-08T19:47:11.646Z"
   },
   {
    "duration": 97,
    "start_time": "2021-06-08T19:47:11.693Z"
   },
   {
    "duration": 42,
    "start_time": "2021-06-08T19:47:11.792Z"
   },
   {
    "duration": 20,
    "start_time": "2021-06-08T19:47:11.836Z"
   },
   {
    "duration": 99,
    "start_time": "2021-06-08T19:47:11.858Z"
   },
   {
    "duration": 5,
    "start_time": "2021-06-08T19:47:11.959Z"
   },
   {
    "duration": 591,
    "start_time": "2021-06-08T19:47:11.966Z"
   },
   {
    "duration": 659,
    "start_time": "2021-06-08T19:47:12.559Z"
   },
   {
    "duration": 698,
    "start_time": "2021-06-08T19:47:13.220Z"
   },
   {
    "duration": 4,
    "start_time": "2021-06-08T19:47:13.920Z"
   },
   {
    "duration": 649,
    "start_time": "2021-06-08T19:47:13.926Z"
   },
   {
    "duration": 630,
    "start_time": "2021-06-08T19:47:14.585Z"
   },
   {
    "duration": 4,
    "start_time": "2021-06-08T19:47:15.217Z"
   },
   {
    "duration": 7,
    "start_time": "2021-06-08T19:47:15.223Z"
   },
   {
    "duration": 5,
    "start_time": "2021-06-08T19:47:15.231Z"
   },
   {
    "duration": 627,
    "start_time": "2021-06-08T19:47:15.238Z"
   },
   {
    "duration": 401,
    "start_time": "2021-06-08T19:47:15.867Z"
   },
   {
    "duration": 15,
    "start_time": "2021-06-08T19:47:16.270Z"
   },
   {
    "duration": 5,
    "start_time": "2021-06-08T19:47:16.287Z"
   },
   {
    "duration": 7,
    "start_time": "2021-06-08T19:47:16.294Z"
   },
   {
    "duration": 4,
    "start_time": "2021-06-08T19:47:16.302Z"
   },
   {
    "duration": 7,
    "start_time": "2021-06-08T19:47:16.308Z"
   },
   {
    "duration": 5,
    "start_time": "2021-06-08T19:47:16.317Z"
   },
   {
    "duration": 8,
    "start_time": "2021-06-08T19:47:16.323Z"
   },
   {
    "duration": 16,
    "start_time": "2021-06-08T19:47:16.332Z"
   },
   {
    "duration": 6,
    "start_time": "2021-06-08T19:47:16.349Z"
   },
   {
    "duration": 5,
    "start_time": "2021-06-08T19:47:18.966Z"
   },
   {
    "duration": 3,
    "start_time": "2021-06-08T19:47:19.658Z"
   },
   {
    "duration": 73511,
    "start_time": "2021-06-08T19:50:43.190Z"
   },
   {
    "duration": 7,
    "start_time": "2021-06-08T19:52:06.591Z"
   },
   {
    "duration": 7,
    "start_time": "2021-06-08T19:52:49.230Z"
   },
   {
    "duration": 72270,
    "start_time": "2021-06-08T19:53:03.291Z"
   },
   {
    "duration": 1525,
    "start_time": "2021-06-09T17:38:27.058Z"
   },
   {
    "duration": 5,
    "start_time": "2021-06-09T17:38:28.585Z"
   },
   {
    "duration": 1009,
    "start_time": "2021-06-09T17:38:28.593Z"
   },
   {
    "duration": 100,
    "start_time": "2021-06-09T17:38:29.605Z"
   },
   {
    "duration": 17,
    "start_time": "2021-06-09T17:38:29.708Z"
   },
   {
    "duration": 24,
    "start_time": "2021-06-09T17:38:29.728Z"
   },
   {
    "duration": 5,
    "start_time": "2021-06-09T17:38:29.755Z"
   },
   {
    "duration": 16,
    "start_time": "2021-06-09T17:38:29.764Z"
   },
   {
    "duration": 46,
    "start_time": "2021-06-09T17:38:29.782Z"
   },
   {
    "duration": 27,
    "start_time": "2021-06-09T17:38:29.831Z"
   },
   {
    "duration": 6,
    "start_time": "2021-06-09T17:38:29.860Z"
   },
   {
    "duration": 7,
    "start_time": "2021-06-09T17:38:29.868Z"
   },
   {
    "duration": 47,
    "start_time": "2021-06-09T17:38:29.878Z"
   },
   {
    "duration": 10,
    "start_time": "2021-06-09T17:38:29.928Z"
   },
   {
    "duration": 8,
    "start_time": "2021-06-09T17:38:29.941Z"
   },
   {
    "duration": 9,
    "start_time": "2021-06-09T17:38:29.952Z"
   },
   {
    "duration": 61,
    "start_time": "2021-06-09T17:38:29.964Z"
   },
   {
    "duration": 11,
    "start_time": "2021-06-09T17:38:30.028Z"
   },
   {
    "duration": 18,
    "start_time": "2021-06-09T17:38:30.042Z"
   },
   {
    "duration": 9,
    "start_time": "2021-06-09T17:38:30.062Z"
   },
   {
    "duration": 10,
    "start_time": "2021-06-09T17:38:30.073Z"
   },
   {
    "duration": 627,
    "start_time": "2021-06-09T17:38:30.085Z"
   },
   {
    "duration": 10,
    "start_time": "2021-06-09T17:38:30.726Z"
   },
   {
    "duration": 13,
    "start_time": "2021-06-09T17:38:30.739Z"
   },
   {
    "duration": 14,
    "start_time": "2021-06-09T17:38:30.754Z"
   },
   {
    "duration": 12,
    "start_time": "2021-06-09T17:38:30.770Z"
   },
   {
    "duration": 20,
    "start_time": "2021-06-09T17:38:30.784Z"
   },
   {
    "duration": 50,
    "start_time": "2021-06-09T17:38:30.806Z"
   },
   {
    "duration": 18,
    "start_time": "2021-06-09T17:38:30.858Z"
   },
   {
    "duration": 25,
    "start_time": "2021-06-09T17:38:30.879Z"
   },
   {
    "duration": 41,
    "start_time": "2021-06-09T17:38:30.906Z"
   },
   {
    "duration": 105,
    "start_time": "2021-06-09T17:38:30.949Z"
   },
   {
    "duration": 42,
    "start_time": "2021-06-09T17:38:31.056Z"
   },
   {
    "duration": 197,
    "start_time": "2021-06-09T17:38:31.101Z"
   },
   {
    "duration": 101,
    "start_time": "2021-06-09T17:38:31.300Z"
   },
   {
    "duration": 45,
    "start_time": "2021-06-09T17:38:31.403Z"
   },
   {
    "duration": 175,
    "start_time": "2021-06-09T17:38:31.450Z"
   },
   {
    "duration": 8,
    "start_time": "2021-06-09T17:38:31.627Z"
   },
   {
    "duration": 1022,
    "start_time": "2021-06-09T17:38:31.637Z"
   },
   {
    "duration": 973,
    "start_time": "2021-06-09T17:38:32.661Z"
   },
   {
    "duration": 1119,
    "start_time": "2021-06-09T17:38:33.637Z"
   },
   {
    "duration": 9,
    "start_time": "2021-06-09T17:38:34.759Z"
   },
   {
    "duration": 970,
    "start_time": "2021-06-09T17:38:34.771Z"
   },
   {
    "duration": 965,
    "start_time": "2021-06-09T17:38:35.744Z"
   },
   {
    "duration": 18,
    "start_time": "2021-06-09T17:38:36.711Z"
   },
   {
    "duration": 9,
    "start_time": "2021-06-09T17:38:36.732Z"
   },
   {
    "duration": 8,
    "start_time": "2021-06-09T17:38:36.743Z"
   },
   {
    "duration": 1014,
    "start_time": "2021-06-09T17:38:36.754Z"
   },
   {
    "duration": 701,
    "start_time": "2021-06-09T17:38:37.770Z"
   },
   {
    "duration": 9,
    "start_time": "2021-06-09T17:38:38.473Z"
   },
   {
    "duration": 17,
    "start_time": "2021-06-09T17:38:38.484Z"
   },
   {
    "duration": 25,
    "start_time": "2021-06-09T17:38:38.503Z"
   },
   {
    "duration": 8,
    "start_time": "2021-06-09T17:38:38.530Z"
   },
   {
    "duration": 6,
    "start_time": "2021-06-09T17:38:38.541Z"
   },
   {
    "duration": 5,
    "start_time": "2021-06-09T17:38:38.550Z"
   },
   {
    "duration": 13,
    "start_time": "2021-06-09T17:38:38.557Z"
   },
   {
    "duration": 21,
    "start_time": "2021-06-09T17:38:38.572Z"
   },
   {
    "duration": 8,
    "start_time": "2021-06-09T17:38:38.625Z"
   },
   {
    "duration": 4,
    "start_time": "2021-06-09T17:42:52.124Z"
   },
   {
    "duration": 138,
    "start_time": "2021-06-09T17:42:53.168Z"
   },
   {
    "duration": 99224,
    "start_time": "2021-06-09T17:42:59.504Z"
   },
   {
    "duration": 102870,
    "start_time": "2021-06-09T17:44:44.264Z"
   },
   {
    "duration": 4,
    "start_time": "2021-06-09T17:54:17.227Z"
   },
   {
    "duration": 3407,
    "start_time": "2021-06-09T17:54:18.319Z"
   },
   {
    "duration": 5,
    "start_time": "2021-06-09T17:54:24.815Z"
   },
   {
    "duration": 4,
    "start_time": "2021-06-09T17:54:31.559Z"
   },
   {
    "duration": 3195,
    "start_time": "2021-06-09T17:54:32.335Z"
   },
   {
    "duration": 95,
    "start_time": "2021-06-09T17:54:35.534Z"
   },
   {
    "duration": 4,
    "start_time": "2021-06-09T17:54:41.829Z"
   },
   {
    "duration": 102362,
    "start_time": "2021-06-09T18:02:09.083Z"
   },
   {
    "duration": 5,
    "start_time": "2021-06-09T18:04:00.500Z"
   },
   {
    "duration": 11,
    "start_time": "2021-06-09T18:04:00.508Z"
   },
   {
    "duration": 1051,
    "start_time": "2021-06-09T18:04:00.522Z"
   },
   {
    "duration": 102,
    "start_time": "2021-06-09T18:04:01.575Z"
   },
   {
    "duration": 7,
    "start_time": "2021-06-09T18:04:01.679Z"
   },
   {
    "duration": 56,
    "start_time": "2021-06-09T18:04:01.689Z"
   },
   {
    "duration": 6,
    "start_time": "2021-06-09T18:04:01.751Z"
   },
   {
    "duration": 33,
    "start_time": "2021-06-09T18:04:01.760Z"
   },
   {
    "duration": 5,
    "start_time": "2021-06-09T18:04:01.796Z"
   },
   {
    "duration": 32,
    "start_time": "2021-06-09T18:04:01.825Z"
   },
   {
    "duration": 6,
    "start_time": "2021-06-09T18:04:01.860Z"
   },
   {
    "duration": 15,
    "start_time": "2021-06-09T18:04:01.869Z"
   },
   {
    "duration": 13,
    "start_time": "2021-06-09T18:04:01.887Z"
   },
   {
    "duration": 28,
    "start_time": "2021-06-09T18:04:01.903Z"
   },
   {
    "duration": 18,
    "start_time": "2021-06-09T18:04:01.933Z"
   },
   {
    "duration": 31,
    "start_time": "2021-06-09T18:04:01.953Z"
   },
   {
    "duration": 28,
    "start_time": "2021-06-09T18:04:01.986Z"
   },
   {
    "duration": 17,
    "start_time": "2021-06-09T18:04:02.016Z"
   },
   {
    "duration": 15,
    "start_time": "2021-06-09T18:04:02.039Z"
   },
   {
    "duration": 22,
    "start_time": "2021-06-09T18:04:02.058Z"
   },
   {
    "duration": 28,
    "start_time": "2021-06-09T18:04:02.082Z"
   },
   {
    "duration": 598,
    "start_time": "2021-06-09T18:04:02.112Z"
   },
   {
    "duration": 17,
    "start_time": "2021-06-09T18:04:02.712Z"
   },
   {
    "duration": 17,
    "start_time": "2021-06-09T18:04:02.731Z"
   },
   {
    "duration": 17,
    "start_time": "2021-06-09T18:04:02.750Z"
   },
   {
    "duration": 10,
    "start_time": "2021-06-09T18:04:02.769Z"
   },
   {
    "duration": 12,
    "start_time": "2021-06-09T18:04:02.781Z"
   },
   {
    "duration": 45,
    "start_time": "2021-06-09T18:04:02.795Z"
   },
   {
    "duration": 17,
    "start_time": "2021-06-09T18:04:02.843Z"
   },
   {
    "duration": 27,
    "start_time": "2021-06-09T18:04:02.862Z"
   },
   {
    "duration": 45,
    "start_time": "2021-06-09T18:04:02.892Z"
   },
   {
    "duration": 120,
    "start_time": "2021-06-09T18:04:02.940Z"
   },
   {
    "duration": 45,
    "start_time": "2021-06-09T18:04:03.062Z"
   },
   {
    "duration": 201,
    "start_time": "2021-06-09T18:04:03.110Z"
   },
   {
    "duration": 89,
    "start_time": "2021-06-09T18:04:03.314Z"
   },
   {
    "duration": 52,
    "start_time": "2021-06-09T18:04:03.406Z"
   },
   {
    "duration": 197,
    "start_time": "2021-06-09T18:04:03.460Z"
   },
   {
    "duration": 9,
    "start_time": "2021-06-09T18:04:03.660Z"
   },
   {
    "duration": 932,
    "start_time": "2021-06-09T18:04:03.671Z"
   },
   {
    "duration": 1004,
    "start_time": "2021-06-09T18:04:04.605Z"
   },
   {
    "duration": 969,
    "start_time": "2021-06-09T18:04:05.611Z"
   },
   {
    "duration": 8,
    "start_time": "2021-06-09T18:04:06.582Z"
   },
   {
    "duration": 1067,
    "start_time": "2021-06-09T18:04:06.592Z"
   },
   {
    "duration": 983,
    "start_time": "2021-06-09T18:04:07.661Z"
   },
   {
    "duration": 7,
    "start_time": "2021-06-09T18:04:08.647Z"
   },
   {
    "duration": 17,
    "start_time": "2021-06-09T18:04:08.656Z"
   },
   {
    "duration": 6,
    "start_time": "2021-06-09T18:04:08.675Z"
   },
   {
    "duration": 1005,
    "start_time": "2021-06-09T18:04:08.684Z"
   },
   {
    "duration": 518,
    "start_time": "2021-06-09T18:04:09.691Z"
   },
   {
    "duration": 14,
    "start_time": "2021-06-09T18:04:10.211Z"
   },
   {
    "duration": 8,
    "start_time": "2021-06-09T18:04:10.227Z"
   },
   {
    "duration": 12,
    "start_time": "2021-06-09T18:04:10.237Z"
   },
   {
    "duration": 6,
    "start_time": "2021-06-09T18:04:10.251Z"
   },
   {
    "duration": 10,
    "start_time": "2021-06-09T18:04:10.260Z"
   },
   {
    "duration": 6,
    "start_time": "2021-06-09T18:04:10.276Z"
   },
   {
    "duration": 43,
    "start_time": "2021-06-09T18:04:10.284Z"
   },
   {
    "duration": 25,
    "start_time": "2021-06-09T18:04:10.329Z"
   },
   {
    "duration": 7,
    "start_time": "2021-06-09T18:04:10.356Z"
   },
   {
    "duration": 11,
    "start_time": "2021-06-09T18:04:10.366Z"
   },
   {
    "duration": 2854,
    "start_time": "2021-06-09T18:04:10.379Z"
   },
   {
    "duration": 98,
    "start_time": "2021-06-09T18:04:13.327Z"
   },
   {
    "duration": 1517,
    "start_time": "2021-06-09T18:04:21.555Z"
   },
   {
    "duration": 4,
    "start_time": "2021-06-09T18:04:23.075Z"
   },
   {
    "duration": 1033,
    "start_time": "2021-06-09T18:04:23.083Z"
   },
   {
    "duration": 110,
    "start_time": "2021-06-09T18:04:24.119Z"
   },
   {
    "duration": 6,
    "start_time": "2021-06-09T18:04:24.233Z"
   },
   {
    "duration": 27,
    "start_time": "2021-06-09T18:04:24.242Z"
   },
   {
    "duration": 5,
    "start_time": "2021-06-09T18:04:24.271Z"
   },
   {
    "duration": 57,
    "start_time": "2021-06-09T18:04:24.279Z"
   },
   {
    "duration": 5,
    "start_time": "2021-06-09T18:04:24.339Z"
   },
   {
    "duration": 30,
    "start_time": "2021-06-09T18:04:24.346Z"
   },
   {
    "duration": 5,
    "start_time": "2021-06-09T18:04:24.379Z"
   },
   {
    "duration": 39,
    "start_time": "2021-06-09T18:04:24.386Z"
   },
   {
    "duration": 6,
    "start_time": "2021-06-09T18:04:24.427Z"
   },
   {
    "duration": 14,
    "start_time": "2021-06-09T18:04:24.435Z"
   },
   {
    "duration": 7,
    "start_time": "2021-06-09T18:04:24.451Z"
   },
   {
    "duration": 10,
    "start_time": "2021-06-09T18:04:24.460Z"
   },
   {
    "duration": 12,
    "start_time": "2021-06-09T18:04:24.472Z"
   },
   {
    "duration": 48,
    "start_time": "2021-06-09T18:04:24.487Z"
   },
   {
    "duration": 18,
    "start_time": "2021-06-09T18:04:24.537Z"
   },
   {
    "duration": 9,
    "start_time": "2021-06-09T18:04:24.557Z"
   },
   {
    "duration": 6,
    "start_time": "2021-06-09T18:04:24.568Z"
   },
   {
    "duration": 610,
    "start_time": "2021-06-09T18:04:24.576Z"
   },
   {
    "duration": 10,
    "start_time": "2021-06-09T18:04:25.191Z"
   },
   {
    "duration": 22,
    "start_time": "2021-06-09T18:04:25.204Z"
   },
   {
    "duration": 16,
    "start_time": "2021-06-09T18:04:25.229Z"
   },
   {
    "duration": 10,
    "start_time": "2021-06-09T18:04:25.247Z"
   },
   {
    "duration": 11,
    "start_time": "2021-06-09T18:04:25.259Z"
   },
   {
    "duration": 30,
    "start_time": "2021-06-09T18:04:25.272Z"
   },
   {
    "duration": 35,
    "start_time": "2021-06-09T18:04:25.304Z"
   },
   {
    "duration": 25,
    "start_time": "2021-06-09T18:04:25.341Z"
   },
   {
    "duration": 60,
    "start_time": "2021-06-09T18:04:25.368Z"
   },
   {
    "duration": 96,
    "start_time": "2021-06-09T18:04:25.430Z"
   },
   {
    "duration": 41,
    "start_time": "2021-06-09T18:04:25.528Z"
   },
   {
    "duration": 193,
    "start_time": "2021-06-09T18:04:25.571Z"
   },
   {
    "duration": 104,
    "start_time": "2021-06-09T18:04:25.766Z"
   },
   {
    "duration": 37,
    "start_time": "2021-06-09T18:04:25.873Z"
   },
   {
    "duration": 185,
    "start_time": "2021-06-09T18:04:25.913Z"
   },
   {
    "duration": 7,
    "start_time": "2021-06-09T18:04:26.101Z"
   },
   {
    "duration": 925,
    "start_time": "2021-06-09T18:04:26.110Z"
   },
   {
    "duration": 992,
    "start_time": "2021-06-09T18:04:27.038Z"
   },
   {
    "duration": 1035,
    "start_time": "2021-06-09T18:04:28.033Z"
   },
   {
    "duration": 9,
    "start_time": "2021-06-09T18:04:29.071Z"
   },
   {
    "duration": 965,
    "start_time": "2021-06-09T18:04:29.083Z"
   },
   {
    "duration": 974,
    "start_time": "2021-06-09T18:04:30.051Z"
   },
   {
    "duration": 7,
    "start_time": "2021-06-09T18:04:31.027Z"
   },
   {
    "duration": 9,
    "start_time": "2021-06-09T18:04:31.036Z"
   },
   {
    "duration": 8,
    "start_time": "2021-06-09T18:04:31.048Z"
   },
   {
    "duration": 1028,
    "start_time": "2021-06-09T18:04:31.059Z"
   },
   {
    "duration": 610,
    "start_time": "2021-06-09T18:04:32.090Z"
   },
   {
    "duration": 23,
    "start_time": "2021-06-09T18:04:32.702Z"
   },
   {
    "duration": 7,
    "start_time": "2021-06-09T18:04:32.728Z"
   },
   {
    "duration": 17,
    "start_time": "2021-06-09T18:04:32.737Z"
   },
   {
    "duration": 12,
    "start_time": "2021-06-09T18:04:32.756Z"
   },
   {
    "duration": 12,
    "start_time": "2021-06-09T18:04:32.770Z"
   },
   {
    "duration": 16,
    "start_time": "2021-06-09T18:04:32.784Z"
   },
   {
    "duration": 23,
    "start_time": "2021-06-09T18:04:32.802Z"
   },
   {
    "duration": 29,
    "start_time": "2021-06-09T18:04:32.828Z"
   },
   {
    "duration": 8,
    "start_time": "2021-06-09T18:04:32.859Z"
   },
   {
    "duration": 3,
    "start_time": "2021-06-09T18:04:32.870Z"
   },
   {
    "duration": 2856,
    "start_time": "2021-06-09T18:04:32.876Z"
   },
   {
    "duration": 93,
    "start_time": "2021-06-09T18:04:35.735Z"
   },
   {
    "duration": 247540,
    "start_time": "2021-06-09T18:04:37.148Z"
   },
   {
    "duration": 17,
    "start_time": "2021-06-09T18:08:51.078Z"
   },
   {
    "duration": 449,
    "start_time": "2021-06-09T18:26:01.973Z"
   },
   {
    "duration": 1672,
    "start_time": "2021-06-09T18:26:13.306Z"
   },
   {
    "duration": 5,
    "start_time": "2021-06-09T18:26:14.981Z"
   },
   {
    "duration": 1046,
    "start_time": "2021-06-09T18:26:14.989Z"
   },
   {
    "duration": 115,
    "start_time": "2021-06-09T18:26:16.037Z"
   },
   {
    "duration": 5,
    "start_time": "2021-06-09T18:26:16.155Z"
   },
   {
    "duration": 28,
    "start_time": "2021-06-09T18:26:16.162Z"
   },
   {
    "duration": 35,
    "start_time": "2021-06-09T18:26:16.192Z"
   },
   {
    "duration": 18,
    "start_time": "2021-06-09T18:26:16.231Z"
   },
   {
    "duration": 5,
    "start_time": "2021-06-09T18:26:16.252Z"
   },
   {
    "duration": 80,
    "start_time": "2021-06-09T18:26:16.259Z"
   },
   {
    "duration": 5,
    "start_time": "2021-06-09T18:26:16.341Z"
   },
   {
    "duration": 8,
    "start_time": "2021-06-09T18:26:16.348Z"
   },
   {
    "duration": 7,
    "start_time": "2021-06-09T18:26:16.359Z"
   },
   {
    "duration": 16,
    "start_time": "2021-06-09T18:26:16.368Z"
   },
   {
    "duration": 8,
    "start_time": "2021-06-09T18:26:16.386Z"
   },
   {
    "duration": 8,
    "start_time": "2021-06-09T18:26:16.427Z"
   },
   {
    "duration": 13,
    "start_time": "2021-06-09T18:26:16.437Z"
   },
   {
    "duration": 9,
    "start_time": "2021-06-09T18:26:16.453Z"
   },
   {
    "duration": 74,
    "start_time": "2021-06-09T18:26:16.465Z"
   },
   {
    "duration": 9,
    "start_time": "2021-06-09T18:26:16.541Z"
   },
   {
    "duration": 5,
    "start_time": "2021-06-09T18:26:16.553Z"
   },
   {
    "duration": 648,
    "start_time": "2021-06-09T18:26:16.561Z"
   },
   {
    "duration": 16,
    "start_time": "2021-06-09T18:26:17.214Z"
   },
   {
    "duration": 9,
    "start_time": "2021-06-09T18:26:17.233Z"
   },
   {
    "duration": 8,
    "start_time": "2021-06-09T18:26:17.245Z"
   },
   {
    "duration": 12,
    "start_time": "2021-06-09T18:26:17.255Z"
   },
   {
    "duration": 9,
    "start_time": "2021-06-09T18:26:17.271Z"
   },
   {
    "duration": 63,
    "start_time": "2021-06-09T18:26:17.283Z"
   },
   {
    "duration": 21,
    "start_time": "2021-06-09T18:26:17.348Z"
   },
   {
    "duration": 63,
    "start_time": "2021-06-09T18:26:17.371Z"
   },
   {
    "duration": 26,
    "start_time": "2021-06-09T18:26:17.437Z"
   },
   {
    "duration": 121,
    "start_time": "2021-06-09T18:26:17.466Z"
   },
   {
    "duration": 56,
    "start_time": "2021-06-09T18:26:17.589Z"
   },
   {
    "duration": 200,
    "start_time": "2021-06-09T18:26:17.647Z"
   },
   {
    "duration": 95,
    "start_time": "2021-06-09T18:26:17.849Z"
   },
   {
    "duration": 47,
    "start_time": "2021-06-09T18:26:17.947Z"
   },
   {
    "duration": 200,
    "start_time": "2021-06-09T18:26:17.997Z"
   },
   {
    "duration": 8,
    "start_time": "2021-06-09T18:26:18.199Z"
   },
   {
    "duration": 1425,
    "start_time": "2021-06-09T18:26:18.211Z"
   },
   {
    "duration": 1015,
    "start_time": "2021-06-09T18:26:19.639Z"
   },
   {
    "duration": 1098,
    "start_time": "2021-06-09T18:26:20.657Z"
   },
   {
    "duration": 12,
    "start_time": "2021-06-09T18:26:21.758Z"
   },
   {
    "duration": 1122,
    "start_time": "2021-06-09T18:26:21.773Z"
   },
   {
    "duration": 987,
    "start_time": "2021-06-09T18:26:22.898Z"
   },
   {
    "duration": 7,
    "start_time": "2021-06-09T18:26:23.888Z"
   },
   {
    "duration": 28,
    "start_time": "2021-06-09T18:26:23.897Z"
   },
   {
    "duration": 7,
    "start_time": "2021-06-09T18:26:23.928Z"
   },
   {
    "duration": 1026,
    "start_time": "2021-06-09T18:26:23.938Z"
   },
   {
    "duration": 887,
    "start_time": "2021-06-09T18:26:24.967Z"
   },
   {
    "duration": 9,
    "start_time": "2021-06-09T18:26:25.857Z"
   },
   {
    "duration": 14,
    "start_time": "2021-06-09T18:26:25.868Z"
   },
   {
    "duration": 13,
    "start_time": "2021-06-09T18:26:25.885Z"
   },
   {
    "duration": 24,
    "start_time": "2021-06-09T18:26:25.901Z"
   },
   {
    "duration": 9,
    "start_time": "2021-06-09T18:26:25.928Z"
   },
   {
    "duration": 5,
    "start_time": "2021-06-09T18:26:25.940Z"
   },
   {
    "duration": 11,
    "start_time": "2021-06-09T18:26:25.947Z"
   },
   {
    "duration": 22,
    "start_time": "2021-06-09T18:26:25.961Z"
   },
   {
    "duration": 40,
    "start_time": "2021-06-09T18:26:25.986Z"
   },
   {
    "duration": 3,
    "start_time": "2021-06-09T18:26:26.029Z"
   },
   {
    "duration": 3899,
    "start_time": "2021-06-09T18:26:26.035Z"
   },
   {
    "duration": 91,
    "start_time": "2021-06-09T18:26:29.937Z"
   },
   {
    "duration": 735372,
    "start_time": "2021-06-09T18:26:34.849Z"
   },
   {
    "duration": 261127,
    "start_time": "2021-06-09T18:38:57.989Z"
   },
   {
    "duration": 18,
    "start_time": "2021-06-09T18:44:27.700Z"
   },
   {
    "duration": 4165974,
    "start_time": "2021-06-09T18:44:39.100Z"
   },
   {
    "duration": 645,
    "start_time": "2021-06-09T19:54:04.432Z"
   },
   {
    "duration": 1602,
    "start_time": "2021-06-09T19:55:08.558Z"
   },
   {
    "duration": 4,
    "start_time": "2021-06-09T19:55:10.163Z"
   },
   {
    "duration": 12469,
    "start_time": "2021-06-09T19:55:10.170Z"
   },
   {
    "duration": 168,
    "start_time": "2021-06-09T19:55:22.642Z"
   },
   {
    "duration": 18,
    "start_time": "2021-06-09T19:55:22.813Z"
   },
   {
    "duration": 43,
    "start_time": "2021-06-09T19:55:22.834Z"
   },
   {
    "duration": 6,
    "start_time": "2021-06-09T19:55:22.879Z"
   },
   {
    "duration": 49,
    "start_time": "2021-06-09T19:55:22.888Z"
   },
   {
    "duration": 12,
    "start_time": "2021-06-09T19:55:22.941Z"
   },
   {
    "duration": 28,
    "start_time": "2021-06-09T19:55:22.955Z"
   },
   {
    "duration": 48,
    "start_time": "2021-06-09T19:55:22.986Z"
   },
   {
    "duration": 5,
    "start_time": "2021-06-09T19:55:23.037Z"
   },
   {
    "duration": 10,
    "start_time": "2021-06-09T19:55:23.046Z"
   },
   {
    "duration": 16,
    "start_time": "2021-06-09T19:55:23.059Z"
   },
   {
    "duration": 7,
    "start_time": "2021-06-09T19:55:23.078Z"
   },
   {
    "duration": 11,
    "start_time": "2021-06-09T19:55:23.087Z"
   },
   {
    "duration": 20,
    "start_time": "2021-06-09T19:55:23.125Z"
   },
   {
    "duration": 33,
    "start_time": "2021-06-09T19:55:23.148Z"
   },
   {
    "duration": 54,
    "start_time": "2021-06-09T19:55:23.190Z"
   },
   {
    "duration": 57,
    "start_time": "2021-06-09T19:55:23.259Z"
   },
   {
    "duration": 41,
    "start_time": "2021-06-09T19:55:23.335Z"
   },
   {
    "duration": 787,
    "start_time": "2021-06-09T19:55:23.390Z"
   },
   {
    "duration": 10,
    "start_time": "2021-06-09T19:55:24.183Z"
   },
   {
    "duration": 34,
    "start_time": "2021-06-09T19:55:24.197Z"
   },
   {
    "duration": 8,
    "start_time": "2021-06-09T19:55:24.234Z"
   },
   {
    "duration": 12,
    "start_time": "2021-06-09T19:55:24.245Z"
   },
   {
    "duration": 9,
    "start_time": "2021-06-09T19:55:24.260Z"
   },
   {
    "duration": 67,
    "start_time": "2021-06-09T19:55:24.271Z"
   },
   {
    "duration": 20,
    "start_time": "2021-06-09T19:55:24.340Z"
   },
   {
    "duration": 26,
    "start_time": "2021-06-09T19:55:24.363Z"
   },
   {
    "duration": 49,
    "start_time": "2021-06-09T19:55:24.391Z"
   },
   {
    "duration": 119,
    "start_time": "2021-06-09T19:55:24.443Z"
   },
   {
    "duration": 66,
    "start_time": "2021-06-09T19:55:24.565Z"
   },
   {
    "duration": 221,
    "start_time": "2021-06-09T19:55:24.634Z"
   },
   {
    "duration": 100,
    "start_time": "2021-06-09T19:55:24.858Z"
   },
   {
    "duration": 38,
    "start_time": "2021-06-09T19:55:24.961Z"
   },
   {
    "duration": 202,
    "start_time": "2021-06-09T19:55:25.001Z"
   },
   {
    "duration": 8,
    "start_time": "2021-06-09T19:55:25.205Z"
   },
   {
    "duration": 1434,
    "start_time": "2021-06-09T19:55:25.224Z"
   },
   {
    "duration": 1037,
    "start_time": "2021-06-09T19:55:26.661Z"
   },
   {
    "duration": 1160,
    "start_time": "2021-06-09T19:55:27.701Z"
   },
   {
    "duration": 8,
    "start_time": "2021-06-09T19:55:28.863Z"
   },
   {
    "duration": 1326,
    "start_time": "2021-06-09T19:55:28.873Z"
   },
   {
    "duration": 966,
    "start_time": "2021-06-09T19:55:30.202Z"
   },
   {
    "duration": 6,
    "start_time": "2021-06-09T19:55:31.170Z"
   },
   {
    "duration": 19,
    "start_time": "2021-06-09T19:55:31.179Z"
   },
   {
    "duration": 27,
    "start_time": "2021-06-09T19:55:31.201Z"
   },
   {
    "duration": 999,
    "start_time": "2021-06-09T19:55:31.232Z"
   },
   {
    "duration": 617,
    "start_time": "2021-06-09T19:55:32.233Z"
   },
   {
    "duration": 10,
    "start_time": "2021-06-09T19:55:32.852Z"
   },
   {
    "duration": 21,
    "start_time": "2021-06-09T19:55:32.865Z"
   },
   {
    "duration": 10,
    "start_time": "2021-06-09T19:55:32.889Z"
   },
   {
    "duration": 30,
    "start_time": "2021-06-09T19:55:32.902Z"
   },
   {
    "duration": 12,
    "start_time": "2021-06-09T19:55:32.935Z"
   },
   {
    "duration": 17,
    "start_time": "2021-06-09T19:55:32.949Z"
   },
   {
    "duration": 10,
    "start_time": "2021-06-09T19:55:32.968Z"
   },
   {
    "duration": 54,
    "start_time": "2021-06-09T19:55:32.980Z"
   },
   {
    "duration": 9,
    "start_time": "2021-06-09T19:55:33.037Z"
   },
   {
    "duration": 12,
    "start_time": "2021-06-09T19:55:33.049Z"
   },
   {
    "duration": 5669,
    "start_time": "2021-06-09T19:55:33.063Z"
   },
   {
    "duration": 8,
    "start_time": "2021-06-09T19:55:38.736Z"
   },
   {
    "duration": 272532,
    "start_time": "2021-06-09T19:55:38.752Z"
   },
   {
    "duration": 44,
    "start_time": "2021-06-09T20:00:11.288Z"
   },
   {
    "duration": 127,
    "start_time": "2021-06-09T20:00:11.336Z"
   },
   {
    "duration": 674,
    "start_time": "2021-06-09T20:00:10.792Z"
   },
   {
    "duration": 670,
    "start_time": "2021-06-09T20:00:10.797Z"
   },
   {
    "duration": 668,
    "start_time": "2021-06-09T20:00:10.800Z"
   },
   {
    "duration": 668,
    "start_time": "2021-06-09T20:00:10.802Z"
   },
   {
    "duration": 666,
    "start_time": "2021-06-09T20:00:10.805Z"
   },
   {
    "duration": 666,
    "start_time": "2021-06-09T20:00:10.807Z"
   },
   {
    "duration": 665,
    "start_time": "2021-06-09T20:00:10.809Z"
   },
   {
    "duration": 759754,
    "start_time": "2021-06-09T20:01:15.583Z"
   },
   {
    "duration": 24,
    "start_time": "2021-06-09T20:13:55.341Z"
   },
   {
    "duration": 129,
    "start_time": "2021-06-09T20:13:55.368Z"
   },
   {
    "duration": 677,
    "start_time": "2021-06-09T20:13:54.823Z"
   },
   {
    "duration": 675,
    "start_time": "2021-06-09T20:13:54.826Z"
   },
   {
    "duration": 674,
    "start_time": "2021-06-09T20:13:54.828Z"
   },
   {
    "duration": 674,
    "start_time": "2021-06-09T20:13:54.830Z"
   },
   {
    "duration": 672,
    "start_time": "2021-06-09T20:13:54.833Z"
   },
   {
    "duration": 20671,
    "start_time": "2021-06-09T20:17:58.294Z"
   },
   {
    "duration": 520,
    "start_time": "2021-06-09T20:18:38.413Z"
   },
   {
    "duration": 7,
    "start_time": "2021-06-09T20:19:35.595Z"
   },
   {
    "duration": 370,
    "start_time": "2021-06-09T20:20:05.518Z"
   },
   {
    "duration": 6,
    "start_time": "2021-06-09T20:20:42.641Z"
   },
   {
    "duration": 5,
    "start_time": "2021-06-09T20:20:47.889Z"
   },
   {
    "duration": 5,
    "start_time": "2021-06-09T20:21:19.201Z"
   },
   {
    "duration": 4,
    "start_time": "2021-06-09T20:21:32.033Z"
   },
   {
    "duration": 9,
    "start_time": "2021-06-09T20:21:37.694Z"
   },
   {
    "duration": 5,
    "start_time": "2021-06-09T20:21:53.330Z"
   },
   {
    "duration": 5,
    "start_time": "2021-06-09T20:21:56.597Z"
   },
   {
    "duration": 5,
    "start_time": "2021-06-09T20:21:57.909Z"
   },
   {
    "duration": 9,
    "start_time": "2021-06-09T20:22:02.322Z"
   },
   {
    "duration": 1513,
    "start_time": "2021-06-10T09:05:50.100Z"
   },
   {
    "duration": 4,
    "start_time": "2021-06-10T09:05:51.615Z"
   },
   {
    "duration": 1092,
    "start_time": "2021-06-10T09:05:52.550Z"
   },
   {
    "duration": 110,
    "start_time": "2021-06-10T09:06:21.444Z"
   },
   {
    "duration": 7,
    "start_time": "2021-06-10T09:06:22.254Z"
   },
   {
    "duration": 25,
    "start_time": "2021-06-10T09:06:22.926Z"
   },
   {
    "duration": 5,
    "start_time": "2021-06-10T09:06:23.436Z"
   },
   {
    "duration": 32,
    "start_time": "2021-06-10T09:06:24.054Z"
   },
   {
    "duration": 9,
    "start_time": "2021-06-10T09:06:24.583Z"
   },
   {
    "duration": 32,
    "start_time": "2021-06-10T09:06:25.168Z"
   },
   {
    "duration": 8,
    "start_time": "2021-06-10T09:06:26.575Z"
   },
   {
    "duration": 6,
    "start_time": "2021-06-10T09:06:26.763Z"
   },
   {
    "duration": 5,
    "start_time": "2021-06-10T09:06:27.147Z"
   },
   {
    "duration": 11,
    "start_time": "2021-06-10T09:07:05.076Z"
   },
   {
    "duration": 11,
    "start_time": "2021-06-10T09:07:06.573Z"
   },
   {
    "duration": 8,
    "start_time": "2021-06-10T09:07:06.828Z"
   },
   {
    "duration": 13,
    "start_time": "2021-06-10T09:07:07.372Z"
   },
   {
    "duration": 12,
    "start_time": "2021-06-10T09:07:07.973Z"
   },
   {
    "duration": 26,
    "start_time": "2021-06-10T09:07:09.251Z"
   },
   {
    "duration": 14,
    "start_time": "2021-06-10T09:07:09.469Z"
   },
   {
    "duration": 5,
    "start_time": "2021-06-10T09:07:10.237Z"
   },
   {
    "duration": 642,
    "start_time": "2021-06-10T09:07:11.377Z"
   },
   {
    "duration": 11,
    "start_time": "2021-06-10T09:07:12.021Z"
   },
   {
    "duration": 14,
    "start_time": "2021-06-10T09:07:40.852Z"
   },
   {
    "duration": 6,
    "start_time": "2021-06-10T09:07:41.525Z"
   },
   {
    "duration": 9,
    "start_time": "2021-06-10T09:08:25.749Z"
   },
   {
    "duration": 7,
    "start_time": "2021-06-10T09:08:26.477Z"
   },
   {
    "duration": 36,
    "start_time": "2021-06-10T09:08:29.534Z"
   },
   {
    "duration": 18,
    "start_time": "2021-06-10T09:08:29.997Z"
   },
   {
    "duration": 47,
    "start_time": "2021-06-10T09:08:30.629Z"
   },
   {
    "duration": 24,
    "start_time": "2021-06-10T09:08:31.525Z"
   },
   {
    "duration": 101,
    "start_time": "2021-06-10T09:08:32.354Z"
   },
   {
    "duration": 41,
    "start_time": "2021-06-10T09:08:32.596Z"
   },
   {
    "duration": 190,
    "start_time": "2021-06-10T09:08:32.697Z"
   },
   {
    "duration": 91,
    "start_time": "2021-06-10T09:08:33.847Z"
   },
   {
    "duration": 42,
    "start_time": "2021-06-10T09:08:34.023Z"
   },
   {
    "duration": 196,
    "start_time": "2021-06-10T09:08:34.251Z"
   },
   {
    "duration": 8,
    "start_time": "2021-06-10T09:09:38.075Z"
   },
   {
    "duration": 999,
    "start_time": "2021-06-10T09:09:38.785Z"
   },
   {
    "duration": 1044,
    "start_time": "2021-06-10T09:09:39.951Z"
   },
   {
    "duration": 1104,
    "start_time": "2021-06-10T09:09:40.998Z"
   },
   {
    "duration": 7,
    "start_time": "2021-06-10T09:11:46.436Z"
   },
   {
    "duration": 7,
    "start_time": "2021-06-10T09:11:47.093Z"
   },
   {
    "duration": 7,
    "start_time": "2021-06-10T09:11:47.341Z"
   },
   {
    "duration": 1059,
    "start_time": "2021-06-10T09:11:47.745Z"
   },
   {
    "duration": 564,
    "start_time": "2021-06-10T09:11:48.807Z"
   },
   {
    "duration": 10,
    "start_time": "2021-06-10T09:11:50.205Z"
   },
   {
    "duration": 8,
    "start_time": "2021-06-10T09:11:50.932Z"
   },
   {
    "duration": 8,
    "start_time": "2021-06-10T09:11:51.317Z"
   },
   {
    "duration": 7,
    "start_time": "2021-06-10T09:11:51.684Z"
   },
   {
    "duration": 4,
    "start_time": "2021-06-10T09:12:19.736Z"
   },
   {
    "duration": 6,
    "start_time": "2021-06-10T09:12:19.957Z"
   },
   {
    "duration": 13,
    "start_time": "2021-06-10T09:12:52.762Z"
   },
   {
    "duration": 19,
    "start_time": "2021-06-10T09:12:53.614Z"
   },
   {
    "duration": 8,
    "start_time": "2021-06-10T09:12:54.318Z"
   },
   {
    "duration": 4,
    "start_time": "2021-06-10T09:13:10.349Z"
   },
   {
    "duration": 7062,
    "start_time": "2021-06-10T09:13:10.603Z"
   },
   {
    "duration": 84,
    "start_time": "2021-06-10T09:13:17.669Z"
   },
   {
    "duration": 263520,
    "start_time": "2021-06-10T09:13:24.508Z"
   },
   {
    "duration": 40,
    "start_time": "2021-06-10T09:17:48.030Z"
   },
   {
    "duration": 784875,
    "start_time": "2021-06-10T09:17:48.074Z"
   },
   {
    "duration": 17,
    "start_time": "2021-06-10T09:30:52.955Z"
   },
   {
    "duration": 17433,
    "start_time": "2021-06-10T09:30:52.974Z"
   },
   {
    "duration": 9,
    "start_time": "2021-06-10T09:31:10.410Z"
   },
   {
    "duration": 10,
    "start_time": "2021-06-10T09:31:10.421Z"
   },
   {
    "duration": 20,
    "start_time": "2021-06-10T09:31:10.434Z"
   },
   {
    "duration": 16,
    "start_time": "2021-06-10T09:31:10.457Z"
   },
   {
    "duration": 15,
    "start_time": "2021-06-10T09:31:10.476Z"
   }
  ],
  "kernelspec": {
   "display_name": "Python 3",
   "language": "python",
   "name": "python3"
  },
  "language_info": {
   "codemirror_mode": {
    "name": "ipython",
    "version": 3
   },
   "file_extension": ".py",
   "mimetype": "text/x-python",
   "name": "python",
   "nbconvert_exporter": "python",
   "pygments_lexer": "ipython3",
   "version": "3.8.5"
  },
  "toc": {
   "base_numbering": 1,
   "nav_menu": {},
   "number_sections": true,
   "sideBar": true,
   "skip_h1_title": true,
   "title_cell": "Содержание",
   "title_sidebar": "Contents",
   "toc_cell": true,
   "toc_position": {},
   "toc_section_display": true,
   "toc_window_display": true
  }
 },
 "nbformat": 4,
 "nbformat_minor": 2
}
