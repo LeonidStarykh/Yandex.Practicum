{
 "cells": [
  {
   "cell_type": "markdown",
   "metadata": {},
   "source": [
    "# 09. Линейная алгебра"
   ]
  },
  {
   "cell_type": "markdown",
   "metadata": {},
   "source": [
    "# Защита персональных данных клиентов"
   ]
  },
  {
   "cell_type": "markdown",
   "metadata": {},
   "source": [
    "Нам необходимо **защитить данные клиентов** страховой компании «Хоть потоп». Разработаем такой метод преобразования данных, чтобы по ним было сложно восстановить персональную информацию. После этого обоснуем корректность его работы.\n",
    "\n",
    "Нужно защитить данные, чтобы при преобразовании качество моделей машинного обучения не ухудшилось. Подбирать наилучшую модель не требуется."
   ]
  },
  {
   "cell_type": "markdown",
   "metadata": {
    "toc": true
   },
   "source": [
    "<h1>Содержание<span class=\"tocSkip\"></span></h1>\n",
    "<div class=\"toc\"><ul class=\"toc-item\"><li><span><a href=\"#Загрузка-данных\" data-toc-modified-id=\"Загрузка-данных-1\"><span class=\"toc-item-num\">1&nbsp;&nbsp;</span>Загрузка данных</a></span></li><li><span><a href=\"#Умножение-матриц\" data-toc-modified-id=\"Умножение-матриц-2\"><span class=\"toc-item-num\">2&nbsp;&nbsp;</span>Умножение матриц</a></span></li><li><span><a href=\"#Алгоритм-преобразования\" data-toc-modified-id=\"Алгоритм-преобразования-3\"><span class=\"toc-item-num\">3&nbsp;&nbsp;</span>Алгоритм преобразования</a></span></li><li><span><a href=\"#Проверка-алгоритма\" data-toc-modified-id=\"Проверка-алгоритма-4\"><span class=\"toc-item-num\">4&nbsp;&nbsp;</span>Проверка алгоритма</a></span></li><li><span><a href=\"#Чек-лист-проверки\" data-toc-modified-id=\"Чек-лист-проверки-5\"><span class=\"toc-item-num\">5&nbsp;&nbsp;</span>Чек-лист проверки</a></span></li></ul></div>"
   ]
  },
  {
   "cell_type": "markdown",
   "metadata": {},
   "source": [
    "## Загрузка данных"
   ]
  },
  {
   "cell_type": "code",
   "execution_count": 1,
   "metadata": {},
   "outputs": [],
   "source": [
    "import pandas as pd\n",
    "import numpy as np\n",
    "from sklearn.metrics import r2_score\n",
    "from sklearn.linear_model import LinearRegression"
   ]
  },
  {
   "cell_type": "code",
   "execution_count": 2,
   "metadata": {},
   "outputs": [],
   "source": [
    "df = pd.read_csv('insurance.csv')"
   ]
  },
  {
   "cell_type": "markdown",
   "metadata": {},
   "source": [
    "Загрузили данные. Посмотрим, что они из себя представляют."
   ]
  },
  {
   "cell_type": "code",
   "execution_count": 3,
   "metadata": {},
   "outputs": [
    {
     "data": {
      "text/html": [
       "<div>\n",
       "<style scoped>\n",
       "    .dataframe tbody tr th:only-of-type {\n",
       "        vertical-align: middle;\n",
       "    }\n",
       "\n",
       "    .dataframe tbody tr th {\n",
       "        vertical-align: top;\n",
       "    }\n",
       "\n",
       "    .dataframe thead th {\n",
       "        text-align: right;\n",
       "    }\n",
       "</style>\n",
       "<table border=\"1\" class=\"dataframe\">\n",
       "  <thead>\n",
       "    <tr style=\"text-align: right;\">\n",
       "      <th></th>\n",
       "      <th>Пол</th>\n",
       "      <th>Возраст</th>\n",
       "      <th>Зарплата</th>\n",
       "      <th>Члены семьи</th>\n",
       "      <th>Страховые выплаты</th>\n",
       "    </tr>\n",
       "  </thead>\n",
       "  <tbody>\n",
       "    <tr>\n",
       "      <th>0</th>\n",
       "      <td>1</td>\n",
       "      <td>41.0</td>\n",
       "      <td>49600.0</td>\n",
       "      <td>1</td>\n",
       "      <td>0</td>\n",
       "    </tr>\n",
       "    <tr>\n",
       "      <th>1</th>\n",
       "      <td>0</td>\n",
       "      <td>46.0</td>\n",
       "      <td>38000.0</td>\n",
       "      <td>1</td>\n",
       "      <td>1</td>\n",
       "    </tr>\n",
       "    <tr>\n",
       "      <th>2</th>\n",
       "      <td>0</td>\n",
       "      <td>29.0</td>\n",
       "      <td>21000.0</td>\n",
       "      <td>0</td>\n",
       "      <td>0</td>\n",
       "    </tr>\n",
       "    <tr>\n",
       "      <th>3</th>\n",
       "      <td>0</td>\n",
       "      <td>21.0</td>\n",
       "      <td>41700.0</td>\n",
       "      <td>2</td>\n",
       "      <td>0</td>\n",
       "    </tr>\n",
       "    <tr>\n",
       "      <th>4</th>\n",
       "      <td>1</td>\n",
       "      <td>28.0</td>\n",
       "      <td>26100.0</td>\n",
       "      <td>0</td>\n",
       "      <td>0</td>\n",
       "    </tr>\n",
       "  </tbody>\n",
       "</table>\n",
       "</div>"
      ],
      "text/plain": [
       "   Пол  Возраст  Зарплата  Члены семьи  Страховые выплаты\n",
       "0    1     41.0   49600.0            1                  0\n",
       "1    0     46.0   38000.0            1                  1\n",
       "2    0     29.0   21000.0            0                  0\n",
       "3    0     21.0   41700.0            2                  0\n",
       "4    1     28.0   26100.0            0                  0"
      ]
     },
     "execution_count": 3,
     "metadata": {},
     "output_type": "execute_result"
    }
   ],
   "source": [
    "df.head()"
   ]
  },
  {
   "cell_type": "markdown",
   "metadata": {},
   "source": [
    "Таблица содержит:\n",
    "1. **Признаки:** пол, возраст, зарплата застрахованного и количество членов его семьи.\n",
    "2. **Целевой признак:** количество страховых выплат клиенту за последние 5 лет."
   ]
  },
  {
   "cell_type": "code",
   "execution_count": 4,
   "metadata": {},
   "outputs": [
    {
     "name": "stdout",
     "output_type": "stream",
     "text": [
      "<class 'pandas.core.frame.DataFrame'>\n",
      "RangeIndex: 5000 entries, 0 to 4999\n",
      "Data columns (total 5 columns):\n",
      " #   Column             Non-Null Count  Dtype  \n",
      "---  ------             --------------  -----  \n",
      " 0   Пол                5000 non-null   int64  \n",
      " 1   Возраст            5000 non-null   float64\n",
      " 2   Зарплата           5000 non-null   float64\n",
      " 3   Члены семьи        5000 non-null   int64  \n",
      " 4   Страховые выплаты  5000 non-null   int64  \n",
      "dtypes: float64(2), int64(3)\n",
      "memory usage: 195.4 KB\n"
     ]
    }
   ],
   "source": [
    "df.info()"
   ]
  },
  {
   "cell_type": "code",
   "execution_count": 5,
   "metadata": {},
   "outputs": [
    {
     "data": {
      "text/html": [
       "<div>\n",
       "<style scoped>\n",
       "    .dataframe tbody tr th:only-of-type {\n",
       "        vertical-align: middle;\n",
       "    }\n",
       "\n",
       "    .dataframe tbody tr th {\n",
       "        vertical-align: top;\n",
       "    }\n",
       "\n",
       "    .dataframe thead th {\n",
       "        text-align: right;\n",
       "    }\n",
       "</style>\n",
       "<table border=\"1\" class=\"dataframe\">\n",
       "  <thead>\n",
       "    <tr style=\"text-align: right;\">\n",
       "      <th></th>\n",
       "      <th>count</th>\n",
       "      <th>mean</th>\n",
       "      <th>std</th>\n",
       "      <th>min</th>\n",
       "      <th>25%</th>\n",
       "      <th>50%</th>\n",
       "      <th>75%</th>\n",
       "      <th>max</th>\n",
       "    </tr>\n",
       "  </thead>\n",
       "  <tbody>\n",
       "    <tr>\n",
       "      <th>Пол</th>\n",
       "      <td>5000.0</td>\n",
       "      <td>0.4990</td>\n",
       "      <td>0.500049</td>\n",
       "      <td>0.0</td>\n",
       "      <td>0.0</td>\n",
       "      <td>0.0</td>\n",
       "      <td>1.0</td>\n",
       "      <td>1.0</td>\n",
       "    </tr>\n",
       "    <tr>\n",
       "      <th>Возраст</th>\n",
       "      <td>5000.0</td>\n",
       "      <td>30.9528</td>\n",
       "      <td>8.440807</td>\n",
       "      <td>18.0</td>\n",
       "      <td>24.0</td>\n",
       "      <td>30.0</td>\n",
       "      <td>37.0</td>\n",
       "      <td>65.0</td>\n",
       "    </tr>\n",
       "    <tr>\n",
       "      <th>Зарплата</th>\n",
       "      <td>5000.0</td>\n",
       "      <td>39916.3600</td>\n",
       "      <td>9900.083569</td>\n",
       "      <td>5300.0</td>\n",
       "      <td>33300.0</td>\n",
       "      <td>40200.0</td>\n",
       "      <td>46600.0</td>\n",
       "      <td>79000.0</td>\n",
       "    </tr>\n",
       "    <tr>\n",
       "      <th>Члены семьи</th>\n",
       "      <td>5000.0</td>\n",
       "      <td>1.1942</td>\n",
       "      <td>1.091387</td>\n",
       "      <td>0.0</td>\n",
       "      <td>0.0</td>\n",
       "      <td>1.0</td>\n",
       "      <td>2.0</td>\n",
       "      <td>6.0</td>\n",
       "    </tr>\n",
       "    <tr>\n",
       "      <th>Страховые выплаты</th>\n",
       "      <td>5000.0</td>\n",
       "      <td>0.1480</td>\n",
       "      <td>0.463183</td>\n",
       "      <td>0.0</td>\n",
       "      <td>0.0</td>\n",
       "      <td>0.0</td>\n",
       "      <td>0.0</td>\n",
       "      <td>5.0</td>\n",
       "    </tr>\n",
       "  </tbody>\n",
       "</table>\n",
       "</div>"
      ],
      "text/plain": [
       "                    count        mean          std     min      25%      50%  \\\n",
       "Пол                5000.0      0.4990     0.500049     0.0      0.0      0.0   \n",
       "Возраст            5000.0     30.9528     8.440807    18.0     24.0     30.0   \n",
       "Зарплата           5000.0  39916.3600  9900.083569  5300.0  33300.0  40200.0   \n",
       "Члены семьи        5000.0      1.1942     1.091387     0.0      0.0      1.0   \n",
       "Страховые выплаты  5000.0      0.1480     0.463183     0.0      0.0      0.0   \n",
       "\n",
       "                       75%      max  \n",
       "Пол                    1.0      1.0  \n",
       "Возраст               37.0     65.0  \n",
       "Зарплата           46600.0  79000.0  \n",
       "Члены семьи            2.0      6.0  \n",
       "Страховые выплаты      0.0      5.0  "
      ]
     },
     "execution_count": 5,
     "metadata": {},
     "output_type": "execute_result"
    }
   ],
   "source": [
    "df.describe().T"
   ]
  },
  {
   "cell_type": "markdown",
   "metadata": {},
   "source": [
    "Видим, что датафрейм содержит 5000 объектов и 5 признаков. Пропущенных значений нет. На данном этапе можем утверждать, что данные корректные, значения для каждого из признаков не противоречат здравому смыслу.\n",
    "\n",
    "С другой стороны, необходимо отметить, что потребуются следующие преобразования:\n",
    "- названия признаков задать латинскими буквами и перевести в нижний регистр;\n",
    "- преобразовать типы данных признаков `Возраст` и `Зарплата` в целочисленный;\n",
    "- проверить датафрейм на предмет наличия повторяющихся значений."
   ]
  },
  {
   "cell_type": "markdown",
   "metadata": {},
   "source": [
    "Произведем эти преобразования."
   ]
  },
  {
   "cell_type": "code",
   "execution_count": 6,
   "metadata": {},
   "outputs": [],
   "source": [
    "df.columns = ['gender', 'age', 'salary', 'family_members', 'insurance_benefits']"
   ]
  },
  {
   "cell_type": "code",
   "execution_count": 7,
   "metadata": {},
   "outputs": [],
   "source": [
    "df[['age', 'salary']] = df[['age', 'salary']].astype('int')"
   ]
  },
  {
   "cell_type": "markdown",
   "metadata": {},
   "source": [
    "Последним действием будем проверка повторяющихся значений."
   ]
  },
  {
   "cell_type": "code",
   "execution_count": 8,
   "metadata": {},
   "outputs": [
    {
     "data": {
      "text/plain": [
       "153"
      ]
     },
     "execution_count": 8,
     "metadata": {},
     "output_type": "execute_result"
    }
   ],
   "source": [
    "df.duplicated().sum()"
   ]
  },
  {
   "cell_type": "markdown",
   "metadata": {},
   "source": [
    "Получили 153 повторяющихся объектов, которые необходимо убрать из рассматриваемого датафрейма."
   ]
  },
  {
   "cell_type": "code",
   "execution_count": 9,
   "metadata": {},
   "outputs": [],
   "source": [
    "df = df.drop_duplicates().reset_index(drop=True)"
   ]
  },
  {
   "cell_type": "markdown",
   "metadata": {},
   "source": [
    "Проверим результаты совершенных преобразований."
   ]
  },
  {
   "cell_type": "code",
   "execution_count": 10,
   "metadata": {},
   "outputs": [
    {
     "name": "stdout",
     "output_type": "stream",
     "text": [
      "<class 'pandas.core.frame.DataFrame'>\n",
      "RangeIndex: 4847 entries, 0 to 4846\n",
      "Data columns (total 5 columns):\n",
      " #   Column              Non-Null Count  Dtype\n",
      "---  ------              --------------  -----\n",
      " 0   gender              4847 non-null   int64\n",
      " 1   age                 4847 non-null   int32\n",
      " 2   salary              4847 non-null   int32\n",
      " 3   family_members      4847 non-null   int64\n",
      " 4   insurance_benefits  4847 non-null   int64\n",
      "dtypes: int32(2), int64(3)\n",
      "memory usage: 151.6 KB\n"
     ]
    }
   ],
   "source": [
    "df.info()"
   ]
  },
  {
   "cell_type": "markdown",
   "metadata": {},
   "source": [
    "**Вывод**\n",
    "\n",
    "Загрузили и изучили данные:\n",
    "- выполнили преобразование типов данных;\n",
    "- изменили названия признаков на латинские наименования в нижнем регистре;\n",
    "- проверили пропущенные значения и избавились от повторяющихся объектов."
   ]
  },
  {
   "cell_type": "markdown",
   "metadata": {},
   "source": [
    "## Умножение матриц"
   ]
  },
  {
   "cell_type": "markdown",
   "metadata": {},
   "source": [
    "По условию задачи, от нас требуется ответ на вопрос: `Как изменится качество линейной регрессии, если матрицу признаков умножить на обратимую матрицу?`.\n"
   ]
  },
  {
   "cell_type": "markdown",
   "metadata": {},
   "source": [
    "Обозначения:\n",
    "\n",
    "- $X$ — матрица признаков (нулевой столбец состоит из единиц)\n",
    "\n",
    "- $y$ — вектор целевого признака\n",
    "\n",
    "- $P$ — матрица, на которую умножаются признаки\n",
    "\n",
    "- $w$ — вектор весов линейной регрессии (нулевой элемент равен сдвигу)"
   ]
  },
  {
   "cell_type": "markdown",
   "metadata": {},
   "source": [
    "Также нам потребуются свойства обратных матриц и транспонированных матриц. Для матриц $A$ и $B$ справедливо:\n",
    "\n",
    "$$\n",
    "(A B)^{-1} = B^{-1} A^{-1} \\ \\ \\ \\ \\ \\ (свойство\\ 1)\n",
    "$$\n",
    "\n",
    "$$\n",
    "(A B)^T = B^T A^T \\ \\ \\ \\ \\ \\ \\ \\ \\ \\ \\ (свойство\\ 2)\n",
    "$$\n",
    "\n",
    "$$\n",
    "(A^T)^{-1} = (A^{-1})^T \\ \\ \\ \\ \\ \\ \\ \\ \\ (свойство\\ 3)\n",
    "$$\n",
    "\n",
    "$$\n",
    "(A^{-1})^{-1} = A \\ \\ \\ \\ \\ \\ \\ \\ \\ \\ \\ \\ \\ \\ \\ (свойство\\ 4)\n",
    "$$"
   ]
  },
  {
   "cell_type": "markdown",
   "metadata": {},
   "source": [
    "Формула предсказаний выглядит следующим образом:\n",
    "\n",
    "$$\n",
    "a = Xw\n",
    "$$\n",
    "\n",
    "Задача обучения линейной регрессией заключается в нахождении такого значения вектора весов $w$, при котором средняя квадратичная ошибка между предсказанными значениями и действительными **наименьшая**:\n",
    "\n",
    "$$\n",
    "w = \\arg\\min_w MSE(Xw, y)\n",
    "$$\n",
    "\n",
    "Минимальное значение $MSE$ получается, когда веса равны этой величине::\n",
    "\n",
    "$$\n",
    "w = (X^T X)^{-1} X^T y\n",
    "$$"
   ]
  },
  {
   "cell_type": "markdown",
   "metadata": {},
   "source": [
    "Подытожим, от нас **требуется нахождение величины $a_{new}=X_{new}w_{new}$ и ее сравнение с величиной $a$.**"
   ]
  },
  {
   "cell_type": "markdown",
   "metadata": {},
   "source": [
    "Поскольку матрица признаков $X$ умножается на обратимую матрицу $P$, то $X_{new}=XP$"
   ]
  },
  {
   "cell_type": "markdown",
   "metadata": {},
   "source": [
    "Теперь найдем значение $w_{new}$. Для этого в формулы для нахождения $w$ подставим вместо $X$ выражение $XP$."
   ]
  },
  {
   "cell_type": "markdown",
   "metadata": {},
   "source": [
    "$$\n",
    "w_{new} = ((XP)^T (XP))^{-1} (XP)^T y\n",
    "$$"
   ]
  },
  {
   "cell_type": "markdown",
   "metadata": {},
   "source": [
    "Начнем преобразование правой части данного равенства. Используя свойство 2 получим:\n",
    "\n",
    "$$\n",
    "w_{new} = (P^T X^T X P)^{-1} (XP)^T y\n",
    "$$"
   ]
  },
  {
   "cell_type": "markdown",
   "metadata": {},
   "source": [
    "Первую скобку раскроем, используя свойство 1 (предварительно сгруппировав $X^T X$), а для второй скобки применим свойство 2.\n",
    "\n",
    "$$\n",
    "w_{new} = P^{-1} (X^T X)^{-1} (P^T)^{-1} P^T X^T y\n",
    "$$"
   ]
  },
  {
   "cell_type": "markdown",
   "metadata": {},
   "source": [
    "К $(P^T)^{-1}$ применим свойство 3 и получим: $(P^{-1})^T$ "
   ]
  },
  {
   "cell_type": "markdown",
   "metadata": {},
   "source": [
    "Тогда $w_{new}$ запишется следующим образом:\n",
    "\n",
    "$$\n",
    "w_{new} = P^{-1} (X^T X)^{-1} (P^{-1})^T P^T X^T y\n",
    "$$"
   ]
  },
  {
   "cell_type": "markdown",
   "metadata": {},
   "source": [
    "Далее необходимо использовать свойство 2 к выражению $(P^{-1})^T P^T$. В результате получим:\n",
    "\n",
    "$$\n",
    "w_{new} = P^{-1} (X^T X)^{-1} (P P^{-1})^T X^T y\n",
    "$$"
   ]
  },
  {
   "cell_type": "markdown",
   "metadata": {},
   "source": [
    "Нам известно, что матрица $P$ - обратимая, значит для нее выполняется условие:\n",
    "\n",
    "$$\n",
    "PP^{-1}=P^{-1}P=E,\n",
    "$$\n",
    "где $E$ - единичная матрица.\n",
    "\n",
    "Также стоит отметить, что для единичной матрицы справедливо:\n",
    "\n",
    "$$\n",
    "E^T = E\n",
    "$$\n",
    "\n",
    "$$\n",
    "A E = E A = A\n",
    "$$"
   ]
  },
  {
   "cell_type": "markdown",
   "metadata": {},
   "source": [
    "Принимая во внимание вышеуказанные свойства получаем следующее выражение для вычисления вектора весов $w_{new}$:\n",
    "\n",
    "$$\n",
    "w_{new} = P^{-1} (X^T X)^{-1} X^T y,\n",
    "$$\n",
    "что равносильно\n",
    "$$\n",
    "w_{new} = P^{-1} w\n",
    "$$"
   ]
  },
  {
   "cell_type": "markdown",
   "metadata": {},
   "source": [
    "Мы нашли оба множителя для нахождения искомой величины $a_{new}$. Подставим их:\n",
    "\n",
    "$$\n",
    "a_{new} = X_{new}w_{new} = X P P^{-1} w = X w\n",
    "$$\n",
    "\n",
    "**В итоге получаем, что $a_{new} == a$**"
   ]
  },
  {
   "cell_type": "markdown",
   "metadata": {},
   "source": [
    "**Вывод**\n",
    "\n",
    "Произведя необходимые преобразования, мы можем сказать, что при умножении признаков на обратимую матрицу, **качество линейной регрессии не изменится**, что подтверждается приведенной нами вычислениями."
   ]
  },
  {
   "cell_type": "markdown",
   "metadata": {},
   "source": [
    "## Алгоритм преобразования"
   ]
  },
  {
   "cell_type": "markdown",
   "metadata": {},
   "source": [
    "Предложим свой алгоритм преобразования данных для решения задачи. "
   ]
  },
  {
   "cell_type": "markdown",
   "metadata": {},
   "source": [
    "**Алгоритм**\n",
    "\n",
    "Матрица признаков $X$ умножается справа на обратимую матрицу $P$, а затем, полученная матрица умножается справа на $Q^{-1}$, при условии что $P\\neq Q$."
   ]
  },
  {
   "cell_type": "markdown",
   "metadata": {},
   "source": [
    "Докажем, почему качество линейной регрессии не поменяется."
   ]
  },
  {
   "cell_type": "markdown",
   "metadata": {},
   "source": [
    "**Обоснование**\n",
    "\n",
    "Как и в предыдущем пункте, от нас требуется нахождение величины $a_{new}=X_{new}w_{new}$ и ее сравнение с величиной $a=X w$.\n",
    "\n",
    "По предложенному нами алгоритму, $X_{new} = X P Q^{-1}$"
   ]
  },
  {
   "cell_type": "markdown",
   "metadata": {},
   "source": [
    "Теперь найдем значение $w_{new}$. Для этого в формулы для нахождения $w$ подставим вместо $X$ выражение $X P Q^{-1}$."
   ]
  },
  {
   "cell_type": "markdown",
   "metadata": {},
   "source": [
    "$$\n",
    "w_{new} = ((X P Q^{-1})^T (X P Q^{-1}))^{-1} (X P Q^{-1})^T y\n",
    "$$"
   ]
  },
  {
   "cell_type": "markdown",
   "metadata": {},
   "source": [
    "**Пояснение:** дальнейшие преобразования будем производить аналогично п.2 (опираясь на свойства 1, 2, 3 и 4). Чтобы исключить дублирование пояснений, запишем преобразования одной строкой."
   ]
  },
  {
   "cell_type": "markdown",
   "metadata": {},
   "source": [
    "$$\n",
    "w_{new} = ((X P Q^{-1})^T (X P Q^{-1}))^{-1} (X P Q^{-1})^T y = (X P Q^{-1})^{-1} ((X P Q^{-1})^T)^{-1} (P Q^{-1})^T X^T y = \\\\\n",
    "= (P Q^{-1})^{-1} X^{-1} ((P Q^{-1})^T X^T)^{-1} (Q^{-1})^T P^T X^T y = (Q^{-1})^{-1} P^{-1} X^{-1} (X^T)^{-1} ((P Q^{-1})^T)^{-1} (Q^{-1})^T P^T X^T y = \\\\\n",
    "= Q P^{-1} (X^T X)^{-1} ((Q^{-1})^T P^T)^{-1} (Q^{-1})^T P^T X^T y = Q P^{-1} (X^T X)^{-1} (P^T)^{-1} ((Q^{-1})^T)^{-1} (Q^{-1})^T P^T X^T y = \\\\\n",
    "= Q P^{-1} (X^T X)^{-1} (P^T)^{-1} Q^T (Q^{-1})^T P^T X^T y = Q P^{-1} (X^T X)^{-1} (P^{-1})^T (Q^{-1} Q)^T P^T X^T y = \\\\\n",
    "= Q P^{-1} (X^T X)^{-1} (P^{-1})^T P^T X^T y = Q P^{-1} (X^T X)^{-1} (P P^{-1})^T X^T y = \\\\\n",
    "= Q P^{-1} (X^T X)^{-1} X^T y\n",
    "$$"
   ]
  },
  {
   "cell_type": "markdown",
   "metadata": {},
   "source": [
    "Вспомним, что $w = (X^T X)^{-1} X^T y$, получаем: $w_{new} = Q P^{-1} w$\n",
    "\n",
    "Тогда $$\n",
    "a_{new} = X_{new}w_{new} = X P Q^{-1} Q P^{-1} w = X P P^{-1} w = X w = a\n",
    "$$\n",
    "\n",
    "\n",
    "**Вывод:** \n",
    "\n",
    "Предложенный нами алгоритм преобразований **не влияет на качество линейной регрессии**, можем применять его на практике."
   ]
  },
  {
   "cell_type": "markdown",
   "metadata": {},
   "source": [
    "## Проверка алгоритма"
   ]
  },
  {
   "cell_type": "markdown",
   "metadata": {},
   "source": [
    "Проверим предложенный нами в предыдущем пункте алгоритм преобразований данных."
   ]
  },
  {
   "cell_type": "markdown",
   "metadata": {},
   "source": [
    "Для начала построим модель линейной регрессии до преобразований и вычислим ее качество метрикой $R^2$. Преждем чем обучать модель, выделим целевой признак из входных данных."
   ]
  },
  {
   "cell_type": "code",
   "execution_count": 11,
   "metadata": {},
   "outputs": [],
   "source": [
    "features = df.drop('insurance_benefits', axis=1)\n",
    "target = df['insurance_benefits']"
   ]
  },
  {
   "cell_type": "code",
   "execution_count": 12,
   "metadata": {},
   "outputs": [],
   "source": [
    "model = LinearRegression()\n",
    "model.fit(features, target)\n",
    "predictions_before = model.predict(features)"
   ]
  },
  {
   "cell_type": "code",
   "execution_count": 13,
   "metadata": {},
   "outputs": [
    {
     "data": {
      "text/plain": [
       "0.4302010046633359"
      ]
     },
     "execution_count": 13,
     "metadata": {},
     "output_type": "execute_result"
    }
   ],
   "source": [
    "R2_before = r2_score(target, predictions_before)\n",
    "R2_before"
   ]
  },
  {
   "cell_type": "markdown",
   "metadata": {},
   "source": [
    "Получили значение метрики $R^2 = 0.4302$. Теперь можем провести преобразования с исходными данными."
   ]
  },
  {
   "cell_type": "markdown",
   "metadata": {},
   "source": [
    "Для реализации алгоритма нам требуется 2 обратимые матрицы $P$ и $Q$. Поскольку в исходных данных 4 признака (`gender`, `age`, `salary`, `family_members`), следовательно требуется подобрать обратимые матрицы размерностью 4x4."
   ]
  },
  {
   "cell_type": "code",
   "execution_count": 14,
   "metadata": {},
   "outputs": [
    {
     "data": {
      "text/plain": [
       "array([[0.06223423, 0.19809339, 0.30912551, 0.29555874],\n",
       "       [0.98458985, 0.46836129, 0.38637345, 0.69880467],\n",
       "       [0.02622681, 0.38545033, 0.40604704, 0.368657  ],\n",
       "       [0.72085377, 0.46989122, 0.70073683, 0.11630212]])"
      ]
     },
     "execution_count": 14,
     "metadata": {},
     "output_type": "execute_result"
    }
   ],
   "source": [
    "P = np.random.rand(4,4)\n",
    "P"
   ]
  },
  {
   "cell_type": "code",
   "execution_count": 15,
   "metadata": {},
   "outputs": [
    {
     "data": {
      "text/plain": [
       "array([[0.63953747, 0.03592867, 0.8746899 , 0.63599093],\n",
       "       [0.07911947, 0.45876554, 0.94547697, 0.38755717],\n",
       "       [0.83821243, 0.22652918, 0.78525108, 0.19305442],\n",
       "       [0.53224482, 0.79132025, 0.64501737, 0.58806887]])"
      ]
     },
     "execution_count": 15,
     "metadata": {},
     "output_type": "execute_result"
    }
   ],
   "source": [
    "Q = np.random.rand(4,4)\n",
    "Q"
   ]
  },
  {
   "cell_type": "markdown",
   "metadata": {},
   "source": [
    "Проверим, есть ли у матриц $P$ и $Q$ обратные."
   ]
  },
  {
   "cell_type": "code",
   "execution_count": 16,
   "metadata": {},
   "outputs": [
    {
     "data": {
      "text/plain": [
       "array([[-2.07074610e-01,  7.17327755e-01, -1.34331437e+00,\n",
       "         4.74221490e-01],\n",
       "       [-1.00324801e+01,  4.37917344e-01,  7.21134486e+00,\n",
       "         5.63795092e-03],\n",
       "       [ 6.35964625e+00, -1.15897797e+00, -3.26541547e+00,\n",
       "         1.15276042e+00],\n",
       "       [ 3.49956226e+00,  7.67626745e-01, -1.13512588e+00,\n",
       "        -1.30930763e+00]])"
      ]
     },
     "execution_count": 16,
     "metadata": {},
     "output_type": "execute_result"
    }
   ],
   "source": [
    "P_inv = np.linalg.inv(P)\n",
    "P_inv"
   ]
  },
  {
   "cell_type": "code",
   "execution_count": 17,
   "metadata": {},
   "outputs": [
    {
     "data": {
      "text/plain": [
       "array([[ 0.04634739, -1.15205445,  1.03104858,  0.37064019],\n",
       "       [-1.2432355 ,  0.20060946,  0.2019074 ,  1.14605582],\n",
       "       [-0.12569799,  1.34444362,  0.56256   , -0.93477261],\n",
       "       [ 1.76885177, -0.70189192, -1.82190337,  0.84815927]])"
      ]
     },
     "execution_count": 17,
     "metadata": {},
     "output_type": "execute_result"
    }
   ],
   "source": [
    "Q_inv = np.linalg.inv(Q)\n",
    "Q_inv"
   ]
  },
  {
   "cell_type": "markdown",
   "metadata": {},
   "source": [
    "Обратные матрицы $P^{-1}$ и $Q^{-1}$ существуют, значит матрицы $P$ и $Q$ являются обратимыми, а это удовлетворяет условиям, заданным в нашем алгоритме."
   ]
  },
  {
   "cell_type": "markdown",
   "metadata": {},
   "source": [
    "Преобразуем исходные признаки."
   ]
  },
  {
   "cell_type": "code",
   "execution_count": 18,
   "metadata": {},
   "outputs": [],
   "source": [
    "# алгоритм преобразования исходных объектов\n",
    "features_new =  pd.DataFrame(features.values.dot(P).dot(Q_inv))"
   ]
  },
  {
   "cell_type": "markdown",
   "metadata": {},
   "source": [
    "Убедимся, что внешний вид исходных данных поменялся."
   ]
  },
  {
   "cell_type": "code",
   "execution_count": 19,
   "metadata": {},
   "outputs": [
    {
     "data": {
      "text/html": [
       "<div>\n",
       "<style scoped>\n",
       "    .dataframe tbody tr th:only-of-type {\n",
       "        vertical-align: middle;\n",
       "    }\n",
       "\n",
       "    .dataframe tbody tr th {\n",
       "        vertical-align: top;\n",
       "    }\n",
       "\n",
       "    .dataframe thead th {\n",
       "        text-align: right;\n",
       "    }\n",
       "</style>\n",
       "<table border=\"1\" class=\"dataframe\">\n",
       "  <thead>\n",
       "    <tr style=\"text-align: right;\">\n",
       "      <th></th>\n",
       "      <th>0</th>\n",
       "      <th>1</th>\n",
       "      <th>2</th>\n",
       "      <th>3</th>\n",
       "    </tr>\n",
       "  </thead>\n",
       "  <tbody>\n",
       "    <tr>\n",
       "      <th>0</th>\n",
       "      <td>6130.779640</td>\n",
       "      <td>16538.142621</td>\n",
       "      <td>-16779.943569</td>\n",
       "      <td>19122.413835</td>\n",
       "    </tr>\n",
       "    <tr>\n",
       "      <th>1</th>\n",
       "      <td>4706.177967</td>\n",
       "      <td>12655.490674</td>\n",
       "      <td>-12854.377011</td>\n",
       "      <td>14666.664700</td>\n",
       "    </tr>\n",
       "    <tr>\n",
       "      <th>2</th>\n",
       "      <td>2603.351338</td>\n",
       "      <td>6990.135472</td>\n",
       "      <td>-7104.105573</td>\n",
       "      <td>8109.180039</td>\n",
       "    </tr>\n",
       "    <tr>\n",
       "      <th>3</th>\n",
       "      <td>5144.833299</td>\n",
       "      <td>13917.662155</td>\n",
       "      <td>-14106.656113</td>\n",
       "      <td>16061.553497</td>\n",
       "    </tr>\n",
       "    <tr>\n",
       "      <th>4</th>\n",
       "      <td>3230.599540</td>\n",
       "      <td>8696.050310</td>\n",
       "      <td>-8830.082515</td>\n",
       "      <td>10069.649794</td>\n",
       "    </tr>\n",
       "  </tbody>\n",
       "</table>\n",
       "</div>"
      ],
      "text/plain": [
       "             0             1             2             3\n",
       "0  6130.779640  16538.142621 -16779.943569  19122.413835\n",
       "1  4706.177967  12655.490674 -12854.377011  14666.664700\n",
       "2  2603.351338   6990.135472  -7104.105573   8109.180039\n",
       "3  5144.833299  13917.662155 -14106.656113  16061.553497\n",
       "4  3230.599540   8696.050310  -8830.082515  10069.649794"
      ]
     },
     "execution_count": 19,
     "metadata": {},
     "output_type": "execute_result"
    }
   ],
   "source": [
    "features_new.head()"
   ]
  },
  {
   "cell_type": "markdown",
   "metadata": {},
   "source": [
    "Наконец, обучим модель, найдем предсказания модели и рассчитаем метрику $R^2$."
   ]
  },
  {
   "cell_type": "code",
   "execution_count": 20,
   "metadata": {},
   "outputs": [],
   "source": [
    "model = LinearRegression()\n",
    "model.fit(features_new, target)\n",
    "predictions_after = model.predict(features_new)"
   ]
  },
  {
   "cell_type": "code",
   "execution_count": 21,
   "metadata": {},
   "outputs": [
    {
     "data": {
      "text/plain": [
       "0.43020100466330735"
      ]
     },
     "execution_count": 21,
     "metadata": {},
     "output_type": "execute_result"
    }
   ],
   "source": [
    "R2_after = r2_score(target, predictions_after)\n",
    "R2_after"
   ]
  },
  {
   "cell_type": "markdown",
   "metadata": {},
   "source": [
    "**Вывод**\n",
    "\n",
    "Получили $R^2 = 0.4302$, следовательно качество линейной регрессии не отличается до и после преобразования объектов. Цель проекта достигнута - нам удалось \"спрятать\" персональные данные клиентов страховой компании и при этом, произведенные преобразования никак не сказываются на модели машинного обучения линейной регрессией."
   ]
  }
 ],
 "metadata": {
  "ExecuteTimeLog": [
   {
    "duration": 805,
    "start_time": "2021-06-18T18:30:49.847Z"
   },
   {
    "duration": 22,
    "start_time": "2021-06-18T18:31:04.901Z"
   },
   {
    "duration": 23,
    "start_time": "2021-06-18T18:31:10.399Z"
   },
   {
    "duration": 10,
    "start_time": "2021-06-18T18:39:01.103Z"
   },
   {
    "duration": 51,
    "start_time": "2021-06-18T18:39:09.567Z"
   },
   {
    "duration": 38,
    "start_time": "2021-06-18T18:39:15.327Z"
   },
   {
    "duration": 558,
    "start_time": "2021-06-19T18:00:46.256Z"
   },
   {
    "duration": 97,
    "start_time": "2021-06-19T18:00:46.816Z"
   },
   {
    "duration": 14,
    "start_time": "2021-06-19T18:00:47.041Z"
   },
   {
    "duration": 8,
    "start_time": "2021-06-19T18:00:47.472Z"
   },
   {
    "duration": 25,
    "start_time": "2021-06-19T18:00:49.097Z"
   },
   {
    "duration": 224,
    "start_time": "2021-06-19T18:01:39.417Z"
   },
   {
    "duration": 6,
    "start_time": "2021-06-19T18:01:42.825Z"
   },
   {
    "duration": 6,
    "start_time": "2021-06-19T18:02:10.545Z"
   },
   {
    "duration": 7,
    "start_time": "2021-06-19T18:04:37.853Z"
   },
   {
    "duration": 240,
    "start_time": "2021-06-19T18:04:51.081Z"
   },
   {
    "duration": 5,
    "start_time": "2021-06-19T18:12:58.132Z"
   },
   {
    "duration": 3,
    "start_time": "2021-06-19T18:15:12.944Z"
   },
   {
    "duration": 5,
    "start_time": "2021-06-19T18:15:20.035Z"
   },
   {
    "duration": 8,
    "start_time": "2021-06-19T18:15:26.883Z"
   },
   {
    "duration": 5,
    "start_time": "2021-06-19T18:16:23.552Z"
   },
   {
    "duration": 5,
    "start_time": "2021-06-19T18:17:09.744Z"
   },
   {
    "duration": 8,
    "start_time": "2021-06-19T18:17:17.724Z"
   },
   {
    "duration": 6,
    "start_time": "2021-06-19T18:18:08.379Z"
   },
   {
    "duration": 5,
    "start_time": "2021-06-19T18:23:37.552Z"
   },
   {
    "duration": 176,
    "start_time": "2021-06-19T19:02:17.700Z"
   },
   {
    "duration": 204,
    "start_time": "2021-06-19T19:02:24.164Z"
   },
   {
    "duration": 174,
    "start_time": "2021-06-19T19:02:51.064Z"
   },
   {
    "duration": 3,
    "start_time": "2021-06-19T19:03:32.312Z"
   },
   {
    "duration": 5,
    "start_time": "2021-06-19T19:03:45.735Z"
   },
   {
    "duration": 4,
    "start_time": "2021-06-19T19:05:38.591Z"
   },
   {
    "duration": 291,
    "start_time": "2021-06-19T19:05:39.380Z"
   },
   {
    "duration": 780,
    "start_time": "2021-06-20T08:45:46.369Z"
   },
   {
    "duration": 23,
    "start_time": "2021-06-20T08:45:47.151Z"
   },
   {
    "duration": 26,
    "start_time": "2021-06-20T08:45:47.177Z"
   },
   {
    "duration": 9,
    "start_time": "2021-06-20T08:45:47.206Z"
   },
   {
    "duration": 36,
    "start_time": "2021-06-20T08:45:47.217Z"
   },
   {
    "duration": 4,
    "start_time": "2021-06-20T08:45:47.256Z"
   },
   {
    "duration": 41,
    "start_time": "2021-06-20T08:45:47.262Z"
   },
   {
    "duration": 9,
    "start_time": "2021-06-20T08:45:47.306Z"
   },
   {
    "duration": 8,
    "start_time": "2021-06-20T08:46:02.823Z"
   },
   {
    "duration": 10,
    "start_time": "2021-06-20T08:46:49.489Z"
   },
   {
    "duration": 10,
    "start_time": "2021-06-20T08:47:12.446Z"
   },
   {
    "duration": 17,
    "start_time": "2021-06-20T08:47:17.710Z"
   },
   {
    "duration": 10,
    "start_time": "2021-06-20T08:47:32.982Z"
   },
   {
    "duration": 14,
    "start_time": "2021-06-20T08:47:40.142Z"
   },
   {
    "duration": 6,
    "start_time": "2021-06-20T08:48:01.639Z"
   },
   {
    "duration": 19,
    "start_time": "2021-06-20T08:48:29.194Z"
   },
   {
    "duration": 8,
    "start_time": "2021-06-20T08:50:26.426Z"
   },
   {
    "duration": 7,
    "start_time": "2021-06-20T08:52:17.150Z"
   },
   {
    "duration": 5,
    "start_time": "2021-06-20T08:52:23.442Z"
   },
   {
    "duration": 688,
    "start_time": "2021-06-20T08:55:41.853Z"
   },
   {
    "duration": 23,
    "start_time": "2021-06-20T08:55:42.543Z"
   },
   {
    "duration": 20,
    "start_time": "2021-06-20T08:55:42.569Z"
   },
   {
    "duration": 14,
    "start_time": "2021-06-20T08:55:42.592Z"
   },
   {
    "duration": 35,
    "start_time": "2021-06-20T08:55:42.608Z"
   },
   {
    "duration": 3,
    "start_time": "2021-06-20T08:55:42.646Z"
   },
   {
    "duration": 9,
    "start_time": "2021-06-20T08:55:42.652Z"
   },
   {
    "duration": 41,
    "start_time": "2021-06-20T08:55:42.664Z"
   },
   {
    "duration": 7,
    "start_time": "2021-06-20T08:55:42.708Z"
   },
   {
    "duration": 8,
    "start_time": "2021-06-20T08:55:42.718Z"
   },
   {
    "duration": 939,
    "start_time": "2021-06-20T16:04:34.573Z"
   },
   {
    "duration": 24,
    "start_time": "2021-06-20T16:04:35.516Z"
   },
   {
    "duration": 28,
    "start_time": "2021-06-20T16:04:35.544Z"
   },
   {
    "duration": 25,
    "start_time": "2021-06-20T16:04:35.576Z"
   },
   {
    "duration": 52,
    "start_time": "2021-06-20T16:04:35.604Z"
   },
   {
    "duration": 4,
    "start_time": "2021-06-20T16:04:35.659Z"
   },
   {
    "duration": 35,
    "start_time": "2021-06-20T16:04:35.666Z"
   },
   {
    "duration": 11,
    "start_time": "2021-06-20T16:04:35.706Z"
   },
   {
    "duration": 12,
    "start_time": "2021-06-20T16:04:35.720Z"
   },
   {
    "duration": 11,
    "start_time": "2021-06-20T16:04:35.735Z"
   },
   {
    "duration": 576,
    "start_time": "2021-06-20T16:50:56.776Z"
   },
   {
    "duration": 25,
    "start_time": "2021-06-20T17:02:37.772Z"
   },
   {
    "duration": 412,
    "start_time": "2021-06-20T17:05:02.212Z"
   },
   {
    "duration": 6,
    "start_time": "2021-06-20T17:05:07.179Z"
   },
   {
    "duration": 12,
    "start_time": "2021-06-20T17:06:08.655Z"
   },
   {
    "duration": 7,
    "start_time": "2021-06-20T17:06:25.916Z"
   },
   {
    "duration": 1261,
    "start_time": "2021-06-20T17:06:52.463Z"
   },
   {
    "duration": 21,
    "start_time": "2021-06-20T17:06:53.727Z"
   },
   {
    "duration": 20,
    "start_time": "2021-06-20T17:06:53.752Z"
   },
   {
    "duration": 10,
    "start_time": "2021-06-20T17:06:53.775Z"
   },
   {
    "duration": 37,
    "start_time": "2021-06-20T17:06:53.801Z"
   },
   {
    "duration": 4,
    "start_time": "2021-06-20T17:06:53.841Z"
   },
   {
    "duration": 11,
    "start_time": "2021-06-20T17:06:53.847Z"
   },
   {
    "duration": 9,
    "start_time": "2021-06-20T17:06:53.861Z"
   },
   {
    "duration": 9,
    "start_time": "2021-06-20T17:06:57.263Z"
   },
   {
    "duration": 5,
    "start_time": "2021-06-20T17:06:57.275Z"
   },
   {
    "duration": 20,
    "start_time": "2021-06-20T17:06:57.283Z"
   },
   {
    "duration": 96,
    "start_time": "2021-06-20T17:06:57.307Z"
   },
   {
    "duration": 1265,
    "start_time": "2021-06-20T17:07:12.934Z"
   },
   {
    "duration": 21,
    "start_time": "2021-06-20T17:07:14.202Z"
   },
   {
    "duration": 22,
    "start_time": "2021-06-20T17:07:14.227Z"
   },
   {
    "duration": 9,
    "start_time": "2021-06-20T17:07:14.252Z"
   },
   {
    "duration": 56,
    "start_time": "2021-06-20T17:07:14.264Z"
   },
   {
    "duration": 3,
    "start_time": "2021-06-20T17:07:14.323Z"
   },
   {
    "duration": 8,
    "start_time": "2021-06-20T17:07:14.329Z"
   },
   {
    "duration": 16,
    "start_time": "2021-06-20T17:07:14.339Z"
   },
   {
    "duration": 42,
    "start_time": "2021-06-20T17:07:14.359Z"
   },
   {
    "duration": 9,
    "start_time": "2021-06-20T17:07:14.403Z"
   },
   {
    "duration": 6,
    "start_time": "2021-06-20T17:07:14.415Z"
   },
   {
    "duration": 77,
    "start_time": "2021-06-20T17:07:14.424Z"
   },
   {
    "duration": 98,
    "start_time": "2021-06-20T17:07:14.504Z"
   },
   {
    "duration": 10,
    "start_time": "2021-06-20T17:27:07.510Z"
   },
   {
    "duration": 11,
    "start_time": "2021-06-20T17:29:18.586Z"
   },
   {
    "duration": 5,
    "start_time": "2021-06-20T17:29:28.630Z"
   },
   {
    "duration": 391,
    "start_time": "2021-06-20T17:29:54.102Z"
   },
   {
    "duration": 6,
    "start_time": "2021-06-20T17:30:03.038Z"
   },
   {
    "duration": 10,
    "start_time": "2021-06-20T17:30:59.113Z"
   },
   {
    "duration": 6,
    "start_time": "2021-06-20T17:31:30.274Z"
   },
   {
    "duration": 15,
    "start_time": "2021-06-20T17:31:48.318Z"
   },
   {
    "duration": 5,
    "start_time": "2021-06-20T17:32:26.822Z"
   },
   {
    "duration": 14,
    "start_time": "2021-06-20T17:32:33.466Z"
   },
   {
    "duration": 6,
    "start_time": "2021-06-20T17:33:42.094Z"
   },
   {
    "duration": 17,
    "start_time": "2021-06-20T17:33:42.922Z"
   },
   {
    "duration": 8,
    "start_time": "2021-06-20T17:33:43.631Z"
   },
   {
    "duration": 3,
    "start_time": "2021-06-20T17:33:45.018Z"
   },
   {
    "duration": 6,
    "start_time": "2021-06-20T17:33:45.426Z"
   },
   {
    "duration": 5,
    "start_time": "2021-06-20T17:33:49.282Z"
   },
   {
    "duration": 10,
    "start_time": "2021-06-20T17:33:50.914Z"
   },
   {
    "duration": 7,
    "start_time": "2021-06-20T17:33:51.742Z"
   },
   {
    "duration": 1293,
    "start_time": "2021-06-20T17:34:17.409Z"
   },
   {
    "duration": 22,
    "start_time": "2021-06-20T17:34:18.705Z"
   },
   {
    "duration": 22,
    "start_time": "2021-06-20T17:34:18.731Z"
   },
   {
    "duration": 9,
    "start_time": "2021-06-20T17:34:18.756Z"
   },
   {
    "duration": 62,
    "start_time": "2021-06-20T17:34:18.768Z"
   },
   {
    "duration": 4,
    "start_time": "2021-06-20T17:34:18.833Z"
   },
   {
    "duration": 13,
    "start_time": "2021-06-20T17:34:18.840Z"
   },
   {
    "duration": 13,
    "start_time": "2021-06-20T17:34:18.857Z"
   },
   {
    "duration": 30,
    "start_time": "2021-06-20T17:34:18.873Z"
   },
   {
    "duration": 8,
    "start_time": "2021-06-20T17:34:18.905Z"
   },
   {
    "duration": 11,
    "start_time": "2021-06-20T17:34:18.915Z"
   },
   {
    "duration": 76,
    "start_time": "2021-06-20T17:34:18.928Z"
   },
   {
    "duration": 98,
    "start_time": "2021-06-20T17:34:19.008Z"
   },
   {
    "duration": 3,
    "start_time": "2021-06-20T17:34:19.109Z"
   },
   {
    "duration": 6,
    "start_time": "2021-06-20T17:34:19.115Z"
   },
   {
    "duration": 8,
    "start_time": "2021-06-20T17:34:19.123Z"
   },
   {
    "duration": 169,
    "start_time": "2021-06-20T17:34:19.134Z"
   },
   {
    "duration": 98,
    "start_time": "2021-06-20T17:34:19.306Z"
   },
   {
    "duration": 5,
    "start_time": "2021-06-20T17:34:52.030Z"
   },
   {
    "duration": 15,
    "start_time": "2021-06-20T17:34:52.970Z"
   },
   {
    "duration": 7,
    "start_time": "2021-06-20T17:34:53.470Z"
   },
   {
    "duration": 4,
    "start_time": "2021-06-20T17:35:04.815Z"
   },
   {
    "duration": 10,
    "start_time": "2021-06-20T17:35:05.543Z"
   },
   {
    "duration": 8,
    "start_time": "2021-06-20T17:35:06.139Z"
   },
   {
    "duration": 7,
    "start_time": "2021-06-20T17:40:17.107Z"
   },
   {
    "duration": 7,
    "start_time": "2021-06-20T17:40:27.618Z"
   },
   {
    "duration": 8,
    "start_time": "2021-06-20T17:42:21.078Z"
   },
   {
    "duration": 8,
    "start_time": "2021-06-20T17:42:21.890Z"
   },
   {
    "duration": 11,
    "start_time": "2021-06-20T17:44:14.130Z"
   },
   {
    "duration": 10,
    "start_time": "2021-06-20T17:44:50.950Z"
   },
   {
    "duration": 1427,
    "start_time": "2021-06-20T17:53:16.468Z"
   },
   {
    "duration": 21,
    "start_time": "2021-06-20T17:53:17.899Z"
   },
   {
    "duration": 22,
    "start_time": "2021-06-20T17:53:17.923Z"
   },
   {
    "duration": 9,
    "start_time": "2021-06-20T17:53:17.948Z"
   },
   {
    "duration": 52,
    "start_time": "2021-06-20T17:53:17.959Z"
   },
   {
    "duration": 3,
    "start_time": "2021-06-20T17:53:18.014Z"
   },
   {
    "duration": 8,
    "start_time": "2021-06-20T17:53:18.020Z"
   },
   {
    "duration": 7,
    "start_time": "2021-06-20T17:53:18.032Z"
   },
   {
    "duration": 8,
    "start_time": "2021-06-20T17:53:18.041Z"
   },
   {
    "duration": 8,
    "start_time": "2021-06-20T17:53:18.051Z"
   },
   {
    "duration": 6,
    "start_time": "2021-06-20T17:53:18.101Z"
   },
   {
    "duration": 94,
    "start_time": "2021-06-20T17:53:18.110Z"
   },
   {
    "duration": 96,
    "start_time": "2021-06-20T17:53:18.207Z"
   },
   {
    "duration": 6,
    "start_time": "2021-06-20T17:53:18.305Z"
   },
   {
    "duration": 13,
    "start_time": "2021-06-20T17:53:18.313Z"
   },
   {
    "duration": 77,
    "start_time": "2021-06-20T17:53:18.330Z"
   },
   {
    "duration": 6,
    "start_time": "2021-06-20T17:53:18.410Z"
   },
   {
    "duration": 11,
    "start_time": "2021-06-20T17:53:18.500Z"
   },
   {
    "duration": 90,
    "start_time": "2021-06-20T17:53:18.515Z"
   },
   {
    "duration": 99,
    "start_time": "2021-06-20T17:53:18.609Z"
   }
  ],
  "kernelspec": {
   "display_name": "Python 3",
   "language": "python",
   "name": "python3"
  },
  "language_info": {
   "codemirror_mode": {
    "name": "ipython",
    "version": 3
   },
   "file_extension": ".py",
   "mimetype": "text/x-python",
   "name": "python",
   "nbconvert_exporter": "python",
   "pygments_lexer": "ipython3",
   "version": "3.8.5"
  },
  "toc": {
   "base_numbering": 1,
   "nav_menu": {},
   "number_sections": true,
   "sideBar": true,
   "skip_h1_title": true,
   "title_cell": "Содержание",
   "title_sidebar": "Contents",
   "toc_cell": true,
   "toc_position": {},
   "toc_section_display": true,
   "toc_window_display": false
  }
 },
 "nbformat": 4,
 "nbformat_minor": 2
}
