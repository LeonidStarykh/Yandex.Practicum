{
 "cells": [
  {
   "cell_type": "markdown",
   "metadata": {},
   "source": [
    "# 06. Обучение с учителем"
   ]
  },
  {
   "cell_type": "markdown",
   "metadata": {},
   "source": [
    "# Прогнозирование оттока клиентов"
   ]
  },
  {
   "cell_type": "markdown",
   "metadata": {},
   "source": [
    "Из «Бета-Банка» стали уходить клиенты. Каждый месяц. Немного, но заметно. Банковские маркетологи посчитали: сохранять текущих клиентов дешевле, чем привлекать новых.\n",
    "\n",
    "Нужно спрогнозировать, уйдёт клиент из банка в ближайшее время или нет. Нам предоставлены исторические данные о поведении клиентов и расторжении договоров с банком. \n",
    "\n",
    "Построим модель с предельно большим значением *F1*-меры. \n",
    "\n",
    "Источник данных: [https://www.kaggle.com/barelydedicated/bank-customer-churn-modeling](https://www.kaggle.com/barelydedicated/bank-customer-churn-modeling)"
   ]
  },
  {
   "cell_type": "markdown",
   "metadata": {
    "toc": true
   },
   "source": [
    "<h1>Содержание<span class=\"tocSkip\"></span></h1>\n",
    "<div class=\"toc\"><ul class=\"toc-item\"><li><span><a href=\"#Подготовка-данных\" data-toc-modified-id=\"Подготовка-данных-1\"><span class=\"toc-item-num\">1&nbsp;&nbsp;</span>Подготовка данных</a></span></li><li><span><a href=\"#Исследование-задачи\" data-toc-modified-id=\"Исследование-задачи-2\"><span class=\"toc-item-num\">2&nbsp;&nbsp;</span>Исследование задачи</a></span><ul class=\"toc-item\"><li><ul class=\"toc-item\"><li><span><a href=\"#Логистическая-регрессия-(без-учета-дисбаланса-классов)\" data-toc-modified-id=\"Логистическая-регрессия-(без-учета-дисбаланса-классов)-2.0.1\"><span class=\"toc-item-num\">2.0.1&nbsp;&nbsp;</span>Логистическая регрессия (без учета дисбаланса классов)</a></span></li><li><span><a href=\"#Модель-решающего-дерева-(без-учета-дисбаланса-классов)\" data-toc-modified-id=\"Модель-решающего-дерева-(без-учета-дисбаланса-классов)-2.0.2\"><span class=\"toc-item-num\">2.0.2&nbsp;&nbsp;</span>Модель решающего дерева (без учета дисбаланса классов)</a></span></li><li><span><a href=\"#Модель-случайного-леса-(без-учета-дисбаланса-классов)\" data-toc-modified-id=\"Модель-случайного-леса-(без-учета-дисбаланса-классов)-2.0.3\"><span class=\"toc-item-num\">2.0.3&nbsp;&nbsp;</span>Модель случайного леса (без учета дисбаланса классов)</a></span></li><li><span><a href=\"#Сравнение-моделей\" data-toc-modified-id=\"Сравнение-моделей-2.0.4\"><span class=\"toc-item-num\">2.0.4&nbsp;&nbsp;</span>Сравнение моделей</a></span></li></ul></li></ul></li><li><span><a href=\"#Борьба-с-дисбалансом\" data-toc-modified-id=\"Борьба-с-дисбалансом-3\"><span class=\"toc-item-num\">3&nbsp;&nbsp;</span>Борьба с дисбалансом</a></span><ul class=\"toc-item\"><li><span><a href=\"#Способ-1.-Использование-аргумента-'class_weight'\" data-toc-modified-id=\"Способ-1.-Использование-аргумента-'class_weight'-3.1\"><span class=\"toc-item-num\">3.1&nbsp;&nbsp;</span>Способ 1. Использование аргумента 'class_weight'</a></span><ul class=\"toc-item\"><li><span><a href=\"#Логистическая-регрессия-(с-учетом-дисбаланса-классов)\" data-toc-modified-id=\"Логистическая-регрессия-(с-учетом-дисбаланса-классов)-3.1.1\"><span class=\"toc-item-num\">3.1.1&nbsp;&nbsp;</span>Логистическая регрессия (с учетом дисбаланса классов)</a></span></li><li><span><a href=\"#Модель-решающего-дерева-(с-учетом-дисбаланса-классов)\" data-toc-modified-id=\"Модель-решающего-дерева-(с-учетом-дисбаланса-классов)-3.1.2\"><span class=\"toc-item-num\">3.1.2&nbsp;&nbsp;</span>Модель решающего дерева (с учетом дисбаланса классов)</a></span></li><li><span><a href=\"#Модель-случайного-леса-(с-учетом-дисбаланса-классов)\" data-toc-modified-id=\"Модель-случайного-леса-(с-учетом-дисбаланса-классов)-3.1.3\"><span class=\"toc-item-num\">3.1.3&nbsp;&nbsp;</span>Модель случайного леса (с учетом дисбаланса классов)</a></span></li></ul></li><li><span><a href=\"#Способ-2.-Увеличение-выборки-(upsampling)\" data-toc-modified-id=\"Способ-2.-Увеличение-выборки-(upsampling)-3.2\"><span class=\"toc-item-num\">3.2&nbsp;&nbsp;</span>Способ 2. Увеличение выборки (upsampling)</a></span><ul class=\"toc-item\"><li><span><a href=\"#Логистическая-регрессия-(upsampling)\" data-toc-modified-id=\"Логистическая-регрессия-(upsampling)-3.2.1\"><span class=\"toc-item-num\">3.2.1&nbsp;&nbsp;</span>Логистическая регрессия (upsampling)</a></span></li><li><span><a href=\"#Модель-решающего-дерева-(upsampling)\" data-toc-modified-id=\"Модель-решающего-дерева-(upsampling)-3.2.2\"><span class=\"toc-item-num\">3.2.2&nbsp;&nbsp;</span>Модель решающего дерева (upsampling)</a></span></li><li><span><a href=\"#Модель-случайного-леса-(upsampling)\" data-toc-modified-id=\"Модель-случайного-леса-(upsampling)-3.2.3\"><span class=\"toc-item-num\">3.2.3&nbsp;&nbsp;</span>Модель случайного леса (upsampling)</a></span></li></ul></li><li><span><a href=\"#Способ-3.-Уменьшение-выборки-(downsampling)\" data-toc-modified-id=\"Способ-3.-Уменьшение-выборки-(downsampling)-3.3\"><span class=\"toc-item-num\">3.3&nbsp;&nbsp;</span>Способ 3. Уменьшение выборки (downsampling)</a></span><ul class=\"toc-item\"><li><span><a href=\"#Логистическая-регрессия-(downsampling)\" data-toc-modified-id=\"Логистическая-регрессия-(downsampling)-3.3.1\"><span class=\"toc-item-num\">3.3.1&nbsp;&nbsp;</span>Логистическая регрессия (downsampling)</a></span></li><li><span><a href=\"#Модель-решающего-дерева-(downsampling)\" data-toc-modified-id=\"Модель-решающего-дерева-(downsampling)-3.3.2\"><span class=\"toc-item-num\">3.3.2&nbsp;&nbsp;</span>Модель решающего дерева (downsampling)</a></span></li><li><span><a href=\"#Модель-случайного-леса-(downsampling)\" data-toc-modified-id=\"Модель-случайного-леса-(downsampling)-3.3.3\"><span class=\"toc-item-num\">3.3.3&nbsp;&nbsp;</span>Модель случайного леса (downsampling)</a></span></li></ul></li><li><span><a href=\"#Сравнение-моделей-и-выбор-лучшей\" data-toc-modified-id=\"Сравнение-моделей-и-выбор-лучшей-3.4\"><span class=\"toc-item-num\">3.4&nbsp;&nbsp;</span>Сравнение моделей и выбор лучшей</a></span></li></ul></li><li><span><a href=\"#Тестирование-модели\" data-toc-modified-id=\"Тестирование-модели-4\"><span class=\"toc-item-num\">4&nbsp;&nbsp;</span>Тестирование модели</a></span></li></ul></div>"
   ]
  },
  {
   "cell_type": "code",
   "execution_count": 1,
   "metadata": {},
   "outputs": [],
   "source": [
    "import pandas as pd\n",
    "import numpy as np\n",
    "import matplotlib.pyplot as plt\n",
    "from tqdm import tqdm\n",
    "\n",
    "from sklearn.model_selection import train_test_split\n",
    "from sklearn.metrics import f1_score, recall_score, precision_score, roc_auc_score, roc_curve, precision_recall_curve\n",
    "from sklearn.preprocessing import StandardScaler\n",
    "from sklearn.utils import shuffle\n",
    "from sklearn.linear_model import LogisticRegression\n",
    "from sklearn.tree import DecisionTreeClassifier\n",
    "from sklearn.ensemble import RandomForestClassifier\n",
    "\n",
    "import warnings\n",
    "warnings.filterwarnings('ignore')\n",
    "pd.options.mode.chained_assignment = None"
   ]
  },
  {
   "cell_type": "markdown",
   "metadata": {},
   "source": [
    "## Подготовка данных"
   ]
  },
  {
   "cell_type": "code",
   "execution_count": 2,
   "metadata": {},
   "outputs": [],
   "source": [
    "df = pd.read_csv('Churn.csv')"
   ]
  },
  {
   "cell_type": "code",
   "execution_count": 3,
   "metadata": {},
   "outputs": [
    {
     "data": {
      "text/html": [
       "<div>\n",
       "<style scoped>\n",
       "    .dataframe tbody tr th:only-of-type {\n",
       "        vertical-align: middle;\n",
       "    }\n",
       "\n",
       "    .dataframe tbody tr th {\n",
       "        vertical-align: top;\n",
       "    }\n",
       "\n",
       "    .dataframe thead th {\n",
       "        text-align: right;\n",
       "    }\n",
       "</style>\n",
       "<table border=\"1\" class=\"dataframe\">\n",
       "  <thead>\n",
       "    <tr style=\"text-align: right;\">\n",
       "      <th></th>\n",
       "      <th>RowNumber</th>\n",
       "      <th>CustomerId</th>\n",
       "      <th>Surname</th>\n",
       "      <th>CreditScore</th>\n",
       "      <th>Geography</th>\n",
       "      <th>Gender</th>\n",
       "      <th>Age</th>\n",
       "      <th>Tenure</th>\n",
       "      <th>Balance</th>\n",
       "      <th>NumOfProducts</th>\n",
       "      <th>HasCrCard</th>\n",
       "      <th>IsActiveMember</th>\n",
       "      <th>EstimatedSalary</th>\n",
       "      <th>Exited</th>\n",
       "    </tr>\n",
       "  </thead>\n",
       "  <tbody>\n",
       "    <tr>\n",
       "      <td>0</td>\n",
       "      <td>1</td>\n",
       "      <td>15634602</td>\n",
       "      <td>Hargrave</td>\n",
       "      <td>619</td>\n",
       "      <td>France</td>\n",
       "      <td>Female</td>\n",
       "      <td>42</td>\n",
       "      <td>2.0</td>\n",
       "      <td>0.00</td>\n",
       "      <td>1</td>\n",
       "      <td>1</td>\n",
       "      <td>1</td>\n",
       "      <td>101348.88</td>\n",
       "      <td>1</td>\n",
       "    </tr>\n",
       "    <tr>\n",
       "      <td>1</td>\n",
       "      <td>2</td>\n",
       "      <td>15647311</td>\n",
       "      <td>Hill</td>\n",
       "      <td>608</td>\n",
       "      <td>Spain</td>\n",
       "      <td>Female</td>\n",
       "      <td>41</td>\n",
       "      <td>1.0</td>\n",
       "      <td>83807.86</td>\n",
       "      <td>1</td>\n",
       "      <td>0</td>\n",
       "      <td>1</td>\n",
       "      <td>112542.58</td>\n",
       "      <td>0</td>\n",
       "    </tr>\n",
       "    <tr>\n",
       "      <td>2</td>\n",
       "      <td>3</td>\n",
       "      <td>15619304</td>\n",
       "      <td>Onio</td>\n",
       "      <td>502</td>\n",
       "      <td>France</td>\n",
       "      <td>Female</td>\n",
       "      <td>42</td>\n",
       "      <td>8.0</td>\n",
       "      <td>159660.80</td>\n",
       "      <td>3</td>\n",
       "      <td>1</td>\n",
       "      <td>0</td>\n",
       "      <td>113931.57</td>\n",
       "      <td>1</td>\n",
       "    </tr>\n",
       "    <tr>\n",
       "      <td>3</td>\n",
       "      <td>4</td>\n",
       "      <td>15701354</td>\n",
       "      <td>Boni</td>\n",
       "      <td>699</td>\n",
       "      <td>France</td>\n",
       "      <td>Female</td>\n",
       "      <td>39</td>\n",
       "      <td>1.0</td>\n",
       "      <td>0.00</td>\n",
       "      <td>2</td>\n",
       "      <td>0</td>\n",
       "      <td>0</td>\n",
       "      <td>93826.63</td>\n",
       "      <td>0</td>\n",
       "    </tr>\n",
       "    <tr>\n",
       "      <td>4</td>\n",
       "      <td>5</td>\n",
       "      <td>15737888</td>\n",
       "      <td>Mitchell</td>\n",
       "      <td>850</td>\n",
       "      <td>Spain</td>\n",
       "      <td>Female</td>\n",
       "      <td>43</td>\n",
       "      <td>2.0</td>\n",
       "      <td>125510.82</td>\n",
       "      <td>1</td>\n",
       "      <td>1</td>\n",
       "      <td>1</td>\n",
       "      <td>79084.10</td>\n",
       "      <td>0</td>\n",
       "    </tr>\n",
       "  </tbody>\n",
       "</table>\n",
       "</div>"
      ],
      "text/plain": [
       "   RowNumber  CustomerId   Surname  CreditScore Geography  Gender  Age  \\\n",
       "0          1    15634602  Hargrave          619    France  Female   42   \n",
       "1          2    15647311      Hill          608     Spain  Female   41   \n",
       "2          3    15619304      Onio          502    France  Female   42   \n",
       "3          4    15701354      Boni          699    France  Female   39   \n",
       "4          5    15737888  Mitchell          850     Spain  Female   43   \n",
       "\n",
       "   Tenure    Balance  NumOfProducts  HasCrCard  IsActiveMember  \\\n",
       "0     2.0       0.00              1          1               1   \n",
       "1     1.0   83807.86              1          0               1   \n",
       "2     8.0  159660.80              3          1               0   \n",
       "3     1.0       0.00              2          0               0   \n",
       "4     2.0  125510.82              1          1               1   \n",
       "\n",
       "   EstimatedSalary  Exited  \n",
       "0        101348.88       1  \n",
       "1        112542.58       0  \n",
       "2        113931.57       1  \n",
       "3         93826.63       0  \n",
       "4         79084.10       0  "
      ]
     },
     "execution_count": 3,
     "metadata": {},
     "output_type": "execute_result"
    }
   ],
   "source": [
    "# посмотрим загруженные данные\n",
    "df.head()"
   ]
  },
  {
   "cell_type": "markdown",
   "metadata": {},
   "source": [
    "**Признаки**\n",
    "- `RowNumber` — индекс строки в данных\n",
    "- `CustomerId` — уникальный идентификатор клиента\n",
    "- `Surname` — фамилия\n",
    "- `CreditScore` — кредитный рейтинг\n",
    "- `Geography` — страна проживания\n",
    "- `Gender` — пол\n",
    "- `Age` — возраст\n",
    "- `Tenure` — сколько лет человек является клиентом банка\n",
    "- `Balance` — баланс на счёте\n",
    "- `NumOfProducts` — количество продуктов банка, используемых клиентом\n",
    "- `HasCrCard` — наличие кредитной карты\n",
    "- `IsActiveMember` — активность клиента\n",
    "- `EstimatedSalary` — предполагаемая зарплата\n",
    "\n",
    "**Целевой признак**\n",
    "- `Exited` — факт ухода клиента"
   ]
  },
  {
   "cell_type": "code",
   "execution_count": 4,
   "metadata": {},
   "outputs": [
    {
     "data": {
      "text/html": [
       "<div>\n",
       "<style scoped>\n",
       "    .dataframe tbody tr th:only-of-type {\n",
       "        vertical-align: middle;\n",
       "    }\n",
       "\n",
       "    .dataframe tbody tr th {\n",
       "        vertical-align: top;\n",
       "    }\n",
       "\n",
       "    .dataframe thead th {\n",
       "        text-align: right;\n",
       "    }\n",
       "</style>\n",
       "<table border=\"1\" class=\"dataframe\">\n",
       "  <thead>\n",
       "    <tr style=\"text-align: right;\">\n",
       "      <th></th>\n",
       "      <th>count</th>\n",
       "      <th>min</th>\n",
       "      <th>max</th>\n",
       "    </tr>\n",
       "  </thead>\n",
       "  <tbody>\n",
       "    <tr>\n",
       "      <td>RowNumber</td>\n",
       "      <td>10000.0</td>\n",
       "      <td>1.00</td>\n",
       "      <td>10000.00</td>\n",
       "    </tr>\n",
       "    <tr>\n",
       "      <td>CustomerId</td>\n",
       "      <td>10000.0</td>\n",
       "      <td>15565701.00</td>\n",
       "      <td>15815690.00</td>\n",
       "    </tr>\n",
       "    <tr>\n",
       "      <td>CreditScore</td>\n",
       "      <td>10000.0</td>\n",
       "      <td>350.00</td>\n",
       "      <td>850.00</td>\n",
       "    </tr>\n",
       "    <tr>\n",
       "      <td>Age</td>\n",
       "      <td>10000.0</td>\n",
       "      <td>18.00</td>\n",
       "      <td>92.00</td>\n",
       "    </tr>\n",
       "    <tr>\n",
       "      <td>Tenure</td>\n",
       "      <td>9091.0</td>\n",
       "      <td>0.00</td>\n",
       "      <td>10.00</td>\n",
       "    </tr>\n",
       "    <tr>\n",
       "      <td>Balance</td>\n",
       "      <td>10000.0</td>\n",
       "      <td>0.00</td>\n",
       "      <td>250898.09</td>\n",
       "    </tr>\n",
       "    <tr>\n",
       "      <td>NumOfProducts</td>\n",
       "      <td>10000.0</td>\n",
       "      <td>1.00</td>\n",
       "      <td>4.00</td>\n",
       "    </tr>\n",
       "    <tr>\n",
       "      <td>HasCrCard</td>\n",
       "      <td>10000.0</td>\n",
       "      <td>0.00</td>\n",
       "      <td>1.00</td>\n",
       "    </tr>\n",
       "    <tr>\n",
       "      <td>IsActiveMember</td>\n",
       "      <td>10000.0</td>\n",
       "      <td>0.00</td>\n",
       "      <td>1.00</td>\n",
       "    </tr>\n",
       "    <tr>\n",
       "      <td>EstimatedSalary</td>\n",
       "      <td>10000.0</td>\n",
       "      <td>11.58</td>\n",
       "      <td>199992.48</td>\n",
       "    </tr>\n",
       "    <tr>\n",
       "      <td>Exited</td>\n",
       "      <td>10000.0</td>\n",
       "      <td>0.00</td>\n",
       "      <td>1.00</td>\n",
       "    </tr>\n",
       "  </tbody>\n",
       "</table>\n",
       "</div>"
      ],
      "text/plain": [
       "                   count          min          max\n",
       "RowNumber        10000.0         1.00     10000.00\n",
       "CustomerId       10000.0  15565701.00  15815690.00\n",
       "CreditScore      10000.0       350.00       850.00\n",
       "Age              10000.0        18.00        92.00\n",
       "Tenure            9091.0         0.00        10.00\n",
       "Balance          10000.0         0.00    250898.09\n",
       "NumOfProducts    10000.0         1.00         4.00\n",
       "HasCrCard        10000.0         0.00         1.00\n",
       "IsActiveMember   10000.0         0.00         1.00\n",
       "EstimatedSalary  10000.0        11.58    199992.48\n",
       "Exited           10000.0         0.00         1.00"
      ]
     },
     "execution_count": 4,
     "metadata": {},
     "output_type": "execute_result"
    }
   ],
   "source": [
    "df.describe().T[['count', 'min', 'max']]"
   ]
  },
  {
   "cell_type": "code",
   "execution_count": 5,
   "metadata": {},
   "outputs": [
    {
     "data": {
      "text/plain": [
       "RowNumber            int64\n",
       "CustomerId           int64\n",
       "Surname             object\n",
       "CreditScore          int64\n",
       "Geography           object\n",
       "Gender              object\n",
       "Age                  int64\n",
       "Tenure             float64\n",
       "Balance            float64\n",
       "NumOfProducts        int64\n",
       "HasCrCard            int64\n",
       "IsActiveMember       int64\n",
       "EstimatedSalary    float64\n",
       "Exited               int64\n",
       "dtype: object"
      ]
     },
     "execution_count": 5,
     "metadata": {},
     "output_type": "execute_result"
    }
   ],
   "source": [
    "# посмотрим типы данных признаков объектов\n",
    "df.dtypes"
   ]
  },
  {
   "cell_type": "markdown",
   "metadata": {},
   "source": [
    "Посмотрим на наличие пропусков: посчитаем их количество и найдем долю от всех данных."
   ]
  },
  {
   "cell_type": "code",
   "execution_count": 6,
   "metadata": {},
   "outputs": [
    {
     "data": {
      "text/html": [
       "<div>\n",
       "<style scoped>\n",
       "    .dataframe tbody tr th:only-of-type {\n",
       "        vertical-align: middle;\n",
       "    }\n",
       "\n",
       "    .dataframe tbody tr th {\n",
       "        vertical-align: top;\n",
       "    }\n",
       "\n",
       "    .dataframe thead th {\n",
       "        text-align: right;\n",
       "    }\n",
       "</style>\n",
       "<table border=\"1\" class=\"dataframe\">\n",
       "  <thead>\n",
       "    <tr style=\"text-align: right;\">\n",
       "      <th></th>\n",
       "      <th>NaN count</th>\n",
       "      <th>frac, %</th>\n",
       "    </tr>\n",
       "  </thead>\n",
       "  <tbody>\n",
       "    <tr>\n",
       "      <td>RowNumber</td>\n",
       "      <td>0</td>\n",
       "      <td>0.00</td>\n",
       "    </tr>\n",
       "    <tr>\n",
       "      <td>CustomerId</td>\n",
       "      <td>0</td>\n",
       "      <td>0.00</td>\n",
       "    </tr>\n",
       "    <tr>\n",
       "      <td>Surname</td>\n",
       "      <td>0</td>\n",
       "      <td>0.00</td>\n",
       "    </tr>\n",
       "    <tr>\n",
       "      <td>CreditScore</td>\n",
       "      <td>0</td>\n",
       "      <td>0.00</td>\n",
       "    </tr>\n",
       "    <tr>\n",
       "      <td>Geography</td>\n",
       "      <td>0</td>\n",
       "      <td>0.00</td>\n",
       "    </tr>\n",
       "    <tr>\n",
       "      <td>Gender</td>\n",
       "      <td>0</td>\n",
       "      <td>0.00</td>\n",
       "    </tr>\n",
       "    <tr>\n",
       "      <td>Age</td>\n",
       "      <td>0</td>\n",
       "      <td>0.00</td>\n",
       "    </tr>\n",
       "    <tr>\n",
       "      <td>Tenure</td>\n",
       "      <td>909</td>\n",
       "      <td>9.09</td>\n",
       "    </tr>\n",
       "    <tr>\n",
       "      <td>Balance</td>\n",
       "      <td>0</td>\n",
       "      <td>0.00</td>\n",
       "    </tr>\n",
       "    <tr>\n",
       "      <td>NumOfProducts</td>\n",
       "      <td>0</td>\n",
       "      <td>0.00</td>\n",
       "    </tr>\n",
       "    <tr>\n",
       "      <td>HasCrCard</td>\n",
       "      <td>0</td>\n",
       "      <td>0.00</td>\n",
       "    </tr>\n",
       "    <tr>\n",
       "      <td>IsActiveMember</td>\n",
       "      <td>0</td>\n",
       "      <td>0.00</td>\n",
       "    </tr>\n",
       "    <tr>\n",
       "      <td>EstimatedSalary</td>\n",
       "      <td>0</td>\n",
       "      <td>0.00</td>\n",
       "    </tr>\n",
       "    <tr>\n",
       "      <td>Exited</td>\n",
       "      <td>0</td>\n",
       "      <td>0.00</td>\n",
       "    </tr>\n",
       "  </tbody>\n",
       "</table>\n",
       "</div>"
      ],
      "text/plain": [
       "                 NaN count  frac, %\n",
       "RowNumber                0     0.00\n",
       "CustomerId               0     0.00\n",
       "Surname                  0     0.00\n",
       "CreditScore              0     0.00\n",
       "Geography                0     0.00\n",
       "Gender                   0     0.00\n",
       "Age                      0     0.00\n",
       "Tenure                 909     9.09\n",
       "Balance                  0     0.00\n",
       "NumOfProducts            0     0.00\n",
       "HasCrCard                0     0.00\n",
       "IsActiveMember           0     0.00\n",
       "EstimatedSalary          0     0.00\n",
       "Exited                   0     0.00"
      ]
     },
     "execution_count": 6,
     "metadata": {},
     "output_type": "execute_result"
    }
   ],
   "source": [
    "df_na = df.isna().sum().to_frame()\n",
    "df_na[1] = (df_na[0]/len(df))*100\n",
    "df_na.columns = ['NaN count', 'frac, %']\n",
    "df_na"
   ]
  },
  {
   "cell_type": "code",
   "execution_count": null,
   "metadata": {},
   "outputs": [],
   "source": []
  },
  {
   "cell_type": "markdown",
   "metadata": {},
   "source": [
    "Анализируя данные из таблицы определим **ход дальнейших преобразований**:\n",
    "1. Признаки объектов `RowNumber`, `CustomerId` и `Surname` являются избыточными для нашей модели, поэтому их следует удалить.\n",
    "2. Для удобства, преобразуем названия всех столбцов в нижний регистр, названия признаков, состоящие из нескольких слов, разделим нижним подчеркиванием `_`.\n",
    "3. Категориальные признаки, соответствующие полу клиента (`Gender`) и стране проживания (`Geography`), необходимо преобразовать в численные. Для этого применим технику прямого кодирования.\n",
    "4. Требуется обработа пропущенных значений признака `Tenure`.\n",
    "5. Для обучения и тестирования модели, требуется разделить данные на тренировочную, валидационную и тестовую выборки в соотношении 60%:20%:20% соответственно.\n",
    "6. Численные признаки `CreditScore`, `Age`, `Tenure`, `Balance`, `NumOfProducts` и `EstimatedSalary` требуется привести к одному масштабу методом стандартизации."
   ]
  },
  {
   "cell_type": "markdown",
   "metadata": {},
   "source": [
    "Выполним данные преобразования."
   ]
  },
  {
   "cell_type": "markdown",
   "metadata": {},
   "source": [
    "1. Удаляем лишние для нашей будущей модели признаки объектов - `RowNumber`, `CustomerId` и `Surname`."
   ]
  },
  {
   "cell_type": "code",
   "execution_count": 7,
   "metadata": {},
   "outputs": [],
   "source": [
    "df.drop(['RowNumber','CustomerId','Surname'], axis='columns', inplace=True)"
   ]
  },
  {
   "cell_type": "markdown",
   "metadata": {},
   "source": [
    "2. Выполним преобразования названий признаков по ранее упомянутой методике."
   ]
  },
  {
   "cell_type": "code",
   "execution_count": 8,
   "metadata": {},
   "outputs": [
    {
     "data": {
      "text/plain": [
       "Index(['creditscore', 'geography', 'gender', 'age', 'tenure', 'balance',\n",
       "       'numofproducts', 'hascrcard', 'isactivemember', 'estimatedsalary',\n",
       "       'exited'],\n",
       "      dtype='object')"
      ]
     },
     "execution_count": 8,
     "metadata": {},
     "output_type": "execute_result"
    }
   ],
   "source": [
    "df.columns = df.columns.str.lower()\n",
    "df.columns"
   ]
  },
  {
   "cell_type": "code",
   "execution_count": 9,
   "metadata": {},
   "outputs": [],
   "source": [
    "df.columns = ['credit_score', 'geography', 'gender', 'age', 'tenure', 'balance','num_of_products', \n",
    "              'has_cr_card', 'is_active_member', 'estimated_salary', 'exited']"
   ]
  },
  {
   "cell_type": "markdown",
   "metadata": {},
   "source": [
    "3. Применим технику прямого кодирования для преобразования категориальных признаков `gender` и `georgaphy` в численные."
   ]
  },
  {
   "cell_type": "code",
   "execution_count": 10,
   "metadata": {},
   "outputs": [],
   "source": [
    "df = pd.get_dummies(df, drop_first=True)"
   ]
  },
  {
   "cell_type": "code",
   "execution_count": 11,
   "metadata": {},
   "outputs": [
    {
     "data": {
      "text/html": [
       "<div>\n",
       "<style scoped>\n",
       "    .dataframe tbody tr th:only-of-type {\n",
       "        vertical-align: middle;\n",
       "    }\n",
       "\n",
       "    .dataframe tbody tr th {\n",
       "        vertical-align: top;\n",
       "    }\n",
       "\n",
       "    .dataframe thead th {\n",
       "        text-align: right;\n",
       "    }\n",
       "</style>\n",
       "<table border=\"1\" class=\"dataframe\">\n",
       "  <thead>\n",
       "    <tr style=\"text-align: right;\">\n",
       "      <th></th>\n",
       "      <th>credit_score</th>\n",
       "      <th>age</th>\n",
       "      <th>tenure</th>\n",
       "      <th>balance</th>\n",
       "      <th>num_of_products</th>\n",
       "      <th>has_cr_card</th>\n",
       "      <th>is_active_member</th>\n",
       "      <th>estimated_salary</th>\n",
       "      <th>exited</th>\n",
       "      <th>geography_Germany</th>\n",
       "      <th>geography_Spain</th>\n",
       "      <th>gender_Male</th>\n",
       "    </tr>\n",
       "  </thead>\n",
       "  <tbody>\n",
       "    <tr>\n",
       "      <td>0</td>\n",
       "      <td>619</td>\n",
       "      <td>42</td>\n",
       "      <td>2.0</td>\n",
       "      <td>0.00</td>\n",
       "      <td>1</td>\n",
       "      <td>1</td>\n",
       "      <td>1</td>\n",
       "      <td>101348.88</td>\n",
       "      <td>1</td>\n",
       "      <td>0</td>\n",
       "      <td>0</td>\n",
       "      <td>0</td>\n",
       "    </tr>\n",
       "    <tr>\n",
       "      <td>1</td>\n",
       "      <td>608</td>\n",
       "      <td>41</td>\n",
       "      <td>1.0</td>\n",
       "      <td>83807.86</td>\n",
       "      <td>1</td>\n",
       "      <td>0</td>\n",
       "      <td>1</td>\n",
       "      <td>112542.58</td>\n",
       "      <td>0</td>\n",
       "      <td>0</td>\n",
       "      <td>1</td>\n",
       "      <td>0</td>\n",
       "    </tr>\n",
       "    <tr>\n",
       "      <td>2</td>\n",
       "      <td>502</td>\n",
       "      <td>42</td>\n",
       "      <td>8.0</td>\n",
       "      <td>159660.80</td>\n",
       "      <td>3</td>\n",
       "      <td>1</td>\n",
       "      <td>0</td>\n",
       "      <td>113931.57</td>\n",
       "      <td>1</td>\n",
       "      <td>0</td>\n",
       "      <td>0</td>\n",
       "      <td>0</td>\n",
       "    </tr>\n",
       "    <tr>\n",
       "      <td>3</td>\n",
       "      <td>699</td>\n",
       "      <td>39</td>\n",
       "      <td>1.0</td>\n",
       "      <td>0.00</td>\n",
       "      <td>2</td>\n",
       "      <td>0</td>\n",
       "      <td>0</td>\n",
       "      <td>93826.63</td>\n",
       "      <td>0</td>\n",
       "      <td>0</td>\n",
       "      <td>0</td>\n",
       "      <td>0</td>\n",
       "    </tr>\n",
       "    <tr>\n",
       "      <td>4</td>\n",
       "      <td>850</td>\n",
       "      <td>43</td>\n",
       "      <td>2.0</td>\n",
       "      <td>125510.82</td>\n",
       "      <td>1</td>\n",
       "      <td>1</td>\n",
       "      <td>1</td>\n",
       "      <td>79084.10</td>\n",
       "      <td>0</td>\n",
       "      <td>0</td>\n",
       "      <td>1</td>\n",
       "      <td>0</td>\n",
       "    </tr>\n",
       "  </tbody>\n",
       "</table>\n",
       "</div>"
      ],
      "text/plain": [
       "   credit_score  age  tenure    balance  num_of_products  has_cr_card  \\\n",
       "0           619   42     2.0       0.00                1            1   \n",
       "1           608   41     1.0   83807.86                1            0   \n",
       "2           502   42     8.0  159660.80                3            1   \n",
       "3           699   39     1.0       0.00                2            0   \n",
       "4           850   43     2.0  125510.82                1            1   \n",
       "\n",
       "   is_active_member  estimated_salary  exited  geography_Germany  \\\n",
       "0                 1         101348.88       1                  0   \n",
       "1                 1         112542.58       0                  0   \n",
       "2                 0         113931.57       1                  0   \n",
       "3                 0          93826.63       0                  0   \n",
       "4                 1          79084.10       0                  0   \n",
       "\n",
       "   geography_Spain  gender_Male  \n",
       "0                0            0  \n",
       "1                1            0  \n",
       "2                0            0  \n",
       "3                0            0  \n",
       "4                1            0  "
      ]
     },
     "execution_count": 11,
     "metadata": {},
     "output_type": "execute_result"
    }
   ],
   "source": [
    "# проверяем\n",
    "df.head()"
   ]
  },
  {
   "cell_type": "markdown",
   "metadata": {},
   "source": [
    "4. Обработаем NaN-значения признака `tenure`. Посмотрим на распределение значений в этом столбце."
   ]
  },
  {
   "cell_type": "code",
   "execution_count": 12,
   "metadata": {},
   "outputs": [
    {
     "data": {
      "text/plain": [
       "1.0     952\n",
       "2.0     950\n",
       "8.0     933\n",
       "3.0     928\n",
       "5.0     927\n",
       "7.0     925\n",
       "NaN     909\n",
       "4.0     885\n",
       "9.0     882\n",
       "6.0     881\n",
       "10.0    446\n",
       "0.0     382\n",
       "Name: tenure, dtype: int64"
      ]
     },
     "execution_count": 12,
     "metadata": {},
     "output_type": "execute_result"
    }
   ],
   "source": [
    "df['tenure'].value_counts(dropna=False)"
   ]
  },
  {
   "cell_type": "markdown",
   "metadata": {},
   "source": [
    "Видим, что значений в каждой группе (число лет, в течение которых человек является клиентом банка) примерно поровну, поэтому нельзя поменять 'NaN'-значения на какое-либо значение из имеющихся. Считаю, что необходимо оставить их отдельной группой. Но учитывая тот факт, что далее мы планируем масштабировать численные признаки (в том числе и `tenure`), а пропуск в этом случае так и останется пропуском, поэтому **преобразуем 'NaN 'в 'None'**."
   ]
  },
  {
   "cell_type": "code",
   "execution_count": 13,
   "metadata": {},
   "outputs": [],
   "source": [
    "df['tenure'] = df['tenure'].replace(np.nan, None)"
   ]
  },
  {
   "cell_type": "markdown",
   "metadata": {},
   "source": [
    "5. Делим исходные данные на обучающую, валидационную и тестовую выборки в соотношении 60%:20%:20%. Для этого, сначала отделим целевой признак (`exited`) от остальных."
   ]
  },
  {
   "cell_type": "code",
   "execution_count": 14,
   "metadata": {},
   "outputs": [],
   "source": [
    "target = df['exited']\n",
    "features = df.drop(['exited'] , axis=1)"
   ]
  },
  {
   "cell_type": "code",
   "execution_count": 15,
   "metadata": {},
   "outputs": [],
   "source": [
    "features_train_valid, features_test, target_train_valid, target_test = train_test_split(features, \n",
    "                                                                                        target, \n",
    "                                                                                        test_size=0.2, \n",
    "                                                                                        random_state=12345)"
   ]
  },
  {
   "cell_type": "code",
   "execution_count": 16,
   "metadata": {},
   "outputs": [],
   "source": [
    "features_train, features_valid, target_train, target_valid = train_test_split(features_train_valid, \n",
    "                                                                              target_train_valid, \n",
    "                                                                              test_size=0.25, \n",
    "                                                                              random_state=12345)"
   ]
  },
  {
   "cell_type": "markdown",
   "metadata": {},
   "source": [
    "Проверяем размеры сформированных выборок."
   ]
  },
  {
   "cell_type": "code",
   "execution_count": 17,
   "metadata": {},
   "outputs": [
    {
     "name": "stdout",
     "output_type": "stream",
     "text": [
      "Размер обучающей выборки: 6000\n",
      "Размер валидационной выборки: 2000\n",
      "Размер тестовой выборки: 2000\n",
      "\n",
      "Размер исходной выборки: 10000\n"
     ]
    }
   ],
   "source": [
    "print('Размер обучающей выборки:', features_train.shape[0])\n",
    "print('Размер валидационной выборки:', features_valid.shape[0])\n",
    "print('Размер тестовой выборки:', features_test.shape[0])\n",
    "print()\n",
    "print('Размер исходной выборки:', df.shape[0])"
   ]
  },
  {
   "cell_type": "markdown",
   "metadata": {},
   "source": [
    "Размер исходной выборки совпадает с сумой размеров трех сформированных выборок, значит разделение произведено корректно."
   ]
  },
  {
   "cell_type": "markdown",
   "metadata": {},
   "source": [
    "6. Проведем масштабирование численных признаков методом стандартизации."
   ]
  },
  {
   "cell_type": "markdown",
   "metadata": {},
   "source": [
    "Выделим численные признаки в отдельный список и проведем их стандартизацию."
   ]
  },
  {
   "cell_type": "code",
   "execution_count": 18,
   "metadata": {},
   "outputs": [],
   "source": [
    "numeric = ['credit_score', 'age', 'balance', 'estimated_salary']"
   ]
  },
  {
   "cell_type": "code",
   "execution_count": 19,
   "metadata": {},
   "outputs": [],
   "source": [
    "# масштабируем численные признаки\n",
    "scaler = StandardScaler()\n",
    "scaler.fit(features_train[numeric])\n",
    "features_train[numeric] = scaler.transform(features_train[numeric])"
   ]
  },
  {
   "cell_type": "code",
   "execution_count": 20,
   "metadata": {},
   "outputs": [
    {
     "data": {
      "text/html": [
       "<div>\n",
       "<style scoped>\n",
       "    .dataframe tbody tr th:only-of-type {\n",
       "        vertical-align: middle;\n",
       "    }\n",
       "\n",
       "    .dataframe tbody tr th {\n",
       "        vertical-align: top;\n",
       "    }\n",
       "\n",
       "    .dataframe thead th {\n",
       "        text-align: right;\n",
       "    }\n",
       "</style>\n",
       "<table border=\"1\" class=\"dataframe\">\n",
       "  <thead>\n",
       "    <tr style=\"text-align: right;\">\n",
       "      <th></th>\n",
       "      <th>credit_score</th>\n",
       "      <th>age</th>\n",
       "      <th>tenure</th>\n",
       "      <th>balance</th>\n",
       "      <th>num_of_products</th>\n",
       "      <th>has_cr_card</th>\n",
       "      <th>is_active_member</th>\n",
       "      <th>estimated_salary</th>\n",
       "      <th>geography_Germany</th>\n",
       "      <th>geography_Spain</th>\n",
       "      <th>gender_Male</th>\n",
       "    </tr>\n",
       "  </thead>\n",
       "  <tbody>\n",
       "    <tr>\n",
       "      <td>492</td>\n",
       "      <td>-0.134048</td>\n",
       "      <td>-0.078068</td>\n",
       "      <td>4.0</td>\n",
       "      <td>0.076163</td>\n",
       "      <td>2</td>\n",
       "      <td>0</td>\n",
       "      <td>1</td>\n",
       "      <td>0.331571</td>\n",
       "      <td>0</td>\n",
       "      <td>0</td>\n",
       "      <td>0</td>\n",
       "    </tr>\n",
       "    <tr>\n",
       "      <td>6655</td>\n",
       "      <td>-1.010798</td>\n",
       "      <td>0.494555</td>\n",
       "      <td>8.0</td>\n",
       "      <td>0.136391</td>\n",
       "      <td>1</td>\n",
       "      <td>1</td>\n",
       "      <td>1</td>\n",
       "      <td>-0.727858</td>\n",
       "      <td>0</td>\n",
       "      <td>0</td>\n",
       "      <td>1</td>\n",
       "    </tr>\n",
       "    <tr>\n",
       "      <td>4287</td>\n",
       "      <td>0.639554</td>\n",
       "      <td>1.353490</td>\n",
       "      <td>1.0</td>\n",
       "      <td>0.358435</td>\n",
       "      <td>1</td>\n",
       "      <td>1</td>\n",
       "      <td>1</td>\n",
       "      <td>-0.477006</td>\n",
       "      <td>1</td>\n",
       "      <td>0</td>\n",
       "      <td>1</td>\n",
       "    </tr>\n",
       "    <tr>\n",
       "      <td>42</td>\n",
       "      <td>-0.990168</td>\n",
       "      <td>2.116987</td>\n",
       "      <td>2.0</td>\n",
       "      <td>0.651725</td>\n",
       "      <td>1</td>\n",
       "      <td>1</td>\n",
       "      <td>1</td>\n",
       "      <td>-0.100232</td>\n",
       "      <td>0</td>\n",
       "      <td>0</td>\n",
       "      <td>0</td>\n",
       "    </tr>\n",
       "    <tr>\n",
       "      <td>8178</td>\n",
       "      <td>0.567351</td>\n",
       "      <td>0.685430</td>\n",
       "      <td>7.0</td>\n",
       "      <td>0.813110</td>\n",
       "      <td>2</td>\n",
       "      <td>1</td>\n",
       "      <td>1</td>\n",
       "      <td>0.801922</td>\n",
       "      <td>0</td>\n",
       "      <td>0</td>\n",
       "      <td>0</td>\n",
       "    </tr>\n",
       "  </tbody>\n",
       "</table>\n",
       "</div>"
      ],
      "text/plain": [
       "      credit_score       age  tenure   balance  num_of_products  has_cr_card  \\\n",
       "492      -0.134048 -0.078068     4.0  0.076163                2            0   \n",
       "6655     -1.010798  0.494555     8.0  0.136391                1            1   \n",
       "4287      0.639554  1.353490     1.0  0.358435                1            1   \n",
       "42       -0.990168  2.116987     2.0  0.651725                1            1   \n",
       "8178      0.567351  0.685430     7.0  0.813110                2            1   \n",
       "\n",
       "      is_active_member  estimated_salary  geography_Germany  geography_Spain  \\\n",
       "492                  1          0.331571                  0                0   \n",
       "6655                 1         -0.727858                  0                0   \n",
       "4287                 1         -0.477006                  1                0   \n",
       "42                   1         -0.100232                  0                0   \n",
       "8178                 1          0.801922                  0                0   \n",
       "\n",
       "      gender_Male  \n",
       "492             0  \n",
       "6655            1  \n",
       "4287            1  \n",
       "42              0  \n",
       "8178            0  "
      ]
     },
     "execution_count": 20,
     "metadata": {},
     "output_type": "execute_result"
    }
   ],
   "source": [
    "# проверяем\n",
    "features_train.head()"
   ]
  },
  {
   "cell_type": "markdown",
   "metadata": {},
   "source": [
    "Тоже самое проделаем для валидационной и тестовой выборок."
   ]
  },
  {
   "cell_type": "code",
   "execution_count": 21,
   "metadata": {},
   "outputs": [
    {
     "data": {
      "text/html": [
       "<div>\n",
       "<style scoped>\n",
       "    .dataframe tbody tr th:only-of-type {\n",
       "        vertical-align: middle;\n",
       "    }\n",
       "\n",
       "    .dataframe tbody tr th {\n",
       "        vertical-align: top;\n",
       "    }\n",
       "\n",
       "    .dataframe thead th {\n",
       "        text-align: right;\n",
       "    }\n",
       "</style>\n",
       "<table border=\"1\" class=\"dataframe\">\n",
       "  <thead>\n",
       "    <tr style=\"text-align: right;\">\n",
       "      <th></th>\n",
       "      <th>credit_score</th>\n",
       "      <th>age</th>\n",
       "      <th>tenure</th>\n",
       "      <th>balance</th>\n",
       "      <th>num_of_products</th>\n",
       "      <th>has_cr_card</th>\n",
       "      <th>is_active_member</th>\n",
       "      <th>estimated_salary</th>\n",
       "      <th>geography_Germany</th>\n",
       "      <th>geography_Spain</th>\n",
       "      <th>gender_Male</th>\n",
       "    </tr>\n",
       "  </thead>\n",
       "  <tbody>\n",
       "    <tr>\n",
       "      <td>2358</td>\n",
       "      <td>0.175393</td>\n",
       "      <td>0.399118</td>\n",
       "      <td>1.0</td>\n",
       "      <td>1.385698</td>\n",
       "      <td>1</td>\n",
       "      <td>0</td>\n",
       "      <td>1</td>\n",
       "      <td>-1.466761</td>\n",
       "      <td>0</td>\n",
       "      <td>0</td>\n",
       "      <td>1</td>\n",
       "    </tr>\n",
       "    <tr>\n",
       "      <td>8463</td>\n",
       "      <td>-1.299609</td>\n",
       "      <td>0.971741</td>\n",
       "      <td>2.0</td>\n",
       "      <td>-1.232442</td>\n",
       "      <td>1</td>\n",
       "      <td>1</td>\n",
       "      <td>0</td>\n",
       "      <td>0.254415</td>\n",
       "      <td>0</td>\n",
       "      <td>1</td>\n",
       "      <td>1</td>\n",
       "    </tr>\n",
       "    <tr>\n",
       "      <td>163</td>\n",
       "      <td>0.711757</td>\n",
       "      <td>-0.268942</td>\n",
       "      <td>2.0</td>\n",
       "      <td>-1.232442</td>\n",
       "      <td>2</td>\n",
       "      <td>1</td>\n",
       "      <td>1</td>\n",
       "      <td>0.122863</td>\n",
       "      <td>0</td>\n",
       "      <td>1</td>\n",
       "      <td>0</td>\n",
       "    </tr>\n",
       "    <tr>\n",
       "      <td>3074</td>\n",
       "      <td>-0.391916</td>\n",
       "      <td>0.494555</td>\n",
       "      <td>6.0</td>\n",
       "      <td>0.672529</td>\n",
       "      <td>1</td>\n",
       "      <td>1</td>\n",
       "      <td>0</td>\n",
       "      <td>0.585847</td>\n",
       "      <td>1</td>\n",
       "      <td>0</td>\n",
       "      <td>0</td>\n",
       "    </tr>\n",
       "    <tr>\n",
       "      <td>5989</td>\n",
       "      <td>0.165078</td>\n",
       "      <td>1.353490</td>\n",
       "      <td>10.0</td>\n",
       "      <td>0.536522</td>\n",
       "      <td>1</td>\n",
       "      <td>0</td>\n",
       "      <td>0</td>\n",
       "      <td>1.462457</td>\n",
       "      <td>0</td>\n",
       "      <td>0</td>\n",
       "      <td>0</td>\n",
       "    </tr>\n",
       "  </tbody>\n",
       "</table>\n",
       "</div>"
      ],
      "text/plain": [
       "      credit_score       age  tenure   balance  num_of_products  has_cr_card  \\\n",
       "2358      0.175393  0.399118     1.0  1.385698                1            0   \n",
       "8463     -1.299609  0.971741     2.0 -1.232442                1            1   \n",
       "163       0.711757 -0.268942     2.0 -1.232442                2            1   \n",
       "3074     -0.391916  0.494555     6.0  0.672529                1            1   \n",
       "5989      0.165078  1.353490    10.0  0.536522                1            0   \n",
       "\n",
       "      is_active_member  estimated_salary  geography_Germany  geography_Spain  \\\n",
       "2358                 1         -1.466761                  0                0   \n",
       "8463                 0          0.254415                  0                1   \n",
       "163                  1          0.122863                  0                1   \n",
       "3074                 0          0.585847                  1                0   \n",
       "5989                 0          1.462457                  0                0   \n",
       "\n",
       "      gender_Male  \n",
       "2358            1  \n",
       "8463            1  \n",
       "163             0  \n",
       "3074            0  \n",
       "5989            0  "
      ]
     },
     "execution_count": 21,
     "metadata": {},
     "output_type": "execute_result"
    }
   ],
   "source": [
    "features_valid[numeric] = scaler.transform(features_valid[numeric])\n",
    "features_valid.head()"
   ]
  },
  {
   "cell_type": "code",
   "execution_count": 22,
   "metadata": {},
   "outputs": [
    {
     "data": {
      "text/html": [
       "<div>\n",
       "<style scoped>\n",
       "    .dataframe tbody tr th:only-of-type {\n",
       "        vertical-align: middle;\n",
       "    }\n",
       "\n",
       "    .dataframe tbody tr th {\n",
       "        vertical-align: top;\n",
       "    }\n",
       "\n",
       "    .dataframe thead th {\n",
       "        text-align: right;\n",
       "    }\n",
       "</style>\n",
       "<table border=\"1\" class=\"dataframe\">\n",
       "  <thead>\n",
       "    <tr style=\"text-align: right;\">\n",
       "      <th></th>\n",
       "      <th>credit_score</th>\n",
       "      <th>age</th>\n",
       "      <th>tenure</th>\n",
       "      <th>balance</th>\n",
       "      <th>num_of_products</th>\n",
       "      <th>has_cr_card</th>\n",
       "      <th>is_active_member</th>\n",
       "      <th>estimated_salary</th>\n",
       "      <th>geography_Germany</th>\n",
       "      <th>geography_Spain</th>\n",
       "      <th>gender_Male</th>\n",
       "    </tr>\n",
       "  </thead>\n",
       "  <tbody>\n",
       "    <tr>\n",
       "      <td>7867</td>\n",
       "      <td>-0.123733</td>\n",
       "      <td>0.685430</td>\n",
       "      <td>3.0</td>\n",
       "      <td>-1.232442</td>\n",
       "      <td>1</td>\n",
       "      <td>1</td>\n",
       "      <td>1</td>\n",
       "      <td>0.980212</td>\n",
       "      <td>0</td>\n",
       "      <td>1</td>\n",
       "      <td>0</td>\n",
       "    </tr>\n",
       "    <tr>\n",
       "      <td>1402</td>\n",
       "      <td>1.083087</td>\n",
       "      <td>-0.937002</td>\n",
       "      <td>8.0</td>\n",
       "      <td>0.858518</td>\n",
       "      <td>1</td>\n",
       "      <td>1</td>\n",
       "      <td>0</td>\n",
       "      <td>-0.390486</td>\n",
       "      <td>0</td>\n",
       "      <td>0</td>\n",
       "      <td>1</td>\n",
       "    </tr>\n",
       "    <tr>\n",
       "      <td>8606</td>\n",
       "      <td>1.598822</td>\n",
       "      <td>0.303681</td>\n",
       "      <td>5.0</td>\n",
       "      <td>-1.232442</td>\n",
       "      <td>2</td>\n",
       "      <td>1</td>\n",
       "      <td>1</td>\n",
       "      <td>-0.435169</td>\n",
       "      <td>0</td>\n",
       "      <td>1</td>\n",
       "      <td>1</td>\n",
       "    </tr>\n",
       "    <tr>\n",
       "      <td>8885</td>\n",
       "      <td>0.165078</td>\n",
       "      <td>0.589993</td>\n",
       "      <td>4.0</td>\n",
       "      <td>0.412100</td>\n",
       "      <td>2</td>\n",
       "      <td>1</td>\n",
       "      <td>1</td>\n",
       "      <td>1.017079</td>\n",
       "      <td>0</td>\n",
       "      <td>1</td>\n",
       "      <td>1</td>\n",
       "    </tr>\n",
       "    <tr>\n",
       "      <td>6494</td>\n",
       "      <td>0.484834</td>\n",
       "      <td>-1.032439</td>\n",
       "      <td>7.0</td>\n",
       "      <td>-1.232442</td>\n",
       "      <td>2</td>\n",
       "      <td>1</td>\n",
       "      <td>1</td>\n",
       "      <td>-1.343558</td>\n",
       "      <td>0</td>\n",
       "      <td>0</td>\n",
       "      <td>1</td>\n",
       "    </tr>\n",
       "  </tbody>\n",
       "</table>\n",
       "</div>"
      ],
      "text/plain": [
       "      credit_score       age  tenure   balance  num_of_products  has_cr_card  \\\n",
       "7867     -0.123733  0.685430     3.0 -1.232442                1            1   \n",
       "1402      1.083087 -0.937002     8.0  0.858518                1            1   \n",
       "8606      1.598822  0.303681     5.0 -1.232442                2            1   \n",
       "8885      0.165078  0.589993     4.0  0.412100                2            1   \n",
       "6494      0.484834 -1.032439     7.0 -1.232442                2            1   \n",
       "\n",
       "      is_active_member  estimated_salary  geography_Germany  geography_Spain  \\\n",
       "7867                 1          0.980212                  0                1   \n",
       "1402                 0         -0.390486                  0                0   \n",
       "8606                 1         -0.435169                  0                1   \n",
       "8885                 1          1.017079                  0                1   \n",
       "6494                 1         -1.343558                  0                0   \n",
       "\n",
       "      gender_Male  \n",
       "7867            0  \n",
       "1402            1  \n",
       "8606            1  \n",
       "8885            1  \n",
       "6494            1  "
      ]
     },
     "execution_count": 22,
     "metadata": {},
     "output_type": "execute_result"
    }
   ],
   "source": [
    "features_test[numeric] = scaler.transform(features_test[numeric])\n",
    "features_test.head()"
   ]
  },
  {
   "cell_type": "markdown",
   "metadata": {},
   "source": [
    "**Вывод**\n",
    "\n",
    "Выполнили необходимые преобразования, а именно:\n",
    "- убрали лишние признаки объектов, которые не способствовали лучшему обучению моделей;\n",
    "- категориальные признаки преобразовали в численные;\n",
    "- масштабировали некоторые численные признаки;\n",
    "- обработали пропущенные значения признака `tenure`;\n",
    "- отделили целевой признак от остальных и разделили данные на тренировочную, валидационную и тестовую выборки для обучения и тестирования моделей.\n",
    "\n",
    "Теперь можно приступить к обучению моделей."
   ]
  },
  {
   "cell_type": "markdown",
   "metadata": {},
   "source": [
    "## Исследование задачи"
   ]
  },
  {
   "cell_type": "markdown",
   "metadata": {},
   "source": [
    "Перед тем, как обучить модель, посмотрим на баланс классов целевого признака."
   ]
  },
  {
   "cell_type": "code",
   "execution_count": 23,
   "metadata": {},
   "outputs": [
    {
     "data": {
      "image/png": "[encoded data removed]",
      "text/plain": [
       "<Figure size 1152x360 with 1 Axes>"
      ]
     },
     "metadata": {
      "needs_background": "light"
     },
     "output_type": "display_data"
    }
   ],
   "source": [
    "target_train.hist(figsize=(16,5))\n",
    "plt.xlabel('Класс')\n",
    "plt.ylabel('Количество объектов')\n",
    "plt.title('Баланс классов целевого признака')\n",
    "plt.legend(['класс'])\n",
    "plt.show()"
   ]
  },
  {
   "cell_type": "markdown",
   "metadata": {},
   "source": [
    "Наблюдаем дисбаланс классов - положительных объектов почти в 4 раза меньше, чем отрицательных. "
   ]
  },
  {
   "cell_type": "markdown",
   "metadata": {},
   "source": [
    "Для начала обучим модели логистической регрессией, решающего дерева и случайного леса, не учитывая дисбаланс классов."
   ]
  },
  {
   "cell_type": "markdown",
   "metadata": {},
   "source": [
    "#### Логистическая регрессия (без учета дисбаланса классов)"
   ]
  },
  {
   "cell_type": "code",
   "execution_count": 24,
   "metadata": {},
   "outputs": [
    {
     "name": "stdout",
     "output_type": "stream",
     "text": [
      "Recall: 0.2071611253196931\n",
      "Precision: 0.574468085106383\n",
      "F1: 0.30451127819548873\n",
      "AUC-ROC: 0.7705235416511026\n"
     ]
    }
   ],
   "source": [
    "model = LogisticRegression(random_state=12345, solver='liblinear')\n",
    "model.fit(features_train, target_train)\n",
    "\n",
    "predicted_valid = model.predict(features_valid)\n",
    "\n",
    "probabilities_valid = model.predict_proba(features_valid)\n",
    "\n",
    "print('Recall:', recall_score(target_valid, predicted_valid))\n",
    "print('Precision:', precision_score(target_valid, predicted_valid))\n",
    "print('F1:', f1_score(target_valid, predicted_valid))\n",
    "print('AUC-ROC:', roc_auc_score(target_valid, probabilities_valid[:,1]))"
   ]
  },
  {
   "cell_type": "code",
   "execution_count": 25,
   "metadata": {},
   "outputs": [],
   "source": [
    "def print_pr(recall, precision):\n",
    "    plt.figure(figsize=(10,5))\n",
    "    plt.plot(recall, precision)\n",
    "    plt.grid()\n",
    "    plt.xlabel('Recall')\n",
    "    plt.ylabel('Precision')\n",
    "    plt.ylim([0.0, 1.0])\n",
    "    plt.xlim([0.0, 1.0])\n",
    "    plt.title('PR-кривая')\n",
    "    plt.show()"
   ]
  },
  {
   "cell_type": "code",
   "execution_count": 26,
   "metadata": {},
   "outputs": [],
   "source": [
    "def print_roc(fpr, tpr):\n",
    "    plt.figure(figsize=(10,5))\n",
    "    plt.plot([0, 1], [0, 1], linestyle='--')\n",
    "    plt.plot(fpr, tpr)\n",
    "    plt.grid()\n",
    "    plt.xlabel('False Positive Rate')\n",
    "    plt.ylabel('True Positive Rate')\n",
    "    plt.ylim([0.0, 1.0])\n",
    "    plt.xlim([0.0, 1.0])\n",
    "    plt.legend(['случайная модель', 'обученная модель'])\n",
    "    plt.title('ROC-кривая')\n",
    "    plt.show()"
   ]
  },
  {
   "cell_type": "code",
   "execution_count": 27,
   "metadata": {},
   "outputs": [
    {
     "data": {
      "image/png": "[encoded data removed]",
      "text/plain": [
       "<Figure size 720x360 with 1 Axes>"
      ]
     },
     "metadata": {
      "needs_background": "light"
     },
     "output_type": "display_data"
    }
   ],
   "source": [
    "# построим график PR-кривой\n",
    "precision_lr, recall_lr, threshold = precision_recall_curve(target_valid, probabilities_valid[:,1])\n",
    "print_pr(recall_lr, precision_lr)"
   ]
  },
  {
   "cell_type": "code",
   "execution_count": 28,
   "metadata": {},
   "outputs": [
    {
     "data": {
      "image/png": "[encoded data removed]",
      "text/plain": [
       "<Figure size 720x360 with 1 Axes>"
      ]
     },
     "metadata": {
      "needs_background": "light"
     },
     "output_type": "display_data"
    }
   ],
   "source": [
    "# построим график ROC-кривой обученной модели\n",
    "fpr_lr, tpr_lr, thresholds = roc_curve(target_valid, probabilities_valid[:,1])\n",
    "print_roc(fpr_lr, tpr_lr)"
   ]
  },
  {
   "cell_type": "markdown",
   "metadata": {},
   "source": [
    "**Вывод**\n",
    "\n",
    "Получили очень низкие значения метрик полноты, точности и f1-меры, что логично. Модель обучается на данных, в которых преобладают объекты только одного класса - нулевого. Из-за этого модель на валидационных данных не способна предсказывать целевой признак с большей точностью. Тем не менее, обученная модель лучше, чем случайная, что подтвержается значением **AUC-ROC = 0.77**."
   ]
  },
  {
   "cell_type": "markdown",
   "metadata": {},
   "source": [
    "#### Модель решающего дерева (без учета дисбаланса классов)"
   ]
  },
  {
   "cell_type": "markdown",
   "metadata": {},
   "source": [
    "Найдем модель с наибольшим значением f1-меры. Для этого необходимо найти наилучшие значения следующих гиперпараметров:\n",
    "\n",
    "- 'max_depth' - максимальная глубина дерева (будем перебирать значения от 1 до 15),\n",
    "- 'min_samples_split' - наименьшее количество объектов выборки, попадающих в узел решающего дерева (от 2 до 10),\n",
    "- 'min_samples_leaf' - наименьшее количество объектов выборки, необходимых для создания листа решающего дерева (от 1 до 10)."
   ]
  },
  {
   "cell_type": "code",
   "execution_count": 29,
   "metadata": {},
   "outputs": [
    {
     "name": "stderr",
     "output_type": "stream",
     "text": [
      "100%|██████████| 15/15 [00:41<00:00,  2.78s/it]"
     ]
    },
    {
     "name": "stdout",
     "output_type": "stream",
     "text": [
      "F1-мера наилучшей модели решающего дерева на валидационной выборке 0.5665101721439749 при следующих параметрах:\n",
      "max_depth = 7\n",
      "min_samples_split = 2\n",
      "min_samples_leaf = 8\n"
     ]
    },
    {
     "name": "stderr",
     "output_type": "stream",
     "text": [
      "\n"
     ]
    }
   ],
   "source": [
    "i = 0\n",
    "tree_df = pd.DataFrame(columns=['max_depth', 'min_samples_split', 'min_samples_leaf', 'f1_train', 'f1_valid'])\n",
    "best_model_tree = None\n",
    "best_result = 0\n",
    "best_depth = 0\n",
    "best_split = 0\n",
    "best_leaf = 0\n",
    "for depth in tqdm(range(1,16)):\n",
    "    for split in range(2,11):\n",
    "        for leaf in range(1,11):\n",
    "            model = DecisionTreeClassifier(\n",
    "                random_state=12345, \n",
    "                max_depth=depth, \n",
    "                min_samples_split=split, \n",
    "                min_samples_leaf=leaf\n",
    "            )\n",
    "            model.fit(features_train, target_train)\n",
    "            predicted_valid = model.predict(features_valid)\n",
    "            predicted_train = model.predict(features_train)\n",
    "            result_train = f1_score(target_train, predicted_train)\n",
    "            result_valid = f1_score(target_valid, predicted_valid)\n",
    "            tree_df.loc[i] = np.array([depth, split, leaf, result_train, result_valid])\n",
    "            i += 1\n",
    "            if result_valid > best_result:\n",
    "                best_model_tree = model\n",
    "                best_result = result_valid\n",
    "                best_depth = depth\n",
    "                best_split = split\n",
    "                best_leaf = leaf\n",
    "\n",
    "print(f'F1-мера наилучшей модели решающего дерева на валидационной выборке {best_result} при следующих параметрах:'+'\\n'+\n",
    "      f'max_depth = {best_depth}'+'\\n'+\n",
    "      f'min_samples_split = {best_split}'+'\\n'+\n",
    "      f'min_samples_leaf = {best_leaf}')"
   ]
  },
  {
   "cell_type": "code",
   "execution_count": 30,
   "metadata": {},
   "outputs": [
    {
     "data": {
      "text/html": [
       "<div>\n",
       "<style scoped>\n",
       "    .dataframe tbody tr th:only-of-type {\n",
       "        vertical-align: middle;\n",
       "    }\n",
       "\n",
       "    .dataframe tbody tr th {\n",
       "        vertical-align: top;\n",
       "    }\n",
       "\n",
       "    .dataframe thead th {\n",
       "        text-align: right;\n",
       "    }\n",
       "</style>\n",
       "<table border=\"1\" class=\"dataframe\">\n",
       "  <thead>\n",
       "    <tr style=\"text-align: right;\">\n",
       "      <th></th>\n",
       "      <th>max_depth</th>\n",
       "      <th>min_samples_split</th>\n",
       "      <th>min_samples_leaf</th>\n",
       "      <th>f1_train</th>\n",
       "      <th>f1_valid</th>\n",
       "    </tr>\n",
       "  </thead>\n",
       "  <tbody>\n",
       "    <tr>\n",
       "      <td>547</td>\n",
       "      <td>7.0</td>\n",
       "      <td>2.0</td>\n",
       "      <td>8.0</td>\n",
       "      <td>0.613065</td>\n",
       "      <td>0.56651</td>\n",
       "    </tr>\n",
       "    <tr>\n",
       "      <td>627</td>\n",
       "      <td>7.0</td>\n",
       "      <td>10.0</td>\n",
       "      <td>8.0</td>\n",
       "      <td>0.613065</td>\n",
       "      <td>0.56651</td>\n",
       "    </tr>\n",
       "    <tr>\n",
       "      <td>557</td>\n",
       "      <td>7.0</td>\n",
       "      <td>3.0</td>\n",
       "      <td>8.0</td>\n",
       "      <td>0.613065</td>\n",
       "      <td>0.56651</td>\n",
       "    </tr>\n",
       "    <tr>\n",
       "      <td>567</td>\n",
       "      <td>7.0</td>\n",
       "      <td>4.0</td>\n",
       "      <td>8.0</td>\n",
       "      <td>0.613065</td>\n",
       "      <td>0.56651</td>\n",
       "    </tr>\n",
       "    <tr>\n",
       "      <td>597</td>\n",
       "      <td>7.0</td>\n",
       "      <td>7.0</td>\n",
       "      <td>8.0</td>\n",
       "      <td>0.613065</td>\n",
       "      <td>0.56651</td>\n",
       "    </tr>\n",
       "  </tbody>\n",
       "</table>\n",
       "</div>"
      ],
      "text/plain": [
       "     max_depth  min_samples_split  min_samples_leaf  f1_train  f1_valid\n",
       "547        7.0                2.0               8.0  0.613065   0.56651\n",
       "627        7.0               10.0               8.0  0.613065   0.56651\n",
       "557        7.0                3.0               8.0  0.613065   0.56651\n",
       "567        7.0                4.0               8.0  0.613065   0.56651\n",
       "597        7.0                7.0               8.0  0.613065   0.56651"
      ]
     },
     "execution_count": 30,
     "metadata": {},
     "output_type": "execute_result"
    }
   ],
   "source": [
    "tree_df.sort_values(by='f1_valid', ascending=False).head()"
   ]
  },
  {
   "cell_type": "markdown",
   "metadata": {},
   "source": [
    "Посчитаем метрики полноты, точности и AUC-ROC для лучшей модели решающего дерева на валидационной выборке, а также построим графики PR-кривой и ROC-кривой."
   ]
  },
  {
   "cell_type": "code",
   "execution_count": 31,
   "metadata": {},
   "outputs": [
    {
     "name": "stdout",
     "output_type": "stream",
     "text": [
      "Recall: 0.4629156010230179\n",
      "Precision 0.7298387096774194\n",
      "AUC-ROC: 0.8279975648486215\n"
     ]
    }
   ],
   "source": [
    "best_model_tree.fit(features_train, target_train)\n",
    "predicted_valid = best_model_tree.predict(features_valid)\n",
    "probabilities_valid = best_model_tree.predict_proba(features_valid)\n",
    "\n",
    "print('Recall:', recall_score(target_valid, predicted_valid))\n",
    "print('Precision', precision_score(target_valid, predicted_valid))\n",
    "print('AUC-ROC:', roc_auc_score(target_valid, probabilities_valid[:,1]))"
   ]
  },
  {
   "cell_type": "code",
   "execution_count": 32,
   "metadata": {},
   "outputs": [
    {
     "data": {
      "image/png": "[encoded data removed]",
      "text/plain": [
       "<Figure size 720x360 with 1 Axes>"
      ]
     },
     "metadata": {
      "needs_background": "light"
     },
     "output_type": "display_data"
    }
   ],
   "source": [
    "# построим график PR-кривой\n",
    "precision_dt, recall_dt, threshold = precision_recall_curve(target_valid, probabilities_valid[:,1])\n",
    "print_pr(recall_dt, precision_dt)"
   ]
  },
  {
   "cell_type": "code",
   "execution_count": 33,
   "metadata": {
    "scrolled": true
   },
   "outputs": [
    {
     "data": {
      "image/png": "[encoded data removed]",
      "text/plain": [
       "<Figure size 720x360 with 1 Axes>"
      ]
     },
     "metadata": {
      "needs_background": "light"
     },
     "output_type": "display_data"
    }
   ],
   "source": [
    "# построим график ROC-кривой обученной модели\n",
    "fpr_dt, tpr_dt, thresholds = roc_curve(target_valid, probabilities_valid[:,1])\n",
    "print_roc(fpr_dt, tpr_dt)"
   ]
  },
  {
   "cell_type": "markdown",
   "metadata": {},
   "source": [
    "**Вывод**\n",
    "\n",
    "Модель решающего дерева показала себя лучше модели логистической регрессии.Значение f1-меры больше, чем в первом случае и составляет **~0.5665**. Сравнили обученную модель со случайной и выяснили, что наша модель лучше, так как значение **AUC-ROC ~ 0.83**."
   ]
  },
  {
   "cell_type": "markdown",
   "metadata": {},
   "source": [
    "#### Модель случайного леса (без учета дисбаланса классов)"
   ]
  },
  {
   "cell_type": "markdown",
   "metadata": {},
   "source": [
    "Найдем модель с наибольшим значением f1-меры. Для этого необходимо найти наилучшие значения следующих гиперпараметров:\n",
    "- 'max_depth' - максимальная глубина дерева (будем перебирать значения от 1 до 10),\n",
    "- 'min_samples_split' - наименьшее количество объектов выборки, попадающих в узел решающего дерева (от 2 до 5),\n",
    "- 'min_samples_leaf' - наименьшее количество объектов выборки, необходимых для создания листа решающего дерева (от 1 до 5),\n",
    "- 'n_estimators' - количество деревьев в лесу (от 10 до 100 с шагом 10)."
   ]
  },
  {
   "cell_type": "code",
   "execution_count": 34,
   "metadata": {},
   "outputs": [
    {
     "name": "stderr",
     "output_type": "stream",
     "text": [
      "100%|██████████| 10/10 [11:11<00:00, 67.12s/it]"
     ]
    },
    {
     "name": "stdout",
     "output_type": "stream",
     "text": [
      "F1-мера наилучшей модели случайного леса на валидационной выборке 0.5681444991789819 при следующих параметрах:\n",
      "n_estimators = 40\n",
      "max_depth = 10\n",
      "min_samples_split = 2\n",
      "min_samples_leaf = 4\n"
     ]
    },
    {
     "name": "stderr",
     "output_type": "stream",
     "text": [
      "\n"
     ]
    }
   ],
   "source": [
    "i = 0\n",
    "forest_df = pd.DataFrame(columns=['n_estimators','max_depth','min_samples_split','min_samples_leaf','f1_train','f1_valid'])\n",
    "best_result = 0\n",
    "best_model_forest = None\n",
    "best_depth = 0\n",
    "best_split = 0\n",
    "best_leaf = 0\n",
    "best_est = 0\n",
    "for depth in tqdm(range(1,11)):\n",
    "    for split in range(2,6):\n",
    "        for leaf in range(1,6):\n",
    "            for est in range(10, 101, 10):\n",
    "                model = RandomForestClassifier(\n",
    "                    random_state=12345, \n",
    "                    n_estimators=est, \n",
    "                    max_depth=depth, \n",
    "                    min_samples_split=split,\n",
    "                    min_samples_leaf=leaf\n",
    "                )\n",
    "                model.fit(features_train, target_train)\n",
    "                predicted_valid = model.predict(features_valid)\n",
    "                predicted_train = model.predict(features_train)\n",
    "                result_train = f1_score(target_train, predicted_train)\n",
    "                result_valid = f1_score(target_valid, predicted_valid)\n",
    "                forest_df.loc[i] = np.array([est, depth, split, leaf, result_train, result_valid])\n",
    "                i += 1\n",
    "                if result_valid > best_result:\n",
    "                    best_model_forest = model\n",
    "                    best_result = result_valid\n",
    "                    best_depth = depth\n",
    "                    best_split = split\n",
    "                    best_leaf = leaf\n",
    "                    best_est = est\n",
    "\n",
    "print(f'F1-мера наилучшей модели случайного леса на валидационной выборке {best_result} при следующих параметрах:'+'\\n'+\n",
    "      f'n_estimators = {best_est}'+'\\n'+\n",
    "      f'max_depth = {best_depth}'+'\\n'+\n",
    "      f'min_samples_split = {best_split}'+'\\n'+\n",
    "      f'min_samples_leaf = {best_leaf}')"
   ]
  },
  {
   "cell_type": "code",
   "execution_count": 35,
   "metadata": {},
   "outputs": [
    {
     "data": {
      "text/html": [
       "<div>\n",
       "<style scoped>\n",
       "    .dataframe tbody tr th:only-of-type {\n",
       "        vertical-align: middle;\n",
       "    }\n",
       "\n",
       "    .dataframe tbody tr th {\n",
       "        vertical-align: top;\n",
       "    }\n",
       "\n",
       "    .dataframe thead th {\n",
       "        text-align: right;\n",
       "    }\n",
       "</style>\n",
       "<table border=\"1\" class=\"dataframe\">\n",
       "  <thead>\n",
       "    <tr style=\"text-align: right;\">\n",
       "      <th></th>\n",
       "      <th>n_estimators</th>\n",
       "      <th>max_depth</th>\n",
       "      <th>min_samples_split</th>\n",
       "      <th>min_samples_leaf</th>\n",
       "      <th>f1_train</th>\n",
       "      <th>f1_valid</th>\n",
       "    </tr>\n",
       "  </thead>\n",
       "  <tbody>\n",
       "    <tr>\n",
       "      <td>1833</td>\n",
       "      <td>40.0</td>\n",
       "      <td>10.0</td>\n",
       "      <td>2.0</td>\n",
       "      <td>4.0</td>\n",
       "      <td>0.665625</td>\n",
       "      <td>0.568144</td>\n",
       "    </tr>\n",
       "    <tr>\n",
       "      <td>1883</td>\n",
       "      <td>40.0</td>\n",
       "      <td>10.0</td>\n",
       "      <td>3.0</td>\n",
       "      <td>4.0</td>\n",
       "      <td>0.665625</td>\n",
       "      <td>0.568144</td>\n",
       "    </tr>\n",
       "    <tr>\n",
       "      <td>1933</td>\n",
       "      <td>40.0</td>\n",
       "      <td>10.0</td>\n",
       "      <td>4.0</td>\n",
       "      <td>4.0</td>\n",
       "      <td>0.665625</td>\n",
       "      <td>0.568144</td>\n",
       "    </tr>\n",
       "    <tr>\n",
       "      <td>1983</td>\n",
       "      <td>40.0</td>\n",
       "      <td>10.0</td>\n",
       "      <td>5.0</td>\n",
       "      <td>4.0</td>\n",
       "      <td>0.665625</td>\n",
       "      <td>0.568144</td>\n",
       "    </tr>\n",
       "    <tr>\n",
       "      <td>1915</td>\n",
       "      <td>60.0</td>\n",
       "      <td>10.0</td>\n",
       "      <td>4.0</td>\n",
       "      <td>2.0</td>\n",
       "      <td>0.685774</td>\n",
       "      <td>0.562914</td>\n",
       "    </tr>\n",
       "  </tbody>\n",
       "</table>\n",
       "</div>"
      ],
      "text/plain": [
       "      n_estimators  max_depth  min_samples_split  min_samples_leaf  f1_train  \\\n",
       "1833          40.0       10.0                2.0               4.0  0.665625   \n",
       "1883          40.0       10.0                3.0               4.0  0.665625   \n",
       "1933          40.0       10.0                4.0               4.0  0.665625   \n",
       "1983          40.0       10.0                5.0               4.0  0.665625   \n",
       "1915          60.0       10.0                4.0               2.0  0.685774   \n",
       "\n",
       "      f1_valid  \n",
       "1833  0.568144  \n",
       "1883  0.568144  \n",
       "1933  0.568144  \n",
       "1983  0.568144  \n",
       "1915  0.562914  "
      ]
     },
     "execution_count": 35,
     "metadata": {},
     "output_type": "execute_result"
    }
   ],
   "source": [
    "forest_df.sort_values(by='f1_valid', ascending=False).head()"
   ]
  },
  {
   "cell_type": "markdown",
   "metadata": {},
   "source": [
    "Посчитаем метрики полноты, точности и AUC-ROC для лучшей модели случайного леса на валидационной выборке, а также построим графики PR-кривой и ROC-кривой."
   ]
  },
  {
   "cell_type": "code",
   "execution_count": 36,
   "metadata": {},
   "outputs": [
    {
     "name": "stdout",
     "output_type": "stream",
     "text": [
      "Recall: 0.4424552429667519\n",
      "Precision 0.7935779816513762\n",
      "AUC-ROC: 0.8506578246722798\n"
     ]
    }
   ],
   "source": [
    "best_model_forest.fit(features_train, target_train)\n",
    "predicted_valid = best_model_forest.predict(features_valid)\n",
    "probabilities_valid = best_model_forest.predict_proba(features_valid)\n",
    "\n",
    "print('Recall:', recall_score(target_valid, predicted_valid))\n",
    "print('Precision', precision_score(target_valid, predicted_valid))\n",
    "print('AUC-ROC:', roc_auc_score(target_valid, probabilities_valid[:,1]))"
   ]
  },
  {
   "cell_type": "code",
   "execution_count": 37,
   "metadata": {},
   "outputs": [
    {
     "data": {
      "image/png": "[encoded data removed]",
      "text/plain": [
       "<Figure size 720x360 with 1 Axes>"
      ]
     },
     "metadata": {
      "needs_background": "light"
     },
     "output_type": "display_data"
    }
   ],
   "source": [
    "# построим график PR-кривой\n",
    "precision_rf, recall_rf, threshold = precision_recall_curve(target_valid, probabilities_valid[:,1])\n",
    "print_pr(recall_rf, precision_rf)"
   ]
  },
  {
   "cell_type": "code",
   "execution_count": 38,
   "metadata": {
    "scrolled": true
   },
   "outputs": [
    {
     "data": {
      "image/png": "[encoded data removed]",
      "text/plain": [
       "<Figure size 720x360 with 1 Axes>"
      ]
     },
     "metadata": {
      "needs_background": "light"
     },
     "output_type": "display_data"
    }
   ],
   "source": [
    "# построим график ROC-кривой обученной модели\n",
    "fpr_rf, tpr_rf, thresholds = roc_curve(target_valid, probabilities_valid[:,1])\n",
    "print_roc(fpr_rf, tpr_rf)"
   ]
  },
  {
   "cell_type": "markdown",
   "metadata": {},
   "source": [
    "**Вывод**\n",
    "\n",
    "Значение f1-меры лучшей модели случайного леса получилось почти таким же, как и для лучшей модели решающего дерева и составляет **~0.5681**. Сравнили обученную модель со случайной и выяснили, что наша модель лучше, так как значение **AUC-ROC ~ 0.85**."
   ]
  },
  {
   "cell_type": "markdown",
   "metadata": {},
   "source": [
    "#### Сравнение моделей"
   ]
  },
  {
   "cell_type": "markdown",
   "metadata": {},
   "source": [
    "Сведем полученные метрики для трех обученных моделей в таблицу, а также построим на PR-кривые и ROC-кривые на одном графике."
   ]
  },
  {
   "cell_type": "code",
   "execution_count": 39,
   "metadata": {},
   "outputs": [
    {
     "data": {
      "text/html": [
       "<div>\n",
       "<style scoped>\n",
       "    .dataframe tbody tr th:only-of-type {\n",
       "        vertical-align: middle;\n",
       "    }\n",
       "\n",
       "    .dataframe tbody tr th {\n",
       "        vertical-align: top;\n",
       "    }\n",
       "\n",
       "    .dataframe thead th {\n",
       "        text-align: right;\n",
       "    }\n",
       "</style>\n",
       "<table border=\"1\" class=\"dataframe\">\n",
       "  <thead>\n",
       "    <tr style=\"text-align: right;\">\n",
       "      <th></th>\n",
       "      <th>Model</th>\n",
       "      <th>Recall</th>\n",
       "      <th>Precision</th>\n",
       "      <th>F1-score</th>\n",
       "      <th>AUC-ROC</th>\n",
       "    </tr>\n",
       "  </thead>\n",
       "  <tbody>\n",
       "    <tr>\n",
       "      <td>0</td>\n",
       "      <td>Logistic Regression</td>\n",
       "      <td>0.2072</td>\n",
       "      <td>0.5745</td>\n",
       "      <td>0.3045</td>\n",
       "      <td>0.7705</td>\n",
       "    </tr>\n",
       "    <tr>\n",
       "      <td>1</td>\n",
       "      <td>Decision Tree</td>\n",
       "      <td>0.4629</td>\n",
       "      <td>0.7298</td>\n",
       "      <td>0.5665</td>\n",
       "      <td>0.8280</td>\n",
       "    </tr>\n",
       "    <tr>\n",
       "      <td>2</td>\n",
       "      <td>Random Forest</td>\n",
       "      <td>0.4425</td>\n",
       "      <td>0.7936</td>\n",
       "      <td>0.5681</td>\n",
       "      <td>0.8507</td>\n",
       "    </tr>\n",
       "  </tbody>\n",
       "</table>\n",
       "</div>"
      ],
      "text/plain": [
       "                 Model  Recall  Precision  F1-score  AUC-ROC\n",
       "0  Logistic Regression  0.2072     0.5745    0.3045   0.7705\n",
       "1        Decision Tree  0.4629     0.7298    0.5665   0.8280\n",
       "2        Random Forest  0.4425     0.7936    0.5681   0.8507"
      ]
     },
     "execution_count": 39,
     "metadata": {},
     "output_type": "execute_result"
    }
   ],
   "source": [
    "data = [['Logistic Regression', 0.2072, 0.5745, 0.3045, 0.7705],\n",
    "        ['Decision Tree', 0.4629, 0.7298, 0.5665, 0.828],\n",
    "        ['Random Forest', 0.4425, 0.7936, 0.5681, 0.8507]]\n",
    "columns = ['Model', 'Recall', 'Precision', 'F1-score', 'AUC-ROC']\n",
    "models_no_balance = pd.DataFrame(data=data, columns=columns)\n",
    "models_no_balance"
   ]
  },
  {
   "cell_type": "code",
   "execution_count": 40,
   "metadata": {},
   "outputs": [
    {
     "data": {
      "image/png": "[encoded data removed]",
      "text/plain": [
       "<Figure size 1152x360 with 1 Axes>"
      ]
     },
     "metadata": {
      "needs_background": "light"
     },
     "output_type": "display_data"
    }
   ],
   "source": [
    "plt.figure(figsize=(16,5))\n",
    "plt.plot(recall_lr, precision_lr)\n",
    "plt.plot(recall_dt, precision_dt)\n",
    "plt.plot(recall_rf, precision_rf)\n",
    "plt.grid()\n",
    "plt.xlabel('Recall')\n",
    "plt.ylabel('Precision')\n",
    "plt.ylim([0.0, 1.0])\n",
    "plt.xlim([0.0, 1.0])\n",
    "plt.legend(['Logistic Regression', 'Decision Tree', 'Random Forest'])\n",
    "plt.title('PR-кривая')\n",
    "plt.show()"
   ]
  },
  {
   "cell_type": "code",
   "execution_count": 41,
   "metadata": {},
   "outputs": [
    {
     "data": {
      "image/png": "[encoded data removed]",
      "text/plain": [
       "<Figure size 1152x360 with 1 Axes>"
      ]
     },
     "metadata": {
      "needs_background": "light"
     },
     "output_type": "display_data"
    }
   ],
   "source": [
    "plt.figure(figsize=(16,5))\n",
    "plt.plot([0, 1], [0, 1], linestyle='--')\n",
    "plt.plot(fpr_lr, tpr_lr)\n",
    "plt.plot(fpr_dt, tpr_dt)\n",
    "plt.plot(fpr_rf, tpr_rf)\n",
    "plt.grid()\n",
    "plt.xlabel('False Positive Rate')\n",
    "plt.ylabel('True Positive Rate')\n",
    "plt.ylim([0.0, 1.0])\n",
    "plt.xlim([0.0, 1.0])\n",
    "plt.legend(['случайная модель', 'Logistic Regression', 'Decision Tree', 'Random Forest'])\n",
    "plt.title('ROC-кривая')\n",
    "plt.show()"
   ]
  },
  {
   "cell_type": "markdown",
   "metadata": {},
   "source": [
    "**Вывод**\n",
    "\n",
    "Представленные графики PR-кривой и ROC-кривой подтвержают результаты: все три модели превосходят случайную модель, качество моделей решающего дерева и случайного леса выше, чем у модели логистической регрессии. Однако, ни одна из моделей не показала необходимое значение f1-меры в 0.59. Необходимо повысить качество моделей путем решения проблемы дисбаланса классов."
   ]
  },
  {
   "cell_type": "markdown",
   "metadata": {},
   "source": [
    "## Борьба с дисбалансом"
   ]
  },
  {
   "cell_type": "markdown",
   "metadata": {},
   "source": [
    "Решать проблему дисбаланса классов будем тремя способами:\n",
    "1. Использованием аргумента 'class_weight' при обучении моделей\n",
    "2. Увеличением выборки (увеличением количества объектов единичного класса)\n",
    "3. Уменьшением выборки (уменьшением количества объектов нулевого класса)"
   ]
  },
  {
   "cell_type": "markdown",
   "metadata": {},
   "source": [
    "### Способ 1. Использование аргумента 'class_weight'"
   ]
  },
  {
   "cell_type": "markdown",
   "metadata": {},
   "source": [
    "#### Логистическая регрессия (с учетом дисбаланса классов)"
   ]
  },
  {
   "cell_type": "markdown",
   "metadata": {},
   "source": [
    "Обучим модель, найдем значения метрик (полнота, точность, F1-мера и AUC-ROC) на валидационной выборке, построим графики PR-кривой и ROC-кривой."
   ]
  },
  {
   "cell_type": "code",
   "execution_count": 42,
   "metadata": {},
   "outputs": [
    {
     "name": "stdout",
     "output_type": "stream",
     "text": [
      "Recall: 0.6828644501278772\n",
      "Precision: 0.36475409836065575\n",
      "F1: 0.4755120213713268\n",
      "AUC-ROC: 0.7726185348082\n"
     ]
    }
   ],
   "source": [
    "model = LogisticRegression(random_state=12345, solver='liblinear', class_weight='balanced')\n",
    "model.fit(features_train, target_train)\n",
    "\n",
    "predicted_valid = model.predict(features_valid)\n",
    "\n",
    "probabilities_valid = model.predict_proba(features_valid)\n",
    "\n",
    "print('Recall:', recall_score(target_valid, predicted_valid))\n",
    "print('Precision:', precision_score(target_valid, predicted_valid))\n",
    "print('F1:', f1_score(target_valid, predicted_valid))\n",
    "print('AUC-ROC:', roc_auc_score(target_valid, probabilities_valid[:,1]))"
   ]
  },
  {
   "cell_type": "code",
   "execution_count": 43,
   "metadata": {},
   "outputs": [
    {
     "data": {
      "image/png": "[encoded data removed]",
      "text/plain": [
       "<Figure size 720x360 with 1 Axes>"
      ]
     },
     "metadata": {
      "needs_background": "light"
     },
     "output_type": "display_data"
    }
   ],
   "source": [
    "# построим график PR-кривой\n",
    "precision_lr_bal, recall_lr_bal, threshold = precision_recall_curve(target_valid, probabilities_valid[:,1])\n",
    "print_pr(recall_lr_bal, precision_lr_bal)"
   ]
  },
  {
   "cell_type": "code",
   "execution_count": 44,
   "metadata": {},
   "outputs": [
    {
     "data": {
      "image/png": "[encoded data removed]",
      "text/plain": [
       "<Figure size 720x360 with 1 Axes>"
      ]
     },
     "metadata": {
      "needs_background": "light"
     },
     "output_type": "display_data"
    }
   ],
   "source": [
    "# построим график ROC-кривой обученной модели\n",
    "fpr_lr_bal, tpr_lr_bal, thresholds = roc_curve(target_valid, probabilities_valid[:,1])\n",
    "print_roc(fpr_lr_bal, tpr_lr_bal)"
   ]
  },
  {
   "cell_type": "markdown",
   "metadata": {},
   "source": [
    "**Вывод**\n",
    "\n",
    "Получили **f1-меру, равную 0.4755**. Это больше, чем раньше, когда не учитывали дисбаланс классов, но все же до требуемого значения модель не дотягивает."
   ]
  },
  {
   "cell_type": "markdown",
   "metadata": {},
   "source": [
    "#### Модель решающего дерева (с учетом дисбаланса классов)"
   ]
  },
  {
   "cell_type": "markdown",
   "metadata": {},
   "source": [
    "Найдем модель с наибольшим значением f1-меры. Для этого необходимо найти наилучшие значения следующих гиперпараметров:\n",
    "\n",
    "- 'max_depth' - максимальная глубина дерева (будем перебирать значения от 1 до 15),\n",
    "- 'min_samples_split' - наименьшее количество объектов выборки, попадающих в узел решающего дерева (от 2 до 10),\n",
    "- 'min_samples_leaf' - наименьшее количество объектов выборки, необходимых для создания листа решающего дерева (от 1 до 10)."
   ]
  },
  {
   "cell_type": "code",
   "execution_count": 45,
   "metadata": {},
   "outputs": [
    {
     "name": "stderr",
     "output_type": "stream",
     "text": [
      "100%|██████████| 15/15 [00:42<00:00,  2.85s/it]"
     ]
    },
    {
     "name": "stdout",
     "output_type": "stream",
     "text": [
      "F1-мера наилучшей модели решающего дерева на валидационной выборке 0.5619335347432024 при следующих параметрах:\n",
      "max_depth = 6\n",
      "min_samples_split = 2\n",
      "min_samples_leaf = 3\n"
     ]
    },
    {
     "name": "stderr",
     "output_type": "stream",
     "text": [
      "\n"
     ]
    }
   ],
   "source": [
    "i = 0\n",
    "tree_df_bal = pd.DataFrame(columns=['max_depth', 'min_samples_split', 'min_samples_leaf', 'f1_train', 'f1_valid'])\n",
    "best_model_tree = None\n",
    "best_result = 0\n",
    "best_depth = 0\n",
    "best_split = 0\n",
    "best_leaf = 0\n",
    "for depth in tqdm(range(1,16)):\n",
    "    for split in range(2,11):\n",
    "        for leaf in range(1,11):\n",
    "            model = DecisionTreeClassifier(\n",
    "                random_state=12345, \n",
    "                max_depth=depth, \n",
    "                min_samples_split=split, \n",
    "                min_samples_leaf=leaf,\n",
    "                class_weight='balanced'\n",
    "            )\n",
    "            model.fit(features_train, target_train)\n",
    "            predicted_valid = model.predict(features_valid)\n",
    "            predicted_train = model.predict(features_train)\n",
    "            result_train = f1_score(target_train, predicted_train)\n",
    "            result_valid = f1_score(target_valid, predicted_valid)\n",
    "            tree_df_bal.loc[i] = np.array([depth, split, leaf, result_train, result_valid])\n",
    "            i += 1\n",
    "            if result_valid > best_result:\n",
    "                best_model_tree = model\n",
    "                best_result = result_valid\n",
    "                best_depth = depth\n",
    "                best_split = split\n",
    "                best_leaf = leaf\n",
    "\n",
    "print(f'F1-мера наилучшей модели решающего дерева на валидационной выборке {best_result} при следующих параметрах:'+'\\n'+\n",
    "      f'max_depth = {best_depth}'+'\\n'+\n",
    "      f'min_samples_split = {best_split}'+'\\n'+\n",
    "      f'min_samples_leaf = {best_leaf}')"
   ]
  },
  {
   "cell_type": "code",
   "execution_count": 46,
   "metadata": {},
   "outputs": [
    {
     "data": {
      "text/html": [
       "<div>\n",
       "<style scoped>\n",
       "    .dataframe tbody tr th:only-of-type {\n",
       "        vertical-align: middle;\n",
       "    }\n",
       "\n",
       "    .dataframe tbody tr th {\n",
       "        vertical-align: top;\n",
       "    }\n",
       "\n",
       "    .dataframe thead th {\n",
       "        text-align: right;\n",
       "    }\n",
       "</style>\n",
       "<table border=\"1\" class=\"dataframe\">\n",
       "  <thead>\n",
       "    <tr style=\"text-align: right;\">\n",
       "      <th></th>\n",
       "      <th>max_depth</th>\n",
       "      <th>min_samples_split</th>\n",
       "      <th>min_samples_leaf</th>\n",
       "      <th>f1_train</th>\n",
       "      <th>f1_valid</th>\n",
       "    </tr>\n",
       "  </thead>\n",
       "  <tbody>\n",
       "    <tr>\n",
       "      <td>452</td>\n",
       "      <td>6.0</td>\n",
       "      <td>2.0</td>\n",
       "      <td>3.0</td>\n",
       "      <td>0.611857</td>\n",
       "      <td>0.561934</td>\n",
       "    </tr>\n",
       "    <tr>\n",
       "      <td>532</td>\n",
       "      <td>6.0</td>\n",
       "      <td>10.0</td>\n",
       "      <td>3.0</td>\n",
       "      <td>0.611857</td>\n",
       "      <td>0.561934</td>\n",
       "    </tr>\n",
       "    <tr>\n",
       "      <td>462</td>\n",
       "      <td>6.0</td>\n",
       "      <td>3.0</td>\n",
       "      <td>3.0</td>\n",
       "      <td>0.611857</td>\n",
       "      <td>0.561934</td>\n",
       "    </tr>\n",
       "    <tr>\n",
       "      <td>522</td>\n",
       "      <td>6.0</td>\n",
       "      <td>9.0</td>\n",
       "      <td>3.0</td>\n",
       "      <td>0.611857</td>\n",
       "      <td>0.561934</td>\n",
       "    </tr>\n",
       "    <tr>\n",
       "      <td>512</td>\n",
       "      <td>6.0</td>\n",
       "      <td>8.0</td>\n",
       "      <td>3.0</td>\n",
       "      <td>0.611857</td>\n",
       "      <td>0.561934</td>\n",
       "    </tr>\n",
       "  </tbody>\n",
       "</table>\n",
       "</div>"
      ],
      "text/plain": [
       "     max_depth  min_samples_split  min_samples_leaf  f1_train  f1_valid\n",
       "452        6.0                2.0               3.0  0.611857  0.561934\n",
       "532        6.0               10.0               3.0  0.611857  0.561934\n",
       "462        6.0                3.0               3.0  0.611857  0.561934\n",
       "522        6.0                9.0               3.0  0.611857  0.561934\n",
       "512        6.0                8.0               3.0  0.611857  0.561934"
      ]
     },
     "execution_count": 46,
     "metadata": {},
     "output_type": "execute_result"
    }
   ],
   "source": [
    "tree_df_bal.sort_values(by='f1_valid', ascending=False).head()"
   ]
  },
  {
   "cell_type": "markdown",
   "metadata": {},
   "source": [
    "Посчитаем метрики полноты, точности и AUC-ROC для лучшей модели решающего дерева на валидационной выборке, а также построим графики PR-кривой и ROC-кривой."
   ]
  },
  {
   "cell_type": "code",
   "execution_count": 47,
   "metadata": {},
   "outputs": [
    {
     "name": "stdout",
     "output_type": "stream",
     "text": [
      "Recall: 0.7135549872122762\n",
      "Precision 0.4634551495016611\n",
      "AUC-ROC: 0.8177657962960903\n"
     ]
    }
   ],
   "source": [
    "best_model_tree.fit(features_train, target_train)\n",
    "predicted_valid = best_model_tree.predict(features_valid)\n",
    "probabilities_valid = best_model_tree.predict_proba(features_valid)\n",
    "\n",
    "print('Recall:', recall_score(target_valid, predicted_valid))\n",
    "print('Precision', precision_score(target_valid, predicted_valid))\n",
    "print('AUC-ROC:', roc_auc_score(target_valid, probabilities_valid[:,1]))"
   ]
  },
  {
   "cell_type": "code",
   "execution_count": 48,
   "metadata": {},
   "outputs": [
    {
     "data": {
      "image/png": "[encoded data removed]",
      "text/plain": [
       "<Figure size 720x360 with 1 Axes>"
      ]
     },
     "metadata": {
      "needs_background": "light"
     },
     "output_type": "display_data"
    }
   ],
   "source": [
    "# построим график PR-кривой\n",
    "precision_dt_bal, recall_dt_bal, threshold = precision_recall_curve(target_valid, probabilities_valid[:,1])\n",
    "print_pr(recall_dt_bal, precision_dt_bal)"
   ]
  },
  {
   "cell_type": "code",
   "execution_count": 49,
   "metadata": {
    "scrolled": true
   },
   "outputs": [
    {
     "data": {
      "image/png": "[encoded data removed]",
      "text/plain": [
       "<Figure size 720x360 with 1 Axes>"
      ]
     },
     "metadata": {
      "needs_background": "light"
     },
     "output_type": "display_data"
    }
   ],
   "source": [
    "# построим график ROC-кривой обученной модели\n",
    "fpr_dt_bal, tpr_dt_bal, thresholds = roc_curve(target_valid, probabilities_valid[:,1])\n",
    "print_roc(fpr_dt_bal, tpr_dt_bal)"
   ]
  },
  {
   "cell_type": "markdown",
   "metadata": {},
   "source": [
    "**Вывод**\n",
    "\n",
    "Модель решающего дерева показала себя лучше модели логистической регрессии, как и без учета дисбаланса классов. Но если сравнивать модели решающего дерева между собой, то параметр 'class_weight' не сказался положительно на значении **f1-меры, она незначительно уменьшилась с 0.5665 до 0.5619**. "
   ]
  },
  {
   "cell_type": "markdown",
   "metadata": {},
   "source": [
    "#### Модель случайного леса (с учетом дисбаланса классов)"
   ]
  },
  {
   "cell_type": "markdown",
   "metadata": {},
   "source": [
    "Найдем модель с наибольшим значением f1-меры. Для этого необходимо найти наилучшие значения следующих гиперпараметров:\n",
    "- 'max_depth' - максимальная глубина дерева (будем перебирать значения от 1 до 10),\n",
    "- 'min_samples_split' - наименьшее количество объектов выборки, попадающих в узел решающего дерева (от 2 до 5),\n",
    "- 'min_samples_leaf' - наименьшее количество объектов выборки, необходимых для создания листа решающего дерева (от 1 до 5),\n",
    "- 'n_estimators' - количество деревьев в лесу (от 10 до 100 с шагом 10)."
   ]
  },
  {
   "cell_type": "code",
   "execution_count": 50,
   "metadata": {},
   "outputs": [
    {
     "name": "stderr",
     "output_type": "stream",
     "text": [
      "100%|██████████| 10/10 [11:06<00:00, 66.69s/it]"
     ]
    },
    {
     "name": "stdout",
     "output_type": "stream",
     "text": [
      "F1-мера наилучшей модели случайного леса на валидационной выборке 0.6083832335329341 при следующих параметрах:\n",
      "n_estimators = 80\n",
      "max_depth = 9\n",
      "min_samples_split = 2\n",
      "min_samples_leaf = 3\n"
     ]
    },
    {
     "name": "stderr",
     "output_type": "stream",
     "text": [
      "\n"
     ]
    }
   ],
   "source": [
    "i = 0\n",
    "forest_df_bal = pd.DataFrame(columns=['n_estimators','max_depth','min_samples_split','min_samples_leaf','f1_train','f1_valid'])\n",
    "best_result = 0\n",
    "best_model_forest = None\n",
    "best_depth = 0\n",
    "best_split = 0\n",
    "best_leaf = 0\n",
    "best_est = 0\n",
    "for depth in tqdm(range(1,11)):\n",
    "    for split in range(2,6):\n",
    "        for leaf in range(1,6):\n",
    "            for est in range(10, 101, 10):\n",
    "                model = RandomForestClassifier(\n",
    "                    random_state=12345, \n",
    "                    n_estimators=est, \n",
    "                    max_depth=depth, \n",
    "                    min_samples_split=split,\n",
    "                    min_samples_leaf=leaf,\n",
    "                    class_weight='balanced'\n",
    "                )\n",
    "                model.fit(features_train, target_train)\n",
    "                predicted_valid = model.predict(features_valid)\n",
    "                predicted_train = model.predict(features_train)\n",
    "                result_train = f1_score(target_train, predicted_train)\n",
    "                result_valid = f1_score(target_valid, predicted_valid)\n",
    "                forest_df_bal.loc[i] = np.array([est, depth, split, leaf, result_train, result_valid])\n",
    "                i += 1\n",
    "                if result_valid > best_result:\n",
    "                    best_model_forest = model\n",
    "                    best_result = result_valid\n",
    "                    best_depth = depth\n",
    "                    best_split = split\n",
    "                    best_leaf = leaf\n",
    "                    best_est = est\n",
    "\n",
    "print(f'F1-мера наилучшей модели случайного леса на валидационной выборке {best_result} при следующих параметрах:'+'\\n'+\n",
    "      f'n_estimators = {best_est}'+'\\n'+\n",
    "      f'max_depth = {best_depth}'+'\\n'+\n",
    "      f'min_samples_split = {best_split}'+'\\n'+\n",
    "      f'min_samples_leaf = {best_leaf}')"
   ]
  },
  {
   "cell_type": "code",
   "execution_count": 51,
   "metadata": {},
   "outputs": [
    {
     "data": {
      "text/html": [
       "<div>\n",
       "<style scoped>\n",
       "    .dataframe tbody tr th:only-of-type {\n",
       "        vertical-align: middle;\n",
       "    }\n",
       "\n",
       "    .dataframe tbody tr th {\n",
       "        vertical-align: top;\n",
       "    }\n",
       "\n",
       "    .dataframe thead th {\n",
       "        text-align: right;\n",
       "    }\n",
       "</style>\n",
       "<table border=\"1\" class=\"dataframe\">\n",
       "  <thead>\n",
       "    <tr style=\"text-align: right;\">\n",
       "      <th></th>\n",
       "      <th>n_estimators</th>\n",
       "      <th>max_depth</th>\n",
       "      <th>min_samples_split</th>\n",
       "      <th>min_samples_leaf</th>\n",
       "      <th>f1_train</th>\n",
       "      <th>f1_valid</th>\n",
       "    </tr>\n",
       "  </thead>\n",
       "  <tbody>\n",
       "    <tr>\n",
       "      <td>1627</td>\n",
       "      <td>80.0</td>\n",
       "      <td>9.0</td>\n",
       "      <td>2.0</td>\n",
       "      <td>3.0</td>\n",
       "      <td>0.751794</td>\n",
       "      <td>0.608383</td>\n",
       "    </tr>\n",
       "    <tr>\n",
       "      <td>1677</td>\n",
       "      <td>80.0</td>\n",
       "      <td>9.0</td>\n",
       "      <td>3.0</td>\n",
       "      <td>3.0</td>\n",
       "      <td>0.751794</td>\n",
       "      <td>0.608383</td>\n",
       "    </tr>\n",
       "    <tr>\n",
       "      <td>1777</td>\n",
       "      <td>80.0</td>\n",
       "      <td>9.0</td>\n",
       "      <td>5.0</td>\n",
       "      <td>3.0</td>\n",
       "      <td>0.751794</td>\n",
       "      <td>0.608383</td>\n",
       "    </tr>\n",
       "    <tr>\n",
       "      <td>1727</td>\n",
       "      <td>80.0</td>\n",
       "      <td>9.0</td>\n",
       "      <td>4.0</td>\n",
       "      <td>3.0</td>\n",
       "      <td>0.751794</td>\n",
       "      <td>0.608383</td>\n",
       "    </tr>\n",
       "    <tr>\n",
       "      <td>1967</td>\n",
       "      <td>80.0</td>\n",
       "      <td>10.0</td>\n",
       "      <td>5.0</td>\n",
       "      <td>2.0</td>\n",
       "      <td>0.790480</td>\n",
       "      <td>0.606965</td>\n",
       "    </tr>\n",
       "  </tbody>\n",
       "</table>\n",
       "</div>"
      ],
      "text/plain": [
       "      n_estimators  max_depth  min_samples_split  min_samples_leaf  f1_train  \\\n",
       "1627          80.0        9.0                2.0               3.0  0.751794   \n",
       "1677          80.0        9.0                3.0               3.0  0.751794   \n",
       "1777          80.0        9.0                5.0               3.0  0.751794   \n",
       "1727          80.0        9.0                4.0               3.0  0.751794   \n",
       "1967          80.0       10.0                5.0               2.0  0.790480   \n",
       "\n",
       "      f1_valid  \n",
       "1627  0.608383  \n",
       "1677  0.608383  \n",
       "1777  0.608383  \n",
       "1727  0.608383  \n",
       "1967  0.606965  "
      ]
     },
     "execution_count": 51,
     "metadata": {},
     "output_type": "execute_result"
    }
   ],
   "source": [
    "forest_df_bal.sort_values(by='f1_valid', ascending=False).head()"
   ]
  },
  {
   "cell_type": "markdown",
   "metadata": {},
   "source": [
    "Посчитаем метрики полноты, точности и AUC-ROC для лучшей модели случайного леса на валидационной выборке, а также построим графики PR-кривой и ROC-кривой."
   ]
  },
  {
   "cell_type": "code",
   "execution_count": 52,
   "metadata": {},
   "outputs": [
    {
     "name": "stdout",
     "output_type": "stream",
     "text": [
      "Recall: 0.649616368286445\n",
      "Precision 0.5720720720720721\n",
      "AUC-ROC: 0.8534251866499024\n"
     ]
    }
   ],
   "source": [
    "best_model_forest.fit(features_train, target_train)\n",
    "predicted_valid = best_model_forest.predict(features_valid)\n",
    "probabilities_valid = best_model_forest.predict_proba(features_valid)\n",
    "\n",
    "print('Recall:', recall_score(target_valid, predicted_valid))\n",
    "print('Precision', precision_score(target_valid, predicted_valid))\n",
    "print('AUC-ROC:', roc_auc_score(target_valid, probabilities_valid[:,1]))"
   ]
  },
  {
   "cell_type": "code",
   "execution_count": 53,
   "metadata": {},
   "outputs": [
    {
     "data": {
      "image/png": "[encoded data removed]",
      "text/plain": [
       "<Figure size 720x360 with 1 Axes>"
      ]
     },
     "metadata": {
      "needs_background": "light"
     },
     "output_type": "display_data"
    }
   ],
   "source": [
    "# построим график PR-кривой\n",
    "precision_rf_bal, recall_rf_bal, threshold = precision_recall_curve(target_valid, probabilities_valid[:,1])\n",
    "print_pr(recall_rf_bal, precision_rf_bal)"
   ]
  },
  {
   "cell_type": "code",
   "execution_count": 54,
   "metadata": {
    "scrolled": true
   },
   "outputs": [
    {
     "data": {
      "image/png": "[encoded data removed]",
      "text/plain": [
       "<Figure size 720x360 with 1 Axes>"
      ]
     },
     "metadata": {
      "needs_background": "light"
     },
     "output_type": "display_data"
    }
   ],
   "source": [
    "# построим график ROC-кривой обученной модели\n",
    "fpr_rf_bal, tpr_rf_bal, thresholds = roc_curve(target_valid, probabilities_valid[:,1])\n",
    "print_roc(fpr_rf_bal, tpr_rf_bal)"
   ]
  },
  {
   "cell_type": "markdown",
   "metadata": {},
   "source": [
    "**Вывод**\n",
    "\n",
    "Параметр 'class_weight' оказал положительное влияние на значение **f1-меры, она увеличилась с 0.5681 до 0.6083** на валидационной выборке. Это первая модель, которая преодолела необходимой порог значения f1-меры."
   ]
  },
  {
   "cell_type": "markdown",
   "metadata": {},
   "source": [
    "### Способ 2. Увеличение выборки (upsampling)"
   ]
  },
  {
   "cell_type": "markdown",
   "metadata": {},
   "source": [
    "Для увеличения выборки, содержащей объекты класса '1', применим технику **upsampling**. Для этого: разделим обучающие выборки по классам; количество объектов класса '1' увеличим в 2 раза; объединим выборки и перемешаем."
   ]
  },
  {
   "cell_type": "code",
   "execution_count": 55,
   "metadata": {},
   "outputs": [],
   "source": [
    "# разделяем объекты класса '0' и '1' тренировочной выборки\n",
    "features_train_zeros = features_train[target_train == 0]\n",
    "features_train_ones = features_train[target_train == 1]\n",
    "target_train_zeros = target_train[target_train == 0]\n",
    "target_train_ones = target_train[target_train == 1]\n",
    "\n",
    "# увеличиваем количество объектов класса '1' в 2 раза и соединяем с объектами класса '0'\n",
    "features_train_up = pd.concat([features_train_zeros] + [features_train_ones] * 2)\n",
    "target_train_up = pd.concat([target_train_zeros] + [target_train_ones] * 2)\n",
    "\n",
    "# перемешиваем получившиеся выборки\n",
    "features_train_up, target_train_up = shuffle(features_train_up, target_train_up, random_state=12345)"
   ]
  },
  {
   "cell_type": "markdown",
   "metadata": {},
   "source": [
    "#### Логистическая регрессия (upsampling)"
   ]
  },
  {
   "cell_type": "markdown",
   "metadata": {},
   "source": [
    "Обучим модель на обучающей выборке (после upsampling), найдем значения метрик (полнота, точность, F1-мера и AUC-ROC) на валидационной выборке, построим графики PR-кривой и ROC-кривой."
   ]
  },
  {
   "cell_type": "code",
   "execution_count": 56,
   "metadata": {},
   "outputs": [
    {
     "name": "stdout",
     "output_type": "stream",
     "text": [
      "Recall: 0.46547314578005117\n",
      "Precision: 0.5069637883008357\n",
      "F1: 0.48533333333333334\n",
      "AUC-ROC: 0.7716441563519779\n"
     ]
    }
   ],
   "source": [
    "model = LogisticRegression(random_state=12345, solver='liblinear')\n",
    "model.fit(features_train_up, target_train_up)\n",
    "\n",
    "predicted_valid = model.predict(features_valid)\n",
    "\n",
    "probabilities_valid = model.predict_proba(features_valid)\n",
    "\n",
    "print('Recall:', recall_score(target_valid, predicted_valid))\n",
    "print('Precision:', precision_score(target_valid, predicted_valid))\n",
    "print('F1:', f1_score(target_valid, predicted_valid))\n",
    "print('AUC-ROC:', roc_auc_score(target_valid, probabilities_valid[:,1]))"
   ]
  },
  {
   "cell_type": "code",
   "execution_count": 57,
   "metadata": {},
   "outputs": [
    {
     "data": {
      "image/png": "[encoded data removed]",
      "text/plain": [
       "<Figure size 720x360 with 1 Axes>"
      ]
     },
     "metadata": {
      "needs_background": "light"
     },
     "output_type": "display_data"
    }
   ],
   "source": [
    "# построим график PR-кривой\n",
    "precision_lr_up, recall_lr_up, threshold = precision_recall_curve(target_valid, probabilities_valid[:,1])\n",
    "print_pr(recall_lr_up, precision_lr_up)"
   ]
  },
  {
   "cell_type": "code",
   "execution_count": 58,
   "metadata": {},
   "outputs": [
    {
     "data": {
      "image/png": "[encoded data removed]",
      "text/plain": [
       "<Figure size 720x360 with 1 Axes>"
      ]
     },
     "metadata": {
      "needs_background": "light"
     },
     "output_type": "display_data"
    }
   ],
   "source": [
    "# построим график ROC-кривой обученной модели\n",
    "fpr_lr_up, tpr_lr_up, thresholds = roc_curve(target_valid, probabilities_valid[:,1])\n",
    "print_roc(fpr_lr_up, tpr_lr_up)"
   ]
  },
  {
   "cell_type": "markdown",
   "metadata": {},
   "source": [
    "**Вывод**\n",
    "\n",
    "Получили прирост f1-меры в сравнении со способом 1, **увеличилась с 0.4755 до 0.4853**. Однако требуемое значение (0.59) данная модель не превзошла."
   ]
  },
  {
   "cell_type": "markdown",
   "metadata": {},
   "source": [
    "#### Модель решающего дерева (upsampling)"
   ]
  },
  {
   "cell_type": "markdown",
   "metadata": {},
   "source": [
    "Найдем модель с наибольшим значением f1-меры. Для этого необходимо найти наилучшие значения следующих гиперпараметров:\n",
    "\n",
    "- 'max_depth' - максимальная глубина дерева (будем перебирать значения от 1 до 15),\n",
    "- 'min_samples_split' - наименьшее количество объектов выборки, попадающих в узел решающего дерева (от 2 до 10),\n",
    "- 'min_samples_leaf' - наименьшее количество объектов выборки, необходимых для создания листа решающего дерева (от 1 до 10)."
   ]
  },
  {
   "cell_type": "code",
   "execution_count": 59,
   "metadata": {},
   "outputs": [
    {
     "name": "stderr",
     "output_type": "stream",
     "text": [
      "100%|██████████| 15/15 [00:45<00:00,  3.04s/it]"
     ]
    },
    {
     "name": "stdout",
     "output_type": "stream",
     "text": [
      "F1-мера наилучшей модели решающего дерева на валидационной выборке 0.5789473684210527 при следующих параметрах:\n",
      "max_depth = 7\n",
      "min_samples_split = 2\n",
      "min_samples_leaf = 5\n"
     ]
    },
    {
     "name": "stderr",
     "output_type": "stream",
     "text": [
      "\n"
     ]
    }
   ],
   "source": [
    "i = 0\n",
    "tree_df_up = pd.DataFrame(columns=['max_depth', 'min_samples_split', 'min_samples_leaf', 'f1_train', 'f1_valid'])\n",
    "best_model_tree = None\n",
    "best_result = 0\n",
    "best_depth = 0\n",
    "best_split = 0\n",
    "best_leaf = 0\n",
    "for depth in tqdm(range(1,16)):\n",
    "    for split in range(2,11):\n",
    "        for leaf in range(1,11):\n",
    "            model = DecisionTreeClassifier(\n",
    "                random_state=12345, \n",
    "                max_depth=depth, \n",
    "                min_samples_split=split, \n",
    "                min_samples_leaf=leaf\n",
    "            )\n",
    "            model.fit(features_train_up, target_train_up)\n",
    "            predicted_valid = model.predict(features_valid)\n",
    "            predicted_train = model.predict(features_train)\n",
    "            result_train = f1_score(target_train, predicted_train)\n",
    "            result_valid = f1_score(target_valid, predicted_valid)\n",
    "            tree_df_up.loc[i] = np.array([depth, split, leaf, result_train, result_valid])\n",
    "            i += 1\n",
    "            if result_valid > best_result:\n",
    "                best_model_tree = model\n",
    "                best_result = result_valid\n",
    "                best_depth = depth\n",
    "                best_split = split\n",
    "                best_leaf = leaf\n",
    "\n",
    "print(f'F1-мера наилучшей модели решающего дерева на валидационной выборке {best_result} при следующих параметрах:'+'\\n'+\n",
    "      f'max_depth = {best_depth}'+'\\n'+\n",
    "      f'min_samples_split = {best_split}'+'\\n'+\n",
    "      f'min_samples_leaf = {best_leaf}')"
   ]
  },
  {
   "cell_type": "code",
   "execution_count": 60,
   "metadata": {},
   "outputs": [
    {
     "data": {
      "text/html": [
       "<div>\n",
       "<style scoped>\n",
       "    .dataframe tbody tr th:only-of-type {\n",
       "        vertical-align: middle;\n",
       "    }\n",
       "\n",
       "    .dataframe tbody tr th {\n",
       "        vertical-align: top;\n",
       "    }\n",
       "\n",
       "    .dataframe thead th {\n",
       "        text-align: right;\n",
       "    }\n",
       "</style>\n",
       "<table border=\"1\" class=\"dataframe\">\n",
       "  <thead>\n",
       "    <tr style=\"text-align: right;\">\n",
       "      <th></th>\n",
       "      <th>max_depth</th>\n",
       "      <th>min_samples_split</th>\n",
       "      <th>min_samples_leaf</th>\n",
       "      <th>f1_train</th>\n",
       "      <th>f1_valid</th>\n",
       "    </tr>\n",
       "  </thead>\n",
       "  <tbody>\n",
       "    <tr>\n",
       "      <td>604</td>\n",
       "      <td>7.0</td>\n",
       "      <td>8.0</td>\n",
       "      <td>5.0</td>\n",
       "      <td>0.651182</td>\n",
       "      <td>0.578947</td>\n",
       "    </tr>\n",
       "    <tr>\n",
       "      <td>594</td>\n",
       "      <td>7.0</td>\n",
       "      <td>7.0</td>\n",
       "      <td>5.0</td>\n",
       "      <td>0.651182</td>\n",
       "      <td>0.578947</td>\n",
       "    </tr>\n",
       "    <tr>\n",
       "      <td>574</td>\n",
       "      <td>7.0</td>\n",
       "      <td>5.0</td>\n",
       "      <td>5.0</td>\n",
       "      <td>0.651182</td>\n",
       "      <td>0.578947</td>\n",
       "    </tr>\n",
       "    <tr>\n",
       "      <td>564</td>\n",
       "      <td>7.0</td>\n",
       "      <td>4.0</td>\n",
       "      <td>5.0</td>\n",
       "      <td>0.651182</td>\n",
       "      <td>0.578947</td>\n",
       "    </tr>\n",
       "    <tr>\n",
       "      <td>614</td>\n",
       "      <td>7.0</td>\n",
       "      <td>9.0</td>\n",
       "      <td>5.0</td>\n",
       "      <td>0.651182</td>\n",
       "      <td>0.578947</td>\n",
       "    </tr>\n",
       "  </tbody>\n",
       "</table>\n",
       "</div>"
      ],
      "text/plain": [
       "     max_depth  min_samples_split  min_samples_leaf  f1_train  f1_valid\n",
       "604        7.0                8.0               5.0  0.651182  0.578947\n",
       "594        7.0                7.0               5.0  0.651182  0.578947\n",
       "574        7.0                5.0               5.0  0.651182  0.578947\n",
       "564        7.0                4.0               5.0  0.651182  0.578947\n",
       "614        7.0                9.0               5.0  0.651182  0.578947"
      ]
     },
     "execution_count": 60,
     "metadata": {},
     "output_type": "execute_result"
    }
   ],
   "source": [
    "tree_df_up.sort_values(by='f1_valid', ascending=False).head()"
   ]
  },
  {
   "cell_type": "markdown",
   "metadata": {},
   "source": [
    "Посчитаем метрики полноты, точности и AUC-ROC для лучшей модели решающего дерева на валидационной выборке, а также построим графики PR-кривой и ROC-кривой."
   ]
  },
  {
   "cell_type": "code",
   "execution_count": 61,
   "metadata": {},
   "outputs": [
    {
     "name": "stdout",
     "output_type": "stream",
     "text": [
      "Recall: 0.5626598465473146\n",
      "Precision 0.5962059620596206\n",
      "AUC-ROC: 0.8261751751258506\n"
     ]
    }
   ],
   "source": [
    "best_model_tree.fit(features_train_up, target_train_up)\n",
    "predicted_valid = best_model_tree.predict(features_valid)\n",
    "probabilities_valid = best_model_tree.predict_proba(features_valid)\n",
    "\n",
    "print('Recall:', recall_score(target_valid, predicted_valid))\n",
    "print('Precision', precision_score(target_valid, predicted_valid))\n",
    "print('AUC-ROC:', roc_auc_score(target_valid, probabilities_valid[:,1]))"
   ]
  },
  {
   "cell_type": "code",
   "execution_count": 62,
   "metadata": {},
   "outputs": [
    {
     "data": {
      "image/png": "[encoded data removed]",
      "text/plain": [
       "<Figure size 720x360 with 1 Axes>"
      ]
     },
     "metadata": {
      "needs_background": "light"
     },
     "output_type": "display_data"
    }
   ],
   "source": [
    "# построим график PR-кривой\n",
    "precision_dt_up, recall_dt_up, threshold = precision_recall_curve(target_valid, probabilities_valid[:,1])\n",
    "print_pr(recall_dt_up, precision_dt_up)"
   ]
  },
  {
   "cell_type": "code",
   "execution_count": 63,
   "metadata": {
    "scrolled": true
   },
   "outputs": [
    {
     "data": {
      "image/png": "[encoded data removed]",
      "text/plain": [
       "<Figure size 720x360 with 1 Axes>"
      ]
     },
     "metadata": {
      "needs_background": "light"
     },
     "output_type": "display_data"
    }
   ],
   "source": [
    "# построим график ROC-кривой обученной модели\n",
    "fpr_dt_up, tpr_dt_up, thresholds = roc_curve(target_valid, probabilities_valid[:,1])\n",
    "print_roc(fpr_dt_up, tpr_dt_up)"
   ]
  },
  {
   "cell_type": "markdown",
   "metadata": {},
   "source": [
    "**Вывод**\n",
    "\n",
    "Получили прирост f1-меры по сравнению со способом 1, **увеличилась с 0.5619 до 0.5789**. Однако требуемое значение (0.59) данная модель не превзошла."
   ]
  },
  {
   "cell_type": "markdown",
   "metadata": {},
   "source": [
    "#### Модель случайного леса (upsampling)"
   ]
  },
  {
   "cell_type": "markdown",
   "metadata": {},
   "source": [
    "Найдем модель с наибольшим значением f1-меры. Для этого необходимо найти наилучшие значения следующих гиперпараметров:\n",
    "- 'max_depth' - максимальная глубина дерева (будем перебирать значения от 1 до 10),\n",
    "- 'min_samples_split' - наименьшее количество объектов выборки, попадающих в узел решающего дерева (от 2 до 5),\n",
    "- 'min_samples_leaf' - наименьшее количество объектов выборки, необходимых для создания листа решающего дерева (от 1 до 5),\n",
    "- 'n_estimators' - количество деревьев в лесу (от 10 до 100 с шагом 10)."
   ]
  },
  {
   "cell_type": "code",
   "execution_count": 64,
   "metadata": {},
   "outputs": [
    {
     "name": "stderr",
     "output_type": "stream",
     "text": [
      "100%|██████████| 10/10 [12:42<00:00, 76.29s/it]"
     ]
    },
    {
     "name": "stdout",
     "output_type": "stream",
     "text": [
      "F1-мера наилучшей модели случайного леса на валидационной выборке 0.6132208157524615 при следующих параметрах:\n",
      "n_estimators = 70\n",
      "max_depth = 9\n",
      "min_samples_split = 2\n",
      "min_samples_leaf = 5\n"
     ]
    },
    {
     "name": "stderr",
     "output_type": "stream",
     "text": [
      "\n"
     ]
    }
   ],
   "source": [
    "i = 0\n",
    "forest_df_up = pd.DataFrame(columns=['n_estimators','max_depth','min_samples_split','min_samples_leaf','f1_train','f1_valid'])\n",
    "best_result = 0\n",
    "best_model_forest = None\n",
    "best_depth = 0\n",
    "best_split = 0\n",
    "best_leaf = 0\n",
    "best_est = 0\n",
    "for depth in tqdm(range(1,11)):\n",
    "    for split in range(2,6):\n",
    "        for leaf in range(1,6):\n",
    "            for est in range(10, 101, 10):\n",
    "                model = RandomForestClassifier(\n",
    "                    random_state=12345, \n",
    "                    n_estimators=est, \n",
    "                    max_depth=depth, \n",
    "                    min_samples_split=split,\n",
    "                    min_samples_leaf=leaf\n",
    "                )\n",
    "                model.fit(features_train_up, target_train_up)\n",
    "                predicted_valid = model.predict(features_valid)\n",
    "                predicted_train = model.predict(features_train)\n",
    "                result_train = f1_score(target_train, predicted_train)\n",
    "                result_valid = f1_score(target_valid, predicted_valid)\n",
    "                forest_df_up.loc[i] = np.array([est, depth, split, leaf, result_train, result_valid])\n",
    "                i += 1\n",
    "                if result_valid > best_result:\n",
    "                    best_model_forest = model\n",
    "                    best_result = result_valid\n",
    "                    best_depth = depth\n",
    "                    best_split = split\n",
    "                    best_leaf = leaf\n",
    "                    best_est = est\n",
    "\n",
    "print(f'F1-мера наилучшей модели случайного леса на валидационной выборке {best_result} при следующих параметрах:'+'\\n'+\n",
    "      f'n_estimators = {best_est}'+'\\n'+\n",
    "      f'max_depth = {best_depth}'+'\\n'+\n",
    "      f'min_samples_split = {best_split}'+'\\n'+\n",
    "      f'min_samples_leaf = {best_leaf}')"
   ]
  },
  {
   "cell_type": "code",
   "execution_count": 65,
   "metadata": {},
   "outputs": [
    {
     "data": {
      "text/html": [
       "<div>\n",
       "<style scoped>\n",
       "    .dataframe tbody tr th:only-of-type {\n",
       "        vertical-align: middle;\n",
       "    }\n",
       "\n",
       "    .dataframe tbody tr th {\n",
       "        vertical-align: top;\n",
       "    }\n",
       "\n",
       "    .dataframe thead th {\n",
       "        text-align: right;\n",
       "    }\n",
       "</style>\n",
       "<table border=\"1\" class=\"dataframe\">\n",
       "  <thead>\n",
       "    <tr style=\"text-align: right;\">\n",
       "      <th></th>\n",
       "      <th>n_estimators</th>\n",
       "      <th>max_depth</th>\n",
       "      <th>min_samples_split</th>\n",
       "      <th>min_samples_leaf</th>\n",
       "      <th>f1_train</th>\n",
       "      <th>f1_valid</th>\n",
       "    </tr>\n",
       "  </thead>\n",
       "  <tbody>\n",
       "    <tr>\n",
       "      <td>1746</td>\n",
       "      <td>70.0</td>\n",
       "      <td>9.0</td>\n",
       "      <td>4.0</td>\n",
       "      <td>5.0</td>\n",
       "      <td>0.714928</td>\n",
       "      <td>0.613221</td>\n",
       "    </tr>\n",
       "    <tr>\n",
       "      <td>1646</td>\n",
       "      <td>70.0</td>\n",
       "      <td>9.0</td>\n",
       "      <td>2.0</td>\n",
       "      <td>5.0</td>\n",
       "      <td>0.714928</td>\n",
       "      <td>0.613221</td>\n",
       "    </tr>\n",
       "    <tr>\n",
       "      <td>1796</td>\n",
       "      <td>70.0</td>\n",
       "      <td>9.0</td>\n",
       "      <td>5.0</td>\n",
       "      <td>5.0</td>\n",
       "      <td>0.714928</td>\n",
       "      <td>0.613221</td>\n",
       "    </tr>\n",
       "    <tr>\n",
       "      <td>1696</td>\n",
       "      <td>70.0</td>\n",
       "      <td>9.0</td>\n",
       "      <td>3.0</td>\n",
       "      <td>5.0</td>\n",
       "      <td>0.714928</td>\n",
       "      <td>0.613221</td>\n",
       "    </tr>\n",
       "    <tr>\n",
       "      <td>1452</td>\n",
       "      <td>30.0</td>\n",
       "      <td>8.0</td>\n",
       "      <td>3.0</td>\n",
       "      <td>1.0</td>\n",
       "      <td>0.697024</td>\n",
       "      <td>0.611961</td>\n",
       "    </tr>\n",
       "  </tbody>\n",
       "</table>\n",
       "</div>"
      ],
      "text/plain": [
       "      n_estimators  max_depth  min_samples_split  min_samples_leaf  f1_train  \\\n",
       "1746          70.0        9.0                4.0               5.0  0.714928   \n",
       "1646          70.0        9.0                2.0               5.0  0.714928   \n",
       "1796          70.0        9.0                5.0               5.0  0.714928   \n",
       "1696          70.0        9.0                3.0               5.0  0.714928   \n",
       "1452          30.0        8.0                3.0               1.0  0.697024   \n",
       "\n",
       "      f1_valid  \n",
       "1746  0.613221  \n",
       "1646  0.613221  \n",
       "1796  0.613221  \n",
       "1696  0.613221  \n",
       "1452  0.611961  "
      ]
     },
     "execution_count": 65,
     "metadata": {},
     "output_type": "execute_result"
    }
   ],
   "source": [
    "forest_df_up.sort_values(by='f1_valid', ascending=False).head()"
   ]
  },
  {
   "cell_type": "markdown",
   "metadata": {},
   "source": [
    "Посчитаем метрики полноты, точности и AUC-ROC для лучшей модели случайного леса на валидационной выборке, а также построим графики PR-кривой и ROC-кривой."
   ]
  },
  {
   "cell_type": "code",
   "execution_count": 66,
   "metadata": {},
   "outputs": [
    {
     "name": "stdout",
     "output_type": "stream",
     "text": [
      "Recall: 0.5575447570332481\n",
      "Precision 0.68125\n",
      "AUC-ROC: 0.8518865270322467\n"
     ]
    }
   ],
   "source": [
    "best_model_forest.fit(features_train_up, target_train_up)\n",
    "predicted_valid = best_model_forest.predict(features_valid)\n",
    "probabilities_valid = best_model_forest.predict_proba(features_valid)\n",
    "\n",
    "print('Recall:', recall_score(target_valid, predicted_valid))\n",
    "print('Precision', precision_score(target_valid, predicted_valid))\n",
    "print('AUC-ROC:', roc_auc_score(target_valid, probabilities_valid[:,1]))"
   ]
  },
  {
   "cell_type": "code",
   "execution_count": 67,
   "metadata": {},
   "outputs": [
    {
     "data": {
      "image/png": "[encoded data removed]",
      "text/plain": [
       "<Figure size 720x360 with 1 Axes>"
      ]
     },
     "metadata": {
      "needs_background": "light"
     },
     "output_type": "display_data"
    }
   ],
   "source": [
    "# построим график PR-кривой\n",
    "precision_rf_up, recall_rf_up, threshold = precision_recall_curve(target_valid, probabilities_valid[:,1])\n",
    "print_pr(recall_rf_up, precision_rf_up)"
   ]
  },
  {
   "cell_type": "code",
   "execution_count": 68,
   "metadata": {
    "scrolled": true
   },
   "outputs": [
    {
     "data": {
      "image/png": "[encoded data removed]",
      "text/plain": [
       "<Figure size 720x360 with 1 Axes>"
      ]
     },
     "metadata": {
      "needs_background": "light"
     },
     "output_type": "display_data"
    }
   ],
   "source": [
    "# построим график ROC-кривой обученной модели\n",
    "fpr_rf_up, tpr_rf_up, thresholds = roc_curve(target_valid, probabilities_valid[:,1])\n",
    "print_roc(fpr_rf_up, tpr_rf_up)"
   ]
  },
  {
   "cell_type": "markdown",
   "metadata": {},
   "source": [
    "**Вывод**\n",
    "\n",
    "Благодаря использованию техники **upsampling** значение **f1-меры увеличилось с 0.6083 до 0.6132** на валидационной выборке по сравнению со способом 1. Данная модель также преодолела необходимый порог и может в дальнейшем использоваться для проверки на тестовой выборке."
   ]
  },
  {
   "cell_type": "markdown",
   "metadata": {},
   "source": [
    "### Способ 3. Уменьшение выборки (downsampling)"
   ]
  },
  {
   "cell_type": "markdown",
   "metadata": {},
   "source": [
    "Для уменьшения выборки, содержащей объекты класса '0', применим технику **downsampling**. Для этого: разделим обучающие выборки по классам; количество объектов класса '0' уменьшим в 2 раза; объединим выборки и перемешаем."
   ]
  },
  {
   "cell_type": "code",
   "execution_count": 69,
   "metadata": {},
   "outputs": [],
   "source": [
    "# разделяем объекты класса '0' и '1' тренировочной выборки\n",
    "features_train_zeros = features_train[target_train == 0]\n",
    "features_train_ones = features_train[target_train == 1]\n",
    "target_train_zeros = target_train[target_train == 0]\n",
    "target_train_ones = target_train[target_train == 1]\n",
    "\n",
    "# уменьшаем количество объектов класса '0' в 2 раза и соединяем с объектами класса '1'\n",
    "features_train_down = pd.concat([features_train_zeros.sample(frac=0.5, random_state=12345)] + [features_train_ones])\n",
    "target_train_down = pd.concat([target_train_zeros.sample(frac=0.5, random_state=12345)] + [target_train_ones])\n",
    "\n",
    "# перемешиваем получившиеся выборки\n",
    "features_train_down, target_train_down = shuffle(features_train_down, target_train_down, random_state=12345)"
   ]
  },
  {
   "cell_type": "markdown",
   "metadata": {},
   "source": [
    "#### Логистическая регрессия (downsampling)"
   ]
  },
  {
   "cell_type": "markdown",
   "metadata": {},
   "source": [
    "Обучим модель на обучающей выборке (после downsampling), найдем значения метрик (полнота, точность, F1-мера и AUC-ROC) на валидационной выборке, построим графики PR-кривой и ROC-кривой."
   ]
  },
  {
   "cell_type": "code",
   "execution_count": 70,
   "metadata": {},
   "outputs": [
    {
     "name": "stdout",
     "output_type": "stream",
     "text": [
      "Recall: 0.4731457800511509\n",
      "Precision: 0.4946524064171123\n",
      "F1: 0.4836601307189542\n",
      "AUC-ROC: 0.7720637907931569\n"
     ]
    }
   ],
   "source": [
    "model = LogisticRegression(random_state=12345, solver='liblinear')\n",
    "model.fit(features_train_down, target_train_down)\n",
    "\n",
    "predicted_valid = model.predict(features_valid)\n",
    "\n",
    "probabilities_valid = model.predict_proba(features_valid)\n",
    "\n",
    "print('Recall:', recall_score(target_valid, predicted_valid))\n",
    "print('Precision:', precision_score(target_valid, predicted_valid))\n",
    "print('F1:', f1_score(target_valid, predicted_valid))\n",
    "print('AUC-ROC:', roc_auc_score(target_valid, probabilities_valid[:,1]))"
   ]
  },
  {
   "cell_type": "code",
   "execution_count": 71,
   "metadata": {},
   "outputs": [
    {
     "data": {
      "image/png": "[encoded data removed]",
      "text/plain": [
       "<Figure size 720x360 with 1 Axes>"
      ]
     },
     "metadata": {
      "needs_background": "light"
     },
     "output_type": "display_data"
    }
   ],
   "source": [
    "# построим график PR-кривой\n",
    "precision_lr_down, recall_lr_down, threshold = precision_recall_curve(target_valid, probabilities_valid[:,1])\n",
    "print_pr(recall_lr_down, precision_lr_down)"
   ]
  },
  {
   "cell_type": "code",
   "execution_count": 72,
   "metadata": {},
   "outputs": [
    {
     "data": {
      "image/png": "[encoded data removed]",
      "text/plain": [
       "<Figure size 720x360 with 1 Axes>"
      ]
     },
     "metadata": {
      "needs_background": "light"
     },
     "output_type": "display_data"
    }
   ],
   "source": [
    "# построим график ROC-кривой обученной модели\n",
    "fpr_lr_down, tpr_lr_down, thresholds = roc_curve(target_valid, probabilities_valid[:,1])\n",
    "print_roc(fpr_lr_down, tpr_lr_down)"
   ]
  },
  {
   "cell_type": "markdown",
   "metadata": {},
   "source": [
    "**Вывод**\n",
    "\n",
    "Значение f1-меры после применения техники **downsampling** полученной модели получили **0.4837**, что незначительно хуже, чем при применении техники **upsampling (0.4853)** "
   ]
  },
  {
   "cell_type": "markdown",
   "metadata": {},
   "source": [
    "#### Модель решающего дерева (downsampling)"
   ]
  },
  {
   "cell_type": "markdown",
   "metadata": {},
   "source": [
    "Найдем модель с наибольшим значением f1-меры. Для этого необходимо найти наилучшие значения следующих гиперпараметров:\n",
    "\n",
    "- 'max_depth' - максимальная глубина дерева (будем перебирать значения от 1 до 15),\n",
    "- 'min_samples_split' - наименьшее количество объектов выборки, попадающих в узел решающего дерева (от 2 до 10),\n",
    "- 'min_samples_leaf' - наименьшее количество объектов выборки, необходимых для создания листа решающего дерева (от 1 до 10)."
   ]
  },
  {
   "cell_type": "code",
   "execution_count": 73,
   "metadata": {},
   "outputs": [
    {
     "name": "stderr",
     "output_type": "stream",
     "text": [
      "100%|██████████| 15/15 [00:29<00:00,  1.96s/it]"
     ]
    },
    {
     "name": "stdout",
     "output_type": "stream",
     "text": [
      "F1-мера наилучшей модели решающего дерева на валидационной выборке 0.5919811320754716 при следующих параметрах:\n",
      "max_depth = 7\n",
      "min_samples_split = 2\n",
      "min_samples_leaf = 7\n"
     ]
    },
    {
     "name": "stderr",
     "output_type": "stream",
     "text": [
      "\n"
     ]
    }
   ],
   "source": [
    "i = 0\n",
    "tree_df_down = pd.DataFrame(columns=['max_depth', 'min_samples_split', 'min_samples_leaf', 'f1_train', 'f1_valid'])\n",
    "best_model_tree = None\n",
    "best_result = 0\n",
    "best_depth = 0\n",
    "best_split = 0\n",
    "best_leaf = 0\n",
    "for depth in tqdm(range(1,16)):\n",
    "    for split in range(2,11):\n",
    "        for leaf in range(1,11):\n",
    "            model = DecisionTreeClassifier(\n",
    "                random_state=12345, \n",
    "                max_depth=depth, \n",
    "                min_samples_split=split, \n",
    "                min_samples_leaf=leaf\n",
    "            )\n",
    "            model.fit(features_train_down, target_train_down)\n",
    "            predicted_valid = model.predict(features_valid)\n",
    "            predicted_train = model.predict(features_train)\n",
    "            result_train = f1_score(target_train, predicted_train)\n",
    "            result_valid = f1_score(target_valid, predicted_valid)\n",
    "            tree_df_down.loc[i] = np.array([depth, split, leaf, result_train, result_valid])\n",
    "            i += 1\n",
    "            if result_valid > best_result:\n",
    "                best_model_tree = model\n",
    "                best_result = result_valid\n",
    "                best_depth = depth\n",
    "                best_split = split\n",
    "                best_leaf = leaf\n",
    "\n",
    "print(f'F1-мера наилучшей модели решающего дерева на валидационной выборке {best_result} при следующих параметрах:'+'\\n'+\n",
    "      f'max_depth = {best_depth}'+'\\n'+\n",
    "      f'min_samples_split = {best_split}'+'\\n'+\n",
    "      f'min_samples_leaf = {best_leaf}')"
   ]
  },
  {
   "cell_type": "code",
   "execution_count": 74,
   "metadata": {},
   "outputs": [
    {
     "data": {
      "text/html": [
       "<div>\n",
       "<style scoped>\n",
       "    .dataframe tbody tr th:only-of-type {\n",
       "        vertical-align: middle;\n",
       "    }\n",
       "\n",
       "    .dataframe tbody tr th {\n",
       "        vertical-align: top;\n",
       "    }\n",
       "\n",
       "    .dataframe thead th {\n",
       "        text-align: right;\n",
       "    }\n",
       "</style>\n",
       "<table border=\"1\" class=\"dataframe\">\n",
       "  <thead>\n",
       "    <tr style=\"text-align: right;\">\n",
       "      <th></th>\n",
       "      <th>max_depth</th>\n",
       "      <th>min_samples_split</th>\n",
       "      <th>min_samples_leaf</th>\n",
       "      <th>f1_train</th>\n",
       "      <th>f1_valid</th>\n",
       "    </tr>\n",
       "  </thead>\n",
       "  <tbody>\n",
       "    <tr>\n",
       "      <td>606</td>\n",
       "      <td>7.0</td>\n",
       "      <td>8.0</td>\n",
       "      <td>7.0</td>\n",
       "      <td>0.638995</td>\n",
       "      <td>0.591981</td>\n",
       "    </tr>\n",
       "    <tr>\n",
       "      <td>626</td>\n",
       "      <td>7.0</td>\n",
       "      <td>10.0</td>\n",
       "      <td>7.0</td>\n",
       "      <td>0.638995</td>\n",
       "      <td>0.591981</td>\n",
       "    </tr>\n",
       "    <tr>\n",
       "      <td>546</td>\n",
       "      <td>7.0</td>\n",
       "      <td>2.0</td>\n",
       "      <td>7.0</td>\n",
       "      <td>0.638995</td>\n",
       "      <td>0.591981</td>\n",
       "    </tr>\n",
       "    <tr>\n",
       "      <td>556</td>\n",
       "      <td>7.0</td>\n",
       "      <td>3.0</td>\n",
       "      <td>7.0</td>\n",
       "      <td>0.638995</td>\n",
       "      <td>0.591981</td>\n",
       "    </tr>\n",
       "    <tr>\n",
       "      <td>566</td>\n",
       "      <td>7.0</td>\n",
       "      <td>4.0</td>\n",
       "      <td>7.0</td>\n",
       "      <td>0.638995</td>\n",
       "      <td>0.591981</td>\n",
       "    </tr>\n",
       "  </tbody>\n",
       "</table>\n",
       "</div>"
      ],
      "text/plain": [
       "     max_depth  min_samples_split  min_samples_leaf  f1_train  f1_valid\n",
       "606        7.0                8.0               7.0  0.638995  0.591981\n",
       "626        7.0               10.0               7.0  0.638995  0.591981\n",
       "546        7.0                2.0               7.0  0.638995  0.591981\n",
       "556        7.0                3.0               7.0  0.638995  0.591981\n",
       "566        7.0                4.0               7.0  0.638995  0.591981"
      ]
     },
     "execution_count": 74,
     "metadata": {},
     "output_type": "execute_result"
    }
   ],
   "source": [
    "tree_df_down.sort_values(by='f1_valid', ascending=False).head()"
   ]
  },
  {
   "cell_type": "markdown",
   "metadata": {},
   "source": [
    "Посчитаем метрики полноты, точности и AUC-ROC для лучшей модели решающего дерева на валидационной выборке, а также построим графики PR-кривой и ROC-кривой."
   ]
  },
  {
   "cell_type": "code",
   "execution_count": 75,
   "metadata": {},
   "outputs": [
    {
     "name": "stdout",
     "output_type": "stream",
     "text": [
      "Recall: 0.6419437340153452\n",
      "Precision 0.5492341356673961\n",
      "AUC-ROC: 0.8332032572533972\n"
     ]
    }
   ],
   "source": [
    "best_model_tree.fit(features_train_down, target_train_down)\n",
    "predicted_valid = best_model_tree.predict(features_valid)\n",
    "probabilities_valid = best_model_tree.predict_proba(features_valid)\n",
    "\n",
    "print('Recall:', recall_score(target_valid, predicted_valid))\n",
    "print('Precision', precision_score(target_valid, predicted_valid))\n",
    "print('AUC-ROC:', roc_auc_score(target_valid, probabilities_valid[:,1]))"
   ]
  },
  {
   "cell_type": "code",
   "execution_count": 76,
   "metadata": {},
   "outputs": [
    {
     "data": {
      "image/png": "[encoded data removed]",
      "text/plain": [
       "<Figure size 720x360 with 1 Axes>"
      ]
     },
     "metadata": {
      "needs_background": "light"
     },
     "output_type": "display_data"
    }
   ],
   "source": [
    "# построим график PR-кривой\n",
    "precision_dt_down, recall_dt_down, threshold = precision_recall_curve(target_valid, probabilities_valid[:,1])\n",
    "print_pr(recall_dt_down, precision_dt_down)"
   ]
  },
  {
   "cell_type": "code",
   "execution_count": 77,
   "metadata": {
    "scrolled": true
   },
   "outputs": [
    {
     "data": {
      "image/png": "[encoded data removed]",
      "text/plain": [
       "<Figure size 720x360 with 1 Axes>"
      ]
     },
     "metadata": {
      "needs_background": "light"
     },
     "output_type": "display_data"
    }
   ],
   "source": [
    "# построим график ROC-кривой обученной модели\n",
    "fpr_dt_down, tpr_dt_down, thresholds = roc_curve(target_valid, probabilities_valid[:,1])\n",
    "print_roc(fpr_dt_down, tpr_dt_down)"
   ]
  },
  {
   "cell_type": "markdown",
   "metadata": {},
   "source": [
    "**Вывод**\n",
    "\n",
    "Значение f1-меры после применения техники **downsampling** полученной модели  решающего дерева получили **0.5919**, что лучше, чем при применении техники **upsampling (0.5789)**, но превышение порога (0.59) незначительное, скорее всего, при проверке на тестовых данных, не получим необходимое значение f1-меры."
   ]
  },
  {
   "cell_type": "markdown",
   "metadata": {},
   "source": [
    "#### Модель случайного леса (downsampling)"
   ]
  },
  {
   "cell_type": "markdown",
   "metadata": {},
   "source": [
    "Найдем модель с наибольшим значением f1-меры. Для этого необходимо найти наилучшие значения следующих гиперпараметров:\n",
    "- 'max_depth' - максимальная глубина дерева (будем перебирать значения от 1 до 10),\n",
    "- 'min_samples_split' - наименьшее количество объектов выборки, попадающих в узел решающего дерева (от 2 до 5),\n",
    "- 'min_samples_leaf' - наименьшее количество объектов выборки, необходимых для создания листа решающего дерева (от 1 до 5),\n",
    "- 'n_estimators' - количество деревьев в лесу (от 10 до 100 с шагом 10)."
   ]
  },
  {
   "cell_type": "code",
   "execution_count": 78,
   "metadata": {},
   "outputs": [
    {
     "name": "stderr",
     "output_type": "stream",
     "text": [
      "100%|██████████| 10/10 [08:27<00:00, 50.71s/it]"
     ]
    },
    {
     "name": "stdout",
     "output_type": "stream",
     "text": [
      "F1-мера наилучшей модели случайного леса на валидационной выборке 0.6114130434782609 при следующих параметрах:\n",
      "n_estimators = 40\n",
      "max_depth = 9\n",
      "min_samples_split = 2\n",
      "min_samples_leaf = 2\n"
     ]
    },
    {
     "name": "stderr",
     "output_type": "stream",
     "text": [
      "\n"
     ]
    }
   ],
   "source": [
    "i = 0\n",
    "forest_df_down = pd.DataFrame(columns=['n_estimators','max_depth','min_samples_split','min_samples_leaf','f1_train','f1_valid'])\n",
    "best_result = 0\n",
    "best_model_forest = None\n",
    "best_depth = 0\n",
    "best_split = 0\n",
    "best_leaf = 0\n",
    "best_est = 0\n",
    "for depth in tqdm(range(1,11)):\n",
    "    for split in range(2,6):\n",
    "        for leaf in range(1,6):\n",
    "            for est in range(10, 101, 10):\n",
    "                model = RandomForestClassifier(\n",
    "                    random_state=12345, \n",
    "                    n_estimators=est, \n",
    "                    max_depth=depth, \n",
    "                    min_samples_split=split,\n",
    "                    min_samples_leaf=leaf\n",
    "                )\n",
    "                model.fit(features_train_down, target_train_down)\n",
    "                predicted_valid = model.predict(features_valid)\n",
    "                predicted_train = model.predict(features_train)\n",
    "                result_train = f1_score(target_train, predicted_train)\n",
    "                result_valid = f1_score(target_valid, predicted_valid)\n",
    "                forest_df_down.loc[i] = np.array([est, depth, split, leaf, result_train, result_valid])\n",
    "                i += 1\n",
    "                if result_valid > best_result:\n",
    "                    best_model_forest = model\n",
    "                    best_result = result_valid\n",
    "                    best_depth = depth\n",
    "                    best_split = split\n",
    "                    best_leaf = leaf\n",
    "                    best_est = est\n",
    "\n",
    "print(f'F1-мера наилучшей модели случайного леса на валидационной выборке {best_result} при следующих параметрах:'+'\\n'+\n",
    "      f'n_estimators = {best_est}'+'\\n'+\n",
    "      f'max_depth = {best_depth}'+'\\n'+\n",
    "      f'min_samples_split = {best_split}'+'\\n'+\n",
    "      f'min_samples_leaf = {best_leaf}')"
   ]
  },
  {
   "cell_type": "code",
   "execution_count": 79,
   "metadata": {},
   "outputs": [
    {
     "data": {
      "text/html": [
       "<div>\n",
       "<style scoped>\n",
       "    .dataframe tbody tr th:only-of-type {\n",
       "        vertical-align: middle;\n",
       "    }\n",
       "\n",
       "    .dataframe tbody tr th {\n",
       "        vertical-align: top;\n",
       "    }\n",
       "\n",
       "    .dataframe thead th {\n",
       "        text-align: right;\n",
       "    }\n",
       "</style>\n",
       "<table border=\"1\" class=\"dataframe\">\n",
       "  <thead>\n",
       "    <tr style=\"text-align: right;\">\n",
       "      <th></th>\n",
       "      <th>n_estimators</th>\n",
       "      <th>max_depth</th>\n",
       "      <th>min_samples_split</th>\n",
       "      <th>min_samples_leaf</th>\n",
       "      <th>f1_train</th>\n",
       "      <th>f1_valid</th>\n",
       "    </tr>\n",
       "  </thead>\n",
       "  <tbody>\n",
       "    <tr>\n",
       "      <td>1613</td>\n",
       "      <td>40.0</td>\n",
       "      <td>9.0</td>\n",
       "      <td>2.0</td>\n",
       "      <td>2.0</td>\n",
       "      <td>0.701344</td>\n",
       "      <td>0.611413</td>\n",
       "    </tr>\n",
       "    <tr>\n",
       "      <td>1713</td>\n",
       "      <td>40.0</td>\n",
       "      <td>9.0</td>\n",
       "      <td>4.0</td>\n",
       "      <td>2.0</td>\n",
       "      <td>0.701344</td>\n",
       "      <td>0.611413</td>\n",
       "    </tr>\n",
       "    <tr>\n",
       "      <td>1663</td>\n",
       "      <td>40.0</td>\n",
       "      <td>9.0</td>\n",
       "      <td>3.0</td>\n",
       "      <td>2.0</td>\n",
       "      <td>0.701344</td>\n",
       "      <td>0.611413</td>\n",
       "    </tr>\n",
       "    <tr>\n",
       "      <td>1912</td>\n",
       "      <td>30.0</td>\n",
       "      <td>10.0</td>\n",
       "      <td>4.0</td>\n",
       "      <td>2.0</td>\n",
       "      <td>0.735434</td>\n",
       "      <td>0.609418</td>\n",
       "    </tr>\n",
       "    <tr>\n",
       "      <td>1862</td>\n",
       "      <td>30.0</td>\n",
       "      <td>10.0</td>\n",
       "      <td>3.0</td>\n",
       "      <td>2.0</td>\n",
       "      <td>0.735434</td>\n",
       "      <td>0.609418</td>\n",
       "    </tr>\n",
       "  </tbody>\n",
       "</table>\n",
       "</div>"
      ],
      "text/plain": [
       "      n_estimators  max_depth  min_samples_split  min_samples_leaf  f1_train  \\\n",
       "1613          40.0        9.0                2.0               2.0  0.701344   \n",
       "1713          40.0        9.0                4.0               2.0  0.701344   \n",
       "1663          40.0        9.0                3.0               2.0  0.701344   \n",
       "1912          30.0       10.0                4.0               2.0  0.735434   \n",
       "1862          30.0       10.0                3.0               2.0  0.735434   \n",
       "\n",
       "      f1_valid  \n",
       "1613  0.611413  \n",
       "1713  0.611413  \n",
       "1663  0.611413  \n",
       "1912  0.609418  \n",
       "1862  0.609418  "
      ]
     },
     "execution_count": 79,
     "metadata": {},
     "output_type": "execute_result"
    }
   ],
   "source": [
    "forest_df_down.sort_values(by='f1_valid', ascending=False).head()"
   ]
  },
  {
   "cell_type": "markdown",
   "metadata": {},
   "source": [
    "Посчитаем метрики полноты, точности и AUC-ROC для лучшей модели случайного леса на валидационной выборке, а также построим графики PR-кривой и ROC-кривой."
   ]
  },
  {
   "cell_type": "code",
   "execution_count": 80,
   "metadata": {},
   "outputs": [
    {
     "name": "stdout",
     "output_type": "stream",
     "text": [
      "Recall: 0.5754475703324808\n",
      "Precision 0.6521739130434783\n",
      "AUC-ROC: 0.8502413692798978\n"
     ]
    }
   ],
   "source": [
    "best_model_forest.fit(features_train_down, target_train_down)\n",
    "predicted_valid = best_model_forest.predict(features_valid)\n",
    "probabilities_valid = best_model_forest.predict_proba(features_valid)\n",
    "\n",
    "print('Recall:', recall_score(target_valid, predicted_valid))\n",
    "print('Precision', precision_score(target_valid, predicted_valid))\n",
    "print('AUC-ROC:', roc_auc_score(target_valid, probabilities_valid[:,1]))"
   ]
  },
  {
   "cell_type": "code",
   "execution_count": 81,
   "metadata": {},
   "outputs": [
    {
     "data": {
      "image/png": "[encoded data removed]",
      "text/plain": [
       "<Figure size 720x360 with 1 Axes>"
      ]
     },
     "metadata": {
      "needs_background": "light"
     },
     "output_type": "display_data"
    }
   ],
   "source": [
    "# построим график PR-кривой\n",
    "precision_rf_down, recall_rf_down, threshold = precision_recall_curve(target_valid, probabilities_valid[:,1])\n",
    "print_pr(recall_rf_down, precision_rf_down)"
   ]
  },
  {
   "cell_type": "code",
   "execution_count": 82,
   "metadata": {
    "scrolled": true
   },
   "outputs": [
    {
     "data": {
      "image/png": "[encoded data removed]",
      "text/plain": [
       "<Figure size 720x360 with 1 Axes>"
      ]
     },
     "metadata": {
      "needs_background": "light"
     },
     "output_type": "display_data"
    }
   ],
   "source": [
    "# построим график ROC-кривой обученной модели\n",
    "fpr_rf_down, tpr_rf_down, thresholds = roc_curve(target_valid, probabilities_valid[:,1])\n",
    "print_roc(fpr_rf_down, tpr_rf_down)"
   ]
  },
  {
   "cell_type": "markdown",
   "metadata": {},
   "source": [
    "**Вывод**\n",
    "\n",
    "Значение f1-меры после применения техники **downsampling** полученной модели решающего дерева получили **0.6114**, что незначительно хуже, чем при применении техники **upsampling (0.6132)**."
   ]
  },
  {
   "cell_type": "markdown",
   "metadata": {},
   "source": [
    "### Сравнение моделей и выбор лучшей"
   ]
  },
  {
   "cell_type": "markdown",
   "metadata": {},
   "source": [
    "Сравним обученные различными способами модели. Сведем их метрики в таблицы и примем решение относительно того, какую из них выбрать для проверки на тестовой выборке."
   ]
  },
  {
   "cell_type": "markdown",
   "metadata": {},
   "source": [
    "**Логистическая регрессия**"
   ]
  },
  {
   "cell_type": "code",
   "execution_count": 83,
   "metadata": {},
   "outputs": [
    {
     "data": {
      "text/html": [
       "<div>\n",
       "<style scoped>\n",
       "    .dataframe tbody tr th:only-of-type {\n",
       "        vertical-align: middle;\n",
       "    }\n",
       "\n",
       "    .dataframe tbody tr th {\n",
       "        vertical-align: top;\n",
       "    }\n",
       "\n",
       "    .dataframe thead th {\n",
       "        text-align: right;\n",
       "    }\n",
       "</style>\n",
       "<table border=\"1\" class=\"dataframe\">\n",
       "  <thead>\n",
       "    <tr style=\"text-align: right;\">\n",
       "      <th></th>\n",
       "      <th>method</th>\n",
       "      <th>Recall</th>\n",
       "      <th>Precision</th>\n",
       "      <th>F1-score</th>\n",
       "      <th>AUC-ROC</th>\n",
       "    </tr>\n",
       "  </thead>\n",
       "  <tbody>\n",
       "    <tr>\n",
       "      <td>2</td>\n",
       "      <td>upsampling</td>\n",
       "      <td>0.4655</td>\n",
       "      <td>0.5070</td>\n",
       "      <td>0.4853</td>\n",
       "      <td>0.7716</td>\n",
       "    </tr>\n",
       "    <tr>\n",
       "      <td>3</td>\n",
       "      <td>downsampling</td>\n",
       "      <td>0.4731</td>\n",
       "      <td>0.4947</td>\n",
       "      <td>0.4836</td>\n",
       "      <td>0.7721</td>\n",
       "    </tr>\n",
       "    <tr>\n",
       "      <td>1</td>\n",
       "      <td>class_weight</td>\n",
       "      <td>0.6829</td>\n",
       "      <td>0.3648</td>\n",
       "      <td>0.4755</td>\n",
       "      <td>0.7726</td>\n",
       "    </tr>\n",
       "    <tr>\n",
       "      <td>0</td>\n",
       "      <td>imbalance</td>\n",
       "      <td>0.2072</td>\n",
       "      <td>0.5745</td>\n",
       "      <td>0.3045</td>\n",
       "      <td>0.7705</td>\n",
       "    </tr>\n",
       "  </tbody>\n",
       "</table>\n",
       "</div>"
      ],
      "text/plain": [
       "         method  Recall  Precision  F1-score  AUC-ROC\n",
       "2    upsampling  0.4655     0.5070    0.4853   0.7716\n",
       "3  downsampling  0.4731     0.4947    0.4836   0.7721\n",
       "1  class_weight  0.6829     0.3648    0.4755   0.7726\n",
       "0     imbalance  0.2072     0.5745    0.3045   0.7705"
      ]
     },
     "execution_count": 83,
     "metadata": {},
     "output_type": "execute_result"
    }
   ],
   "source": [
    "data = [['imbalance', 0.2072, 0.5745, 0.3045, 0.7705],\n",
    "        ['class_weight', 0.6829, 0.3648, 0.4755, 0.7726],\n",
    "        ['upsampling', 0.4655, 0.507, 0.4853, 0.7716],\n",
    "        ['downsampling', 0.4731, 0.4947, 0.4836, 0.7721]]\n",
    "columns = ['method', 'Recall', 'Precision', 'F1-score', 'AUC-ROC']\n",
    "logistic_regression = pd.DataFrame(data=data, columns=columns)\n",
    "logistic_regression.sort_values(by='F1-score', ascending=False)"
   ]
  },
  {
   "cell_type": "markdown",
   "metadata": {},
   "source": [
    "Ни одна модель, обученная методом логистической регрессии, не достигла целевого показателя f1-меры в 0.59. По этой причине, для дальнейшего рассмотрения данные модели не подходят. "
   ]
  },
  {
   "cell_type": "markdown",
   "metadata": {},
   "source": [
    "**Решающее дерево**"
   ]
  },
  {
   "cell_type": "code",
   "execution_count": 84,
   "metadata": {},
   "outputs": [
    {
     "data": {
      "text/html": [
       "<div>\n",
       "<style scoped>\n",
       "    .dataframe tbody tr th:only-of-type {\n",
       "        vertical-align: middle;\n",
       "    }\n",
       "\n",
       "    .dataframe tbody tr th {\n",
       "        vertical-align: top;\n",
       "    }\n",
       "\n",
       "    .dataframe thead th {\n",
       "        text-align: right;\n",
       "    }\n",
       "</style>\n",
       "<table border=\"1\" class=\"dataframe\">\n",
       "  <thead>\n",
       "    <tr style=\"text-align: right;\">\n",
       "      <th></th>\n",
       "      <th>method</th>\n",
       "      <th>Recall</th>\n",
       "      <th>Precision</th>\n",
       "      <th>F1-score</th>\n",
       "      <th>AUC-ROC</th>\n",
       "    </tr>\n",
       "  </thead>\n",
       "  <tbody>\n",
       "    <tr>\n",
       "      <td>3</td>\n",
       "      <td>downsampling</td>\n",
       "      <td>0.6419</td>\n",
       "      <td>0.5492</td>\n",
       "      <td>0.5920</td>\n",
       "      <td>0.8332</td>\n",
       "    </tr>\n",
       "    <tr>\n",
       "      <td>2</td>\n",
       "      <td>upsampling</td>\n",
       "      <td>0.5627</td>\n",
       "      <td>0.5962</td>\n",
       "      <td>0.5789</td>\n",
       "      <td>0.8262</td>\n",
       "    </tr>\n",
       "    <tr>\n",
       "      <td>0</td>\n",
       "      <td>imbalance</td>\n",
       "      <td>0.4629</td>\n",
       "      <td>0.7298</td>\n",
       "      <td>0.5665</td>\n",
       "      <td>0.8280</td>\n",
       "    </tr>\n",
       "    <tr>\n",
       "      <td>1</td>\n",
       "      <td>class_weight</td>\n",
       "      <td>0.7136</td>\n",
       "      <td>0.4635</td>\n",
       "      <td>0.5619</td>\n",
       "      <td>0.8178</td>\n",
       "    </tr>\n",
       "  </tbody>\n",
       "</table>\n",
       "</div>"
      ],
      "text/plain": [
       "         method  Recall  Precision  F1-score  AUC-ROC\n",
       "3  downsampling  0.6419     0.5492    0.5920   0.8332\n",
       "2    upsampling  0.5627     0.5962    0.5789   0.8262\n",
       "0     imbalance  0.4629     0.7298    0.5665   0.8280\n",
       "1  class_weight  0.7136     0.4635    0.5619   0.8178"
      ]
     },
     "execution_count": 84,
     "metadata": {},
     "output_type": "execute_result"
    }
   ],
   "source": [
    "data = [['imbalance', 0.4629, 0.7298, 0.5665, 0.828],\n",
    "        ['class_weight', 0.7136, 0.4635, 0.5619, 0.8178],\n",
    "        ['upsampling', 0.5627, 0.5962, 0.5789, 0.8262],\n",
    "        ['downsampling', 0.6419, 0.5492, 0.592, 0.8332]]\n",
    "columns = ['method', 'Recall', 'Precision', 'F1-score', 'AUC-ROC']\n",
    "decision_tree = pd.DataFrame(data=data, columns=columns)\n",
    "decision_tree.sort_values(by='F1-score', ascending=False)"
   ]
  },
  {
   "cell_type": "markdown",
   "metadata": {},
   "source": [
    "Из четырех моделей только одна модель решающего дерева преодолела необходимый порог f1-меры в 0.59. Результат **0.5920** показала модель, которая обучалась на данных, преобразованных техникой 'downsampling'. \n",
    "\n",
    "Гиперпараметры данной модели: \n",
    "- max_depth=7, \n",
    "- min_samples_split=2, \n",
    "- min_samples_leaf=7"
   ]
  },
  {
   "cell_type": "code",
   "execution_count": 85,
   "metadata": {},
   "outputs": [
    {
     "name": "stdout",
     "output_type": "stream",
     "text": [
      "CPU times: user 18 ms, sys: 6 µs, total: 18 ms\n",
      "Wall time: 16.8 ms\n"
     ]
    },
    {
     "data": {
      "text/plain": [
       "0.5919811320754716"
      ]
     },
     "execution_count": 85,
     "metadata": {},
     "output_type": "execute_result"
    }
   ],
   "source": [
    "%%time\n",
    "model_tree_down = DecisionTreeClassifier(\n",
    "                random_state=12345, \n",
    "                max_depth=7, \n",
    "                min_samples_split=2, \n",
    "                min_samples_leaf=7\n",
    "            )\n",
    "model_tree_down.fit(features_train_down, target_train_down)\n",
    "predicted_valid = model_tree_down.predict(features_valid)\n",
    "result_valid = f1_score(target_valid, predicted_valid)\n",
    "result_valid"
   ]
  },
  {
   "cell_type": "markdown",
   "metadata": {},
   "source": [
    "**Случайный лес**"
   ]
  },
  {
   "cell_type": "code",
   "execution_count": 86,
   "metadata": {},
   "outputs": [
    {
     "data": {
      "text/html": [
       "<div>\n",
       "<style scoped>\n",
       "    .dataframe tbody tr th:only-of-type {\n",
       "        vertical-align: middle;\n",
       "    }\n",
       "\n",
       "    .dataframe tbody tr th {\n",
       "        vertical-align: top;\n",
       "    }\n",
       "\n",
       "    .dataframe thead th {\n",
       "        text-align: right;\n",
       "    }\n",
       "</style>\n",
       "<table border=\"1\" class=\"dataframe\">\n",
       "  <thead>\n",
       "    <tr style=\"text-align: right;\">\n",
       "      <th></th>\n",
       "      <th>method</th>\n",
       "      <th>Recall</th>\n",
       "      <th>Precision</th>\n",
       "      <th>F1-score</th>\n",
       "      <th>AUC-ROC</th>\n",
       "    </tr>\n",
       "  </thead>\n",
       "  <tbody>\n",
       "    <tr>\n",
       "      <td>2</td>\n",
       "      <td>upsampling</td>\n",
       "      <td>0.5575</td>\n",
       "      <td>0.6813</td>\n",
       "      <td>0.6132</td>\n",
       "      <td>0.8519</td>\n",
       "    </tr>\n",
       "    <tr>\n",
       "      <td>3</td>\n",
       "      <td>downsampling</td>\n",
       "      <td>0.5754</td>\n",
       "      <td>0.6522</td>\n",
       "      <td>0.6114</td>\n",
       "      <td>0.8502</td>\n",
       "    </tr>\n",
       "    <tr>\n",
       "      <td>1</td>\n",
       "      <td>class_weight</td>\n",
       "      <td>0.6496</td>\n",
       "      <td>0.5721</td>\n",
       "      <td>0.6084</td>\n",
       "      <td>0.8534</td>\n",
       "    </tr>\n",
       "    <tr>\n",
       "      <td>0</td>\n",
       "      <td>imbalance</td>\n",
       "      <td>0.4425</td>\n",
       "      <td>0.7936</td>\n",
       "      <td>0.5681</td>\n",
       "      <td>0.8507</td>\n",
       "    </tr>\n",
       "  </tbody>\n",
       "</table>\n",
       "</div>"
      ],
      "text/plain": [
       "         method  Recall  Precision  F1-score  AUC-ROC\n",
       "2    upsampling  0.5575     0.6813    0.6132   0.8519\n",
       "3  downsampling  0.5754     0.6522    0.6114   0.8502\n",
       "1  class_weight  0.6496     0.5721    0.6084   0.8534\n",
       "0     imbalance  0.4425     0.7936    0.5681   0.8507"
      ]
     },
     "execution_count": 86,
     "metadata": {},
     "output_type": "execute_result"
    }
   ],
   "source": [
    "data = [['imbalance', 0.4425, 0.7936, 0.5681, 0.8507],\n",
    "        ['class_weight', 0.6496, 0.5721, 0.6084, 0.8534],\n",
    "        ['upsampling', 0.5575, 0.6813, 0.6132, 0.8519],\n",
    "        ['downsampling', 0.5754, 0.6522, 0.6114, 0.8502]]\n",
    "columns = ['method', 'Recall', 'Precision', 'F1-score', 'AUC-ROC']\n",
    "decision_tree = pd.DataFrame(data=data, columns=columns)\n",
    "decision_tree.sort_values(by='F1-score', ascending=False)"
   ]
  },
  {
   "cell_type": "markdown",
   "metadata": {},
   "source": [
    "Из четырех моделей случайного леса 3 модели превысили необходимый порог f1-меры в 0.59. \n",
    "- Результат **0.6132** показала модель, которая обучалась на данных, преобразованных техникой **'upsampling'** (ее гиперпараметры: n_estimators=70, max_depth=9, min_samples_split=2, min_samples_leaf=5), \n",
    "- **0.6114** - модель, которая обучалась на данных, преобразованных техникой **'downsampling'** (ее гиперпараметры: n_estimators=40, max_depth=9, min_samples_split=2, min_samples_leaf=2)\n",
    "- **0.6132** - модель, которая обучалась с выставленным параметром **class_weight='balanced'** (ее гиперпараметры: n_estimators=80, max_depth=9, min_samples_split=2, min_samples_leaf=3)."
   ]
  },
  {
   "cell_type": "code",
   "execution_count": 87,
   "metadata": {},
   "outputs": [
    {
     "name": "stdout",
     "output_type": "stream",
     "text": [
      "CPU times: user 667 ms, sys: 3.99 ms, total: 671 ms\n",
      "Wall time: 694 ms\n"
     ]
    },
    {
     "data": {
      "text/plain": [
       "0.6132208157524615"
      ]
     },
     "execution_count": 87,
     "metadata": {},
     "output_type": "execute_result"
    }
   ],
   "source": [
    "%%time\n",
    "model_forest_up = RandomForestClassifier(\n",
    "                    random_state=12345, \n",
    "                    n_estimators=70, \n",
    "                    max_depth=9, \n",
    "                    min_samples_split=2,\n",
    "                    min_samples_leaf=5,\n",
    "                )\n",
    "model_forest_up.fit(features_train_up, target_train_up)\n",
    "predicted_valid = model_forest_up.predict(features_valid)\n",
    "result_valid = f1_score(target_valid, predicted_valid)\n",
    "result_valid"
   ]
  },
  {
   "cell_type": "code",
   "execution_count": 88,
   "metadata": {},
   "outputs": [
    {
     "name": "stdout",
     "output_type": "stream",
     "text": [
      "CPU times: user 199 ms, sys: 11 µs, total: 199 ms\n",
      "Wall time: 213 ms\n"
     ]
    },
    {
     "data": {
      "text/plain": [
       "0.6114130434782609"
      ]
     },
     "execution_count": 88,
     "metadata": {},
     "output_type": "execute_result"
    }
   ],
   "source": [
    "%%time\n",
    "model_forest_down = RandomForestClassifier(\n",
    "                    random_state=12345, \n",
    "                    n_estimators=40, \n",
    "                    max_depth=9, \n",
    "                    min_samples_split=2,\n",
    "                    min_samples_leaf=2,\n",
    "                )\n",
    "model_forest_down.fit(features_train_down, target_train_down)\n",
    "predicted_valid = model_forest_down.predict(features_valid)\n",
    "result_valid = f1_score(target_valid, predicted_valid)\n",
    "result_valid"
   ]
  },
  {
   "cell_type": "code",
   "execution_count": 89,
   "metadata": {},
   "outputs": [
    {
     "name": "stdout",
     "output_type": "stream",
     "text": [
      "CPU times: user 544 ms, sys: 8.02 ms, total: 552 ms\n",
      "Wall time: 562 ms\n"
     ]
    },
    {
     "data": {
      "text/plain": [
       "0.6083832335329341"
      ]
     },
     "execution_count": 89,
     "metadata": {},
     "output_type": "execute_result"
    }
   ],
   "source": [
    "%%time\n",
    "model_forest_bal = RandomForestClassifier(\n",
    "                    random_state=12345, \n",
    "                    n_estimators=80, \n",
    "                    max_depth=9, \n",
    "                    min_samples_split=2,\n",
    "                    min_samples_leaf=3,\n",
    "                    class_weight='balanced'\n",
    "                )\n",
    "model_forest_bal.fit(features_train, target_train)\n",
    "predicted_valid = model_forest_bal.predict(features_valid)\n",
    "result_valid = f1_score(target_valid, predicted_valid)\n",
    "result_valid"
   ]
  },
  {
   "cell_type": "markdown",
   "metadata": {},
   "source": [
    "**Вывод**\n",
    "\n",
    "Выбрали 4 модели, которые удовлетворяют требуемому уровню f1-меры. "
   ]
  },
  {
   "cell_type": "markdown",
   "metadata": {},
   "source": [
    "## Тестирование модели"
   ]
  },
  {
   "cell_type": "markdown",
   "metadata": {},
   "source": [
    "В предыдущем шаге мы выделили 4 модели, которые могут выдать требуемое значение f1-меры для тестовой выборки. Проверим их."
   ]
  },
  {
   "cell_type": "markdown",
   "metadata": {},
   "source": [
    "**Модель 1**"
   ]
  },
  {
   "cell_type": "code",
   "execution_count": 90,
   "metadata": {},
   "outputs": [
    {
     "name": "stdout",
     "output_type": "stream",
     "text": [
      "F1: 0.6252771618625276\n"
     ]
    }
   ],
   "source": [
    "predicted_test = model_tree_down.predict(features_test)\n",
    "result_test = f1_score(target_test, predicted_test)\n",
    "print('F1:', result_test)"
   ]
  },
  {
   "cell_type": "markdown",
   "metadata": {},
   "source": [
    "**Модель 2**"
   ]
  },
  {
   "cell_type": "code",
   "execution_count": 91,
   "metadata": {},
   "outputs": [
    {
     "name": "stdout",
     "output_type": "stream",
     "text": [
      "F1: 0.620599739243807\n"
     ]
    }
   ],
   "source": [
    "predicted_test = model_forest_up.predict(features_test)\n",
    "result_test = f1_score(target_test, predicted_test)\n",
    "print('F1:', result_test)"
   ]
  },
  {
   "cell_type": "markdown",
   "metadata": {},
   "source": [
    "**Модель 3**"
   ]
  },
  {
   "cell_type": "code",
   "execution_count": 92,
   "metadata": {},
   "outputs": [
    {
     "name": "stdout",
     "output_type": "stream",
     "text": [
      "F1: 0.6236024844720496\n"
     ]
    }
   ],
   "source": [
    "predicted_test = model_forest_down.predict(features_test)\n",
    "result_test = f1_score(target_test, predicted_test)\n",
    "print('F1:', result_test)"
   ]
  },
  {
   "cell_type": "markdown",
   "metadata": {},
   "source": [
    "**Модель 4**"
   ]
  },
  {
   "cell_type": "code",
   "execution_count": 93,
   "metadata": {},
   "outputs": [
    {
     "name": "stdout",
     "output_type": "stream",
     "text": [
      "F1: 0.6514161220043573\n"
     ]
    }
   ],
   "source": [
    "predicted_test = model_forest_bal.predict(features_test)\n",
    "result_test = f1_score(target_test, predicted_test)\n",
    "print('F1:', result_test)"
   ]
  },
  {
   "cell_type": "markdown",
   "metadata": {},
   "source": [
    "**Вывод**\n",
    "\n",
    "Все модели показали значение метрики f1-меры от 0.6205 до 0.6514. Данные значения удовлетворяет заданному в условии порогу (не менее 0.59). Какую выбрать? \n",
    "1. Если исходить из максимального значения f1, то модель случайного леса с выставленным параметром class_weight='balanced'(**Модель 4**);\n",
    "\n",
    "Её гиперпараметры: \n",
    "   - n_estimators=80, \n",
    "   - max_depth=9, \n",
    "   - min_samples_split=2,\n",
    "   - min_samples_leaf=3,\n",
    "   - class_weight='balanced'.\n",
    "\n",
    "\n",
    "2. Если требуется наиболее быстрая модель, то следует выбрать модель решающего дерева, обученную на данных, преобразованных техникой 'downsampling'(**Модель 1**);\n",
    "\n",
    "Её гиперпараметры: \n",
    "- max_depth=7, \n",
    "- min_samples_split=2, \n",
    "- min_samples_leaf=7."
   ]
  }
 ],
 "metadata": {
  "kernelspec": {
   "display_name": "Python 3",
   "language": "python",
   "name": "python3"
  },
  "language_info": {
   "codemirror_mode": {
    "name": "ipython",
    "version": 3
   },
   "file_extension": ".py",
   "mimetype": "text/x-python",
   "name": "python",
   "nbconvert_exporter": "python",
   "pygments_lexer": "ipython3",
   "version": "3.7.10"
  },
  "toc": {
   "base_numbering": 1,
   "nav_menu": {
    "height": "184px",
    "width": "198px"
   },
   "number_sections": true,
   "sideBar": true,
   "skip_h1_title": true,
   "title_cell": "Содержание",
   "title_sidebar": "Contents",
   "toc_cell": true,
   "toc_position": {
    "height": "calc(100% - 180px)",
    "left": "10px",
    "top": "150px",
    "width": "333.391px"
   },
   "toc_section_display": true,
   "toc_window_display": true
  }
 },
 "nbformat": 4,
 "nbformat_minor": 2
}
