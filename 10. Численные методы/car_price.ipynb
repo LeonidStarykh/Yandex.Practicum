{
 "cells": [
  {
   "cell_type": "markdown",
   "metadata": {},
   "source": [
    "# 10. Численные методы"
   ]
  },
  {
   "cell_type": "markdown",
   "metadata": {},
   "source": [
    "# Определение стоимости автомобилей"
   ]
  },
  {
   "cell_type": "markdown",
   "metadata": {},
   "source": [
    "Сервис по продаже автомобилей с пробегом «Не бит, не крашен» разрабатывает приложение для привлечения новых клиентов. В нём можно быстро узнать рыночную стоимость своего автомобиля. В нашем распоряжении исторические данные: технические характеристики, комплектации и цены автомобилей. \n",
    "\n",
    "**Задача:** построить модель для определения стоимости автомобиля. \n",
    "\n",
    "Заказчику важны:\n",
    "\n",
    "- качество предсказания;\n",
    "- скорость предсказания;\n",
    "- время обучения."
   ]
  },
  {
   "cell_type": "markdown",
   "metadata": {
    "toc": true
   },
   "source": [
    "<h1>Содержание<span class=\"tocSkip\"></span></h1>\n",
    "<div class=\"toc\"><ul class=\"toc-item\"><li><span><a href=\"#Подготовка-данных\" data-toc-modified-id=\"Подготовка-данных-1\"><span class=\"toc-item-num\">1&nbsp;&nbsp;</span>Подготовка данных</a></span><ul class=\"toc-item\"><li><span><a href=\"#Загрузка-данных\" data-toc-modified-id=\"Загрузка-данных-1.1\"><span class=\"toc-item-num\">1.1&nbsp;&nbsp;</span>Загрузка данных</a></span></li><li><span><a href=\"#Подготовка-данных\" data-toc-modified-id=\"Подготовка-данных-1.2\"><span class=\"toc-item-num\">1.2&nbsp;&nbsp;</span>Подготовка данных</a></span><ul class=\"toc-item\"><li><span><a href=\"#Преобразование-названий-признаков\" data-toc-modified-id=\"Преобразование-названий-признаков-1.2.1\"><span class=\"toc-item-num\">1.2.1&nbsp;&nbsp;</span><strong>Преобразование названий признаков</strong></a></span></li><li><span><a href=\"#Удаление-лишних-признаков\" data-toc-modified-id=\"Удаление-лишних-признаков-1.2.2\"><span class=\"toc-item-num\">1.2.2&nbsp;&nbsp;</span><strong>Удаление лишних признаков</strong></a></span></li><li><span><a href=\"#Обработка-пропущенных-значений\" data-toc-modified-id=\"Обработка-пропущенных-значений-1.2.3\"><span class=\"toc-item-num\">1.2.3&nbsp;&nbsp;</span><strong>Обработка пропущенных значений</strong></a></span></li><li><span><a href=\"#Поиск-и-исправление-ошибочных-значений\" data-toc-modified-id=\"Поиск-и-исправление-ошибочных-значений-1.2.4\"><span class=\"toc-item-num\">1.2.4&nbsp;&nbsp;</span><strong>Поиск и исправление ошибочных значений</strong></a></span></li><li><span><a href=\"#Преобразование-типов-данных\" data-toc-modified-id=\"Преобразование-типов-данных-1.2.5\"><span class=\"toc-item-num\">1.2.5&nbsp;&nbsp;</span>Преобразование типов данных</a></span></li><li><span><a href=\"#Проверка-дубликатов\" data-toc-modified-id=\"Проверка-дубликатов-1.2.6\"><span class=\"toc-item-num\">1.2.6&nbsp;&nbsp;</span>Проверка дубликатов</a></span></li></ul></li></ul></li><li><span><a href=\"#Обучение-моделей\" data-toc-modified-id=\"Обучение-моделей-2\"><span class=\"toc-item-num\">2&nbsp;&nbsp;</span>Обучение моделей</a></span></li><li><span><a href=\"#Анализ-моделей\" data-toc-modified-id=\"Анализ-моделей-3\"><span class=\"toc-item-num\">3&nbsp;&nbsp;</span>Анализ моделей</a></span></li></ul></div>"
   ]
  },
  {
   "cell_type": "markdown",
   "metadata": {},
   "source": [
    "## Подготовка данных"
   ]
  },
  {
   "cell_type": "code",
   "execution_count": 1,
   "metadata": {},
   "outputs": [],
   "source": [
    "import pandas as pd\n",
    "import numpy as np\n",
    "import matplotlib.pyplot as plt\n",
    "import re\n",
    "from sklearn.model_selection import train_test_split\n",
    "from sklearn.metrics import mean_squared_error, r2_score, mean_absolute_error\n",
    "from sklearn.ensemble import RandomForestRegressor\n",
    "from sklearn.model_selection import cross_val_score\n",
    "from lightgbm import LGBMRegressor\n",
    "from catboost import CatBoostRegressor\n",
    "from tqdm import tqdm\n",
    "import warnings\n",
    "warnings.filterwarnings('ignore')"
   ]
  },
  {
   "cell_type": "markdown",
   "metadata": {},
   "source": [
    "### Загрузка данных"
   ]
  },
  {
   "cell_type": "markdown",
   "metadata": {},
   "source": [
    "Загрузим данные и посмотрим, что они из себя представляют."
   ]
  },
  {
   "cell_type": "code",
   "execution_count": 2,
   "metadata": {},
   "outputs": [],
   "source": [
    "df = pd.read_csv('autos.csv')"
   ]
  },
  {
   "cell_type": "code",
   "execution_count": 3,
   "metadata": {},
   "outputs": [
    {
     "data": {
      "text/html": [
       "<div>\n",
       "<style scoped>\n",
       "    .dataframe tbody tr th:only-of-type {\n",
       "        vertical-align: middle;\n",
       "    }\n",
       "\n",
       "    .dataframe tbody tr th {\n",
       "        vertical-align: top;\n",
       "    }\n",
       "\n",
       "    .dataframe thead th {\n",
       "        text-align: right;\n",
       "    }\n",
       "</style>\n",
       "<table border=\"1\" class=\"dataframe\">\n",
       "  <thead>\n",
       "    <tr style=\"text-align: right;\">\n",
       "      <th></th>\n",
       "      <th>DateCrawled</th>\n",
       "      <th>Price</th>\n",
       "      <th>VehicleType</th>\n",
       "      <th>RegistrationYear</th>\n",
       "      <th>Gearbox</th>\n",
       "      <th>Power</th>\n",
       "      <th>Model</th>\n",
       "      <th>Kilometer</th>\n",
       "      <th>RegistrationMonth</th>\n",
       "      <th>FuelType</th>\n",
       "      <th>Brand</th>\n",
       "      <th>NotRepaired</th>\n",
       "      <th>DateCreated</th>\n",
       "      <th>NumberOfPictures</th>\n",
       "      <th>PostalCode</th>\n",
       "      <th>LastSeen</th>\n",
       "    </tr>\n",
       "  </thead>\n",
       "  <tbody>\n",
       "    <tr>\n",
       "      <td>0</td>\n",
       "      <td>2016-03-24 11:52:17</td>\n",
       "      <td>480</td>\n",
       "      <td>NaN</td>\n",
       "      <td>1993</td>\n",
       "      <td>manual</td>\n",
       "      <td>0</td>\n",
       "      <td>golf</td>\n",
       "      <td>150000</td>\n",
       "      <td>0</td>\n",
       "      <td>petrol</td>\n",
       "      <td>volkswagen</td>\n",
       "      <td>NaN</td>\n",
       "      <td>2016-03-24 00:00:00</td>\n",
       "      <td>0</td>\n",
       "      <td>70435</td>\n",
       "      <td>2016-04-07 03:16:57</td>\n",
       "    </tr>\n",
       "    <tr>\n",
       "      <td>1</td>\n",
       "      <td>2016-03-24 10:58:45</td>\n",
       "      <td>18300</td>\n",
       "      <td>coupe</td>\n",
       "      <td>2011</td>\n",
       "      <td>manual</td>\n",
       "      <td>190</td>\n",
       "      <td>NaN</td>\n",
       "      <td>125000</td>\n",
       "      <td>5</td>\n",
       "      <td>gasoline</td>\n",
       "      <td>audi</td>\n",
       "      <td>yes</td>\n",
       "      <td>2016-03-24 00:00:00</td>\n",
       "      <td>0</td>\n",
       "      <td>66954</td>\n",
       "      <td>2016-04-07 01:46:50</td>\n",
       "    </tr>\n",
       "    <tr>\n",
       "      <td>2</td>\n",
       "      <td>2016-03-14 12:52:21</td>\n",
       "      <td>9800</td>\n",
       "      <td>suv</td>\n",
       "      <td>2004</td>\n",
       "      <td>auto</td>\n",
       "      <td>163</td>\n",
       "      <td>grand</td>\n",
       "      <td>125000</td>\n",
       "      <td>8</td>\n",
       "      <td>gasoline</td>\n",
       "      <td>jeep</td>\n",
       "      <td>NaN</td>\n",
       "      <td>2016-03-14 00:00:00</td>\n",
       "      <td>0</td>\n",
       "      <td>90480</td>\n",
       "      <td>2016-04-05 12:47:46</td>\n",
       "    </tr>\n",
       "    <tr>\n",
       "      <td>3</td>\n",
       "      <td>2016-03-17 16:54:04</td>\n",
       "      <td>1500</td>\n",
       "      <td>small</td>\n",
       "      <td>2001</td>\n",
       "      <td>manual</td>\n",
       "      <td>75</td>\n",
       "      <td>golf</td>\n",
       "      <td>150000</td>\n",
       "      <td>6</td>\n",
       "      <td>petrol</td>\n",
       "      <td>volkswagen</td>\n",
       "      <td>no</td>\n",
       "      <td>2016-03-17 00:00:00</td>\n",
       "      <td>0</td>\n",
       "      <td>91074</td>\n",
       "      <td>2016-03-17 17:40:17</td>\n",
       "    </tr>\n",
       "    <tr>\n",
       "      <td>4</td>\n",
       "      <td>2016-03-31 17:25:20</td>\n",
       "      <td>3600</td>\n",
       "      <td>small</td>\n",
       "      <td>2008</td>\n",
       "      <td>manual</td>\n",
       "      <td>69</td>\n",
       "      <td>fabia</td>\n",
       "      <td>90000</td>\n",
       "      <td>7</td>\n",
       "      <td>gasoline</td>\n",
       "      <td>skoda</td>\n",
       "      <td>no</td>\n",
       "      <td>2016-03-31 00:00:00</td>\n",
       "      <td>0</td>\n",
       "      <td>60437</td>\n",
       "      <td>2016-04-06 10:17:21</td>\n",
       "    </tr>\n",
       "  </tbody>\n",
       "</table>\n",
       "</div>"
      ],
      "text/plain": [
       "           DateCrawled  Price VehicleType  RegistrationYear Gearbox  Power  \\\n",
       "0  2016-03-24 11:52:17    480         NaN              1993  manual      0   \n",
       "1  2016-03-24 10:58:45  18300       coupe              2011  manual    190   \n",
       "2  2016-03-14 12:52:21   9800         suv              2004    auto    163   \n",
       "3  2016-03-17 16:54:04   1500       small              2001  manual     75   \n",
       "4  2016-03-31 17:25:20   3600       small              2008  manual     69   \n",
       "\n",
       "   Model  Kilometer  RegistrationMonth  FuelType       Brand NotRepaired  \\\n",
       "0   golf     150000                  0    petrol  volkswagen         NaN   \n",
       "1    NaN     125000                  5  gasoline        audi         yes   \n",
       "2  grand     125000                  8  gasoline        jeep         NaN   \n",
       "3   golf     150000                  6    petrol  volkswagen          no   \n",
       "4  fabia      90000                  7  gasoline       skoda          no   \n",
       "\n",
       "           DateCreated  NumberOfPictures  PostalCode             LastSeen  \n",
       "0  2016-03-24 00:00:00                 0       70435  2016-04-07 03:16:57  \n",
       "1  2016-03-24 00:00:00                 0       66954  2016-04-07 01:46:50  \n",
       "2  2016-03-14 00:00:00                 0       90480  2016-04-05 12:47:46  \n",
       "3  2016-03-17 00:00:00                 0       91074  2016-03-17 17:40:17  \n",
       "4  2016-03-31 00:00:00                 0       60437  2016-04-06 10:17:21  "
      ]
     },
     "execution_count": 3,
     "metadata": {},
     "output_type": "execute_result"
    }
   ],
   "source": [
    "df.head()"
   ]
  },
  {
   "cell_type": "markdown",
   "metadata": {},
   "source": [
    "Исследуемый датафрейм содержит следующую информацию:\n",
    "\n",
    "\n",
    "**Признаки**\n",
    "- `DateCrawled` — дата скачивания анкеты из базы\n",
    "- `VehicleType` — тип автомобильного кузова\n",
    "- `RegistrationYear` — год регистрации автомобиля\n",
    "- `Gearbox` — тип коробки передач\n",
    "- `Power` — мощность (л. с.)\n",
    "- `Model` — модель автомобиля\n",
    "- `Kilometer` — пробег (км)\n",
    "- `RegistrationMonth` — месяц регистрации автомобиля\n",
    "- `FuelType` — тип топлива\n",
    "- `Brand` — марка автомобиля\n",
    "- `NotRepaired` — была машина в ремонте или нет\n",
    "- `DateCreated` — дата создания анкеты\n",
    "- `NumberOfPictures` — количество фотографий автомобиля\n",
    "- `PostalCode` — почтовый индекс владельца анкеты (пользователя)\n",
    "- `LastSeen` — дата последней активности пользователя\n",
    "\n",
    "**Целевой признак**\n",
    "- `Price` — цена (евро)"
   ]
  },
  {
   "cell_type": "code",
   "execution_count": 4,
   "metadata": {},
   "outputs": [
    {
     "name": "stdout",
     "output_type": "stream",
     "text": [
      "<class 'pandas.core.frame.DataFrame'>\n",
      "RangeIndex: 354369 entries, 0 to 354368\n",
      "Data columns (total 16 columns):\n",
      "DateCrawled          354369 non-null object\n",
      "Price                354369 non-null int64\n",
      "VehicleType          316879 non-null object\n",
      "RegistrationYear     354369 non-null int64\n",
      "Gearbox              334536 non-null object\n",
      "Power                354369 non-null int64\n",
      "Model                334664 non-null object\n",
      "Kilometer            354369 non-null int64\n",
      "RegistrationMonth    354369 non-null int64\n",
      "FuelType             321474 non-null object\n",
      "Brand                354369 non-null object\n",
      "NotRepaired          283215 non-null object\n",
      "DateCreated          354369 non-null object\n",
      "NumberOfPictures     354369 non-null int64\n",
      "PostalCode           354369 non-null int64\n",
      "LastSeen             354369 non-null object\n",
      "dtypes: int64(7), object(9)\n",
      "memory usage: 43.3+ MB\n"
     ]
    }
   ],
   "source": [
    "df.info()"
   ]
  },
  {
   "cell_type": "code",
   "execution_count": 5,
   "metadata": {},
   "outputs": [
    {
     "data": {
      "text/html": [
       "<div>\n",
       "<style scoped>\n",
       "    .dataframe tbody tr th:only-of-type {\n",
       "        vertical-align: middle;\n",
       "    }\n",
       "\n",
       "    .dataframe tbody tr th {\n",
       "        vertical-align: top;\n",
       "    }\n",
       "\n",
       "    .dataframe thead th {\n",
       "        text-align: right;\n",
       "    }\n",
       "</style>\n",
       "<table border=\"1\" class=\"dataframe\">\n",
       "  <thead>\n",
       "    <tr style=\"text-align: right;\">\n",
       "      <th></th>\n",
       "      <th>count</th>\n",
       "      <th>mean</th>\n",
       "      <th>std</th>\n",
       "      <th>min</th>\n",
       "      <th>25%</th>\n",
       "      <th>50%</th>\n",
       "      <th>75%</th>\n",
       "      <th>max</th>\n",
       "    </tr>\n",
       "  </thead>\n",
       "  <tbody>\n",
       "    <tr>\n",
       "      <td>Price</td>\n",
       "      <td>354369.0</td>\n",
       "      <td>4416.656776</td>\n",
       "      <td>4514.158514</td>\n",
       "      <td>0.0</td>\n",
       "      <td>1050.0</td>\n",
       "      <td>2700.0</td>\n",
       "      <td>6400.0</td>\n",
       "      <td>20000.0</td>\n",
       "    </tr>\n",
       "    <tr>\n",
       "      <td>RegistrationYear</td>\n",
       "      <td>354369.0</td>\n",
       "      <td>2004.234448</td>\n",
       "      <td>90.227958</td>\n",
       "      <td>1000.0</td>\n",
       "      <td>1999.0</td>\n",
       "      <td>2003.0</td>\n",
       "      <td>2008.0</td>\n",
       "      <td>9999.0</td>\n",
       "    </tr>\n",
       "    <tr>\n",
       "      <td>Power</td>\n",
       "      <td>354369.0</td>\n",
       "      <td>110.094337</td>\n",
       "      <td>189.850405</td>\n",
       "      <td>0.0</td>\n",
       "      <td>69.0</td>\n",
       "      <td>105.0</td>\n",
       "      <td>143.0</td>\n",
       "      <td>20000.0</td>\n",
       "    </tr>\n",
       "    <tr>\n",
       "      <td>Kilometer</td>\n",
       "      <td>354369.0</td>\n",
       "      <td>128211.172535</td>\n",
       "      <td>37905.341530</td>\n",
       "      <td>5000.0</td>\n",
       "      <td>125000.0</td>\n",
       "      <td>150000.0</td>\n",
       "      <td>150000.0</td>\n",
       "      <td>150000.0</td>\n",
       "    </tr>\n",
       "    <tr>\n",
       "      <td>RegistrationMonth</td>\n",
       "      <td>354369.0</td>\n",
       "      <td>5.714645</td>\n",
       "      <td>3.726421</td>\n",
       "      <td>0.0</td>\n",
       "      <td>3.0</td>\n",
       "      <td>6.0</td>\n",
       "      <td>9.0</td>\n",
       "      <td>12.0</td>\n",
       "    </tr>\n",
       "    <tr>\n",
       "      <td>NumberOfPictures</td>\n",
       "      <td>354369.0</td>\n",
       "      <td>0.000000</td>\n",
       "      <td>0.000000</td>\n",
       "      <td>0.0</td>\n",
       "      <td>0.0</td>\n",
       "      <td>0.0</td>\n",
       "      <td>0.0</td>\n",
       "      <td>0.0</td>\n",
       "    </tr>\n",
       "    <tr>\n",
       "      <td>PostalCode</td>\n",
       "      <td>354369.0</td>\n",
       "      <td>50508.689087</td>\n",
       "      <td>25783.096248</td>\n",
       "      <td>1067.0</td>\n",
       "      <td>30165.0</td>\n",
       "      <td>49413.0</td>\n",
       "      <td>71083.0</td>\n",
       "      <td>99998.0</td>\n",
       "    </tr>\n",
       "  </tbody>\n",
       "</table>\n",
       "</div>"
      ],
      "text/plain": [
       "                      count           mean           std     min       25%  \\\n",
       "Price              354369.0    4416.656776   4514.158514     0.0    1050.0   \n",
       "RegistrationYear   354369.0    2004.234448     90.227958  1000.0    1999.0   \n",
       "Power              354369.0     110.094337    189.850405     0.0      69.0   \n",
       "Kilometer          354369.0  128211.172535  37905.341530  5000.0  125000.0   \n",
       "RegistrationMonth  354369.0       5.714645      3.726421     0.0       3.0   \n",
       "NumberOfPictures   354369.0       0.000000      0.000000     0.0       0.0   \n",
       "PostalCode         354369.0   50508.689087  25783.096248  1067.0   30165.0   \n",
       "\n",
       "                        50%       75%       max  \n",
       "Price                2700.0    6400.0   20000.0  \n",
       "RegistrationYear     2003.0    2008.0    9999.0  \n",
       "Power                 105.0     143.0   20000.0  \n",
       "Kilometer          150000.0  150000.0  150000.0  \n",
       "RegistrationMonth       6.0       9.0      12.0  \n",
       "NumberOfPictures        0.0       0.0       0.0  \n",
       "PostalCode          49413.0   71083.0   99998.0  "
      ]
     },
     "execution_count": 5,
     "metadata": {},
     "output_type": "execute_result"
    }
   ],
   "source": [
    "df.describe().T"
   ]
  },
  {
   "cell_type": "markdown",
   "metadata": {},
   "source": [
    "**Вывод**\n",
    "\n",
    "Видим, что датафрейм содержит 354369 объектов и 16 признаков, присутствуют и пропуски, и явные ошибки среди значений некоторых признаков.\n",
    "\n",
    "**Необходима предобработка данных:**\n",
    "\n",
    "1. Названия признаков, состоящих из нескольких слов, разделить символом `_`. После этого преобразовать названия всех признаков в нижний регистр.\n",
    "2. Очистить датафрейм от избыточной информации (убрать лишние признаки, осложняющие процесс построения моделей машинного обучения).\n",
    "3. Произвести обработку пропущенных значений.\n",
    "4. Выяснить природу возникновения нулевых значений в столбцах `Price`, `Power`, `RegistrationMonth` и `NumberOfPictures`.\n",
    "5. При необходимости выполнить преобразование типов данных.\n",
    "6. Проверить наличие дубликатов в данных."
   ]
  },
  {
   "cell_type": "markdown",
   "metadata": {},
   "source": [
    "### Подготовка данных"
   ]
  },
  {
   "cell_type": "markdown",
   "metadata": {},
   "source": [
    "Выполним преобразования согласно ранее намеченному плану."
   ]
  },
  {
   "cell_type": "markdown",
   "metadata": {},
   "source": [
    "#### **Преобразование названий признаков**"
   ]
  },
  {
   "cell_type": "markdown",
   "metadata": {},
   "source": [
    "Названия признаков выглядят следующим образом:"
   ]
  },
  {
   "cell_type": "code",
   "execution_count": 6,
   "metadata": {},
   "outputs": [
    {
     "data": {
      "text/plain": [
       "Index(['DateCrawled', 'Price', 'VehicleType', 'RegistrationYear', 'Gearbox',\n",
       "       'Power', 'Model', 'Kilometer', 'RegistrationMonth', 'FuelType', 'Brand',\n",
       "       'NotRepaired', 'DateCreated', 'NumberOfPictures', 'PostalCode',\n",
       "       'LastSeen'],\n",
       "      dtype='object')"
      ]
     },
     "execution_count": 6,
     "metadata": {},
     "output_type": "execute_result"
    }
   ],
   "source": [
    "df.columns"
   ]
  },
  {
   "cell_type": "markdown",
   "metadata": {},
   "source": [
    "Выполним преобразования, используя регулярное выражение."
   ]
  },
  {
   "cell_type": "code",
   "execution_count": 7,
   "metadata": {},
   "outputs": [],
   "source": [
    "list1 = []\n",
    "for name in list(df.columns):\n",
    "    name = re.findall('[A-Z]+[a-z]*', name)\n",
    "    word1 = ''\n",
    "    for word in name:\n",
    "        word1 += word + '_'\n",
    "    word1 = str(word1).lower().strip('_')\n",
    "    list1.append(word1)\n",
    "df.columns = list1"
   ]
  },
  {
   "cell_type": "markdown",
   "metadata": {},
   "source": [
    "Как результат, получили корректные названия столбцов:"
   ]
  },
  {
   "cell_type": "code",
   "execution_count": 8,
   "metadata": {},
   "outputs": [
    {
     "data": {
      "text/plain": [
       "Index(['date_crawled', 'price', 'vehicle_type', 'registration_year', 'gearbox',\n",
       "       'power', 'model', 'kilometer', 'registration_month', 'fuel_type',\n",
       "       'brand', 'not_repaired', 'date_created', 'number_of_pictures',\n",
       "       'postal_code', 'last_seen'],\n",
       "      dtype='object')"
      ]
     },
     "execution_count": 8,
     "metadata": {},
     "output_type": "execute_result"
    }
   ],
   "source": [
    "df.columns"
   ]
  },
  {
   "cell_type": "markdown",
   "metadata": {},
   "source": [
    "#### **Удаление лишних признаков**"
   ]
  },
  {
   "cell_type": "markdown",
   "metadata": {},
   "source": [
    "Признаки `date_crawled`, `date_created` и `last_seen` являются избыточными для наших будующих моделей, никакой пользы для предсказания цены автомобиля они не принесут, поэтому можем удалить их из датафрейма."
   ]
  },
  {
   "cell_type": "code",
   "execution_count": 9,
   "metadata": {},
   "outputs": [],
   "source": [
    "df = df.drop(['date_crawled', 'date_created', 'last_seen'], axis=1)"
   ]
  },
  {
   "cell_type": "markdown",
   "metadata": {},
   "source": [
    "**Важное замечание:** признак `postal_code` также не является важным для построения моделей, но данный параметр служит своеобразным уникальным идентификатором объекта (мы допускаем, что разные люди могли выставлять анкеты одинаковых по параметрам автомобилей). С целью предотвращения удаления бОльшего количества дубликатов в одном из следующих шагов, на данном этапе оставим признак в выборке, но уберем его перед построением моделей."
   ]
  },
  {
   "cell_type": "markdown",
   "metadata": {},
   "source": [
    "Рассмотрим столбец `number_of_pictures`."
   ]
  },
  {
   "cell_type": "code",
   "execution_count": 10,
   "metadata": {},
   "outputs": [
    {
     "data": {
      "text/plain": [
       "0    354369\n",
       "Name: number_of_pictures, dtype: int64"
      ]
     },
     "execution_count": 10,
     "metadata": {},
     "output_type": "execute_result"
    }
   ],
   "source": [
    "df['number_of_pictures'].value_counts(dropna=False)"
   ]
  },
  {
   "cell_type": "markdown",
   "metadata": {},
   "source": [
    "Видим, что для каждого объекта значение признака одинаково и равно нулю. По этой причине мы можем избавиться от этого столбца, смысловой нагрузки он не несет."
   ]
  },
  {
   "cell_type": "code",
   "execution_count": 11,
   "metadata": {},
   "outputs": [],
   "source": [
    "df = df.drop('number_of_pictures', axis=1)"
   ]
  },
  {
   "cell_type": "markdown",
   "metadata": {},
   "source": [
    "Проверяем результаты выполненных действий."
   ]
  },
  {
   "cell_type": "code",
   "execution_count": 12,
   "metadata": {},
   "outputs": [
    {
     "data": {
      "text/plain": [
       "Index(['price', 'vehicle_type', 'registration_year', 'gearbox', 'power',\n",
       "       'model', 'kilometer', 'registration_month', 'fuel_type', 'brand',\n",
       "       'not_repaired', 'postal_code'],\n",
       "      dtype='object')"
      ]
     },
     "execution_count": 12,
     "metadata": {},
     "output_type": "execute_result"
    }
   ],
   "source": [
    "df.columns"
   ]
  },
  {
   "cell_type": "markdown",
   "metadata": {},
   "source": [
    "#### **Обработка пропущенных значений**"
   ]
  },
  {
   "cell_type": "markdown",
   "metadata": {},
   "source": [
    "Посмотрим на количество пропусков в датафрейме. Для этого используем функцию **nan_percent**."
   ]
  },
  {
   "cell_type": "code",
   "execution_count": 13,
   "metadata": {},
   "outputs": [],
   "source": [
    "def nan_percent(data):\n",
    "    new_data = data.isna().sum().to_frame()\n",
    "    new_data = new_data.rename(columns = {0: 'missing_values'})\n",
    "    new_data['% of total'] = ((new_data['missing_values'] / data.shape[0])*100).round(2)\n",
    "    return new_data.sort_values(by = 'missing_values', ascending = False).head(10)"
   ]
  },
  {
   "cell_type": "code",
   "execution_count": 14,
   "metadata": {},
   "outputs": [
    {
     "data": {
      "text/html": [
       "<div>\n",
       "<style scoped>\n",
       "    .dataframe tbody tr th:only-of-type {\n",
       "        vertical-align: middle;\n",
       "    }\n",
       "\n",
       "    .dataframe tbody tr th {\n",
       "        vertical-align: top;\n",
       "    }\n",
       "\n",
       "    .dataframe thead th {\n",
       "        text-align: right;\n",
       "    }\n",
       "</style>\n",
       "<table border=\"1\" class=\"dataframe\">\n",
       "  <thead>\n",
       "    <tr style=\"text-align: right;\">\n",
       "      <th></th>\n",
       "      <th>missing_values</th>\n",
       "      <th>% of total</th>\n",
       "    </tr>\n",
       "  </thead>\n",
       "  <tbody>\n",
       "    <tr>\n",
       "      <td>not_repaired</td>\n",
       "      <td>71154</td>\n",
       "      <td>20.08</td>\n",
       "    </tr>\n",
       "    <tr>\n",
       "      <td>vehicle_type</td>\n",
       "      <td>37490</td>\n",
       "      <td>10.58</td>\n",
       "    </tr>\n",
       "    <tr>\n",
       "      <td>fuel_type</td>\n",
       "      <td>32895</td>\n",
       "      <td>9.28</td>\n",
       "    </tr>\n",
       "    <tr>\n",
       "      <td>gearbox</td>\n",
       "      <td>19833</td>\n",
       "      <td>5.60</td>\n",
       "    </tr>\n",
       "    <tr>\n",
       "      <td>model</td>\n",
       "      <td>19705</td>\n",
       "      <td>5.56</td>\n",
       "    </tr>\n",
       "    <tr>\n",
       "      <td>price</td>\n",
       "      <td>0</td>\n",
       "      <td>0.00</td>\n",
       "    </tr>\n",
       "    <tr>\n",
       "      <td>registration_year</td>\n",
       "      <td>0</td>\n",
       "      <td>0.00</td>\n",
       "    </tr>\n",
       "    <tr>\n",
       "      <td>power</td>\n",
       "      <td>0</td>\n",
       "      <td>0.00</td>\n",
       "    </tr>\n",
       "    <tr>\n",
       "      <td>kilometer</td>\n",
       "      <td>0</td>\n",
       "      <td>0.00</td>\n",
       "    </tr>\n",
       "    <tr>\n",
       "      <td>registration_month</td>\n",
       "      <td>0</td>\n",
       "      <td>0.00</td>\n",
       "    </tr>\n",
       "  </tbody>\n",
       "</table>\n",
       "</div>"
      ],
      "text/plain": [
       "                    missing_values  % of total\n",
       "not_repaired                 71154       20.08\n",
       "vehicle_type                 37490       10.58\n",
       "fuel_type                    32895        9.28\n",
       "gearbox                      19833        5.60\n",
       "model                        19705        5.56\n",
       "price                            0        0.00\n",
       "registration_year                0        0.00\n",
       "power                            0        0.00\n",
       "kilometer                        0        0.00\n",
       "registration_month               0        0.00"
      ]
     },
     "execution_count": 14,
     "metadata": {},
     "output_type": "execute_result"
    }
   ],
   "source": [
    "nan_percent(df)"
   ]
  },
  {
   "cell_type": "markdown",
   "metadata": {},
   "source": [
    "Пропуски присутствуют среди объектов пяти признаков:\n",
    "- `not_repaired`\n",
    "- `vehicle_type`\n",
    "- `fuel_type`\n",
    "- `gearbox`\n",
    "- `model`\n",
    "\n",
    "Разберемся с каждым по очереди."
   ]
  },
  {
   "cell_type": "code",
   "execution_count": 15,
   "metadata": {},
   "outputs": [
    {
     "data": {
      "text/plain": [
       "no     247161\n",
       "NaN     71154\n",
       "yes     36054\n",
       "Name: not_repaired, dtype: int64"
      ]
     },
     "execution_count": 15,
     "metadata": {},
     "output_type": "execute_result"
    }
   ],
   "source": [
    "df['not_repaired'].value_counts(dropna=False)"
   ]
  },
  {
   "cell_type": "markdown",
   "metadata": {},
   "source": [
    "Признак `not_repaired` содержит более 70 тысяч пропущенных значений, что составляет 20% от общего числа объектов - существенная часть, но не критическая. При удалении остается большое количество объектов для успешного обучения моделей. С другой стороны,  заполнение каким-либо из возможных значений приведет к потере точности модели и внесению дополнительных искажений. По этим причинам, на данном этапе самым верным решением будет удаление этих пропущенных значений, а не выделение их в отдельную категорию. Однако в будущем, возможно потребуется внести коррективы."
   ]
  },
  {
   "cell_type": "markdown",
   "metadata": {},
   "source": [
    "Рассмотрим признак `vehicle_type`"
   ]
  },
  {
   "cell_type": "code",
   "execution_count": 16,
   "metadata": {},
   "outputs": [
    {
     "data": {
      "text/plain": [
       "sedan          91457\n",
       "small          79831\n",
       "wagon          65166\n",
       "NaN            37490\n",
       "bus            28775\n",
       "convertible    20203\n",
       "coupe          16163\n",
       "suv            11996\n",
       "other           3288\n",
       "Name: vehicle_type, dtype: int64"
      ]
     },
     "execution_count": 16,
     "metadata": {},
     "output_type": "execute_result"
    }
   ],
   "source": [
    "df['vehicle_type'].value_counts(dropna=False)"
   ]
  },
  {
   "cell_type": "markdown",
   "metadata": {},
   "source": [
    "У признака `vehicle_type` заметно меньше пропусков, поэтому можем также прибегнуть к удалению пропущенных объектов."
   ]
  },
  {
   "cell_type": "markdown",
   "metadata": {},
   "source": [
    "Для оставшихся признаков `fuel_type`, `gearbox` и `model` выполним аналогичные действия по удалению."
   ]
  },
  {
   "cell_type": "code",
   "execution_count": 17,
   "metadata": {},
   "outputs": [
    {
     "data": {
      "text/plain": [
       "petrol      216352\n",
       "gasoline     98720\n",
       "NaN          32895\n",
       "lpg           5310\n",
       "cng            565\n",
       "hybrid         233\n",
       "other          204\n",
       "electric        90\n",
       "Name: fuel_type, dtype: int64"
      ]
     },
     "execution_count": 17,
     "metadata": {},
     "output_type": "execute_result"
    }
   ],
   "source": [
    "df['fuel_type'].value_counts(dropna=False)"
   ]
  },
  {
   "cell_type": "code",
   "execution_count": 18,
   "metadata": {},
   "outputs": [
    {
     "data": {
      "text/plain": [
       "manual    268251\n",
       "auto       66285\n",
       "NaN        19833\n",
       "Name: gearbox, dtype: int64"
      ]
     },
     "execution_count": 18,
     "metadata": {},
     "output_type": "execute_result"
    }
   ],
   "source": [
    "df['gearbox'].value_counts(dropna=False)"
   ]
  },
  {
   "cell_type": "code",
   "execution_count": 19,
   "metadata": {},
   "outputs": [
    {
     "data": {
      "text/plain": [
       "golf                  29232\n",
       "other                 24421\n",
       "3er                   19761\n",
       "NaN                   19705\n",
       "polo                  13066\n",
       "                      ...  \n",
       "serie_2                   8\n",
       "serie_3                   4\n",
       "rangerover                4\n",
       "serie_1                   2\n",
       "range_rover_evoque        2\n",
       "Name: model, Length: 251, dtype: int64"
      ]
     },
     "execution_count": 19,
     "metadata": {},
     "output_type": "execute_result"
    }
   ],
   "source": [
    "df['model'].value_counts(dropna=False)"
   ]
  },
  {
   "cell_type": "code",
   "execution_count": 20,
   "metadata": {},
   "outputs": [],
   "source": [
    "# удаляем пропуски\n",
    "df.dropna(subset=['not_repaired', 'vehicle_type', 'fuel_type', 'gearbox', 'model'], inplace=True)"
   ]
  },
  {
   "cell_type": "markdown",
   "metadata": {},
   "source": [
    "Выполним проверку: посчитаем количество пропусков в датафрейме `df` после произведенных замен."
   ]
  },
  {
   "cell_type": "code",
   "execution_count": 21,
   "metadata": {},
   "outputs": [
    {
     "data": {
      "text/plain": [
       "price                 0\n",
       "vehicle_type          0\n",
       "registration_year     0\n",
       "gearbox               0\n",
       "power                 0\n",
       "model                 0\n",
       "kilometer             0\n",
       "registration_month    0\n",
       "fuel_type             0\n",
       "brand                 0\n",
       "not_repaired          0\n",
       "postal_code           0\n",
       "dtype: int64"
      ]
     },
     "execution_count": 21,
     "metadata": {},
     "output_type": "execute_result"
    }
   ],
   "source": [
    "df.isna().sum()"
   ]
  },
  {
   "cell_type": "markdown",
   "metadata": {},
   "source": [
    "Пропущенные значения отсутствуют, значит преобразования выполнили корректно."
   ]
  },
  {
   "cell_type": "markdown",
   "metadata": {},
   "source": [
    "#### **Поиск и исправление ошибочных значений**"
   ]
  },
  {
   "cell_type": "markdown",
   "metadata": {},
   "source": [
    "На первоначальном этапе знакомства с датафремом, были отмечены следующие моменты, требующие дополнительного изучения:\n",
    "\n",
    "1. `registration_year` содержит значения далекие от реальных, а именно 1000-й и 9999-й значения годов регистрации авто.\n",
    "2. У признака `registration_month` также есть нулевые значения. В этом случае либо закралась ошибка, либо у сервиса «Не бит, не крашен» свой календарь с 13-ю месяцами (нет).\n",
    "3. Признак `price` содержит нулевые значения. Это выглядит странным. В каком бы плохом состоянии не был автомобиль, он должен иметь свою цену, отличную от нуля.\n",
    "4. Среди значений мощности автомобилей `power` также есть нулевые. Требуется рассмотреть их подробнее и принять решение относительно их возможного удаления из рассматриваемой выборки."
   ]
  },
  {
   "cell_type": "markdown",
   "metadata": {},
   "source": [
    "Для построения графиков распределения и диаграмм размаха используем функцию **'show_info'**"
   ]
  },
  {
   "cell_type": "code",
   "execution_count": 22,
   "metadata": {},
   "outputs": [],
   "source": [
    "def show_info(data, bins, range_min, range_max, title, xlabel, flag):\n",
    "    plt.figure(figsize=(16, 5))\n",
    "    plt.grid()\n",
    "    plt.hist(data, range=(range_min, range_max), bins=bins)\n",
    "    plt.xlabel(xlabel)\n",
    "    plt.ylabel('Количество объектов')\n",
    "    plt.title(title)\n",
    "    plt.show()\n",
    "    if flag:\n",
    "        plt.figure(figsize=(16, 5))\n",
    "        plt.grid()\n",
    "        plt.boxplot(data, labels=' ')\n",
    "        plt.title(f'Диаграмма размаха')\n",
    "        plt.ylabel(xlabel)\n",
    "        plt.show()\n",
    "        print('Среднее значение:', data.mean())\n",
    "        print('Медиана:', data.median())"
   ]
  },
  {
   "cell_type": "markdown",
   "metadata": {},
   "source": [
    "**Признак `registration_year`**"
   ]
  },
  {
   "cell_type": "code",
   "execution_count": 23,
   "metadata": {},
   "outputs": [
    {
     "data": {
      "image/png": "[encoded data removed]",
      "text/plain": [
       "<Figure size 1152x360 with 1 Axes>"
      ]
     },
     "metadata": {
      "needs_background": "light"
     },
     "output_type": "display_data"
    },
    {
     "data": {
      "image/png": "[encoded data removed]",
      "text/plain": [
       "<Figure size 1152x360 with 1 Axes>"
      ]
     },
     "metadata": {
      "needs_background": "light"
     },
     "output_type": "display_data"
    },
    {
     "name": "stdout",
     "output_type": "stream",
     "text": [
      "Среднее значение: 2002.91869869088\n",
      "Медиана: 2003.0\n"
     ]
    }
   ],
   "source": [
    "show_info(df['registration_year'], 50, df['registration_year'].min(), df['registration_year'].max(), 'Распределение автомобилей по годам регистрации', 'Год регистрации автомобиля', 1)"
   ]
  },
  {
   "cell_type": "markdown",
   "metadata": {},
   "source": [
    "Наблюдаем выбросы, которые необходимо убрать, а также значения годов, превышающие настоящий 2021-й год."
   ]
  },
  {
   "cell_type": "markdown",
   "metadata": {},
   "source": [
    "Объектов, год регистрации которых меньше 1960, почти нет, поэтому в выборке оставим автомобили, у которых `registration_year` лежит в дипазоне от 1960 до 2021 года."
   ]
  },
  {
   "cell_type": "code",
   "execution_count": 25,
   "metadata": {},
   "outputs": [],
   "source": [
    "df = df[(df['registration_year']<=2021)&(df['registration_year']>=1960)]"
   ]
  },
  {
   "cell_type": "markdown",
   "metadata": {},
   "source": [
    "Посмотрим на распределение еще раз."
   ]
  },
  {
   "cell_type": "code",
   "execution_count": 26,
   "metadata": {},
   "outputs": [
    {
     "data": {
      "image/png": "[encoded data removed]",
      "text/plain": [
       "<Figure size 1152x360 with 1 Axes>"
      ]
     },
     "metadata": {
      "needs_background": "light"
     },
     "output_type": "display_data"
    },
    {
     "data": {
      "image/png": "[encoded data removed]",
      "text/plain": [
       "<Figure size 1152x360 with 1 Axes>"
      ]
     },
     "metadata": {
      "needs_background": "light"
     },
     "output_type": "display_data"
    },
    {
     "name": "stdout",
     "output_type": "stream",
     "text": [
      "Среднее значение: 2002.937857866657\n",
      "Медиана: 2003.0\n"
     ]
    }
   ],
   "source": [
    "show_info(df['registration_year'], 30, df['registration_year'].min(), df['registration_year'].max(), 'Распределение автомобилей по годам регистрации', 'Год  регистрации автомобиля', 1)"
   ]
  },
  {
   "cell_type": "markdown",
   "metadata": {},
   "source": [
    "Результата достигли - избавились от явных выбросов. Остался длинный \"левый хвост\" (значения меньше 1990), но он несет полезную нагрузку, допускаем наличие в выборке автомобилей такого \"возраста\"."
   ]
  },
  {
   "cell_type": "markdown",
   "metadata": {},
   "source": [
    "**Признак `registration_month`**"
   ]
  },
  {
   "cell_type": "code",
   "execution_count": 27,
   "metadata": {},
   "outputs": [
    {
     "data": {
      "image/png": "[encoded data removed]",
      "text/plain": [
       "<Figure size 1152x360 with 1 Axes>"
      ]
     },
     "metadata": {
      "needs_background": "light"
     },
     "output_type": "display_data"
    }
   ],
   "source": [
    "show_info(df['registration_month'], 26, df['registration_month'].min(), df['registration_month'].max(), 'Распределение автомобилей по месяцам регистрации', 'Месяц регистрации автомобиля', 0)"
   ]
  },
  {
   "cell_type": "markdown",
   "metadata": {},
   "source": [
    "Появление месяца с номером '0', скорее всего связано с пропуском данного параметра при заполнении анкеты. Т.е. пользователь не указал месяц регистрации автомобиля (умышленно или по незнанию). С другой стороны, для построения моделей машинного обучения, наличие или отсутствие данного параметра не критично, если учитывать, что в нашем распоряжении есть год регистрации авто. Принимая это во внимание, удалим этот столбец из нашей выборки."
   ]
  },
  {
   "cell_type": "code",
   "execution_count": 28,
   "metadata": {},
   "outputs": [],
   "source": [
    "df = df.drop('registration_month', axis=1)"
   ]
  },
  {
   "cell_type": "markdown",
   "metadata": {},
   "source": [
    "**Признак `price`**"
   ]
  },
  {
   "cell_type": "code",
   "execution_count": 29,
   "metadata": {},
   "outputs": [
    {
     "data": {
      "image/png": "[encoded data removed]",
      "text/plain": [
       "<Figure size 1152x360 with 1 Axes>"
      ]
     },
     "metadata": {
      "needs_background": "light"
     },
     "output_type": "display_data"
    },
    {
     "data": {
      "image/png": "[encoded data removed]",
      "text/plain": [
       "<Figure size 1152x360 with 1 Axes>"
      ]
     },
     "metadata": {
      "needs_background": "light"
     },
     "output_type": "display_data"
    },
    {
     "name": "stdout",
     "output_type": "stream",
     "text": [
      "Среднее значение: 5124.214652846452\n",
      "Медиана: 3500.0\n"
     ]
    }
   ],
   "source": [
    "show_info(df['price'], 50, df['price'].min(), df['price'].max(), 'Распределение автомобилей по ценам', 'Цена', 1)"
   ]
  },
  {
   "cell_type": "markdown",
   "metadata": {},
   "source": [
    "Наблюдаем скошенность данных вправо - чем дороже автомобиль, тем меньше их количество в рассматриваемой выборке. \n",
    "\n",
    "Посмотрим на распределние вблизи нулевой цены."
   ]
  },
  {
   "cell_type": "code",
   "execution_count": 30,
   "metadata": {},
   "outputs": [
    {
     "data": {
      "image/png": "[encoded data removed]",
      "text/plain": [
       "<Figure size 1152x360 with 1 Axes>"
      ]
     },
     "metadata": {
      "needs_background": "light"
     },
     "output_type": "display_data"
    }
   ],
   "source": [
    "show_info(df['price'], 30, 0, 500, 'Распределение автомобилей по ценам', 'Цена', 0)"
   ]
  },
  {
   "cell_type": "markdown",
   "metadata": {},
   "source": [
    "Наблюдаем более 3500 значений объектов с ценой равной 0. Заменить нулевые значению на какие-либо еще мы не можем, т.к. `price` - целевой признак, а любые вносимые коррективы скажутся на моделях. Необходимо отфильтровать такие значения. Условимся считать, что цена выставляемого на продажу автомобиля должна начинаться со 100 евро."
   ]
  },
  {
   "cell_type": "code",
   "execution_count": 31,
   "metadata": {},
   "outputs": [
    {
     "data": {
      "text/plain": [
       "0.016318923032470994"
      ]
     },
     "execution_count": 31,
     "metadata": {},
     "output_type": "execute_result"
    }
   ],
   "source": [
    "# смотрим, как много данных мы потеряем\n",
    "(df.query('price<100').shape[0])/df.shape[0]"
   ]
  },
  {
   "cell_type": "markdown",
   "metadata": {},
   "source": [
    "При фильтрации по цене автомобиля более 100 евро, мы утрачиваем менее 2% данных."
   ]
  },
  {
   "cell_type": "code",
   "execution_count": 32,
   "metadata": {},
   "outputs": [],
   "source": [
    "# оставляем в выборке автомобили с ценой более 100 евро\n",
    "df = df[df['price']>=100]"
   ]
  },
  {
   "cell_type": "markdown",
   "metadata": {},
   "source": [
    "Рассмотрим распределение мощностей автомобилей (**признак `power`**)"
   ]
  },
  {
   "cell_type": "code",
   "execution_count": 33,
   "metadata": {},
   "outputs": [
    {
     "data": {
      "image/png": "[encoded data removed]",
      "text/plain": [
       "<Figure size 1152x360 with 1 Axes>"
      ]
     },
     "metadata": {
      "needs_background": "light"
     },
     "output_type": "display_data"
    },
    {
     "data": {
      "image/png": "[encoded data removed]",
      "text/plain": [
       "<Figure size 1152x360 with 1 Axes>"
      ]
     },
     "metadata": {
      "needs_background": "light"
     },
     "output_type": "display_data"
    },
    {
     "name": "stdout",
     "output_type": "stream",
     "text": [
      "Среднее значение: 120.22204478791313\n",
      "Медиана: 111.0\n"
     ]
    }
   ],
   "source": [
    "show_info(df['power'], 30, df['power'].min(), df['power'].max(), 'Распределение автомобилей по мощности двигателя', 'Мощность двигателя', 1)"
   ]
  },
  {
   "cell_type": "markdown",
   "metadata": {},
   "source": [
    "В данном признаке присутствуют выбросы, которые необходимо убрать. Но сначала посмотрим на значения мощности, меньшие шестисот."
   ]
  },
  {
   "cell_type": "code",
   "execution_count": 34,
   "metadata": {},
   "outputs": [
    {
     "data": {
      "image/png": "[encoded data removed]",
      "text/plain": [
       "<Figure size 1152x360 with 1 Axes>"
      ]
     },
     "metadata": {
      "needs_background": "light"
     },
     "output_type": "display_data"
    }
   ],
   "source": [
    "show_info(df['power'], 30, 0, 600, 'Распределение автомобилей по мощности двигателя', 'Мощность двигателя', 0)"
   ]
  },
  {
   "cell_type": "markdown",
   "metadata": {},
   "source": [
    "Значений мощности больше 500 почти отсутствуют, это будет верхним пределом фильтрации. Другой проблемой являются нулевые значения. Посмотрим, что это за объекты."
   ]
  },
  {
   "cell_type": "code",
   "execution_count": 35,
   "metadata": {},
   "outputs": [
    {
     "data": {
      "image/png": "[encoded data removed]",
      "text/plain": [
       "<Figure size 1152x360 with 1 Axes>"
      ]
     },
     "metadata": {
      "needs_background": "light"
     },
     "output_type": "display_data"
    }
   ],
   "source": [
    "show_info(df['power'], 20, 0, 100, 'Распределение автомобилей по мощности двигателя', 'Мощность двигателя', 0)"
   ]
  },
  {
   "cell_type": "markdown",
   "metadata": {},
   "source": [
    "Видим, что в исследуемой выборке около 9000 автомобилей, для которых значение мощности указано '0'. Можем часть из них заполнить. Для этого построим сводную таблицу, сгруппированную по признаку `model`, и найдем среднее значение мощности двигателя. После этого произведем замену нулевых значений."
   ]
  },
  {
   "cell_type": "code",
   "execution_count": 36,
   "metadata": {},
   "outputs": [
    {
     "data": {
      "text/plain": [
       "model\n",
       "100        133\n",
       "145        103\n",
       "147        153\n",
       "156        145\n",
       "159        170\n",
       "          ... \n",
       "yaris       77\n",
       "yeti       120\n",
       "ypsilon     70\n",
       "z_reihe    174\n",
       "zafira     121\n",
       "Name: power, Length: 249, dtype: int64"
      ]
     },
     "execution_count": 36,
     "metadata": {},
     "output_type": "execute_result"
    }
   ],
   "source": [
    "# строим сводную таблицу\n",
    "mean_power = df.groupby('model')['power'].mean().astype('int')\n",
    "mean_power"
   ]
  },
  {
   "cell_type": "markdown",
   "metadata": {},
   "source": [
    "Используем функцию **add_power**, которая на вход получает строку таблицы и если в столбце 'power' стоит 0, то меняет его на среднее значение из соответствующей строки таблицы 'mean_power'"
   ]
  },
  {
   "cell_type": "code",
   "execution_count": 37,
   "metadata": {},
   "outputs": [],
   "source": [
    "def add_power(row):\n",
    "    model = row['model']\n",
    "    power = row['power']\n",
    "    if power == 0:\n",
    "        return mean_power[model]\n",
    "    else:\n",
    "        return power"
   ]
  },
  {
   "cell_type": "code",
   "execution_count": 38,
   "metadata": {},
   "outputs": [],
   "source": [
    "#Применяем функцию для каждой строки таблицы\n",
    "df['power'] = df.apply(add_power, axis=1)"
   ]
  },
  {
   "cell_type": "code",
   "execution_count": 39,
   "metadata": {},
   "outputs": [],
   "source": [
    "# Убираем оставшиеся нулевые значения в столбце 'power'\n",
    "df = df.query('power!=0')"
   ]
  },
  {
   "cell_type": "markdown",
   "metadata": {},
   "source": [
    "#### Преобразование типов данных"
   ]
  },
  {
   "cell_type": "markdown",
   "metadata": {},
   "source": [
    "Посмотрим на типы данных признаков."
   ]
  },
  {
   "cell_type": "code",
   "execution_count": 40,
   "metadata": {},
   "outputs": [
    {
     "data": {
      "text/plain": [
       "price                 int64\n",
       "vehicle_type         object\n",
       "registration_year     int64\n",
       "gearbox              object\n",
       "power                 int64\n",
       "model                object\n",
       "kilometer             int64\n",
       "fuel_type            object\n",
       "brand                object\n",
       "not_repaired         object\n",
       "postal_code           int64\n",
       "dtype: object"
      ]
     },
     "execution_count": 40,
     "metadata": {},
     "output_type": "execute_result"
    }
   ],
   "source": [
    "df.dtypes"
   ]
  },
  {
   "cell_type": "markdown",
   "metadata": {},
   "source": [
    "У всех признаков корректные типы данных, поэтому преобразования выполнять не будем."
   ]
  },
  {
   "cell_type": "markdown",
   "metadata": {},
   "source": [
    "#### Проверка дубликатов"
   ]
  },
  {
   "cell_type": "markdown",
   "metadata": {},
   "source": [
    "Проверим выборку на наличие дубликатов."
   ]
  },
  {
   "cell_type": "code",
   "execution_count": 41,
   "metadata": {},
   "outputs": [
    {
     "data": {
      "text/plain": [
       "18289"
      ]
     },
     "execution_count": 41,
     "metadata": {},
     "output_type": "execute_result"
    }
   ],
   "source": [
    "df.duplicated().sum()"
   ]
  },
  {
   "cell_type": "markdown",
   "metadata": {},
   "source": [
    "Дублирующих значений не очень много по сравнению с полным объемом выборки. Если их оставить, то больших искажений в результат работы моделей они не привнесут. Однако, для чистоты эксперименты, все же удалим их из выборки."
   ]
  },
  {
   "cell_type": "code",
   "execution_count": 42,
   "metadata": {},
   "outputs": [
    {
     "data": {
      "text/plain": [
       "(241717, 11)"
      ]
     },
     "execution_count": 42,
     "metadata": {},
     "output_type": "execute_result"
    }
   ],
   "source": [
    "df.shape"
   ]
  },
  {
   "cell_type": "code",
   "execution_count": 43,
   "metadata": {},
   "outputs": [],
   "source": [
    "df = df.drop_duplicates().reset_index(drop=True)"
   ]
  },
  {
   "cell_type": "markdown",
   "metadata": {},
   "source": [
    "Как упоминалось в пункте 1.2.2, после удаления дуликатов требуется убрать из выборки признак `postal_code`. "
   ]
  },
  {
   "cell_type": "code",
   "execution_count": 44,
   "metadata": {},
   "outputs": [],
   "source": [
    "df = df.drop('postal_code', axis=1)"
   ]
  },
  {
   "cell_type": "code",
   "execution_count": 45,
   "metadata": {},
   "outputs": [
    {
     "data": {
      "text/plain": [
       "(223428, 10)"
      ]
     },
     "execution_count": 45,
     "metadata": {},
     "output_type": "execute_result"
    }
   ],
   "source": [
    "df.shape"
   ]
  },
  {
   "cell_type": "markdown",
   "metadata": {},
   "source": [
    "**Вывод**\n",
    "\n",
    "Подготовили данные для построения моделей:\n",
    "- убрали из датасета лишние признаки;\n",
    "- обработали пропущенные и аномальные (нулевые) значения;\n",
    "- очистили выборку от дубликатов.\n",
    "\n",
    "Своими преобразованиями нам удалось сохранить более 223 тысяч объектов."
   ]
  },
  {
   "cell_type": "markdown",
   "metadata": {},
   "source": [
    "## Обучение моделей"
   ]
  },
  {
   "cell_type": "markdown",
   "metadata": {},
   "source": [
    "Перед построением моделей выделим целевой признак (`price`) и разделим выборку на обучающую и валидационную."
   ]
  },
  {
   "cell_type": "code",
   "execution_count": 46,
   "metadata": {},
   "outputs": [],
   "source": [
    "features = df.drop(['price'], axis=1)  \n",
    "target = df['price'] "
   ]
  },
  {
   "cell_type": "code",
   "execution_count": 47,
   "metadata": {},
   "outputs": [],
   "source": [
    "features_train, features_test, target_train, target_test = train_test_split(features, \n",
    "                                                                              target, \n",
    "                                                                              test_size=0.25, \n",
    "                                                                              random_state=12345)"
   ]
  },
  {
   "cell_type": "markdown",
   "metadata": {},
   "source": [
    "Для построения некоторых моделей нам потребуются категориальные признаки отдельно."
   ]
  },
  {
   "cell_type": "code",
   "execution_count": 48,
   "metadata": {},
   "outputs": [],
   "source": [
    "cat_features = ['vehicle_type', 'gearbox', 'model', 'fuel_type', 'brand', 'not_repaired']"
   ]
  },
  {
   "cell_type": "markdown",
   "metadata": {},
   "source": [
    "В рамках исследования мы будет обучать 3 модели регрессии:\n",
    "- LightGBM\n",
    "- CatBoost\n",
    "- RandomForest"
   ]
  },
  {
   "cell_type": "markdown",
   "metadata": {},
   "source": [
    "Библиотека LightGBM требовательна к категориальным переменным, требуется их преобразование в тип данных 'category'."
   ]
  },
  {
   "cell_type": "code",
   "execution_count": 49,
   "metadata": {},
   "outputs": [],
   "source": [
    "features_train = features_train.astype({'vehicle_type':'category',\n",
    "                                        'gearbox':'category',\n",
    "                                        'model':'category',\n",
    "                                        'fuel_type':'category',\n",
    "                                        'brand':'category', \n",
    "                                        'not_repaired':'category'})\n",
    "\n",
    "features_test = features_test.astype({'vehicle_type':'category',\n",
    "                                        'gearbox':'category',\n",
    "                                        'model':'category',\n",
    "                                        'fuel_type':'category',\n",
    "                                        'brand':'category', \n",
    "                                        'not_repaired':'category'})"
   ]
  },
  {
   "cell_type": "markdown",
   "metadata": {},
   "source": [
    "**LightGBM**"
   ]
  },
  {
   "cell_type": "code",
   "execution_count": 50,
   "metadata": {},
   "outputs": [
    {
     "name": "stderr",
     "output_type": "stream",
     "text": [
      "100%|██████████| 2/2 [04:11<00:00, 125.58s/it]"
     ]
    },
    {
     "name": "stdout",
     "output_type": "stream",
     "text": [
      "RMSE наилучшей модели на валидационной выборке 1556.4041655354758\n",
      "CPU times: user 4min 5s, sys: 1.14 s, total: 4min 6s\n",
      "Wall time: 4min 11s\n"
     ]
    },
    {
     "name": "stderr",
     "output_type": "stream",
     "text": [
      "\n"
     ]
    }
   ],
   "source": [
    "%%time \n",
    "\n",
    "i = 0\n",
    "best_result = 100000000\n",
    "best_depth = 0\n",
    "best_est = 0\n",
    "light_df = pd.DataFrame(columns=['n_estimators','max_depth','RMSE'])\n",
    "for depth in tqdm(range(4,6)):\n",
    "    for est in range(400,501,100):\n",
    "        model1 = LGBMRegressor(random_state=12345, n_estimators=est, max_depth=depth, eval_metric='rmse', categorical_feature=cat_features)\n",
    "        scores = cross_val_score(model1, features_train, target_train, cv=5, scoring='neg_mean_squared_error')\n",
    "        final_score = ((scores*(-1))**0.5).mean()\n",
    "        light_df.loc[i] = np.array([est, depth, final_score])\n",
    "        i += 1\n",
    "        if final_score<best_result:\n",
    "            best_light_model = model1\n",
    "            best_result = final_score\n",
    "            best_depth = depth\n",
    "            best_est = est\n",
    "print(f'RMSE наилучшей модели на валидационной выборке {best_result}')"
   ]
  },
  {
   "cell_type": "code",
   "execution_count": 51,
   "metadata": {},
   "outputs": [
    {
     "data": {
      "text/html": [
       "<div>\n",
       "<style scoped>\n",
       "    .dataframe tbody tr th:only-of-type {\n",
       "        vertical-align: middle;\n",
       "    }\n",
       "\n",
       "    .dataframe tbody tr th {\n",
       "        vertical-align: top;\n",
       "    }\n",
       "\n",
       "    .dataframe thead th {\n",
       "        text-align: right;\n",
       "    }\n",
       "</style>\n",
       "<table border=\"1\" class=\"dataframe\">\n",
       "  <thead>\n",
       "    <tr style=\"text-align: right;\">\n",
       "      <th></th>\n",
       "      <th>n_estimators</th>\n",
       "      <th>max_depth</th>\n",
       "      <th>RMSE</th>\n",
       "    </tr>\n",
       "  </thead>\n",
       "  <tbody>\n",
       "    <tr>\n",
       "      <td>3</td>\n",
       "      <td>500.0</td>\n",
       "      <td>5.0</td>\n",
       "      <td>1556.404166</td>\n",
       "    </tr>\n",
       "    <tr>\n",
       "      <td>2</td>\n",
       "      <td>400.0</td>\n",
       "      <td>5.0</td>\n",
       "      <td>1561.026722</td>\n",
       "    </tr>\n",
       "    <tr>\n",
       "      <td>1</td>\n",
       "      <td>500.0</td>\n",
       "      <td>4.0</td>\n",
       "      <td>1573.710477</td>\n",
       "    </tr>\n",
       "    <tr>\n",
       "      <td>0</td>\n",
       "      <td>400.0</td>\n",
       "      <td>4.0</td>\n",
       "      <td>1581.008340</td>\n",
       "    </tr>\n",
       "  </tbody>\n",
       "</table>\n",
       "</div>"
      ],
      "text/plain": [
       "   n_estimators  max_depth         RMSE\n",
       "3         500.0        5.0  1556.404166\n",
       "2         400.0        5.0  1561.026722\n",
       "1         500.0        4.0  1573.710477\n",
       "0         400.0        4.0  1581.008340"
      ]
     },
     "execution_count": 51,
     "metadata": {},
     "output_type": "execute_result"
    }
   ],
   "source": [
    "light_df.sort_values(by='RMSE').head()"
   ]
  },
  {
   "cell_type": "markdown",
   "metadata": {},
   "source": [
    "Обучили модели с различными значениями гиперпараметров. Заметим, что наилучшее (наименьшее) значение метрики **RMSE = 1556** достигнуто при параметрах `n_estimators = 500` и `max_depth = 5`, которые являются верхними пределами в заданных нами диапазонах. Можем предположить, что с увеличением значений параметров произойдет уменьшение метрики RMSE.\n",
    "\n",
    "Проверим модель на тестовой выборке."
   ]
  },
  {
   "cell_type": "code",
   "execution_count": 52,
   "metadata": {},
   "outputs": [
    {
     "name": "stdout",
     "output_type": "stream",
     "text": [
      "RMSE наилучшей модели на тестовой выборке: 1547.1403881986757\n"
     ]
    }
   ],
   "source": [
    "best_light_model.fit(features_train, target_train)\n",
    "predicted_test1 = best_light_model.predict(features_test)\n",
    "result = mean_squared_error(target_test, predicted_test1) ** 0.5\n",
    "print(f'RMSE наилучшей модели на тестовой выборке: {result}')"
   ]
  },
  {
   "cell_type": "markdown",
   "metadata": {},
   "source": [
    "Модель прошла проверку успешно: значение метрики **RMSE = 1547** на тестовой выборке лучше, чем на обучающей."
   ]
  },
  {
   "cell_type": "markdown",
   "metadata": {},
   "source": [
    "**CatBoost**"
   ]
  },
  {
   "cell_type": "code",
   "execution_count": 53,
   "metadata": {},
   "outputs": [
    {
     "name": "stderr",
     "output_type": "stream",
     "text": [
      "  0%|          | 0/1 [00:00<?, ?it/s]"
     ]
    },
    {
     "name": "stdout",
     "output_type": "stream",
     "text": [
      "0:\tlearn: 4901.8827989\ttotal: 172ms\tremaining: 1m 8s\n",
      "399:\tlearn: 1781.1867788\ttotal: 1m 10s\tremaining: 0us\n",
      "0:\tlearn: 4893.5309905\ttotal: 130ms\tremaining: 52s\n",
      "399:\tlearn: 1789.3974606\ttotal: 1m 10s\tremaining: 0us\n",
      "0:\tlearn: 4914.0474734\ttotal: 119ms\tremaining: 47.5s\n",
      "399:\tlearn: 1784.9963218\ttotal: 1m 10s\tremaining: 0us\n",
      "0:\tlearn: 4901.8827989\ttotal: 120ms\tremaining: 59.7s\n",
      "499:\tlearn: 1749.3687509\ttotal: 1m 29s\tremaining: 0us\n",
      "0:\tlearn: 4893.5309905\ttotal: 132ms\tremaining: 1m 6s\n",
      "499:\tlearn: 1759.0747444\ttotal: 1m 28s\tremaining: 0us\n",
      "0:\tlearn: 4914.0474734\ttotal: 197ms\tremaining: 1m 38s\n",
      "499:\tlearn: 1757.0145802\ttotal: 1m 29s\tremaining: 0us\n"
     ]
    },
    {
     "name": "stderr",
     "output_type": "stream",
     "text": [
      "100%|██████████| 1/1 [08:10<00:00, 490.32s/it]"
     ]
    },
    {
     "name": "stdout",
     "output_type": "stream",
     "text": [
      "RMSE наилучшей модели на валидационной выборке 1758.6579875046828\n",
      "CPU times: user 7min 2s, sys: 1min, total: 8min 2s\n",
      "Wall time: 8min 10s\n"
     ]
    },
    {
     "name": "stderr",
     "output_type": "stream",
     "text": [
      "\n"
     ]
    }
   ],
   "source": [
    "%%time\n",
    "\n",
    "i = 0\n",
    "best_result = 100000000\n",
    "best_depth = 0\n",
    "best_iter = 0\n",
    "catboost_df = pd.DataFrame(columns=['iterations','max_depth','RMSE'])\n",
    "\n",
    "for depth in tqdm(range(5,6)):\n",
    "    for iteration in range(400,501,100):\n",
    "        model2 = CatBoostRegressor(loss_function='MAE',\n",
    "                                   eval_metric='RMSE',\n",
    "                                   cat_features=cat_features,\n",
    "                                   iterations=iteration,\n",
    "                                   depth=depth,\n",
    "                                   verbose=iteration)\n",
    "        scores = cross_val_score(model2, features_train, target_train, cv=3, scoring='neg_mean_squared_error')\n",
    "        final_score = ((scores*(-1))**0.5).mean()\n",
    "        catboost_df.loc[i] = np.array([iteration, depth, final_score])\n",
    "        i += 1\n",
    "        if final_score<best_result:\n",
    "            best_catboost_model = model2\n",
    "            best_result = final_score\n",
    "            best_depth = depth\n",
    "            best_iter = iteration\n",
    "print(f'RMSE наилучшей модели на валидационной выборке {best_result}')"
   ]
  },
  {
   "cell_type": "code",
   "execution_count": 54,
   "metadata": {},
   "outputs": [
    {
     "data": {
      "text/html": [
       "<div>\n",
       "<style scoped>\n",
       "    .dataframe tbody tr th:only-of-type {\n",
       "        vertical-align: middle;\n",
       "    }\n",
       "\n",
       "    .dataframe tbody tr th {\n",
       "        vertical-align: top;\n",
       "    }\n",
       "\n",
       "    .dataframe thead th {\n",
       "        text-align: right;\n",
       "    }\n",
       "</style>\n",
       "<table border=\"1\" class=\"dataframe\">\n",
       "  <thead>\n",
       "    <tr style=\"text-align: right;\">\n",
       "      <th></th>\n",
       "      <th>iterations</th>\n",
       "      <th>max_depth</th>\n",
       "      <th>RMSE</th>\n",
       "    </tr>\n",
       "  </thead>\n",
       "  <tbody>\n",
       "    <tr>\n",
       "      <td>1</td>\n",
       "      <td>500.0</td>\n",
       "      <td>5.0</td>\n",
       "      <td>1758.657988</td>\n",
       "    </tr>\n",
       "    <tr>\n",
       "      <td>0</td>\n",
       "      <td>400.0</td>\n",
       "      <td>5.0</td>\n",
       "      <td>1787.187336</td>\n",
       "    </tr>\n",
       "  </tbody>\n",
       "</table>\n",
       "</div>"
      ],
      "text/plain": [
       "   iterations  max_depth         RMSE\n",
       "1       500.0        5.0  1758.657988\n",
       "0       400.0        5.0  1787.187336"
      ]
     },
     "execution_count": 54,
     "metadata": {},
     "output_type": "execute_result"
    }
   ],
   "source": [
    "catboost_df.sort_values(by='RMSE').head()"
   ]
  },
  {
   "cell_type": "markdown",
   "metadata": {},
   "source": [
    "Проверим модель на тестовой выборке."
   ]
  },
  {
   "cell_type": "code",
   "execution_count": 55,
   "metadata": {},
   "outputs": [
    {
     "name": "stdout",
     "output_type": "stream",
     "text": [
      "0:\tlearn: 4902.9053442\ttotal: 279ms\tremaining: 2m 19s\n",
      "499:\tlearn: 1756.5697919\ttotal: 2m 5s\tremaining: 0us\n",
      "RMSE наилучшей модели на тестовой выборке: 1746.6320572474247\n"
     ]
    }
   ],
   "source": [
    "best_catboost_model.fit(features_train, target_train, cat_features=cat_features, verbose=500)\n",
    "predicted_test2 = best_catboost_model.predict(features_test)\n",
    "result = mean_squared_error(target_test, predicted_test2) ** 0.5\n",
    "print(f'RMSE наилучшей модели на тестовой выборке: {result}')"
   ]
  },
  {
   "cell_type": "markdown",
   "metadata": {},
   "source": [
    "Наблюдаем следующее: при тех же диапазонах поиска наилучших значений гиперпараметров, времени затрачено в 5 раз больше, чем в случае с поиском параметров модели LightGBM. Значение матрики RMSE хуже, чем в предыдущем случае (**1746**), достигнуто при параметрах n_estimators (iterations) = 500 и max_depth = 5, которые являются верхними пределами в заданных нами диапазонах."
   ]
  },
  {
   "cell_type": "markdown",
   "metadata": {},
   "source": [
    "**Random Forest**"
   ]
  },
  {
   "cell_type": "markdown",
   "metadata": {},
   "source": [
    "**Примечание:**\n",
    "\n",
    "Для обучения модели случайного леса, необходимо проведение дополнительных преобразований, а именно преобразование категориальных переменных."
   ]
  },
  {
   "cell_type": "code",
   "execution_count": 56,
   "metadata": {},
   "outputs": [],
   "source": [
    "df1 = df.copy()"
   ]
  },
  {
   "cell_type": "code",
   "execution_count": 57,
   "metadata": {},
   "outputs": [],
   "source": [
    "df1 = pd.get_dummies(df1, drop_first=True)"
   ]
  },
  {
   "cell_type": "code",
   "execution_count": 58,
   "metadata": {},
   "outputs": [],
   "source": [
    "rf_features = df1.drop(['price'], axis=1)  \n",
    "rf_target = df1['price'] "
   ]
  },
  {
   "cell_type": "code",
   "execution_count": 59,
   "metadata": {},
   "outputs": [],
   "source": [
    "rf_features_train, rf_features_test, rf_target_train, rf_target_test = train_test_split(rf_features,\n",
    "                                                                                          rf_target, \n",
    "                                                                                          test_size=0.25, \n",
    "                                                                                          random_state=12345)"
   ]
  },
  {
   "cell_type": "code",
   "execution_count": 60,
   "metadata": {},
   "outputs": [
    {
     "name": "stderr",
     "output_type": "stream",
     "text": [
      "100%|██████████| 2/2 [05:44<00:00, 172.14s/it]"
     ]
    },
    {
     "name": "stdout",
     "output_type": "stream",
     "text": [
      "RMSE наилучшей модели случайного леса на валидационной выборке 2323.966196814638 при следующих параметрах:\n",
      "n_estimators = 50\n",
      "max_depth = 5\n",
      "min_samples_split = 2\n",
      "min_samples_leaf = 1\n",
      "CPU times: user 5min 41s, sys: 0 ns, total: 5min 41s\n",
      "Wall time: 5min 44s\n"
     ]
    },
    {
     "name": "stderr",
     "output_type": "stream",
     "text": [
      "\n"
     ]
    }
   ],
   "source": [
    "%%time\n",
    "\n",
    "i = 0\n",
    "forest_df = pd.DataFrame(columns=['n_estimators','max_depth','min_samples_split','min_samples_leaf','RMSE'])\n",
    "best_result = 100000000\n",
    "best_model_forest = None\n",
    "best_depth = 0\n",
    "best_split = 0\n",
    "best_leaf = 0\n",
    "best_est = 0\n",
    "for depth in range(5,6):\n",
    "    for split in range(2,3):\n",
    "        for leaf in range(1,2):\n",
    "            for est in tqdm(range(40, 51, 10)):\n",
    "                model3 = RandomForestRegressor(\n",
    "                    random_state=12345, \n",
    "                    n_estimators=est, \n",
    "                    max_depth=depth, \n",
    "                    min_samples_split=split,\n",
    "                    min_samples_leaf=leaf\n",
    "                )\n",
    "                scores = cross_val_score(model3, rf_features_train, rf_target_train, cv=5, scoring='neg_mean_squared_error')\n",
    "                final_score = ((scores*(-1))**0.5).mean()\n",
    "                forest_df.loc[i] = np.array([est, depth, split, leaf, final_score])\n",
    "                i += 1\n",
    "                if final_score < best_result:\n",
    "                    best_model_forest = model3\n",
    "                    best_result = final_score\n",
    "                    best_depth = depth\n",
    "                    best_split = split\n",
    "                    best_leaf = leaf\n",
    "                    best_est = est\n",
    "\n",
    "print(f'RMSE наилучшей модели случайного леса на валидационной выборке {best_result} при следующих параметрах:'+'\\n'+\n",
    "      f'n_estimators = {best_est}'+'\\n'+\n",
    "      f'max_depth = {best_depth}'+'\\n'+\n",
    "      f'min_samples_split = {best_split}'+'\\n'+\n",
    "      f'min_samples_leaf = {best_leaf}')"
   ]
  },
  {
   "cell_type": "code",
   "execution_count": 61,
   "metadata": {
    "scrolled": true
   },
   "outputs": [
    {
     "data": {
      "text/html": [
       "<div>\n",
       "<style scoped>\n",
       "    .dataframe tbody tr th:only-of-type {\n",
       "        vertical-align: middle;\n",
       "    }\n",
       "\n",
       "    .dataframe tbody tr th {\n",
       "        vertical-align: top;\n",
       "    }\n",
       "\n",
       "    .dataframe thead th {\n",
       "        text-align: right;\n",
       "    }\n",
       "</style>\n",
       "<table border=\"1\" class=\"dataframe\">\n",
       "  <thead>\n",
       "    <tr style=\"text-align: right;\">\n",
       "      <th></th>\n",
       "      <th>n_estimators</th>\n",
       "      <th>max_depth</th>\n",
       "      <th>min_samples_split</th>\n",
       "      <th>min_samples_leaf</th>\n",
       "      <th>RMSE</th>\n",
       "    </tr>\n",
       "  </thead>\n",
       "  <tbody>\n",
       "    <tr>\n",
       "      <td>1</td>\n",
       "      <td>50.0</td>\n",
       "      <td>5.0</td>\n",
       "      <td>2.0</td>\n",
       "      <td>1.0</td>\n",
       "      <td>2323.966197</td>\n",
       "    </tr>\n",
       "    <tr>\n",
       "      <td>0</td>\n",
       "      <td>40.0</td>\n",
       "      <td>5.0</td>\n",
       "      <td>2.0</td>\n",
       "      <td>1.0</td>\n",
       "      <td>2324.247800</td>\n",
       "    </tr>\n",
       "  </tbody>\n",
       "</table>\n",
       "</div>"
      ],
      "text/plain": [
       "   n_estimators  max_depth  min_samples_split  min_samples_leaf         RMSE\n",
       "1          50.0        5.0                2.0               1.0  2323.966197\n",
       "0          40.0        5.0                2.0               1.0  2324.247800"
      ]
     },
     "execution_count": 61,
     "metadata": {},
     "output_type": "execute_result"
    }
   ],
   "source": [
    "forest_df.sort_values(by='RMSE').head()"
   ]
  },
  {
   "cell_type": "markdown",
   "metadata": {},
   "source": [
    "Проверим модель на тестовой выборке."
   ]
  },
  {
   "cell_type": "code",
   "execution_count": 62,
   "metadata": {},
   "outputs": [
    {
     "name": "stdout",
     "output_type": "stream",
     "text": [
      "RMSE наилучшей модели на тестовой выборке: 2327.4579346282944\n"
     ]
    }
   ],
   "source": [
    "best_model_forest.fit(rf_features_train, rf_target_train)\n",
    "predicted_test3 = best_model_forest.predict(rf_features_test)\n",
    "result = mean_squared_error(rf_target_test, predicted_test3) ** 0.5\n",
    "print(f'RMSE наилучшей модели на тестовой выборке: {result}')"
   ]
  },
  {
   "cell_type": "markdown",
   "metadata": {},
   "source": [
    "Получили значение метрики **RMSE = 2327**, что является самым худшим показателем среди всех трех моделей. Значения гиперпараметров, при которых данная модель показала лучшее значение метрики: \n",
    "- n_estimators = 50\n",
    "- max_depth = 5\n",
    "- min_samples_split = 2\n",
    "- min_samples_leaf  = 1"
   ]
  },
  {
   "cell_type": "markdown",
   "metadata": {},
   "source": [
    "**Вывод**\n",
    "\n",
    "На первый взгляд все очевидно: LightGBM - самая лучшая модель, RandomForest - самая худшая. Однако необходимо рассмотреть обучение и предсказание отдельных моделей - самых лучших для каждого вида. Мы определили, что первые две модели показывают лучшие результаты с увеличением параметров n_estimators и max_depth. В связи с этим, а также в целях улучшения метрики RMSE, при анализе моделей предлагается зафиксировать следующие значения гиперпарметров:\n",
    "- для LightGBM и CatBoost:\n",
    "    - n_estimators = 1000\n",
    "    - max_depth = 5\n",
    "- для RandomForest:\n",
    "    - n_estimators = 200\n",
    "    - max_depth = 5\n",
    "    - min_samples_split = 2\n",
    "    - min_samples_leaf = 1"
   ]
  },
  {
   "cell_type": "markdown",
   "metadata": {},
   "source": [
    "## Анализ моделей"
   ]
  },
  {
   "cell_type": "markdown",
   "metadata": {},
   "source": [
    "Получив первые результаты метрик RMSE для разных моделей, можем с уверенностью сказать, что RandomForest значительно уступает по точности предсказаний моделям Catboost и LightGBM, поэтому основной упор в сравнении сделаем именно на моделях градиентного бустинга.\n",
    "\n",
    "Для наглядного отображение результатов предсказания моделей, воспользуемся функцией 'print_info'."
   ]
  },
  {
   "cell_type": "code",
   "execution_count": 63,
   "metadata": {},
   "outputs": [],
   "source": [
    "def print_info(target, predicted):\n",
    "    mse = mean_squared_error(target, predicted)\n",
    "    r2 = r2_score(target, predicted)\n",
    "    mae = mean_absolute_error(target, predicted)\n",
    "    print('RMSE модели:', mse**0.5)\n",
    "    print('MAE:', mae)\n",
    "    print('R2-score:', r2)\n",
    "    plt.figure(figsize=(16, 5))\n",
    "    plt.grid()\n",
    "    plt.hist([pd.Series(target), pd.Series(predicted)], bins=30, label=['Реальные значения', 'Предсказанные значения'])\n",
    "    plt.xlabel('Цены автомобилей (евро)')\n",
    "    plt.ylabel('Количество объектов')\n",
    "    plt.title(f'Распределение автомобилей по ценам')\n",
    "    plt.legend(loc='upper right')\n",
    "    plt.show()"
   ]
  },
  {
   "cell_type": "markdown",
   "metadata": {},
   "source": [
    "Проанализируем скорость работы и качество каждой из моделей."
   ]
  },
  {
   "cell_type": "markdown",
   "metadata": {},
   "source": [
    "**LightGBM**"
   ]
  },
  {
   "cell_type": "code",
   "execution_count": 64,
   "metadata": {},
   "outputs": [],
   "source": [
    "model1 = LGBMRegressor(random_state=12345, n_estimators=1000, max_depth=5)"
   ]
  },
  {
   "cell_type": "code",
   "execution_count": 65,
   "metadata": {},
   "outputs": [
    {
     "name": "stdout",
     "output_type": "stream",
     "text": [
      "CPU times: user 30.3 s, sys: 0 ns, total: 30.3 s\n",
      "Wall time: 31.1 s\n"
     ]
    },
    {
     "data": {
      "text/plain": [
       "LGBMRegressor(boosting_type='gbdt', class_weight=None, colsample_bytree=1.0,\n",
       "              importance_type='split', learning_rate=0.1, max_depth=5,\n",
       "              min_child_samples=20, min_child_weight=0.001, min_split_gain=0.0,\n",
       "              n_estimators=1000, n_jobs=-1, num_leaves=31, objective=None,\n",
       "              random_state=12345, reg_alpha=0.0, reg_lambda=0.0, silent=True,\n",
       "              subsample=1.0, subsample_for_bin=200000, subsample_freq=0)"
      ]
     },
     "execution_count": 65,
     "metadata": {},
     "output_type": "execute_result"
    }
   ],
   "source": [
    "%%time\n",
    "model1.fit(features_train, target_train, eval_metric='rmse', categorical_feature=cat_features)"
   ]
  },
  {
   "cell_type": "code",
   "execution_count": 68,
   "metadata": {},
   "outputs": [
    {
     "name": "stdout",
     "output_type": "stream",
     "text": [
      "CPU times: user 8.17 s, sys: 0 ns, total: 8.17 s\n",
      "Wall time: 8.09 s\n"
     ]
    }
   ],
   "source": [
    "%%time\n",
    "predicted_test1 = model1.predict(features_test)"
   ]
  },
  {
   "cell_type": "code",
   "execution_count": 70,
   "metadata": {
    "scrolled": false
   },
   "outputs": [
    {
     "name": "stdout",
     "output_type": "stream",
     "text": [
      "RMSE модели: 1547.1403881986757\n",
      "MAE: 975.971964539819\n",
      "R2-score: 0.892238813960512\n"
     ]
    },
    {
     "data": {
      "image/png": "[encoded data removed]",
      "text/plain": [
       "<Figure size 1152x360 with 1 Axes>"
      ]
     },
     "metadata": {
      "needs_background": "light"
     },
     "output_type": "display_data"
    }
   ],
   "source": [
    "# lightgbm\n",
    "print_info(target_test, predicted_test1)"
   ]
  },
  {
   "cell_type": "markdown",
   "metadata": {},
   "source": [
    "**CatBoost**"
   ]
  },
  {
   "cell_type": "code",
   "execution_count": 71,
   "metadata": {},
   "outputs": [],
   "source": [
    "model2 = CatBoostRegressor(loss_function='MAE',\n",
    "                           eval_metric='RMSE',\n",
    "                           cat_features=cat_features,\n",
    "                           n_estimators=1000,\n",
    "                           depth=5)"
   ]
  },
  {
   "cell_type": "code",
   "execution_count": 72,
   "metadata": {},
   "outputs": [
    {
     "name": "stdout",
     "output_type": "stream",
     "text": [
      "0:\tlearn: 4902.9053442\ttotal: 224ms\tremaining: 3m 43s\n",
      "250:\tlearn: 1845.3608766\ttotal: 1m\tremaining: 3m\n",
      "500:\tlearn: 1755.7956269\ttotal: 2m 3s\tremaining: 2m 2s\n",
      "750:\tlearn: 1710.7569669\ttotal: 3m 5s\tremaining: 1m 1s\n",
      "999:\tlearn: 1684.7808371\ttotal: 4m 6s\tremaining: 0us\n",
      "CPU times: user 3min 38s, sys: 27.7 s, total: 4min 6s\n",
      "Wall time: 4min 8s\n"
     ]
    },
    {
     "data": {
      "text/plain": [
       "<catboost.core.CatBoostRegressor at 0x7fe8f7264d50>"
      ]
     },
     "execution_count": 72,
     "metadata": {},
     "output_type": "execute_result"
    }
   ],
   "source": [
    "%%time\n",
    "model2.fit(features_train, target_train, cat_features=cat_features, verbose=250)"
   ]
  },
  {
   "cell_type": "code",
   "execution_count": 73,
   "metadata": {},
   "outputs": [
    {
     "name": "stdout",
     "output_type": "stream",
     "text": [
      "CPU times: user 193 ms, sys: 30.1 ms, total: 223 ms\n",
      "Wall time: 142 ms\n"
     ]
    }
   ],
   "source": [
    "%%time\n",
    "predicted_test2 = model2.predict(features_test)"
   ]
  },
  {
   "cell_type": "code",
   "execution_count": 74,
   "metadata": {},
   "outputs": [
    {
     "name": "stdout",
     "output_type": "stream",
     "text": [
      "RMSE модели: 1678.4179806152265\n",
      "MAE: 1033.7909627092304\n",
      "R2-score: 0.8731754989660726\n"
     ]
    },
    {
     "data": {
      "image/png": "[encoded data removed]",
      "text/plain": [
       "<Figure size 1152x360 with 1 Axes>"
      ]
     },
     "metadata": {
      "needs_background": "light"
     },
     "output_type": "display_data"
    }
   ],
   "source": [
    "# catboost\n",
    "print_info(target_test, predicted_test2)"
   ]
  },
  {
   "cell_type": "markdown",
   "metadata": {},
   "source": [
    "**Random Forest**"
   ]
  },
  {
   "cell_type": "code",
   "execution_count": 75,
   "metadata": {},
   "outputs": [],
   "source": [
    "model3 = RandomForestRegressor(\n",
    "                    random_state=12345, \n",
    "                    n_estimators=200, \n",
    "                    max_depth=5, \n",
    "                    min_samples_split=2,\n",
    "                    min_samples_leaf=1)"
   ]
  },
  {
   "cell_type": "code",
   "execution_count": 76,
   "metadata": {},
   "outputs": [
    {
     "name": "stdout",
     "output_type": "stream",
     "text": [
      "CPU times: user 3min 17s, sys: 0 ns, total: 3min 17s\n",
      "Wall time: 3min 18s\n"
     ]
    },
    {
     "data": {
      "text/plain": [
       "RandomForestRegressor(bootstrap=True, criterion='mse', max_depth=5,\n",
       "                      max_features='auto', max_leaf_nodes=None,\n",
       "                      min_impurity_decrease=0.0, min_impurity_split=None,\n",
       "                      min_samples_leaf=1, min_samples_split=2,\n",
       "                      min_weight_fraction_leaf=0.0, n_estimators=200,\n",
       "                      n_jobs=None, oob_score=False, random_state=12345,\n",
       "                      verbose=0, warm_start=False)"
      ]
     },
     "execution_count": 76,
     "metadata": {},
     "output_type": "execute_result"
    }
   ],
   "source": [
    "%%time\n",
    "model3.fit(rf_features_train, rf_target_train)"
   ]
  },
  {
   "cell_type": "code",
   "execution_count": 77,
   "metadata": {},
   "outputs": [
    {
     "name": "stdout",
     "output_type": "stream",
     "text": [
      "CPU times: user 451 ms, sys: 0 ns, total: 451 ms\n",
      "Wall time: 449 ms\n"
     ]
    }
   ],
   "source": [
    "%%time\n",
    "predicted_test3 = model3.predict(rf_features_test)"
   ]
  },
  {
   "cell_type": "code",
   "execution_count": 78,
   "metadata": {},
   "outputs": [
    {
     "name": "stdout",
     "output_type": "stream",
     "text": [
      "RMSE модели: 2329.7237579236676\n",
      "MAE: 1620.9746976765525\n",
      "R2-score: 0.7556503211314654\n"
     ]
    },
    {
     "data": {
      "image/png": "[encoded data removed]",
      "text/plain": [
       "<Figure size 1152x360 with 1 Axes>"
      ]
     },
     "metadata": {
      "needs_background": "light"
     },
     "output_type": "display_data"
    }
   ],
   "source": [
    "# random forest\n",
    "print_info(rf_target_test, predicted_test3)"
   ]
  },
  {
   "cell_type": "markdown",
   "metadata": {},
   "source": [
    "Сведем полученные результаты в таблицу."
   ]
  },
  {
   "cell_type": "code",
   "execution_count": 79,
   "metadata": {},
   "outputs": [
    {
     "data": {
      "text/html": [
       "<div>\n",
       "<style scoped>\n",
       "    .dataframe tbody tr th:only-of-type {\n",
       "        vertical-align: middle;\n",
       "    }\n",
       "\n",
       "    .dataframe tbody tr th {\n",
       "        vertical-align: top;\n",
       "    }\n",
       "\n",
       "    .dataframe thead th {\n",
       "        text-align: right;\n",
       "    }\n",
       "</style>\n",
       "<table border=\"1\" class=\"dataframe\">\n",
       "  <thead>\n",
       "    <tr style=\"text-align: right;\">\n",
       "      <th></th>\n",
       "      <th>Время обучения (сек)</th>\n",
       "      <th>Время предсказания (сек)</th>\n",
       "      <th>RMSE</th>\n",
       "      <th>MAE</th>\n",
       "      <th>R2-score</th>\n",
       "    </tr>\n",
       "  </thead>\n",
       "  <tbody>\n",
       "    <tr>\n",
       "      <td>LightGBM</td>\n",
       "      <td>30.3</td>\n",
       "      <td>8.170</td>\n",
       "      <td>1547.0</td>\n",
       "      <td>976.0</td>\n",
       "      <td>0.8922</td>\n",
       "    </tr>\n",
       "    <tr>\n",
       "      <td>CatBoost</td>\n",
       "      <td>248.0</td>\n",
       "      <td>0.223</td>\n",
       "      <td>1678.0</td>\n",
       "      <td>1034.0</td>\n",
       "      <td>0.8732</td>\n",
       "    </tr>\n",
       "    <tr>\n",
       "      <td>RandomForest</td>\n",
       "      <td>198.0</td>\n",
       "      <td>0.450</td>\n",
       "      <td>2330.0</td>\n",
       "      <td>1621.0</td>\n",
       "      <td>0.7557</td>\n",
       "    </tr>\n",
       "  </tbody>\n",
       "</table>\n",
       "</div>"
      ],
      "text/plain": [
       "              Время обучения (сек)  Время предсказания (сек)    RMSE     MAE  \\\n",
       "LightGBM                      30.3                     8.170  1547.0   976.0   \n",
       "CatBoost                     248.0                     0.223  1678.0  1034.0   \n",
       "RandomForest                 198.0                     0.450  2330.0  1621.0   \n",
       "\n",
       "              R2-score  \n",
       "LightGBM        0.8922  \n",
       "CatBoost        0.8732  \n",
       "RandomForest    0.7557  "
      ]
     },
     "execution_count": 79,
     "metadata": {},
     "output_type": "execute_result"
    }
   ],
   "source": [
    "final = np.array([[30.3, 248, 198],\n",
    "                 [8.17, 0.223, 0.45],\n",
    "                 [1547, 1678, 2330],\n",
    "                 [976, 1034, 1621],\n",
    "                 [0.8922, 0.8732, 0.7557]])\n",
    "index = ['Время обучения (сек)', 'Время предсказания (сек)', 'RMSE', 'MAE', 'R2-score']\n",
    "columns = ['LightGBM', 'CatBoost', 'RandomForest']\n",
    "final_df = pd.DataFrame(data=final, index=index, columns=columns)\n",
    "final_df.T"
   ]
  },
  {
   "cell_type": "markdown",
   "metadata": {},
   "source": [
    "**Вывод**\n",
    "\n",
    "Напомним, что заказчику важны: качество предсказания, скорость предсказания, время обучения. \n",
    "\n",
    "1. Качество предсказания\n",
    "\n",
    "По этому показателю, самой лучшей оказалась модель LightGBM с показателем **RMSE = 1547**, немного хуже - CatBoost (**RMSE = 1678**). Данные показатели можно улучшить путем подбора большего числа гиперпараметров, но это в свою очередь потребует дополнительного значительного временного ресурса.\n",
    "\n",
    "2. Время обучения\n",
    "\n",
    "По времени обучения модель LightGBM безоговорочный фаворит. Ее показатель в более чем 6 раз лучше показателя RandomForest и в 8 раз - CatBoost.\n",
    "\n",
    "3. Время предсказания\n",
    "\n",
    "А вот по этому показателю наблюдаем противоположную картину. CatBoost быстрее всех предсказывает значения, показатель этой модели в 37 раз лучше показателя LightGBM.\n",
    "\n",
    "Подводя итог, отметим следующее: в практической деятельности главными показателями являются точность и время предсказания. Обучение моделей хотя и является периодическим процессом, но не таким частым, как предсказание. Следовательно, можем заключить, что самым рациональным будет подбор гиперпараметров модели CatBoost, увеличение числа n_estimators при ее обучение и, как следствие, улучшение метрики RMSE."
   ]
  }
 ],
 "metadata": {
  "ExecuteTimeLog": [
   {
    "duration": 722,
    "start_time": "2021-07-02T16:31:21.507Z"
   },
   {
    "duration": 1106,
    "start_time": "2021-07-02T16:31:34.088Z"
   },
   {
    "duration": 31,
    "start_time": "2021-07-02T16:31:40.544Z"
   },
   {
    "duration": 6,
    "start_time": "2021-07-02T16:32:16.863Z"
   },
   {
    "duration": 5,
    "start_time": "2021-07-02T16:32:28.363Z"
   },
   {
    "duration": 3,
    "start_time": "2021-07-02T17:04:21.221Z"
   },
   {
    "duration": 85,
    "start_time": "2021-07-02T17:07:37.553Z"
   },
   {
    "duration": 4,
    "start_time": "2021-07-02T17:07:40.329Z"
   },
   {
    "duration": 6,
    "start_time": "2021-07-02T17:07:49.305Z"
   },
   {
    "duration": 343,
    "start_time": "2021-07-02T17:07:56.368Z"
   },
   {
    "duration": 270,
    "start_time": "2021-07-02T17:08:11.665Z"
   },
   {
    "duration": 262,
    "start_time": "2021-07-02T17:09:28.952Z"
   },
   {
    "duration": 255,
    "start_time": "2021-07-02T17:09:46.240Z"
   },
   {
    "duration": 267,
    "start_time": "2021-07-02T17:11:37.057Z"
   },
   {
    "duration": 255,
    "start_time": "2021-07-02T17:12:06.584Z"
   },
   {
    "duration": 266,
    "start_time": "2021-07-02T17:12:22.168Z"
   },
   {
    "duration": 296,
    "start_time": "2021-07-02T17:12:39.588Z"
   },
   {
    "duration": 324,
    "start_time": "2021-07-02T17:19:49.352Z"
   },
   {
    "duration": 5,
    "start_time": "2021-07-02T17:19:58.236Z"
   },
   {
    "duration": 6,
    "start_time": "2021-07-02T17:23:07.696Z"
   },
   {
    "duration": 6,
    "start_time": "2021-07-02T17:23:17.856Z"
   },
   {
    "duration": 6,
    "start_time": "2021-07-02T17:23:25.252Z"
   },
   {
    "duration": 9,
    "start_time": "2021-07-02T17:23:32.847Z"
   },
   {
    "duration": 6,
    "start_time": "2021-07-02T17:23:42.055Z"
   },
   {
    "duration": 5,
    "start_time": "2021-07-02T17:23:55.308Z"
   },
   {
    "duration": 5,
    "start_time": "2021-07-02T17:24:02.924Z"
   },
   {
    "duration": 6,
    "start_time": "2021-07-02T17:24:10.348Z"
   },
   {
    "duration": 6,
    "start_time": "2021-07-02T17:24:14.552Z"
   },
   {
    "duration": 5,
    "start_time": "2021-07-02T17:24:23.724Z"
   },
   {
    "duration": 5,
    "start_time": "2021-07-02T17:25:18.276Z"
   },
   {
    "duration": 6,
    "start_time": "2021-07-02T17:25:30.024Z"
   },
   {
    "duration": 6,
    "start_time": "2021-07-02T17:25:37.239Z"
   },
   {
    "duration": 6,
    "start_time": "2021-07-02T17:25:49.408Z"
   },
   {
    "duration": 6,
    "start_time": "2021-07-02T17:25:56.187Z"
   },
   {
    "duration": 5,
    "start_time": "2021-07-02T17:26:22.215Z"
   },
   {
    "duration": 6,
    "start_time": "2021-07-02T17:26:27.363Z"
   },
   {
    "duration": 6,
    "start_time": "2021-07-02T17:26:29.843Z"
   },
   {
    "duration": 6,
    "start_time": "2021-07-02T17:26:36.059Z"
   },
   {
    "duration": 5,
    "start_time": "2021-07-02T17:26:43.091Z"
   },
   {
    "duration": 5,
    "start_time": "2021-07-02T17:26:46.539Z"
   },
   {
    "duration": 6,
    "start_time": "2021-07-02T17:26:54.027Z"
   },
   {
    "duration": 5,
    "start_time": "2021-07-02T17:27:00.612Z"
   },
   {
    "duration": 5,
    "start_time": "2021-07-02T17:27:06.340Z"
   },
   {
    "duration": 6,
    "start_time": "2021-07-02T17:27:10.959Z"
   },
   {
    "duration": 6,
    "start_time": "2021-07-02T17:27:14.165Z"
   },
   {
    "duration": 7,
    "start_time": "2021-07-02T17:30:18.952Z"
   },
   {
    "duration": 6,
    "start_time": "2021-07-02T17:30:28.559Z"
   },
   {
    "duration": 6,
    "start_time": "2021-07-02T17:30:30.987Z"
   },
   {
    "duration": 318,
    "start_time": "2021-07-02T17:34:56.536Z"
   },
   {
    "duration": 5,
    "start_time": "2021-07-02T17:35:01.643Z"
   },
   {
    "duration": 293,
    "start_time": "2021-07-02T17:35:21.403Z"
   },
   {
    "duration": 6,
    "start_time": "2021-07-02T17:35:26.759Z"
   },
   {
    "duration": 6,
    "start_time": "2021-07-02T17:35:41.447Z"
   },
   {
    "duration": 6,
    "start_time": "2021-07-02T17:35:49.042Z"
   },
   {
    "duration": 6,
    "start_time": "2021-07-02T17:36:09.006Z"
   },
   {
    "duration": 6,
    "start_time": "2021-07-02T17:36:12.186Z"
   },
   {
    "duration": 6,
    "start_time": "2021-07-02T17:36:49.279Z"
   },
   {
    "duration": 5,
    "start_time": "2021-07-02T17:36:53.042Z"
   },
   {
    "duration": 5,
    "start_time": "2021-07-02T17:36:57.303Z"
   },
   {
    "duration": 5,
    "start_time": "2021-07-02T17:37:00.886Z"
   },
   {
    "duration": 5,
    "start_time": "2021-07-02T17:37:05.158Z"
   },
   {
    "duration": 5,
    "start_time": "2021-07-02T17:37:32.495Z"
   },
   {
    "duration": 6,
    "start_time": "2021-07-02T17:37:43.287Z"
   },
   {
    "duration": 5,
    "start_time": "2021-07-02T17:37:46.383Z"
   },
   {
    "duration": 6,
    "start_time": "2021-07-02T17:38:01.423Z"
   },
   {
    "duration": 6,
    "start_time": "2021-07-02T17:38:09.031Z"
   },
   {
    "duration": 6,
    "start_time": "2021-07-02T17:40:33.842Z"
   },
   {
    "duration": 5,
    "start_time": "2021-07-02T17:40:40.598Z"
   },
   {
    "duration": 5,
    "start_time": "2021-07-02T17:41:20.478Z"
   },
   {
    "duration": 251,
    "start_time": "2021-07-02T17:41:23.438Z"
   },
   {
    "duration": 84,
    "start_time": "2021-07-02T17:41:33.311Z"
   },
   {
    "duration": 260,
    "start_time": "2021-07-02T17:41:36.966Z"
   },
   {
    "duration": 85,
    "start_time": "2021-07-02T17:41:47.402Z"
   },
   {
    "duration": 4,
    "start_time": "2021-07-02T17:43:16.886Z"
   },
   {
    "duration": 5,
    "start_time": "2021-07-02T17:43:22.658Z"
   },
   {
    "duration": 5,
    "start_time": "2021-07-02T17:44:39.274Z"
   },
   {
    "duration": 5,
    "start_time": "2021-07-02T17:45:07.038Z"
   },
   {
    "duration": 5,
    "start_time": "2021-07-02T17:45:20.610Z"
   },
   {
    "duration": 5,
    "start_time": "2021-07-02T17:47:56.217Z"
   },
   {
    "duration": 278,
    "start_time": "2021-07-02T17:48:00.433Z"
   },
   {
    "duration": 86,
    "start_time": "2021-07-02T17:55:43.454Z"
   },
   {
    "duration": 5,
    "start_time": "2021-07-02T17:55:48.057Z"
   },
   {
    "duration": 5,
    "start_time": "2021-07-02T17:55:51.793Z"
   },
   {
    "duration": 5,
    "start_time": "2021-07-02T17:56:40.161Z"
   },
   {
    "duration": 6,
    "start_time": "2021-07-02T17:56:41.041Z"
   },
   {
    "duration": 259,
    "start_time": "2021-07-02T17:57:40.425Z"
   },
   {
    "duration": 5,
    "start_time": "2021-07-02T17:57:52.545Z"
   },
   {
    "duration": 6,
    "start_time": "2021-07-02T17:57:54.933Z"
   },
   {
    "duration": 5,
    "start_time": "2021-07-02T17:58:00.757Z"
   },
   {
    "duration": 5,
    "start_time": "2021-07-02T17:58:01.405Z"
   },
   {
    "duration": 5,
    "start_time": "2021-07-02T17:58:18.705Z"
   },
   {
    "duration": 6,
    "start_time": "2021-07-02T17:58:19.228Z"
   },
   {
    "duration": 6,
    "start_time": "2021-07-02T17:58:42.564Z"
   },
   {
    "duration": 5,
    "start_time": "2021-07-02T17:58:43.093Z"
   },
   {
    "duration": 6,
    "start_time": "2021-07-02T17:59:02.657Z"
   },
   {
    "duration": 5,
    "start_time": "2021-07-02T17:59:08.061Z"
   },
   {
    "duration": 160,
    "start_time": "2021-07-02T18:04:37.868Z"
   },
   {
    "duration": 5,
    "start_time": "2021-07-02T18:06:14.528Z"
   },
   {
    "duration": 168,
    "start_time": "2021-07-02T18:06:22.084Z"
   },
   {
    "duration": 6,
    "start_time": "2021-07-02T18:07:00.680Z"
   },
   {
    "duration": 163,
    "start_time": "2021-07-02T18:07:00.900Z"
   },
   {
    "duration": 126,
    "start_time": "2021-07-02T18:07:23.580Z"
   },
   {
    "duration": 679,
    "start_time": "2021-07-02T18:22:21.401Z"
   },
   {
    "duration": 1110,
    "start_time": "2021-07-02T18:22:22.083Z"
   },
   {
    "duration": 29,
    "start_time": "2021-07-02T18:22:23.196Z"
   },
   {
    "duration": 172,
    "start_time": "2021-07-02T18:22:23.228Z"
   },
   {
    "duration": 135,
    "start_time": "2021-07-02T18:22:23.403Z"
   },
   {
    "duration": 15,
    "start_time": "2021-07-02T18:22:23.540Z"
   },
   {
    "duration": 171,
    "start_time": "2021-07-02T18:22:23.557Z"
   },
   {
    "duration": 5,
    "start_time": "2021-07-02T18:22:23.731Z"
   },
   {
    "duration": 19,
    "start_time": "2021-07-02T18:22:23.738Z"
   },
   {
    "duration": 842,
    "start_time": "2021-07-02T18:24:49.126Z"
   },
   {
    "duration": 1096,
    "start_time": "2021-07-02T18:24:49.972Z"
   },
   {
    "duration": 31,
    "start_time": "2021-07-02T18:24:51.071Z"
   },
   {
    "duration": 219,
    "start_time": "2021-07-02T18:24:51.105Z"
   },
   {
    "duration": 133,
    "start_time": "2021-07-02T18:24:51.327Z"
   },
   {
    "duration": 5,
    "start_time": "2021-07-02T18:24:51.463Z"
   },
   {
    "duration": 222,
    "start_time": "2021-07-02T18:24:51.470Z"
   },
   {
    "duration": 5,
    "start_time": "2021-07-02T18:24:51.695Z"
   },
   {
    "duration": 13,
    "start_time": "2021-07-02T18:24:51.702Z"
   },
   {
    "duration": 639,
    "start_time": "2021-07-02T18:31:09.054Z"
   },
   {
    "duration": 191,
    "start_time": "2021-07-02T18:31:12.773Z"
   },
   {
    "duration": 317,
    "start_time": "2021-07-03T16:59:34.864Z"
   },
   {
    "duration": 831,
    "start_time": "2021-07-03T16:59:37.805Z"
   },
   {
    "duration": 3,
    "start_time": "2021-07-03T16:59:42.929Z"
   },
   {
    "duration": 1101,
    "start_time": "2021-07-03T16:59:42.935Z"
   },
   {
    "duration": 38,
    "start_time": "2021-07-03T16:59:44.039Z"
   },
   {
    "duration": 168,
    "start_time": "2021-07-03T16:59:44.080Z"
   },
   {
    "duration": 131,
    "start_time": "2021-07-03T16:59:44.254Z"
   },
   {
    "duration": 6,
    "start_time": "2021-07-03T16:59:46.285Z"
   },
   {
    "duration": 6,
    "start_time": "2021-07-03T17:01:12.345Z"
   },
   {
    "duration": 5,
    "start_time": "2021-07-03T17:01:14.853Z"
   },
   {
    "duration": 6,
    "start_time": "2021-07-03T17:01:16.668Z"
   },
   {
    "duration": 12,
    "start_time": "2021-07-03T17:56:50.425Z"
   },
   {
    "duration": 37,
    "start_time": "2021-07-03T18:00:49.160Z"
   },
   {
    "duration": 6,
    "start_time": "2021-07-03T18:01:00.984Z"
   },
   {
    "duration": 14,
    "start_time": "2021-07-03T18:02:50.004Z"
   },
   {
    "duration": 47,
    "start_time": "2021-07-03T18:04:56.593Z"
   },
   {
    "duration": 12,
    "start_time": "2021-07-03T18:05:20.936Z"
   },
   {
    "duration": 12,
    "start_time": "2021-07-03T18:06:07.785Z"
   },
   {
    "duration": 394,
    "start_time": "2021-07-03T18:07:36.292Z"
   },
   {
    "duration": 628,
    "start_time": "2021-07-03T18:07:44.355Z"
   },
   {
    "duration": 601,
    "start_time": "2021-07-03T18:08:15.036Z"
   },
   {
    "duration": 285,
    "start_time": "2021-07-03T18:08:26.975Z"
   },
   {
    "duration": 6,
    "start_time": "2021-07-03T18:09:44.261Z"
   },
   {
    "duration": 110,
    "start_time": "2021-07-03T18:09:44.923Z"
   },
   {
    "duration": 45,
    "start_time": "2021-07-03T18:14:13.855Z"
   },
   {
    "duration": 45,
    "start_time": "2021-07-03T18:14:21.195Z"
   },
   {
    "duration": 5,
    "start_time": "2021-07-03T18:19:19.712Z"
   },
   {
    "duration": 109,
    "start_time": "2021-07-03T18:19:19.979Z"
   },
   {
    "duration": 90,
    "start_time": "2021-07-03T18:26:49.718Z"
   },
   {
    "duration": 47,
    "start_time": "2021-07-03T18:26:55.566Z"
   },
   {
    "duration": 22,
    "start_time": "2021-07-03T18:30:40.406Z"
   },
   {
    "duration": 43,
    "start_time": "2021-07-03T18:30:54.750Z"
   },
   {
    "duration": 5,
    "start_time": "2021-07-03T18:31:42.783Z"
   },
   {
    "duration": 46,
    "start_time": "2021-07-03T18:32:41.706Z"
   },
   {
    "duration": 44,
    "start_time": "2021-07-03T18:34:25.862Z"
   },
   {
    "duration": 47,
    "start_time": "2021-07-03T18:34:27.950Z"
   },
   {
    "duration": 358,
    "start_time": "2021-07-03T18:49:11.177Z"
   },
   {
    "duration": 347,
    "start_time": "2021-07-03T18:49:43.526Z"
   },
   {
    "duration": 18,
    "start_time": "2021-07-03T18:50:21.549Z"
   },
   {
    "duration": 19,
    "start_time": "2021-07-03T18:50:31.188Z"
   },
   {
    "duration": 19,
    "start_time": "2021-07-03T18:50:37.949Z"
   },
   {
    "duration": 19,
    "start_time": "2021-07-03T18:50:45.597Z"
   },
   {
    "duration": 353,
    "start_time": "2021-07-03T18:51:02.553Z"
   },
   {
    "duration": 6,
    "start_time": "2021-07-03T19:03:16.876Z"
   },
   {
    "duration": 1118,
    "start_time": "2021-07-03T19:03:52.876Z"
   },
   {
    "duration": 4,
    "start_time": "2021-07-03T19:04:13.320Z"
   },
   {
    "duration": 6,
    "start_time": "2021-07-03T19:04:16.684Z"
   },
   {
    "duration": 582,
    "start_time": "2021-07-03T19:04:18.172Z"
   },
   {
    "duration": 12,
    "start_time": "2021-07-03T19:05:25.113Z"
   },
   {
    "duration": 13,
    "start_time": "2021-07-03T19:05:33.592Z"
   },
   {
    "duration": 16,
    "start_time": "2021-07-03T19:05:36.312Z"
   },
   {
    "duration": 15,
    "start_time": "2021-07-03T19:05:39.281Z"
   },
   {
    "duration": 12,
    "start_time": "2021-07-03T19:05:42.986Z"
   },
   {
    "duration": 12,
    "start_time": "2021-07-03T19:06:24.296Z"
   },
   {
    "duration": 12,
    "start_time": "2021-07-03T19:06:28.536Z"
   },
   {
    "duration": 7,
    "start_time": "2021-07-03T19:06:58.564Z"
   },
   {
    "duration": 7,
    "start_time": "2021-07-03T19:07:02.140Z"
   },
   {
    "duration": 597,
    "start_time": "2021-07-03T19:07:02.664Z"
   },
   {
    "duration": 747,
    "start_time": "2021-07-03T19:08:59.568Z"
   },
   {
    "duration": 88,
    "start_time": "2021-07-03T19:09:36.904Z"
   },
   {
    "duration": 5,
    "start_time": "2021-07-03T19:11:02.540Z"
   },
   {
    "duration": 626,
    "start_time": "2021-07-03T19:11:20.164Z"
   },
   {
    "duration": 632,
    "start_time": "2021-07-03T19:11:35.308Z"
   },
   {
    "duration": 524,
    "start_time": "2021-07-03T19:12:08.412Z"
   },
   {
    "duration": 473,
    "start_time": "2021-07-03T19:12:13.243Z"
   },
   {
    "duration": 12,
    "start_time": "2021-07-03T19:12:22.015Z"
   },
   {
    "duration": 12,
    "start_time": "2021-07-03T19:12:25.656Z"
   },
   {
    "duration": 544,
    "start_time": "2021-07-03T19:15:13.624Z"
   },
   {
    "duration": 459,
    "start_time": "2021-07-03T19:15:22.715Z"
   },
   {
    "duration": 427,
    "start_time": "2021-07-03T19:15:28.923Z"
   },
   {
    "duration": 490,
    "start_time": "2021-07-03T19:15:55.508Z"
   },
   {
    "duration": 513,
    "start_time": "2021-07-03T19:16:02.659Z"
   },
   {
    "duration": 465,
    "start_time": "2021-07-03T19:16:06.251Z"
   },
   {
    "duration": 499,
    "start_time": "2021-07-03T19:16:23.320Z"
   },
   {
    "duration": 471,
    "start_time": "2021-07-03T19:17:06.224Z"
   },
   {
    "duration": 459,
    "start_time": "2021-07-03T19:17:17.743Z"
   },
   {
    "duration": 436,
    "start_time": "2021-07-03T19:17:29.271Z"
   },
   {
    "duration": 420,
    "start_time": "2021-07-03T19:17:37.407Z"
   },
   {
    "duration": 556,
    "start_time": "2021-07-03T19:17:52.056Z"
   },
   {
    "duration": 406,
    "start_time": "2021-07-03T19:18:00.779Z"
   },
   {
    "duration": 406,
    "start_time": "2021-07-03T19:18:06.372Z"
   },
   {
    "duration": 422,
    "start_time": "2021-07-03T19:18:28.095Z"
   },
   {
    "duration": 419,
    "start_time": "2021-07-03T19:20:04.004Z"
   },
   {
    "duration": 438,
    "start_time": "2021-07-03T19:20:06.419Z"
   },
   {
    "duration": 6183,
    "start_time": "2021-07-03T19:21:18.071Z"
   },
   {
    "duration": 522,
    "start_time": "2021-07-03T19:21:31.574Z"
   },
   {
    "duration": 515,
    "start_time": "2021-07-03T19:21:44.183Z"
   },
   {
    "duration": 444,
    "start_time": "2021-07-03T19:21:47.591Z"
   },
   {
    "duration": 687,
    "start_time": "2021-07-03T19:22:12.967Z"
   },
   {
    "duration": 678,
    "start_time": "2021-07-03T19:22:24.399Z"
   },
   {
    "duration": 540,
    "start_time": "2021-07-03T19:22:29.023Z"
   },
   {
    "duration": 528,
    "start_time": "2021-07-03T19:22:34.807Z"
   },
   {
    "duration": 545,
    "start_time": "2021-07-03T19:22:41.119Z"
   },
   {
    "duration": 427,
    "start_time": "2021-07-03T19:23:50.288Z"
   },
   {
    "duration": 651,
    "start_time": "2021-07-03T19:24:08.287Z"
   },
   {
    "duration": 505,
    "start_time": "2021-07-03T19:24:24.159Z"
   },
   {
    "duration": 252,
    "start_time": "2021-07-04T08:14:25.560Z"
   },
   {
    "duration": 563,
    "start_time": "2021-07-04T08:14:28.549Z"
   },
   {
    "duration": 690,
    "start_time": "2021-07-04T08:14:30.737Z"
   },
   {
    "duration": 23,
    "start_time": "2021-07-04T08:14:31.920Z"
   },
   {
    "duration": 107,
    "start_time": "2021-07-04T08:14:56.776Z"
   },
   {
    "duration": 85,
    "start_time": "2021-07-04T08:14:57.296Z"
   },
   {
    "duration": 4,
    "start_time": "2021-07-04T08:15:00.912Z"
   },
   {
    "duration": 4,
    "start_time": "2021-07-04T08:15:01.785Z"
   },
   {
    "duration": 6,
    "start_time": "2021-07-04T08:15:03.128Z"
   },
   {
    "duration": 26,
    "start_time": "2021-07-04T08:15:12.876Z"
   },
   {
    "duration": 7,
    "start_time": "2021-07-04T08:15:20.229Z"
   },
   {
    "duration": 28,
    "start_time": "2021-07-04T08:15:21.192Z"
   },
   {
    "duration": 3,
    "start_time": "2021-07-04T08:15:22.273Z"
   },
   {
    "duration": 226,
    "start_time": "2021-07-04T08:15:39.240Z"
   },
   {
    "duration": 546,
    "start_time": "2021-07-04T08:15:57.841Z"
   },
   {
    "duration": 656,
    "start_time": "2021-07-04T08:15:58.389Z"
   },
   {
    "duration": 21,
    "start_time": "2021-07-04T08:15:59.047Z"
   },
   {
    "duration": 116,
    "start_time": "2021-07-04T08:15:59.070Z"
   },
   {
    "duration": 85,
    "start_time": "2021-07-04T08:15:59.188Z"
   },
   {
    "duration": 4,
    "start_time": "2021-07-04T08:15:59.274Z"
   },
   {
    "duration": 3,
    "start_time": "2021-07-04T08:15:59.291Z"
   },
   {
    "duration": 7,
    "start_time": "2021-07-04T08:15:59.296Z"
   },
   {
    "duration": 29,
    "start_time": "2021-07-04T08:16:04.664Z"
   },
   {
    "duration": 7,
    "start_time": "2021-07-04T08:16:06.029Z"
   },
   {
    "duration": 28,
    "start_time": "2021-07-04T08:16:07.201Z"
   },
   {
    "duration": 3,
    "start_time": "2021-07-04T08:16:08.369Z"
   },
   {
    "duration": 173,
    "start_time": "2021-07-04T08:16:09.241Z"
   },
   {
    "duration": 591,
    "start_time": "2021-07-04T08:16:36.145Z"
   },
   {
    "duration": 671,
    "start_time": "2021-07-04T08:16:36.738Z"
   },
   {
    "duration": 22,
    "start_time": "2021-07-04T08:16:37.410Z"
   },
   {
    "duration": 118,
    "start_time": "2021-07-04T08:16:37.434Z"
   },
   {
    "duration": 94,
    "start_time": "2021-07-04T08:16:37.553Z"
   },
   {
    "duration": 3,
    "start_time": "2021-07-04T08:16:37.649Z"
   },
   {
    "duration": 10,
    "start_time": "2021-07-04T08:16:37.653Z"
   },
   {
    "duration": 13,
    "start_time": "2021-07-04T08:16:37.665Z"
   },
   {
    "duration": 357,
    "start_time": "2021-07-04T08:16:40.049Z"
   },
   {
    "duration": 1017,
    "start_time": "2021-07-04T08:31:59.818Z"
   },
   {
    "duration": 755,
    "start_time": "2021-07-04T08:32:00.837Z"
   },
   {
    "duration": 23,
    "start_time": "2021-07-04T08:32:01.594Z"
   },
   {
    "duration": 125,
    "start_time": "2021-07-04T08:32:01.618Z"
   },
   {
    "duration": 95,
    "start_time": "2021-07-04T08:32:01.745Z"
   },
   {
    "duration": 3,
    "start_time": "2021-07-04T08:32:01.842Z"
   },
   {
    "duration": 25,
    "start_time": "2021-07-04T08:32:01.846Z"
   },
   {
    "duration": 15,
    "start_time": "2021-07-04T08:32:01.873Z"
   },
   {
    "duration": 45,
    "start_time": "2021-07-04T08:32:01.891Z"
   },
   {
    "duration": 12,
    "start_time": "2021-07-04T08:32:01.939Z"
   },
   {
    "duration": 39,
    "start_time": "2021-07-04T08:32:01.953Z"
   },
   {
    "duration": 8,
    "start_time": "2021-07-04T08:32:01.994Z"
   },
   {
    "duration": 6,
    "start_time": "2021-07-04T08:32:02.004Z"
   },
   {
    "duration": 146,
    "start_time": "2021-07-04T08:32:02.012Z"
   },
   {
    "duration": 52,
    "start_time": "2021-07-04T08:32:02.160Z"
   },
   {
    "duration": 26,
    "start_time": "2021-07-04T08:32:02.214Z"
   },
   {
    "duration": 65,
    "start_time": "2021-07-04T08:32:02.242Z"
   },
   {
    "duration": 28,
    "start_time": "2021-07-04T08:32:02.309Z"
   },
   {
    "duration": 62,
    "start_time": "2021-07-04T08:32:02.339Z"
   },
   {
    "duration": 26,
    "start_time": "2021-07-04T08:32:02.403Z"
   },
   {
    "duration": 66,
    "start_time": "2021-07-04T08:32:02.430Z"
   },
   {
    "duration": 25,
    "start_time": "2021-07-04T08:32:02.498Z"
   },
   {
    "duration": 67,
    "start_time": "2021-07-04T08:32:02.525Z"
   },
   {
    "duration": 25,
    "start_time": "2021-07-04T08:32:02.594Z"
   },
   {
    "duration": 74,
    "start_time": "2021-07-04T08:32:43.070Z"
   },
   {
    "duration": 73,
    "start_time": "2021-07-04T08:32:51.623Z"
   },
   {
    "duration": 826,
    "start_time": "2021-07-04T08:42:35.048Z"
   },
   {
    "duration": 730,
    "start_time": "2021-07-04T08:42:35.876Z"
   },
   {
    "duration": 23,
    "start_time": "2021-07-04T08:42:36.608Z"
   },
   {
    "duration": 136,
    "start_time": "2021-07-04T08:42:36.633Z"
   },
   {
    "duration": 98,
    "start_time": "2021-07-04T08:42:36.771Z"
   },
   {
    "duration": 4,
    "start_time": "2021-07-04T08:42:36.871Z"
   },
   {
    "duration": 20,
    "start_time": "2021-07-04T08:42:36.876Z"
   },
   {
    "duration": 8,
    "start_time": "2021-07-04T08:42:36.898Z"
   },
   {
    "duration": 31,
    "start_time": "2021-07-04T08:42:36.908Z"
   },
   {
    "duration": 12,
    "start_time": "2021-07-04T08:42:36.941Z"
   },
   {
    "duration": 38,
    "start_time": "2021-07-04T08:42:36.955Z"
   },
   {
    "duration": 4,
    "start_time": "2021-07-04T08:42:36.994Z"
   },
   {
    "duration": 10,
    "start_time": "2021-07-04T08:42:37.000Z"
   },
   {
    "duration": 90,
    "start_time": "2021-07-04T08:42:37.012Z"
   },
   {
    "duration": 29,
    "start_time": "2021-07-04T08:42:40.088Z"
   },
   {
    "duration": 38,
    "start_time": "2021-07-04T08:43:02.815Z"
   },
   {
    "duration": 854,
    "start_time": "2021-07-04T08:43:52.202Z"
   },
   {
    "duration": 744,
    "start_time": "2021-07-04T08:43:53.058Z"
   },
   {
    "duration": 22,
    "start_time": "2021-07-04T08:43:53.804Z"
   },
   {
    "duration": 122,
    "start_time": "2021-07-04T08:43:53.828Z"
   },
   {
    "duration": 91,
    "start_time": "2021-07-04T08:43:53.951Z"
   },
   {
    "duration": 4,
    "start_time": "2021-07-04T08:43:54.044Z"
   },
   {
    "duration": 12,
    "start_time": "2021-07-04T08:43:54.049Z"
   },
   {
    "duration": 8,
    "start_time": "2021-07-04T08:43:54.063Z"
   },
   {
    "duration": 45,
    "start_time": "2021-07-04T08:43:54.073Z"
   },
   {
    "duration": 11,
    "start_time": "2021-07-04T08:43:54.120Z"
   },
   {
    "duration": 35,
    "start_time": "2021-07-04T08:43:54.133Z"
   },
   {
    "duration": 4,
    "start_time": "2021-07-04T08:43:54.170Z"
   },
   {
    "duration": 16,
    "start_time": "2021-07-04T08:43:54.176Z"
   },
   {
    "duration": 92,
    "start_time": "2021-07-04T08:43:54.194Z"
   },
   {
    "duration": 31,
    "start_time": "2021-07-04T08:43:54.287Z"
   },
   {
    "duration": 19,
    "start_time": "2021-07-04T08:43:54.319Z"
   },
   {
    "duration": 34,
    "start_time": "2021-07-04T08:43:54.339Z"
   },
   {
    "duration": 24,
    "start_time": "2021-07-04T08:43:54.375Z"
   },
   {
    "duration": 37,
    "start_time": "2021-07-04T08:43:54.400Z"
   },
   {
    "duration": 16,
    "start_time": "2021-07-04T08:43:54.439Z"
   },
   {
    "duration": 38,
    "start_time": "2021-07-04T08:43:54.457Z"
   },
   {
    "duration": 16,
    "start_time": "2021-07-04T08:43:54.496Z"
   },
   {
    "duration": 35,
    "start_time": "2021-07-04T08:43:54.515Z"
   },
   {
    "duration": 22,
    "start_time": "2021-07-04T08:43:54.551Z"
   },
   {
    "duration": 82,
    "start_time": "2021-07-04T08:43:54.575Z"
   },
   {
    "duration": 3,
    "start_time": "2021-07-04T08:58:24.301Z"
   },
   {
    "duration": 316,
    "start_time": "2021-07-04T08:58:25.276Z"
   },
   {
    "duration": 75,
    "start_time": "2021-07-04T08:59:50.705Z"
   },
   {
    "duration": 3,
    "start_time": "2021-07-04T08:59:56.581Z"
   },
   {
    "duration": 1261,
    "start_time": "2021-07-04T08:59:57.324Z"
   },
   {
    "duration": 4,
    "start_time": "2021-07-04T09:07:15.948Z"
   },
   {
    "duration": 547,
    "start_time": "2021-07-04T09:07:37.032Z"
   },
   {
    "duration": 4,
    "start_time": "2021-07-04T09:08:58.360Z"
   },
   {
    "duration": 906,
    "start_time": "2021-07-04T09:08:59.124Z"
   },
   {
    "duration": 4,
    "start_time": "2021-07-04T09:09:02.780Z"
   },
   {
    "duration": 477,
    "start_time": "2021-07-04T09:09:03.824Z"
   },
   {
    "duration": 582,
    "start_time": "2021-07-04T09:10:11.032Z"
   },
   {
    "duration": 234,
    "start_time": "2021-07-04T09:11:19.075Z"
   },
   {
    "duration": 4,
    "start_time": "2021-07-04T09:11:21.472Z"
   },
   {
    "duration": 752,
    "start_time": "2021-07-04T09:11:22.115Z"
   },
   {
    "duration": 297,
    "start_time": "2021-07-04T09:11:25.884Z"
   },
   {
    "duration": 4,
    "start_time": "2021-07-04T09:11:56.184Z"
   },
   {
    "duration": 480,
    "start_time": "2021-07-04T09:11:57.044Z"
   },
   {
    "duration": 234,
    "start_time": "2021-07-04T09:12:05.176Z"
   },
   {
    "duration": 23,
    "start_time": "2021-07-04T09:29:23.942Z"
   },
   {
    "duration": 12,
    "start_time": "2021-07-04T09:30:59.538Z"
   },
   {
    "duration": 9,
    "start_time": "2021-07-04T09:31:04.450Z"
   },
   {
    "duration": 24,
    "start_time": "2021-07-04T09:31:21.698Z"
   },
   {
    "duration": 24,
    "start_time": "2021-07-04T09:31:37.850Z"
   },
   {
    "duration": 27,
    "start_time": "2021-07-04T09:31:56.654Z"
   },
   {
    "duration": 25,
    "start_time": "2021-07-04T09:32:25.654Z"
   },
   {
    "duration": 25,
    "start_time": "2021-07-04T09:33:15.718Z"
   },
   {
    "duration": 9,
    "start_time": "2021-07-04T09:33:45.979Z"
   },
   {
    "duration": 9,
    "start_time": "2021-07-04T09:33:48.810Z"
   },
   {
    "duration": 9,
    "start_time": "2021-07-04T09:33:51.059Z"
   },
   {
    "duration": 26,
    "start_time": "2021-07-04T09:34:10.034Z"
   },
   {
    "duration": 12,
    "start_time": "2021-07-04T09:35:08.022Z"
   },
   {
    "duration": 13,
    "start_time": "2021-07-04T09:37:05.358Z"
   },
   {
    "duration": 12,
    "start_time": "2021-07-04T09:37:13.335Z"
   },
   {
    "duration": 11,
    "start_time": "2021-07-04T09:37:16.087Z"
   },
   {
    "duration": 12,
    "start_time": "2021-07-04T09:43:23.222Z"
   },
   {
    "duration": 13,
    "start_time": "2021-07-04T09:43:46.005Z"
   },
   {
    "duration": 5,
    "start_time": "2021-07-04T09:45:19.937Z"
   },
   {
    "duration": 30,
    "start_time": "2021-07-04T09:45:20.482Z"
   },
   {
    "duration": 4,
    "start_time": "2021-07-04T09:45:21.337Z"
   },
   {
    "duration": 2,
    "start_time": "2021-07-04T09:46:57.282Z"
   },
   {
    "duration": 513,
    "start_time": "2021-07-04T09:48:53.789Z"
   },
   {
    "duration": 444,
    "start_time": "2021-07-04T09:50:50.875Z"
   },
   {
    "duration": 515,
    "start_time": "2021-07-04T09:50:58.813Z"
   },
   {
    "duration": 2446,
    "start_time": "2021-07-04T09:51:48.397Z"
   },
   {
    "duration": 2272,
    "start_time": "2021-07-04T09:52:15.516Z"
   },
   {
    "duration": 442,
    "start_time": "2021-07-04T09:52:30.800Z"
   },
   {
    "duration": 256,
    "start_time": "2021-07-04T09:52:53.133Z"
   },
   {
    "duration": 271,
    "start_time": "2021-07-04T10:03:45.747Z"
   },
   {
    "duration": 463,
    "start_time": "2021-07-04T10:08:23.895Z"
   },
   {
    "duration": 246,
    "start_time": "2021-07-04T10:08:35.368Z"
   },
   {
    "duration": 643,
    "start_time": "2021-07-04T10:08:45.968Z"
   },
   {
    "duration": 278,
    "start_time": "2021-07-04T10:10:36.008Z"
   },
   {
    "duration": 14,
    "start_time": "2021-07-04T10:11:14.172Z"
   },
   {
    "duration": 27,
    "start_time": "2021-07-04T10:11:18.315Z"
   },
   {
    "duration": 25,
    "start_time": "2021-07-04T10:17:05.282Z"
   },
   {
    "duration": 14,
    "start_time": "2021-07-04T10:19:18.299Z"
   },
   {
    "duration": 52,
    "start_time": "2021-07-04T10:19:28.695Z"
   },
   {
    "duration": 54,
    "start_time": "2021-07-04T10:19:50.203Z"
   },
   {
    "duration": 58,
    "start_time": "2021-07-04T10:20:07.291Z"
   },
   {
    "duration": 195,
    "start_time": "2021-07-04T10:20:53.803Z"
   },
   {
    "duration": 276,
    "start_time": "2021-07-04T10:21:06.783Z"
   },
   {
    "duration": 67,
    "start_time": "2021-07-04T10:21:09.839Z"
   },
   {
    "duration": 61,
    "start_time": "2021-07-04T10:21:27.778Z"
   },
   {
    "duration": 69,
    "start_time": "2021-07-04T10:22:56.843Z"
   },
   {
    "duration": 656,
    "start_time": "2021-07-04T10:32:51.270Z"
   },
   {
    "duration": 761,
    "start_time": "2021-07-04T10:32:51.928Z"
   },
   {
    "duration": 25,
    "start_time": "2021-07-04T10:32:52.692Z"
   },
   {
    "duration": 124,
    "start_time": "2021-07-04T10:32:52.718Z"
   },
   {
    "duration": 98,
    "start_time": "2021-07-04T10:32:52.843Z"
   },
   {
    "duration": 3,
    "start_time": "2021-07-04T10:32:52.942Z"
   },
   {
    "duration": 15,
    "start_time": "2021-07-04T10:32:52.947Z"
   },
   {
    "duration": 10,
    "start_time": "2021-07-04T10:32:52.964Z"
   },
   {
    "duration": 44,
    "start_time": "2021-07-04T10:32:52.976Z"
   },
   {
    "duration": 7,
    "start_time": "2021-07-04T10:32:53.022Z"
   },
   {
    "duration": 32,
    "start_time": "2021-07-04T10:32:53.030Z"
   },
   {
    "duration": 3,
    "start_time": "2021-07-04T10:32:53.064Z"
   },
   {
    "duration": 13,
    "start_time": "2021-07-04T10:32:53.069Z"
   },
   {
    "duration": 95,
    "start_time": "2021-07-04T10:32:53.084Z"
   },
   {
    "duration": 34,
    "start_time": "2021-07-04T10:32:53.181Z"
   },
   {
    "duration": 25,
    "start_time": "2021-07-04T10:32:53.217Z"
   },
   {
    "duration": 36,
    "start_time": "2021-07-04T10:32:53.243Z"
   },
   {
    "duration": 35,
    "start_time": "2021-07-04T10:32:53.280Z"
   },
   {
    "duration": 40,
    "start_time": "2021-07-04T10:32:53.317Z"
   },
   {
    "duration": 26,
    "start_time": "2021-07-04T10:32:53.358Z"
   },
   {
    "duration": 47,
    "start_time": "2021-07-04T10:32:53.386Z"
   },
   {
    "duration": 22,
    "start_time": "2021-07-04T10:32:53.434Z"
   },
   {
    "duration": 37,
    "start_time": "2021-07-04T10:32:53.458Z"
   },
   {
    "duration": 23,
    "start_time": "2021-07-04T10:32:53.497Z"
   },
   {
    "duration": 78,
    "start_time": "2021-07-04T10:32:53.522Z"
   },
   {
    "duration": 4,
    "start_time": "2021-07-04T10:33:01.952Z"
   },
   {
    "duration": 462,
    "start_time": "2021-07-04T10:39:18.609Z"
   },
   {
    "duration": 498,
    "start_time": "2021-07-04T10:40:08.762Z"
   },
   {
    "duration": 470,
    "start_time": "2021-07-04T10:40:24.773Z"
   },
   {
    "duration": 406,
    "start_time": "2021-07-04T10:40:34.913Z"
   },
   {
    "duration": 29,
    "start_time": "2021-07-04T10:40:48.753Z"
   },
   {
    "duration": 385,
    "start_time": "2021-07-04T10:41:16.225Z"
   },
   {
    "duration": 525,
    "start_time": "2021-07-04T10:41:25.013Z"
   },
   {
    "duration": 442,
    "start_time": "2021-07-04T10:41:31.489Z"
   },
   {
    "duration": 438,
    "start_time": "2021-07-04T10:41:49.473Z"
   },
   {
    "duration": 7,
    "start_time": "2021-07-04T10:42:13.621Z"
   },
   {
    "duration": 5,
    "start_time": "2021-07-04T10:42:16.193Z"
   },
   {
    "duration": 909,
    "start_time": "2021-07-04T16:13:20.631Z"
   },
   {
    "duration": 1108,
    "start_time": "2021-07-04T16:13:21.542Z"
   },
   {
    "duration": 36,
    "start_time": "2021-07-04T16:13:22.654Z"
   },
   {
    "duration": 184,
    "start_time": "2021-07-04T16:13:22.694Z"
   },
   {
    "duration": 142,
    "start_time": "2021-07-04T16:13:22.881Z"
   },
   {
    "duration": 7,
    "start_time": "2021-07-04T16:13:23.026Z"
   },
   {
    "duration": 6,
    "start_time": "2021-07-04T16:13:23.035Z"
   },
   {
    "duration": 6,
    "start_time": "2021-07-04T16:13:23.069Z"
   },
   {
    "duration": 40,
    "start_time": "2021-07-04T16:13:23.078Z"
   },
   {
    "duration": 16,
    "start_time": "2021-07-04T16:13:23.120Z"
   },
   {
    "duration": 75,
    "start_time": "2021-07-04T16:13:23.138Z"
   },
   {
    "duration": 6,
    "start_time": "2021-07-04T16:13:23.215Z"
   },
   {
    "duration": 5,
    "start_time": "2021-07-04T16:13:23.223Z"
   },
   {
    "duration": 147,
    "start_time": "2021-07-04T16:13:23.231Z"
   },
   {
    "duration": 45,
    "start_time": "2021-07-04T16:13:23.381Z"
   },
   {
    "duration": 38,
    "start_time": "2021-07-04T16:13:23.429Z"
   },
   {
    "duration": 55,
    "start_time": "2021-07-04T16:13:23.469Z"
   },
   {
    "duration": 43,
    "start_time": "2021-07-04T16:13:23.527Z"
   },
   {
    "duration": 58,
    "start_time": "2021-07-04T16:13:23.572Z"
   },
   {
    "duration": 35,
    "start_time": "2021-07-04T16:13:23.632Z"
   },
   {
    "duration": 44,
    "start_time": "2021-07-04T16:13:23.669Z"
   },
   {
    "duration": 22,
    "start_time": "2021-07-04T16:13:23.715Z"
   },
   {
    "duration": 65,
    "start_time": "2021-07-04T16:13:23.742Z"
   },
   {
    "duration": 22,
    "start_time": "2021-07-04T16:13:23.810Z"
   },
   {
    "duration": 134,
    "start_time": "2021-07-04T16:13:23.835Z"
   },
   {
    "duration": 7,
    "start_time": "2021-07-04T16:13:23.971Z"
   },
   {
    "duration": 967,
    "start_time": "2021-07-04T16:13:33.423Z"
   },
   {
    "duration": 530,
    "start_time": "2021-07-04T16:13:45.794Z"
   },
   {
    "duration": 4,
    "start_time": "2021-07-04T16:22:41.663Z"
   },
   {
    "duration": 444,
    "start_time": "2021-07-04T16:22:43.534Z"
   },
   {
    "duration": 50,
    "start_time": "2021-07-04T16:23:37.115Z"
   },
   {
    "duration": 5,
    "start_time": "2021-07-04T16:23:44.846Z"
   },
   {
    "duration": 905,
    "start_time": "2021-07-04T16:24:02.374Z"
   },
   {
    "duration": 12,
    "start_time": "2021-07-04T16:28:59.875Z"
   },
   {
    "duration": 814,
    "start_time": "2021-07-04T16:29:17.398Z"
   },
   {
    "duration": 17,
    "start_time": "2021-07-04T16:34:03.909Z"
   },
   {
    "duration": 1008,
    "start_time": "2021-07-04T16:35:02.310Z"
   },
   {
    "duration": 765,
    "start_time": "2021-07-04T16:35:09.519Z"
   },
   {
    "duration": 821,
    "start_time": "2021-07-04T16:35:14.073Z"
   },
   {
    "duration": 892,
    "start_time": "2021-07-04T16:35:23.865Z"
   },
   {
    "duration": 866,
    "start_time": "2021-07-04T16:39:13.453Z"
   },
   {
    "duration": 762,
    "start_time": "2021-07-04T16:39:25.949Z"
   },
   {
    "duration": 810,
    "start_time": "2021-07-04T16:39:29.569Z"
   },
   {
    "duration": 467,
    "start_time": "2021-07-04T16:39:56.193Z"
   },
   {
    "duration": 36,
    "start_time": "2021-07-04T16:44:41.901Z"
   },
   {
    "duration": 998,
    "start_time": "2021-07-04T16:45:16.677Z"
   },
   {
    "duration": 458,
    "start_time": "2021-07-04T16:46:12.740Z"
   },
   {
    "duration": 17,
    "start_time": "2021-07-04T16:48:23.676Z"
   },
   {
    "duration": 52,
    "start_time": "2021-07-04T16:48:49.605Z"
   },
   {
    "duration": 853,
    "start_time": "2021-07-04T16:49:11.164Z"
   },
   {
    "duration": 482,
    "start_time": "2021-07-04T16:52:35.868Z"
   },
   {
    "duration": 543,
    "start_time": "2021-07-04T16:53:07.476Z"
   },
   {
    "duration": 101,
    "start_time": "2021-07-04T16:53:40.580Z"
   },
   {
    "duration": 85,
    "start_time": "2021-07-04T16:59:51.260Z"
   },
   {
    "duration": 95,
    "start_time": "2021-07-04T16:59:56.592Z"
   },
   {
    "duration": 18,
    "start_time": "2021-07-04T17:00:45.111Z"
   },
   {
    "duration": 12,
    "start_time": "2021-07-04T17:01:11.964Z"
   },
   {
    "duration": 12,
    "start_time": "2021-07-04T17:01:17.296Z"
   },
   {
    "duration": 18,
    "start_time": "2021-07-04T17:01:22.760Z"
   },
   {
    "duration": 16,
    "start_time": "2021-07-04T17:01:31.936Z"
   },
   {
    "duration": 139,
    "start_time": "2021-07-04T17:05:31.656Z"
   },
   {
    "duration": 5,
    "start_time": "2021-07-04T17:05:36.743Z"
   },
   {
    "duration": 133,
    "start_time": "2021-07-04T17:06:22.140Z"
   },
   {
    "duration": 17,
    "start_time": "2021-07-04T17:10:46.075Z"
   },
   {
    "duration": 136,
    "start_time": "2021-07-04T17:11:18.867Z"
   },
   {
    "duration": 7,
    "start_time": "2021-07-04T17:14:56.199Z"
   },
   {
    "duration": 899,
    "start_time": "2021-07-04T17:21:37.080Z"
   },
   {
    "duration": 1109,
    "start_time": "2021-07-04T17:21:37.982Z"
   },
   {
    "duration": 24,
    "start_time": "2021-07-04T17:21:39.094Z"
   },
   {
    "duration": 183,
    "start_time": "2021-07-04T17:21:39.121Z"
   },
   {
    "duration": 134,
    "start_time": "2021-07-04T17:21:39.307Z"
   },
   {
    "duration": 5,
    "start_time": "2021-07-04T17:21:39.443Z"
   },
   {
    "duration": 19,
    "start_time": "2021-07-04T17:21:39.450Z"
   },
   {
    "duration": 6,
    "start_time": "2021-07-04T17:21:39.473Z"
   },
   {
    "duration": 41,
    "start_time": "2021-07-04T17:21:39.483Z"
   },
   {
    "duration": 41,
    "start_time": "2021-07-04T17:21:39.527Z"
   },
   {
    "duration": 44,
    "start_time": "2021-07-04T17:21:39.571Z"
   },
   {
    "duration": 8,
    "start_time": "2021-07-04T17:21:39.617Z"
   },
   {
    "duration": 6,
    "start_time": "2021-07-04T17:21:39.627Z"
   },
   {
    "duration": 136,
    "start_time": "2021-07-04T17:21:39.635Z"
   },
   {
    "duration": 46,
    "start_time": "2021-07-04T17:21:39.773Z"
   },
   {
    "duration": 46,
    "start_time": "2021-07-04T17:21:39.821Z"
   },
   {
    "duration": 46,
    "start_time": "2021-07-04T17:21:39.869Z"
   },
   {
    "duration": 22,
    "start_time": "2021-07-04T17:21:39.918Z"
   },
   {
    "duration": 72,
    "start_time": "2021-07-04T17:21:39.942Z"
   },
   {
    "duration": 25,
    "start_time": "2021-07-04T17:21:40.016Z"
   },
   {
    "duration": 61,
    "start_time": "2021-07-04T17:21:40.044Z"
   },
   {
    "duration": 23,
    "start_time": "2021-07-04T17:21:40.107Z"
   },
   {
    "duration": 65,
    "start_time": "2021-07-04T17:21:40.135Z"
   },
   {
    "duration": 25,
    "start_time": "2021-07-04T17:21:40.203Z"
   },
   {
    "duration": 116,
    "start_time": "2021-07-04T17:21:40.230Z"
   },
   {
    "duration": 6,
    "start_time": "2021-07-04T17:21:40.348Z"
   },
   {
    "duration": 877,
    "start_time": "2021-07-04T17:21:40.357Z"
   },
   {
    "duration": 548,
    "start_time": "2021-07-04T17:21:41.237Z"
   },
   {
    "duration": 52,
    "start_time": "2021-07-04T17:21:41.787Z"
   },
   {
    "duration": 875,
    "start_time": "2021-07-04T17:21:41.841Z"
   },
   {
    "duration": 585,
    "start_time": "2021-07-04T17:21:42.719Z"
   },
   {
    "duration": 37,
    "start_time": "2021-07-04T17:21:43.307Z"
   },
   {
    "duration": 967,
    "start_time": "2021-07-04T17:21:43.347Z"
   },
   {
    "duration": 477,
    "start_time": "2021-07-04T17:21:44.316Z"
   },
   {
    "duration": 17,
    "start_time": "2021-07-04T17:21:44.795Z"
   },
   {
    "duration": 71,
    "start_time": "2021-07-04T17:21:44.814Z"
   },
   {
    "duration": 860,
    "start_time": "2021-07-04T17:21:44.887Z"
   },
   {
    "duration": 494,
    "start_time": "2021-07-04T17:21:45.749Z"
   },
   {
    "duration": 476,
    "start_time": "2021-07-04T17:21:46.246Z"
   },
   {
    "duration": 144,
    "start_time": "2021-07-04T17:21:46.724Z"
   },
   {
    "duration": 17,
    "start_time": "2021-07-04T17:21:46.870Z"
   },
   {
    "duration": 6,
    "start_time": "2021-07-04T17:21:49.722Z"
   },
   {
    "duration": 159114,
    "start_time": "2021-07-04T17:21:51.039Z"
   },
   {
    "duration": 131,
    "start_time": "2021-07-04T17:24:42.716Z"
   },
   {
    "duration": 126,
    "start_time": "2021-07-04T17:24:55.851Z"
   },
   {
    "duration": 5,
    "start_time": "2021-07-04T17:26:09.508Z"
   },
   {
    "duration": 171584,
    "start_time": "2021-07-04T17:26:10.379Z"
   },
   {
    "duration": 15,
    "start_time": "2021-07-04T17:30:08.103Z"
   },
   {
    "duration": 376,
    "start_time": "2021-07-04T17:31:17.826Z"
   },
   {
    "duration": 90,
    "start_time": "2021-07-04T17:31:27.810Z"
   },
   {
    "duration": 336,
    "start_time": "2021-07-04T17:31:34.603Z"
   },
   {
    "duration": 329,
    "start_time": "2021-07-04T17:31:51.271Z"
   },
   {
    "duration": 6,
    "start_time": "2021-07-04T17:32:10.403Z"
   },
   {
    "duration": 872,
    "start_time": "2021-07-04T17:34:53.270Z"
   },
   {
    "duration": 1125,
    "start_time": "2021-07-04T17:34:54.145Z"
   },
   {
    "duration": 26,
    "start_time": "2021-07-04T17:34:55.276Z"
   },
   {
    "duration": 192,
    "start_time": "2021-07-04T17:34:55.304Z"
   },
   {
    "duration": 134,
    "start_time": "2021-07-04T17:34:55.499Z"
   },
   {
    "duration": 6,
    "start_time": "2021-07-04T17:34:55.636Z"
   },
   {
    "duration": 21,
    "start_time": "2021-07-04T17:34:55.646Z"
   },
   {
    "duration": 8,
    "start_time": "2021-07-04T17:34:55.670Z"
   },
   {
    "duration": 42,
    "start_time": "2021-07-04T17:34:55.680Z"
   },
   {
    "duration": 24,
    "start_time": "2021-07-04T17:34:55.724Z"
   },
   {
    "duration": 64,
    "start_time": "2021-07-04T17:34:55.750Z"
   },
   {
    "duration": 5,
    "start_time": "2021-07-04T17:34:55.816Z"
   },
   {
    "duration": 6,
    "start_time": "2021-07-04T17:34:55.823Z"
   },
   {
    "duration": 145,
    "start_time": "2021-07-04T17:34:55.831Z"
   },
   {
    "duration": 47,
    "start_time": "2021-07-04T17:34:55.978Z"
   },
   {
    "duration": 44,
    "start_time": "2021-07-04T17:34:56.028Z"
   },
   {
    "duration": 46,
    "start_time": "2021-07-04T17:34:56.075Z"
   },
   {
    "duration": 47,
    "start_time": "2021-07-04T17:34:56.124Z"
   },
   {
    "duration": 49,
    "start_time": "2021-07-04T17:34:56.174Z"
   },
   {
    "duration": 43,
    "start_time": "2021-07-04T17:34:56.225Z"
   },
   {
    "duration": 53,
    "start_time": "2021-07-04T17:34:56.270Z"
   },
   {
    "duration": 43,
    "start_time": "2021-07-04T17:34:56.328Z"
   },
   {
    "duration": 50,
    "start_time": "2021-07-04T17:34:56.374Z"
   },
   {
    "duration": 40,
    "start_time": "2021-07-04T17:34:56.426Z"
   },
   {
    "duration": 106,
    "start_time": "2021-07-04T17:34:56.469Z"
   },
   {
    "duration": 7,
    "start_time": "2021-07-04T17:34:56.577Z"
   },
   {
    "duration": 883,
    "start_time": "2021-07-04T17:34:56.586Z"
   },
   {
    "duration": 553,
    "start_time": "2021-07-04T17:34:57.471Z"
   },
   {
    "duration": 70,
    "start_time": "2021-07-04T17:34:58.027Z"
   },
   {
    "duration": 874,
    "start_time": "2021-07-04T17:34:58.099Z"
   },
   {
    "duration": 476,
    "start_time": "2021-07-04T17:34:58.976Z"
   },
   {
    "duration": 44,
    "start_time": "2021-07-04T17:34:59.454Z"
   },
   {
    "duration": 943,
    "start_time": "2021-07-04T17:34:59.500Z"
   },
   {
    "duration": 486,
    "start_time": "2021-07-04T17:35:00.445Z"
   },
   {
    "duration": 34,
    "start_time": "2021-07-04T17:35:00.933Z"
   },
   {
    "duration": 48,
    "start_time": "2021-07-04T17:35:00.970Z"
   },
   {
    "duration": 886,
    "start_time": "2021-07-04T17:35:01.020Z"
   },
   {
    "duration": 497,
    "start_time": "2021-07-04T17:35:01.908Z"
   },
   {
    "duration": 463,
    "start_time": "2021-07-04T17:35:02.408Z"
   },
   {
    "duration": 110,
    "start_time": "2021-07-04T17:35:02.873Z"
   },
   {
    "duration": 17,
    "start_time": "2021-07-04T17:35:02.986Z"
   },
   {
    "duration": 8,
    "start_time": "2021-07-04T17:35:03.005Z"
   },
   {
    "duration": 408,
    "start_time": "2021-07-04T17:45:06.940Z"
   },
   {
    "duration": 891,
    "start_time": "2021-07-04T17:45:10.635Z"
   },
   {
    "duration": 1083,
    "start_time": "2021-07-04T17:45:11.528Z"
   },
   {
    "duration": 24,
    "start_time": "2021-07-04T17:45:12.614Z"
   },
   {
    "duration": 184,
    "start_time": "2021-07-04T17:45:12.641Z"
   },
   {
    "duration": 134,
    "start_time": "2021-07-04T17:45:12.827Z"
   },
   {
    "duration": 5,
    "start_time": "2021-07-04T17:45:12.968Z"
   },
   {
    "duration": 7,
    "start_time": "2021-07-04T17:45:12.976Z"
   },
   {
    "duration": 11,
    "start_time": "2021-07-04T17:45:12.987Z"
   },
   {
    "duration": 70,
    "start_time": "2021-07-04T17:45:13.001Z"
   },
   {
    "duration": 18,
    "start_time": "2021-07-04T17:45:13.074Z"
   },
   {
    "duration": 47,
    "start_time": "2021-07-04T17:45:13.094Z"
   },
   {
    "duration": 25,
    "start_time": "2021-07-04T17:45:13.143Z"
   },
   {
    "duration": 10,
    "start_time": "2021-07-04T17:45:13.171Z"
   },
   {
    "duration": 140,
    "start_time": "2021-07-04T17:45:13.183Z"
   },
   {
    "duration": 87,
    "start_time": "2021-07-04T17:45:13.325Z"
   },
   {
    "duration": 56,
    "start_time": "2021-07-04T17:45:13.415Z"
   },
   {
    "duration": 86,
    "start_time": "2021-07-04T17:45:13.474Z"
   },
   {
    "duration": 36,
    "start_time": "2021-07-04T17:45:13.567Z"
   },
   {
    "duration": 97,
    "start_time": "2021-07-04T17:45:13.606Z"
   },
   {
    "duration": 36,
    "start_time": "2021-07-04T17:45:13.706Z"
   },
   {
    "duration": 98,
    "start_time": "2021-07-04T17:45:13.745Z"
   },
   {
    "duration": 43,
    "start_time": "2021-07-04T17:45:13.846Z"
   },
   {
    "duration": 50,
    "start_time": "2021-07-04T17:45:13.894Z"
   },
   {
    "duration": 21,
    "start_time": "2021-07-04T17:45:13.967Z"
   },
   {
    "duration": 113,
    "start_time": "2021-07-04T17:45:13.991Z"
   },
   {
    "duration": 7,
    "start_time": "2021-07-04T17:45:14.107Z"
   },
   {
    "duration": 887,
    "start_time": "2021-07-04T17:45:14.116Z"
   },
   {
    "duration": 541,
    "start_time": "2021-07-04T17:45:15.006Z"
   },
   {
    "duration": 69,
    "start_time": "2021-07-04T17:45:15.550Z"
   },
   {
    "duration": 859,
    "start_time": "2021-07-04T17:45:15.622Z"
   },
   {
    "duration": 473,
    "start_time": "2021-07-04T17:45:16.483Z"
   },
   {
    "duration": 38,
    "start_time": "2021-07-04T17:45:16.959Z"
   },
   {
    "duration": 925,
    "start_time": "2021-07-04T17:45:17.000Z"
   },
   {
    "duration": 470,
    "start_time": "2021-07-04T17:45:17.927Z"
   },
   {
    "duration": 18,
    "start_time": "2021-07-04T17:45:18.399Z"
   },
   {
    "duration": 73,
    "start_time": "2021-07-04T17:45:18.419Z"
   },
   {
    "duration": 854,
    "start_time": "2021-07-04T17:45:18.494Z"
   },
   {
    "duration": 490,
    "start_time": "2021-07-04T17:45:19.351Z"
   },
   {
    "duration": 447,
    "start_time": "2021-07-04T17:45:19.843Z"
   },
   {
    "duration": 88,
    "start_time": "2021-07-04T17:45:22.191Z"
   },
   {
    "duration": 9725,
    "start_time": "2021-07-04T17:46:04.007Z"
   },
   {
    "duration": 9439,
    "start_time": "2021-07-04T17:46:25.207Z"
   },
   {
    "duration": 7587,
    "start_time": "2021-07-04T17:47:35.638Z"
   },
   {
    "duration": 171,
    "start_time": "2021-07-04T17:48:03.376Z"
   },
   {
    "duration": 16,
    "start_time": "2021-07-04T17:48:05.334Z"
   },
   {
    "duration": 11,
    "start_time": "2021-07-04T17:48:21.754Z"
   },
   {
    "duration": 12,
    "start_time": "2021-07-04T17:49:03.394Z"
   },
   {
    "duration": 98,
    "start_time": "2021-07-04T17:49:06.714Z"
   },
   {
    "duration": 14,
    "start_time": "2021-07-04T17:49:07.426Z"
   },
   {
    "duration": 11,
    "start_time": "2021-07-04T17:49:33.750Z"
   },
   {
    "duration": 10,
    "start_time": "2021-07-04T17:50:03.674Z"
   },
   {
    "duration": 10,
    "start_time": "2021-07-04T17:50:25.618Z"
   },
   {
    "duration": 6,
    "start_time": "2021-07-04T17:52:53.317Z"
   },
   {
    "duration": 416,
    "start_time": "2021-07-04T18:45:13.798Z"
   },
   {
    "duration": 886,
    "start_time": "2021-07-04T18:45:29.611Z"
   },
   {
    "duration": 1149,
    "start_time": "2021-07-04T18:45:30.499Z"
   },
   {
    "duration": 34,
    "start_time": "2021-07-04T18:45:31.651Z"
   },
   {
    "duration": 247,
    "start_time": "2021-07-04T18:45:31.689Z"
   },
   {
    "duration": 148,
    "start_time": "2021-07-04T18:45:31.939Z"
   },
   {
    "duration": 5,
    "start_time": "2021-07-04T18:45:32.089Z"
   },
   {
    "duration": 6,
    "start_time": "2021-07-04T18:45:32.097Z"
   },
   {
    "duration": 15,
    "start_time": "2021-07-04T18:45:32.106Z"
   },
   {
    "duration": 68,
    "start_time": "2021-07-04T18:45:32.124Z"
   },
   {
    "duration": 14,
    "start_time": "2021-07-04T18:45:32.194Z"
   },
   {
    "duration": 61,
    "start_time": "2021-07-04T18:45:32.211Z"
   },
   {
    "duration": 15,
    "start_time": "2021-07-04T18:45:32.275Z"
   },
   {
    "duration": 24,
    "start_time": "2021-07-04T18:45:32.295Z"
   },
   {
    "duration": 136,
    "start_time": "2021-07-04T18:45:32.321Z"
   },
   {
    "duration": 70,
    "start_time": "2021-07-04T18:45:32.460Z"
   },
   {
    "duration": 44,
    "start_time": "2021-07-04T18:45:32.533Z"
   },
   {
    "duration": 71,
    "start_time": "2021-07-04T18:45:32.579Z"
   },
   {
    "duration": 27,
    "start_time": "2021-07-04T18:45:32.667Z"
   },
   {
    "duration": 87,
    "start_time": "2021-07-04T18:45:32.697Z"
   },
   {
    "duration": 31,
    "start_time": "2021-07-04T18:45:32.787Z"
   },
   {
    "duration": 80,
    "start_time": "2021-07-04T18:45:32.821Z"
   },
   {
    "duration": 22,
    "start_time": "2021-07-04T18:45:32.903Z"
   },
   {
    "duration": 92,
    "start_time": "2021-07-04T18:45:32.930Z"
   },
   {
    "duration": 21,
    "start_time": "2021-07-04T18:45:33.025Z"
   },
   {
    "duration": 125,
    "start_time": "2021-07-04T18:45:33.048Z"
   },
   {
    "duration": 10,
    "start_time": "2021-07-04T18:45:33.176Z"
   },
   {
    "duration": 958,
    "start_time": "2021-07-04T18:45:33.189Z"
   },
   {
    "duration": 569,
    "start_time": "2021-07-04T18:45:34.149Z"
   },
   {
    "duration": 64,
    "start_time": "2021-07-04T18:45:34.721Z"
   },
   {
    "duration": 1358,
    "start_time": "2021-07-04T18:45:34.788Z"
   },
   {
    "duration": 709,
    "start_time": "2021-07-04T18:45:36.149Z"
   },
   {
    "duration": 35,
    "start_time": "2021-07-04T18:45:36.868Z"
   },
   {
    "duration": 967,
    "start_time": "2021-07-04T18:45:36.905Z"
   },
   {
    "duration": 485,
    "start_time": "2021-07-04T18:45:37.874Z"
   },
   {
    "duration": 20,
    "start_time": "2021-07-04T18:45:38.366Z"
   },
   {
    "duration": 45,
    "start_time": "2021-07-04T18:45:38.389Z"
   },
   {
    "duration": 905,
    "start_time": "2021-07-04T18:45:38.436Z"
   },
   {
    "duration": 494,
    "start_time": "2021-07-04T18:45:39.344Z"
   },
   {
    "duration": 485,
    "start_time": "2021-07-04T18:45:39.840Z"
   },
   {
    "duration": 112,
    "start_time": "2021-07-04T18:45:40.327Z"
   },
   {
    "duration": 28,
    "start_time": "2021-07-04T18:45:40.442Z"
   },
   {
    "duration": 6,
    "start_time": "2021-07-04T18:45:43.368Z"
   },
   {
    "duration": 16,
    "start_time": "2021-07-04T18:45:45.147Z"
   },
   {
    "duration": 27,
    "start_time": "2021-07-04T18:45:57.364Z"
   },
   {
    "duration": 5,
    "start_time": "2021-07-04T18:46:03.791Z"
   },
   {
    "duration": 344,
    "start_time": "2021-07-04T18:54:02.304Z"
   },
   {
    "duration": 1186,
    "start_time": "2021-07-04T18:54:06.123Z"
   },
   {
    "duration": 1534,
    "start_time": "2021-07-04T18:54:07.312Z"
   },
   {
    "duration": 44,
    "start_time": "2021-07-04T18:54:08.850Z"
   },
   {
    "duration": 287,
    "start_time": "2021-07-04T18:54:08.898Z"
   },
   {
    "duration": 137,
    "start_time": "2021-07-04T18:54:09.187Z"
   },
   {
    "duration": 5,
    "start_time": "2021-07-04T18:54:09.326Z"
   },
   {
    "duration": 34,
    "start_time": "2021-07-04T18:54:09.333Z"
   },
   {
    "duration": 7,
    "start_time": "2021-07-04T18:54:09.372Z"
   },
   {
    "duration": 48,
    "start_time": "2021-07-04T18:54:09.383Z"
   },
   {
    "duration": 41,
    "start_time": "2021-07-04T18:54:09.434Z"
   },
   {
    "duration": 54,
    "start_time": "2021-07-04T18:54:09.477Z"
   },
   {
    "duration": 6,
    "start_time": "2021-07-04T18:54:09.534Z"
   },
   {
    "duration": 28,
    "start_time": "2021-07-04T18:54:09.543Z"
   },
   {
    "duration": 212,
    "start_time": "2021-07-04T18:54:09.574Z"
   },
   {
    "duration": 46,
    "start_time": "2021-07-04T18:54:09.789Z"
   },
   {
    "duration": 45,
    "start_time": "2021-07-04T18:54:09.837Z"
   },
   {
    "duration": 49,
    "start_time": "2021-07-04T18:54:09.885Z"
   },
   {
    "duration": 32,
    "start_time": "2021-07-04T18:54:09.936Z"
   },
   {
    "duration": 57,
    "start_time": "2021-07-04T18:54:09.970Z"
   },
   {
    "duration": 39,
    "start_time": "2021-07-04T18:54:10.029Z"
   },
   {
    "duration": 57,
    "start_time": "2021-07-04T18:54:10.070Z"
   },
   {
    "duration": 38,
    "start_time": "2021-07-04T18:54:10.130Z"
   },
   {
    "duration": 71,
    "start_time": "2021-07-04T18:54:10.175Z"
   },
   {
    "duration": 38,
    "start_time": "2021-07-04T18:54:10.250Z"
   },
   {
    "duration": 122,
    "start_time": "2021-07-04T18:54:10.291Z"
   },
   {
    "duration": 7,
    "start_time": "2021-07-04T18:54:10.416Z"
   },
   {
    "duration": 934,
    "start_time": "2021-07-04T18:54:10.426Z"
   },
   {
    "duration": 568,
    "start_time": "2021-07-04T18:54:11.367Z"
   },
   {
    "duration": 69,
    "start_time": "2021-07-04T18:54:11.938Z"
   },
   {
    "duration": 919,
    "start_time": "2021-07-04T18:54:12.009Z"
   },
   {
    "duration": 500,
    "start_time": "2021-07-04T18:54:12.931Z"
   },
   {
    "duration": 46,
    "start_time": "2021-07-04T18:54:13.433Z"
   },
   {
    "duration": 1005,
    "start_time": "2021-07-04T18:54:13.482Z"
   },
   {
    "duration": 507,
    "start_time": "2021-07-04T18:54:14.490Z"
   },
   {
    "duration": 17,
    "start_time": "2021-07-04T18:54:14.999Z"
   },
   {
    "duration": 71,
    "start_time": "2021-07-04T18:54:15.019Z"
   },
   {
    "duration": 892,
    "start_time": "2021-07-04T18:54:15.092Z"
   },
   {
    "duration": 533,
    "start_time": "2021-07-04T18:54:15.987Z"
   },
   {
    "duration": 539,
    "start_time": "2021-07-04T18:54:16.523Z"
   },
   {
    "duration": 116,
    "start_time": "2021-07-04T18:54:17.067Z"
   },
   {
    "duration": 17,
    "start_time": "2021-07-04T18:54:17.186Z"
   },
   {
    "duration": 12,
    "start_time": "2021-07-04T18:54:17.205Z"
   },
   {
    "duration": 24,
    "start_time": "2021-07-04T18:54:17.219Z"
   },
   {
    "duration": 122,
    "start_time": "2021-07-04T18:54:17.245Z"
   },
   {
    "duration": 9,
    "start_time": "2021-07-04T18:54:56.563Z"
   },
   {
    "duration": 18199,
    "start_time": "2021-07-04T18:54:57.451Z"
   },
   {
    "duration": 17,
    "start_time": "2021-07-04T18:55:23.630Z"
   },
   {
    "duration": 7,
    "start_time": "2021-07-04T18:55:41.523Z"
   },
   {
    "duration": 68639,
    "start_time": "2021-07-04T18:55:42.708Z"
   },
   {
    "duration": 855,
    "start_time": "2021-07-04T18:56:59.202Z"
   },
   {
    "duration": 1131,
    "start_time": "2021-07-04T18:57:00.059Z"
   },
   {
    "duration": 24,
    "start_time": "2021-07-04T18:57:01.193Z"
   },
   {
    "duration": 191,
    "start_time": "2021-07-04T18:57:01.220Z"
   },
   {
    "duration": 139,
    "start_time": "2021-07-04T18:57:01.413Z"
   },
   {
    "duration": 12,
    "start_time": "2021-07-04T18:57:01.555Z"
   },
   {
    "duration": 16,
    "start_time": "2021-07-04T18:57:01.570Z"
   },
   {
    "duration": 18,
    "start_time": "2021-07-04T18:57:01.591Z"
   },
   {
    "duration": 58,
    "start_time": "2021-07-04T18:57:01.613Z"
   },
   {
    "duration": 37,
    "start_time": "2021-07-04T18:57:01.675Z"
   },
   {
    "duration": 54,
    "start_time": "2021-07-04T18:57:01.715Z"
   },
   {
    "duration": 25,
    "start_time": "2021-07-04T18:57:01.772Z"
   },
   {
    "duration": 28,
    "start_time": "2021-07-04T18:57:01.800Z"
   },
   {
    "duration": 136,
    "start_time": "2021-07-04T18:57:01.830Z"
   },
   {
    "duration": 50,
    "start_time": "2021-07-04T18:57:01.969Z"
   },
   {
    "duration": 24,
    "start_time": "2021-07-04T18:57:02.021Z"
   },
   {
    "duration": 50,
    "start_time": "2021-07-04T18:57:02.069Z"
   },
   {
    "duration": 57,
    "start_time": "2021-07-04T18:57:02.122Z"
   },
   {
    "duration": 69,
    "start_time": "2021-07-04T18:57:02.182Z"
   },
   {
    "duration": 25,
    "start_time": "2021-07-04T18:57:02.254Z"
   },
   {
    "duration": 63,
    "start_time": "2021-07-04T18:57:02.281Z"
   },
   {
    "duration": 23,
    "start_time": "2021-07-04T18:57:02.346Z"
   },
   {
    "duration": 55,
    "start_time": "2021-07-04T18:57:02.376Z"
   },
   {
    "duration": 36,
    "start_time": "2021-07-04T18:57:02.434Z"
   },
   {
    "duration": 141,
    "start_time": "2021-07-04T18:57:02.473Z"
   },
   {
    "duration": 6,
    "start_time": "2021-07-04T18:57:02.617Z"
   },
   {
    "duration": 899,
    "start_time": "2021-07-04T18:57:02.626Z"
   },
   {
    "duration": 567,
    "start_time": "2021-07-04T18:57:03.527Z"
   },
   {
    "duration": 50,
    "start_time": "2021-07-04T18:57:04.097Z"
   },
   {
    "duration": 1262,
    "start_time": "2021-07-04T18:57:04.150Z"
   },
   {
    "duration": 702,
    "start_time": "2021-07-04T18:57:05.415Z"
   },
   {
    "duration": 52,
    "start_time": "2021-07-04T18:57:06.120Z"
   },
   {
    "duration": 1296,
    "start_time": "2021-07-04T18:57:06.175Z"
   },
   {
    "duration": 524,
    "start_time": "2021-07-04T18:57:07.473Z"
   },
   {
    "duration": 18,
    "start_time": "2021-07-04T18:57:07.999Z"
   },
   {
    "duration": 65,
    "start_time": "2021-07-04T18:57:08.019Z"
   },
   {
    "duration": 889,
    "start_time": "2021-07-04T18:57:08.087Z"
   },
   {
    "duration": 697,
    "start_time": "2021-07-04T18:57:08.979Z"
   },
   {
    "duration": 457,
    "start_time": "2021-07-04T18:57:09.678Z"
   },
   {
    "duration": 113,
    "start_time": "2021-07-04T18:57:10.137Z"
   },
   {
    "duration": 22,
    "start_time": "2021-07-04T18:57:10.252Z"
   },
   {
    "duration": 559,
    "start_time": "2021-07-04T18:57:40.138Z"
   },
   {
    "duration": 155,
    "start_time": "2021-07-04T18:58:04.338Z"
   },
   {
    "duration": 129,
    "start_time": "2021-07-04T18:58:41.786Z"
   },
   {
    "duration": 155,
    "start_time": "2021-07-04T18:58:44.626Z"
   },
   {
    "duration": 151,
    "start_time": "2021-07-04T18:59:02.450Z"
   },
   {
    "duration": 95,
    "start_time": "2021-07-04T18:59:11.394Z"
   },
   {
    "duration": 174,
    "start_time": "2021-07-04T18:59:14.210Z"
   },
   {
    "duration": 146,
    "start_time": "2021-07-04T18:59:21.986Z"
   },
   {
    "duration": 91,
    "start_time": "2021-07-04T19:01:56.698Z"
   },
   {
    "duration": 104,
    "start_time": "2021-07-04T19:02:12.543Z"
   },
   {
    "duration": 5,
    "start_time": "2021-07-04T19:02:39.658Z"
   },
   {
    "duration": 843,
    "start_time": "2021-07-04T19:02:40.557Z"
   },
   {
    "duration": 99,
    "start_time": "2021-07-04T19:03:29.283Z"
   },
   {
    "duration": 101,
    "start_time": "2021-07-04T19:05:23.770Z"
   },
   {
    "duration": 424,
    "start_time": "2021-07-04T19:05:32.482Z"
   },
   {
    "duration": 96,
    "start_time": "2021-07-04T19:05:40.538Z"
   },
   {
    "duration": 100,
    "start_time": "2021-07-04T19:05:46.541Z"
   },
   {
    "duration": 95,
    "start_time": "2021-07-04T19:06:09.137Z"
   },
   {
    "duration": 8,
    "start_time": "2021-07-04T19:08:37.114Z"
   },
   {
    "duration": 91,
    "start_time": "2021-07-04T19:08:41.418Z"
   },
   {
    "duration": 108,
    "start_time": "2021-07-04T19:08:48.470Z"
   },
   {
    "duration": 864,
    "start_time": "2021-07-04T19:08:52.091Z"
   },
   {
    "duration": 135,
    "start_time": "2021-07-04T19:09:14.330Z"
   },
   {
    "duration": 23,
    "start_time": "2021-07-04T19:09:16.197Z"
   },
   {
    "duration": 11,
    "start_time": "2021-07-04T19:09:18.761Z"
   },
   {
    "duration": 823,
    "start_time": "2021-07-04T19:09:19.442Z"
   },
   {
    "duration": 5,
    "start_time": "2021-07-04T19:09:54.146Z"
   },
   {
    "duration": 8460,
    "start_time": "2021-07-04T19:09:54.977Z"
   },
   {
    "duration": 111,
    "start_time": "2021-07-04T19:11:16.429Z"
   },
   {
    "duration": 5,
    "start_time": "2021-07-04T19:11:19.241Z"
   },
   {
    "duration": 326,
    "start_time": "2021-07-04T19:11:19.685Z"
   },
   {
    "duration": 319,
    "start_time": "2021-07-04T19:11:20.245Z"
   },
   {
    "duration": 304,
    "start_time": "2021-07-04T19:12:29.329Z"
   },
   {
    "duration": 888,
    "start_time": "2021-07-04T19:12:42.169Z"
   },
   {
    "duration": 1216,
    "start_time": "2021-07-04T19:12:43.060Z"
   },
   {
    "duration": 26,
    "start_time": "2021-07-04T19:12:44.279Z"
   },
   {
    "duration": 200,
    "start_time": "2021-07-04T19:12:44.309Z"
   },
   {
    "duration": 142,
    "start_time": "2021-07-04T19:12:44.512Z"
   },
   {
    "duration": 6,
    "start_time": "2021-07-04T19:12:44.656Z"
   },
   {
    "duration": 9,
    "start_time": "2021-07-04T19:12:44.667Z"
   },
   {
    "duration": 10,
    "start_time": "2021-07-04T19:12:44.683Z"
   },
   {
    "duration": 75,
    "start_time": "2021-07-04T19:12:44.696Z"
   },
   {
    "duration": 14,
    "start_time": "2021-07-04T19:12:44.774Z"
   },
   {
    "duration": 44,
    "start_time": "2021-07-04T19:12:44.790Z"
   },
   {
    "duration": 37,
    "start_time": "2021-07-04T19:12:44.837Z"
   },
   {
    "duration": 7,
    "start_time": "2021-07-04T19:12:44.879Z"
   },
   {
    "duration": 145,
    "start_time": "2021-07-04T19:12:44.889Z"
   },
   {
    "duration": 57,
    "start_time": "2021-07-04T19:12:45.036Z"
   },
   {
    "duration": 40,
    "start_time": "2021-07-04T19:12:45.095Z"
   },
   {
    "duration": 78,
    "start_time": "2021-07-04T19:12:45.137Z"
   },
   {
    "duration": 35,
    "start_time": "2021-07-04T19:12:45.218Z"
   },
   {
    "duration": 53,
    "start_time": "2021-07-04T19:12:45.270Z"
   },
   {
    "duration": 42,
    "start_time": "2021-07-04T19:12:45.325Z"
   },
   {
    "duration": 80,
    "start_time": "2021-07-04T19:12:45.370Z"
   },
   {
    "duration": 35,
    "start_time": "2021-07-04T19:12:45.467Z"
   },
   {
    "duration": 102,
    "start_time": "2021-07-04T19:12:45.509Z"
   },
   {
    "duration": 35,
    "start_time": "2021-07-04T19:12:45.615Z"
   },
   {
    "duration": 123,
    "start_time": "2021-07-04T19:12:45.653Z"
   },
   {
    "duration": 8,
    "start_time": "2021-07-04T19:12:45.778Z"
   },
   {
    "duration": 1225,
    "start_time": "2021-07-04T19:12:45.789Z"
   },
   {
    "duration": 564,
    "start_time": "2021-07-04T19:12:47.017Z"
   },
   {
    "duration": 55,
    "start_time": "2021-07-04T19:12:47.584Z"
   },
   {
    "duration": 1188,
    "start_time": "2021-07-04T19:12:47.642Z"
   },
   {
    "duration": 482,
    "start_time": "2021-07-04T19:12:48.833Z"
   },
   {
    "duration": 49,
    "start_time": "2021-07-04T19:12:49.318Z"
   },
   {
    "duration": 955,
    "start_time": "2021-07-04T19:12:49.369Z"
   },
   {
    "duration": 678,
    "start_time": "2021-07-04T19:12:50.326Z"
   },
   {
    "duration": 20,
    "start_time": "2021-07-04T19:12:51.006Z"
   },
   {
    "duration": 74,
    "start_time": "2021-07-04T19:12:51.028Z"
   },
   {
    "duration": 866,
    "start_time": "2021-07-04T19:12:51.105Z"
   },
   {
    "duration": 710,
    "start_time": "2021-07-04T19:12:51.974Z"
   },
   {
    "duration": 465,
    "start_time": "2021-07-04T19:12:52.687Z"
   },
   {
    "duration": 114,
    "start_time": "2021-07-04T19:12:53.155Z"
   },
   {
    "duration": 7,
    "start_time": "2021-07-04T19:12:56.614Z"
   },
   {
    "duration": 1038,
    "start_time": "2021-07-05T16:38:30.174Z"
   },
   {
    "duration": 1178,
    "start_time": "2021-07-05T16:38:31.215Z"
   },
   {
    "duration": 25,
    "start_time": "2021-07-05T16:38:32.396Z"
   },
   {
    "duration": 203,
    "start_time": "2021-07-05T16:38:32.424Z"
   },
   {
    "duration": 149,
    "start_time": "2021-07-05T16:38:32.630Z"
   },
   {
    "duration": 7,
    "start_time": "2021-07-05T16:38:32.781Z"
   },
   {
    "duration": 28,
    "start_time": "2021-07-05T16:38:32.791Z"
   },
   {
    "duration": 18,
    "start_time": "2021-07-05T16:38:32.823Z"
   },
   {
    "duration": 58,
    "start_time": "2021-07-05T16:38:32.844Z"
   },
   {
    "duration": 12,
    "start_time": "2021-07-05T16:38:32.904Z"
   },
   {
    "duration": 60,
    "start_time": "2021-07-05T16:38:32.918Z"
   },
   {
    "duration": 23,
    "start_time": "2021-07-05T16:38:32.981Z"
   },
   {
    "duration": 17,
    "start_time": "2021-07-05T16:38:33.007Z"
   },
   {
    "duration": 148,
    "start_time": "2021-07-05T16:38:33.026Z"
   },
   {
    "duration": 50,
    "start_time": "2021-07-05T16:38:33.176Z"
   },
   {
    "duration": 52,
    "start_time": "2021-07-05T16:38:33.229Z"
   },
   {
    "duration": 70,
    "start_time": "2021-07-05T16:38:33.284Z"
   },
   {
    "duration": 43,
    "start_time": "2021-07-05T16:38:33.357Z"
   },
   {
    "duration": 53,
    "start_time": "2021-07-05T16:38:33.403Z"
   },
   {
    "duration": 52,
    "start_time": "2021-07-05T16:38:33.459Z"
   },
   {
    "duration": 75,
    "start_time": "2021-07-05T16:38:33.514Z"
   },
   {
    "duration": 39,
    "start_time": "2021-07-05T16:38:33.591Z"
   },
   {
    "duration": 83,
    "start_time": "2021-07-05T16:38:33.634Z"
   },
   {
    "duration": 30,
    "start_time": "2021-07-05T16:38:33.720Z"
   },
   {
    "duration": 122,
    "start_time": "2021-07-05T16:38:33.752Z"
   },
   {
    "duration": 9,
    "start_time": "2021-07-05T16:38:33.879Z"
   },
   {
    "duration": 927,
    "start_time": "2021-07-05T16:38:33.891Z"
   },
   {
    "duration": 568,
    "start_time": "2021-07-05T16:38:34.821Z"
   },
   {
    "duration": 74,
    "start_time": "2021-07-05T16:38:35.392Z"
   },
   {
    "duration": 879,
    "start_time": "2021-07-05T16:38:35.470Z"
   },
   {
    "duration": 586,
    "start_time": "2021-07-05T16:38:36.352Z"
   },
   {
    "duration": 43,
    "start_time": "2021-07-05T16:38:36.940Z"
   },
   {
    "duration": 955,
    "start_time": "2021-07-05T16:38:36.985Z"
   },
   {
    "duration": 489,
    "start_time": "2021-07-05T16:38:37.942Z"
   },
   {
    "duration": 35,
    "start_time": "2021-07-05T16:38:38.434Z"
   },
   {
    "duration": 56,
    "start_time": "2021-07-05T16:38:38.472Z"
   },
   {
    "duration": 1097,
    "start_time": "2021-07-05T16:38:38.531Z"
   },
   {
    "duration": 704,
    "start_time": "2021-07-05T16:38:39.631Z"
   },
   {
    "duration": 462,
    "start_time": "2021-07-05T16:38:40.338Z"
   },
   {
    "duration": 116,
    "start_time": "2021-07-05T16:38:40.802Z"
   },
   {
    "duration": 6,
    "start_time": "2021-07-05T16:38:45.554Z"
   },
   {
    "duration": 32,
    "start_time": "2021-07-05T16:38:56.322Z"
   },
   {
    "duration": 5,
    "start_time": "2021-07-05T16:39:02.226Z"
   },
   {
    "duration": 18,
    "start_time": "2021-07-05T16:39:07.370Z"
   },
   {
    "duration": 6219,
    "start_time": "2021-07-05T16:39:27.486Z"
   },
   {
    "duration": 18,
    "start_time": "2021-07-05T16:39:47.098Z"
   },
   {
    "duration": 840,
    "start_time": "2021-07-05T16:49:43.110Z"
   },
   {
    "duration": 1095,
    "start_time": "2021-07-05T16:49:43.953Z"
   },
   {
    "duration": 29,
    "start_time": "2021-07-05T16:49:45.051Z"
   },
   {
    "duration": 176,
    "start_time": "2021-07-05T16:49:45.082Z"
   },
   {
    "duration": 133,
    "start_time": "2021-07-05T16:49:45.262Z"
   },
   {
    "duration": 5,
    "start_time": "2021-07-05T16:49:45.398Z"
   },
   {
    "duration": 9,
    "start_time": "2021-07-05T16:49:45.405Z"
   },
   {
    "duration": 13,
    "start_time": "2021-07-05T16:49:45.416Z"
   },
   {
    "duration": 65,
    "start_time": "2021-07-05T16:49:45.433Z"
   },
   {
    "duration": 21,
    "start_time": "2021-07-05T16:49:45.501Z"
   },
   {
    "duration": 58,
    "start_time": "2021-07-05T16:49:45.524Z"
   },
   {
    "duration": 11,
    "start_time": "2021-07-05T16:49:45.584Z"
   },
   {
    "duration": 10,
    "start_time": "2021-07-05T16:49:45.597Z"
   },
   {
    "duration": 127,
    "start_time": "2021-07-05T16:49:45.609Z"
   },
   {
    "duration": 47,
    "start_time": "2021-07-05T16:49:45.739Z"
   },
   {
    "duration": 28,
    "start_time": "2021-07-05T16:49:45.789Z"
   },
   {
    "duration": 63,
    "start_time": "2021-07-05T16:49:45.819Z"
   },
   {
    "duration": 22,
    "start_time": "2021-07-05T16:49:45.884Z"
   },
   {
    "duration": 63,
    "start_time": "2021-07-05T16:49:45.909Z"
   },
   {
    "duration": 22,
    "start_time": "2021-07-05T16:49:45.975Z"
   },
   {
    "duration": 71,
    "start_time": "2021-07-05T16:49:46.000Z"
   },
   {
    "duration": 21,
    "start_time": "2021-07-05T16:49:46.073Z"
   },
   {
    "duration": 70,
    "start_time": "2021-07-05T16:49:46.097Z"
   },
   {
    "duration": 23,
    "start_time": "2021-07-05T16:49:46.169Z"
   },
   {
    "duration": 118,
    "start_time": "2021-07-05T16:49:46.194Z"
   },
   {
    "duration": 7,
    "start_time": "2021-07-05T16:49:46.314Z"
   },
   {
    "duration": 1257,
    "start_time": "2021-07-05T16:49:46.329Z"
   },
   {
    "duration": 622,
    "start_time": "2021-07-05T16:49:47.590Z"
   },
   {
    "duration": 64,
    "start_time": "2021-07-05T16:49:48.214Z"
   },
   {
    "duration": 861,
    "start_time": "2021-07-05T16:49:48.280Z"
   },
   {
    "duration": 471,
    "start_time": "2021-07-05T16:49:49.144Z"
   },
   {
    "duration": 47,
    "start_time": "2021-07-05T16:49:49.617Z"
   },
   {
    "duration": 911,
    "start_time": "2021-07-05T16:49:49.666Z"
   },
   {
    "duration": 576,
    "start_time": "2021-07-05T16:49:50.579Z"
   },
   {
    "duration": 19,
    "start_time": "2021-07-05T16:49:51.158Z"
   },
   {
    "duration": 45,
    "start_time": "2021-07-05T16:49:51.179Z"
   },
   {
    "duration": 858,
    "start_time": "2021-07-05T16:49:51.226Z"
   },
   {
    "duration": 480,
    "start_time": "2021-07-05T16:49:52.086Z"
   },
   {
    "duration": 442,
    "start_time": "2021-07-05T16:49:52.568Z"
   },
   {
    "duration": 78,
    "start_time": "2021-07-05T16:49:53.012Z"
   },
   {
    "duration": 5,
    "start_time": "2021-07-05T16:49:53.092Z"
   },
   {
    "duration": 900,
    "start_time": "2021-07-05T16:59:24.320Z"
   },
   {
    "duration": 1125,
    "start_time": "2021-07-05T16:59:25.223Z"
   },
   {
    "duration": 26,
    "start_time": "2021-07-05T16:59:26.363Z"
   },
   {
    "duration": 178,
    "start_time": "2021-07-05T16:59:26.391Z"
   },
   {
    "duration": 144,
    "start_time": "2021-07-05T16:59:26.572Z"
   },
   {
    "duration": 6,
    "start_time": "2021-07-05T16:59:26.718Z"
   },
   {
    "duration": 13,
    "start_time": "2021-07-05T16:59:26.726Z"
   },
   {
    "duration": 22,
    "start_time": "2021-07-05T16:59:26.743Z"
   },
   {
    "duration": 55,
    "start_time": "2021-07-05T16:59:26.769Z"
   },
   {
    "duration": 15,
    "start_time": "2021-07-05T16:59:26.826Z"
   },
   {
    "duration": 60,
    "start_time": "2021-07-05T16:59:26.843Z"
   },
   {
    "duration": 6,
    "start_time": "2021-07-05T16:59:26.905Z"
   },
   {
    "duration": 6,
    "start_time": "2021-07-05T16:59:26.915Z"
   },
   {
    "duration": 145,
    "start_time": "2021-07-05T16:59:26.924Z"
   },
   {
    "duration": 45,
    "start_time": "2021-07-05T16:59:27.072Z"
   },
   {
    "duration": 46,
    "start_time": "2021-07-05T16:59:27.119Z"
   },
   {
    "duration": 48,
    "start_time": "2021-07-05T16:59:27.167Z"
   },
   {
    "duration": 22,
    "start_time": "2021-07-05T16:59:27.217Z"
   },
   {
    "duration": 66,
    "start_time": "2021-07-05T16:59:27.241Z"
   },
   {
    "duration": 26,
    "start_time": "2021-07-05T16:59:27.309Z"
   },
   {
    "duration": 61,
    "start_time": "2021-07-05T16:59:27.338Z"
   },
   {
    "duration": 27,
    "start_time": "2021-07-05T16:59:27.402Z"
   },
   {
    "duration": 100,
    "start_time": "2021-07-05T16:59:27.438Z"
   },
   {
    "duration": 29,
    "start_time": "2021-07-05T16:59:27.541Z"
   },
   {
    "duration": 116,
    "start_time": "2021-07-05T16:59:27.574Z"
   },
   {
    "duration": 7,
    "start_time": "2021-07-05T16:59:27.693Z"
   },
   {
    "duration": 883,
    "start_time": "2021-07-05T16:59:27.703Z"
   },
   {
    "duration": 558,
    "start_time": "2021-07-05T16:59:28.589Z"
   },
   {
    "duration": 60,
    "start_time": "2021-07-05T16:59:29.149Z"
   },
   {
    "duration": 885,
    "start_time": "2021-07-05T16:59:29.211Z"
   },
   {
    "duration": 500,
    "start_time": "2021-07-05T16:59:30.099Z"
   },
   {
    "duration": 34,
    "start_time": "2021-07-05T16:59:30.602Z"
   },
   {
    "duration": 948,
    "start_time": "2021-07-05T16:59:30.638Z"
   },
   {
    "duration": 483,
    "start_time": "2021-07-05T16:59:31.588Z"
   },
   {
    "duration": 19,
    "start_time": "2021-07-05T16:59:32.074Z"
   },
   {
    "duration": 71,
    "start_time": "2021-07-05T16:59:32.095Z"
   },
   {
    "duration": 873,
    "start_time": "2021-07-05T16:59:32.168Z"
   },
   {
    "duration": 492,
    "start_time": "2021-07-05T16:59:33.044Z"
   },
   {
    "duration": 470,
    "start_time": "2021-07-05T16:59:33.538Z"
   },
   {
    "duration": 71,
    "start_time": "2021-07-05T16:59:40.590Z"
   },
   {
    "duration": 497,
    "start_time": "2021-07-05T17:00:08.500Z"
   },
   {
    "duration": 223,
    "start_time": "2021-07-05T17:00:13.752Z"
   },
   {
    "duration": 55,
    "start_time": "2021-07-05T17:05:26.694Z"
   },
   {
    "duration": 5,
    "start_time": "2021-07-05T17:06:06.235Z"
   },
   {
    "duration": 19245,
    "start_time": "2021-07-05T17:06:06.954Z"
   },
   {
    "duration": 1303,
    "start_time": "2021-07-05T17:06:24.899Z"
   },
   {
    "duration": 861,
    "start_time": "2021-07-05T17:06:35.616Z"
   },
   {
    "duration": 1150,
    "start_time": "2021-07-05T17:06:36.479Z"
   },
   {
    "duration": 44,
    "start_time": "2021-07-05T17:06:37.633Z"
   },
   {
    "duration": 270,
    "start_time": "2021-07-05T17:06:37.681Z"
   },
   {
    "duration": 175,
    "start_time": "2021-07-05T17:06:37.954Z"
   },
   {
    "duration": 7,
    "start_time": "2021-07-05T17:06:38.132Z"
   },
   {
    "duration": 24,
    "start_time": "2021-07-05T17:06:38.141Z"
   },
   {
    "duration": 7,
    "start_time": "2021-07-05T17:06:38.171Z"
   },
   {
    "duration": 50,
    "start_time": "2021-07-05T17:06:38.181Z"
   },
   {
    "duration": 35,
    "start_time": "2021-07-05T17:06:38.233Z"
   },
   {
    "duration": 48,
    "start_time": "2021-07-05T17:06:38.270Z"
   },
   {
    "duration": 7,
    "start_time": "2021-07-05T17:06:38.320Z"
   },
   {
    "duration": 5,
    "start_time": "2021-07-05T17:06:38.330Z"
   },
   {
    "duration": 123,
    "start_time": "2021-07-05T17:06:38.362Z"
   },
   {
    "duration": 44,
    "start_time": "2021-07-05T17:06:38.488Z"
   },
   {
    "duration": 43,
    "start_time": "2021-07-05T17:06:38.535Z"
   },
   {
    "duration": 52,
    "start_time": "2021-07-05T17:06:38.581Z"
   },
   {
    "duration": 33,
    "start_time": "2021-07-05T17:06:38.635Z"
   },
   {
    "duration": 47,
    "start_time": "2021-07-05T17:06:38.671Z"
   },
   {
    "duration": 47,
    "start_time": "2021-07-05T17:06:38.720Z"
   },
   {
    "duration": 47,
    "start_time": "2021-07-05T17:06:38.770Z"
   },
   {
    "duration": 22,
    "start_time": "2021-07-05T17:06:38.820Z"
   },
   {
    "duration": 48,
    "start_time": "2021-07-05T17:06:38.864Z"
   },
   {
    "duration": 21,
    "start_time": "2021-07-05T17:06:38.915Z"
   },
   {
    "duration": 181,
    "start_time": "2021-07-05T17:06:38.939Z"
   },
   {
    "duration": 9,
    "start_time": "2021-07-05T17:06:39.123Z"
   },
   {
    "duration": 894,
    "start_time": "2021-07-05T17:06:39.135Z"
   },
   {
    "duration": 557,
    "start_time": "2021-07-05T17:06:40.031Z"
   },
   {
    "duration": 55,
    "start_time": "2021-07-05T17:06:40.590Z"
   },
   {
    "duration": 1135,
    "start_time": "2021-07-05T17:06:40.661Z"
   },
   {
    "duration": 470,
    "start_time": "2021-07-05T17:06:41.799Z"
   },
   {
    "duration": 35,
    "start_time": "2021-07-05T17:06:42.271Z"
   },
   {
    "duration": 907,
    "start_time": "2021-07-05T17:06:42.309Z"
   },
   {
    "duration": 678,
    "start_time": "2021-07-05T17:06:43.218Z"
   },
   {
    "duration": 23,
    "start_time": "2021-07-05T17:06:43.900Z"
   },
   {
    "duration": 79,
    "start_time": "2021-07-05T17:06:43.926Z"
   },
   {
    "duration": 1229,
    "start_time": "2021-07-05T17:06:44.008Z"
   },
   {
    "duration": 809,
    "start_time": "2021-07-05T17:06:45.240Z"
   },
   {
    "duration": 642,
    "start_time": "2021-07-05T17:06:46.052Z"
   },
   {
    "duration": 57,
    "start_time": "2021-07-05T17:06:49.081Z"
   },
   {
    "duration": 40,
    "start_time": "2021-07-05T17:07:03.996Z"
   },
   {
    "duration": 5,
    "start_time": "2021-07-05T17:07:06.652Z"
   },
   {
    "duration": 9700,
    "start_time": "2021-07-05T17:07:12.672Z"
   },
   {
    "duration": 5,
    "start_time": "2021-07-05T17:07:42.656Z"
   },
   {
    "duration": 10374,
    "start_time": "2021-07-05T17:07:45.252Z"
   },
   {
    "duration": 16,
    "start_time": "2021-07-05T17:08:01.637Z"
   },
   {
    "duration": 47,
    "start_time": "2021-07-05T17:08:12.648Z"
   },
   {
    "duration": 50,
    "start_time": "2021-07-05T17:08:23.628Z"
   },
   {
    "duration": 5,
    "start_time": "2021-07-05T17:08:25.089Z"
   },
   {
    "duration": 16352,
    "start_time": "2021-07-05T17:08:25.661Z"
   },
   {
    "duration": 904,
    "start_time": "2021-07-05T17:08:46.523Z"
   },
   {
    "duration": 1150,
    "start_time": "2021-07-05T17:08:47.430Z"
   },
   {
    "duration": 25,
    "start_time": "2021-07-05T17:08:48.583Z"
   },
   {
    "duration": 178,
    "start_time": "2021-07-05T17:08:48.611Z"
   },
   {
    "duration": 142,
    "start_time": "2021-07-05T17:08:48.792Z"
   },
   {
    "duration": 7,
    "start_time": "2021-07-05T17:08:48.937Z"
   },
   {
    "duration": 9,
    "start_time": "2021-07-05T17:08:48.963Z"
   },
   {
    "duration": 13,
    "start_time": "2021-07-05T17:08:48.977Z"
   },
   {
    "duration": 70,
    "start_time": "2021-07-05T17:08:48.994Z"
   },
   {
    "duration": 19,
    "start_time": "2021-07-05T17:08:49.067Z"
   },
   {
    "duration": 52,
    "start_time": "2021-07-05T17:08:49.089Z"
   },
   {
    "duration": 7,
    "start_time": "2021-07-05T17:08:49.163Z"
   },
   {
    "duration": 8,
    "start_time": "2021-07-05T17:08:49.173Z"
   },
   {
    "duration": 194,
    "start_time": "2021-07-05T17:08:49.184Z"
   },
   {
    "duration": 84,
    "start_time": "2021-07-05T17:08:49.381Z"
   },
   {
    "duration": 35,
    "start_time": "2021-07-05T17:08:49.468Z"
   },
   {
    "duration": 88,
    "start_time": "2021-07-05T17:08:49.506Z"
   },
   {
    "duration": 33,
    "start_time": "2021-07-05T17:08:49.597Z"
   },
   {
    "duration": 68,
    "start_time": "2021-07-05T17:08:49.632Z"
   },
   {
    "duration": 28,
    "start_time": "2021-07-05T17:08:49.702Z"
   },
   {
    "duration": 59,
    "start_time": "2021-07-05T17:08:49.732Z"
   },
   {
    "duration": 22,
    "start_time": "2021-07-05T17:08:49.794Z"
   },
   {
    "duration": 65,
    "start_time": "2021-07-05T17:08:49.822Z"
   },
   {
    "duration": 22,
    "start_time": "2021-07-05T17:08:49.890Z"
   },
   {
    "duration": 124,
    "start_time": "2021-07-05T17:08:49.914Z"
   },
   {
    "duration": 6,
    "start_time": "2021-07-05T17:08:50.040Z"
   },
   {
    "duration": 1272,
    "start_time": "2021-07-05T17:08:50.049Z"
   },
   {
    "duration": 572,
    "start_time": "2021-07-05T17:08:51.323Z"
   },
   {
    "duration": 68,
    "start_time": "2021-07-05T17:08:51.897Z"
   },
   {
    "duration": 1184,
    "start_time": "2021-07-05T17:08:51.968Z"
   },
   {
    "duration": 494,
    "start_time": "2021-07-05T17:08:53.163Z"
   },
   {
    "duration": 35,
    "start_time": "2021-07-05T17:08:53.662Z"
   },
   {
    "duration": 974,
    "start_time": "2021-07-05T17:08:53.699Z"
   },
   {
    "duration": 481,
    "start_time": "2021-07-05T17:08:54.676Z"
   },
   {
    "duration": 19,
    "start_time": "2021-07-05T17:08:55.159Z"
   },
   {
    "duration": 49,
    "start_time": "2021-07-05T17:08:55.181Z"
   },
   {
    "duration": 905,
    "start_time": "2021-07-05T17:08:55.232Z"
   },
   {
    "duration": 526,
    "start_time": "2021-07-05T17:08:56.139Z"
   },
   {
    "duration": 497,
    "start_time": "2021-07-05T17:08:56.669Z"
   },
   {
    "duration": 49,
    "start_time": "2021-07-05T17:08:57.169Z"
   },
   {
    "duration": 4,
    "start_time": "2021-07-05T17:08:57.220Z"
   },
   {
    "duration": 10125,
    "start_time": "2021-07-05T17:08:57.227Z"
   },
   {
    "duration": 107,
    "start_time": "2021-07-05T17:09:07.355Z"
   },
   {
    "duration": 38,
    "start_time": "2021-07-05T17:09:15.840Z"
   },
   {
    "duration": 486,
    "start_time": "2021-07-05T17:09:25.965Z"
   },
   {
    "duration": 22,
    "start_time": "2021-07-05T17:09:42.236Z"
   },
   {
    "duration": 922,
    "start_time": "2021-07-05T17:09:53.552Z"
   },
   {
    "duration": 1142,
    "start_time": "2021-07-05T17:09:54.477Z"
   },
   {
    "duration": 25,
    "start_time": "2021-07-05T17:09:55.622Z"
   },
   {
    "duration": 171,
    "start_time": "2021-07-05T17:09:55.663Z"
   },
   {
    "duration": 133,
    "start_time": "2021-07-05T17:09:55.836Z"
   },
   {
    "duration": 6,
    "start_time": "2021-07-05T17:09:55.971Z"
   },
   {
    "duration": 7,
    "start_time": "2021-07-05T17:09:55.980Z"
   },
   {
    "duration": 12,
    "start_time": "2021-07-05T17:09:55.991Z"
   },
   {
    "duration": 70,
    "start_time": "2021-07-05T17:09:56.006Z"
   },
   {
    "duration": 15,
    "start_time": "2021-07-05T17:09:56.079Z"
   },
   {
    "duration": 48,
    "start_time": "2021-07-05T17:09:56.096Z"
   },
   {
    "duration": 6,
    "start_time": "2021-07-05T17:09:56.162Z"
   },
   {
    "duration": 5,
    "start_time": "2021-07-05T17:09:56.171Z"
   },
   {
    "duration": 147,
    "start_time": "2021-07-05T17:09:56.178Z"
   },
   {
    "duration": 50,
    "start_time": "2021-07-05T17:09:56.327Z"
   },
   {
    "duration": 29,
    "start_time": "2021-07-05T17:09:56.380Z"
   },
   {
    "duration": 62,
    "start_time": "2021-07-05T17:09:56.411Z"
   },
   {
    "duration": 24,
    "start_time": "2021-07-05T17:09:56.476Z"
   },
   {
    "duration": 69,
    "start_time": "2021-07-05T17:09:56.502Z"
   },
   {
    "duration": 22,
    "start_time": "2021-07-05T17:09:56.573Z"
   },
   {
    "duration": 66,
    "start_time": "2021-07-05T17:09:56.597Z"
   },
   {
    "duration": 23,
    "start_time": "2021-07-05T17:09:56.666Z"
   },
   {
    "duration": 69,
    "start_time": "2021-07-05T17:09:56.694Z"
   },
   {
    "duration": 21,
    "start_time": "2021-07-05T17:09:56.766Z"
   },
   {
    "duration": 115,
    "start_time": "2021-07-05T17:09:56.790Z"
   },
   {
    "duration": 8,
    "start_time": "2021-07-05T17:09:56.911Z"
   },
   {
    "duration": 883,
    "start_time": "2021-07-05T17:09:56.923Z"
   },
   {
    "duration": 558,
    "start_time": "2021-07-05T17:09:57.809Z"
   },
   {
    "duration": 52,
    "start_time": "2021-07-05T17:09:58.370Z"
   },
   {
    "duration": 892,
    "start_time": "2021-07-05T17:09:58.425Z"
   },
   {
    "duration": 514,
    "start_time": "2021-07-05T17:09:59.319Z"
   },
   {
    "duration": 47,
    "start_time": "2021-07-05T17:09:59.835Z"
   },
   {
    "duration": 924,
    "start_time": "2021-07-05T17:09:59.885Z"
   },
   {
    "duration": 668,
    "start_time": "2021-07-05T17:10:00.812Z"
   },
   {
    "duration": 20,
    "start_time": "2021-07-05T17:10:01.484Z"
   },
   {
    "duration": 83,
    "start_time": "2021-07-05T17:10:01.506Z"
   },
   {
    "duration": 935,
    "start_time": "2021-07-05T17:10:01.591Z"
   },
   {
    "duration": 520,
    "start_time": "2021-07-05T17:10:02.528Z"
   },
   {
    "duration": 471,
    "start_time": "2021-07-05T17:10:03.051Z"
   },
   {
    "duration": 56,
    "start_time": "2021-07-05T17:10:03.524Z"
   },
   {
    "duration": 5,
    "start_time": "2021-07-05T17:10:03.583Z"
   },
   {
    "duration": 10263,
    "start_time": "2021-07-05T17:10:03.592Z"
   },
   {
    "duration": 23,
    "start_time": "2021-07-05T17:10:13.858Z"
   },
   {
    "duration": 5,
    "start_time": "2021-07-05T17:12:09.945Z"
   },
   {
    "duration": 46,
    "start_time": "2021-07-05T17:12:11.392Z"
   },
   {
    "duration": 6,
    "start_time": "2021-07-05T17:12:16.406Z"
   },
   {
    "duration": 898,
    "start_time": "2021-07-05T17:12:34.313Z"
   },
   {
    "duration": 1180,
    "start_time": "2021-07-05T17:12:35.214Z"
   },
   {
    "duration": 25,
    "start_time": "2021-07-05T17:12:36.397Z"
   },
   {
    "duration": 191,
    "start_time": "2021-07-05T17:12:36.425Z"
   },
   {
    "duration": 148,
    "start_time": "2021-07-05T17:12:36.618Z"
   },
   {
    "duration": 7,
    "start_time": "2021-07-05T17:12:36.769Z"
   },
   {
    "duration": 10,
    "start_time": "2021-07-05T17:12:36.778Z"
   },
   {
    "duration": 10,
    "start_time": "2021-07-05T17:12:36.790Z"
   },
   {
    "duration": 76,
    "start_time": "2021-07-05T17:12:36.806Z"
   },
   {
    "duration": 14,
    "start_time": "2021-07-05T17:12:36.885Z"
   },
   {
    "duration": 68,
    "start_time": "2021-07-05T17:12:36.901Z"
   },
   {
    "duration": 6,
    "start_time": "2021-07-05T17:12:36.971Z"
   },
   {
    "duration": 17,
    "start_time": "2021-07-05T17:12:36.979Z"
   },
   {
    "duration": 132,
    "start_time": "2021-07-05T17:12:36.999Z"
   },
   {
    "duration": 44,
    "start_time": "2021-07-05T17:12:37.134Z"
   },
   {
    "duration": 24,
    "start_time": "2021-07-05T17:12:37.180Z"
   },
   {
    "duration": 78,
    "start_time": "2021-07-05T17:12:37.206Z"
   },
   {
    "duration": 22,
    "start_time": "2021-07-05T17:12:37.287Z"
   },
   {
    "duration": 68,
    "start_time": "2021-07-05T17:12:37.311Z"
   },
   {
    "duration": 33,
    "start_time": "2021-07-05T17:12:37.381Z"
   },
   {
    "duration": 51,
    "start_time": "2021-07-05T17:12:37.417Z"
   },
   {
    "duration": 28,
    "start_time": "2021-07-05T17:12:37.471Z"
   },
   {
    "duration": 63,
    "start_time": "2021-07-05T17:12:37.501Z"
   },
   {
    "duration": 22,
    "start_time": "2021-07-05T17:12:37.566Z"
   },
   {
    "duration": 127,
    "start_time": "2021-07-05T17:12:37.591Z"
   },
   {
    "duration": 9,
    "start_time": "2021-07-05T17:12:37.721Z"
   },
   {
    "duration": 1054,
    "start_time": "2021-07-05T17:12:37.737Z"
   },
   {
    "duration": 792,
    "start_time": "2021-07-05T17:12:38.795Z"
   },
   {
    "duration": 76,
    "start_time": "2021-07-05T17:12:39.590Z"
   },
   {
    "duration": 888,
    "start_time": "2021-07-05T17:12:39.669Z"
   },
   {
    "duration": 679,
    "start_time": "2021-07-05T17:12:40.559Z"
   },
   {
    "duration": 49,
    "start_time": "2021-07-05T17:12:41.241Z"
   },
   {
    "duration": 991,
    "start_time": "2021-07-05T17:12:41.292Z"
   },
   {
    "duration": 561,
    "start_time": "2021-07-05T17:12:42.286Z"
   },
   {
    "duration": 29,
    "start_time": "2021-07-05T17:12:42.850Z"
   },
   {
    "duration": 46,
    "start_time": "2021-07-05T17:12:42.882Z"
   },
   {
    "duration": 910,
    "start_time": "2021-07-05T17:12:42.930Z"
   },
   {
    "duration": 507,
    "start_time": "2021-07-05T17:12:43.843Z"
   },
   {
    "duration": 470,
    "start_time": "2021-07-05T17:12:44.353Z"
   },
   {
    "duration": 53,
    "start_time": "2021-07-05T17:12:44.826Z"
   },
   {
    "duration": 4,
    "start_time": "2021-07-05T17:12:44.882Z"
   },
   {
    "duration": 11254,
    "start_time": "2021-07-05T17:12:44.888Z"
   },
   {
    "duration": 5,
    "start_time": "2021-07-05T17:12:56.145Z"
   },
   {
    "duration": 21,
    "start_time": "2021-07-05T17:13:06.884Z"
   },
   {
    "duration": 7,
    "start_time": "2021-07-05T17:14:40.484Z"
   },
   {
    "duration": 239,
    "start_time": "2021-07-05T17:16:11.224Z"
   },
   {
    "duration": 5,
    "start_time": "2021-07-05T17:19:47.980Z"
   },
   {
    "duration": 513,
    "start_time": "2021-07-05T17:19:57.649Z"
   },
   {
    "duration": 5,
    "start_time": "2021-07-05T17:20:11.272Z"
   },
   {
    "duration": 322,
    "start_time": "2021-07-05T17:20:13.200Z"
   },
   {
    "duration": 5,
    "start_time": "2021-07-05T17:20:14.768Z"
   },
   {
    "duration": 33,
    "start_time": "2021-07-05T17:21:42.268Z"
   },
   {
    "duration": 5,
    "start_time": "2021-07-05T17:21:55.520Z"
   },
   {
    "duration": 530,
    "start_time": "2021-07-05T17:24:02.172Z"
   },
   {
    "duration": 96,
    "start_time": "2021-07-05T17:35:26.599Z"
   },
   {
    "duration": 32,
    "start_time": "2021-07-05T17:36:06.299Z"
   },
   {
    "duration": 25,
    "start_time": "2021-07-05T17:37:10.891Z"
   },
   {
    "duration": 150,
    "start_time": "2021-07-05T17:37:46.683Z"
   },
   {
    "duration": 5,
    "start_time": "2021-07-05T17:38:49.634Z"
   },
   {
    "duration": 3,
    "start_time": "2021-07-05T17:40:18.308Z"
   },
   {
    "duration": 5,
    "start_time": "2021-07-05T17:47:49.650Z"
   },
   {
    "duration": 7,
    "start_time": "2021-07-05T17:51:23.414Z"
   },
   {
    "duration": 477,
    "start_time": "2021-07-05T17:51:45.782Z"
   },
   {
    "duration": 394,
    "start_time": "2021-07-05T17:51:54.147Z"
   },
   {
    "duration": 1617,
    "start_time": "2021-07-05T17:53:02.298Z"
   },
   {
    "duration": 1164,
    "start_time": "2021-07-05T17:53:03.917Z"
   },
   {
    "duration": 25,
    "start_time": "2021-07-05T17:53:05.085Z"
   },
   {
    "duration": 188,
    "start_time": "2021-07-05T17:53:05.114Z"
   },
   {
    "duration": 187,
    "start_time": "2021-07-05T17:53:05.304Z"
   },
   {
    "duration": 5,
    "start_time": "2021-07-05T17:53:05.493Z"
   },
   {
    "duration": 22,
    "start_time": "2021-07-05T17:53:05.501Z"
   },
   {
    "duration": 17,
    "start_time": "2021-07-05T17:53:05.528Z"
   },
   {
    "duration": 61,
    "start_time": "2021-07-05T17:53:05.548Z"
   },
   {
    "duration": 12,
    "start_time": "2021-07-05T17:53:05.611Z"
   },
   {
    "duration": 72,
    "start_time": "2021-07-05T17:53:05.626Z"
   },
   {
    "duration": 5,
    "start_time": "2021-07-05T17:53:05.701Z"
   },
   {
    "duration": 6,
    "start_time": "2021-07-05T17:53:05.709Z"
   },
   {
    "duration": 139,
    "start_time": "2021-07-05T17:53:05.717Z"
   },
   {
    "duration": 197,
    "start_time": "2021-07-05T17:53:39.166Z"
   },
   {
    "duration": 130,
    "start_time": "2021-07-05T17:53:50.975Z"
   },
   {
    "duration": 7,
    "start_time": "2021-07-05T17:53:58.039Z"
   },
   {
    "duration": 951,
    "start_time": "2021-07-05T17:53:58.048Z"
   },
   {
    "duration": 582,
    "start_time": "2021-07-05T17:53:59.002Z"
   },
   {
    "duration": 39,
    "start_time": "2021-07-05T17:53:59.588Z"
   },
   {
    "duration": 832,
    "start_time": "2021-07-05T17:53:59.630Z"
   },
   {
    "duration": 530,
    "start_time": "2021-07-05T17:54:00.465Z"
   },
   {
    "duration": 28,
    "start_time": "2021-07-05T17:54:00.997Z"
   },
   {
    "duration": 916,
    "start_time": "2021-07-05T17:54:01.028Z"
   },
   {
    "duration": 460,
    "start_time": "2021-07-05T17:54:01.947Z"
   },
   {
    "duration": 12,
    "start_time": "2021-07-05T17:54:02.410Z"
   },
   {
    "duration": 70,
    "start_time": "2021-07-05T17:54:02.425Z"
   },
   {
    "duration": 876,
    "start_time": "2021-07-05T17:54:02.497Z"
   },
   {
    "duration": 513,
    "start_time": "2021-07-05T17:54:03.376Z"
   },
   {
    "duration": 654,
    "start_time": "2021-07-05T17:54:03.891Z"
   },
   {
    "duration": 54,
    "start_time": "2021-07-05T17:54:04.548Z"
   },
   {
    "duration": 6,
    "start_time": "2021-07-05T17:54:04.605Z"
   },
   {
    "duration": 9818,
    "start_time": "2021-07-05T17:54:04.614Z"
   },
   {
    "duration": 51,
    "start_time": "2021-07-05T17:54:14.434Z"
   },
   {
    "duration": 7,
    "start_time": "2021-07-05T17:54:14.487Z"
   },
   {
    "duration": 192,
    "start_time": "2021-07-05T17:54:14.496Z"
   },
   {
    "duration": 4,
    "start_time": "2021-07-05T17:54:14.691Z"
   },
   {
    "duration": 234,
    "start_time": "2021-07-05T17:54:14.697Z"
   },
   {
    "duration": 38,
    "start_time": "2021-07-05T17:54:14.936Z"
   },
   {
    "duration": 7,
    "start_time": "2021-07-05T17:54:14.977Z"
   },
   {
    "duration": 32,
    "start_time": "2021-07-05T17:54:14.987Z"
   },
   {
    "duration": 162,
    "start_time": "2021-07-05T17:54:15.022Z"
   },
   {
    "duration": 6,
    "start_time": "2021-07-05T17:54:15.188Z"
   },
   {
    "duration": 6,
    "start_time": "2021-07-05T17:54:15.196Z"
   },
   {
    "duration": 635,
    "start_time": "2021-07-05T17:54:15.205Z"
   },
   {
    "duration": 1329,
    "start_time": "2021-07-05T17:54:14.514Z"
   },
   {
    "duration": 1330,
    "start_time": "2021-07-05T17:54:14.516Z"
   },
   {
    "duration": 23,
    "start_time": "2021-07-05T17:55:11.695Z"
   },
   {
    "duration": 270,
    "start_time": "2021-07-05T18:03:47.602Z"
   },
   {
    "duration": 216,
    "start_time": "2021-07-05T18:05:32.598Z"
   },
   {
    "duration": 524143,
    "start_time": "2021-07-05T18:05:35.154Z"
   },
   {
    "duration": 14,
    "start_time": "2021-07-05T18:14:54.970Z"
   },
   {
    "duration": 625,
    "start_time": "2021-07-05T18:15:11.245Z"
   },
   {
    "duration": 5,
    "start_time": "2021-07-05T18:15:55.826Z"
   },
   {
    "duration": 535,
    "start_time": "2021-07-05T18:16:01.917Z"
   },
   {
    "duration": 4,
    "start_time": "2021-07-05T18:20:58.344Z"
   },
   {
    "duration": 103121,
    "start_time": "2021-07-05T18:21:51.104Z"
   },
   {
    "duration": 98573,
    "start_time": "2021-07-05T18:24:08.096Z"
   },
   {
    "duration": 622,
    "start_time": "2021-07-05T18:26:08.561Z"
   },
   {
    "duration": 468,
    "start_time": "2021-07-05T18:28:08.861Z"
   },
   {
    "duration": 252,
    "start_time": "2021-07-05T18:31:30.660Z"
   },
   {
    "duration": 488916,
    "start_time": "2021-07-05T18:31:39.181Z"
   },
   {
    "duration": 614,
    "start_time": "2021-07-05T18:39:51.755Z"
   },
   {
    "duration": 542,
    "start_time": "2021-07-05T18:39:56.468Z"
   },
   {
    "duration": 1501,
    "start_time": "2021-07-06T16:53:47.184Z"
   },
   {
    "duration": 1081,
    "start_time": "2021-07-06T16:53:48.688Z"
   },
   {
    "duration": 34,
    "start_time": "2021-07-06T16:53:49.772Z"
   },
   {
    "duration": 165,
    "start_time": "2021-07-06T16:53:49.809Z"
   },
   {
    "duration": 137,
    "start_time": "2021-07-06T16:53:49.976Z"
   },
   {
    "duration": 6,
    "start_time": "2021-07-06T16:53:50.115Z"
   },
   {
    "duration": 8,
    "start_time": "2021-07-06T16:53:50.123Z"
   },
   {
    "duration": 8,
    "start_time": "2021-07-06T16:53:50.135Z"
   },
   {
    "duration": 80,
    "start_time": "2021-07-06T16:53:50.146Z"
   },
   {
    "duration": 11,
    "start_time": "2021-07-06T16:53:50.228Z"
   },
   {
    "duration": 65,
    "start_time": "2021-07-06T16:53:50.242Z"
   },
   {
    "duration": 5,
    "start_time": "2021-07-06T16:53:50.309Z"
   },
   {
    "duration": 15,
    "start_time": "2021-07-06T16:53:50.316Z"
   },
   {
    "duration": 135,
    "start_time": "2021-07-06T16:53:50.333Z"
   },
   {
    "duration": 110,
    "start_time": "2021-07-06T16:54:21.308Z"
   },
   {
    "duration": 45,
    "start_time": "2021-07-06T16:54:30.633Z"
   },
   {
    "duration": 1578,
    "start_time": "2021-07-06T16:59:04.815Z"
   },
   {
    "duration": 1141,
    "start_time": "2021-07-06T16:59:06.396Z"
   },
   {
    "duration": 26,
    "start_time": "2021-07-06T16:59:07.539Z"
   },
   {
    "duration": 171,
    "start_time": "2021-07-06T16:59:07.585Z"
   },
   {
    "duration": 130,
    "start_time": "2021-07-06T16:59:07.758Z"
   },
   {
    "duration": 6,
    "start_time": "2021-07-06T16:59:07.890Z"
   },
   {
    "duration": 12,
    "start_time": "2021-07-06T16:59:07.899Z"
   },
   {
    "duration": 18,
    "start_time": "2021-07-06T16:59:07.916Z"
   },
   {
    "duration": 72,
    "start_time": "2021-07-06T16:59:07.938Z"
   },
   {
    "duration": 17,
    "start_time": "2021-07-06T16:59:08.012Z"
   },
   {
    "duration": 59,
    "start_time": "2021-07-06T16:59:08.032Z"
   },
   {
    "duration": 5,
    "start_time": "2021-07-06T16:59:08.093Z"
   },
   {
    "duration": 11,
    "start_time": "2021-07-06T16:59:08.100Z"
   },
   {
    "duration": 132,
    "start_time": "2021-07-06T16:59:08.114Z"
   },
   {
    "duration": 4,
    "start_time": "2021-07-06T16:59:08.249Z"
   },
   {
    "duration": 59,
    "start_time": "2021-07-06T16:59:08.255Z"
   },
   {
    "duration": 25,
    "start_time": "2021-07-06T16:59:08.317Z"
   },
   {
    "duration": 61,
    "start_time": "2021-07-06T16:59:08.344Z"
   },
   {
    "duration": 22,
    "start_time": "2021-07-06T16:59:08.407Z"
   },
   {
    "duration": 66,
    "start_time": "2021-07-06T16:59:08.431Z"
   },
   {
    "duration": 23,
    "start_time": "2021-07-06T16:59:08.499Z"
   },
   {
    "duration": 61,
    "start_time": "2021-07-06T16:59:08.525Z"
   },
   {
    "duration": 22,
    "start_time": "2021-07-06T16:59:08.592Z"
   },
   {
    "duration": 54,
    "start_time": "2021-07-06T16:59:08.617Z"
   },
   {
    "duration": 22,
    "start_time": "2021-07-06T16:59:08.685Z"
   },
   {
    "duration": 118,
    "start_time": "2021-07-06T16:59:08.710Z"
   },
   {
    "duration": 8,
    "start_time": "2021-07-06T16:59:08.831Z"
   },
   {
    "duration": 866,
    "start_time": "2021-07-06T16:59:08.842Z"
   },
   {
    "duration": 564,
    "start_time": "2021-07-06T16:59:09.710Z"
   },
   {
    "duration": 55,
    "start_time": "2021-07-06T16:59:10.277Z"
   },
   {
    "duration": 943,
    "start_time": "2021-07-06T16:59:10.335Z"
   },
   {
    "duration": 602,
    "start_time": "2021-07-06T16:59:11.286Z"
   },
   {
    "duration": 47,
    "start_time": "2021-07-06T16:59:11.892Z"
   },
   {
    "duration": 975,
    "start_time": "2021-07-06T16:59:11.943Z"
   },
   {
    "duration": 473,
    "start_time": "2021-07-06T16:59:12.920Z"
   },
   {
    "duration": 20,
    "start_time": "2021-07-06T16:59:13.396Z"
   },
   {
    "duration": 75,
    "start_time": "2021-07-06T16:59:13.419Z"
   },
   {
    "duration": 851,
    "start_time": "2021-07-06T16:59:13.496Z"
   },
   {
    "duration": 490,
    "start_time": "2021-07-06T16:59:14.350Z"
   },
   {
    "duration": 462,
    "start_time": "2021-07-06T16:59:14.843Z"
   },
   {
    "duration": 39,
    "start_time": "2021-07-06T16:59:15.308Z"
   },
   {
    "duration": 4,
    "start_time": "2021-07-06T16:59:15.350Z"
   },
   {
    "duration": 10578,
    "start_time": "2021-07-06T16:59:15.357Z"
   },
   {
    "duration": 56,
    "start_time": "2021-07-06T16:59:25.938Z"
   },
   {
    "duration": 7,
    "start_time": "2021-07-06T16:59:25.997Z"
   },
   {
    "duration": 230,
    "start_time": "2021-07-06T16:59:26.007Z"
   },
   {
    "duration": 5,
    "start_time": "2021-07-06T16:59:26.240Z"
   },
   {
    "duration": 304,
    "start_time": "2021-07-06T16:59:26.248Z"
   },
   {
    "duration": 41,
    "start_time": "2021-07-06T16:59:26.555Z"
   },
   {
    "duration": 6,
    "start_time": "2021-07-06T16:59:26.598Z"
   },
   {
    "duration": 29,
    "start_time": "2021-07-06T16:59:26.607Z"
   },
   {
    "duration": 171,
    "start_time": "2021-07-06T16:59:26.638Z"
   },
   {
    "duration": 6,
    "start_time": "2021-07-06T16:59:26.812Z"
   },
   {
    "duration": 7,
    "start_time": "2021-07-06T16:59:26.820Z"
   },
   {
    "duration": 171,
    "start_time": "2021-07-06T16:59:26.829Z"
   },
   {
    "duration": 9,
    "start_time": "2021-07-06T16:59:27.003Z"
   },
   {
    "duration": 10975,
    "start_time": "2021-07-06T16:59:27.015Z"
   },
   {
    "duration": 568,
    "start_time": "2021-07-06T16:59:37.993Z"
   },
   {
    "duration": 4,
    "start_time": "2021-07-06T16:59:38.563Z"
   },
   {
    "duration": 2148,
    "start_time": "2021-07-06T17:02:16.720Z"
   },
   {
    "duration": 1739,
    "start_time": "2021-07-06T17:02:18.871Z"
   },
   {
    "duration": 40,
    "start_time": "2021-07-06T17:02:20.615Z"
   },
   {
    "duration": 304,
    "start_time": "2021-07-06T17:02:20.659Z"
   },
   {
    "duration": 187,
    "start_time": "2021-07-06T17:02:20.967Z"
   },
   {
    "duration": 7,
    "start_time": "2021-07-06T17:02:21.157Z"
   },
   {
    "duration": 5,
    "start_time": "2021-07-06T17:02:21.185Z"
   },
   {
    "duration": 7,
    "start_time": "2021-07-06T17:02:21.194Z"
   },
   {
    "duration": 42,
    "start_time": "2021-07-06T17:02:21.204Z"
   },
   {
    "duration": 38,
    "start_time": "2021-07-06T17:02:21.249Z"
   },
   {
    "duration": 49,
    "start_time": "2021-07-06T17:02:21.289Z"
   },
   {
    "duration": 11,
    "start_time": "2021-07-06T17:02:21.340Z"
   },
   {
    "duration": 6,
    "start_time": "2021-07-06T17:02:21.354Z"
   },
   {
    "duration": 122,
    "start_time": "2021-07-06T17:02:21.386Z"
   },
   {
    "duration": 3,
    "start_time": "2021-07-06T17:02:21.511Z"
   },
   {
    "duration": 52,
    "start_time": "2021-07-06T17:02:21.517Z"
   },
   {
    "duration": 35,
    "start_time": "2021-07-06T17:02:21.572Z"
   },
   {
    "duration": 52,
    "start_time": "2021-07-06T17:02:21.609Z"
   },
   {
    "duration": 38,
    "start_time": "2021-07-06T17:02:21.664Z"
   },
   {
    "duration": 56,
    "start_time": "2021-07-06T17:02:21.704Z"
   },
   {
    "duration": 26,
    "start_time": "2021-07-06T17:02:21.763Z"
   },
   {
    "duration": 53,
    "start_time": "2021-07-06T17:02:21.792Z"
   },
   {
    "duration": 37,
    "start_time": "2021-07-06T17:02:21.853Z"
   },
   {
    "duration": 48,
    "start_time": "2021-07-06T17:02:21.893Z"
   },
   {
    "duration": 47,
    "start_time": "2021-07-06T17:02:21.944Z"
   },
   {
    "duration": 115,
    "start_time": "2021-07-06T17:02:21.993Z"
   },
   {
    "duration": 7,
    "start_time": "2021-07-06T17:02:22.111Z"
   },
   {
    "duration": 864,
    "start_time": "2021-07-06T17:02:22.121Z"
   },
   {
    "duration": 533,
    "start_time": "2021-07-06T17:02:22.988Z"
   },
   {
    "duration": 64,
    "start_time": "2021-07-06T17:02:23.523Z"
   },
   {
    "duration": 864,
    "start_time": "2021-07-06T17:02:23.589Z"
   },
   {
    "duration": 578,
    "start_time": "2021-07-06T17:02:24.455Z"
   },
   {
    "duration": 52,
    "start_time": "2021-07-06T17:02:25.036Z"
   },
   {
    "duration": 1034,
    "start_time": "2021-07-06T17:02:25.091Z"
   },
   {
    "duration": 462,
    "start_time": "2021-07-06T17:02:26.127Z"
   },
   {
    "duration": 20,
    "start_time": "2021-07-06T17:02:26.591Z"
   },
   {
    "duration": 71,
    "start_time": "2021-07-06T17:02:26.614Z"
   },
   {
    "duration": 849,
    "start_time": "2021-07-06T17:02:26.688Z"
   },
   {
    "duration": 769,
    "start_time": "2021-07-06T17:02:27.539Z"
   },
   {
    "duration": 684,
    "start_time": "2021-07-06T17:02:28.311Z"
   },
   {
    "duration": 44,
    "start_time": "2021-07-06T17:02:28.999Z"
   },
   {
    "duration": 4,
    "start_time": "2021-07-06T17:02:29.046Z"
   },
   {
    "duration": 10363,
    "start_time": "2021-07-06T17:02:29.052Z"
   },
   {
    "duration": 51,
    "start_time": "2021-07-06T17:02:39.418Z"
   },
   {
    "duration": 19,
    "start_time": "2021-07-06T17:02:39.471Z"
   },
   {
    "duration": 237,
    "start_time": "2021-07-06T17:02:39.493Z"
   },
   {
    "duration": 4,
    "start_time": "2021-07-06T17:02:39.733Z"
   },
   {
    "duration": 305,
    "start_time": "2021-07-06T17:02:39.740Z"
   },
   {
    "duration": 50,
    "start_time": "2021-07-06T17:02:40.048Z"
   },
   {
    "duration": 5,
    "start_time": "2021-07-06T17:02:40.101Z"
   },
   {
    "duration": 36,
    "start_time": "2021-07-06T17:02:40.108Z"
   },
   {
    "duration": 183,
    "start_time": "2021-07-06T17:02:40.146Z"
   },
   {
    "duration": 5,
    "start_time": "2021-07-06T17:02:40.331Z"
   },
   {
    "duration": 8,
    "start_time": "2021-07-06T17:02:40.338Z"
   },
   {
    "duration": 182,
    "start_time": "2021-07-06T17:02:40.348Z"
   },
   {
    "duration": 6,
    "start_time": "2021-07-06T17:02:40.533Z"
   },
   {
    "duration": 9561,
    "start_time": "2021-07-06T17:02:40.542Z"
   },
   {
    "duration": 16448,
    "start_time": "2021-07-06T17:03:10.539Z"
   },
   {
    "duration": 557,
    "start_time": "2021-07-06T17:03:30.879Z"
   },
   {
    "duration": 1589,
    "start_time": "2021-07-06T17:05:06.578Z"
   },
   {
    "duration": 1159,
    "start_time": "2021-07-06T17:05:08.170Z"
   },
   {
    "duration": 24,
    "start_time": "2021-07-06T17:05:09.332Z"
   },
   {
    "duration": 183,
    "start_time": "2021-07-06T17:05:09.359Z"
   },
   {
    "duration": 141,
    "start_time": "2021-07-06T17:05:09.544Z"
   },
   {
    "duration": 7,
    "start_time": "2021-07-06T17:05:09.687Z"
   },
   {
    "duration": 8,
    "start_time": "2021-07-06T17:05:09.697Z"
   },
   {
    "duration": 9,
    "start_time": "2021-07-06T17:05:09.710Z"
   },
   {
    "duration": 85,
    "start_time": "2021-07-06T17:05:09.723Z"
   },
   {
    "duration": 14,
    "start_time": "2021-07-06T17:05:09.811Z"
   },
   {
    "duration": 69,
    "start_time": "2021-07-06T17:05:09.828Z"
   },
   {
    "duration": 12,
    "start_time": "2021-07-06T17:05:09.899Z"
   },
   {
    "duration": 6,
    "start_time": "2021-07-06T17:05:09.914Z"
   },
   {
    "duration": 146,
    "start_time": "2021-07-06T17:05:09.923Z"
   },
   {
    "duration": 147,
    "start_time": "2021-07-06T17:05:10.071Z"
   },
   {
    "duration": 33,
    "start_time": "2021-07-06T17:05:10.221Z"
   },
   {
    "duration": 50,
    "start_time": "2021-07-06T17:05:10.256Z"
   },
   {
    "duration": 40,
    "start_time": "2021-07-06T17:05:10.308Z"
   },
   {
    "duration": 50,
    "start_time": "2021-07-06T17:05:10.351Z"
   },
   {
    "duration": 44,
    "start_time": "2021-07-06T17:05:10.404Z"
   },
   {
    "duration": 80,
    "start_time": "2021-07-06T17:05:10.451Z"
   },
   {
    "duration": 7,
    "start_time": "2021-07-06T17:05:10.533Z"
   },
   {
    "duration": 862,
    "start_time": "2021-07-06T17:05:10.546Z"
   },
   {
    "duration": 544,
    "start_time": "2021-07-06T17:05:11.411Z"
   },
   {
    "duration": 51,
    "start_time": "2021-07-06T17:05:11.957Z"
   },
   {
    "duration": 838,
    "start_time": "2021-07-06T17:05:12.010Z"
   },
   {
    "duration": 723,
    "start_time": "2021-07-06T17:05:12.852Z"
   },
   {
    "duration": 35,
    "start_time": "2021-07-06T17:05:13.577Z"
   },
   {
    "duration": 933,
    "start_time": "2021-07-06T17:05:13.614Z"
   },
   {
    "duration": 493,
    "start_time": "2021-07-06T17:05:14.549Z"
   },
   {
    "duration": 16,
    "start_time": "2021-07-06T17:05:15.044Z"
   },
   {
    "duration": 65,
    "start_time": "2021-07-06T17:05:15.063Z"
   },
   {
    "duration": 869,
    "start_time": "2021-07-06T17:05:15.131Z"
   },
   {
    "duration": 481,
    "start_time": "2021-07-06T17:05:16.002Z"
   },
   {
    "duration": 461,
    "start_time": "2021-07-06T17:05:16.485Z"
   },
   {
    "duration": 43,
    "start_time": "2021-07-06T17:05:16.949Z"
   },
   {
    "duration": 4,
    "start_time": "2021-07-06T17:05:16.995Z"
   },
   {
    "duration": 7481,
    "start_time": "2021-07-06T17:05:17.001Z"
   },
   {
    "duration": 42,
    "start_time": "2021-07-06T17:05:24.486Z"
   },
   {
    "duration": 6,
    "start_time": "2021-07-06T17:05:24.531Z"
   },
   {
    "duration": 196,
    "start_time": "2021-07-06T17:05:24.539Z"
   },
   {
    "duration": 5,
    "start_time": "2021-07-06T17:05:24.737Z"
   },
   {
    "duration": 226,
    "start_time": "2021-07-06T17:05:24.745Z"
   },
   {
    "duration": 38,
    "start_time": "2021-07-06T17:05:24.973Z"
   },
   {
    "duration": 7,
    "start_time": "2021-07-06T17:05:25.014Z"
   },
   {
    "duration": 29,
    "start_time": "2021-07-06T17:05:25.025Z"
   },
   {
    "duration": 119,
    "start_time": "2021-07-06T17:05:25.085Z"
   },
   {
    "duration": 7,
    "start_time": "2021-07-06T17:05:25.206Z"
   },
   {
    "duration": 6,
    "start_time": "2021-07-06T17:05:25.216Z"
   },
   {
    "duration": 147,
    "start_time": "2021-07-06T17:05:25.224Z"
   },
   {
    "duration": 16,
    "start_time": "2021-07-06T17:05:25.374Z"
   },
   {
    "duration": 8905,
    "start_time": "2021-07-06T17:05:25.392Z"
   },
   {
    "duration": 617,
    "start_time": "2021-07-06T17:05:34.299Z"
   },
   {
    "duration": 3,
    "start_time": "2021-07-06T17:05:34.918Z"
   },
   {
    "duration": 269682,
    "start_time": "2021-07-06T17:05:34.923Z"
   },
   {
    "duration": 364,
    "start_time": "2021-07-06T17:10:04.608Z"
   },
   {
    "duration": 24,
    "start_time": "2021-07-06T17:10:17.721Z"
   },
   {
    "duration": 101,
    "start_time": "2021-07-06T17:10:18.613Z"
   },
   {
    "duration": 5,
    "start_time": "2021-07-06T17:10:19.341Z"
   },
   {
    "duration": 3,
    "start_time": "2021-07-06T17:10:19.681Z"
   },
   {
    "duration": 108,
    "start_time": "2021-07-06T17:10:20.049Z"
   },
   {
    "duration": 7,
    "start_time": "2021-07-06T17:10:20.912Z"
   },
   {
    "duration": 12604,
    "start_time": "2021-07-06T17:10:21.697Z"
   },
   {
    "duration": 554,
    "start_time": "2021-07-06T17:10:39.117Z"
   },
   {
    "duration": 1582,
    "start_time": "2021-07-06T17:12:09.309Z"
   },
   {
    "duration": 1118,
    "start_time": "2021-07-06T17:12:10.894Z"
   },
   {
    "duration": 26,
    "start_time": "2021-07-06T17:12:12.015Z"
   },
   {
    "duration": 176,
    "start_time": "2021-07-06T17:12:12.044Z"
   },
   {
    "duration": 136,
    "start_time": "2021-07-06T17:12:12.223Z"
   },
   {
    "duration": 6,
    "start_time": "2021-07-06T17:12:12.361Z"
   },
   {
    "duration": 16,
    "start_time": "2021-07-06T17:12:12.371Z"
   },
   {
    "duration": 11,
    "start_time": "2021-07-06T17:12:12.391Z"
   },
   {
    "duration": 45,
    "start_time": "2021-07-06T17:12:12.404Z"
   },
   {
    "duration": 41,
    "start_time": "2021-07-06T17:12:12.451Z"
   },
   {
    "duration": 48,
    "start_time": "2021-07-06T17:12:12.494Z"
   },
   {
    "duration": 5,
    "start_time": "2021-07-06T17:12:12.545Z"
   },
   {
    "duration": 8,
    "start_time": "2021-07-06T17:12:12.552Z"
   },
   {
    "duration": 133,
    "start_time": "2021-07-06T17:12:12.585Z"
   },
   {
    "duration": 3,
    "start_time": "2021-07-06T17:12:12.721Z"
   },
   {
    "duration": 50,
    "start_time": "2021-07-06T17:12:12.726Z"
   },
   {
    "duration": 23,
    "start_time": "2021-07-06T17:12:12.786Z"
   },
   {
    "duration": 47,
    "start_time": "2021-07-06T17:12:12.811Z"
   },
   {
    "duration": 44,
    "start_time": "2021-07-06T17:12:12.861Z"
   },
   {
    "duration": 51,
    "start_time": "2021-07-06T17:12:12.908Z"
   },
   {
    "duration": 41,
    "start_time": "2021-07-06T17:12:12.962Z"
   },
   {
    "duration": 49,
    "start_time": "2021-07-06T17:12:13.011Z"
   },
   {
    "duration": 38,
    "start_time": "2021-07-06T17:12:13.064Z"
   },
   {
    "duration": 51,
    "start_time": "2021-07-06T17:12:13.105Z"
   },
   {
    "duration": 49,
    "start_time": "2021-07-06T17:12:13.159Z"
   },
   {
    "duration": 107,
    "start_time": "2021-07-06T17:12:13.211Z"
   },
   {
    "duration": 8,
    "start_time": "2021-07-06T17:12:13.322Z"
   },
   {
    "duration": 915,
    "start_time": "2021-07-06T17:12:13.333Z"
   },
   {
    "duration": 562,
    "start_time": "2021-07-06T17:12:14.250Z"
   },
   {
    "duration": 51,
    "start_time": "2021-07-06T17:12:14.814Z"
   },
   {
    "duration": 861,
    "start_time": "2021-07-06T17:12:14.867Z"
   },
   {
    "duration": 579,
    "start_time": "2021-07-06T17:12:15.730Z"
   },
   {
    "duration": 36,
    "start_time": "2021-07-06T17:12:16.312Z"
   },
   {
    "duration": 1110,
    "start_time": "2021-07-06T17:12:16.351Z"
   },
   {
    "duration": 507,
    "start_time": "2021-07-06T17:12:17.464Z"
   },
   {
    "duration": 28,
    "start_time": "2021-07-06T17:12:17.974Z"
   },
   {
    "duration": 47,
    "start_time": "2021-07-06T17:12:18.005Z"
   },
   {
    "duration": 916,
    "start_time": "2021-07-06T17:12:18.055Z"
   },
   {
    "duration": 514,
    "start_time": "2021-07-06T17:12:18.974Z"
   },
   {
    "duration": 478,
    "start_time": "2021-07-06T17:12:19.490Z"
   },
   {
    "duration": 44,
    "start_time": "2021-07-06T17:12:19.971Z"
   },
   {
    "duration": 7,
    "start_time": "2021-07-06T17:12:20.017Z"
   },
   {
    "duration": 10490,
    "start_time": "2021-07-06T17:12:20.026Z"
   },
   {
    "duration": 51,
    "start_time": "2021-07-06T17:12:30.518Z"
   },
   {
    "duration": 7,
    "start_time": "2021-07-06T17:12:30.585Z"
   },
   {
    "duration": 255,
    "start_time": "2021-07-06T17:12:30.595Z"
   },
   {
    "duration": 6,
    "start_time": "2021-07-06T17:12:30.853Z"
   },
   {
    "duration": 324,
    "start_time": "2021-07-06T17:12:30.861Z"
   },
   {
    "duration": 30,
    "start_time": "2021-07-06T17:12:31.188Z"
   },
   {
    "duration": 5,
    "start_time": "2021-07-06T17:12:31.221Z"
   },
   {
    "duration": 58,
    "start_time": "2021-07-06T17:12:31.228Z"
   },
   {
    "duration": 160,
    "start_time": "2021-07-06T17:12:31.289Z"
   },
   {
    "duration": 5,
    "start_time": "2021-07-06T17:12:31.451Z"
   },
   {
    "duration": 16,
    "start_time": "2021-07-06T17:12:31.458Z"
   },
   {
    "duration": 159,
    "start_time": "2021-07-06T17:12:31.486Z"
   },
   {
    "duration": 7,
    "start_time": "2021-07-06T17:12:31.647Z"
   },
   {
    "duration": 29346,
    "start_time": "2021-07-06T17:12:31.657Z"
   },
   {
    "duration": 634,
    "start_time": "2021-07-06T17:13:01.006Z"
   },
   {
    "duration": 3,
    "start_time": "2021-07-06T17:13:01.643Z"
   },
   {
    "duration": 182147,
    "start_time": "2021-07-06T17:13:01.649Z"
   },
   {
    "duration": 761,
    "start_time": "2021-07-06T17:16:03.799Z"
   },
   {
    "duration": 33949,
    "start_time": "2021-07-06T17:19:11.453Z"
   },
   {
    "duration": 536,
    "start_time": "2021-07-06T17:19:48.376Z"
   },
   {
    "duration": 6022,
    "start_time": "2021-07-06T17:24:55.177Z"
   },
   {
    "duration": 1539,
    "start_time": "2021-07-06T17:25:49.528Z"
   },
   {
    "duration": 10064,
    "start_time": "2021-07-06T17:25:51.070Z"
   },
   {
    "duration": 26,
    "start_time": "2021-07-06T17:26:01.138Z"
   },
   {
    "duration": 175,
    "start_time": "2021-07-06T17:26:01.167Z"
   },
   {
    "duration": 134,
    "start_time": "2021-07-06T17:26:01.345Z"
   },
   {
    "duration": 6,
    "start_time": "2021-07-06T17:26:01.485Z"
   },
   {
    "duration": 26,
    "start_time": "2021-07-06T17:26:01.494Z"
   },
   {
    "duration": 19,
    "start_time": "2021-07-06T17:26:01.525Z"
   },
   {
    "duration": 69,
    "start_time": "2021-07-06T17:26:01.547Z"
   },
   {
    "duration": 30,
    "start_time": "2021-07-06T17:26:01.618Z"
   },
   {
    "duration": 51,
    "start_time": "2021-07-06T17:26:01.651Z"
   },
   {
    "duration": 19,
    "start_time": "2021-07-06T17:26:01.705Z"
   },
   {
    "duration": 20,
    "start_time": "2021-07-06T17:26:01.726Z"
   },
   {
    "duration": 122,
    "start_time": "2021-07-06T17:26:01.749Z"
   },
   {
    "duration": 48,
    "start_time": "2021-07-06T17:26:01.874Z"
   },
   {
    "duration": 54,
    "start_time": "2021-07-06T17:26:01.925Z"
   },
   {
    "duration": 64,
    "start_time": "2021-07-06T17:26:01.986Z"
   },
   {
    "duration": 58,
    "start_time": "2021-07-06T17:26:02.052Z"
   },
   {
    "duration": 54,
    "start_time": "2021-07-06T17:26:02.113Z"
   },
   {
    "duration": 148,
    "start_time": "2021-07-06T17:26:02.186Z"
   },
   {
    "duration": 75,
    "start_time": "2021-07-06T17:26:02.337Z"
   },
   {
    "duration": 9,
    "start_time": "2021-07-06T17:26:02.415Z"
   },
   {
    "duration": 990,
    "start_time": "2021-07-06T17:26:02.430Z"
   },
   {
    "duration": 556,
    "start_time": "2021-07-06T17:26:03.424Z"
   },
   {
    "duration": 39,
    "start_time": "2021-07-06T17:26:03.986Z"
   },
   {
    "duration": 847,
    "start_time": "2021-07-06T17:26:04.028Z"
   },
   {
    "duration": 574,
    "start_time": "2021-07-06T17:26:04.886Z"
   },
   {
    "duration": 40,
    "start_time": "2021-07-06T17:26:05.462Z"
   },
   {
    "duration": 965,
    "start_time": "2021-07-06T17:26:05.505Z"
   },
   {
    "duration": 496,
    "start_time": "2021-07-06T17:26:06.473Z"
   },
   {
    "duration": 23,
    "start_time": "2021-07-06T17:26:06.972Z"
   },
   {
    "duration": 45,
    "start_time": "2021-07-06T17:26:06.997Z"
   },
   {
    "duration": 895,
    "start_time": "2021-07-06T17:26:07.045Z"
   },
   {
    "duration": 479,
    "start_time": "2021-07-06T17:26:07.942Z"
   },
   {
    "duration": 458,
    "start_time": "2021-07-06T17:26:08.423Z"
   },
   {
    "duration": 30,
    "start_time": "2021-07-06T17:26:08.886Z"
   },
   {
    "duration": 4,
    "start_time": "2021-07-06T17:26:08.918Z"
   },
   {
    "duration": 7160,
    "start_time": "2021-07-06T17:26:08.925Z"
   },
   {
    "duration": 43,
    "start_time": "2021-07-06T17:26:16.088Z"
   },
   {
    "duration": 7,
    "start_time": "2021-07-06T17:26:16.134Z"
   },
   {
    "duration": 203,
    "start_time": "2021-07-06T17:26:16.143Z"
   },
   {
    "duration": 5,
    "start_time": "2021-07-06T17:26:16.349Z"
   },
   {
    "duration": 234,
    "start_time": "2021-07-06T17:26:16.356Z"
   },
   {
    "duration": 28,
    "start_time": "2021-07-06T17:26:16.593Z"
   },
   {
    "duration": 6,
    "start_time": "2021-07-06T17:26:16.623Z"
   },
   {
    "duration": 56,
    "start_time": "2021-07-06T17:26:16.631Z"
   },
   {
    "duration": 142,
    "start_time": "2021-07-06T17:26:16.690Z"
   },
   {
    "duration": 7,
    "start_time": "2021-07-06T17:26:16.834Z"
   },
   {
    "duration": 9,
    "start_time": "2021-07-06T17:26:16.844Z"
   },
   {
    "duration": 155,
    "start_time": "2021-07-06T17:26:16.856Z"
   },
   {
    "duration": 7,
    "start_time": "2021-07-06T17:26:17.014Z"
   },
   {
    "duration": 16063,
    "start_time": "2021-07-06T17:26:17.024Z"
   },
   {
    "duration": 665,
    "start_time": "2021-07-06T17:26:33.090Z"
   },
   {
    "duration": 3,
    "start_time": "2021-07-06T17:26:33.758Z"
   },
   {
    "duration": 133263,
    "start_time": "2021-07-06T17:26:33.763Z"
   },
   {
    "duration": 339,
    "start_time": "2021-07-06T17:28:47.029Z"
   },
   {
    "duration": 29426,
    "start_time": "2021-07-06T17:29:01.202Z"
   },
   {
    "duration": 665,
    "start_time": "2021-07-06T17:29:33.062Z"
   },
   {
    "duration": 321,
    "start_time": "2021-07-06T17:43:46.905Z"
   },
   {
    "duration": 17,
    "start_time": "2021-07-06T17:44:14.845Z"
   },
   {
    "duration": 400,
    "start_time": "2021-07-06T17:44:19.739Z"
   },
   {
    "duration": 12,
    "start_time": "2021-07-06T17:49:01.040Z"
   },
   {
    "duration": 19,
    "start_time": "2021-07-06T17:49:59.296Z"
   },
   {
    "duration": 20,
    "start_time": "2021-07-06T17:49:59.767Z"
   },
   {
    "duration": 106,
    "start_time": "2021-07-06T17:50:00.251Z"
   },
   {
    "duration": 411,
    "start_time": "2021-07-06T17:50:32.907Z"
   },
   {
    "duration": 17,
    "start_time": "2021-07-06T17:50:57.035Z"
   },
   {
    "duration": 546,
    "start_time": "2021-07-06T17:51:03.028Z"
   },
   {
    "duration": 141,
    "start_time": "2021-07-06T17:51:05.335Z"
   },
   {
    "duration": 744,
    "start_time": "2021-07-06T17:51:06.067Z"
   },
   {
    "duration": 155835,
    "start_time": "2021-07-06T17:51:06.939Z"
   },
   {
    "duration": 1606,
    "start_time": "2021-07-06T17:53:55.199Z"
   },
   {
    "duration": 1148,
    "start_time": "2021-07-06T17:53:56.807Z"
   },
   {
    "duration": 33,
    "start_time": "2021-07-06T17:53:57.959Z"
   },
   {
    "duration": 171,
    "start_time": "2021-07-06T17:53:57.995Z"
   },
   {
    "duration": 135,
    "start_time": "2021-07-06T17:53:58.169Z"
   },
   {
    "duration": 5,
    "start_time": "2021-07-06T17:53:58.306Z"
   },
   {
    "duration": 6,
    "start_time": "2021-07-06T17:53:58.314Z"
   },
   {
    "duration": 7,
    "start_time": "2021-07-06T17:53:58.324Z"
   },
   {
    "duration": 77,
    "start_time": "2021-07-06T17:53:58.335Z"
   },
   {
    "duration": 12,
    "start_time": "2021-07-06T17:53:58.415Z"
   },
   {
    "duration": 69,
    "start_time": "2021-07-06T17:53:58.430Z"
   },
   {
    "duration": 6,
    "start_time": "2021-07-06T17:53:58.501Z"
   },
   {
    "duration": 11,
    "start_time": "2021-07-06T17:53:58.509Z"
   },
   {
    "duration": 132,
    "start_time": "2021-07-06T17:53:58.523Z"
   },
   {
    "duration": 46,
    "start_time": "2021-07-06T17:53:58.658Z"
   },
   {
    "duration": 45,
    "start_time": "2021-07-06T17:53:58.707Z"
   },
   {
    "duration": 68,
    "start_time": "2021-07-06T17:53:58.755Z"
   },
   {
    "duration": 62,
    "start_time": "2021-07-06T17:53:58.825Z"
   },
   {
    "duration": 50,
    "start_time": "2021-07-06T17:53:58.889Z"
   },
   {
    "duration": 168,
    "start_time": "2021-07-06T17:53:58.941Z"
   },
   {
    "duration": 80,
    "start_time": "2021-07-06T17:53:59.112Z"
   },
   {
    "duration": 6,
    "start_time": "2021-07-06T17:53:59.194Z"
   },
   {
    "duration": 857,
    "start_time": "2021-07-06T17:53:59.206Z"
   },
   {
    "duration": 548,
    "start_time": "2021-07-06T17:54:00.067Z"
   },
   {
    "duration": 38,
    "start_time": "2021-07-06T17:54:00.617Z"
   },
   {
    "duration": 956,
    "start_time": "2021-07-06T17:54:00.657Z"
   },
   {
    "duration": 560,
    "start_time": "2021-07-06T17:54:01.615Z"
   },
   {
    "duration": 33,
    "start_time": "2021-07-06T17:54:02.178Z"
   },
   {
    "duration": 898,
    "start_time": "2021-07-06T17:54:02.213Z"
   },
   {
    "duration": 482,
    "start_time": "2021-07-06T17:54:03.114Z"
   },
   {
    "duration": 14,
    "start_time": "2021-07-06T17:54:03.598Z"
   },
   {
    "duration": 71,
    "start_time": "2021-07-06T17:54:03.614Z"
   },
   {
    "duration": 854,
    "start_time": "2021-07-06T17:54:03.688Z"
   },
   {
    "duration": 491,
    "start_time": "2021-07-06T17:54:04.545Z"
   },
   {
    "duration": 485,
    "start_time": "2021-07-06T17:54:05.040Z"
   },
   {
    "duration": 31,
    "start_time": "2021-07-06T17:54:05.527Z"
   },
   {
    "duration": 25,
    "start_time": "2021-07-06T17:54:05.561Z"
   },
   {
    "duration": 8380,
    "start_time": "2021-07-06T17:54:05.589Z"
   },
   {
    "duration": 65,
    "start_time": "2021-07-06T17:54:13.972Z"
   },
   {
    "duration": 9,
    "start_time": "2021-07-06T17:54:14.040Z"
   },
   {
    "duration": 199,
    "start_time": "2021-07-06T17:54:14.052Z"
   },
   {
    "duration": 5,
    "start_time": "2021-07-06T17:54:14.254Z"
   },
   {
    "duration": 230,
    "start_time": "2021-07-06T17:54:14.261Z"
   },
   {
    "duration": 27,
    "start_time": "2021-07-06T17:54:14.493Z"
   },
   {
    "duration": 6,
    "start_time": "2021-07-06T17:54:14.523Z"
   },
   {
    "duration": 54,
    "start_time": "2021-07-06T17:54:14.532Z"
   },
   {
    "duration": 121,
    "start_time": "2021-07-06T17:54:14.589Z"
   },
   {
    "duration": 5,
    "start_time": "2021-07-06T17:54:14.712Z"
   },
   {
    "duration": 142,
    "start_time": "2021-07-06T17:54:14.720Z"
   },
   {
    "duration": 175377,
    "start_time": "2021-07-06T17:54:14.865Z"
   },
   {
    "duration": 3,
    "start_time": "2021-07-06T17:57:10.246Z"
   },
   {
    "duration": 29568,
    "start_time": "2021-07-06T17:57:10.252Z"
   },
   {
    "duration": 66,
    "start_time": "2021-07-06T17:57:39.823Z"
   },
   {
    "duration": 462,
    "start_time": "2021-07-06T17:57:39.892Z"
   },
   {
    "duration": 151,
    "start_time": "2021-07-06T17:57:40.358Z"
   },
   {
    "duration": 662,
    "start_time": "2021-07-06T17:57:40.512Z"
   },
   {
    "duration": 311071,
    "start_time": "2021-07-06T17:58:11.311Z"
   },
   {
    "duration": 1579,
    "start_time": "2021-07-06T18:06:06.814Z"
   },
   {
    "duration": 1174,
    "start_time": "2021-07-06T18:06:08.396Z"
   },
   {
    "duration": 35,
    "start_time": "2021-07-06T18:06:09.573Z"
   },
   {
    "duration": 180,
    "start_time": "2021-07-06T18:06:09.610Z"
   },
   {
    "duration": 136,
    "start_time": "2021-07-06T18:06:09.793Z"
   },
   {
    "duration": 6,
    "start_time": "2021-07-06T18:06:09.932Z"
   },
   {
    "duration": 7,
    "start_time": "2021-07-06T18:06:09.940Z"
   },
   {
    "duration": 7,
    "start_time": "2021-07-06T18:06:09.951Z"
   },
   {
    "duration": 49,
    "start_time": "2021-07-06T18:06:09.988Z"
   },
   {
    "duration": 21,
    "start_time": "2021-07-06T18:06:10.040Z"
   },
   {
    "duration": 58,
    "start_time": "2021-07-06T18:06:10.085Z"
   },
   {
    "duration": 9,
    "start_time": "2021-07-06T18:06:10.147Z"
   },
   {
    "duration": 32,
    "start_time": "2021-07-06T18:06:10.159Z"
   },
   {
    "duration": 147,
    "start_time": "2021-07-06T18:06:10.194Z"
   },
   {
    "duration": 47,
    "start_time": "2021-07-06T18:06:10.344Z"
   },
   {
    "duration": 54,
    "start_time": "2021-07-06T18:06:10.394Z"
   },
   {
    "duration": 71,
    "start_time": "2021-07-06T18:06:10.450Z"
   },
   {
    "duration": 45,
    "start_time": "2021-07-06T18:06:10.523Z"
   },
   {
    "duration": 47,
    "start_time": "2021-07-06T18:06:10.585Z"
   },
   {
    "duration": 156,
    "start_time": "2021-07-06T18:06:10.635Z"
   },
   {
    "duration": 68,
    "start_time": "2021-07-06T18:06:10.794Z"
   },
   {
    "duration": 24,
    "start_time": "2021-07-06T18:06:10.864Z"
   },
   {
    "duration": 865,
    "start_time": "2021-07-06T18:06:10.894Z"
   },
   {
    "duration": 528,
    "start_time": "2021-07-06T18:06:11.762Z"
   },
   {
    "duration": 37,
    "start_time": "2021-07-06T18:06:12.294Z"
   },
   {
    "duration": 933,
    "start_time": "2021-07-06T18:06:12.333Z"
   },
   {
    "duration": 543,
    "start_time": "2021-07-06T18:06:13.269Z"
   },
   {
    "duration": 32,
    "start_time": "2021-07-06T18:06:13.816Z"
   },
   {
    "duration": 935,
    "start_time": "2021-07-06T18:06:13.851Z"
   },
   {
    "duration": 465,
    "start_time": "2021-07-06T18:06:14.789Z"
   },
   {
    "duration": 13,
    "start_time": "2021-07-06T18:06:15.257Z"
   },
   {
    "duration": 43,
    "start_time": "2021-07-06T18:06:15.286Z"
   },
   {
    "duration": 821,
    "start_time": "2021-07-06T18:06:15.331Z"
   },
   {
    "duration": 472,
    "start_time": "2021-07-06T18:06:16.155Z"
   },
   {
    "duration": 460,
    "start_time": "2021-07-06T18:06:16.630Z"
   },
   {
    "duration": 31,
    "start_time": "2021-07-06T18:06:17.093Z"
   },
   {
    "duration": 4,
    "start_time": "2021-07-06T18:06:17.126Z"
   },
   {
    "duration": 6634,
    "start_time": "2021-07-06T18:06:17.133Z"
   },
   {
    "duration": 49,
    "start_time": "2021-07-06T18:06:23.770Z"
   },
   {
    "duration": 7,
    "start_time": "2021-07-06T18:06:23.822Z"
   },
   {
    "duration": 194,
    "start_time": "2021-07-06T18:06:23.831Z"
   },
   {
    "duration": 5,
    "start_time": "2021-07-06T18:06:24.028Z"
   },
   {
    "duration": 216,
    "start_time": "2021-07-06T18:06:24.035Z"
   },
   {
    "duration": 36,
    "start_time": "2021-07-06T18:06:24.254Z"
   },
   {
    "duration": 5,
    "start_time": "2021-07-06T18:06:24.292Z"
   },
   {
    "duration": 26,
    "start_time": "2021-07-06T18:06:24.300Z"
   },
   {
    "duration": 138,
    "start_time": "2021-07-06T18:06:24.329Z"
   },
   {
    "duration": 4,
    "start_time": "2021-07-06T18:06:24.469Z"
   },
   {
    "duration": 122,
    "start_time": "2021-07-06T18:06:24.486Z"
   },
   {
    "duration": 8985,
    "start_time": "2021-07-06T18:06:24.611Z"
   },
   {
    "duration": 4,
    "start_time": "2021-07-06T18:06:33.599Z"
   },
   {
    "duration": 30684,
    "start_time": "2021-07-06T18:06:33.606Z"
   },
   {
    "duration": 12,
    "start_time": "2021-07-06T18:07:04.293Z"
   },
   {
    "duration": 537,
    "start_time": "2021-07-06T18:07:04.307Z"
   },
   {
    "duration": 176,
    "start_time": "2021-07-06T18:07:04.846Z"
   },
   {
    "duration": 737,
    "start_time": "2021-07-06T18:07:05.024Z"
   },
   {
    "duration": 3066,
    "start_time": "2021-07-06T18:07:05.764Z"
   },
   {
    "duration": 573,
    "start_time": "2021-07-06T18:07:08.259Z"
   },
   {
    "duration": 568,
    "start_time": "2021-07-06T18:07:08.266Z"
   },
   {
    "duration": 566,
    "start_time": "2021-07-06T18:07:08.269Z"
   },
   {
    "duration": 2908,
    "start_time": "2021-07-06T18:07:45.571Z"
   },
   {
    "duration": 2346265,
    "start_time": "2021-07-06T18:07:57.728Z"
   },
   {
    "duration": 15,
    "start_time": "2021-07-06T18:48:12.516Z"
   },
   {
    "duration": 8840,
    "start_time": "2021-07-06T18:49:04.467Z"
   },
   {
    "duration": 58059,
    "start_time": "2021-07-06T18:50:33.551Z"
   },
   {
    "duration": 29483,
    "start_time": "2021-07-06T18:51:40.231Z"
   },
   {
    "duration": 30681,
    "start_time": "2021-07-06T18:52:40.011Z"
   },
   {
    "duration": 34377,
    "start_time": "2021-07-06T19:00:15.427Z"
   },
   {
    "duration": 14,
    "start_time": "2021-07-06T19:01:02.183Z"
   },
   {
    "duration": 75216,
    "start_time": "2021-07-06T19:01:15.851Z"
   },
   {
    "duration": 354939,
    "start_time": "2021-07-06T19:02:36.070Z"
   },
   {
    "duration": 12,
    "start_time": "2021-07-06T19:11:17.370Z"
   },
   {
    "duration": 1805084,
    "start_time": "2021-07-06T19:11:42.426Z"
   },
   {
    "duration": 12,
    "start_time": "2021-07-06T19:42:13.660Z"
   },
   {
    "duration": 12,
    "start_time": "2021-07-06T19:42:22.160Z"
   },
   {
    "duration": 7,
    "start_time": "2021-07-06T19:45:06.240Z"
   },
   {
    "duration": 3,
    "start_time": "2021-07-06T19:45:07.332Z"
   },
   {
    "duration": 23556,
    "start_time": "2021-07-06T19:45:11.344Z"
   },
   {
    "duration": 24014,
    "start_time": "2021-07-06T19:46:08.896Z"
   },
   {
    "duration": 5250,
    "start_time": "2021-07-06T19:46:36.456Z"
   },
   {
    "duration": 7,
    "start_time": "2021-07-06T19:46:44.724Z"
   },
   {
    "duration": 530,
    "start_time": "2021-07-06T19:46:50.783Z"
   },
   {
    "duration": 369,
    "start_time": "2021-07-06T19:47:45.179Z"
   },
   {
    "duration": 376,
    "start_time": "2021-07-06T19:47:56.852Z"
   },
   {
    "duration": 8,
    "start_time": "2021-07-06T19:48:29.699Z"
   },
   {
    "duration": 445,
    "start_time": "2021-07-06T19:48:31.819Z"
   },
   {
    "duration": 6,
    "start_time": "2021-07-06T19:49:05.045Z"
   },
   {
    "duration": 7,
    "start_time": "2021-07-06T19:49:17.636Z"
   },
   {
    "duration": 8,
    "start_time": "2021-07-06T19:49:45.815Z"
   },
   {
    "duration": 7,
    "start_time": "2021-07-06T19:50:05.268Z"
   },
   {
    "duration": 573,
    "start_time": "2021-07-06T19:50:07.868Z"
   },
   {
    "duration": 21,
    "start_time": "2021-07-06T19:52:33.851Z"
   },
   {
    "duration": 17203,
    "start_time": "2021-07-06T19:52:34.557Z"
   },
   {
    "duration": 68,
    "start_time": "2021-07-06T19:52:56.676Z"
   },
   {
    "duration": 66,
    "start_time": "2021-07-06T19:53:02.239Z"
   },
   {
    "duration": 591,
    "start_time": "2021-07-06T19:53:05.184Z"
   },
   {
    "duration": 16,
    "start_time": "2021-07-06T19:53:59.596Z"
   },
   {
    "duration": 4,
    "start_time": "2021-07-06T19:54:48.028Z"
   },
   {
    "duration": 17404,
    "start_time": "2021-07-06T19:54:48.923Z"
   },
   {
    "duration": 5,
    "start_time": "2021-07-06T19:56:19.403Z"
   },
   {
    "duration": 8538,
    "start_time": "2021-07-06T19:56:20.123Z"
   },
   {
    "duration": 4,
    "start_time": "2021-07-06T19:56:29.299Z"
   },
   {
    "duration": 212327,
    "start_time": "2021-07-06T19:56:29.915Z"
   },
   {
    "duration": 181,
    "start_time": "2021-07-06T20:00:07.511Z"
   },
   {
    "duration": 565,
    "start_time": "2021-07-06T20:00:09.115Z"
   },
   {
    "duration": 4,
    "start_time": "2021-07-06T20:02:46.796Z"
   },
   {
    "duration": 657720,
    "start_time": "2021-07-06T20:02:47.575Z"
   },
   {
    "duration": 1441,
    "start_time": "2021-07-06T20:14:48.167Z"
   },
   {
    "duration": 610,
    "start_time": "2021-07-06T20:14:51.903Z"
   },
   {
    "duration": 1592,
    "start_time": "2021-07-07T14:50:57.825Z"
   },
   {
    "duration": 1111,
    "start_time": "2021-07-07T14:50:59.420Z"
   },
   {
    "duration": 28,
    "start_time": "2021-07-07T14:51:00.535Z"
   },
   {
    "duration": 188,
    "start_time": "2021-07-07T14:51:00.566Z"
   },
   {
    "duration": 136,
    "start_time": "2021-07-07T14:51:00.756Z"
   },
   {
    "duration": 5,
    "start_time": "2021-07-07T14:51:00.894Z"
   },
   {
    "duration": 5,
    "start_time": "2021-07-07T14:51:00.910Z"
   },
   {
    "duration": 13,
    "start_time": "2021-07-07T14:51:00.919Z"
   },
   {
    "duration": 51,
    "start_time": "2021-07-07T14:51:00.934Z"
   },
   {
    "duration": 25,
    "start_time": "2021-07-07T14:51:00.987Z"
   },
   {
    "duration": 56,
    "start_time": "2021-07-07T14:51:01.014Z"
   },
   {
    "duration": 20,
    "start_time": "2021-07-07T14:51:01.072Z"
   },
   {
    "duration": 19,
    "start_time": "2021-07-07T14:51:01.094Z"
   },
   {
    "duration": 121,
    "start_time": "2021-07-07T14:51:01.115Z"
   },
   {
    "duration": 45,
    "start_time": "2021-07-07T14:51:01.239Z"
   },
   {
    "duration": 65,
    "start_time": "2021-07-07T14:51:01.286Z"
   },
   {
    "duration": 84,
    "start_time": "2021-07-07T14:51:01.353Z"
   },
   {
    "duration": 49,
    "start_time": "2021-07-07T14:51:01.439Z"
   },
   {
    "duration": 78,
    "start_time": "2021-07-07T14:51:01.490Z"
   },
   {
    "duration": 172,
    "start_time": "2021-07-07T14:51:01.571Z"
   },
   {
    "duration": 81,
    "start_time": "2021-07-07T14:51:01.746Z"
   },
   {
    "duration": 9,
    "start_time": "2021-07-07T14:51:01.829Z"
   },
   {
    "duration": 939,
    "start_time": "2021-07-07T14:51:01.845Z"
   },
   {
    "duration": 554,
    "start_time": "2021-07-07T14:51:02.788Z"
   },
   {
    "duration": 38,
    "start_time": "2021-07-07T14:51:03.344Z"
   },
   {
    "duration": 862,
    "start_time": "2021-07-07T14:51:03.385Z"
   },
   {
    "duration": 640,
    "start_time": "2021-07-07T14:51:04.249Z"
   },
   {
    "duration": 38,
    "start_time": "2021-07-07T14:51:04.891Z"
   },
   {
    "duration": 1020,
    "start_time": "2021-07-07T14:51:04.932Z"
   },
   {
    "duration": 485,
    "start_time": "2021-07-07T14:51:05.955Z"
   },
   {
    "duration": 14,
    "start_time": "2021-07-07T14:51:06.443Z"
   },
   {
    "duration": 69,
    "start_time": "2021-07-07T14:51:06.459Z"
   },
   {
    "duration": 823,
    "start_time": "2021-07-07T14:51:06.531Z"
   },
   {
    "duration": 484,
    "start_time": "2021-07-07T14:51:07.357Z"
   },
   {
    "duration": 469,
    "start_time": "2021-07-07T14:51:07.843Z"
   },
   {
    "duration": 31,
    "start_time": "2021-07-07T14:51:08.314Z"
   },
   {
    "duration": 4,
    "start_time": "2021-07-07T14:51:08.347Z"
   },
   {
    "duration": 7460,
    "start_time": "2021-07-07T14:51:08.354Z"
   },
   {
    "duration": 43,
    "start_time": "2021-07-07T14:51:15.816Z"
   },
   {
    "duration": 7,
    "start_time": "2021-07-07T14:51:15.861Z"
   },
   {
    "duration": 203,
    "start_time": "2021-07-07T14:51:15.871Z"
   },
   {
    "duration": 5,
    "start_time": "2021-07-07T14:51:16.077Z"
   },
   {
    "duration": 228,
    "start_time": "2021-07-07T14:51:16.084Z"
   },
   {
    "duration": 26,
    "start_time": "2021-07-07T14:51:16.315Z"
   },
   {
    "duration": 5,
    "start_time": "2021-07-07T14:51:16.344Z"
   },
   {
    "duration": 31,
    "start_time": "2021-07-07T14:51:16.351Z"
   },
   {
    "duration": 143,
    "start_time": "2021-07-07T14:51:16.384Z"
   },
   {
    "duration": 4,
    "start_time": "2021-07-07T14:51:16.530Z"
   },
   {
    "duration": 162,
    "start_time": "2021-07-07T14:51:16.536Z"
   },
   {
    "duration": 325434,
    "start_time": "2021-07-07T14:51:16.701Z"
   },
   {
    "duration": 12,
    "start_time": "2021-07-07T14:56:42.138Z"
   },
   {
    "duration": 8,
    "start_time": "2021-07-07T14:56:42.152Z"
   },
   {
    "duration": 1769948,
    "start_time": "2021-07-07T14:56:42.163Z"
   },
   {
    "duration": 13,
    "start_time": "2021-07-07T15:26:12.113Z"
   },
   {
    "duration": 15,
    "start_time": "2021-07-07T15:26:12.128Z"
   },
   {
    "duration": 541,
    "start_time": "2021-07-07T15:26:12.146Z"
   },
   {
    "duration": 151,
    "start_time": "2021-07-07T15:26:12.689Z"
   },
   {
    "duration": 657,
    "start_time": "2021-07-07T15:26:12.842Z"
   },
   {
    "duration": 2422691,
    "start_time": "2021-07-07T15:26:13.501Z"
   },
   {
    "duration": 31,
    "start_time": "2021-07-07T16:06:36.195Z"
   },
   {
    "duration": 10,
    "start_time": "2021-07-07T16:06:36.229Z"
   },
   {
    "duration": 23,
    "start_time": "2021-07-07T16:06:36.242Z"
   },
   {
    "duration": 26960,
    "start_time": "2021-07-07T16:06:36.267Z"
   },
   {
    "duration": 5000,
    "start_time": "2021-07-07T16:07:03.230Z"
   },
   {
    "duration": 684,
    "start_time": "2021-07-07T16:07:08.233Z"
   },
   {
    "duration": 4,
    "start_time": "2021-07-07T16:07:08.920Z"
   },
   {
    "duration": 205761,
    "start_time": "2021-07-07T16:07:08.927Z"
   },
   {
    "duration": 223,
    "start_time": "2021-07-07T16:10:34.697Z"
   },
   {
    "duration": 866,
    "start_time": "2021-07-07T16:10:34.922Z"
   },
   {
    "duration": 5,
    "start_time": "2021-07-07T16:10:35.792Z"
   },
   {
    "duration": 670323,
    "start_time": "2021-07-07T16:10:35.810Z"
   },
   {
    "duration": 1474,
    "start_time": "2021-07-07T16:21:46.135Z"
   },
   {
    "duration": 632,
    "start_time": "2021-07-07T16:21:47.612Z"
   },
   {
    "duration": 4,
    "start_time": "2021-07-07T16:36:12.438Z"
   },
   {
    "duration": 208647,
    "start_time": "2021-07-07T16:36:13.527Z"
   },
   {
    "duration": 7,
    "start_time": "2021-07-07T16:39:42.177Z"
   },
   {
    "duration": 198,
    "start_time": "2021-07-07T16:39:46.717Z"
   },
   {
    "duration": 575,
    "start_time": "2021-07-07T16:39:49.477Z"
   },
   {
    "duration": 576,
    "start_time": "2021-07-07T16:39:56.982Z"
   },
   {
    "duration": 650,
    "start_time": "2021-07-07T16:41:25.846Z"
   },
   {
    "duration": 5,
    "start_time": "2021-07-07T16:55:19.088Z"
   },
   {
    "duration": 49748,
    "start_time": "2021-07-07T16:55:22.681Z"
   },
   {
    "duration": 9633,
    "start_time": "2021-07-07T16:56:19.983Z"
   },
   {
    "duration": 707,
    "start_time": "2021-07-07T16:56:32.040Z"
   },
   {
    "duration": 5,
    "start_time": "2021-07-07T16:56:51.264Z"
   },
   {
    "duration": 418569,
    "start_time": "2021-07-07T16:56:53.801Z"
   },
   {
    "duration": 291,
    "start_time": "2021-07-07T17:04:09.531Z"
   },
   {
    "duration": 584,
    "start_time": "2021-07-07T17:04:11.187Z"
   },
   {
    "duration": 3,
    "start_time": "2021-07-07T17:04:42.732Z"
   },
   {
    "duration": 271126,
    "start_time": "2021-07-07T17:04:43.828Z"
   },
   {
    "duration": 644,
    "start_time": "2021-07-07T17:11:25.816Z"
   },
   {
    "duration": 619,
    "start_time": "2021-07-07T17:11:27.707Z"
   },
   {
    "duration": 576,
    "start_time": "2021-07-07T17:38:22.254Z"
   },
   {
    "duration": 324,
    "start_time": "2021-07-07T17:38:55.689Z"
   },
   {
    "duration": 389,
    "start_time": "2021-07-07T17:39:43.161Z"
   },
   {
    "duration": 14,
    "start_time": "2021-07-07T17:39:46.789Z"
   },
   {
    "duration": 14,
    "start_time": "2021-07-07T17:40:09.029Z"
   },
   {
    "duration": 16,
    "start_time": "2021-07-07T17:40:18.948Z"
   },
   {
    "duration": 1660,
    "start_time": "2021-07-07T17:56:10.004Z"
   },
   {
    "duration": 1259,
    "start_time": "2021-07-07T17:56:11.666Z"
   },
   {
    "duration": 26,
    "start_time": "2021-07-07T17:56:12.929Z"
   },
   {
    "duration": 201,
    "start_time": "2021-07-07T17:56:12.959Z"
   },
   {
    "duration": 150,
    "start_time": "2021-07-07T17:56:13.162Z"
   },
   {
    "duration": 8,
    "start_time": "2021-07-07T17:56:13.316Z"
   },
   {
    "duration": 8,
    "start_time": "2021-07-07T17:56:13.327Z"
   },
   {
    "duration": 9,
    "start_time": "2021-07-07T17:56:13.339Z"
   },
   {
    "duration": 88,
    "start_time": "2021-07-07T17:56:13.351Z"
   },
   {
    "duration": 11,
    "start_time": "2021-07-07T17:56:13.442Z"
   },
   {
    "duration": 66,
    "start_time": "2021-07-07T17:56:13.456Z"
   },
   {
    "duration": 5,
    "start_time": "2021-07-07T17:56:13.525Z"
   },
   {
    "duration": 9,
    "start_time": "2021-07-07T17:56:13.533Z"
   },
   {
    "duration": 160,
    "start_time": "2021-07-07T17:56:13.545Z"
   },
   {
    "duration": 54,
    "start_time": "2021-07-07T17:56:13.707Z"
   },
   {
    "duration": 74,
    "start_time": "2021-07-07T17:56:13.764Z"
   },
   {
    "duration": 74,
    "start_time": "2021-07-07T17:56:13.841Z"
   },
   {
    "duration": 52,
    "start_time": "2021-07-07T17:56:13.918Z"
   },
   {
    "duration": 81,
    "start_time": "2021-07-07T17:56:13.972Z"
   },
   {
    "duration": 166,
    "start_time": "2021-07-07T17:56:14.056Z"
   },
   {
    "duration": 82,
    "start_time": "2021-07-07T17:56:14.226Z"
   },
   {
    "duration": 15,
    "start_time": "2021-07-07T17:56:14.312Z"
   },
   {
    "duration": 910,
    "start_time": "2021-07-07T17:56:14.335Z"
   },
   {
    "duration": 564,
    "start_time": "2021-07-07T17:56:15.249Z"
   },
   {
    "duration": 40,
    "start_time": "2021-07-07T17:56:15.817Z"
   },
   {
    "duration": 901,
    "start_time": "2021-07-07T17:56:15.859Z"
   },
   {
    "duration": 673,
    "start_time": "2021-07-07T17:56:16.763Z"
   },
   {
    "duration": 32,
    "start_time": "2021-07-07T17:56:17.439Z"
   },
   {
    "duration": 1039,
    "start_time": "2021-07-07T17:56:17.474Z"
   },
   {
    "duration": 695,
    "start_time": "2021-07-07T17:56:18.517Z"
   },
   {
    "duration": 18,
    "start_time": "2021-07-07T17:56:19.216Z"
   },
   {
    "duration": 97,
    "start_time": "2021-07-07T17:56:19.236Z"
   },
   {
    "duration": 929,
    "start_time": "2021-07-07T17:56:19.335Z"
   },
   {
    "duration": 501,
    "start_time": "2021-07-07T17:56:20.267Z"
   },
   {
    "duration": 491,
    "start_time": "2021-07-07T17:56:20.770Z"
   },
   {
    "duration": 31,
    "start_time": "2021-07-07T17:56:21.264Z"
   },
   {
    "duration": 6,
    "start_time": "2021-07-07T17:56:21.313Z"
   },
   {
    "duration": 8550,
    "start_time": "2021-07-07T17:56:21.323Z"
   },
   {
    "duration": 59,
    "start_time": "2021-07-07T17:56:29.876Z"
   },
   {
    "duration": 9,
    "start_time": "2021-07-07T17:56:29.939Z"
   },
   {
    "duration": 223,
    "start_time": "2021-07-07T17:56:29.950Z"
   },
   {
    "duration": 5,
    "start_time": "2021-07-07T17:56:30.176Z"
   },
   {
    "duration": 269,
    "start_time": "2021-07-07T17:56:30.183Z"
   },
   {
    "duration": 27,
    "start_time": "2021-07-07T17:56:30.455Z"
   },
   {
    "duration": 73,
    "start_time": "2021-07-07T17:56:30.484Z"
   },
   {
    "duration": 38,
    "start_time": "2021-07-07T17:56:30.560Z"
   },
   {
    "duration": 139,
    "start_time": "2021-07-07T17:56:30.600Z"
   },
   {
    "duration": 5,
    "start_time": "2021-07-07T17:56:30.741Z"
   },
   {
    "duration": 197,
    "start_time": "2021-07-07T17:56:30.749Z"
   },
   {
    "duration": 622187,
    "start_time": "2021-07-07T17:56:30.949Z"
   },
   {
    "duration": 12,
    "start_time": "2021-07-07T18:06:53.139Z"
   },
   {
    "duration": 1784280,
    "start_time": "2021-07-07T18:06:53.153Z"
   },
   {
    "duration": 16,
    "start_time": "2021-07-07T18:36:37.436Z"
   },
   {
    "duration": 15,
    "start_time": "2021-07-07T18:36:37.454Z"
   },
   {
    "duration": 615,
    "start_time": "2021-07-07T18:36:37.471Z"
   },
   {
    "duration": 159,
    "start_time": "2021-07-07T18:36:38.088Z"
   },
   {
    "duration": 685,
    "start_time": "2021-07-07T18:36:38.249Z"
   },
   {
    "duration": 2345499,
    "start_time": "2021-07-07T18:36:38.937Z"
   },
   {
    "duration": 16,
    "start_time": "2021-07-07T19:15:44.438Z"
   },
   {
    "duration": 7,
    "start_time": "2021-07-07T19:15:44.457Z"
   },
   {
    "duration": 43,
    "start_time": "2021-07-07T19:15:44.466Z"
   },
   {
    "duration": 48617,
    "start_time": "2021-07-07T19:15:44.511Z"
   },
   {
    "duration": 10699,
    "start_time": "2021-07-07T19:16:33.210Z"
   },
   {
    "duration": 676,
    "start_time": "2021-07-07T19:16:43.912Z"
   },
   {
    "duration": 4,
    "start_time": "2021-07-07T19:16:44.590Z"
   },
   {
    "duration": 410472,
    "start_time": "2021-07-07T19:16:44.597Z"
   },
   {
    "duration": 343,
    "start_time": "2021-07-07T19:23:35.072Z"
   },
   {
    "duration": 610,
    "start_time": "2021-07-07T19:23:35.422Z"
   },
   {
    "duration": 4,
    "start_time": "2021-07-07T19:23:36.034Z"
   },
   {
    "duration": 267833,
    "start_time": "2021-07-07T19:23:36.040Z"
   },
   {
    "duration": 658,
    "start_time": "2021-07-07T19:28:03.875Z"
   },
   {
    "duration": 657,
    "start_time": "2021-07-07T19:28:04.536Z"
   },
   {
    "duration": 21,
    "start_time": "2021-07-07T19:28:05.196Z"
   },
   {
    "duration": 1142,
    "start_time": "2021-07-08T16:30:09.265Z"
   },
   {
    "duration": 755,
    "start_time": "2021-07-08T16:30:10.408Z"
   },
   {
    "duration": 15,
    "start_time": "2021-07-08T16:30:11.164Z"
   },
   {
    "duration": 124,
    "start_time": "2021-07-08T16:30:11.181Z"
   },
   {
    "duration": 98,
    "start_time": "2021-07-08T16:30:11.307Z"
   },
   {
    "duration": 3,
    "start_time": "2021-07-08T16:30:11.407Z"
   },
   {
    "duration": 8,
    "start_time": "2021-07-08T16:30:11.411Z"
   },
   {
    "duration": 9,
    "start_time": "2021-07-08T16:30:11.421Z"
   },
   {
    "duration": 33,
    "start_time": "2021-07-08T16:30:11.431Z"
   },
   {
    "duration": 13,
    "start_time": "2021-07-08T16:30:11.466Z"
   },
   {
    "duration": 28,
    "start_time": "2021-07-08T16:30:11.481Z"
   },
   {
    "duration": 4,
    "start_time": "2021-07-08T16:30:11.511Z"
   },
   {
    "duration": 4,
    "start_time": "2021-07-08T16:30:11.517Z"
   },
   {
    "duration": 80,
    "start_time": "2021-07-08T16:30:11.541Z"
   },
   {
    "duration": 38,
    "start_time": "2021-07-08T16:30:11.623Z"
   },
   {
    "duration": 40,
    "start_time": "2021-07-08T16:30:11.663Z"
   },
   {
    "duration": 37,
    "start_time": "2021-07-08T16:30:11.704Z"
   },
   {
    "duration": 32,
    "start_time": "2021-07-08T16:30:11.743Z"
   },
   {
    "duration": 36,
    "start_time": "2021-07-08T16:30:11.776Z"
   },
   {
    "duration": 97,
    "start_time": "2021-07-08T16:30:11.813Z"
   },
   {
    "duration": 54,
    "start_time": "2021-07-08T16:30:11.911Z"
   },
   {
    "duration": 5,
    "start_time": "2021-07-08T16:30:11.967Z"
   },
   {
    "duration": 479,
    "start_time": "2021-07-08T16:30:11.974Z"
   },
   {
    "duration": 450,
    "start_time": "2021-07-08T16:30:12.455Z"
   },
   {
    "duration": 34,
    "start_time": "2021-07-08T16:30:12.907Z"
   },
   {
    "duration": 457,
    "start_time": "2021-07-08T16:30:12.943Z"
   },
   {
    "duration": 342,
    "start_time": "2021-07-08T16:30:13.402Z"
   },
   {
    "duration": 18,
    "start_time": "2021-07-08T16:30:13.746Z"
   },
   {
    "duration": 509,
    "start_time": "2021-07-08T16:30:13.765Z"
   },
   {
    "duration": 271,
    "start_time": "2021-07-08T16:30:14.276Z"
   },
   {
    "duration": 9,
    "start_time": "2021-07-08T16:30:14.549Z"
   },
   {
    "duration": 24,
    "start_time": "2021-07-08T16:30:14.560Z"
   },
   {
    "duration": 576,
    "start_time": "2021-07-08T16:30:14.585Z"
   },
   {
    "duration": 282,
    "start_time": "2021-07-08T16:30:15.162Z"
   },
   {
    "duration": 264,
    "start_time": "2021-07-08T16:30:15.446Z"
   },
   {
    "duration": 29,
    "start_time": "2021-07-08T16:30:15.712Z"
   },
   {
    "duration": 4,
    "start_time": "2021-07-08T16:30:15.743Z"
   },
   {
    "duration": 3909,
    "start_time": "2021-07-08T16:30:15.749Z"
   },
   {
    "duration": 24,
    "start_time": "2021-07-08T16:30:19.660Z"
   },
   {
    "duration": 5,
    "start_time": "2021-07-08T16:30:19.686Z"
   },
   {
    "duration": 121,
    "start_time": "2021-07-08T16:30:19.693Z"
   },
   {
    "duration": 4,
    "start_time": "2021-07-08T16:30:19.816Z"
   },
   {
    "duration": 128,
    "start_time": "2021-07-08T16:30:19.822Z"
   },
   {
    "duration": 16,
    "start_time": "2021-07-08T16:30:19.952Z"
   },
   {
    "duration": 4,
    "start_time": "2021-07-08T16:30:19.970Z"
   },
   {
    "duration": 21,
    "start_time": "2021-07-08T16:30:19.976Z"
   },
   {
    "duration": 66,
    "start_time": "2021-07-08T16:30:19.999Z"
   },
   {
    "duration": 3,
    "start_time": "2021-07-08T16:30:20.067Z"
   },
   {
    "duration": 406,
    "start_time": "2021-07-08T16:30:24.071Z"
   },
   {
    "duration": 27,
    "start_time": "2021-07-08T16:30:36.405Z"
   },
   {
    "duration": 4,
    "start_time": "2021-07-08T16:31:11.709Z"
   },
   {
    "duration": 175819,
    "start_time": "2021-07-08T16:40:19.324Z"
   },
   {
    "duration": 8,
    "start_time": "2021-07-08T16:43:26.027Z"
   },
   {
    "duration": 108453,
    "start_time": "2021-07-08T16:45:55.391Z"
   },
   {
    "duration": 177,
    "start_time": "2021-07-08T16:48:18.248Z"
   },
   {
    "duration": 320,
    "start_time": "2021-07-08T16:48:51.643Z"
   },
   {
    "duration": 174,
    "start_time": "2021-07-08T16:49:06.843Z"
   },
   {
    "duration": 189,
    "start_time": "2021-07-08T16:50:46.720Z"
   },
   {
    "duration": 183,
    "start_time": "2021-07-08T16:51:03.435Z"
   },
   {
    "duration": 180,
    "start_time": "2021-07-08T16:52:34.232Z"
   },
   {
    "duration": 152672,
    "start_time": "2021-07-08T16:52:46.683Z"
   },
   {
    "duration": 9,
    "start_time": "2021-07-08T16:55:22.390Z"
   },
   {
    "duration": 247514,
    "start_time": "2021-07-08T16:56:20.047Z"
   },
   {
    "duration": 7,
    "start_time": "2021-07-08T17:07:10.442Z"
   },
   {
    "duration": 265,
    "start_time": "2021-07-08T17:10:10.335Z"
   },
   {
    "duration": 18160,
    "start_time": "2021-07-08T17:11:04.985Z"
   },
   {
    "duration": 18738,
    "start_time": "2021-07-08T17:11:50.613Z"
   },
   {
    "duration": 219417,
    "start_time": "2021-07-08T17:19:47.629Z"
   },
   {
    "duration": 157755,
    "start_time": "2021-07-08T17:24:26.090Z"
   },
   {
    "duration": 9705,
    "start_time": "2021-07-08T17:27:06.305Z"
   },
   {
    "duration": 183,
    "start_time": "2021-07-08T17:27:21.185Z"
   },
   {
    "duration": 1693956,
    "start_time": "2021-07-08T17:27:26.305Z"
   },
   {
    "duration": 8,
    "start_time": "2021-07-08T17:55:45.655Z"
   },
   {
    "duration": 36792,
    "start_time": "2021-07-08T17:55:51.443Z"
   },
   {
    "duration": 125324,
    "start_time": "2021-07-08T17:57:17.122Z"
   },
   {
    "duration": 432,
    "start_time": "2021-07-08T18:04:25.043Z"
   },
   {
    "duration": 8,
    "start_time": "2021-07-08T18:04:36.274Z"
   },
   {
    "duration": 340,
    "start_time": "2021-07-08T18:04:37.062Z"
   },
   {
    "duration": 116,
    "start_time": "2021-07-08T18:04:37.973Z"
   },
   {
    "duration": 400,
    "start_time": "2021-07-08T18:04:38.510Z"
   },
   {
    "duration": 49845,
    "start_time": "2021-07-08T18:04:39.506Z"
   },
   {
    "duration": 348432,
    "start_time": "2021-07-08T18:05:33.219Z"
   },
   {
    "duration": 8,
    "start_time": "2021-07-08T18:12:03.114Z"
   },
   {
    "duration": 48462,
    "start_time": "2021-07-08T18:12:18.698Z"
   },
   {
    "duration": 1194,
    "start_time": "2021-07-08T18:17:47.621Z"
   },
   {
    "duration": 734,
    "start_time": "2021-07-08T18:17:48.817Z"
   },
   {
    "duration": 14,
    "start_time": "2021-07-08T18:17:49.553Z"
   },
   {
    "duration": 122,
    "start_time": "2021-07-08T18:17:49.569Z"
   },
   {
    "duration": 96,
    "start_time": "2021-07-08T18:17:49.693Z"
   },
   {
    "duration": 4,
    "start_time": "2021-07-08T18:17:49.790Z"
   },
   {
    "duration": 6,
    "start_time": "2021-07-08T18:17:49.795Z"
   },
   {
    "duration": 6,
    "start_time": "2021-07-08T18:17:49.803Z"
   },
   {
    "duration": 47,
    "start_time": "2021-07-08T18:17:49.811Z"
   },
   {
    "duration": 9,
    "start_time": "2021-07-08T18:17:49.860Z"
   },
   {
    "duration": 28,
    "start_time": "2021-07-08T18:17:49.871Z"
   },
   {
    "duration": 4,
    "start_time": "2021-07-08T18:17:49.901Z"
   },
   {
    "duration": 4,
    "start_time": "2021-07-08T18:17:49.906Z"
   },
   {
    "duration": 102,
    "start_time": "2021-07-08T18:17:49.911Z"
   },
   {
    "duration": 33,
    "start_time": "2021-07-08T18:17:50.015Z"
   },
   {
    "duration": 30,
    "start_time": "2021-07-08T18:17:50.049Z"
   },
   {
    "duration": 32,
    "start_time": "2021-07-08T18:17:50.081Z"
   },
   {
    "duration": 48,
    "start_time": "2021-07-08T18:17:50.114Z"
   },
   {
    "duration": 32,
    "start_time": "2021-07-08T18:17:50.163Z"
   },
   {
    "duration": 102,
    "start_time": "2021-07-08T18:17:50.197Z"
   },
   {
    "duration": 59,
    "start_time": "2021-07-08T18:17:50.301Z"
   },
   {
    "duration": 4,
    "start_time": "2021-07-08T18:17:50.362Z"
   },
   {
    "duration": 473,
    "start_time": "2021-07-08T18:17:50.369Z"
   },
   {
    "duration": 292,
    "start_time": "2021-07-08T18:17:50.844Z"
   },
   {
    "duration": 20,
    "start_time": "2021-07-08T18:17:51.138Z"
   },
   {
    "duration": 497,
    "start_time": "2021-07-08T18:17:51.160Z"
   },
   {
    "duration": 308,
    "start_time": "2021-07-08T18:17:51.659Z"
   },
   {
    "duration": 17,
    "start_time": "2021-07-08T18:17:51.969Z"
   },
   {
    "duration": 493,
    "start_time": "2021-07-08T18:17:51.988Z"
   },
   {
    "duration": 258,
    "start_time": "2021-07-08T18:17:52.483Z"
   },
   {
    "duration": 10,
    "start_time": "2021-07-08T18:17:52.743Z"
   },
   {
    "duration": 24,
    "start_time": "2021-07-08T18:17:52.754Z"
   },
   {
    "duration": 563,
    "start_time": "2021-07-08T18:17:52.780Z"
   },
   {
    "duration": 279,
    "start_time": "2021-07-08T18:17:53.345Z"
   },
   {
    "duration": 275,
    "start_time": "2021-07-08T18:17:53.626Z"
   },
   {
    "duration": 20,
    "start_time": "2021-07-08T18:17:53.902Z"
   },
   {
    "duration": 3,
    "start_time": "2021-07-08T18:17:53.923Z"
   },
   {
    "duration": 3504,
    "start_time": "2021-07-08T18:17:53.940Z"
   },
   {
    "duration": 23,
    "start_time": "2021-07-08T18:17:57.445Z"
   },
   {
    "duration": 4,
    "start_time": "2021-07-08T18:17:57.470Z"
   },
   {
    "duration": 114,
    "start_time": "2021-07-08T18:17:57.475Z"
   },
   {
    "duration": 3,
    "start_time": "2021-07-08T18:17:57.590Z"
   },
   {
    "duration": 128,
    "start_time": "2021-07-08T18:17:57.595Z"
   },
   {
    "duration": 20,
    "start_time": "2021-07-08T18:17:57.724Z"
   },
   {
    "duration": 3,
    "start_time": "2021-07-08T18:17:57.746Z"
   },
   {
    "duration": 17,
    "start_time": "2021-07-08T18:17:57.750Z"
   },
   {
    "duration": 50,
    "start_time": "2021-07-08T18:17:57.768Z"
   },
   {
    "duration": 2,
    "start_time": "2021-07-08T18:17:57.820Z"
   },
   {
    "duration": 86,
    "start_time": "2021-07-08T18:17:57.824Z"
   },
   {
    "duration": 3581,
    "start_time": "2021-07-08T18:17:57.911Z"
   },
   {
    "duration": 6,
    "start_time": "2021-07-08T18:18:01.494Z"
   },
   {
    "duration": 281,
    "start_time": "2021-07-08T18:18:01.502Z"
   },
   {
    "duration": 856,
    "start_time": "2021-07-08T18:18:00.929Z"
   },
   {
    "duration": 847,
    "start_time": "2021-07-08T18:18:00.938Z"
   },
   {
    "duration": 846,
    "start_time": "2021-07-08T18:18:00.940Z"
   },
   {
    "duration": 844,
    "start_time": "2021-07-08T18:18:00.943Z"
   },
   {
    "duration": 843,
    "start_time": "2021-07-08T18:18:00.945Z"
   },
   {
    "duration": 842,
    "start_time": "2021-07-08T18:18:00.947Z"
   },
   {
    "duration": 841,
    "start_time": "2021-07-08T18:18:00.949Z"
   },
   {
    "duration": 840,
    "start_time": "2021-07-08T18:18:00.951Z"
   },
   {
    "duration": 839,
    "start_time": "2021-07-08T18:18:00.953Z"
   },
   {
    "duration": 838,
    "start_time": "2021-07-08T18:18:00.955Z"
   },
   {
    "duration": 837,
    "start_time": "2021-07-08T18:18:00.957Z"
   },
   {
    "duration": 836,
    "start_time": "2021-07-08T18:18:00.959Z"
   },
   {
    "duration": 831,
    "start_time": "2021-07-08T18:18:00.965Z"
   },
   {
    "duration": 826,
    "start_time": "2021-07-08T18:18:00.971Z"
   },
   {
    "duration": 822,
    "start_time": "2021-07-08T18:18:00.975Z"
   },
   {
    "duration": 820,
    "start_time": "2021-07-08T18:18:00.978Z"
   },
   {
    "duration": 818,
    "start_time": "2021-07-08T18:18:00.981Z"
   },
   {
    "duration": 816,
    "start_time": "2021-07-08T18:18:00.984Z"
   },
   {
    "duration": 814,
    "start_time": "2021-07-08T18:18:00.987Z"
   },
   {
    "duration": 813,
    "start_time": "2021-07-08T18:18:00.989Z"
   },
   {
    "duration": 811,
    "start_time": "2021-07-08T18:18:00.992Z"
   },
   {
    "duration": 810,
    "start_time": "2021-07-08T18:18:00.994Z"
   },
   {
    "duration": 809,
    "start_time": "2021-07-08T18:18:00.996Z"
   },
   {
    "duration": 807,
    "start_time": "2021-07-08T18:18:00.999Z"
   },
   {
    "duration": 1100,
    "start_time": "2021-07-08T18:18:34.390Z"
   },
   {
    "duration": 698,
    "start_time": "2021-07-08T18:18:35.492Z"
   },
   {
    "duration": 14,
    "start_time": "2021-07-08T18:18:36.193Z"
   },
   {
    "duration": 118,
    "start_time": "2021-07-08T18:18:36.209Z"
   },
   {
    "duration": 89,
    "start_time": "2021-07-08T18:18:36.328Z"
   },
   {
    "duration": 4,
    "start_time": "2021-07-08T18:18:36.418Z"
   },
   {
    "duration": 10,
    "start_time": "2021-07-08T18:18:36.423Z"
   },
   {
    "duration": 4,
    "start_time": "2021-07-08T18:18:36.442Z"
   },
   {
    "duration": 38,
    "start_time": "2021-07-08T18:18:36.448Z"
   },
   {
    "duration": 21,
    "start_time": "2021-07-08T18:18:36.488Z"
   },
   {
    "duration": 46,
    "start_time": "2021-07-08T18:18:36.510Z"
   },
   {
    "duration": 14,
    "start_time": "2021-07-08T18:18:36.558Z"
   },
   {
    "duration": 8,
    "start_time": "2021-07-08T18:18:36.574Z"
   },
   {
    "duration": 121,
    "start_time": "2021-07-08T18:18:36.584Z"
   },
   {
    "duration": 34,
    "start_time": "2021-07-08T18:18:36.707Z"
   },
   {
    "duration": 31,
    "start_time": "2021-07-08T18:18:36.743Z"
   },
   {
    "duration": 35,
    "start_time": "2021-07-08T18:18:36.775Z"
   },
   {
    "duration": 41,
    "start_time": "2021-07-08T18:18:36.812Z"
   },
   {
    "duration": 34,
    "start_time": "2021-07-08T18:18:36.854Z"
   },
   {
    "duration": 92,
    "start_time": "2021-07-08T18:18:36.889Z"
   },
   {
    "duration": 49,
    "start_time": "2021-07-08T18:18:36.982Z"
   },
   {
    "duration": 9,
    "start_time": "2021-07-08T18:18:37.032Z"
   },
   {
    "duration": 465,
    "start_time": "2021-07-08T18:18:37.042Z"
   },
   {
    "duration": 281,
    "start_time": "2021-07-08T18:18:37.508Z"
   },
   {
    "duration": 19,
    "start_time": "2021-07-08T18:18:37.790Z"
   },
   {
    "duration": 442,
    "start_time": "2021-07-08T18:18:37.813Z"
   },
   {
    "duration": 305,
    "start_time": "2021-07-08T18:18:38.257Z"
   },
   {
    "duration": 17,
    "start_time": "2021-07-08T18:18:38.564Z"
   },
   {
    "duration": 501,
    "start_time": "2021-07-08T18:18:38.582Z"
   },
   {
    "duration": 255,
    "start_time": "2021-07-08T18:18:39.085Z"
   },
   {
    "duration": 11,
    "start_time": "2021-07-08T18:18:39.342Z"
   },
   {
    "duration": 25,
    "start_time": "2021-07-08T18:18:39.354Z"
   },
   {
    "duration": 473,
    "start_time": "2021-07-08T18:18:39.380Z"
   },
   {
    "duration": 255,
    "start_time": "2021-07-08T18:18:39.855Z"
   },
   {
    "duration": 239,
    "start_time": "2021-07-08T18:18:40.111Z"
   },
   {
    "duration": 18,
    "start_time": "2021-07-08T18:18:40.351Z"
   },
   {
    "duration": 2,
    "start_time": "2021-07-08T18:18:40.370Z"
   },
   {
    "duration": 3448,
    "start_time": "2021-07-08T18:18:40.374Z"
   },
   {
    "duration": 27,
    "start_time": "2021-07-08T18:18:43.824Z"
   },
   {
    "duration": 4,
    "start_time": "2021-07-08T18:18:43.853Z"
   },
   {
    "duration": 110,
    "start_time": "2021-07-08T18:18:43.858Z"
   },
   {
    "duration": 3,
    "start_time": "2021-07-08T18:18:43.970Z"
   },
   {
    "duration": 130,
    "start_time": "2021-07-08T18:18:43.974Z"
   },
   {
    "duration": 16,
    "start_time": "2021-07-08T18:18:44.106Z"
   },
   {
    "duration": 3,
    "start_time": "2021-07-08T18:18:44.124Z"
   },
   {
    "duration": 22,
    "start_time": "2021-07-08T18:18:44.128Z"
   },
   {
    "duration": 49,
    "start_time": "2021-07-08T18:18:44.151Z"
   },
   {
    "duration": 2,
    "start_time": "2021-07-08T18:18:44.201Z"
   },
   {
    "duration": 83,
    "start_time": "2021-07-08T18:18:44.205Z"
   },
   {
    "duration": 251165,
    "start_time": "2021-07-08T18:18:44.289Z"
   },
   {
    "duration": 9,
    "start_time": "2021-07-08T18:22:55.456Z"
   },
   {
    "duration": 17696,
    "start_time": "2021-07-08T18:22:55.467Z"
   },
   {
    "duration": 490403,
    "start_time": "2021-07-08T18:23:13.165Z"
   },
   {
    "duration": 8,
    "start_time": "2021-07-08T18:31:23.641Z"
   },
   {
    "duration": 127304,
    "start_time": "2021-07-08T18:31:23.650Z"
   },
   {
    "duration": 8,
    "start_time": "2021-07-08T18:33:30.955Z"
   },
   {
    "duration": 405,
    "start_time": "2021-07-08T18:33:30.965Z"
   },
   {
    "duration": 124,
    "start_time": "2021-07-08T18:33:31.371Z"
   },
   {
    "duration": 406,
    "start_time": "2021-07-08T18:33:31.496Z"
   },
   {
    "duration": 344296,
    "start_time": "2021-07-08T18:33:31.904Z"
   },
   {
    "duration": 8,
    "start_time": "2021-07-08T18:39:16.202Z"
   },
   {
    "duration": 48621,
    "start_time": "2021-07-08T18:39:16.211Z"
   },
   {
    "duration": 8,
    "start_time": "2021-07-08T18:40:04.833Z"
   },
   {
    "duration": 8,
    "start_time": "2021-07-08T18:40:04.843Z"
   },
   {
    "duration": 31099,
    "start_time": "2021-07-08T18:40:04.852Z"
   },
   {
    "duration": 243,
    "start_time": "2021-07-08T18:40:35.953Z"
   },
   {
    "duration": 249,
    "start_time": "2021-07-08T18:40:36.198Z"
   },
   {
    "duration": 860,
    "start_time": "2021-07-08T18:40:35.589Z"
   },
   {
    "duration": 858,
    "start_time": "2021-07-08T18:40:35.592Z"
   },
   {
    "duration": 857,
    "start_time": "2021-07-08T18:40:35.594Z"
   },
   {
    "duration": 855,
    "start_time": "2021-07-08T18:40:35.597Z"
   },
   {
    "duration": 854,
    "start_time": "2021-07-08T18:40:35.599Z"
   },
   {
    "duration": 853,
    "start_time": "2021-07-08T18:40:35.601Z"
   },
   {
    "duration": 851,
    "start_time": "2021-07-08T18:40:35.604Z"
   },
   {
    "duration": 850,
    "start_time": "2021-07-08T18:40:35.606Z"
   },
   {
    "duration": 848,
    "start_time": "2021-07-08T18:40:35.609Z"
   },
   {
    "duration": 8089,
    "start_time": "2021-07-08T18:43:35.797Z"
   },
   {
    "duration": 252,
    "start_time": "2021-07-08T18:44:41.200Z"
   },
   {
    "duration": 372,
    "start_time": "2021-07-08T18:44:51.453Z"
   },
   {
    "duration": 2,
    "start_time": "2021-07-08T18:45:04.469Z"
   },
   {
    "duration": 248279,
    "start_time": "2021-07-08T18:45:06.213Z"
   },
   {
    "duration": 145,
    "start_time": "2021-07-08T18:49:21.305Z"
   },
   {
    "duration": 295,
    "start_time": "2021-07-08T18:49:22.633Z"
   },
   {
    "duration": 3,
    "start_time": "2021-07-08T18:49:34.692Z"
   },
   {
    "duration": 198959,
    "start_time": "2021-07-08T18:49:35.309Z"
   },
   {
    "duration": 452,
    "start_time": "2021-07-08T18:52:59.273Z"
   },
   {
    "duration": 332,
    "start_time": "2021-07-08T18:53:00.600Z"
   },
   {
    "duration": 12,
    "start_time": "2021-07-08T18:55:52.236Z"
   }
  ],
  "kernelspec": {
   "display_name": "Python 3",
   "language": "python",
   "name": "python3"
  },
  "language_info": {
   "codemirror_mode": {
    "name": "ipython",
    "version": 3
   },
   "file_extension": ".py",
   "mimetype": "text/x-python",
   "name": "python",
   "nbconvert_exporter": "python",
   "pygments_lexer": "ipython3",
   "version": "3.7.10"
  },
  "toc": {
   "base_numbering": 1,
   "nav_menu": {},
   "number_sections": true,
   "sideBar": true,
   "skip_h1_title": true,
   "title_cell": "Содержание",
   "title_sidebar": "Contents",
   "toc_cell": true,
   "toc_position": {},
   "toc_section_display": true,
   "toc_window_display": false
  }
 },
 "nbformat": 4,
 "nbformat_minor": 2
}
